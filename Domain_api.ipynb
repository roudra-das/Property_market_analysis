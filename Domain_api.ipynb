{
 "metadata": {
  "language_info": {
   "codemirror_mode": {
    "name": "ipython",
    "version": 3
   },
   "file_extension": ".py",
   "mimetype": "text/x-python",
   "name": "python",
   "nbconvert_exporter": "python",
   "pygments_lexer": "ipython3",
   "version": "3.8.6"
  },
  "orig_nbformat": 2,
  "kernelspec": {
   "name": "python3",
   "display_name": "Python 3",
   "language": "python"
  }
 },
 "nbformat": 4,
 "nbformat_minor": 2,
 "cells": [
  {
   "source": [
    "#  Extracting data on Sold properties with Domain api\n",
    "\n",
    "## Overview\n",
    "| Detail Tag            | Information                                                                                        |\n",
    "|-----------------------|----------------------------------------------------------------------------------------------------|\n",
    "| Originally Created By | Roudra Das    roudra.das@gmail.com                                            |\n",
    "| External References   | <a href=\"https://api.domain.com.au/\" target=\"_blank\">Domain API</a>|\n",
    "| Input Datasets        |  List For Sale |\n",
    "| Output Datasets       |  Table|\n",
    "| Input Data Source     |  API |\n",
    "| Output Data Source    | Pandas Dataframe |\n",
    "\n",
    "## History\n",
    "| Date         | Developed By  | Reason                                                |\n",
    "|--------------|---------------|-------------------------------------------------------|\n",
    "| 15th May 2021 | Roudra Das | Notebook created to extract properties that are on the market in Australia|\n",
    "\n",
    "## Other Details\n",
    "This Notebook is a prototype."
   ],
   "cell_type": "markdown",
   "metadata": {}
  },
  {
   "cell_type": "code",
   "execution_count": 75,
   "metadata": {},
   "outputs": [],
   "source": [
    "\n",
    "import pandas as pd\n",
    "import requests\n",
    "import json\n",
    "import re, string, timeit\n",
    "import time\n"
   ]
  },
  {
   "cell_type": "code",
   "execution_count": 76,
   "metadata": {},
   "outputs": [],
   "source": [
    "pd.options.display.max_columns = None # show all columns in display"
   ]
  },
  {
   "source": [
    "## Functions"
   ],
   "cell_type": "markdown",
   "metadata": {}
  },
  {
   "cell_type": "code",
   "execution_count": 77,
   "metadata": {},
   "outputs": [],
   "source": [
    "def get_api_key(api_key_id = \"Domain\"):\n",
    "  \"\"\"\n",
    "  Get the api key for website accessing.\n",
    "\n",
    "  Table of key type and key value for privacy.\n",
    "\n",
    "  Parameters\n",
    "  ----------\n",
    "  @api_key_id [string]: Key value in dataframe\n",
    "\n",
    "  Returns\n",
    "  -------\n",
    "  [string]: client_id & client_secret\n",
    "\n",
    "  \"\"\"\n",
    "  # load api keys file\n",
    "  df_api_keys = pd.read_csv('~/Documents/Python/api_keys.csv', header = 'infer')\n",
    "  \n",
    "  # return api key if in dataset\n",
    "  try:\n",
    "    # get api key from id\n",
    "    client_id = df_api_keys.loc[df_api_keys['Id'] == api_key_id]['Client'].iloc[0] # get client by id\n",
    "    client_secret = df_api_keys.loc[df_api_keys['Id'] == api_key_id]['Secret'].iloc[0] # get secret by id\n",
    "    # return api key\n",
    "    return client_id, client_secret\n",
    "  except IndexError:\n",
    "    # get api key id list\n",
    "    api_key_id_list = df_api_keys['Id'].unique().tolist()\n",
    "    # print error message\n",
    "    print('Cannot map key. Api key id must be one of the following options {0}'.format(api_key_id_list))"
   ]
  },
  {
   "cell_type": "code",
   "execution_count": 78,
   "metadata": {},
   "outputs": [],
   "source": [
    "def api_property_list_for_sale(auth, property_type, bedrooms, bathrooms, suburb, postcode):\n",
    "  # url for api\n",
    "  url = \"https://api.domain.com.au/v1/listings/residential/_search\"\n",
    "\n",
    "  # enter parameters\n",
    "  post_fields ={\n",
    "      \"listingType\":\"Sale\",\n",
    "        \"maxPrice\":\"\",\n",
    "        \"pageSize\":200,\n",
    "      \"propertyTypes\":property_type,\n",
    "      \"minBedrooms\":\"\",\n",
    "        \"maxBedrooms\":\"\",\n",
    "      \"minBathrooms\":\"\",\n",
    "        \"maxBathrooms\":\"\",\n",
    "      \"locations\":[\n",
    "        {\n",
    "          \"state\":\"\",\n",
    "          \"region\":\"\",\n",
    "          \"area\":\"\",\n",
    "          \"suburb\":suburb,\n",
    "          \"postCode\":postcode,\n",
    "          \"includeSurroundingSuburbs\":False\n",
    "        }\n",
    "      ]\n",
    "    }\n",
    "\n",
    "  # response\n",
    "  response = requests.post(url,headers=auth,json=post_fields)\n",
    "  #response = requests.request(\"GET\", url, headers=headers, params=querystring)\n",
    "  return response.json()"
   ]
  },
  {
   "cell_type": "code",
   "execution_count": 79,
   "metadata": {},
   "outputs": [],
   "source": [
    "def process_list_for_sale_response(response_json):\n",
    "    \"\"\"\n",
    "    Process the list for sale API response.\n",
    "\n",
    "    Convert each listing to a dataframe, append to a list, and concatenate to one dataframe.\n",
    "\n",
    "    Parameters\n",
    "    ----------\n",
    "    @response_json [dictionary]: API response for list for sale\n",
    "\n",
    "    Returns\n",
    "    -------\n",
    "    [dataframe] Dataframe of all list for sale responses\n",
    "\n",
    "    \"\"\"\n",
    "\n",
    "    # empty dataframe\n",
    "    dataframe_list = []\n",
    "\n",
    "    # iterate through each for sale listing\n",
    "    for j in range(len(response_json)):\n",
    "        #response_json[j]['listing']['propertyDetails'].pop('features')\n",
    "        k = response_json[j]['listing']['propertyDetails'].copy()\n",
    "        k['id']  = response_json[j]['listing']['id']\n",
    "        print(k)\n",
    "        # convert each listing to dataframe \n",
    "        _temp_df = pd.DataFrame.from_dict(k, orient='index').T\n",
    "\n",
    "        # append to dataframe list for all listings\n",
    "        dataframe_list.append(_temp_df)\n",
    "    \n",
    "        # concatenate all dataframes, for missing col values enter null value\n",
    "    return pd.concat(dataframe_list, axis=0, ignore_index=True, sort=False)"
   ]
  },
  {
   "cell_type": "code",
   "execution_count": 80,
   "metadata": {},
   "outputs": [],
   "source": [
    "# setup\n",
    "property_id=\"2016858650\"\n",
    "starting_max_price=100000\n",
    "increment=50000\n",
    "# when starting min price is zero we'll just use the lower bound plus 400k later on\n",
    "starting_min_price=0"
   ]
  },
  {
   "cell_type": "code",
   "execution_count": 81,
   "metadata": {},
   "outputs": [],
   "source": [
    "# POST request for token\n",
    "client_id, client_secret = get_api_key(api_key_id=\"Domain\")\n",
    "response = requests.post('https://auth.domain.com.au/v1/connect/token', data = {'client_id':client_id,\"client_secret\":client_secret,\"grant_type\":\"client_credentials\",\"scope\":\"api_listings_read\",\"Content-Type\":\"text/json\"})\n",
    "token=response.json()\n",
    "access_token=token[\"access_token\"]"
   ]
  },
  {
   "cell_type": "code",
   "execution_count": 82,
   "metadata": {},
   "outputs": [],
   "source": [
    "#domain_api_key = get_api_key(api_key_id = \"Domain\")\n",
    "# GET Request for ID\n",
    "url = \"https://api.domain.com.au/v1/listings/\"+property_id\n",
    "auth = {\"Authorization\":\"Bearer \"+access_token}\n",
    "request = requests.get(url,headers=auth)\n",
    "r=request.json()"
   ]
  },
  {
   "cell_type": "code",
   "execution_count": 83,
   "metadata": {},
   "outputs": [
    {
     "output_type": "stream",
     "name": "stdout",
     "text": [
      "['house'] 2641 Lavington 4.0 2.0 2.0 711.0 {'latitude': -36.0284049, 'longitude': 146.94486}\nhouse\n"
     ]
    }
   ],
   "source": [
    "#get details\n",
    "da=r['addressParts']\n",
    "postcode=da['postcode']\n",
    "suburb=da['suburb']\n",
    "bathrooms=r['bathrooms']\n",
    "bedrooms=r['bedrooms']\n",
    "carspaces=r['carspaces']\n",
    "property_type=r['propertyTypes']\n",
    "area=r['landAreaSqm']\n",
    "geolocation=r['geoLocation']\n",
    "\n",
    "print(property_type, postcode, suburb, bedrooms, bathrooms,  carspaces, area, geolocation)\n",
    "\n",
    "# the below puts all relevant property types into a single string. eg. a property listing can be a 'house' and a 'townhouse'\n",
    "n=0\n",
    "property_type_str=\"\"\n",
    "for p in r['propertyTypes']:\n",
    "  property_type_str=property_type_str+(r['propertyTypes'][int(n)])\n",
    "  n=n+1\n",
    "print(property_type_str) "
   ]
  },
  {
   "cell_type": "code",
   "execution_count": 84,
   "metadata": {
    "tags": []
   },
   "outputs": [
    {
     "output_type": "execute_result",
     "data": {
      "text/plain": [
       "[{'type': 'PropertyListing',\n",
       "  'listing': {'listingType': 'Sale',\n",
       "   'id': 2016990302,\n",
       "   'advertiser': {'type': 'Agency',\n",
       "    'id': 11631,\n",
       "    'name': 'Stean Nicholls Pty Ltd',\n",
       "    'logoUrl': 'https://images.domain.com.au/img/Agencys/11631/logo_11631.GIF',\n",
       "    'preferredColourHex': '#000033',\n",
       "    'bannerUrl': 'https://images.domain.com.au/img/Agencys/11631/banner_11631.GIF',\n",
       "    'contacts': [{'name': 'Jack Stean',\n",
       "      'photoUrl': 'https://images.domain.com.au/img/11631/contact_1400351.jpeg?mod=210514-135226'},\n",
       "     {'name': 'Mikaela Gould',\n",
       "      'photoUrl': 'https://images.domain.com.au/img/11631/contact_1794690.jpeg?mod=210510-145920'}]},\n",
       "   'priceDetails': {'displayPrice': 'Auction Saturday 29th May at 10am'},\n",
       "   'media': [{'category': 'Image',\n",
       "     'url': 'https://bucket-api.domain.com.au/v1/bucket/image/2016990302_1_1_210507_043526-w2500-h1667'},\n",
       "    {'category': 'Image',\n",
       "     'url': 'https://bucket-api.domain.com.au/v1/bucket/image/2016990302_2_1_210507_043526-w2500-h1667'},\n",
       "    {'category': 'Image',\n",
       "     'url': 'https://bucket-api.domain.com.au/v1/bucket/image/2016990302_3_1_210507_043525-w2500-h1667'},\n",
       "    {'category': 'Image',\n",
       "     'url': 'https://bucket-api.domain.com.au/v1/bucket/image/2016990302_4_1_210507_043526-w2500-h1667'},\n",
       "    {'category': 'Image',\n",
       "     'url': 'https://bucket-api.domain.com.au/v1/bucket/image/2016990302_5_1_210507_043525-w2500-h1667'}],\n",
       "   'propertyDetails': {'state': 'NSW',\n",
       "    'features': ['BuiltInWardrobes', 'Ensuite', 'Heating', 'Study', 'Shed'],\n",
       "    'propertyType': 'House',\n",
       "    'allPropertyTypes': ['House'],\n",
       "    'bathrooms': 3.0,\n",
       "    'bedrooms': 8.0,\n",
       "    'carspaces': 2,\n",
       "    'unitNumber': '',\n",
       "    'streetNumber': '453',\n",
       "    'street': 'Dale Crescent',\n",
       "    'area': 'Albury - Greater Region',\n",
       "    'region': 'Regional NSW',\n",
       "    'suburb': 'LAVINGTON',\n",
       "    'postcode': '2641',\n",
       "    'displayableAddress': '453 Dale Crescent, Lavington',\n",
       "    'latitude': -36.0435524,\n",
       "    'longitude': 146.949036,\n",
       "    'landArea': 910.0},\n",
       "   'headline': 'Superb And Spacious',\n",
       "   'summaryDescription': '<b></b><br />Peacefully nestled at the rear of the court on 910sqm (approx.), 453 Dale Crescent has been built to exacting standards. This tastefully presented, double storey brick home has been designed for spacious living suitable for large families....',\n",
       "   'hasFloorplan': True,\n",
       "   'hasVideo': False,\n",
       "   'labels': [],\n",
       "   'auctionSchedule': {'time': '2021-05-29T10:00:00',\n",
       "    'auctionLocation': 'On Site'},\n",
       "   'inspectionSchedule': {'byAppointment': False,\n",
       "    'recurring': False,\n",
       "    'times': [{'openingTime': '2021-05-15T09:45:00',\n",
       "      'closingTime': '2021-05-15T10:15:00'}]},\n",
       "   'listingSlug': '453-dale-crescent-lavington-nsw-2641-2016990302'}},\n",
       " {'type': 'PropertyListing',\n",
       "  'listing': {'listingType': 'Sale',\n",
       "   'id': 2016987771,\n",
       "   'advertiser': {'type': 'Agency',\n",
       "    'id': 11909,\n",
       "    'name': 'Wood Real Estate',\n",
       "    'logoUrl': 'https://images.domain.com.au/img/Agencys/11909/logo_11909.jpeg',\n",
       "    'preferredColourHex': '#00197e',\n",
       "    'bannerUrl': 'https://images.domain.com.au/img/Agencys/11909/banner_11909.jpeg',\n",
       "    'contacts': [{'name': 'Greg Wood',\n",
       "      'photoUrl': 'https://images.domain.com.au/img/11909/contact_1577278.jpeg?mod=210510-142025'}]},\n",
       "   'priceDetails': {'displayPrice': '$369,000'},\n",
       "   'media': [{'category': 'Image',\n",
       "     'url': 'https://bucket-api.domain.com.au/v1/bucket/image/2016987771_1_1_210506_060248-w1200-h800'},\n",
       "    {'category': 'Image',\n",
       "     'url': 'https://bucket-api.domain.com.au/v1/bucket/image/2016987771_2_1_210506_060248-w1200-h800'},\n",
       "    {'category': 'Image',\n",
       "     'url': 'https://bucket-api.domain.com.au/v1/bucket/image/2016987771_3_1_210506_060248-w1200-h800'},\n",
       "    {'category': 'Image',\n",
       "     'url': 'https://bucket-api.domain.com.au/v1/bucket/image/2016987771_4_1_210506_060248-w1200-h800'},\n",
       "    {'category': 'Image',\n",
       "     'url': 'https://bucket-api.domain.com.au/v1/bucket/image/2016987771_5_1_210506_060248-w1200-h798'}],\n",
       "   'propertyDetails': {'state': 'NSW',\n",
       "    'features': ['BuiltInWardrobes', 'Gas', 'SwimmingPool', 'Heating', 'Shed'],\n",
       "    'propertyType': 'House',\n",
       "    'allPropertyTypes': ['House'],\n",
       "    'bathrooms': 2.0,\n",
       "    'bedrooms': 4.0,\n",
       "    'carspaces': 2,\n",
       "    'unitNumber': '',\n",
       "    'streetNumber': '388',\n",
       "    'street': 'Robert Crt',\n",
       "    'area': 'Albury - Greater Region',\n",
       "    'region': 'Regional NSW',\n",
       "    'suburb': 'LAVINGTON',\n",
       "    'postcode': '2641',\n",
       "    'displayableAddress': '388 Robert Crt, Lavington',\n",
       "    'latitude': -36.0467453,\n",
       "    'longitude': 146.935226,\n",
       "    'landArea': 912.0},\n",
       "   'headline': \"Perfectly Positioned on 912sqm's\",\n",
       "   'summaryDescription': \"<b></b><br />Perfectly Positioned on 912sqm's\\n\\nQuiet, private court location within a stones throw to Lavington Shopping Centre with loads of opportunity.\\n\\nAn ideal renovator, first home, development options or investment. The property has been in the ...\",\n",
       "   'hasFloorplan': False,\n",
       "   'hasVideo': False,\n",
       "   'labels': ['Under offer'],\n",
       "   'inspectionSchedule': {'byAppointment': True,\n",
       "    'recurring': False,\n",
       "    'times': []},\n",
       "   'listingSlug': '388-robert-crt-lavington-nsw-2641-2016987771'}},\n",
       " {'type': 'PropertyListing',\n",
       "  'listing': {'listingType': 'Sale',\n",
       "   'id': 2016986063,\n",
       "   'advertiser': {'type': 'Agency',\n",
       "    'id': 11859,\n",
       "    'name': 'Chapman Gould & May Real Estate',\n",
       "    'logoUrl': 'https://images.domain.com.au/img/Agencys/11859/logo_11859.jpeg?date=132369381120544959',\n",
       "    'preferredColourHex': '#fff',\n",
       "    'bannerUrl': 'https://images.domain.com.au/img/Agencys/11859/banner_11859.jpeg',\n",
       "    'contacts': [{'name': 'Grahame Gould',\n",
       "      'photoUrl': 'https://images.domain.com.au/img/11859/contact_983957.jpeg?mod=210513-123938'},\n",
       "     {'name': 'Aaron Downie',\n",
       "      'photoUrl': 'https://images.domain.com.au/img/11859/contact_1803593.jpeg?mod=210513-123938'}]},\n",
       "   'priceDetails': {'price': 490000,\n",
       "    'priceFrom': 490000,\n",
       "    'priceTo': 490000,\n",
       "    'displayPrice': '$490,000'},\n",
       "   'media': [{'category': 'Image',\n",
       "     'url': 'https://bucket-api.domain.com.au/v1/bucket/image/2016986063_1_1_210506_011003-w1024-h683'},\n",
       "    {'category': 'Image',\n",
       "     'url': 'https://bucket-api.domain.com.au/v1/bucket/image/2016986063_2_1_210506_011003-w8192-h5464'},\n",
       "    {'category': 'Image',\n",
       "     'url': 'https://bucket-api.domain.com.au/v1/bucket/image/2016986063_3_1_210506_011003-w8192-h5464'},\n",
       "    {'category': 'Image',\n",
       "     'url': 'https://bucket-api.domain.com.au/v1/bucket/image/2016986063_4_1_210506_011003-w8192-h5464'},\n",
       "    {'category': 'Image',\n",
       "     'url': 'https://bucket-api.domain.com.au/v1/bucket/image/2016986063_5_1_210506_011003-w8192-h5464'}],\n",
       "   'propertyDetails': {'state': 'NSW',\n",
       "    'features': ['Ensuite', 'SecureParking', 'Heating', 'Shed', 'SolarPanels'],\n",
       "    'propertyType': 'House',\n",
       "    'allPropertyTypes': ['House'],\n",
       "    'bathrooms': 2.0,\n",
       "    'bedrooms': 4.0,\n",
       "    'carspaces': 2,\n",
       "    'unitNumber': '',\n",
       "    'streetNumber': '21',\n",
       "    'street': 'Valerie Way',\n",
       "    'area': 'Albury - Greater Region',\n",
       "    'region': 'Regional NSW',\n",
       "    'suburb': 'LAVINGTON',\n",
       "    'postcode': '2641',\n",
       "    'displayableAddress': '21 Valerie Way, Lavington',\n",
       "    'latitude': -36.0343132,\n",
       "    'longitude': 146.9419,\n",
       "    'landArea': 799.0},\n",
       "   'headline': 'Perfectly Presented Four Bedroom Family Home',\n",
       "   'summaryDescription': '<b></b><br />THE HOME\\n- Master bedroom with walk in robe and ensuite \\n- Bedrooms 2, 3 & 4 all with built in robes.\\n- Open plan informal living and dining area.\\n- Separate formal lounge room.\\n- Double lock up garage with remote and internal access.\\n- Co...',\n",
       "   'hasFloorplan': True,\n",
       "   'hasVideo': False,\n",
       "   'labels': [],\n",
       "   'inspectionSchedule': {'byAppointment': True,\n",
       "    'recurring': False,\n",
       "    'times': []},\n",
       "   'listingSlug': '21-valerie-way-lavington-nsw-2641-2016986063'}},\n",
       " {'type': 'PropertyListing',\n",
       "  'listing': {'listingType': 'Sale',\n",
       "   'id': 2016984656,\n",
       "   'advertiser': {'type': 'Agency',\n",
       "    'id': 32366,\n",
       "    'name': 'Que Property Group',\n",
       "    'logoUrl': 'https://images.domain.com.au/img/Agencys/32366/logo_32366.jpeg?date=132497021142090193',\n",
       "    'preferredColourHex': '#002639',\n",
       "    'bannerUrl': 'https://images.domain.com.au/img/Agencys/32366/banner_32366.png?date=132497021039903768',\n",
       "    'contacts': [{'name': 'Drew Cameron',\n",
       "      'photoUrl': 'https://images.domain.com.au/img/32366/contact_1635992.jpeg?mod=210513-112701'}]},\n",
       "   'priceDetails': {'displayPrice': 'Contact Agent'},\n",
       "   'media': [{'category': 'Image',\n",
       "     'url': 'https://bucket-api.domain.com.au/v1/bucket/image/2016984656_1_1_210505_064633-w1200-h800'},\n",
       "    {'category': 'Image',\n",
       "     'url': 'https://bucket-api.domain.com.au/v1/bucket/image/2016984656_2_1_210505_064633-w1200-h800'},\n",
       "    {'category': 'Image',\n",
       "     'url': 'https://bucket-api.domain.com.au/v1/bucket/image/2016984656_3_1_210505_064633-w1200-h800'},\n",
       "    {'category': 'Image',\n",
       "     'url': 'https://bucket-api.domain.com.au/v1/bucket/image/2016984656_4_1_210505_064633-w1200-h800'},\n",
       "    {'category': 'Image',\n",
       "     'url': 'https://bucket-api.domain.com.au/v1/bucket/image/2016984656_5_1_210505_064633-w1200-h800'}],\n",
       "   'propertyDetails': {'state': 'NSW',\n",
       "    'features': ['Ensuite', 'SecureParking', 'Shed'],\n",
       "    'propertyType': 'House',\n",
       "    'allPropertyTypes': ['House'],\n",
       "    'bathrooms': 2.0,\n",
       "    'bedrooms': 3.0,\n",
       "    'carspaces': 2,\n",
       "    'unitNumber': '',\n",
       "    'streetNumber': '53',\n",
       "    'street': 'Lawson Circuit',\n",
       "    'area': 'Albury - Greater Region',\n",
       "    'region': 'Regional NSW',\n",
       "    'suburb': 'LAVINGTON',\n",
       "    'postcode': '2641',\n",
       "    'displayableAddress': '53 Lawson Circuit, Lavington',\n",
       "    'latitude': -36.0435,\n",
       "    'longitude': 146.956757,\n",
       "    'landArea': 631.0},\n",
       "   'headline': 'Set and Forget Investment Opportunity',\n",
       "   'summaryDescription': '<b></b><br />Set on a spacious 630m2 allotment, this modern, spacious three bedroom family home is the ideal investment. \\n\\nLocated in a quiet family cul-de-sac, you can buy with confidence that you are buying in a premier location.\\n\\nDetails include\\n* T...',\n",
       "   'hasFloorplan': False,\n",
       "   'hasVideo': False,\n",
       "   'labels': [],\n",
       "   'inspectionSchedule': {'byAppointment': False,\n",
       "    'recurring': False,\n",
       "    'times': [{'openingTime': '2021-05-15T10:00:00',\n",
       "      'closingTime': '2021-05-15T10:30:00'}]},\n",
       "   'listingSlug': '53-lawson-circuit-lavington-nsw-2641-2016984656'}},\n",
       " {'type': 'PropertyListing',\n",
       "  'listing': {'listingType': 'Sale',\n",
       "   'id': 2016983014,\n",
       "   'advertiser': {'type': 'Agency',\n",
       "    'id': 19390,\n",
       "    'name': 'Brian Phegan Real Estate',\n",
       "    'logoUrl': 'https://images.domain.com.au/img/Agencys/19390/logo_19390.GIF',\n",
       "    'preferredColourHex': '#343530',\n",
       "    'bannerUrl': 'https://images.domain.com.au/img/Agencys/19390/banner_19390.GIF',\n",
       "    'contacts': [{'name': 'Brian Phegan',\n",
       "      'photoUrl': 'https://images.domain.com.au/img/19390/contact_984730.JPG?mod=210511-143205'}]},\n",
       "   'priceDetails': {'displayPrice': '$210,000'},\n",
       "   'media': [{'category': 'Image',\n",
       "     'url': 'https://bucket-api.domain.com.au/v1/bucket/image/2016983014_1_1_210505_024427-w1732-h1155'},\n",
       "    {'category': 'Image',\n",
       "     'url': 'https://bucket-api.domain.com.au/v1/bucket/image/2016983014_2_1_210505_024427-w1732-h1155'},\n",
       "    {'category': 'Image',\n",
       "     'url': 'https://bucket-api.domain.com.au/v1/bucket/image/2016983014_3_1_210505_024427-w1732-h1155'},\n",
       "    {'category': 'Image',\n",
       "     'url': 'https://bucket-api.domain.com.au/v1/bucket/image/2016983014_4_1_210505_024427-w1732-h1155'},\n",
       "    {'category': 'Image',\n",
       "     'url': 'https://bucket-api.domain.com.au/v1/bucket/image/2016983014_5_1_210505_024427-w1732-h1155'}],\n",
       "   'propertyDetails': {'state': 'NSW',\n",
       "    'features': ['AirConditioning',\n",
       "     'BuiltInWardrobes',\n",
       "     'Gas',\n",
       "     'SwimmingPool',\n",
       "     'Heating',\n",
       "     'Dishwasher',\n",
       "     'Study',\n",
       "     'Shed'],\n",
       "    'propertyType': 'House',\n",
       "    'allPropertyTypes': ['House'],\n",
       "    'bathrooms': 1.0,\n",
       "    'bedrooms': 2.0,\n",
       "    'carspaces': 1,\n",
       "    'unitNumber': '31',\n",
       "    'streetNumber': '7',\n",
       "    'street': 'Catherine Crescent',\n",
       "    'area': 'Albury - Greater Region',\n",
       "    'region': 'Regional NSW',\n",
       "    'suburb': 'LAVINGTON',\n",
       "    'postcode': '2641',\n",
       "    'displayableAddress': '31/7 Catherine Crescent, Lavington',\n",
       "    'latitude': -36.0411263,\n",
       "    'longitude': 146.958038},\n",
       "   'headline': 'Affordable Home in Albury Gardens Lifestyle, Retirement Living.',\n",
       "   'summaryDescription': '<b></b><br />Offering as  new presentation.  A welcoming alfresco with servery from the kitchen, makes an ideal place to gather and chat.  Eye catching vaulted ceilings add great interest to the  light and bright decor, Living areas are comfortable and...',\n",
       "   'hasFloorplan': True,\n",
       "   'hasVideo': False,\n",
       "   'labels': [],\n",
       "   'inspectionSchedule': {'byAppointment': True,\n",
       "    'recurring': False,\n",
       "    'times': []},\n",
       "   'listingSlug': '31-7-catherine-crescent-lavington-nsw-2641-2016983014'}}]"
      ]
     },
     "metadata": {},
     "execution_count": 84
    }
   ],
   "source": [
    "\n",
    "property_list_for_sale_response = api_property_list_for_sale(auth, property_type, bedrooms, bathrooms, suburb, postcode)\n",
    "property_list_for_sale_response[:5]"
   ]
  },
  {
   "cell_type": "code",
   "execution_count": 85,
   "metadata": {
    "tags": []
   },
   "outputs": [
    {
     "output_type": "stream",
     "name": "stdout",
     "text": [
      "{'state': 'NSW', 'features': ['BuiltInWardrobes', 'Ensuite', 'Heating', 'Study', 'Shed'], 'propertyType': 'House', 'allPropertyTypes': ['House'], 'bathrooms': 3.0, 'bedrooms': 8.0, 'carspaces': 2, 'unitNumber': '', 'streetNumber': '453', 'street': 'Dale Crescent', 'area': 'Albury - Greater Region', 'region': 'Regional NSW', 'suburb': 'LAVINGTON', 'postcode': '2641', 'displayableAddress': '453 Dale Crescent, Lavington', 'latitude': -36.0435524, 'longitude': 146.949036, 'landArea': 910.0, 'id': 2016990302}\n{'state': 'NSW', 'features': ['BuiltInWardrobes', 'Gas', 'SwimmingPool', 'Heating', 'Shed'], 'propertyType': 'House', 'allPropertyTypes': ['House'], 'bathrooms': 2.0, 'bedrooms': 4.0, 'carspaces': 2, 'unitNumber': '', 'streetNumber': '388', 'street': 'Robert Crt', 'area': 'Albury - Greater Region', 'region': 'Regional NSW', 'suburb': 'LAVINGTON', 'postcode': '2641', 'displayableAddress': '388 Robert Crt, Lavington', 'latitude': -36.0467453, 'longitude': 146.935226, 'landArea': 912.0, 'id': 2016987771}\n{'state': 'NSW', 'features': ['Ensuite', 'SecureParking', 'Heating', 'Shed', 'SolarPanels'], 'propertyType': 'House', 'allPropertyTypes': ['House'], 'bathrooms': 2.0, 'bedrooms': 4.0, 'carspaces': 2, 'unitNumber': '', 'streetNumber': '21', 'street': 'Valerie Way', 'area': 'Albury - Greater Region', 'region': 'Regional NSW', 'suburb': 'LAVINGTON', 'postcode': '2641', 'displayableAddress': '21 Valerie Way, Lavington', 'latitude': -36.0343132, 'longitude': 146.9419, 'landArea': 799.0, 'id': 2016986063}\n{'state': 'NSW', 'features': ['Ensuite', 'SecureParking', 'Shed'], 'propertyType': 'House', 'allPropertyTypes': ['House'], 'bathrooms': 2.0, 'bedrooms': 3.0, 'carspaces': 2, 'unitNumber': '', 'streetNumber': '53', 'street': 'Lawson Circuit', 'area': 'Albury - Greater Region', 'region': 'Regional NSW', 'suburb': 'LAVINGTON', 'postcode': '2641', 'displayableAddress': '53 Lawson Circuit, Lavington', 'latitude': -36.0435, 'longitude': 146.956757, 'landArea': 631.0, 'id': 2016984656}\n{'state': 'NSW', 'features': ['AirConditioning', 'BuiltInWardrobes', 'Gas', 'SwimmingPool', 'Heating', 'Dishwasher', 'Study', 'Shed'], 'propertyType': 'House', 'allPropertyTypes': ['House'], 'bathrooms': 1.0, 'bedrooms': 2.0, 'carspaces': 1, 'unitNumber': '31', 'streetNumber': '7', 'street': 'Catherine Crescent', 'area': 'Albury - Greater Region', 'region': 'Regional NSW', 'suburb': 'LAVINGTON', 'postcode': '2641', 'displayableAddress': '31/7 Catherine Crescent, Lavington', 'latitude': -36.0411263, 'longitude': 146.958038, 'id': 2016983014}\n{'state': 'NSW', 'features': ['AirConditioning', 'BuiltInWardrobes', 'Ensuite', 'Gas', 'SecureParking', 'Heating'], 'propertyType': 'House', 'allPropertyTypes': ['House'], 'bathrooms': 2.0, 'bedrooms': 3.0, 'carspaces': 2, 'unitNumber': '', 'streetNumber': '12', 'street': 'Brookfields Mews', 'area': 'Albury - Greater Region', 'region': 'Regional NSW', 'suburb': 'LAVINGTON', 'postcode': '2641', 'displayableAddress': '12 Brookfields Mews, Lavington', 'latitude': -36.0457153, 'longitude': 146.92598, 'landArea': 359.0, 'id': 2016978657}\n{'state': 'NSW', 'features': ['AirConditioning', 'Gas', 'Heating', 'Shed'], 'propertyType': 'House', 'allPropertyTypes': ['House'], 'bathrooms': 1.0, 'bedrooms': 3.0, 'carspaces': 2, 'unitNumber': '', 'streetNumber': '497', 'street': 'Parnall Street', 'area': 'Albury - Greater Region', 'region': 'Regional NSW', 'suburb': 'LAVINGTON', 'postcode': '2641', 'displayableAddress': '497 Parnall Street, Lavington', 'latitude': -36.0387459, 'longitude': 146.930634, 'landArea': 780.0, 'id': 2016969545}\n{'state': 'NSW', 'features': ['Ensuite', 'Floorboards', 'SecureParking', 'Heating', 'Study'], 'propertyType': 'House', 'allPropertyTypes': ['House'], 'bathrooms': 3.0, 'bedrooms': 3.0, 'carspaces': 2, 'unitNumber': '', 'streetNumber': '283', 'street': 'Highview Crescent', 'area': 'Albury - Greater Region', 'region': 'Regional NSW', 'suburb': 'LAVINGTON', 'postcode': '2641', 'displayableAddress': '283 Highview Crescent, Lavington', 'latitude': -36.0469322, 'longitude': 146.952728, 'landArea': 847.0, 'id': 2016962604}\n{'state': 'NSW', 'features': ['AirConditioning', 'BuiltInWardrobes', 'Gas', 'SecureParking', 'Heating', 'Study', 'Shed', 'FullyFenced'], 'propertyType': 'House', 'allPropertyTypes': ['House'], 'bathrooms': 2.0, 'bedrooms': 4.0, 'carspaces': 4, 'unitNumber': '', 'streetNumber': '496', 'street': 'Prune St', 'area': 'Albury - Greater Region', 'region': 'Regional NSW', 'suburb': 'LAVINGTON', 'postcode': '2641', 'displayableAddress': '496 Prune St, Lavington', 'latitude': -36.0394, 'longitude': 146.93576, 'landArea': 923.0, 'id': 2016955601}\n{'state': 'NSW', 'features': ['AirConditioning', 'BuiltInWardrobes', 'Gas', 'SecureParking', 'AlarmSystem', 'Heating', 'Dishwasher', 'Shed'], 'propertyType': 'House', 'allPropertyTypes': ['House'], 'bathrooms': 1.0, 'bedrooms': 3.0, 'carspaces': 4, 'unitNumber': '', 'streetNumber': '671', 'street': 'Pearsall Street', 'area': 'Albury - Greater Region', 'region': 'Regional NSW', 'suburb': 'LAVINGTON', 'postcode': '2641', 'displayableAddress': '671 Pearsall Street, Lavington', 'latitude': -36.0378227, 'longitude': 146.921051, 'landArea': 976.0, 'id': 2016949385}\n{'state': 'NSW', 'features': ['BuiltInWardrobes', 'Gas', 'SecureParking', 'Heating', 'Dishwasher', 'Shed', 'FullyFenced'], 'propertyType': 'House', 'allPropertyTypes': ['House'], 'bathrooms': 2.0, 'bedrooms': 3.0, 'carspaces': 3, 'unitNumber': '', 'streetNumber': '27', 'street': 'Mountain View Dr (Quicks Hill)', 'area': 'Albury - Greater Region', 'region': 'Regional NSW', 'suburb': 'LAVINGTON', 'postcode': '2641', 'displayableAddress': '27 Mountain View Dr (Quicks Hill), Lavington', 'latitude': -36.0495224, 'longitude': 146.953949, 'landArea': 683.0, 'buildingArea': 167.0, 'id': 2016944320}\n{'state': 'NSW', 'features': ['AirConditioning', 'BuiltInWardrobes', 'Gas', 'SecureParking', 'Dishwasher', 'Study'], 'propertyType': 'House', 'allPropertyTypes': ['House'], 'bathrooms': 1.0, 'bedrooms': 3.0, 'carspaces': 3, 'unitNumber': '', 'streetNumber': '325', 'street': 'Haines Crt', 'area': 'Albury - Greater Region', 'region': 'Regional NSW', 'suburb': 'LAVINGTON', 'postcode': '2641', 'displayableAddress': '325 Haines Crt, Lavington', 'latitude': -36.0537567, 'longitude': 146.947723, 'landArea': 785.0, 'id': 2016940228}\n{'state': 'NSW', 'features': ['AirConditioning', 'BuiltInWardrobes', 'Ensuite', 'Gas', 'SecureParking', 'Heating', 'Dishwasher', 'Study'], 'propertyType': 'House', 'allPropertyTypes': ['House'], 'bathrooms': 2.0, 'bedrooms': 3.0, 'carspaces': 6, 'unitNumber': '', 'streetNumber': '296', 'street': 'Warren Street', 'area': 'Albury - Greater Region', 'region': 'Regional NSW', 'suburb': 'LAVINGTON', 'postcode': '2641', 'displayableAddress': '296 Warren Street, Lavington', 'latitude': -36.04277, 'longitude': 146.954712, 'landArea': 645.0, 'id': 2016935820}\n{'state': 'NSW', 'features': ['SecureParking', 'Heating'], 'propertyType': 'House', 'allPropertyTypes': ['House'], 'bathrooms': 2.0, 'bedrooms': 4.0, 'carspaces': 4, 'unitNumber': '', 'streetNumber': '19', 'street': 'Janette Court', 'area': 'Albury - Greater Region', 'region': 'Regional NSW', 'suburb': 'LAVINGTON', 'postcode': '2641', 'displayableAddress': '19 Janette Court, Lavington', 'latitude': -36.04074, 'longitude': 146.922409, 'landArea': 764.0, 'id': 2016935246}\n{'state': 'NSW', 'features': ['AirConditioning', 'BuiltInWardrobes', 'Ensuite', 'Gas', 'PetsAllowed', 'Heating', 'Dishwasher'], 'propertyType': 'House', 'allPropertyTypes': ['House'], 'bathrooms': 1.0, 'bedrooms': 2.0, 'carspaces': 2, 'unitNumber': '21', 'streetNumber': '7', 'street': 'Catherine  Crescent', 'area': 'Albury - Greater Region', 'region': 'Regional NSW', 'suburb': 'LAVINGTON', 'postcode': '2641', 'displayableAddress': '21/7 Catherine  Crescent, Lavington', 'latitude': -36.0411263, 'longitude': 146.958038, 'landArea': 235.0, 'buildingArea': 73.0, 'id': 2016934905}\n{'state': 'NSW', 'features': ['AirConditioning', 'BuiltInWardrobes', 'SecureParking', 'Bath', 'Dishwasher'], 'propertyType': 'House', 'allPropertyTypes': ['House'], 'bathrooms': 1.0, 'bedrooms': 2.0, 'carspaces': 1, 'unitNumber': '1', 'streetNumber': '595', 'street': 'Webb Street', 'area': 'Albury - Greater Region', 'region': 'Regional NSW', 'suburb': 'LAVINGTON', 'postcode': '2641', 'displayableAddress': '1/595 Webb Street, Lavington', 'latitude': -36.0347023, 'longitude': 146.950928, 'id': 2016892806}\n{'state': 'NSW', 'features': ['AirConditioning', 'Gas', 'PetsAllowed', 'Shed', 'FullyFenced'], 'propertyType': 'House', 'allPropertyTypes': ['House'], 'bathrooms': 1.0, 'bedrooms': 2.0, 'carspaces': 1, 'unitNumber': '2', 'streetNumber': '538', 'street': 'Kotthoff Street', 'area': 'Albury - Greater Region', 'region': 'Regional NSW', 'suburb': 'LAVINGTON', 'postcode': '2641', 'displayableAddress': '2/538 Kotthoff Street, Lavington', 'latitude': -36.03698, 'longitude': 146.939865, 'id': 2016890329}\n{'state': 'NSW', 'features': ['Shed', 'SolarPanels'], 'propertyType': 'House', 'allPropertyTypes': ['House'], 'bathrooms': 1.0, 'bedrooms': 2.0, 'carspaces': 1, 'unitNumber': '', 'streetNumber': '582', 'street': 'Heathwood Avenue', 'area': 'Albury - Greater Region', 'region': 'Regional NSW', 'suburb': 'LAVINGTON', 'postcode': '2641', 'displayableAddress': '582 Heathwood Avenue, Lavington', 'latitude': -36.0440331, 'longitude': 146.927582, 'landArea': 891.0, 'id': 2016906856}\n{'state': 'NSW', 'features': ['Ensuite', 'Gas', 'SwimmingPool'], 'propertyType': 'House', 'allPropertyTypes': ['House'], 'bathrooms': 2.0, 'bedrooms': 3.0, 'carspaces': 2, 'unitNumber': '', 'streetNumber': '477', 'street': 'Neville Street', 'area': 'Albury - Greater Region', 'region': 'Regional NSW', 'suburb': 'LAVINGTON', 'postcode': '2641', 'displayableAddress': '477 Neville Street, Lavington', 'latitude': -36.0456848, 'longitude': 146.935974, 'landArea': 683.0, 'id': 2016878652}\n{'state': 'NSW', 'features': ['AirConditioning', 'BuiltInWardrobes', 'Gas', 'SecureParking', 'Heating', 'Dishwasher', 'Shed'], 'propertyType': 'House', 'allPropertyTypes': ['House'], 'bathrooms': 1.0, 'bedrooms': 4.0, 'carspaces': 4, 'unitNumber': '', 'streetNumber': '324', 'street': 'Cheyenne Drive', 'area': 'Albury - Greater Region', 'region': 'Regional NSW', 'suburb': 'LAVINGTON', 'postcode': '2641', 'displayableAddress': '324 Cheyenne Drive, Lavington', 'latitude': -36.0489159, 'longitude': 146.94873, 'landArea': 683.0, 'id': 2016871349}\n{'state': 'NSW', 'features': ['Floorboards', 'Gas', 'SecureParking', 'Bath', 'Dishwasher', 'Shed', 'FullyFenced'], 'propertyType': 'House', 'allPropertyTypes': ['House'], 'bathrooms': 1.0, 'bedrooms': 3.0, 'carspaces': 1, 'unitNumber': '', 'streetNumber': '537', 'street': 'Webb Street', 'area': 'Albury - Greater Region', 'region': 'Regional NSW', 'suburb': 'LAVINGTON', 'postcode': '2641', 'displayableAddress': '537 Webb Street, Lavington', 'latitude': -36.03832, 'longitude': 146.950485, 'landArea': 753.0, 'id': 2016964861}\n{'state': 'NSW', 'features': ['Floorboards', 'SecureParking', 'FullyFenced'], 'propertyType': 'House', 'allPropertyTypes': ['House'], 'bathrooms': 1.0, 'bedrooms': 3.0, 'carspaces': 3, 'unitNumber': '', 'streetNumber': '456', 'street': 'Jason Court', 'area': 'Albury - Greater Region', 'region': 'Regional NSW', 'suburb': 'LAVINGTON', 'postcode': '2641', 'displayableAddress': '456 Jason Court, Lavington', 'latitude': -36.04276, 'longitude': 146.9445, 'landArea': 671.0, 'buildingArea': 104.0, 'id': 2017003641}\n{'state': 'NSW', 'features': ['BuiltInWardrobes', 'SecureParking', 'Heating', 'Shed'], 'propertyType': 'House', 'allPropertyTypes': ['House'], 'bathrooms': 1.0, 'bedrooms': 3.0, 'carspaces': 2, 'unitNumber': '', 'streetNumber': '309', 'street': 'Cheyenne Drive', 'area': 'Albury - Greater Region', 'region': 'Regional NSW', 'suburb': 'LAVINGTON', 'postcode': '2641', 'displayableAddress': '309 Cheyenne Drive, Lavington', 'latitude': -36.0495567, 'longitude': 146.949829, 'landArea': 669.0, 'id': 2016978978}\n{'state': 'NSW', 'features': ['SecureParking', 'Heating', 'Shed'], 'propertyType': 'House', 'allPropertyTypes': ['House'], 'bathrooms': 1.0, 'bedrooms': 4.0, 'carspaces': 5, 'unitNumber': '', 'streetNumber': '520', 'street': 'Prune Street', 'area': 'Albury - Greater Region', 'region': 'Regional NSW', 'suburb': 'LAVINGTON', 'postcode': '2641', 'displayableAddress': '520 Prune Street, Lavington', 'latitude': -36.0377274, 'longitude': 146.935974, 'landArea': 834.0, 'buildingArea': 140.0, 'id': 2016968393}\n{'state': 'NSW', 'features': [], 'propertyType': 'House', 'allPropertyTypes': ['House'], 'bathrooms': 1.0, 'bedrooms': 3.0, 'unitNumber': '', 'streetNumber': '360', 'street': 'Boomerang Drive', 'area': 'Albury - Greater Region', 'region': 'Regional NSW', 'suburb': 'LAVINGTON', 'postcode': '2641', 'displayableAddress': '360 Boomerang Drive, Lavington', 'latitude': -36.04591, 'longitude': 146.946487, 'landArea': 771.0, 'id': 2016959330}\n{'state': 'NSW', 'features': ['Gas', 'SecureParking', 'Bath', 'Dishwasher'], 'propertyType': 'House', 'allPropertyTypes': ['House'], 'bathrooms': 1.0, 'bedrooms': 3.0, 'carspaces': 1, 'unitNumber': '', 'streetNumber': '552', 'street': 'Moffat Street', 'area': 'Albury - Greater Region', 'region': 'Regional NSW', 'suburb': 'LAVINGTON', 'postcode': '2641', 'displayableAddress': '552 Moffat Street, Lavington', 'latitude': -36.0349, 'longitude': 146.93132, 'landArea': 765.0, 'id': 2016939208}\n{'state': 'NSW', 'features': ['BuiltInWardrobes', 'Gas'], 'propertyType': 'House', 'allPropertyTypes': ['House'], 'bathrooms': 1.0, 'bedrooms': 3.0, 'carspaces': 2, 'unitNumber': '', 'streetNumber': '8', 'street': 'Renwick Court', 'area': 'Albury - Greater Region', 'region': 'Regional NSW', 'suburb': 'LAVINGTON', 'postcode': '2641', 'displayableAddress': '8 Renwick Court, Lavington', 'latitude': -36.0384178, 'longitude': 146.953262, 'landArea': 612.0, 'id': 2016936604}\n{'state': 'NSW', 'features': ['Gas', 'SecureParking', 'SolarPanels'], 'propertyType': 'House', 'allPropertyTypes': ['House'], 'bathrooms': 1.0, 'bedrooms': 3.0, 'carspaces': 2, 'unitNumber': '', 'streetNumber': '474', 'street': 'Ashford Street', 'area': 'Albury - Greater Region', 'region': 'Regional NSW', 'suburb': 'LAVINGTON', 'postcode': '2641', 'displayableAddress': '474 Ashford Street, Lavington', 'latitude': -36.0414925, 'longitude': 146.940552, 'landArea': 837.0, 'id': 2016930566}\n{'state': 'NSW', 'features': ['AirConditioning', 'BuiltInWardrobes', 'Floorboards', 'Gas', 'SecureParking', 'SwimmingPool', 'GroundFloor', 'Bath', 'Heating', 'Dishwasher', 'Shed', 'FullyFenced'], 'propertyType': 'House', 'allPropertyTypes': ['House'], 'bathrooms': 2.0, 'bedrooms': 8.0, 'carspaces': 4, 'unitNumber': '', 'streetNumber': '388', 'street': 'Paul Avenue', 'area': 'Albury - Greater Region', 'region': 'Regional NSW', 'suburb': 'LAVINGTON', 'postcode': '2641', 'displayableAddress': '388 Paul Avenue, Lavington', 'latitude': -36.0488663, 'longitude': 146.954041, 'landArea': 723.0, 'id': 2016636850}\n{'state': 'NSW', 'features': ['AirConditioning', 'BuiltInWardrobes', 'Ensuite', 'SecureParking', 'SwimmingPool', 'Gym', 'BroadbandInternetAccess', 'Dishwasher', 'Study', 'TennisCourt', 'Shed', 'FullyFenced', 'GardenCourtyard', 'BalconyDeck'], 'propertyType': 'House', 'allPropertyTypes': ['House'], 'bathrooms': 4.0, 'bedrooms': 5.0, 'carspaces': 10, 'unitNumber': '', 'streetNumber': '677', 'street': 'Lyne Street', 'area': 'Albury - Greater Region', 'region': 'Regional NSW', 'suburb': 'LAVINGTON', 'postcode': '2641', 'displayableAddress': '677 Lyne Street, Lavington', 'latitude': -36.0253258, 'longitude': 146.931488, 'landArea': 274600.0, 'buildingArea': 300.0, 'id': 2016508733}\n{'state': 'NSW', 'features': ['AirConditioning', 'BuiltInWardrobes', 'Ensuite', 'Shed', 'FullyFenced', 'GardenCourtyard', 'BalconyDeck'], 'propertyType': 'House', 'allPropertyTypes': ['House'], 'bathrooms': 2.0, 'bedrooms': 3.0, 'carspaces': 3, 'unitNumber': '', 'streetNumber': '673', 'street': 'Pearsall Street', 'area': 'Albury - Greater Region', 'region': 'Regional NSW', 'suburb': 'LAVINGTON', 'postcode': '2641', 'displayableAddress': '673 Pearsall Street, Lavington', 'latitude': -36.0379181, 'longitude': 146.9208, 'landArea': 1040.0, 'id': 2016979371}\n{'state': 'NSW', 'features': ['AirConditioning', 'BuiltInWardrobes', 'Gas', 'SecureParking', 'Heating', 'Dishwasher', 'Shed', 'FullyFenced'], 'propertyType': 'House', 'allPropertyTypes': ['House'], 'bathrooms': 1.0, 'bedrooms': 3.0, 'carspaces': 2, 'unitNumber': '', 'streetNumber': '4', 'street': 'GRAETZ COURT', 'area': 'Albury - Greater Region', 'region': 'Regional NSW', 'suburb': 'LAVINGTON', 'postcode': '2641', 'displayableAddress': '4 GRAETZ COURT, Lavington', 'latitude': -36.0398331, 'longitude': 146.951111, 'landArea': 638.0, 'id': 2016975505}\n{'state': 'NSW', 'features': ['BuiltInWardrobes', 'Ensuite', 'Floorboards', 'Gas', 'Heating', 'Dishwasher'], 'propertyType': 'House', 'allPropertyTypes': ['House'], 'bathrooms': 1.0, 'bedrooms': 2.0, 'carspaces': 2, 'unitNumber': '', 'streetNumber': '449', 'street': 'McDonald Road', 'area': 'Albury - Greater Region', 'region': 'Regional NSW', 'suburb': 'LAVINGTON', 'postcode': '2641', 'displayableAddress': '449 McDonald Road, Lavington', 'latitude': -36.04375, 'longitude': 146.939209, 'landArea': 405.0, 'id': 2016938266}\n{'state': 'NSW', 'features': ['Ensuite', 'Floorboards', 'SecureParking'], 'propertyType': 'House', 'allPropertyTypes': ['House'], 'bathrooms': 2.0, 'bedrooms': 3.0, 'carspaces': 1, 'unitNumber': '', 'streetNumber': '435', 'street': 'Parkview Crescent', 'area': 'Albury - Greater Region', 'region': 'Regional NSW', 'suburb': 'LAVINGTON', 'postcode': '2641', 'displayableAddress': '435 Parkview Crescent, Lavington', 'latitude': -36.0451355, 'longitude': 146.949127, 'landArea': 708.0, 'id': 2016929577}\n{'state': 'NSW', 'features': ['BuiltInWardrobes', 'Ensuite', 'Gas', 'SecureParking', 'SwimmingPool', 'Gym', 'Heating', 'Dishwasher', 'Shed', 'FullyFenced'], 'propertyType': 'House', 'allPropertyTypes': ['House'], 'bathrooms': 2.0, 'bedrooms': 4.0, 'carspaces': 6, 'unitNumber': '', 'streetNumber': '586', 'street': 'Manns Street', 'area': 'Albury - Greater Region', 'region': 'Regional NSW', 'suburb': 'LAVINGTON', 'postcode': '2641', 'displayableAddress': '586 Manns Street, Lavington', 'latitude': -36.0358353, 'longitude': 146.928772, 'landArea': 3282.0, 'id': 2016908716}\n{'state': 'NSW', 'features': ['Shed'], 'propertyType': 'House', 'allPropertyTypes': ['House'], 'bathrooms': 2.0, 'bedrooms': 3.0, 'carspaces': 2, 'unitNumber': '', 'streetNumber': '433', 'street': 'Bevan Street', 'area': 'Albury - Greater Region', 'region': 'Regional NSW', 'suburb': 'LAVINGTON', 'postcode': '2641', 'displayableAddress': '433 Bevan Street, Lavington', 'latitude': -36.04412, 'longitude': 146.939011, 'landArea': 809.0, 'id': 2016900469}\n"
     ]
    },
    {
     "output_type": "execute_result",
     "data": {
      "text/plain": [
       "   state                                           features propertyType  \\\n",
       "0    NSW  [BuiltInWardrobes, Ensuite, Heating, Study, Shed]        House   \n",
       "1    NSW  [BuiltInWardrobes, Gas, SwimmingPool, Heating,...        House   \n",
       "2    NSW  [Ensuite, SecureParking, Heating, Shed, SolarP...        House   \n",
       "3    NSW                     [Ensuite, SecureParking, Shed]        House   \n",
       "4    NSW  [AirConditioning, BuiltInWardrobes, Gas, Swimm...        House   \n",
       "5    NSW  [AirConditioning, BuiltInWardrobes, Ensuite, G...        House   \n",
       "6    NSW              [AirConditioning, Gas, Heating, Shed]        House   \n",
       "7    NSW  [Ensuite, Floorboards, SecureParking, Heating,...        House   \n",
       "8    NSW  [AirConditioning, BuiltInWardrobes, Gas, Secur...        House   \n",
       "9    NSW  [AirConditioning, BuiltInWardrobes, Gas, Secur...        House   \n",
       "10   NSW  [BuiltInWardrobes, Gas, SecureParking, Heating...        House   \n",
       "11   NSW  [AirConditioning, BuiltInWardrobes, Gas, Secur...        House   \n",
       "12   NSW  [AirConditioning, BuiltInWardrobes, Ensuite, G...        House   \n",
       "13   NSW                           [SecureParking, Heating]        House   \n",
       "14   NSW  [AirConditioning, BuiltInWardrobes, Ensuite, G...        House   \n",
       "15   NSW  [AirConditioning, BuiltInWardrobes, SecurePark...        House   \n",
       "16   NSW  [AirConditioning, Gas, PetsAllowed, Shed, Full...        House   \n",
       "17   NSW                                [Shed, SolarPanels]        House   \n",
       "18   NSW                       [Ensuite, Gas, SwimmingPool]        House   \n",
       "19   NSW  [AirConditioning, BuiltInWardrobes, Gas, Secur...        House   \n",
       "20   NSW  [Floorboards, Gas, SecureParking, Bath, Dishwa...        House   \n",
       "21   NSW          [Floorboards, SecureParking, FullyFenced]        House   \n",
       "22   NSW   [BuiltInWardrobes, SecureParking, Heating, Shed]        House   \n",
       "23   NSW                     [SecureParking, Heating, Shed]        House   \n",
       "24   NSW                                                 []        House   \n",
       "25   NSW             [Gas, SecureParking, Bath, Dishwasher]        House   \n",
       "26   NSW                            [BuiltInWardrobes, Gas]        House   \n",
       "27   NSW                  [Gas, SecureParking, SolarPanels]        House   \n",
       "28   NSW  [AirConditioning, BuiltInWardrobes, Floorboard...        House   \n",
       "29   NSW  [AirConditioning, BuiltInWardrobes, Ensuite, S...        House   \n",
       "30   NSW  [AirConditioning, BuiltInWardrobes, Ensuite, S...        House   \n",
       "31   NSW  [AirConditioning, BuiltInWardrobes, Gas, Secur...        House   \n",
       "32   NSW  [BuiltInWardrobes, Ensuite, Floorboards, Gas, ...        House   \n",
       "33   NSW              [Ensuite, Floorboards, SecureParking]        House   \n",
       "34   NSW  [BuiltInWardrobes, Ensuite, Gas, SecureParking...        House   \n",
       "35   NSW                                             [Shed]        House   \n",
       "\n",
       "   allPropertyTypes bathrooms bedrooms carspaces unitNumber streetNumber  \\\n",
       "0           [House]         3        8         2                     453   \n",
       "1           [House]         2        4         2                     388   \n",
       "2           [House]         2        4         2                      21   \n",
       "3           [House]         2        3         2                      53   \n",
       "4           [House]         1        2         1         31            7   \n",
       "5           [House]         2        3         2                      12   \n",
       "6           [House]         1        3         2                     497   \n",
       "7           [House]         3        3         2                     283   \n",
       "8           [House]         2        4         4                     496   \n",
       "9           [House]         1        3         4                     671   \n",
       "10          [House]         2        3         3                      27   \n",
       "11          [House]         1        3         3                     325   \n",
       "12          [House]         2        3         6                     296   \n",
       "13          [House]         2        4         4                      19   \n",
       "14          [House]         1        2         2         21            7   \n",
       "15          [House]         1        2         1          1          595   \n",
       "16          [House]         1        2         1          2          538   \n",
       "17          [House]         1        2         1                     582   \n",
       "18          [House]         2        3         2                     477   \n",
       "19          [House]         1        4         4                     324   \n",
       "20          [House]         1        3         1                     537   \n",
       "21          [House]         1        3         3                     456   \n",
       "22          [House]         1        3         2                     309   \n",
       "23          [House]         1        4         5                     520   \n",
       "24          [House]         1        3       NaN                     360   \n",
       "25          [House]         1        3         1                     552   \n",
       "26          [House]         1        3         2                       8   \n",
       "27          [House]         1        3         2                     474   \n",
       "28          [House]         2        8         4                     388   \n",
       "29          [House]         4        5        10                     677   \n",
       "30          [House]         2        3         3                     673   \n",
       "31          [House]         1        3         2                       4   \n",
       "32          [House]         1        2         2                     449   \n",
       "33          [House]         2        3         1                     435   \n",
       "34          [House]         2        4         6                     586   \n",
       "35          [House]         2        3         2                     433   \n",
       "\n",
       "                            street                     area        region  \\\n",
       "0                    Dale Crescent  Albury - Greater Region  Regional NSW   \n",
       "1                       Robert Crt  Albury - Greater Region  Regional NSW   \n",
       "2                      Valerie Way  Albury - Greater Region  Regional NSW   \n",
       "3                   Lawson Circuit  Albury - Greater Region  Regional NSW   \n",
       "4               Catherine Crescent  Albury - Greater Region  Regional NSW   \n",
       "5                 Brookfields Mews  Albury - Greater Region  Regional NSW   \n",
       "6                   Parnall Street  Albury - Greater Region  Regional NSW   \n",
       "7                Highview Crescent  Albury - Greater Region  Regional NSW   \n",
       "8                         Prune St  Albury - Greater Region  Regional NSW   \n",
       "9                  Pearsall Street  Albury - Greater Region  Regional NSW   \n",
       "10  Mountain View Dr (Quicks Hill)  Albury - Greater Region  Regional NSW   \n",
       "11                      Haines Crt  Albury - Greater Region  Regional NSW   \n",
       "12                   Warren Street  Albury - Greater Region  Regional NSW   \n",
       "13                   Janette Court  Albury - Greater Region  Regional NSW   \n",
       "14             Catherine  Crescent  Albury - Greater Region  Regional NSW   \n",
       "15                     Webb Street  Albury - Greater Region  Regional NSW   \n",
       "16                 Kotthoff Street  Albury - Greater Region  Regional NSW   \n",
       "17                Heathwood Avenue  Albury - Greater Region  Regional NSW   \n",
       "18                  Neville Street  Albury - Greater Region  Regional NSW   \n",
       "19                  Cheyenne Drive  Albury - Greater Region  Regional NSW   \n",
       "20                     Webb Street  Albury - Greater Region  Regional NSW   \n",
       "21                     Jason Court  Albury - Greater Region  Regional NSW   \n",
       "22                  Cheyenne Drive  Albury - Greater Region  Regional NSW   \n",
       "23                    Prune Street  Albury - Greater Region  Regional NSW   \n",
       "24                 Boomerang Drive  Albury - Greater Region  Regional NSW   \n",
       "25                   Moffat Street  Albury - Greater Region  Regional NSW   \n",
       "26                   Renwick Court  Albury - Greater Region  Regional NSW   \n",
       "27                  Ashford Street  Albury - Greater Region  Regional NSW   \n",
       "28                     Paul Avenue  Albury - Greater Region  Regional NSW   \n",
       "29                     Lyne Street  Albury - Greater Region  Regional NSW   \n",
       "30                 Pearsall Street  Albury - Greater Region  Regional NSW   \n",
       "31                    GRAETZ COURT  Albury - Greater Region  Regional NSW   \n",
       "32                   McDonald Road  Albury - Greater Region  Regional NSW   \n",
       "33               Parkview Crescent  Albury - Greater Region  Regional NSW   \n",
       "34                    Manns Street  Albury - Greater Region  Regional NSW   \n",
       "35                    Bevan Street  Albury - Greater Region  Regional NSW   \n",
       "\n",
       "       suburb postcode                            displayableAddress latitude  \\\n",
       "0   LAVINGTON     2641                  453 Dale Crescent, Lavington -36.0436   \n",
       "1   LAVINGTON     2641                     388 Robert Crt, Lavington -36.0467   \n",
       "2   LAVINGTON     2641                     21 Valerie Way, Lavington -36.0343   \n",
       "3   LAVINGTON     2641                  53 Lawson Circuit, Lavington -36.0435   \n",
       "4   LAVINGTON     2641            31/7 Catherine Crescent, Lavington -36.0411   \n",
       "5   LAVINGTON     2641                12 Brookfields Mews, Lavington -36.0457   \n",
       "6   LAVINGTON     2641                 497 Parnall Street, Lavington -36.0387   \n",
       "7   LAVINGTON     2641              283 Highview Crescent, Lavington -36.0469   \n",
       "8   LAVINGTON     2641                       496 Prune St, Lavington -36.0394   \n",
       "9   LAVINGTON     2641                671 Pearsall Street, Lavington -36.0378   \n",
       "10  LAVINGTON     2641  27 Mountain View Dr (Quicks Hill), Lavington -36.0495   \n",
       "11  LAVINGTON     2641                     325 Haines Crt, Lavington -36.0538   \n",
       "12  LAVINGTON     2641                  296 Warren Street, Lavington -36.0428   \n",
       "13  LAVINGTON     2641                   19 Janette Court, Lavington -36.0407   \n",
       "14  LAVINGTON     2641           21/7 Catherine  Crescent, Lavington -36.0411   \n",
       "15  LAVINGTON     2641                  1/595 Webb Street, Lavington -36.0347   \n",
       "16  LAVINGTON     2641              2/538 Kotthoff Street, Lavington  -36.037   \n",
       "17  LAVINGTON     2641               582 Heathwood Avenue, Lavington  -36.044   \n",
       "18  LAVINGTON     2641                 477 Neville Street, Lavington -36.0457   \n",
       "19  LAVINGTON     2641                 324 Cheyenne Drive, Lavington -36.0489   \n",
       "20  LAVINGTON     2641                    537 Webb Street, Lavington -36.0383   \n",
       "21  LAVINGTON     2641                    456 Jason Court, Lavington -36.0428   \n",
       "22  LAVINGTON     2641                 309 Cheyenne Drive, Lavington -36.0496   \n",
       "23  LAVINGTON     2641                   520 Prune Street, Lavington -36.0377   \n",
       "24  LAVINGTON     2641                360 Boomerang Drive, Lavington -36.0459   \n",
       "25  LAVINGTON     2641                  552 Moffat Street, Lavington -36.0349   \n",
       "26  LAVINGTON     2641                    8 Renwick Court, Lavington -36.0384   \n",
       "27  LAVINGTON     2641                 474 Ashford Street, Lavington -36.0415   \n",
       "28  LAVINGTON     2641                    388 Paul Avenue, Lavington -36.0489   \n",
       "29  LAVINGTON     2641                    677 Lyne Street, Lavington -36.0253   \n",
       "30  LAVINGTON     2641                673 Pearsall Street, Lavington -36.0379   \n",
       "31  LAVINGTON     2641                     4 GRAETZ COURT, Lavington -36.0398   \n",
       "32  LAVINGTON     2641                  449 McDonald Road, Lavington -36.0438   \n",
       "33  LAVINGTON     2641              435 Parkview Crescent, Lavington -36.0451   \n",
       "34  LAVINGTON     2641                   586 Manns Street, Lavington -36.0358   \n",
       "35  LAVINGTON     2641                   433 Bevan Street, Lavington -36.0441   \n",
       "\n",
       "   longitude landArea          id buildingArea  \n",
       "0    146.949      910  2016990302          NaN  \n",
       "1    146.935      912  2016987771          NaN  \n",
       "2    146.942      799  2016986063          NaN  \n",
       "3    146.957      631  2016984656          NaN  \n",
       "4    146.958      NaN  2016983014          NaN  \n",
       "5    146.926      359  2016978657          NaN  \n",
       "6    146.931      780  2016969545          NaN  \n",
       "7    146.953      847  2016962604          NaN  \n",
       "8    146.936      923  2016955601          NaN  \n",
       "9    146.921      976  2016949385          NaN  \n",
       "10   146.954      683  2016944320          167  \n",
       "11   146.948      785  2016940228          NaN  \n",
       "12   146.955      645  2016935820          NaN  \n",
       "13   146.922      764  2016935246          NaN  \n",
       "14   146.958      235  2016934905           73  \n",
       "15   146.951      NaN  2016892806          NaN  \n",
       "16    146.94      NaN  2016890329          NaN  \n",
       "17   146.928      891  2016906856          NaN  \n",
       "18   146.936      683  2016878652          NaN  \n",
       "19   146.949      683  2016871349          NaN  \n",
       "20    146.95      753  2016964861          NaN  \n",
       "21   146.945      671  2017003641          104  \n",
       "22    146.95      669  2016978978          NaN  \n",
       "23   146.936      834  2016968393          140  \n",
       "24   146.946      771  2016959330          NaN  \n",
       "25   146.931      765  2016939208          NaN  \n",
       "26   146.953      612  2016936604          NaN  \n",
       "27   146.941      837  2016930566          NaN  \n",
       "28   146.954      723  2016636850          NaN  \n",
       "29   146.931   274600  2016508733          300  \n",
       "30   146.921     1040  2016979371          NaN  \n",
       "31   146.951      638  2016975505          NaN  \n",
       "32   146.939      405  2016938266          NaN  \n",
       "33   146.949      708  2016929577          NaN  \n",
       "34   146.929     3282  2016908716          NaN  \n",
       "35   146.939      809  2016900469          NaN  "
      ],
      "text/html": "<div>\n<style scoped>\n    .dataframe tbody tr th:only-of-type {\n        vertical-align: middle;\n    }\n\n    .dataframe tbody tr th {\n        vertical-align: top;\n    }\n\n    .dataframe thead th {\n        text-align: right;\n    }\n</style>\n<table border=\"1\" class=\"dataframe\">\n  <thead>\n    <tr style=\"text-align: right;\">\n      <th></th>\n      <th>state</th>\n      <th>features</th>\n      <th>propertyType</th>\n      <th>allPropertyTypes</th>\n      <th>bathrooms</th>\n      <th>bedrooms</th>\n      <th>carspaces</th>\n      <th>unitNumber</th>\n      <th>streetNumber</th>\n      <th>street</th>\n      <th>area</th>\n      <th>region</th>\n      <th>suburb</th>\n      <th>postcode</th>\n      <th>displayableAddress</th>\n      <th>latitude</th>\n      <th>longitude</th>\n      <th>landArea</th>\n      <th>id</th>\n      <th>buildingArea</th>\n    </tr>\n  </thead>\n  <tbody>\n    <tr>\n      <th>0</th>\n      <td>NSW</td>\n      <td>[BuiltInWardrobes, Ensuite, Heating, Study, Shed]</td>\n      <td>House</td>\n      <td>[House]</td>\n      <td>3</td>\n      <td>8</td>\n      <td>2</td>\n      <td></td>\n      <td>453</td>\n      <td>Dale Crescent</td>\n      <td>Albury - Greater Region</td>\n      <td>Regional NSW</td>\n      <td>LAVINGTON</td>\n      <td>2641</td>\n      <td>453 Dale Crescent, Lavington</td>\n      <td>-36.0436</td>\n      <td>146.949</td>\n      <td>910</td>\n      <td>2016990302</td>\n      <td>NaN</td>\n    </tr>\n    <tr>\n      <th>1</th>\n      <td>NSW</td>\n      <td>[BuiltInWardrobes, Gas, SwimmingPool, Heating,...</td>\n      <td>House</td>\n      <td>[House]</td>\n      <td>2</td>\n      <td>4</td>\n      <td>2</td>\n      <td></td>\n      <td>388</td>\n      <td>Robert Crt</td>\n      <td>Albury - Greater Region</td>\n      <td>Regional NSW</td>\n      <td>LAVINGTON</td>\n      <td>2641</td>\n      <td>388 Robert Crt, Lavington</td>\n      <td>-36.0467</td>\n      <td>146.935</td>\n      <td>912</td>\n      <td>2016987771</td>\n      <td>NaN</td>\n    </tr>\n    <tr>\n      <th>2</th>\n      <td>NSW</td>\n      <td>[Ensuite, SecureParking, Heating, Shed, SolarP...</td>\n      <td>House</td>\n      <td>[House]</td>\n      <td>2</td>\n      <td>4</td>\n      <td>2</td>\n      <td></td>\n      <td>21</td>\n      <td>Valerie Way</td>\n      <td>Albury - Greater Region</td>\n      <td>Regional NSW</td>\n      <td>LAVINGTON</td>\n      <td>2641</td>\n      <td>21 Valerie Way, Lavington</td>\n      <td>-36.0343</td>\n      <td>146.942</td>\n      <td>799</td>\n      <td>2016986063</td>\n      <td>NaN</td>\n    </tr>\n    <tr>\n      <th>3</th>\n      <td>NSW</td>\n      <td>[Ensuite, SecureParking, Shed]</td>\n      <td>House</td>\n      <td>[House]</td>\n      <td>2</td>\n      <td>3</td>\n      <td>2</td>\n      <td></td>\n      <td>53</td>\n      <td>Lawson Circuit</td>\n      <td>Albury - Greater Region</td>\n      <td>Regional NSW</td>\n      <td>LAVINGTON</td>\n      <td>2641</td>\n      <td>53 Lawson Circuit, Lavington</td>\n      <td>-36.0435</td>\n      <td>146.957</td>\n      <td>631</td>\n      <td>2016984656</td>\n      <td>NaN</td>\n    </tr>\n    <tr>\n      <th>4</th>\n      <td>NSW</td>\n      <td>[AirConditioning, BuiltInWardrobes, Gas, Swimm...</td>\n      <td>House</td>\n      <td>[House]</td>\n      <td>1</td>\n      <td>2</td>\n      <td>1</td>\n      <td>31</td>\n      <td>7</td>\n      <td>Catherine Crescent</td>\n      <td>Albury - Greater Region</td>\n      <td>Regional NSW</td>\n      <td>LAVINGTON</td>\n      <td>2641</td>\n      <td>31/7 Catherine Crescent, Lavington</td>\n      <td>-36.0411</td>\n      <td>146.958</td>\n      <td>NaN</td>\n      <td>2016983014</td>\n      <td>NaN</td>\n    </tr>\n    <tr>\n      <th>5</th>\n      <td>NSW</td>\n      <td>[AirConditioning, BuiltInWardrobes, Ensuite, G...</td>\n      <td>House</td>\n      <td>[House]</td>\n      <td>2</td>\n      <td>3</td>\n      <td>2</td>\n      <td></td>\n      <td>12</td>\n      <td>Brookfields Mews</td>\n      <td>Albury - Greater Region</td>\n      <td>Regional NSW</td>\n      <td>LAVINGTON</td>\n      <td>2641</td>\n      <td>12 Brookfields Mews, Lavington</td>\n      <td>-36.0457</td>\n      <td>146.926</td>\n      <td>359</td>\n      <td>2016978657</td>\n      <td>NaN</td>\n    </tr>\n    <tr>\n      <th>6</th>\n      <td>NSW</td>\n      <td>[AirConditioning, Gas, Heating, Shed]</td>\n      <td>House</td>\n      <td>[House]</td>\n      <td>1</td>\n      <td>3</td>\n      <td>2</td>\n      <td></td>\n      <td>497</td>\n      <td>Parnall Street</td>\n      <td>Albury - Greater Region</td>\n      <td>Regional NSW</td>\n      <td>LAVINGTON</td>\n      <td>2641</td>\n      <td>497 Parnall Street, Lavington</td>\n      <td>-36.0387</td>\n      <td>146.931</td>\n      <td>780</td>\n      <td>2016969545</td>\n      <td>NaN</td>\n    </tr>\n    <tr>\n      <th>7</th>\n      <td>NSW</td>\n      <td>[Ensuite, Floorboards, SecureParking, Heating,...</td>\n      <td>House</td>\n      <td>[House]</td>\n      <td>3</td>\n      <td>3</td>\n      <td>2</td>\n      <td></td>\n      <td>283</td>\n      <td>Highview Crescent</td>\n      <td>Albury - Greater Region</td>\n      <td>Regional NSW</td>\n      <td>LAVINGTON</td>\n      <td>2641</td>\n      <td>283 Highview Crescent, Lavington</td>\n      <td>-36.0469</td>\n      <td>146.953</td>\n      <td>847</td>\n      <td>2016962604</td>\n      <td>NaN</td>\n    </tr>\n    <tr>\n      <th>8</th>\n      <td>NSW</td>\n      <td>[AirConditioning, BuiltInWardrobes, Gas, Secur...</td>\n      <td>House</td>\n      <td>[House]</td>\n      <td>2</td>\n      <td>4</td>\n      <td>4</td>\n      <td></td>\n      <td>496</td>\n      <td>Prune St</td>\n      <td>Albury - Greater Region</td>\n      <td>Regional NSW</td>\n      <td>LAVINGTON</td>\n      <td>2641</td>\n      <td>496 Prune St, Lavington</td>\n      <td>-36.0394</td>\n      <td>146.936</td>\n      <td>923</td>\n      <td>2016955601</td>\n      <td>NaN</td>\n    </tr>\n    <tr>\n      <th>9</th>\n      <td>NSW</td>\n      <td>[AirConditioning, BuiltInWardrobes, Gas, Secur...</td>\n      <td>House</td>\n      <td>[House]</td>\n      <td>1</td>\n      <td>3</td>\n      <td>4</td>\n      <td></td>\n      <td>671</td>\n      <td>Pearsall Street</td>\n      <td>Albury - Greater Region</td>\n      <td>Regional NSW</td>\n      <td>LAVINGTON</td>\n      <td>2641</td>\n      <td>671 Pearsall Street, Lavington</td>\n      <td>-36.0378</td>\n      <td>146.921</td>\n      <td>976</td>\n      <td>2016949385</td>\n      <td>NaN</td>\n    </tr>\n    <tr>\n      <th>10</th>\n      <td>NSW</td>\n      <td>[BuiltInWardrobes, Gas, SecureParking, Heating...</td>\n      <td>House</td>\n      <td>[House]</td>\n      <td>2</td>\n      <td>3</td>\n      <td>3</td>\n      <td></td>\n      <td>27</td>\n      <td>Mountain View Dr (Quicks Hill)</td>\n      <td>Albury - Greater Region</td>\n      <td>Regional NSW</td>\n      <td>LAVINGTON</td>\n      <td>2641</td>\n      <td>27 Mountain View Dr (Quicks Hill), Lavington</td>\n      <td>-36.0495</td>\n      <td>146.954</td>\n      <td>683</td>\n      <td>2016944320</td>\n      <td>167</td>\n    </tr>\n    <tr>\n      <th>11</th>\n      <td>NSW</td>\n      <td>[AirConditioning, BuiltInWardrobes, Gas, Secur...</td>\n      <td>House</td>\n      <td>[House]</td>\n      <td>1</td>\n      <td>3</td>\n      <td>3</td>\n      <td></td>\n      <td>325</td>\n      <td>Haines Crt</td>\n      <td>Albury - Greater Region</td>\n      <td>Regional NSW</td>\n      <td>LAVINGTON</td>\n      <td>2641</td>\n      <td>325 Haines Crt, Lavington</td>\n      <td>-36.0538</td>\n      <td>146.948</td>\n      <td>785</td>\n      <td>2016940228</td>\n      <td>NaN</td>\n    </tr>\n    <tr>\n      <th>12</th>\n      <td>NSW</td>\n      <td>[AirConditioning, BuiltInWardrobes, Ensuite, G...</td>\n      <td>House</td>\n      <td>[House]</td>\n      <td>2</td>\n      <td>3</td>\n      <td>6</td>\n      <td></td>\n      <td>296</td>\n      <td>Warren Street</td>\n      <td>Albury - Greater Region</td>\n      <td>Regional NSW</td>\n      <td>LAVINGTON</td>\n      <td>2641</td>\n      <td>296 Warren Street, Lavington</td>\n      <td>-36.0428</td>\n      <td>146.955</td>\n      <td>645</td>\n      <td>2016935820</td>\n      <td>NaN</td>\n    </tr>\n    <tr>\n      <th>13</th>\n      <td>NSW</td>\n      <td>[SecureParking, Heating]</td>\n      <td>House</td>\n      <td>[House]</td>\n      <td>2</td>\n      <td>4</td>\n      <td>4</td>\n      <td></td>\n      <td>19</td>\n      <td>Janette Court</td>\n      <td>Albury - Greater Region</td>\n      <td>Regional NSW</td>\n      <td>LAVINGTON</td>\n      <td>2641</td>\n      <td>19 Janette Court, Lavington</td>\n      <td>-36.0407</td>\n      <td>146.922</td>\n      <td>764</td>\n      <td>2016935246</td>\n      <td>NaN</td>\n    </tr>\n    <tr>\n      <th>14</th>\n      <td>NSW</td>\n      <td>[AirConditioning, BuiltInWardrobes, Ensuite, G...</td>\n      <td>House</td>\n      <td>[House]</td>\n      <td>1</td>\n      <td>2</td>\n      <td>2</td>\n      <td>21</td>\n      <td>7</td>\n      <td>Catherine  Crescent</td>\n      <td>Albury - Greater Region</td>\n      <td>Regional NSW</td>\n      <td>LAVINGTON</td>\n      <td>2641</td>\n      <td>21/7 Catherine  Crescent, Lavington</td>\n      <td>-36.0411</td>\n      <td>146.958</td>\n      <td>235</td>\n      <td>2016934905</td>\n      <td>73</td>\n    </tr>\n    <tr>\n      <th>15</th>\n      <td>NSW</td>\n      <td>[AirConditioning, BuiltInWardrobes, SecurePark...</td>\n      <td>House</td>\n      <td>[House]</td>\n      <td>1</td>\n      <td>2</td>\n      <td>1</td>\n      <td>1</td>\n      <td>595</td>\n      <td>Webb Street</td>\n      <td>Albury - Greater Region</td>\n      <td>Regional NSW</td>\n      <td>LAVINGTON</td>\n      <td>2641</td>\n      <td>1/595 Webb Street, Lavington</td>\n      <td>-36.0347</td>\n      <td>146.951</td>\n      <td>NaN</td>\n      <td>2016892806</td>\n      <td>NaN</td>\n    </tr>\n    <tr>\n      <th>16</th>\n      <td>NSW</td>\n      <td>[AirConditioning, Gas, PetsAllowed, Shed, Full...</td>\n      <td>House</td>\n      <td>[House]</td>\n      <td>1</td>\n      <td>2</td>\n      <td>1</td>\n      <td>2</td>\n      <td>538</td>\n      <td>Kotthoff Street</td>\n      <td>Albury - Greater Region</td>\n      <td>Regional NSW</td>\n      <td>LAVINGTON</td>\n      <td>2641</td>\n      <td>2/538 Kotthoff Street, Lavington</td>\n      <td>-36.037</td>\n      <td>146.94</td>\n      <td>NaN</td>\n      <td>2016890329</td>\n      <td>NaN</td>\n    </tr>\n    <tr>\n      <th>17</th>\n      <td>NSW</td>\n      <td>[Shed, SolarPanels]</td>\n      <td>House</td>\n      <td>[House]</td>\n      <td>1</td>\n      <td>2</td>\n      <td>1</td>\n      <td></td>\n      <td>582</td>\n      <td>Heathwood Avenue</td>\n      <td>Albury - Greater Region</td>\n      <td>Regional NSW</td>\n      <td>LAVINGTON</td>\n      <td>2641</td>\n      <td>582 Heathwood Avenue, Lavington</td>\n      <td>-36.044</td>\n      <td>146.928</td>\n      <td>891</td>\n      <td>2016906856</td>\n      <td>NaN</td>\n    </tr>\n    <tr>\n      <th>18</th>\n      <td>NSW</td>\n      <td>[Ensuite, Gas, SwimmingPool]</td>\n      <td>House</td>\n      <td>[House]</td>\n      <td>2</td>\n      <td>3</td>\n      <td>2</td>\n      <td></td>\n      <td>477</td>\n      <td>Neville Street</td>\n      <td>Albury - Greater Region</td>\n      <td>Regional NSW</td>\n      <td>LAVINGTON</td>\n      <td>2641</td>\n      <td>477 Neville Street, Lavington</td>\n      <td>-36.0457</td>\n      <td>146.936</td>\n      <td>683</td>\n      <td>2016878652</td>\n      <td>NaN</td>\n    </tr>\n    <tr>\n      <th>19</th>\n      <td>NSW</td>\n      <td>[AirConditioning, BuiltInWardrobes, Gas, Secur...</td>\n      <td>House</td>\n      <td>[House]</td>\n      <td>1</td>\n      <td>4</td>\n      <td>4</td>\n      <td></td>\n      <td>324</td>\n      <td>Cheyenne Drive</td>\n      <td>Albury - Greater Region</td>\n      <td>Regional NSW</td>\n      <td>LAVINGTON</td>\n      <td>2641</td>\n      <td>324 Cheyenne Drive, Lavington</td>\n      <td>-36.0489</td>\n      <td>146.949</td>\n      <td>683</td>\n      <td>2016871349</td>\n      <td>NaN</td>\n    </tr>\n    <tr>\n      <th>20</th>\n      <td>NSW</td>\n      <td>[Floorboards, Gas, SecureParking, Bath, Dishwa...</td>\n      <td>House</td>\n      <td>[House]</td>\n      <td>1</td>\n      <td>3</td>\n      <td>1</td>\n      <td></td>\n      <td>537</td>\n      <td>Webb Street</td>\n      <td>Albury - Greater Region</td>\n      <td>Regional NSW</td>\n      <td>LAVINGTON</td>\n      <td>2641</td>\n      <td>537 Webb Street, Lavington</td>\n      <td>-36.0383</td>\n      <td>146.95</td>\n      <td>753</td>\n      <td>2016964861</td>\n      <td>NaN</td>\n    </tr>\n    <tr>\n      <th>21</th>\n      <td>NSW</td>\n      <td>[Floorboards, SecureParking, FullyFenced]</td>\n      <td>House</td>\n      <td>[House]</td>\n      <td>1</td>\n      <td>3</td>\n      <td>3</td>\n      <td></td>\n      <td>456</td>\n      <td>Jason Court</td>\n      <td>Albury - Greater Region</td>\n      <td>Regional NSW</td>\n      <td>LAVINGTON</td>\n      <td>2641</td>\n      <td>456 Jason Court, Lavington</td>\n      <td>-36.0428</td>\n      <td>146.945</td>\n      <td>671</td>\n      <td>2017003641</td>\n      <td>104</td>\n    </tr>\n    <tr>\n      <th>22</th>\n      <td>NSW</td>\n      <td>[BuiltInWardrobes, SecureParking, Heating, Shed]</td>\n      <td>House</td>\n      <td>[House]</td>\n      <td>1</td>\n      <td>3</td>\n      <td>2</td>\n      <td></td>\n      <td>309</td>\n      <td>Cheyenne Drive</td>\n      <td>Albury - Greater Region</td>\n      <td>Regional NSW</td>\n      <td>LAVINGTON</td>\n      <td>2641</td>\n      <td>309 Cheyenne Drive, Lavington</td>\n      <td>-36.0496</td>\n      <td>146.95</td>\n      <td>669</td>\n      <td>2016978978</td>\n      <td>NaN</td>\n    </tr>\n    <tr>\n      <th>23</th>\n      <td>NSW</td>\n      <td>[SecureParking, Heating, Shed]</td>\n      <td>House</td>\n      <td>[House]</td>\n      <td>1</td>\n      <td>4</td>\n      <td>5</td>\n      <td></td>\n      <td>520</td>\n      <td>Prune Street</td>\n      <td>Albury - Greater Region</td>\n      <td>Regional NSW</td>\n      <td>LAVINGTON</td>\n      <td>2641</td>\n      <td>520 Prune Street, Lavington</td>\n      <td>-36.0377</td>\n      <td>146.936</td>\n      <td>834</td>\n      <td>2016968393</td>\n      <td>140</td>\n    </tr>\n    <tr>\n      <th>24</th>\n      <td>NSW</td>\n      <td>[]</td>\n      <td>House</td>\n      <td>[House]</td>\n      <td>1</td>\n      <td>3</td>\n      <td>NaN</td>\n      <td></td>\n      <td>360</td>\n      <td>Boomerang Drive</td>\n      <td>Albury - Greater Region</td>\n      <td>Regional NSW</td>\n      <td>LAVINGTON</td>\n      <td>2641</td>\n      <td>360 Boomerang Drive, Lavington</td>\n      <td>-36.0459</td>\n      <td>146.946</td>\n      <td>771</td>\n      <td>2016959330</td>\n      <td>NaN</td>\n    </tr>\n    <tr>\n      <th>25</th>\n      <td>NSW</td>\n      <td>[Gas, SecureParking, Bath, Dishwasher]</td>\n      <td>House</td>\n      <td>[House]</td>\n      <td>1</td>\n      <td>3</td>\n      <td>1</td>\n      <td></td>\n      <td>552</td>\n      <td>Moffat Street</td>\n      <td>Albury - Greater Region</td>\n      <td>Regional NSW</td>\n      <td>LAVINGTON</td>\n      <td>2641</td>\n      <td>552 Moffat Street, Lavington</td>\n      <td>-36.0349</td>\n      <td>146.931</td>\n      <td>765</td>\n      <td>2016939208</td>\n      <td>NaN</td>\n    </tr>\n    <tr>\n      <th>26</th>\n      <td>NSW</td>\n      <td>[BuiltInWardrobes, Gas]</td>\n      <td>House</td>\n      <td>[House]</td>\n      <td>1</td>\n      <td>3</td>\n      <td>2</td>\n      <td></td>\n      <td>8</td>\n      <td>Renwick Court</td>\n      <td>Albury - Greater Region</td>\n      <td>Regional NSW</td>\n      <td>LAVINGTON</td>\n      <td>2641</td>\n      <td>8 Renwick Court, Lavington</td>\n      <td>-36.0384</td>\n      <td>146.953</td>\n      <td>612</td>\n      <td>2016936604</td>\n      <td>NaN</td>\n    </tr>\n    <tr>\n      <th>27</th>\n      <td>NSW</td>\n      <td>[Gas, SecureParking, SolarPanels]</td>\n      <td>House</td>\n      <td>[House]</td>\n      <td>1</td>\n      <td>3</td>\n      <td>2</td>\n      <td></td>\n      <td>474</td>\n      <td>Ashford Street</td>\n      <td>Albury - Greater Region</td>\n      <td>Regional NSW</td>\n      <td>LAVINGTON</td>\n      <td>2641</td>\n      <td>474 Ashford Street, Lavington</td>\n      <td>-36.0415</td>\n      <td>146.941</td>\n      <td>837</td>\n      <td>2016930566</td>\n      <td>NaN</td>\n    </tr>\n    <tr>\n      <th>28</th>\n      <td>NSW</td>\n      <td>[AirConditioning, BuiltInWardrobes, Floorboard...</td>\n      <td>House</td>\n      <td>[House]</td>\n      <td>2</td>\n      <td>8</td>\n      <td>4</td>\n      <td></td>\n      <td>388</td>\n      <td>Paul Avenue</td>\n      <td>Albury - Greater Region</td>\n      <td>Regional NSW</td>\n      <td>LAVINGTON</td>\n      <td>2641</td>\n      <td>388 Paul Avenue, Lavington</td>\n      <td>-36.0489</td>\n      <td>146.954</td>\n      <td>723</td>\n      <td>2016636850</td>\n      <td>NaN</td>\n    </tr>\n    <tr>\n      <th>29</th>\n      <td>NSW</td>\n      <td>[AirConditioning, BuiltInWardrobes, Ensuite, S...</td>\n      <td>House</td>\n      <td>[House]</td>\n      <td>4</td>\n      <td>5</td>\n      <td>10</td>\n      <td></td>\n      <td>677</td>\n      <td>Lyne Street</td>\n      <td>Albury - Greater Region</td>\n      <td>Regional NSW</td>\n      <td>LAVINGTON</td>\n      <td>2641</td>\n      <td>677 Lyne Street, Lavington</td>\n      <td>-36.0253</td>\n      <td>146.931</td>\n      <td>274600</td>\n      <td>2016508733</td>\n      <td>300</td>\n    </tr>\n    <tr>\n      <th>30</th>\n      <td>NSW</td>\n      <td>[AirConditioning, BuiltInWardrobes, Ensuite, S...</td>\n      <td>House</td>\n      <td>[House]</td>\n      <td>2</td>\n      <td>3</td>\n      <td>3</td>\n      <td></td>\n      <td>673</td>\n      <td>Pearsall Street</td>\n      <td>Albury - Greater Region</td>\n      <td>Regional NSW</td>\n      <td>LAVINGTON</td>\n      <td>2641</td>\n      <td>673 Pearsall Street, Lavington</td>\n      <td>-36.0379</td>\n      <td>146.921</td>\n      <td>1040</td>\n      <td>2016979371</td>\n      <td>NaN</td>\n    </tr>\n    <tr>\n      <th>31</th>\n      <td>NSW</td>\n      <td>[AirConditioning, BuiltInWardrobes, Gas, Secur...</td>\n      <td>House</td>\n      <td>[House]</td>\n      <td>1</td>\n      <td>3</td>\n      <td>2</td>\n      <td></td>\n      <td>4</td>\n      <td>GRAETZ COURT</td>\n      <td>Albury - Greater Region</td>\n      <td>Regional NSW</td>\n      <td>LAVINGTON</td>\n      <td>2641</td>\n      <td>4 GRAETZ COURT, Lavington</td>\n      <td>-36.0398</td>\n      <td>146.951</td>\n      <td>638</td>\n      <td>2016975505</td>\n      <td>NaN</td>\n    </tr>\n    <tr>\n      <th>32</th>\n      <td>NSW</td>\n      <td>[BuiltInWardrobes, Ensuite, Floorboards, Gas, ...</td>\n      <td>House</td>\n      <td>[House]</td>\n      <td>1</td>\n      <td>2</td>\n      <td>2</td>\n      <td></td>\n      <td>449</td>\n      <td>McDonald Road</td>\n      <td>Albury - Greater Region</td>\n      <td>Regional NSW</td>\n      <td>LAVINGTON</td>\n      <td>2641</td>\n      <td>449 McDonald Road, Lavington</td>\n      <td>-36.0438</td>\n      <td>146.939</td>\n      <td>405</td>\n      <td>2016938266</td>\n      <td>NaN</td>\n    </tr>\n    <tr>\n      <th>33</th>\n      <td>NSW</td>\n      <td>[Ensuite, Floorboards, SecureParking]</td>\n      <td>House</td>\n      <td>[House]</td>\n      <td>2</td>\n      <td>3</td>\n      <td>1</td>\n      <td></td>\n      <td>435</td>\n      <td>Parkview Crescent</td>\n      <td>Albury - Greater Region</td>\n      <td>Regional NSW</td>\n      <td>LAVINGTON</td>\n      <td>2641</td>\n      <td>435 Parkview Crescent, Lavington</td>\n      <td>-36.0451</td>\n      <td>146.949</td>\n      <td>708</td>\n      <td>2016929577</td>\n      <td>NaN</td>\n    </tr>\n    <tr>\n      <th>34</th>\n      <td>NSW</td>\n      <td>[BuiltInWardrobes, Ensuite, Gas, SecureParking...</td>\n      <td>House</td>\n      <td>[House]</td>\n      <td>2</td>\n      <td>4</td>\n      <td>6</td>\n      <td></td>\n      <td>586</td>\n      <td>Manns Street</td>\n      <td>Albury - Greater Region</td>\n      <td>Regional NSW</td>\n      <td>LAVINGTON</td>\n      <td>2641</td>\n      <td>586 Manns Street, Lavington</td>\n      <td>-36.0358</td>\n      <td>146.929</td>\n      <td>3282</td>\n      <td>2016908716</td>\n      <td>NaN</td>\n    </tr>\n    <tr>\n      <th>35</th>\n      <td>NSW</td>\n      <td>[Shed]</td>\n      <td>House</td>\n      <td>[House]</td>\n      <td>2</td>\n      <td>3</td>\n      <td>2</td>\n      <td></td>\n      <td>433</td>\n      <td>Bevan Street</td>\n      <td>Albury - Greater Region</td>\n      <td>Regional NSW</td>\n      <td>LAVINGTON</td>\n      <td>2641</td>\n      <td>433 Bevan Street, Lavington</td>\n      <td>-36.0441</td>\n      <td>146.939</td>\n      <td>809</td>\n      <td>2016900469</td>\n      <td>NaN</td>\n    </tr>\n  </tbody>\n</table>\n</div>"
     },
     "metadata": {},
     "execution_count": 85
    }
   ],
   "source": [
    "df_properties_for_sale_raw = process_list_for_sale_response(response_json=property_list_for_sale_response)\n",
    "\n",
    "df_properties_for_sale_raw"
   ]
  },
  {
   "cell_type": "code",
   "execution_count": 86,
   "metadata": {},
   "outputs": [],
   "source": [
    "def make_clickable(val):\n",
    "    # target _blank to open new window\n",
    "    return '<a target=\"_blank\" href=\"{}\"\">{}</a>'.format(val, val)"
   ]
  },
  {
   "cell_type": "code",
   "execution_count": 87,
   "metadata": {},
   "outputs": [
    {
     "output_type": "execute_result",
     "data": {
      "text/plain": [
       "(36, 20)"
      ]
     },
     "metadata": {},
     "execution_count": 87
    }
   ],
   "source": [
    "df_properties_for_sale_raw.shape"
   ]
  },
  {
   "cell_type": "code",
   "execution_count": 88,
   "metadata": {},
   "outputs": [],
   "source": [
    "df_properties_for_sale_raw.to_csv(\"output/ForSale_Properties.csv\", index = False)"
   ]
  },
  {
   "cell_type": "code",
   "execution_count": 90,
   "metadata": {},
   "outputs": [],
   "source": [
    "from sklearn.cluster import DBSCAN\n",
    "\n",
    "\n",
    "df_properties_for_sale_raw[\"labels\"] = DBSCAN(eps=0.01, min_samples=3).fit(df_properties_for_sale_raw[[\"latitude\",\"longitude\"]].values).labels_\n",
    "df_properties_for_sale_raw = df_properties_for_sale_raw.drop(['allPropertyTypes','buildingArea'], axis = 1)\n",
    "df_properties_for_sale_raw = df_properties_for_sale_raw.dropna()\n",
    "df_properties_for_sale_raw.landArea = df_properties_for_sale_raw.landArea.astype(int)\n",
    "df_properties_for_sale_raw.bathrooms = df_properties_for_sale_raw.bathrooms.astype(int)\n",
    "df_properties_for_sale_raw.bedrooms = df_properties_for_sale_raw.bedrooms.astype(int)\n",
    "df_properties_for_sale_raw.carspaces = df_properties_for_sale_raw.carspaces.astype(int)\n",
    "df_properties_for_sale_raw['URL'] = 'http://www.domain.com.au/' + df_properties_for_sale_raw.id.apply(str)\n",
    "df_properties_for_sale_raw = df_properties_for_sale_raw.drop(df_properties_for_sale_raw[df_properties_for_sale_raw[\"landArea\"] > 2000].index)\n",
    "df_properties_for_sale = df_properties_for_sale_raw.style.format({'URL': make_clickable})"
   ]
  },
  {
   "cell_type": "code",
   "execution_count": 94,
   "metadata": {},
   "outputs": [
    {
     "output_type": "execute_result",
     "data": {
      "text/plain": [
       "<pandas.io.formats.style.Styler at 0x7fc69ffe5d90>"
      ],
      "text/html": "<style  type=\"text/css\" >\n</style><table id=\"T_7ee65fee_b54a_11eb_9a8c_31c6e787a2c7\" ><thead>    <tr>        <th class=\"blank level0\" ></th>        <th class=\"col_heading level0 col0\" >state</th>        <th class=\"col_heading level0 col1\" >features</th>        <th class=\"col_heading level0 col2\" >propertyType</th>        <th class=\"col_heading level0 col3\" >bathrooms</th>        <th class=\"col_heading level0 col4\" >bedrooms</th>        <th class=\"col_heading level0 col5\" >carspaces</th>        <th class=\"col_heading level0 col6\" >unitNumber</th>        <th class=\"col_heading level0 col7\" >streetNumber</th>        <th class=\"col_heading level0 col8\" >street</th>        <th class=\"col_heading level0 col9\" >area</th>        <th class=\"col_heading level0 col10\" >region</th>        <th class=\"col_heading level0 col11\" >suburb</th>        <th class=\"col_heading level0 col12\" >postcode</th>        <th class=\"col_heading level0 col13\" >displayableAddress</th>        <th class=\"col_heading level0 col14\" >latitude</th>        <th class=\"col_heading level0 col15\" >longitude</th>        <th class=\"col_heading level0 col16\" >landArea</th>        <th class=\"col_heading level0 col17\" >id</th>        <th class=\"col_heading level0 col18\" >labels</th>        <th class=\"col_heading level0 col19\" >URL</th>    </tr></thead><tbody>\n                <tr>\n                        <th id=\"T_7ee65fee_b54a_11eb_9a8c_31c6e787a2c7level0_row0\" class=\"row_heading level0 row0\" >0</th>\n                        <td id=\"T_7ee65fee_b54a_11eb_9a8c_31c6e787a2c7row0_col0\" class=\"data row0 col0\" >NSW</td>\n                        <td id=\"T_7ee65fee_b54a_11eb_9a8c_31c6e787a2c7row0_col1\" class=\"data row0 col1\" >['BuiltInWardrobes', 'Ensuite', 'Heating', 'Study', 'Shed']</td>\n                        <td id=\"T_7ee65fee_b54a_11eb_9a8c_31c6e787a2c7row0_col2\" class=\"data row0 col2\" >House</td>\n                        <td id=\"T_7ee65fee_b54a_11eb_9a8c_31c6e787a2c7row0_col3\" class=\"data row0 col3\" >3</td>\n                        <td id=\"T_7ee65fee_b54a_11eb_9a8c_31c6e787a2c7row0_col4\" class=\"data row0 col4\" >8</td>\n                        <td id=\"T_7ee65fee_b54a_11eb_9a8c_31c6e787a2c7row0_col5\" class=\"data row0 col5\" >2</td>\n                        <td id=\"T_7ee65fee_b54a_11eb_9a8c_31c6e787a2c7row0_col6\" class=\"data row0 col6\" ></td>\n                        <td id=\"T_7ee65fee_b54a_11eb_9a8c_31c6e787a2c7row0_col7\" class=\"data row0 col7\" >453</td>\n                        <td id=\"T_7ee65fee_b54a_11eb_9a8c_31c6e787a2c7row0_col8\" class=\"data row0 col8\" >Dale Crescent</td>\n                        <td id=\"T_7ee65fee_b54a_11eb_9a8c_31c6e787a2c7row0_col9\" class=\"data row0 col9\" >Albury - Greater Region</td>\n                        <td id=\"T_7ee65fee_b54a_11eb_9a8c_31c6e787a2c7row0_col10\" class=\"data row0 col10\" >Regional NSW</td>\n                        <td id=\"T_7ee65fee_b54a_11eb_9a8c_31c6e787a2c7row0_col11\" class=\"data row0 col11\" >LAVINGTON</td>\n                        <td id=\"T_7ee65fee_b54a_11eb_9a8c_31c6e787a2c7row0_col12\" class=\"data row0 col12\" >2641</td>\n                        <td id=\"T_7ee65fee_b54a_11eb_9a8c_31c6e787a2c7row0_col13\" class=\"data row0 col13\" >453 Dale Crescent, Lavington</td>\n                        <td id=\"T_7ee65fee_b54a_11eb_9a8c_31c6e787a2c7row0_col14\" class=\"data row0 col14\" >-36.043552</td>\n                        <td id=\"T_7ee65fee_b54a_11eb_9a8c_31c6e787a2c7row0_col15\" class=\"data row0 col15\" >146.949036</td>\n                        <td id=\"T_7ee65fee_b54a_11eb_9a8c_31c6e787a2c7row0_col16\" class=\"data row0 col16\" >910</td>\n                        <td id=\"T_7ee65fee_b54a_11eb_9a8c_31c6e787a2c7row0_col17\" class=\"data row0 col17\" >2016990302</td>\n                        <td id=\"T_7ee65fee_b54a_11eb_9a8c_31c6e787a2c7row0_col18\" class=\"data row0 col18\" >0</td>\n                        <td id=\"T_7ee65fee_b54a_11eb_9a8c_31c6e787a2c7row0_col19\" class=\"data row0 col19\" ><a target=\"_blank\" href=\"http://www.domain.com.au/2016990302\"\">http://www.domain.com.au/2016990302</a></td>\n            </tr>\n            <tr>\n                        <th id=\"T_7ee65fee_b54a_11eb_9a8c_31c6e787a2c7level0_row1\" class=\"row_heading level0 row1\" >1</th>\n                        <td id=\"T_7ee65fee_b54a_11eb_9a8c_31c6e787a2c7row1_col0\" class=\"data row1 col0\" >NSW</td>\n                        <td id=\"T_7ee65fee_b54a_11eb_9a8c_31c6e787a2c7row1_col1\" class=\"data row1 col1\" >['BuiltInWardrobes', 'Gas', 'SwimmingPool', 'Heating', 'Shed']</td>\n                        <td id=\"T_7ee65fee_b54a_11eb_9a8c_31c6e787a2c7row1_col2\" class=\"data row1 col2\" >House</td>\n                        <td id=\"T_7ee65fee_b54a_11eb_9a8c_31c6e787a2c7row1_col3\" class=\"data row1 col3\" >2</td>\n                        <td id=\"T_7ee65fee_b54a_11eb_9a8c_31c6e787a2c7row1_col4\" class=\"data row1 col4\" >4</td>\n                        <td id=\"T_7ee65fee_b54a_11eb_9a8c_31c6e787a2c7row1_col5\" class=\"data row1 col5\" >2</td>\n                        <td id=\"T_7ee65fee_b54a_11eb_9a8c_31c6e787a2c7row1_col6\" class=\"data row1 col6\" ></td>\n                        <td id=\"T_7ee65fee_b54a_11eb_9a8c_31c6e787a2c7row1_col7\" class=\"data row1 col7\" >388</td>\n                        <td id=\"T_7ee65fee_b54a_11eb_9a8c_31c6e787a2c7row1_col8\" class=\"data row1 col8\" >Robert Crt</td>\n                        <td id=\"T_7ee65fee_b54a_11eb_9a8c_31c6e787a2c7row1_col9\" class=\"data row1 col9\" >Albury - Greater Region</td>\n                        <td id=\"T_7ee65fee_b54a_11eb_9a8c_31c6e787a2c7row1_col10\" class=\"data row1 col10\" >Regional NSW</td>\n                        <td id=\"T_7ee65fee_b54a_11eb_9a8c_31c6e787a2c7row1_col11\" class=\"data row1 col11\" >LAVINGTON</td>\n                        <td id=\"T_7ee65fee_b54a_11eb_9a8c_31c6e787a2c7row1_col12\" class=\"data row1 col12\" >2641</td>\n                        <td id=\"T_7ee65fee_b54a_11eb_9a8c_31c6e787a2c7row1_col13\" class=\"data row1 col13\" >388 Robert Crt, Lavington</td>\n                        <td id=\"T_7ee65fee_b54a_11eb_9a8c_31c6e787a2c7row1_col14\" class=\"data row1 col14\" >-36.046745</td>\n                        <td id=\"T_7ee65fee_b54a_11eb_9a8c_31c6e787a2c7row1_col15\" class=\"data row1 col15\" >146.935226</td>\n                        <td id=\"T_7ee65fee_b54a_11eb_9a8c_31c6e787a2c7row1_col16\" class=\"data row1 col16\" >912</td>\n                        <td id=\"T_7ee65fee_b54a_11eb_9a8c_31c6e787a2c7row1_col17\" class=\"data row1 col17\" >2016987771</td>\n                        <td id=\"T_7ee65fee_b54a_11eb_9a8c_31c6e787a2c7row1_col18\" class=\"data row1 col18\" >0</td>\n                        <td id=\"T_7ee65fee_b54a_11eb_9a8c_31c6e787a2c7row1_col19\" class=\"data row1 col19\" ><a target=\"_blank\" href=\"http://www.domain.com.au/2016987771\"\">http://www.domain.com.au/2016987771</a></td>\n            </tr>\n            <tr>\n                        <th id=\"T_7ee65fee_b54a_11eb_9a8c_31c6e787a2c7level0_row2\" class=\"row_heading level0 row2\" >2</th>\n                        <td id=\"T_7ee65fee_b54a_11eb_9a8c_31c6e787a2c7row2_col0\" class=\"data row2 col0\" >NSW</td>\n                        <td id=\"T_7ee65fee_b54a_11eb_9a8c_31c6e787a2c7row2_col1\" class=\"data row2 col1\" >['Ensuite', 'SecureParking', 'Heating', 'Shed', 'SolarPanels']</td>\n                        <td id=\"T_7ee65fee_b54a_11eb_9a8c_31c6e787a2c7row2_col2\" class=\"data row2 col2\" >House</td>\n                        <td id=\"T_7ee65fee_b54a_11eb_9a8c_31c6e787a2c7row2_col3\" class=\"data row2 col3\" >2</td>\n                        <td id=\"T_7ee65fee_b54a_11eb_9a8c_31c6e787a2c7row2_col4\" class=\"data row2 col4\" >4</td>\n                        <td id=\"T_7ee65fee_b54a_11eb_9a8c_31c6e787a2c7row2_col5\" class=\"data row2 col5\" >2</td>\n                        <td id=\"T_7ee65fee_b54a_11eb_9a8c_31c6e787a2c7row2_col6\" class=\"data row2 col6\" ></td>\n                        <td id=\"T_7ee65fee_b54a_11eb_9a8c_31c6e787a2c7row2_col7\" class=\"data row2 col7\" >21</td>\n                        <td id=\"T_7ee65fee_b54a_11eb_9a8c_31c6e787a2c7row2_col8\" class=\"data row2 col8\" >Valerie Way</td>\n                        <td id=\"T_7ee65fee_b54a_11eb_9a8c_31c6e787a2c7row2_col9\" class=\"data row2 col9\" >Albury - Greater Region</td>\n                        <td id=\"T_7ee65fee_b54a_11eb_9a8c_31c6e787a2c7row2_col10\" class=\"data row2 col10\" >Regional NSW</td>\n                        <td id=\"T_7ee65fee_b54a_11eb_9a8c_31c6e787a2c7row2_col11\" class=\"data row2 col11\" >LAVINGTON</td>\n                        <td id=\"T_7ee65fee_b54a_11eb_9a8c_31c6e787a2c7row2_col12\" class=\"data row2 col12\" >2641</td>\n                        <td id=\"T_7ee65fee_b54a_11eb_9a8c_31c6e787a2c7row2_col13\" class=\"data row2 col13\" >21 Valerie Way, Lavington</td>\n                        <td id=\"T_7ee65fee_b54a_11eb_9a8c_31c6e787a2c7row2_col14\" class=\"data row2 col14\" >-36.034313</td>\n                        <td id=\"T_7ee65fee_b54a_11eb_9a8c_31c6e787a2c7row2_col15\" class=\"data row2 col15\" >146.941900</td>\n                        <td id=\"T_7ee65fee_b54a_11eb_9a8c_31c6e787a2c7row2_col16\" class=\"data row2 col16\" >799</td>\n                        <td id=\"T_7ee65fee_b54a_11eb_9a8c_31c6e787a2c7row2_col17\" class=\"data row2 col17\" >2016986063</td>\n                        <td id=\"T_7ee65fee_b54a_11eb_9a8c_31c6e787a2c7row2_col18\" class=\"data row2 col18\" >0</td>\n                        <td id=\"T_7ee65fee_b54a_11eb_9a8c_31c6e787a2c7row2_col19\" class=\"data row2 col19\" ><a target=\"_blank\" href=\"http://www.domain.com.au/2016986063\"\">http://www.domain.com.au/2016986063</a></td>\n            </tr>\n            <tr>\n                        <th id=\"T_7ee65fee_b54a_11eb_9a8c_31c6e787a2c7level0_row3\" class=\"row_heading level0 row3\" >3</th>\n                        <td id=\"T_7ee65fee_b54a_11eb_9a8c_31c6e787a2c7row3_col0\" class=\"data row3 col0\" >NSW</td>\n                        <td id=\"T_7ee65fee_b54a_11eb_9a8c_31c6e787a2c7row3_col1\" class=\"data row3 col1\" >['Ensuite', 'SecureParking', 'Shed']</td>\n                        <td id=\"T_7ee65fee_b54a_11eb_9a8c_31c6e787a2c7row3_col2\" class=\"data row3 col2\" >House</td>\n                        <td id=\"T_7ee65fee_b54a_11eb_9a8c_31c6e787a2c7row3_col3\" class=\"data row3 col3\" >2</td>\n                        <td id=\"T_7ee65fee_b54a_11eb_9a8c_31c6e787a2c7row3_col4\" class=\"data row3 col4\" >3</td>\n                        <td id=\"T_7ee65fee_b54a_11eb_9a8c_31c6e787a2c7row3_col5\" class=\"data row3 col5\" >2</td>\n                        <td id=\"T_7ee65fee_b54a_11eb_9a8c_31c6e787a2c7row3_col6\" class=\"data row3 col6\" ></td>\n                        <td id=\"T_7ee65fee_b54a_11eb_9a8c_31c6e787a2c7row3_col7\" class=\"data row3 col7\" >53</td>\n                        <td id=\"T_7ee65fee_b54a_11eb_9a8c_31c6e787a2c7row3_col8\" class=\"data row3 col8\" >Lawson Circuit</td>\n                        <td id=\"T_7ee65fee_b54a_11eb_9a8c_31c6e787a2c7row3_col9\" class=\"data row3 col9\" >Albury - Greater Region</td>\n                        <td id=\"T_7ee65fee_b54a_11eb_9a8c_31c6e787a2c7row3_col10\" class=\"data row3 col10\" >Regional NSW</td>\n                        <td id=\"T_7ee65fee_b54a_11eb_9a8c_31c6e787a2c7row3_col11\" class=\"data row3 col11\" >LAVINGTON</td>\n                        <td id=\"T_7ee65fee_b54a_11eb_9a8c_31c6e787a2c7row3_col12\" class=\"data row3 col12\" >2641</td>\n                        <td id=\"T_7ee65fee_b54a_11eb_9a8c_31c6e787a2c7row3_col13\" class=\"data row3 col13\" >53 Lawson Circuit, Lavington</td>\n                        <td id=\"T_7ee65fee_b54a_11eb_9a8c_31c6e787a2c7row3_col14\" class=\"data row3 col14\" >-36.043500</td>\n                        <td id=\"T_7ee65fee_b54a_11eb_9a8c_31c6e787a2c7row3_col15\" class=\"data row3 col15\" >146.956757</td>\n                        <td id=\"T_7ee65fee_b54a_11eb_9a8c_31c6e787a2c7row3_col16\" class=\"data row3 col16\" >631</td>\n                        <td id=\"T_7ee65fee_b54a_11eb_9a8c_31c6e787a2c7row3_col17\" class=\"data row3 col17\" >2016984656</td>\n                        <td id=\"T_7ee65fee_b54a_11eb_9a8c_31c6e787a2c7row3_col18\" class=\"data row3 col18\" >0</td>\n                        <td id=\"T_7ee65fee_b54a_11eb_9a8c_31c6e787a2c7row3_col19\" class=\"data row3 col19\" ><a target=\"_blank\" href=\"http://www.domain.com.au/2016984656\"\">http://www.domain.com.au/2016984656</a></td>\n            </tr>\n            <tr>\n                        <th id=\"T_7ee65fee_b54a_11eb_9a8c_31c6e787a2c7level0_row4\" class=\"row_heading level0 row4\" >5</th>\n                        <td id=\"T_7ee65fee_b54a_11eb_9a8c_31c6e787a2c7row4_col0\" class=\"data row4 col0\" >NSW</td>\n                        <td id=\"T_7ee65fee_b54a_11eb_9a8c_31c6e787a2c7row4_col1\" class=\"data row4 col1\" >['AirConditioning', 'BuiltInWardrobes', 'Ensuite', 'Gas', 'SecureParking', 'Heating']</td>\n                        <td id=\"T_7ee65fee_b54a_11eb_9a8c_31c6e787a2c7row4_col2\" class=\"data row4 col2\" >House</td>\n                        <td id=\"T_7ee65fee_b54a_11eb_9a8c_31c6e787a2c7row4_col3\" class=\"data row4 col3\" >2</td>\n                        <td id=\"T_7ee65fee_b54a_11eb_9a8c_31c6e787a2c7row4_col4\" class=\"data row4 col4\" >3</td>\n                        <td id=\"T_7ee65fee_b54a_11eb_9a8c_31c6e787a2c7row4_col5\" class=\"data row4 col5\" >2</td>\n                        <td id=\"T_7ee65fee_b54a_11eb_9a8c_31c6e787a2c7row4_col6\" class=\"data row4 col6\" ></td>\n                        <td id=\"T_7ee65fee_b54a_11eb_9a8c_31c6e787a2c7row4_col7\" class=\"data row4 col7\" >12</td>\n                        <td id=\"T_7ee65fee_b54a_11eb_9a8c_31c6e787a2c7row4_col8\" class=\"data row4 col8\" >Brookfields Mews</td>\n                        <td id=\"T_7ee65fee_b54a_11eb_9a8c_31c6e787a2c7row4_col9\" class=\"data row4 col9\" >Albury - Greater Region</td>\n                        <td id=\"T_7ee65fee_b54a_11eb_9a8c_31c6e787a2c7row4_col10\" class=\"data row4 col10\" >Regional NSW</td>\n                        <td id=\"T_7ee65fee_b54a_11eb_9a8c_31c6e787a2c7row4_col11\" class=\"data row4 col11\" >LAVINGTON</td>\n                        <td id=\"T_7ee65fee_b54a_11eb_9a8c_31c6e787a2c7row4_col12\" class=\"data row4 col12\" >2641</td>\n                        <td id=\"T_7ee65fee_b54a_11eb_9a8c_31c6e787a2c7row4_col13\" class=\"data row4 col13\" >12 Brookfields Mews, Lavington</td>\n                        <td id=\"T_7ee65fee_b54a_11eb_9a8c_31c6e787a2c7row4_col14\" class=\"data row4 col14\" >-36.045715</td>\n                        <td id=\"T_7ee65fee_b54a_11eb_9a8c_31c6e787a2c7row4_col15\" class=\"data row4 col15\" >146.925980</td>\n                        <td id=\"T_7ee65fee_b54a_11eb_9a8c_31c6e787a2c7row4_col16\" class=\"data row4 col16\" >359</td>\n                        <td id=\"T_7ee65fee_b54a_11eb_9a8c_31c6e787a2c7row4_col17\" class=\"data row4 col17\" >2016978657</td>\n                        <td id=\"T_7ee65fee_b54a_11eb_9a8c_31c6e787a2c7row4_col18\" class=\"data row4 col18\" >0</td>\n                        <td id=\"T_7ee65fee_b54a_11eb_9a8c_31c6e787a2c7row4_col19\" class=\"data row4 col19\" ><a target=\"_blank\" href=\"http://www.domain.com.au/2016978657\"\">http://www.domain.com.au/2016978657</a></td>\n            </tr>\n            <tr>\n                        <th id=\"T_7ee65fee_b54a_11eb_9a8c_31c6e787a2c7level0_row5\" class=\"row_heading level0 row5\" >6</th>\n                        <td id=\"T_7ee65fee_b54a_11eb_9a8c_31c6e787a2c7row5_col0\" class=\"data row5 col0\" >NSW</td>\n                        <td id=\"T_7ee65fee_b54a_11eb_9a8c_31c6e787a2c7row5_col1\" class=\"data row5 col1\" >['AirConditioning', 'Gas', 'Heating', 'Shed']</td>\n                        <td id=\"T_7ee65fee_b54a_11eb_9a8c_31c6e787a2c7row5_col2\" class=\"data row5 col2\" >House</td>\n                        <td id=\"T_7ee65fee_b54a_11eb_9a8c_31c6e787a2c7row5_col3\" class=\"data row5 col3\" >1</td>\n                        <td id=\"T_7ee65fee_b54a_11eb_9a8c_31c6e787a2c7row5_col4\" class=\"data row5 col4\" >3</td>\n                        <td id=\"T_7ee65fee_b54a_11eb_9a8c_31c6e787a2c7row5_col5\" class=\"data row5 col5\" >2</td>\n                        <td id=\"T_7ee65fee_b54a_11eb_9a8c_31c6e787a2c7row5_col6\" class=\"data row5 col6\" ></td>\n                        <td id=\"T_7ee65fee_b54a_11eb_9a8c_31c6e787a2c7row5_col7\" class=\"data row5 col7\" >497</td>\n                        <td id=\"T_7ee65fee_b54a_11eb_9a8c_31c6e787a2c7row5_col8\" class=\"data row5 col8\" >Parnall Street</td>\n                        <td id=\"T_7ee65fee_b54a_11eb_9a8c_31c6e787a2c7row5_col9\" class=\"data row5 col9\" >Albury - Greater Region</td>\n                        <td id=\"T_7ee65fee_b54a_11eb_9a8c_31c6e787a2c7row5_col10\" class=\"data row5 col10\" >Regional NSW</td>\n                        <td id=\"T_7ee65fee_b54a_11eb_9a8c_31c6e787a2c7row5_col11\" class=\"data row5 col11\" >LAVINGTON</td>\n                        <td id=\"T_7ee65fee_b54a_11eb_9a8c_31c6e787a2c7row5_col12\" class=\"data row5 col12\" >2641</td>\n                        <td id=\"T_7ee65fee_b54a_11eb_9a8c_31c6e787a2c7row5_col13\" class=\"data row5 col13\" >497 Parnall Street, Lavington</td>\n                        <td id=\"T_7ee65fee_b54a_11eb_9a8c_31c6e787a2c7row5_col14\" class=\"data row5 col14\" >-36.038746</td>\n                        <td id=\"T_7ee65fee_b54a_11eb_9a8c_31c6e787a2c7row5_col15\" class=\"data row5 col15\" >146.930634</td>\n                        <td id=\"T_7ee65fee_b54a_11eb_9a8c_31c6e787a2c7row5_col16\" class=\"data row5 col16\" >780</td>\n                        <td id=\"T_7ee65fee_b54a_11eb_9a8c_31c6e787a2c7row5_col17\" class=\"data row5 col17\" >2016969545</td>\n                        <td id=\"T_7ee65fee_b54a_11eb_9a8c_31c6e787a2c7row5_col18\" class=\"data row5 col18\" >0</td>\n                        <td id=\"T_7ee65fee_b54a_11eb_9a8c_31c6e787a2c7row5_col19\" class=\"data row5 col19\" ><a target=\"_blank\" href=\"http://www.domain.com.au/2016969545\"\">http://www.domain.com.au/2016969545</a></td>\n            </tr>\n            <tr>\n                        <th id=\"T_7ee65fee_b54a_11eb_9a8c_31c6e787a2c7level0_row6\" class=\"row_heading level0 row6\" >7</th>\n                        <td id=\"T_7ee65fee_b54a_11eb_9a8c_31c6e787a2c7row6_col0\" class=\"data row6 col0\" >NSW</td>\n                        <td id=\"T_7ee65fee_b54a_11eb_9a8c_31c6e787a2c7row6_col1\" class=\"data row6 col1\" >['Ensuite', 'Floorboards', 'SecureParking', 'Heating', 'Study']</td>\n                        <td id=\"T_7ee65fee_b54a_11eb_9a8c_31c6e787a2c7row6_col2\" class=\"data row6 col2\" >House</td>\n                        <td id=\"T_7ee65fee_b54a_11eb_9a8c_31c6e787a2c7row6_col3\" class=\"data row6 col3\" >3</td>\n                        <td id=\"T_7ee65fee_b54a_11eb_9a8c_31c6e787a2c7row6_col4\" class=\"data row6 col4\" >3</td>\n                        <td id=\"T_7ee65fee_b54a_11eb_9a8c_31c6e787a2c7row6_col5\" class=\"data row6 col5\" >2</td>\n                        <td id=\"T_7ee65fee_b54a_11eb_9a8c_31c6e787a2c7row6_col6\" class=\"data row6 col6\" ></td>\n                        <td id=\"T_7ee65fee_b54a_11eb_9a8c_31c6e787a2c7row6_col7\" class=\"data row6 col7\" >283</td>\n                        <td id=\"T_7ee65fee_b54a_11eb_9a8c_31c6e787a2c7row6_col8\" class=\"data row6 col8\" >Highview Crescent</td>\n                        <td id=\"T_7ee65fee_b54a_11eb_9a8c_31c6e787a2c7row6_col9\" class=\"data row6 col9\" >Albury - Greater Region</td>\n                        <td id=\"T_7ee65fee_b54a_11eb_9a8c_31c6e787a2c7row6_col10\" class=\"data row6 col10\" >Regional NSW</td>\n                        <td id=\"T_7ee65fee_b54a_11eb_9a8c_31c6e787a2c7row6_col11\" class=\"data row6 col11\" >LAVINGTON</td>\n                        <td id=\"T_7ee65fee_b54a_11eb_9a8c_31c6e787a2c7row6_col12\" class=\"data row6 col12\" >2641</td>\n                        <td id=\"T_7ee65fee_b54a_11eb_9a8c_31c6e787a2c7row6_col13\" class=\"data row6 col13\" >283 Highview Crescent, Lavington</td>\n                        <td id=\"T_7ee65fee_b54a_11eb_9a8c_31c6e787a2c7row6_col14\" class=\"data row6 col14\" >-36.046932</td>\n                        <td id=\"T_7ee65fee_b54a_11eb_9a8c_31c6e787a2c7row6_col15\" class=\"data row6 col15\" >146.952728</td>\n                        <td id=\"T_7ee65fee_b54a_11eb_9a8c_31c6e787a2c7row6_col16\" class=\"data row6 col16\" >847</td>\n                        <td id=\"T_7ee65fee_b54a_11eb_9a8c_31c6e787a2c7row6_col17\" class=\"data row6 col17\" >2016962604</td>\n                        <td id=\"T_7ee65fee_b54a_11eb_9a8c_31c6e787a2c7row6_col18\" class=\"data row6 col18\" >0</td>\n                        <td id=\"T_7ee65fee_b54a_11eb_9a8c_31c6e787a2c7row6_col19\" class=\"data row6 col19\" ><a target=\"_blank\" href=\"http://www.domain.com.au/2016962604\"\">http://www.domain.com.au/2016962604</a></td>\n            </tr>\n            <tr>\n                        <th id=\"T_7ee65fee_b54a_11eb_9a8c_31c6e787a2c7level0_row7\" class=\"row_heading level0 row7\" >8</th>\n                        <td id=\"T_7ee65fee_b54a_11eb_9a8c_31c6e787a2c7row7_col0\" class=\"data row7 col0\" >NSW</td>\n                        <td id=\"T_7ee65fee_b54a_11eb_9a8c_31c6e787a2c7row7_col1\" class=\"data row7 col1\" >['AirConditioning', 'BuiltInWardrobes', 'Gas', 'SecureParking', 'Heating', 'Study', 'Shed', 'FullyFenced']</td>\n                        <td id=\"T_7ee65fee_b54a_11eb_9a8c_31c6e787a2c7row7_col2\" class=\"data row7 col2\" >House</td>\n                        <td id=\"T_7ee65fee_b54a_11eb_9a8c_31c6e787a2c7row7_col3\" class=\"data row7 col3\" >2</td>\n                        <td id=\"T_7ee65fee_b54a_11eb_9a8c_31c6e787a2c7row7_col4\" class=\"data row7 col4\" >4</td>\n                        <td id=\"T_7ee65fee_b54a_11eb_9a8c_31c6e787a2c7row7_col5\" class=\"data row7 col5\" >4</td>\n                        <td id=\"T_7ee65fee_b54a_11eb_9a8c_31c6e787a2c7row7_col6\" class=\"data row7 col6\" ></td>\n                        <td id=\"T_7ee65fee_b54a_11eb_9a8c_31c6e787a2c7row7_col7\" class=\"data row7 col7\" >496</td>\n                        <td id=\"T_7ee65fee_b54a_11eb_9a8c_31c6e787a2c7row7_col8\" class=\"data row7 col8\" >Prune St</td>\n                        <td id=\"T_7ee65fee_b54a_11eb_9a8c_31c6e787a2c7row7_col9\" class=\"data row7 col9\" >Albury - Greater Region</td>\n                        <td id=\"T_7ee65fee_b54a_11eb_9a8c_31c6e787a2c7row7_col10\" class=\"data row7 col10\" >Regional NSW</td>\n                        <td id=\"T_7ee65fee_b54a_11eb_9a8c_31c6e787a2c7row7_col11\" class=\"data row7 col11\" >LAVINGTON</td>\n                        <td id=\"T_7ee65fee_b54a_11eb_9a8c_31c6e787a2c7row7_col12\" class=\"data row7 col12\" >2641</td>\n                        <td id=\"T_7ee65fee_b54a_11eb_9a8c_31c6e787a2c7row7_col13\" class=\"data row7 col13\" >496 Prune St, Lavington</td>\n                        <td id=\"T_7ee65fee_b54a_11eb_9a8c_31c6e787a2c7row7_col14\" class=\"data row7 col14\" >-36.039400</td>\n                        <td id=\"T_7ee65fee_b54a_11eb_9a8c_31c6e787a2c7row7_col15\" class=\"data row7 col15\" >146.935760</td>\n                        <td id=\"T_7ee65fee_b54a_11eb_9a8c_31c6e787a2c7row7_col16\" class=\"data row7 col16\" >923</td>\n                        <td id=\"T_7ee65fee_b54a_11eb_9a8c_31c6e787a2c7row7_col17\" class=\"data row7 col17\" >2016955601</td>\n                        <td id=\"T_7ee65fee_b54a_11eb_9a8c_31c6e787a2c7row7_col18\" class=\"data row7 col18\" >0</td>\n                        <td id=\"T_7ee65fee_b54a_11eb_9a8c_31c6e787a2c7row7_col19\" class=\"data row7 col19\" ><a target=\"_blank\" href=\"http://www.domain.com.au/2016955601\"\">http://www.domain.com.au/2016955601</a></td>\n            </tr>\n            <tr>\n                        <th id=\"T_7ee65fee_b54a_11eb_9a8c_31c6e787a2c7level0_row8\" class=\"row_heading level0 row8\" >9</th>\n                        <td id=\"T_7ee65fee_b54a_11eb_9a8c_31c6e787a2c7row8_col0\" class=\"data row8 col0\" >NSW</td>\n                        <td id=\"T_7ee65fee_b54a_11eb_9a8c_31c6e787a2c7row8_col1\" class=\"data row8 col1\" >['AirConditioning', 'BuiltInWardrobes', 'Gas', 'SecureParking', 'AlarmSystem', 'Heating', 'Dishwasher', 'Shed']</td>\n                        <td id=\"T_7ee65fee_b54a_11eb_9a8c_31c6e787a2c7row8_col2\" class=\"data row8 col2\" >House</td>\n                        <td id=\"T_7ee65fee_b54a_11eb_9a8c_31c6e787a2c7row8_col3\" class=\"data row8 col3\" >1</td>\n                        <td id=\"T_7ee65fee_b54a_11eb_9a8c_31c6e787a2c7row8_col4\" class=\"data row8 col4\" >3</td>\n                        <td id=\"T_7ee65fee_b54a_11eb_9a8c_31c6e787a2c7row8_col5\" class=\"data row8 col5\" >4</td>\n                        <td id=\"T_7ee65fee_b54a_11eb_9a8c_31c6e787a2c7row8_col6\" class=\"data row8 col6\" ></td>\n                        <td id=\"T_7ee65fee_b54a_11eb_9a8c_31c6e787a2c7row8_col7\" class=\"data row8 col7\" >671</td>\n                        <td id=\"T_7ee65fee_b54a_11eb_9a8c_31c6e787a2c7row8_col8\" class=\"data row8 col8\" >Pearsall Street</td>\n                        <td id=\"T_7ee65fee_b54a_11eb_9a8c_31c6e787a2c7row8_col9\" class=\"data row8 col9\" >Albury - Greater Region</td>\n                        <td id=\"T_7ee65fee_b54a_11eb_9a8c_31c6e787a2c7row8_col10\" class=\"data row8 col10\" >Regional NSW</td>\n                        <td id=\"T_7ee65fee_b54a_11eb_9a8c_31c6e787a2c7row8_col11\" class=\"data row8 col11\" >LAVINGTON</td>\n                        <td id=\"T_7ee65fee_b54a_11eb_9a8c_31c6e787a2c7row8_col12\" class=\"data row8 col12\" >2641</td>\n                        <td id=\"T_7ee65fee_b54a_11eb_9a8c_31c6e787a2c7row8_col13\" class=\"data row8 col13\" >671 Pearsall Street, Lavington</td>\n                        <td id=\"T_7ee65fee_b54a_11eb_9a8c_31c6e787a2c7row8_col14\" class=\"data row8 col14\" >-36.037823</td>\n                        <td id=\"T_7ee65fee_b54a_11eb_9a8c_31c6e787a2c7row8_col15\" class=\"data row8 col15\" >146.921051</td>\n                        <td id=\"T_7ee65fee_b54a_11eb_9a8c_31c6e787a2c7row8_col16\" class=\"data row8 col16\" >976</td>\n                        <td id=\"T_7ee65fee_b54a_11eb_9a8c_31c6e787a2c7row8_col17\" class=\"data row8 col17\" >2016949385</td>\n                        <td id=\"T_7ee65fee_b54a_11eb_9a8c_31c6e787a2c7row8_col18\" class=\"data row8 col18\" >0</td>\n                        <td id=\"T_7ee65fee_b54a_11eb_9a8c_31c6e787a2c7row8_col19\" class=\"data row8 col19\" ><a target=\"_blank\" href=\"http://www.domain.com.au/2016949385\"\">http://www.domain.com.au/2016949385</a></td>\n            </tr>\n            <tr>\n                        <th id=\"T_7ee65fee_b54a_11eb_9a8c_31c6e787a2c7level0_row9\" class=\"row_heading level0 row9\" >10</th>\n                        <td id=\"T_7ee65fee_b54a_11eb_9a8c_31c6e787a2c7row9_col0\" class=\"data row9 col0\" >NSW</td>\n                        <td id=\"T_7ee65fee_b54a_11eb_9a8c_31c6e787a2c7row9_col1\" class=\"data row9 col1\" >['BuiltInWardrobes', 'Gas', 'SecureParking', 'Heating', 'Dishwasher', 'Shed', 'FullyFenced']</td>\n                        <td id=\"T_7ee65fee_b54a_11eb_9a8c_31c6e787a2c7row9_col2\" class=\"data row9 col2\" >House</td>\n                        <td id=\"T_7ee65fee_b54a_11eb_9a8c_31c6e787a2c7row9_col3\" class=\"data row9 col3\" >2</td>\n                        <td id=\"T_7ee65fee_b54a_11eb_9a8c_31c6e787a2c7row9_col4\" class=\"data row9 col4\" >3</td>\n                        <td id=\"T_7ee65fee_b54a_11eb_9a8c_31c6e787a2c7row9_col5\" class=\"data row9 col5\" >3</td>\n                        <td id=\"T_7ee65fee_b54a_11eb_9a8c_31c6e787a2c7row9_col6\" class=\"data row9 col6\" ></td>\n                        <td id=\"T_7ee65fee_b54a_11eb_9a8c_31c6e787a2c7row9_col7\" class=\"data row9 col7\" >27</td>\n                        <td id=\"T_7ee65fee_b54a_11eb_9a8c_31c6e787a2c7row9_col8\" class=\"data row9 col8\" >Mountain View Dr (Quicks Hill)</td>\n                        <td id=\"T_7ee65fee_b54a_11eb_9a8c_31c6e787a2c7row9_col9\" class=\"data row9 col9\" >Albury - Greater Region</td>\n                        <td id=\"T_7ee65fee_b54a_11eb_9a8c_31c6e787a2c7row9_col10\" class=\"data row9 col10\" >Regional NSW</td>\n                        <td id=\"T_7ee65fee_b54a_11eb_9a8c_31c6e787a2c7row9_col11\" class=\"data row9 col11\" >LAVINGTON</td>\n                        <td id=\"T_7ee65fee_b54a_11eb_9a8c_31c6e787a2c7row9_col12\" class=\"data row9 col12\" >2641</td>\n                        <td id=\"T_7ee65fee_b54a_11eb_9a8c_31c6e787a2c7row9_col13\" class=\"data row9 col13\" >27 Mountain View Dr (Quicks Hill), Lavington</td>\n                        <td id=\"T_7ee65fee_b54a_11eb_9a8c_31c6e787a2c7row9_col14\" class=\"data row9 col14\" >-36.049522</td>\n                        <td id=\"T_7ee65fee_b54a_11eb_9a8c_31c6e787a2c7row9_col15\" class=\"data row9 col15\" >146.953949</td>\n                        <td id=\"T_7ee65fee_b54a_11eb_9a8c_31c6e787a2c7row9_col16\" class=\"data row9 col16\" >683</td>\n                        <td id=\"T_7ee65fee_b54a_11eb_9a8c_31c6e787a2c7row9_col17\" class=\"data row9 col17\" >2016944320</td>\n                        <td id=\"T_7ee65fee_b54a_11eb_9a8c_31c6e787a2c7row9_col18\" class=\"data row9 col18\" >0</td>\n                        <td id=\"T_7ee65fee_b54a_11eb_9a8c_31c6e787a2c7row9_col19\" class=\"data row9 col19\" ><a target=\"_blank\" href=\"http://www.domain.com.au/2016944320\"\">http://www.domain.com.au/2016944320</a></td>\n            </tr>\n            <tr>\n                        <th id=\"T_7ee65fee_b54a_11eb_9a8c_31c6e787a2c7level0_row10\" class=\"row_heading level0 row10\" >11</th>\n                        <td id=\"T_7ee65fee_b54a_11eb_9a8c_31c6e787a2c7row10_col0\" class=\"data row10 col0\" >NSW</td>\n                        <td id=\"T_7ee65fee_b54a_11eb_9a8c_31c6e787a2c7row10_col1\" class=\"data row10 col1\" >['AirConditioning', 'BuiltInWardrobes', 'Gas', 'SecureParking', 'Dishwasher', 'Study']</td>\n                        <td id=\"T_7ee65fee_b54a_11eb_9a8c_31c6e787a2c7row10_col2\" class=\"data row10 col2\" >House</td>\n                        <td id=\"T_7ee65fee_b54a_11eb_9a8c_31c6e787a2c7row10_col3\" class=\"data row10 col3\" >1</td>\n                        <td id=\"T_7ee65fee_b54a_11eb_9a8c_31c6e787a2c7row10_col4\" class=\"data row10 col4\" >3</td>\n                        <td id=\"T_7ee65fee_b54a_11eb_9a8c_31c6e787a2c7row10_col5\" class=\"data row10 col5\" >3</td>\n                        <td id=\"T_7ee65fee_b54a_11eb_9a8c_31c6e787a2c7row10_col6\" class=\"data row10 col6\" ></td>\n                        <td id=\"T_7ee65fee_b54a_11eb_9a8c_31c6e787a2c7row10_col7\" class=\"data row10 col7\" >325</td>\n                        <td id=\"T_7ee65fee_b54a_11eb_9a8c_31c6e787a2c7row10_col8\" class=\"data row10 col8\" >Haines Crt</td>\n                        <td id=\"T_7ee65fee_b54a_11eb_9a8c_31c6e787a2c7row10_col9\" class=\"data row10 col9\" >Albury - Greater Region</td>\n                        <td id=\"T_7ee65fee_b54a_11eb_9a8c_31c6e787a2c7row10_col10\" class=\"data row10 col10\" >Regional NSW</td>\n                        <td id=\"T_7ee65fee_b54a_11eb_9a8c_31c6e787a2c7row10_col11\" class=\"data row10 col11\" >LAVINGTON</td>\n                        <td id=\"T_7ee65fee_b54a_11eb_9a8c_31c6e787a2c7row10_col12\" class=\"data row10 col12\" >2641</td>\n                        <td id=\"T_7ee65fee_b54a_11eb_9a8c_31c6e787a2c7row10_col13\" class=\"data row10 col13\" >325 Haines Crt, Lavington</td>\n                        <td id=\"T_7ee65fee_b54a_11eb_9a8c_31c6e787a2c7row10_col14\" class=\"data row10 col14\" >-36.053757</td>\n                        <td id=\"T_7ee65fee_b54a_11eb_9a8c_31c6e787a2c7row10_col15\" class=\"data row10 col15\" >146.947723</td>\n                        <td id=\"T_7ee65fee_b54a_11eb_9a8c_31c6e787a2c7row10_col16\" class=\"data row10 col16\" >785</td>\n                        <td id=\"T_7ee65fee_b54a_11eb_9a8c_31c6e787a2c7row10_col17\" class=\"data row10 col17\" >2016940228</td>\n                        <td id=\"T_7ee65fee_b54a_11eb_9a8c_31c6e787a2c7row10_col18\" class=\"data row10 col18\" >0</td>\n                        <td id=\"T_7ee65fee_b54a_11eb_9a8c_31c6e787a2c7row10_col19\" class=\"data row10 col19\" ><a target=\"_blank\" href=\"http://www.domain.com.au/2016940228\"\">http://www.domain.com.au/2016940228</a></td>\n            </tr>\n            <tr>\n                        <th id=\"T_7ee65fee_b54a_11eb_9a8c_31c6e787a2c7level0_row11\" class=\"row_heading level0 row11\" >12</th>\n                        <td id=\"T_7ee65fee_b54a_11eb_9a8c_31c6e787a2c7row11_col0\" class=\"data row11 col0\" >NSW</td>\n                        <td id=\"T_7ee65fee_b54a_11eb_9a8c_31c6e787a2c7row11_col1\" class=\"data row11 col1\" >['AirConditioning', 'BuiltInWardrobes', 'Ensuite', 'Gas', 'SecureParking', 'Heating', 'Dishwasher', 'Study']</td>\n                        <td id=\"T_7ee65fee_b54a_11eb_9a8c_31c6e787a2c7row11_col2\" class=\"data row11 col2\" >House</td>\n                        <td id=\"T_7ee65fee_b54a_11eb_9a8c_31c6e787a2c7row11_col3\" class=\"data row11 col3\" >2</td>\n                        <td id=\"T_7ee65fee_b54a_11eb_9a8c_31c6e787a2c7row11_col4\" class=\"data row11 col4\" >3</td>\n                        <td id=\"T_7ee65fee_b54a_11eb_9a8c_31c6e787a2c7row11_col5\" class=\"data row11 col5\" >6</td>\n                        <td id=\"T_7ee65fee_b54a_11eb_9a8c_31c6e787a2c7row11_col6\" class=\"data row11 col6\" ></td>\n                        <td id=\"T_7ee65fee_b54a_11eb_9a8c_31c6e787a2c7row11_col7\" class=\"data row11 col7\" >296</td>\n                        <td id=\"T_7ee65fee_b54a_11eb_9a8c_31c6e787a2c7row11_col8\" class=\"data row11 col8\" >Warren Street</td>\n                        <td id=\"T_7ee65fee_b54a_11eb_9a8c_31c6e787a2c7row11_col9\" class=\"data row11 col9\" >Albury - Greater Region</td>\n                        <td id=\"T_7ee65fee_b54a_11eb_9a8c_31c6e787a2c7row11_col10\" class=\"data row11 col10\" >Regional NSW</td>\n                        <td id=\"T_7ee65fee_b54a_11eb_9a8c_31c6e787a2c7row11_col11\" class=\"data row11 col11\" >LAVINGTON</td>\n                        <td id=\"T_7ee65fee_b54a_11eb_9a8c_31c6e787a2c7row11_col12\" class=\"data row11 col12\" >2641</td>\n                        <td id=\"T_7ee65fee_b54a_11eb_9a8c_31c6e787a2c7row11_col13\" class=\"data row11 col13\" >296 Warren Street, Lavington</td>\n                        <td id=\"T_7ee65fee_b54a_11eb_9a8c_31c6e787a2c7row11_col14\" class=\"data row11 col14\" >-36.042770</td>\n                        <td id=\"T_7ee65fee_b54a_11eb_9a8c_31c6e787a2c7row11_col15\" class=\"data row11 col15\" >146.954712</td>\n                        <td id=\"T_7ee65fee_b54a_11eb_9a8c_31c6e787a2c7row11_col16\" class=\"data row11 col16\" >645</td>\n                        <td id=\"T_7ee65fee_b54a_11eb_9a8c_31c6e787a2c7row11_col17\" class=\"data row11 col17\" >2016935820</td>\n                        <td id=\"T_7ee65fee_b54a_11eb_9a8c_31c6e787a2c7row11_col18\" class=\"data row11 col18\" >0</td>\n                        <td id=\"T_7ee65fee_b54a_11eb_9a8c_31c6e787a2c7row11_col19\" class=\"data row11 col19\" ><a target=\"_blank\" href=\"http://www.domain.com.au/2016935820\"\">http://www.domain.com.au/2016935820</a></td>\n            </tr>\n            <tr>\n                        <th id=\"T_7ee65fee_b54a_11eb_9a8c_31c6e787a2c7level0_row12\" class=\"row_heading level0 row12\" >13</th>\n                        <td id=\"T_7ee65fee_b54a_11eb_9a8c_31c6e787a2c7row12_col0\" class=\"data row12 col0\" >NSW</td>\n                        <td id=\"T_7ee65fee_b54a_11eb_9a8c_31c6e787a2c7row12_col1\" class=\"data row12 col1\" >['SecureParking', 'Heating']</td>\n                        <td id=\"T_7ee65fee_b54a_11eb_9a8c_31c6e787a2c7row12_col2\" class=\"data row12 col2\" >House</td>\n                        <td id=\"T_7ee65fee_b54a_11eb_9a8c_31c6e787a2c7row12_col3\" class=\"data row12 col3\" >2</td>\n                        <td id=\"T_7ee65fee_b54a_11eb_9a8c_31c6e787a2c7row12_col4\" class=\"data row12 col4\" >4</td>\n                        <td id=\"T_7ee65fee_b54a_11eb_9a8c_31c6e787a2c7row12_col5\" class=\"data row12 col5\" >4</td>\n                        <td id=\"T_7ee65fee_b54a_11eb_9a8c_31c6e787a2c7row12_col6\" class=\"data row12 col6\" ></td>\n                        <td id=\"T_7ee65fee_b54a_11eb_9a8c_31c6e787a2c7row12_col7\" class=\"data row12 col7\" >19</td>\n                        <td id=\"T_7ee65fee_b54a_11eb_9a8c_31c6e787a2c7row12_col8\" class=\"data row12 col8\" >Janette Court</td>\n                        <td id=\"T_7ee65fee_b54a_11eb_9a8c_31c6e787a2c7row12_col9\" class=\"data row12 col9\" >Albury - Greater Region</td>\n                        <td id=\"T_7ee65fee_b54a_11eb_9a8c_31c6e787a2c7row12_col10\" class=\"data row12 col10\" >Regional NSW</td>\n                        <td id=\"T_7ee65fee_b54a_11eb_9a8c_31c6e787a2c7row12_col11\" class=\"data row12 col11\" >LAVINGTON</td>\n                        <td id=\"T_7ee65fee_b54a_11eb_9a8c_31c6e787a2c7row12_col12\" class=\"data row12 col12\" >2641</td>\n                        <td id=\"T_7ee65fee_b54a_11eb_9a8c_31c6e787a2c7row12_col13\" class=\"data row12 col13\" >19 Janette Court, Lavington</td>\n                        <td id=\"T_7ee65fee_b54a_11eb_9a8c_31c6e787a2c7row12_col14\" class=\"data row12 col14\" >-36.040740</td>\n                        <td id=\"T_7ee65fee_b54a_11eb_9a8c_31c6e787a2c7row12_col15\" class=\"data row12 col15\" >146.922409</td>\n                        <td id=\"T_7ee65fee_b54a_11eb_9a8c_31c6e787a2c7row12_col16\" class=\"data row12 col16\" >764</td>\n                        <td id=\"T_7ee65fee_b54a_11eb_9a8c_31c6e787a2c7row12_col17\" class=\"data row12 col17\" >2016935246</td>\n                        <td id=\"T_7ee65fee_b54a_11eb_9a8c_31c6e787a2c7row12_col18\" class=\"data row12 col18\" >0</td>\n                        <td id=\"T_7ee65fee_b54a_11eb_9a8c_31c6e787a2c7row12_col19\" class=\"data row12 col19\" ><a target=\"_blank\" href=\"http://www.domain.com.au/2016935246\"\">http://www.domain.com.au/2016935246</a></td>\n            </tr>\n            <tr>\n                        <th id=\"T_7ee65fee_b54a_11eb_9a8c_31c6e787a2c7level0_row13\" class=\"row_heading level0 row13\" >14</th>\n                        <td id=\"T_7ee65fee_b54a_11eb_9a8c_31c6e787a2c7row13_col0\" class=\"data row13 col0\" >NSW</td>\n                        <td id=\"T_7ee65fee_b54a_11eb_9a8c_31c6e787a2c7row13_col1\" class=\"data row13 col1\" >['AirConditioning', 'BuiltInWardrobes', 'Ensuite', 'Gas', 'PetsAllowed', 'Heating', 'Dishwasher']</td>\n                        <td id=\"T_7ee65fee_b54a_11eb_9a8c_31c6e787a2c7row13_col2\" class=\"data row13 col2\" >House</td>\n                        <td id=\"T_7ee65fee_b54a_11eb_9a8c_31c6e787a2c7row13_col3\" class=\"data row13 col3\" >1</td>\n                        <td id=\"T_7ee65fee_b54a_11eb_9a8c_31c6e787a2c7row13_col4\" class=\"data row13 col4\" >2</td>\n                        <td id=\"T_7ee65fee_b54a_11eb_9a8c_31c6e787a2c7row13_col5\" class=\"data row13 col5\" >2</td>\n                        <td id=\"T_7ee65fee_b54a_11eb_9a8c_31c6e787a2c7row13_col6\" class=\"data row13 col6\" >21</td>\n                        <td id=\"T_7ee65fee_b54a_11eb_9a8c_31c6e787a2c7row13_col7\" class=\"data row13 col7\" >7</td>\n                        <td id=\"T_7ee65fee_b54a_11eb_9a8c_31c6e787a2c7row13_col8\" class=\"data row13 col8\" >Catherine  Crescent</td>\n                        <td id=\"T_7ee65fee_b54a_11eb_9a8c_31c6e787a2c7row13_col9\" class=\"data row13 col9\" >Albury - Greater Region</td>\n                        <td id=\"T_7ee65fee_b54a_11eb_9a8c_31c6e787a2c7row13_col10\" class=\"data row13 col10\" >Regional NSW</td>\n                        <td id=\"T_7ee65fee_b54a_11eb_9a8c_31c6e787a2c7row13_col11\" class=\"data row13 col11\" >LAVINGTON</td>\n                        <td id=\"T_7ee65fee_b54a_11eb_9a8c_31c6e787a2c7row13_col12\" class=\"data row13 col12\" >2641</td>\n                        <td id=\"T_7ee65fee_b54a_11eb_9a8c_31c6e787a2c7row13_col13\" class=\"data row13 col13\" >21/7 Catherine  Crescent, Lavington</td>\n                        <td id=\"T_7ee65fee_b54a_11eb_9a8c_31c6e787a2c7row13_col14\" class=\"data row13 col14\" >-36.041126</td>\n                        <td id=\"T_7ee65fee_b54a_11eb_9a8c_31c6e787a2c7row13_col15\" class=\"data row13 col15\" >146.958038</td>\n                        <td id=\"T_7ee65fee_b54a_11eb_9a8c_31c6e787a2c7row13_col16\" class=\"data row13 col16\" >235</td>\n                        <td id=\"T_7ee65fee_b54a_11eb_9a8c_31c6e787a2c7row13_col17\" class=\"data row13 col17\" >2016934905</td>\n                        <td id=\"T_7ee65fee_b54a_11eb_9a8c_31c6e787a2c7row13_col18\" class=\"data row13 col18\" >0</td>\n                        <td id=\"T_7ee65fee_b54a_11eb_9a8c_31c6e787a2c7row13_col19\" class=\"data row13 col19\" ><a target=\"_blank\" href=\"http://www.domain.com.au/2016934905\"\">http://www.domain.com.au/2016934905</a></td>\n            </tr>\n            <tr>\n                        <th id=\"T_7ee65fee_b54a_11eb_9a8c_31c6e787a2c7level0_row14\" class=\"row_heading level0 row14\" >17</th>\n                        <td id=\"T_7ee65fee_b54a_11eb_9a8c_31c6e787a2c7row14_col0\" class=\"data row14 col0\" >NSW</td>\n                        <td id=\"T_7ee65fee_b54a_11eb_9a8c_31c6e787a2c7row14_col1\" class=\"data row14 col1\" >['Shed', 'SolarPanels']</td>\n                        <td id=\"T_7ee65fee_b54a_11eb_9a8c_31c6e787a2c7row14_col2\" class=\"data row14 col2\" >House</td>\n                        <td id=\"T_7ee65fee_b54a_11eb_9a8c_31c6e787a2c7row14_col3\" class=\"data row14 col3\" >1</td>\n                        <td id=\"T_7ee65fee_b54a_11eb_9a8c_31c6e787a2c7row14_col4\" class=\"data row14 col4\" >2</td>\n                        <td id=\"T_7ee65fee_b54a_11eb_9a8c_31c6e787a2c7row14_col5\" class=\"data row14 col5\" >1</td>\n                        <td id=\"T_7ee65fee_b54a_11eb_9a8c_31c6e787a2c7row14_col6\" class=\"data row14 col6\" ></td>\n                        <td id=\"T_7ee65fee_b54a_11eb_9a8c_31c6e787a2c7row14_col7\" class=\"data row14 col7\" >582</td>\n                        <td id=\"T_7ee65fee_b54a_11eb_9a8c_31c6e787a2c7row14_col8\" class=\"data row14 col8\" >Heathwood Avenue</td>\n                        <td id=\"T_7ee65fee_b54a_11eb_9a8c_31c6e787a2c7row14_col9\" class=\"data row14 col9\" >Albury - Greater Region</td>\n                        <td id=\"T_7ee65fee_b54a_11eb_9a8c_31c6e787a2c7row14_col10\" class=\"data row14 col10\" >Regional NSW</td>\n                        <td id=\"T_7ee65fee_b54a_11eb_9a8c_31c6e787a2c7row14_col11\" class=\"data row14 col11\" >LAVINGTON</td>\n                        <td id=\"T_7ee65fee_b54a_11eb_9a8c_31c6e787a2c7row14_col12\" class=\"data row14 col12\" >2641</td>\n                        <td id=\"T_7ee65fee_b54a_11eb_9a8c_31c6e787a2c7row14_col13\" class=\"data row14 col13\" >582 Heathwood Avenue, Lavington</td>\n                        <td id=\"T_7ee65fee_b54a_11eb_9a8c_31c6e787a2c7row14_col14\" class=\"data row14 col14\" >-36.044033</td>\n                        <td id=\"T_7ee65fee_b54a_11eb_9a8c_31c6e787a2c7row14_col15\" class=\"data row14 col15\" >146.927582</td>\n                        <td id=\"T_7ee65fee_b54a_11eb_9a8c_31c6e787a2c7row14_col16\" class=\"data row14 col16\" >891</td>\n                        <td id=\"T_7ee65fee_b54a_11eb_9a8c_31c6e787a2c7row14_col17\" class=\"data row14 col17\" >2016906856</td>\n                        <td id=\"T_7ee65fee_b54a_11eb_9a8c_31c6e787a2c7row14_col18\" class=\"data row14 col18\" >0</td>\n                        <td id=\"T_7ee65fee_b54a_11eb_9a8c_31c6e787a2c7row14_col19\" class=\"data row14 col19\" ><a target=\"_blank\" href=\"http://www.domain.com.au/2016906856\"\">http://www.domain.com.au/2016906856</a></td>\n            </tr>\n            <tr>\n                        <th id=\"T_7ee65fee_b54a_11eb_9a8c_31c6e787a2c7level0_row15\" class=\"row_heading level0 row15\" >18</th>\n                        <td id=\"T_7ee65fee_b54a_11eb_9a8c_31c6e787a2c7row15_col0\" class=\"data row15 col0\" >NSW</td>\n                        <td id=\"T_7ee65fee_b54a_11eb_9a8c_31c6e787a2c7row15_col1\" class=\"data row15 col1\" >['Ensuite', 'Gas', 'SwimmingPool']</td>\n                        <td id=\"T_7ee65fee_b54a_11eb_9a8c_31c6e787a2c7row15_col2\" class=\"data row15 col2\" >House</td>\n                        <td id=\"T_7ee65fee_b54a_11eb_9a8c_31c6e787a2c7row15_col3\" class=\"data row15 col3\" >2</td>\n                        <td id=\"T_7ee65fee_b54a_11eb_9a8c_31c6e787a2c7row15_col4\" class=\"data row15 col4\" >3</td>\n                        <td id=\"T_7ee65fee_b54a_11eb_9a8c_31c6e787a2c7row15_col5\" class=\"data row15 col5\" >2</td>\n                        <td id=\"T_7ee65fee_b54a_11eb_9a8c_31c6e787a2c7row15_col6\" class=\"data row15 col6\" ></td>\n                        <td id=\"T_7ee65fee_b54a_11eb_9a8c_31c6e787a2c7row15_col7\" class=\"data row15 col7\" >477</td>\n                        <td id=\"T_7ee65fee_b54a_11eb_9a8c_31c6e787a2c7row15_col8\" class=\"data row15 col8\" >Neville Street</td>\n                        <td id=\"T_7ee65fee_b54a_11eb_9a8c_31c6e787a2c7row15_col9\" class=\"data row15 col9\" >Albury - Greater Region</td>\n                        <td id=\"T_7ee65fee_b54a_11eb_9a8c_31c6e787a2c7row15_col10\" class=\"data row15 col10\" >Regional NSW</td>\n                        <td id=\"T_7ee65fee_b54a_11eb_9a8c_31c6e787a2c7row15_col11\" class=\"data row15 col11\" >LAVINGTON</td>\n                        <td id=\"T_7ee65fee_b54a_11eb_9a8c_31c6e787a2c7row15_col12\" class=\"data row15 col12\" >2641</td>\n                        <td id=\"T_7ee65fee_b54a_11eb_9a8c_31c6e787a2c7row15_col13\" class=\"data row15 col13\" >477 Neville Street, Lavington</td>\n                        <td id=\"T_7ee65fee_b54a_11eb_9a8c_31c6e787a2c7row15_col14\" class=\"data row15 col14\" >-36.045685</td>\n                        <td id=\"T_7ee65fee_b54a_11eb_9a8c_31c6e787a2c7row15_col15\" class=\"data row15 col15\" >146.935974</td>\n                        <td id=\"T_7ee65fee_b54a_11eb_9a8c_31c6e787a2c7row15_col16\" class=\"data row15 col16\" >683</td>\n                        <td id=\"T_7ee65fee_b54a_11eb_9a8c_31c6e787a2c7row15_col17\" class=\"data row15 col17\" >2016878652</td>\n                        <td id=\"T_7ee65fee_b54a_11eb_9a8c_31c6e787a2c7row15_col18\" class=\"data row15 col18\" >0</td>\n                        <td id=\"T_7ee65fee_b54a_11eb_9a8c_31c6e787a2c7row15_col19\" class=\"data row15 col19\" ><a target=\"_blank\" href=\"http://www.domain.com.au/2016878652\"\">http://www.domain.com.au/2016878652</a></td>\n            </tr>\n            <tr>\n                        <th id=\"T_7ee65fee_b54a_11eb_9a8c_31c6e787a2c7level0_row16\" class=\"row_heading level0 row16\" >19</th>\n                        <td id=\"T_7ee65fee_b54a_11eb_9a8c_31c6e787a2c7row16_col0\" class=\"data row16 col0\" >NSW</td>\n                        <td id=\"T_7ee65fee_b54a_11eb_9a8c_31c6e787a2c7row16_col1\" class=\"data row16 col1\" >['AirConditioning', 'BuiltInWardrobes', 'Gas', 'SecureParking', 'Heating', 'Dishwasher', 'Shed']</td>\n                        <td id=\"T_7ee65fee_b54a_11eb_9a8c_31c6e787a2c7row16_col2\" class=\"data row16 col2\" >House</td>\n                        <td id=\"T_7ee65fee_b54a_11eb_9a8c_31c6e787a2c7row16_col3\" class=\"data row16 col3\" >1</td>\n                        <td id=\"T_7ee65fee_b54a_11eb_9a8c_31c6e787a2c7row16_col4\" class=\"data row16 col4\" >4</td>\n                        <td id=\"T_7ee65fee_b54a_11eb_9a8c_31c6e787a2c7row16_col5\" class=\"data row16 col5\" >4</td>\n                        <td id=\"T_7ee65fee_b54a_11eb_9a8c_31c6e787a2c7row16_col6\" class=\"data row16 col6\" ></td>\n                        <td id=\"T_7ee65fee_b54a_11eb_9a8c_31c6e787a2c7row16_col7\" class=\"data row16 col7\" >324</td>\n                        <td id=\"T_7ee65fee_b54a_11eb_9a8c_31c6e787a2c7row16_col8\" class=\"data row16 col8\" >Cheyenne Drive</td>\n                        <td id=\"T_7ee65fee_b54a_11eb_9a8c_31c6e787a2c7row16_col9\" class=\"data row16 col9\" >Albury - Greater Region</td>\n                        <td id=\"T_7ee65fee_b54a_11eb_9a8c_31c6e787a2c7row16_col10\" class=\"data row16 col10\" >Regional NSW</td>\n                        <td id=\"T_7ee65fee_b54a_11eb_9a8c_31c6e787a2c7row16_col11\" class=\"data row16 col11\" >LAVINGTON</td>\n                        <td id=\"T_7ee65fee_b54a_11eb_9a8c_31c6e787a2c7row16_col12\" class=\"data row16 col12\" >2641</td>\n                        <td id=\"T_7ee65fee_b54a_11eb_9a8c_31c6e787a2c7row16_col13\" class=\"data row16 col13\" >324 Cheyenne Drive, Lavington</td>\n                        <td id=\"T_7ee65fee_b54a_11eb_9a8c_31c6e787a2c7row16_col14\" class=\"data row16 col14\" >-36.048916</td>\n                        <td id=\"T_7ee65fee_b54a_11eb_9a8c_31c6e787a2c7row16_col15\" class=\"data row16 col15\" >146.948730</td>\n                        <td id=\"T_7ee65fee_b54a_11eb_9a8c_31c6e787a2c7row16_col16\" class=\"data row16 col16\" >683</td>\n                        <td id=\"T_7ee65fee_b54a_11eb_9a8c_31c6e787a2c7row16_col17\" class=\"data row16 col17\" >2016871349</td>\n                        <td id=\"T_7ee65fee_b54a_11eb_9a8c_31c6e787a2c7row16_col18\" class=\"data row16 col18\" >0</td>\n                        <td id=\"T_7ee65fee_b54a_11eb_9a8c_31c6e787a2c7row16_col19\" class=\"data row16 col19\" ><a target=\"_blank\" href=\"http://www.domain.com.au/2016871349\"\">http://www.domain.com.au/2016871349</a></td>\n            </tr>\n            <tr>\n                        <th id=\"T_7ee65fee_b54a_11eb_9a8c_31c6e787a2c7level0_row17\" class=\"row_heading level0 row17\" >20</th>\n                        <td id=\"T_7ee65fee_b54a_11eb_9a8c_31c6e787a2c7row17_col0\" class=\"data row17 col0\" >NSW</td>\n                        <td id=\"T_7ee65fee_b54a_11eb_9a8c_31c6e787a2c7row17_col1\" class=\"data row17 col1\" >['Floorboards', 'Gas', 'SecureParking', 'Bath', 'Dishwasher', 'Shed', 'FullyFenced']</td>\n                        <td id=\"T_7ee65fee_b54a_11eb_9a8c_31c6e787a2c7row17_col2\" class=\"data row17 col2\" >House</td>\n                        <td id=\"T_7ee65fee_b54a_11eb_9a8c_31c6e787a2c7row17_col3\" class=\"data row17 col3\" >1</td>\n                        <td id=\"T_7ee65fee_b54a_11eb_9a8c_31c6e787a2c7row17_col4\" class=\"data row17 col4\" >3</td>\n                        <td id=\"T_7ee65fee_b54a_11eb_9a8c_31c6e787a2c7row17_col5\" class=\"data row17 col5\" >1</td>\n                        <td id=\"T_7ee65fee_b54a_11eb_9a8c_31c6e787a2c7row17_col6\" class=\"data row17 col6\" ></td>\n                        <td id=\"T_7ee65fee_b54a_11eb_9a8c_31c6e787a2c7row17_col7\" class=\"data row17 col7\" >537</td>\n                        <td id=\"T_7ee65fee_b54a_11eb_9a8c_31c6e787a2c7row17_col8\" class=\"data row17 col8\" >Webb Street</td>\n                        <td id=\"T_7ee65fee_b54a_11eb_9a8c_31c6e787a2c7row17_col9\" class=\"data row17 col9\" >Albury - Greater Region</td>\n                        <td id=\"T_7ee65fee_b54a_11eb_9a8c_31c6e787a2c7row17_col10\" class=\"data row17 col10\" >Regional NSW</td>\n                        <td id=\"T_7ee65fee_b54a_11eb_9a8c_31c6e787a2c7row17_col11\" class=\"data row17 col11\" >LAVINGTON</td>\n                        <td id=\"T_7ee65fee_b54a_11eb_9a8c_31c6e787a2c7row17_col12\" class=\"data row17 col12\" >2641</td>\n                        <td id=\"T_7ee65fee_b54a_11eb_9a8c_31c6e787a2c7row17_col13\" class=\"data row17 col13\" >537 Webb Street, Lavington</td>\n                        <td id=\"T_7ee65fee_b54a_11eb_9a8c_31c6e787a2c7row17_col14\" class=\"data row17 col14\" >-36.038320</td>\n                        <td id=\"T_7ee65fee_b54a_11eb_9a8c_31c6e787a2c7row17_col15\" class=\"data row17 col15\" >146.950485</td>\n                        <td id=\"T_7ee65fee_b54a_11eb_9a8c_31c6e787a2c7row17_col16\" class=\"data row17 col16\" >753</td>\n                        <td id=\"T_7ee65fee_b54a_11eb_9a8c_31c6e787a2c7row17_col17\" class=\"data row17 col17\" >2016964861</td>\n                        <td id=\"T_7ee65fee_b54a_11eb_9a8c_31c6e787a2c7row17_col18\" class=\"data row17 col18\" >0</td>\n                        <td id=\"T_7ee65fee_b54a_11eb_9a8c_31c6e787a2c7row17_col19\" class=\"data row17 col19\" ><a target=\"_blank\" href=\"http://www.domain.com.au/2016964861\"\">http://www.domain.com.au/2016964861</a></td>\n            </tr>\n            <tr>\n                        <th id=\"T_7ee65fee_b54a_11eb_9a8c_31c6e787a2c7level0_row18\" class=\"row_heading level0 row18\" >21</th>\n                        <td id=\"T_7ee65fee_b54a_11eb_9a8c_31c6e787a2c7row18_col0\" class=\"data row18 col0\" >NSW</td>\n                        <td id=\"T_7ee65fee_b54a_11eb_9a8c_31c6e787a2c7row18_col1\" class=\"data row18 col1\" >['Floorboards', 'SecureParking', 'FullyFenced']</td>\n                        <td id=\"T_7ee65fee_b54a_11eb_9a8c_31c6e787a2c7row18_col2\" class=\"data row18 col2\" >House</td>\n                        <td id=\"T_7ee65fee_b54a_11eb_9a8c_31c6e787a2c7row18_col3\" class=\"data row18 col3\" >1</td>\n                        <td id=\"T_7ee65fee_b54a_11eb_9a8c_31c6e787a2c7row18_col4\" class=\"data row18 col4\" >3</td>\n                        <td id=\"T_7ee65fee_b54a_11eb_9a8c_31c6e787a2c7row18_col5\" class=\"data row18 col5\" >3</td>\n                        <td id=\"T_7ee65fee_b54a_11eb_9a8c_31c6e787a2c7row18_col6\" class=\"data row18 col6\" ></td>\n                        <td id=\"T_7ee65fee_b54a_11eb_9a8c_31c6e787a2c7row18_col7\" class=\"data row18 col7\" >456</td>\n                        <td id=\"T_7ee65fee_b54a_11eb_9a8c_31c6e787a2c7row18_col8\" class=\"data row18 col8\" >Jason Court</td>\n                        <td id=\"T_7ee65fee_b54a_11eb_9a8c_31c6e787a2c7row18_col9\" class=\"data row18 col9\" >Albury - Greater Region</td>\n                        <td id=\"T_7ee65fee_b54a_11eb_9a8c_31c6e787a2c7row18_col10\" class=\"data row18 col10\" >Regional NSW</td>\n                        <td id=\"T_7ee65fee_b54a_11eb_9a8c_31c6e787a2c7row18_col11\" class=\"data row18 col11\" >LAVINGTON</td>\n                        <td id=\"T_7ee65fee_b54a_11eb_9a8c_31c6e787a2c7row18_col12\" class=\"data row18 col12\" >2641</td>\n                        <td id=\"T_7ee65fee_b54a_11eb_9a8c_31c6e787a2c7row18_col13\" class=\"data row18 col13\" >456 Jason Court, Lavington</td>\n                        <td id=\"T_7ee65fee_b54a_11eb_9a8c_31c6e787a2c7row18_col14\" class=\"data row18 col14\" >-36.042760</td>\n                        <td id=\"T_7ee65fee_b54a_11eb_9a8c_31c6e787a2c7row18_col15\" class=\"data row18 col15\" >146.944500</td>\n                        <td id=\"T_7ee65fee_b54a_11eb_9a8c_31c6e787a2c7row18_col16\" class=\"data row18 col16\" >671</td>\n                        <td id=\"T_7ee65fee_b54a_11eb_9a8c_31c6e787a2c7row18_col17\" class=\"data row18 col17\" >2017003641</td>\n                        <td id=\"T_7ee65fee_b54a_11eb_9a8c_31c6e787a2c7row18_col18\" class=\"data row18 col18\" >0</td>\n                        <td id=\"T_7ee65fee_b54a_11eb_9a8c_31c6e787a2c7row18_col19\" class=\"data row18 col19\" ><a target=\"_blank\" href=\"http://www.domain.com.au/2017003641\"\">http://www.domain.com.au/2017003641</a></td>\n            </tr>\n            <tr>\n                        <th id=\"T_7ee65fee_b54a_11eb_9a8c_31c6e787a2c7level0_row19\" class=\"row_heading level0 row19\" >22</th>\n                        <td id=\"T_7ee65fee_b54a_11eb_9a8c_31c6e787a2c7row19_col0\" class=\"data row19 col0\" >NSW</td>\n                        <td id=\"T_7ee65fee_b54a_11eb_9a8c_31c6e787a2c7row19_col1\" class=\"data row19 col1\" >['BuiltInWardrobes', 'SecureParking', 'Heating', 'Shed']</td>\n                        <td id=\"T_7ee65fee_b54a_11eb_9a8c_31c6e787a2c7row19_col2\" class=\"data row19 col2\" >House</td>\n                        <td id=\"T_7ee65fee_b54a_11eb_9a8c_31c6e787a2c7row19_col3\" class=\"data row19 col3\" >1</td>\n                        <td id=\"T_7ee65fee_b54a_11eb_9a8c_31c6e787a2c7row19_col4\" class=\"data row19 col4\" >3</td>\n                        <td id=\"T_7ee65fee_b54a_11eb_9a8c_31c6e787a2c7row19_col5\" class=\"data row19 col5\" >2</td>\n                        <td id=\"T_7ee65fee_b54a_11eb_9a8c_31c6e787a2c7row19_col6\" class=\"data row19 col6\" ></td>\n                        <td id=\"T_7ee65fee_b54a_11eb_9a8c_31c6e787a2c7row19_col7\" class=\"data row19 col7\" >309</td>\n                        <td id=\"T_7ee65fee_b54a_11eb_9a8c_31c6e787a2c7row19_col8\" class=\"data row19 col8\" >Cheyenne Drive</td>\n                        <td id=\"T_7ee65fee_b54a_11eb_9a8c_31c6e787a2c7row19_col9\" class=\"data row19 col9\" >Albury - Greater Region</td>\n                        <td id=\"T_7ee65fee_b54a_11eb_9a8c_31c6e787a2c7row19_col10\" class=\"data row19 col10\" >Regional NSW</td>\n                        <td id=\"T_7ee65fee_b54a_11eb_9a8c_31c6e787a2c7row19_col11\" class=\"data row19 col11\" >LAVINGTON</td>\n                        <td id=\"T_7ee65fee_b54a_11eb_9a8c_31c6e787a2c7row19_col12\" class=\"data row19 col12\" >2641</td>\n                        <td id=\"T_7ee65fee_b54a_11eb_9a8c_31c6e787a2c7row19_col13\" class=\"data row19 col13\" >309 Cheyenne Drive, Lavington</td>\n                        <td id=\"T_7ee65fee_b54a_11eb_9a8c_31c6e787a2c7row19_col14\" class=\"data row19 col14\" >-36.049557</td>\n                        <td id=\"T_7ee65fee_b54a_11eb_9a8c_31c6e787a2c7row19_col15\" class=\"data row19 col15\" >146.949829</td>\n                        <td id=\"T_7ee65fee_b54a_11eb_9a8c_31c6e787a2c7row19_col16\" class=\"data row19 col16\" >669</td>\n                        <td id=\"T_7ee65fee_b54a_11eb_9a8c_31c6e787a2c7row19_col17\" class=\"data row19 col17\" >2016978978</td>\n                        <td id=\"T_7ee65fee_b54a_11eb_9a8c_31c6e787a2c7row19_col18\" class=\"data row19 col18\" >0</td>\n                        <td id=\"T_7ee65fee_b54a_11eb_9a8c_31c6e787a2c7row19_col19\" class=\"data row19 col19\" ><a target=\"_blank\" href=\"http://www.domain.com.au/2016978978\"\">http://www.domain.com.au/2016978978</a></td>\n            </tr>\n            <tr>\n                        <th id=\"T_7ee65fee_b54a_11eb_9a8c_31c6e787a2c7level0_row20\" class=\"row_heading level0 row20\" >23</th>\n                        <td id=\"T_7ee65fee_b54a_11eb_9a8c_31c6e787a2c7row20_col0\" class=\"data row20 col0\" >NSW</td>\n                        <td id=\"T_7ee65fee_b54a_11eb_9a8c_31c6e787a2c7row20_col1\" class=\"data row20 col1\" >['SecureParking', 'Heating', 'Shed']</td>\n                        <td id=\"T_7ee65fee_b54a_11eb_9a8c_31c6e787a2c7row20_col2\" class=\"data row20 col2\" >House</td>\n                        <td id=\"T_7ee65fee_b54a_11eb_9a8c_31c6e787a2c7row20_col3\" class=\"data row20 col3\" >1</td>\n                        <td id=\"T_7ee65fee_b54a_11eb_9a8c_31c6e787a2c7row20_col4\" class=\"data row20 col4\" >4</td>\n                        <td id=\"T_7ee65fee_b54a_11eb_9a8c_31c6e787a2c7row20_col5\" class=\"data row20 col5\" >5</td>\n                        <td id=\"T_7ee65fee_b54a_11eb_9a8c_31c6e787a2c7row20_col6\" class=\"data row20 col6\" ></td>\n                        <td id=\"T_7ee65fee_b54a_11eb_9a8c_31c6e787a2c7row20_col7\" class=\"data row20 col7\" >520</td>\n                        <td id=\"T_7ee65fee_b54a_11eb_9a8c_31c6e787a2c7row20_col8\" class=\"data row20 col8\" >Prune Street</td>\n                        <td id=\"T_7ee65fee_b54a_11eb_9a8c_31c6e787a2c7row20_col9\" class=\"data row20 col9\" >Albury - Greater Region</td>\n                        <td id=\"T_7ee65fee_b54a_11eb_9a8c_31c6e787a2c7row20_col10\" class=\"data row20 col10\" >Regional NSW</td>\n                        <td id=\"T_7ee65fee_b54a_11eb_9a8c_31c6e787a2c7row20_col11\" class=\"data row20 col11\" >LAVINGTON</td>\n                        <td id=\"T_7ee65fee_b54a_11eb_9a8c_31c6e787a2c7row20_col12\" class=\"data row20 col12\" >2641</td>\n                        <td id=\"T_7ee65fee_b54a_11eb_9a8c_31c6e787a2c7row20_col13\" class=\"data row20 col13\" >520 Prune Street, Lavington</td>\n                        <td id=\"T_7ee65fee_b54a_11eb_9a8c_31c6e787a2c7row20_col14\" class=\"data row20 col14\" >-36.037727</td>\n                        <td id=\"T_7ee65fee_b54a_11eb_9a8c_31c6e787a2c7row20_col15\" class=\"data row20 col15\" >146.935974</td>\n                        <td id=\"T_7ee65fee_b54a_11eb_9a8c_31c6e787a2c7row20_col16\" class=\"data row20 col16\" >834</td>\n                        <td id=\"T_7ee65fee_b54a_11eb_9a8c_31c6e787a2c7row20_col17\" class=\"data row20 col17\" >2016968393</td>\n                        <td id=\"T_7ee65fee_b54a_11eb_9a8c_31c6e787a2c7row20_col18\" class=\"data row20 col18\" >0</td>\n                        <td id=\"T_7ee65fee_b54a_11eb_9a8c_31c6e787a2c7row20_col19\" class=\"data row20 col19\" ><a target=\"_blank\" href=\"http://www.domain.com.au/2016968393\"\">http://www.domain.com.au/2016968393</a></td>\n            </tr>\n            <tr>\n                        <th id=\"T_7ee65fee_b54a_11eb_9a8c_31c6e787a2c7level0_row21\" class=\"row_heading level0 row21\" >25</th>\n                        <td id=\"T_7ee65fee_b54a_11eb_9a8c_31c6e787a2c7row21_col0\" class=\"data row21 col0\" >NSW</td>\n                        <td id=\"T_7ee65fee_b54a_11eb_9a8c_31c6e787a2c7row21_col1\" class=\"data row21 col1\" >['Gas', 'SecureParking', 'Bath', 'Dishwasher']</td>\n                        <td id=\"T_7ee65fee_b54a_11eb_9a8c_31c6e787a2c7row21_col2\" class=\"data row21 col2\" >House</td>\n                        <td id=\"T_7ee65fee_b54a_11eb_9a8c_31c6e787a2c7row21_col3\" class=\"data row21 col3\" >1</td>\n                        <td id=\"T_7ee65fee_b54a_11eb_9a8c_31c6e787a2c7row21_col4\" class=\"data row21 col4\" >3</td>\n                        <td id=\"T_7ee65fee_b54a_11eb_9a8c_31c6e787a2c7row21_col5\" class=\"data row21 col5\" >1</td>\n                        <td id=\"T_7ee65fee_b54a_11eb_9a8c_31c6e787a2c7row21_col6\" class=\"data row21 col6\" ></td>\n                        <td id=\"T_7ee65fee_b54a_11eb_9a8c_31c6e787a2c7row21_col7\" class=\"data row21 col7\" >552</td>\n                        <td id=\"T_7ee65fee_b54a_11eb_9a8c_31c6e787a2c7row21_col8\" class=\"data row21 col8\" >Moffat Street</td>\n                        <td id=\"T_7ee65fee_b54a_11eb_9a8c_31c6e787a2c7row21_col9\" class=\"data row21 col9\" >Albury - Greater Region</td>\n                        <td id=\"T_7ee65fee_b54a_11eb_9a8c_31c6e787a2c7row21_col10\" class=\"data row21 col10\" >Regional NSW</td>\n                        <td id=\"T_7ee65fee_b54a_11eb_9a8c_31c6e787a2c7row21_col11\" class=\"data row21 col11\" >LAVINGTON</td>\n                        <td id=\"T_7ee65fee_b54a_11eb_9a8c_31c6e787a2c7row21_col12\" class=\"data row21 col12\" >2641</td>\n                        <td id=\"T_7ee65fee_b54a_11eb_9a8c_31c6e787a2c7row21_col13\" class=\"data row21 col13\" >552 Moffat Street, Lavington</td>\n                        <td id=\"T_7ee65fee_b54a_11eb_9a8c_31c6e787a2c7row21_col14\" class=\"data row21 col14\" >-36.034900</td>\n                        <td id=\"T_7ee65fee_b54a_11eb_9a8c_31c6e787a2c7row21_col15\" class=\"data row21 col15\" >146.931320</td>\n                        <td id=\"T_7ee65fee_b54a_11eb_9a8c_31c6e787a2c7row21_col16\" class=\"data row21 col16\" >765</td>\n                        <td id=\"T_7ee65fee_b54a_11eb_9a8c_31c6e787a2c7row21_col17\" class=\"data row21 col17\" >2016939208</td>\n                        <td id=\"T_7ee65fee_b54a_11eb_9a8c_31c6e787a2c7row21_col18\" class=\"data row21 col18\" >0</td>\n                        <td id=\"T_7ee65fee_b54a_11eb_9a8c_31c6e787a2c7row21_col19\" class=\"data row21 col19\" ><a target=\"_blank\" href=\"http://www.domain.com.au/2016939208\"\">http://www.domain.com.au/2016939208</a></td>\n            </tr>\n            <tr>\n                        <th id=\"T_7ee65fee_b54a_11eb_9a8c_31c6e787a2c7level0_row22\" class=\"row_heading level0 row22\" >26</th>\n                        <td id=\"T_7ee65fee_b54a_11eb_9a8c_31c6e787a2c7row22_col0\" class=\"data row22 col0\" >NSW</td>\n                        <td id=\"T_7ee65fee_b54a_11eb_9a8c_31c6e787a2c7row22_col1\" class=\"data row22 col1\" >['BuiltInWardrobes', 'Gas']</td>\n                        <td id=\"T_7ee65fee_b54a_11eb_9a8c_31c6e787a2c7row22_col2\" class=\"data row22 col2\" >House</td>\n                        <td id=\"T_7ee65fee_b54a_11eb_9a8c_31c6e787a2c7row22_col3\" class=\"data row22 col3\" >1</td>\n                        <td id=\"T_7ee65fee_b54a_11eb_9a8c_31c6e787a2c7row22_col4\" class=\"data row22 col4\" >3</td>\n                        <td id=\"T_7ee65fee_b54a_11eb_9a8c_31c6e787a2c7row22_col5\" class=\"data row22 col5\" >2</td>\n                        <td id=\"T_7ee65fee_b54a_11eb_9a8c_31c6e787a2c7row22_col6\" class=\"data row22 col6\" ></td>\n                        <td id=\"T_7ee65fee_b54a_11eb_9a8c_31c6e787a2c7row22_col7\" class=\"data row22 col7\" >8</td>\n                        <td id=\"T_7ee65fee_b54a_11eb_9a8c_31c6e787a2c7row22_col8\" class=\"data row22 col8\" >Renwick Court</td>\n                        <td id=\"T_7ee65fee_b54a_11eb_9a8c_31c6e787a2c7row22_col9\" class=\"data row22 col9\" >Albury - Greater Region</td>\n                        <td id=\"T_7ee65fee_b54a_11eb_9a8c_31c6e787a2c7row22_col10\" class=\"data row22 col10\" >Regional NSW</td>\n                        <td id=\"T_7ee65fee_b54a_11eb_9a8c_31c6e787a2c7row22_col11\" class=\"data row22 col11\" >LAVINGTON</td>\n                        <td id=\"T_7ee65fee_b54a_11eb_9a8c_31c6e787a2c7row22_col12\" class=\"data row22 col12\" >2641</td>\n                        <td id=\"T_7ee65fee_b54a_11eb_9a8c_31c6e787a2c7row22_col13\" class=\"data row22 col13\" >8 Renwick Court, Lavington</td>\n                        <td id=\"T_7ee65fee_b54a_11eb_9a8c_31c6e787a2c7row22_col14\" class=\"data row22 col14\" >-36.038418</td>\n                        <td id=\"T_7ee65fee_b54a_11eb_9a8c_31c6e787a2c7row22_col15\" class=\"data row22 col15\" >146.953262</td>\n                        <td id=\"T_7ee65fee_b54a_11eb_9a8c_31c6e787a2c7row22_col16\" class=\"data row22 col16\" >612</td>\n                        <td id=\"T_7ee65fee_b54a_11eb_9a8c_31c6e787a2c7row22_col17\" class=\"data row22 col17\" >2016936604</td>\n                        <td id=\"T_7ee65fee_b54a_11eb_9a8c_31c6e787a2c7row22_col18\" class=\"data row22 col18\" >0</td>\n                        <td id=\"T_7ee65fee_b54a_11eb_9a8c_31c6e787a2c7row22_col19\" class=\"data row22 col19\" ><a target=\"_blank\" href=\"http://www.domain.com.au/2016936604\"\">http://www.domain.com.au/2016936604</a></td>\n            </tr>\n            <tr>\n                        <th id=\"T_7ee65fee_b54a_11eb_9a8c_31c6e787a2c7level0_row23\" class=\"row_heading level0 row23\" >27</th>\n                        <td id=\"T_7ee65fee_b54a_11eb_9a8c_31c6e787a2c7row23_col0\" class=\"data row23 col0\" >NSW</td>\n                        <td id=\"T_7ee65fee_b54a_11eb_9a8c_31c6e787a2c7row23_col1\" class=\"data row23 col1\" >['Gas', 'SecureParking', 'SolarPanels']</td>\n                        <td id=\"T_7ee65fee_b54a_11eb_9a8c_31c6e787a2c7row23_col2\" class=\"data row23 col2\" >House</td>\n                        <td id=\"T_7ee65fee_b54a_11eb_9a8c_31c6e787a2c7row23_col3\" class=\"data row23 col3\" >1</td>\n                        <td id=\"T_7ee65fee_b54a_11eb_9a8c_31c6e787a2c7row23_col4\" class=\"data row23 col4\" >3</td>\n                        <td id=\"T_7ee65fee_b54a_11eb_9a8c_31c6e787a2c7row23_col5\" class=\"data row23 col5\" >2</td>\n                        <td id=\"T_7ee65fee_b54a_11eb_9a8c_31c6e787a2c7row23_col6\" class=\"data row23 col6\" ></td>\n                        <td id=\"T_7ee65fee_b54a_11eb_9a8c_31c6e787a2c7row23_col7\" class=\"data row23 col7\" >474</td>\n                        <td id=\"T_7ee65fee_b54a_11eb_9a8c_31c6e787a2c7row23_col8\" class=\"data row23 col8\" >Ashford Street</td>\n                        <td id=\"T_7ee65fee_b54a_11eb_9a8c_31c6e787a2c7row23_col9\" class=\"data row23 col9\" >Albury - Greater Region</td>\n                        <td id=\"T_7ee65fee_b54a_11eb_9a8c_31c6e787a2c7row23_col10\" class=\"data row23 col10\" >Regional NSW</td>\n                        <td id=\"T_7ee65fee_b54a_11eb_9a8c_31c6e787a2c7row23_col11\" class=\"data row23 col11\" >LAVINGTON</td>\n                        <td id=\"T_7ee65fee_b54a_11eb_9a8c_31c6e787a2c7row23_col12\" class=\"data row23 col12\" >2641</td>\n                        <td id=\"T_7ee65fee_b54a_11eb_9a8c_31c6e787a2c7row23_col13\" class=\"data row23 col13\" >474 Ashford Street, Lavington</td>\n                        <td id=\"T_7ee65fee_b54a_11eb_9a8c_31c6e787a2c7row23_col14\" class=\"data row23 col14\" >-36.041492</td>\n                        <td id=\"T_7ee65fee_b54a_11eb_9a8c_31c6e787a2c7row23_col15\" class=\"data row23 col15\" >146.940552</td>\n                        <td id=\"T_7ee65fee_b54a_11eb_9a8c_31c6e787a2c7row23_col16\" class=\"data row23 col16\" >837</td>\n                        <td id=\"T_7ee65fee_b54a_11eb_9a8c_31c6e787a2c7row23_col17\" class=\"data row23 col17\" >2016930566</td>\n                        <td id=\"T_7ee65fee_b54a_11eb_9a8c_31c6e787a2c7row23_col18\" class=\"data row23 col18\" >0</td>\n                        <td id=\"T_7ee65fee_b54a_11eb_9a8c_31c6e787a2c7row23_col19\" class=\"data row23 col19\" ><a target=\"_blank\" href=\"http://www.domain.com.au/2016930566\"\">http://www.domain.com.au/2016930566</a></td>\n            </tr>\n            <tr>\n                        <th id=\"T_7ee65fee_b54a_11eb_9a8c_31c6e787a2c7level0_row24\" class=\"row_heading level0 row24\" >28</th>\n                        <td id=\"T_7ee65fee_b54a_11eb_9a8c_31c6e787a2c7row24_col0\" class=\"data row24 col0\" >NSW</td>\n                        <td id=\"T_7ee65fee_b54a_11eb_9a8c_31c6e787a2c7row24_col1\" class=\"data row24 col1\" >['AirConditioning', 'BuiltInWardrobes', 'Floorboards', 'Gas', 'SecureParking', 'SwimmingPool', 'GroundFloor', 'Bath', 'Heating', 'Dishwasher', 'Shed', 'FullyFenced']</td>\n                        <td id=\"T_7ee65fee_b54a_11eb_9a8c_31c6e787a2c7row24_col2\" class=\"data row24 col2\" >House</td>\n                        <td id=\"T_7ee65fee_b54a_11eb_9a8c_31c6e787a2c7row24_col3\" class=\"data row24 col3\" >2</td>\n                        <td id=\"T_7ee65fee_b54a_11eb_9a8c_31c6e787a2c7row24_col4\" class=\"data row24 col4\" >8</td>\n                        <td id=\"T_7ee65fee_b54a_11eb_9a8c_31c6e787a2c7row24_col5\" class=\"data row24 col5\" >4</td>\n                        <td id=\"T_7ee65fee_b54a_11eb_9a8c_31c6e787a2c7row24_col6\" class=\"data row24 col6\" ></td>\n                        <td id=\"T_7ee65fee_b54a_11eb_9a8c_31c6e787a2c7row24_col7\" class=\"data row24 col7\" >388</td>\n                        <td id=\"T_7ee65fee_b54a_11eb_9a8c_31c6e787a2c7row24_col8\" class=\"data row24 col8\" >Paul Avenue</td>\n                        <td id=\"T_7ee65fee_b54a_11eb_9a8c_31c6e787a2c7row24_col9\" class=\"data row24 col9\" >Albury - Greater Region</td>\n                        <td id=\"T_7ee65fee_b54a_11eb_9a8c_31c6e787a2c7row24_col10\" class=\"data row24 col10\" >Regional NSW</td>\n                        <td id=\"T_7ee65fee_b54a_11eb_9a8c_31c6e787a2c7row24_col11\" class=\"data row24 col11\" >LAVINGTON</td>\n                        <td id=\"T_7ee65fee_b54a_11eb_9a8c_31c6e787a2c7row24_col12\" class=\"data row24 col12\" >2641</td>\n                        <td id=\"T_7ee65fee_b54a_11eb_9a8c_31c6e787a2c7row24_col13\" class=\"data row24 col13\" >388 Paul Avenue, Lavington</td>\n                        <td id=\"T_7ee65fee_b54a_11eb_9a8c_31c6e787a2c7row24_col14\" class=\"data row24 col14\" >-36.048866</td>\n                        <td id=\"T_7ee65fee_b54a_11eb_9a8c_31c6e787a2c7row24_col15\" class=\"data row24 col15\" >146.954041</td>\n                        <td id=\"T_7ee65fee_b54a_11eb_9a8c_31c6e787a2c7row24_col16\" class=\"data row24 col16\" >723</td>\n                        <td id=\"T_7ee65fee_b54a_11eb_9a8c_31c6e787a2c7row24_col17\" class=\"data row24 col17\" >2016636850</td>\n                        <td id=\"T_7ee65fee_b54a_11eb_9a8c_31c6e787a2c7row24_col18\" class=\"data row24 col18\" >0</td>\n                        <td id=\"T_7ee65fee_b54a_11eb_9a8c_31c6e787a2c7row24_col19\" class=\"data row24 col19\" ><a target=\"_blank\" href=\"http://www.domain.com.au/2016636850\"\">http://www.domain.com.au/2016636850</a></td>\n            </tr>\n            <tr>\n                        <th id=\"T_7ee65fee_b54a_11eb_9a8c_31c6e787a2c7level0_row25\" class=\"row_heading level0 row25\" >30</th>\n                        <td id=\"T_7ee65fee_b54a_11eb_9a8c_31c6e787a2c7row25_col0\" class=\"data row25 col0\" >NSW</td>\n                        <td id=\"T_7ee65fee_b54a_11eb_9a8c_31c6e787a2c7row25_col1\" class=\"data row25 col1\" >['AirConditioning', 'BuiltInWardrobes', 'Ensuite', 'Shed', 'FullyFenced', 'GardenCourtyard', 'BalconyDeck']</td>\n                        <td id=\"T_7ee65fee_b54a_11eb_9a8c_31c6e787a2c7row25_col2\" class=\"data row25 col2\" >House</td>\n                        <td id=\"T_7ee65fee_b54a_11eb_9a8c_31c6e787a2c7row25_col3\" class=\"data row25 col3\" >2</td>\n                        <td id=\"T_7ee65fee_b54a_11eb_9a8c_31c6e787a2c7row25_col4\" class=\"data row25 col4\" >3</td>\n                        <td id=\"T_7ee65fee_b54a_11eb_9a8c_31c6e787a2c7row25_col5\" class=\"data row25 col5\" >3</td>\n                        <td id=\"T_7ee65fee_b54a_11eb_9a8c_31c6e787a2c7row25_col6\" class=\"data row25 col6\" ></td>\n                        <td id=\"T_7ee65fee_b54a_11eb_9a8c_31c6e787a2c7row25_col7\" class=\"data row25 col7\" >673</td>\n                        <td id=\"T_7ee65fee_b54a_11eb_9a8c_31c6e787a2c7row25_col8\" class=\"data row25 col8\" >Pearsall Street</td>\n                        <td id=\"T_7ee65fee_b54a_11eb_9a8c_31c6e787a2c7row25_col9\" class=\"data row25 col9\" >Albury - Greater Region</td>\n                        <td id=\"T_7ee65fee_b54a_11eb_9a8c_31c6e787a2c7row25_col10\" class=\"data row25 col10\" >Regional NSW</td>\n                        <td id=\"T_7ee65fee_b54a_11eb_9a8c_31c6e787a2c7row25_col11\" class=\"data row25 col11\" >LAVINGTON</td>\n                        <td id=\"T_7ee65fee_b54a_11eb_9a8c_31c6e787a2c7row25_col12\" class=\"data row25 col12\" >2641</td>\n                        <td id=\"T_7ee65fee_b54a_11eb_9a8c_31c6e787a2c7row25_col13\" class=\"data row25 col13\" >673 Pearsall Street, Lavington</td>\n                        <td id=\"T_7ee65fee_b54a_11eb_9a8c_31c6e787a2c7row25_col14\" class=\"data row25 col14\" >-36.037918</td>\n                        <td id=\"T_7ee65fee_b54a_11eb_9a8c_31c6e787a2c7row25_col15\" class=\"data row25 col15\" >146.920800</td>\n                        <td id=\"T_7ee65fee_b54a_11eb_9a8c_31c6e787a2c7row25_col16\" class=\"data row25 col16\" >1040</td>\n                        <td id=\"T_7ee65fee_b54a_11eb_9a8c_31c6e787a2c7row25_col17\" class=\"data row25 col17\" >2016979371</td>\n                        <td id=\"T_7ee65fee_b54a_11eb_9a8c_31c6e787a2c7row25_col18\" class=\"data row25 col18\" >0</td>\n                        <td id=\"T_7ee65fee_b54a_11eb_9a8c_31c6e787a2c7row25_col19\" class=\"data row25 col19\" ><a target=\"_blank\" href=\"http://www.domain.com.au/2016979371\"\">http://www.domain.com.au/2016979371</a></td>\n            </tr>\n            <tr>\n                        <th id=\"T_7ee65fee_b54a_11eb_9a8c_31c6e787a2c7level0_row26\" class=\"row_heading level0 row26\" >31</th>\n                        <td id=\"T_7ee65fee_b54a_11eb_9a8c_31c6e787a2c7row26_col0\" class=\"data row26 col0\" >NSW</td>\n                        <td id=\"T_7ee65fee_b54a_11eb_9a8c_31c6e787a2c7row26_col1\" class=\"data row26 col1\" >['AirConditioning', 'BuiltInWardrobes', 'Gas', 'SecureParking', 'Heating', 'Dishwasher', 'Shed', 'FullyFenced']</td>\n                        <td id=\"T_7ee65fee_b54a_11eb_9a8c_31c6e787a2c7row26_col2\" class=\"data row26 col2\" >House</td>\n                        <td id=\"T_7ee65fee_b54a_11eb_9a8c_31c6e787a2c7row26_col3\" class=\"data row26 col3\" >1</td>\n                        <td id=\"T_7ee65fee_b54a_11eb_9a8c_31c6e787a2c7row26_col4\" class=\"data row26 col4\" >3</td>\n                        <td id=\"T_7ee65fee_b54a_11eb_9a8c_31c6e787a2c7row26_col5\" class=\"data row26 col5\" >2</td>\n                        <td id=\"T_7ee65fee_b54a_11eb_9a8c_31c6e787a2c7row26_col6\" class=\"data row26 col6\" ></td>\n                        <td id=\"T_7ee65fee_b54a_11eb_9a8c_31c6e787a2c7row26_col7\" class=\"data row26 col7\" >4</td>\n                        <td id=\"T_7ee65fee_b54a_11eb_9a8c_31c6e787a2c7row26_col8\" class=\"data row26 col8\" >GRAETZ COURT</td>\n                        <td id=\"T_7ee65fee_b54a_11eb_9a8c_31c6e787a2c7row26_col9\" class=\"data row26 col9\" >Albury - Greater Region</td>\n                        <td id=\"T_7ee65fee_b54a_11eb_9a8c_31c6e787a2c7row26_col10\" class=\"data row26 col10\" >Regional NSW</td>\n                        <td id=\"T_7ee65fee_b54a_11eb_9a8c_31c6e787a2c7row26_col11\" class=\"data row26 col11\" >LAVINGTON</td>\n                        <td id=\"T_7ee65fee_b54a_11eb_9a8c_31c6e787a2c7row26_col12\" class=\"data row26 col12\" >2641</td>\n                        <td id=\"T_7ee65fee_b54a_11eb_9a8c_31c6e787a2c7row26_col13\" class=\"data row26 col13\" >4 GRAETZ COURT, Lavington</td>\n                        <td id=\"T_7ee65fee_b54a_11eb_9a8c_31c6e787a2c7row26_col14\" class=\"data row26 col14\" >-36.039833</td>\n                        <td id=\"T_7ee65fee_b54a_11eb_9a8c_31c6e787a2c7row26_col15\" class=\"data row26 col15\" >146.951111</td>\n                        <td id=\"T_7ee65fee_b54a_11eb_9a8c_31c6e787a2c7row26_col16\" class=\"data row26 col16\" >638</td>\n                        <td id=\"T_7ee65fee_b54a_11eb_9a8c_31c6e787a2c7row26_col17\" class=\"data row26 col17\" >2016975505</td>\n                        <td id=\"T_7ee65fee_b54a_11eb_9a8c_31c6e787a2c7row26_col18\" class=\"data row26 col18\" >0</td>\n                        <td id=\"T_7ee65fee_b54a_11eb_9a8c_31c6e787a2c7row26_col19\" class=\"data row26 col19\" ><a target=\"_blank\" href=\"http://www.domain.com.au/2016975505\"\">http://www.domain.com.au/2016975505</a></td>\n            </tr>\n            <tr>\n                        <th id=\"T_7ee65fee_b54a_11eb_9a8c_31c6e787a2c7level0_row27\" class=\"row_heading level0 row27\" >32</th>\n                        <td id=\"T_7ee65fee_b54a_11eb_9a8c_31c6e787a2c7row27_col0\" class=\"data row27 col0\" >NSW</td>\n                        <td id=\"T_7ee65fee_b54a_11eb_9a8c_31c6e787a2c7row27_col1\" class=\"data row27 col1\" >['BuiltInWardrobes', 'Ensuite', 'Floorboards', 'Gas', 'Heating', 'Dishwasher']</td>\n                        <td id=\"T_7ee65fee_b54a_11eb_9a8c_31c6e787a2c7row27_col2\" class=\"data row27 col2\" >House</td>\n                        <td id=\"T_7ee65fee_b54a_11eb_9a8c_31c6e787a2c7row27_col3\" class=\"data row27 col3\" >1</td>\n                        <td id=\"T_7ee65fee_b54a_11eb_9a8c_31c6e787a2c7row27_col4\" class=\"data row27 col4\" >2</td>\n                        <td id=\"T_7ee65fee_b54a_11eb_9a8c_31c6e787a2c7row27_col5\" class=\"data row27 col5\" >2</td>\n                        <td id=\"T_7ee65fee_b54a_11eb_9a8c_31c6e787a2c7row27_col6\" class=\"data row27 col6\" ></td>\n                        <td id=\"T_7ee65fee_b54a_11eb_9a8c_31c6e787a2c7row27_col7\" class=\"data row27 col7\" >449</td>\n                        <td id=\"T_7ee65fee_b54a_11eb_9a8c_31c6e787a2c7row27_col8\" class=\"data row27 col8\" >McDonald Road</td>\n                        <td id=\"T_7ee65fee_b54a_11eb_9a8c_31c6e787a2c7row27_col9\" class=\"data row27 col9\" >Albury - Greater Region</td>\n                        <td id=\"T_7ee65fee_b54a_11eb_9a8c_31c6e787a2c7row27_col10\" class=\"data row27 col10\" >Regional NSW</td>\n                        <td id=\"T_7ee65fee_b54a_11eb_9a8c_31c6e787a2c7row27_col11\" class=\"data row27 col11\" >LAVINGTON</td>\n                        <td id=\"T_7ee65fee_b54a_11eb_9a8c_31c6e787a2c7row27_col12\" class=\"data row27 col12\" >2641</td>\n                        <td id=\"T_7ee65fee_b54a_11eb_9a8c_31c6e787a2c7row27_col13\" class=\"data row27 col13\" >449 McDonald Road, Lavington</td>\n                        <td id=\"T_7ee65fee_b54a_11eb_9a8c_31c6e787a2c7row27_col14\" class=\"data row27 col14\" >-36.043750</td>\n                        <td id=\"T_7ee65fee_b54a_11eb_9a8c_31c6e787a2c7row27_col15\" class=\"data row27 col15\" >146.939209</td>\n                        <td id=\"T_7ee65fee_b54a_11eb_9a8c_31c6e787a2c7row27_col16\" class=\"data row27 col16\" >405</td>\n                        <td id=\"T_7ee65fee_b54a_11eb_9a8c_31c6e787a2c7row27_col17\" class=\"data row27 col17\" >2016938266</td>\n                        <td id=\"T_7ee65fee_b54a_11eb_9a8c_31c6e787a2c7row27_col18\" class=\"data row27 col18\" >0</td>\n                        <td id=\"T_7ee65fee_b54a_11eb_9a8c_31c6e787a2c7row27_col19\" class=\"data row27 col19\" ><a target=\"_blank\" href=\"http://www.domain.com.au/2016938266\"\">http://www.domain.com.au/2016938266</a></td>\n            </tr>\n            <tr>\n                        <th id=\"T_7ee65fee_b54a_11eb_9a8c_31c6e787a2c7level0_row28\" class=\"row_heading level0 row28\" >33</th>\n                        <td id=\"T_7ee65fee_b54a_11eb_9a8c_31c6e787a2c7row28_col0\" class=\"data row28 col0\" >NSW</td>\n                        <td id=\"T_7ee65fee_b54a_11eb_9a8c_31c6e787a2c7row28_col1\" class=\"data row28 col1\" >['Ensuite', 'Floorboards', 'SecureParking']</td>\n                        <td id=\"T_7ee65fee_b54a_11eb_9a8c_31c6e787a2c7row28_col2\" class=\"data row28 col2\" >House</td>\n                        <td id=\"T_7ee65fee_b54a_11eb_9a8c_31c6e787a2c7row28_col3\" class=\"data row28 col3\" >2</td>\n                        <td id=\"T_7ee65fee_b54a_11eb_9a8c_31c6e787a2c7row28_col4\" class=\"data row28 col4\" >3</td>\n                        <td id=\"T_7ee65fee_b54a_11eb_9a8c_31c6e787a2c7row28_col5\" class=\"data row28 col5\" >1</td>\n                        <td id=\"T_7ee65fee_b54a_11eb_9a8c_31c6e787a2c7row28_col6\" class=\"data row28 col6\" ></td>\n                        <td id=\"T_7ee65fee_b54a_11eb_9a8c_31c6e787a2c7row28_col7\" class=\"data row28 col7\" >435</td>\n                        <td id=\"T_7ee65fee_b54a_11eb_9a8c_31c6e787a2c7row28_col8\" class=\"data row28 col8\" >Parkview Crescent</td>\n                        <td id=\"T_7ee65fee_b54a_11eb_9a8c_31c6e787a2c7row28_col9\" class=\"data row28 col9\" >Albury - Greater Region</td>\n                        <td id=\"T_7ee65fee_b54a_11eb_9a8c_31c6e787a2c7row28_col10\" class=\"data row28 col10\" >Regional NSW</td>\n                        <td id=\"T_7ee65fee_b54a_11eb_9a8c_31c6e787a2c7row28_col11\" class=\"data row28 col11\" >LAVINGTON</td>\n                        <td id=\"T_7ee65fee_b54a_11eb_9a8c_31c6e787a2c7row28_col12\" class=\"data row28 col12\" >2641</td>\n                        <td id=\"T_7ee65fee_b54a_11eb_9a8c_31c6e787a2c7row28_col13\" class=\"data row28 col13\" >435 Parkview Crescent, Lavington</td>\n                        <td id=\"T_7ee65fee_b54a_11eb_9a8c_31c6e787a2c7row28_col14\" class=\"data row28 col14\" >-36.045136</td>\n                        <td id=\"T_7ee65fee_b54a_11eb_9a8c_31c6e787a2c7row28_col15\" class=\"data row28 col15\" >146.949127</td>\n                        <td id=\"T_7ee65fee_b54a_11eb_9a8c_31c6e787a2c7row28_col16\" class=\"data row28 col16\" >708</td>\n                        <td id=\"T_7ee65fee_b54a_11eb_9a8c_31c6e787a2c7row28_col17\" class=\"data row28 col17\" >2016929577</td>\n                        <td id=\"T_7ee65fee_b54a_11eb_9a8c_31c6e787a2c7row28_col18\" class=\"data row28 col18\" >0</td>\n                        <td id=\"T_7ee65fee_b54a_11eb_9a8c_31c6e787a2c7row28_col19\" class=\"data row28 col19\" ><a target=\"_blank\" href=\"http://www.domain.com.au/2016929577\"\">http://www.domain.com.au/2016929577</a></td>\n            </tr>\n            <tr>\n                        <th id=\"T_7ee65fee_b54a_11eb_9a8c_31c6e787a2c7level0_row29\" class=\"row_heading level0 row29\" >35</th>\n                        <td id=\"T_7ee65fee_b54a_11eb_9a8c_31c6e787a2c7row29_col0\" class=\"data row29 col0\" >NSW</td>\n                        <td id=\"T_7ee65fee_b54a_11eb_9a8c_31c6e787a2c7row29_col1\" class=\"data row29 col1\" >['Shed']</td>\n                        <td id=\"T_7ee65fee_b54a_11eb_9a8c_31c6e787a2c7row29_col2\" class=\"data row29 col2\" >House</td>\n                        <td id=\"T_7ee65fee_b54a_11eb_9a8c_31c6e787a2c7row29_col3\" class=\"data row29 col3\" >2</td>\n                        <td id=\"T_7ee65fee_b54a_11eb_9a8c_31c6e787a2c7row29_col4\" class=\"data row29 col4\" >3</td>\n                        <td id=\"T_7ee65fee_b54a_11eb_9a8c_31c6e787a2c7row29_col5\" class=\"data row29 col5\" >2</td>\n                        <td id=\"T_7ee65fee_b54a_11eb_9a8c_31c6e787a2c7row29_col6\" class=\"data row29 col6\" ></td>\n                        <td id=\"T_7ee65fee_b54a_11eb_9a8c_31c6e787a2c7row29_col7\" class=\"data row29 col7\" >433</td>\n                        <td id=\"T_7ee65fee_b54a_11eb_9a8c_31c6e787a2c7row29_col8\" class=\"data row29 col8\" >Bevan Street</td>\n                        <td id=\"T_7ee65fee_b54a_11eb_9a8c_31c6e787a2c7row29_col9\" class=\"data row29 col9\" >Albury - Greater Region</td>\n                        <td id=\"T_7ee65fee_b54a_11eb_9a8c_31c6e787a2c7row29_col10\" class=\"data row29 col10\" >Regional NSW</td>\n                        <td id=\"T_7ee65fee_b54a_11eb_9a8c_31c6e787a2c7row29_col11\" class=\"data row29 col11\" >LAVINGTON</td>\n                        <td id=\"T_7ee65fee_b54a_11eb_9a8c_31c6e787a2c7row29_col12\" class=\"data row29 col12\" >2641</td>\n                        <td id=\"T_7ee65fee_b54a_11eb_9a8c_31c6e787a2c7row29_col13\" class=\"data row29 col13\" >433 Bevan Street, Lavington</td>\n                        <td id=\"T_7ee65fee_b54a_11eb_9a8c_31c6e787a2c7row29_col14\" class=\"data row29 col14\" >-36.044120</td>\n                        <td id=\"T_7ee65fee_b54a_11eb_9a8c_31c6e787a2c7row29_col15\" class=\"data row29 col15\" >146.939011</td>\n                        <td id=\"T_7ee65fee_b54a_11eb_9a8c_31c6e787a2c7row29_col16\" class=\"data row29 col16\" >809</td>\n                        <td id=\"T_7ee65fee_b54a_11eb_9a8c_31c6e787a2c7row29_col17\" class=\"data row29 col17\" >2016900469</td>\n                        <td id=\"T_7ee65fee_b54a_11eb_9a8c_31c6e787a2c7row29_col18\" class=\"data row29 col18\" >0</td>\n                        <td id=\"T_7ee65fee_b54a_11eb_9a8c_31c6e787a2c7row29_col19\" class=\"data row29 col19\" ><a target=\"_blank\" href=\"http://www.domain.com.au/2016900469\"\">http://www.domain.com.au/2016900469</a></td>\n            </tr>\n    </tbody></table>"
     },
     "metadata": {},
     "execution_count": 94
    }
   ],
   "source": [
    "df_properties_for_sale"
   ]
  },
  {
   "cell_type": "code",
   "execution_count": 91,
   "metadata": {},
   "outputs": [],
   "source": [
    "def search_for_price(data, starting_min_price, starting_max_price, increment):\n",
    "    \n",
    "    url = \"https://api.domain.com.au/v1/listings/residential/_search\" # Set destination URL here\n",
    "\n",
    "    max_price=starting_max_price\n",
    "\n",
    "    searching_for_price_l = True\n",
    "    while searching_for_price_l:\n",
    "        post_fields ={\n",
    "        \"listingType\":\"Sale\",\n",
    "            \"maxPrice\":max_price,\n",
    "            \"pageSize\":100,\n",
    "        \"propertyTypes\":['house'],\n",
    "        \"minBedrooms\":data['bedrooms'],\n",
    "            \"maxBedrooms\":data['bedrooms'],\n",
    "        \"minBathrooms\":data['bathrooms'],\n",
    "            \"maxBathrooms\":data['bathrooms'],\n",
    "        \"locations\":[\n",
    "            {\n",
    "            \"state\":\"\",\n",
    "            \"region\":\"\",\n",
    "            \"area\":\"\",\n",
    "            \"suburb\":data['suburb'],\n",
    "            \"postCode\":data['postcode'],\n",
    "            \"includeSurroundingSuburbs\":False\n",
    "            }\n",
    "        ]\n",
    "        }\n",
    "\n",
    "        request = requests.post(url,headers=auth,json=post_fields)\n",
    "\n",
    "        l=request.json()\n",
    "        listings = []\n",
    "        for listing in l:\n",
    "            listings.append(listing[\"listing\"][\"id\"])\n",
    "        listings\n",
    "\n",
    "        if int(property_id) in listings:\n",
    "                max_price=max_price-increment\n",
    "                print(\"Lower bound found: \", max_price)\n",
    "                searching_for_price_l=False\n",
    "        else:\n",
    "            max_price=max_price+increment\n",
    "            print(\"Not found. Increasing max price to \",max_price)\n",
    "            time.sleep(0.1)  # sleep a bit so you don't make too many API calls too quickly )\n",
    "\n",
    "\n",
    "    if starting_min_price>0:\n",
    "            min_price=starting_min_price\n",
    "            \n",
    "    else:  \n",
    "            min_price=max_price+400000\n",
    "\n",
    "\n",
    "    searching_for_price_u = True\n",
    "    while searching_for_price_u:\n",
    "        post_fields ={\n",
    "        \"listingType\":\"Sale\",\n",
    "            \"minPrice\":min_price,\n",
    "            \"pageSize\":100,\n",
    "        \"propertyTypes\":['house'],\n",
    "        \"minBedrooms\":data['bedrooms'],\n",
    "            \"maxBedrooms\":data['bedrooms'],\n",
    "        \"minBathrooms\":data['bathrooms'],\n",
    "            \"maxBathrooms\":data['bathrooms'],\n",
    "        \"locations\":[\n",
    "            {\n",
    "            \"state\":\"\",\n",
    "            \"region\":\"\",\n",
    "            \"area\":\"\",\n",
    "            \"suburb\":data['suburb'],\n",
    "            \"postCode\":data['postcode'],\n",
    "            \"includeSurroundingSuburbs\":False\n",
    "            }\n",
    "        ]\n",
    "        }\n",
    "\n",
    "        request = requests.post(url,headers=auth,json=post_fields)\n",
    "\n",
    "        l=request.json()\n",
    "        listings = []\n",
    "        for listing in l:\n",
    "            listings.append(listing[\"listing\"][\"id\"])\n",
    "        listings\n",
    "\n",
    "        if int(property_id) in listings:\n",
    "                min_price=min_price+increment\n",
    "                print(\"Upper bound found: \", min_price)\n",
    "                searching_for_price_u=False\n",
    "        else:\n",
    "            min_price=min_price-increment\n",
    "            print(\"Not found. Decreasing min price to \",min_price)\n",
    "            time.sleep(0.1)  # sleep a bit so you don't make too many API calls too quickly )\n",
    "\n",
    "        if max_price<1000000:\n",
    "            lower=max_price/1000\n",
    "            upper=min_price/1000\n",
    "            denom=\"k\"\n",
    "        else: \n",
    "            lower=max_price/1000000\n",
    "            upper=min_price/1000000\n",
    "            denom=\"m\"\n",
    "    \n",
    "\n",
    "    return print(\"Price range:\",\"$\",lower,\"-\",\"$\",upper,denom)"
   ]
  },
  {
   "cell_type": "code",
   "execution_count": 92,
   "metadata": {},
   "outputs": [
    {
     "output_type": "display_data",
     "data": {
      "application/vnd.plotly.v1+json": {
       "config": {
        "plotlyServerURL": "https://plot.ly"
       },
       "data": [
        {
         "customdata": [
          [
           "House",
           8,
           3,
           910,
           "453 Dale Crescent, Lavington"
          ],
          [
           "House",
           4,
           2,
           912,
           "388 Robert Crt, Lavington"
          ],
          [
           "House",
           4,
           2,
           799,
           "21 Valerie Way, Lavington"
          ],
          [
           "House",
           3,
           2,
           631,
           "53 Lawson Circuit, Lavington"
          ],
          [
           "House",
           3,
           2,
           359,
           "12 Brookfields Mews, Lavington"
          ],
          [
           "House",
           3,
           1,
           780,
           "497 Parnall Street, Lavington"
          ],
          [
           "House",
           3,
           3,
           847,
           "283 Highview Crescent, Lavington"
          ],
          [
           "House",
           4,
           2,
           923,
           "496 Prune St, Lavington"
          ],
          [
           "House",
           3,
           1,
           976,
           "671 Pearsall Street, Lavington"
          ],
          [
           "House",
           3,
           2,
           683,
           "27 Mountain View Dr (Quicks Hill), Lavington"
          ],
          [
           "House",
           3,
           1,
           785,
           "325 Haines Crt, Lavington"
          ],
          [
           "House",
           3,
           2,
           645,
           "296 Warren Street, Lavington"
          ],
          [
           "House",
           4,
           2,
           764,
           "19 Janette Court, Lavington"
          ],
          [
           "House",
           2,
           1,
           235,
           "21/7 Catherine  Crescent, Lavington"
          ],
          [
           "House",
           2,
           1,
           891,
           "582 Heathwood Avenue, Lavington"
          ],
          [
           "House",
           3,
           2,
           683,
           "477 Neville Street, Lavington"
          ],
          [
           "House",
           4,
           1,
           683,
           "324 Cheyenne Drive, Lavington"
          ],
          [
           "House",
           3,
           1,
           753,
           "537 Webb Street, Lavington"
          ],
          [
           "House",
           3,
           1,
           671,
           "456 Jason Court, Lavington"
          ],
          [
           "House",
           3,
           1,
           669,
           "309 Cheyenne Drive, Lavington"
          ],
          [
           "House",
           4,
           1,
           834,
           "520 Prune Street, Lavington"
          ],
          [
           "House",
           3,
           1,
           765,
           "552 Moffat Street, Lavington"
          ],
          [
           "House",
           3,
           1,
           612,
           "8 Renwick Court, Lavington"
          ],
          [
           "House",
           3,
           1,
           837,
           "474 Ashford Street, Lavington"
          ],
          [
           "House",
           8,
           2,
           723,
           "388 Paul Avenue, Lavington"
          ],
          [
           "House",
           3,
           2,
           1040,
           "673 Pearsall Street, Lavington"
          ],
          [
           "House",
           3,
           1,
           638,
           "4 GRAETZ COURT, Lavington"
          ],
          [
           "House",
           2,
           1,
           405,
           "449 McDonald Road, Lavington"
          ],
          [
           "House",
           3,
           2,
           708,
           "435 Parkview Crescent, Lavington"
          ],
          [
           "House",
           3,
           2,
           809,
           "433 Bevan Street, Lavington"
          ]
         ],
         "hovertemplate": "<b>%{hovertext}</b><br><br>landArea=%{customdata[3]}<br>latitude=%{lat}<br>longitude=%{lon}<br>propertyType=%{customdata[0]}<br>bedrooms=%{customdata[1]}<br>bathrooms=%{customdata[2]}<br>displayableAddress=%{customdata[4]}<extra></extra>",
         "hovertext": [
          "http://www.domain.com.au/2016990302",
          "http://www.domain.com.au/2016987771",
          "http://www.domain.com.au/2016986063",
          "http://www.domain.com.au/2016984656",
          "http://www.domain.com.au/2016978657",
          "http://www.domain.com.au/2016969545",
          "http://www.domain.com.au/2016962604",
          "http://www.domain.com.au/2016955601",
          "http://www.domain.com.au/2016949385",
          "http://www.domain.com.au/2016944320",
          "http://www.domain.com.au/2016940228",
          "http://www.domain.com.au/2016935820",
          "http://www.domain.com.au/2016935246",
          "http://www.domain.com.au/2016934905",
          "http://www.domain.com.au/2016906856",
          "http://www.domain.com.au/2016878652",
          "http://www.domain.com.au/2016871349",
          "http://www.domain.com.au/2016964861",
          "http://www.domain.com.au/2017003641",
          "http://www.domain.com.au/2016978978",
          "http://www.domain.com.au/2016968393",
          "http://www.domain.com.au/2016939208",
          "http://www.domain.com.au/2016936604",
          "http://www.domain.com.au/2016930566",
          "http://www.domain.com.au/2016636850",
          "http://www.domain.com.au/2016979371",
          "http://www.domain.com.au/2016975505",
          "http://www.domain.com.au/2016938266",
          "http://www.domain.com.au/2016929577",
          "http://www.domain.com.au/2016900469"
         ],
         "lat": [
          -36.0435524,
          -36.0467453,
          -36.0343132,
          -36.0435,
          -36.0457153,
          -36.0387459,
          -36.0469322,
          -36.0394,
          -36.0378227,
          -36.0495224,
          -36.0537567,
          -36.04277,
          -36.04074,
          -36.0411263,
          -36.0440331,
          -36.0456848,
          -36.0489159,
          -36.03832,
          -36.04276,
          -36.0495567,
          -36.0377274,
          -36.0349,
          -36.0384178,
          -36.0414925,
          -36.0488663,
          -36.0379181,
          -36.0398331,
          -36.04375,
          -36.0451355,
          -36.04412
         ],
         "legendgroup": "",
         "lon": [
          146.949036,
          146.935226,
          146.9419,
          146.956757,
          146.92598,
          146.930634,
          146.952728,
          146.93576,
          146.921051,
          146.953949,
          146.947723,
          146.954712,
          146.922409,
          146.958038,
          146.927582,
          146.935974,
          146.94873,
          146.950485,
          146.9445,
          146.949829,
          146.935974,
          146.93132,
          146.953262,
          146.940552,
          146.954041,
          146.9208,
          146.951111,
          146.939209,
          146.949127,
          146.939011
         ],
         "marker": {
          "color": "#636efa",
          "size": [
           910,
           912,
           799,
           631,
           359,
           780,
           847,
           923,
           976,
           683,
           785,
           645,
           764,
           235,
           891,
           683,
           683,
           753,
           671,
           669,
           834,
           765,
           612,
           837,
           723,
           1040,
           638,
           405,
           708,
           809
          ],
          "sizemode": "area",
          "sizeref": 2.6
         },
         "mode": "markers",
         "name": "",
         "showlegend": false,
         "subplot": "mapbox",
         "type": "scattermapbox"
        }
       ],
       "layout": {
        "height": 600,
        "legend": {
         "itemsizing": "constant",
         "tracegroupgap": 0
        },
        "mapbox": {
         "center": {
          "lat": -36.04286912,
          "lon": 146.94191366666666
         },
         "domain": {
          "x": [
           0,
           1
          ],
          "y": [
           0,
           1
          ]
         },
         "style": "open-street-map",
         "zoom": 15
        },
        "margin": {
         "b": 0,
         "l": 0,
         "r": 0,
         "t": 0
        },
        "template": {
         "data": {
          "bar": [
           {
            "error_x": {
             "color": "#2a3f5f"
            },
            "error_y": {
             "color": "#2a3f5f"
            },
            "marker": {
             "line": {
              "color": "#E5ECF6",
              "width": 0.5
             }
            },
            "type": "bar"
           }
          ],
          "barpolar": [
           {
            "marker": {
             "line": {
              "color": "#E5ECF6",
              "width": 0.5
             }
            },
            "type": "barpolar"
           }
          ],
          "carpet": [
           {
            "aaxis": {
             "endlinecolor": "#2a3f5f",
             "gridcolor": "white",
             "linecolor": "white",
             "minorgridcolor": "white",
             "startlinecolor": "#2a3f5f"
            },
            "baxis": {
             "endlinecolor": "#2a3f5f",
             "gridcolor": "white",
             "linecolor": "white",
             "minorgridcolor": "white",
             "startlinecolor": "#2a3f5f"
            },
            "type": "carpet"
           }
          ],
          "choropleth": [
           {
            "colorbar": {
             "outlinewidth": 0,
             "ticks": ""
            },
            "type": "choropleth"
           }
          ],
          "contour": [
           {
            "colorbar": {
             "outlinewidth": 0,
             "ticks": ""
            },
            "colorscale": [
             [
              0,
              "#0d0887"
             ],
             [
              0.1111111111111111,
              "#46039f"
             ],
             [
              0.2222222222222222,
              "#7201a8"
             ],
             [
              0.3333333333333333,
              "#9c179e"
             ],
             [
              0.4444444444444444,
              "#bd3786"
             ],
             [
              0.5555555555555556,
              "#d8576b"
             ],
             [
              0.6666666666666666,
              "#ed7953"
             ],
             [
              0.7777777777777778,
              "#fb9f3a"
             ],
             [
              0.8888888888888888,
              "#fdca26"
             ],
             [
              1,
              "#f0f921"
             ]
            ],
            "type": "contour"
           }
          ],
          "contourcarpet": [
           {
            "colorbar": {
             "outlinewidth": 0,
             "ticks": ""
            },
            "type": "contourcarpet"
           }
          ],
          "heatmap": [
           {
            "colorbar": {
             "outlinewidth": 0,
             "ticks": ""
            },
            "colorscale": [
             [
              0,
              "#0d0887"
             ],
             [
              0.1111111111111111,
              "#46039f"
             ],
             [
              0.2222222222222222,
              "#7201a8"
             ],
             [
              0.3333333333333333,
              "#9c179e"
             ],
             [
              0.4444444444444444,
              "#bd3786"
             ],
             [
              0.5555555555555556,
              "#d8576b"
             ],
             [
              0.6666666666666666,
              "#ed7953"
             ],
             [
              0.7777777777777778,
              "#fb9f3a"
             ],
             [
              0.8888888888888888,
              "#fdca26"
             ],
             [
              1,
              "#f0f921"
             ]
            ],
            "type": "heatmap"
           }
          ],
          "heatmapgl": [
           {
            "colorbar": {
             "outlinewidth": 0,
             "ticks": ""
            },
            "colorscale": [
             [
              0,
              "#0d0887"
             ],
             [
              0.1111111111111111,
              "#46039f"
             ],
             [
              0.2222222222222222,
              "#7201a8"
             ],
             [
              0.3333333333333333,
              "#9c179e"
             ],
             [
              0.4444444444444444,
              "#bd3786"
             ],
             [
              0.5555555555555556,
              "#d8576b"
             ],
             [
              0.6666666666666666,
              "#ed7953"
             ],
             [
              0.7777777777777778,
              "#fb9f3a"
             ],
             [
              0.8888888888888888,
              "#fdca26"
             ],
             [
              1,
              "#f0f921"
             ]
            ],
            "type": "heatmapgl"
           }
          ],
          "histogram": [
           {
            "marker": {
             "colorbar": {
              "outlinewidth": 0,
              "ticks": ""
             }
            },
            "type": "histogram"
           }
          ],
          "histogram2d": [
           {
            "colorbar": {
             "outlinewidth": 0,
             "ticks": ""
            },
            "colorscale": [
             [
              0,
              "#0d0887"
             ],
             [
              0.1111111111111111,
              "#46039f"
             ],
             [
              0.2222222222222222,
              "#7201a8"
             ],
             [
              0.3333333333333333,
              "#9c179e"
             ],
             [
              0.4444444444444444,
              "#bd3786"
             ],
             [
              0.5555555555555556,
              "#d8576b"
             ],
             [
              0.6666666666666666,
              "#ed7953"
             ],
             [
              0.7777777777777778,
              "#fb9f3a"
             ],
             [
              0.8888888888888888,
              "#fdca26"
             ],
             [
              1,
              "#f0f921"
             ]
            ],
            "type": "histogram2d"
           }
          ],
          "histogram2dcontour": [
           {
            "colorbar": {
             "outlinewidth": 0,
             "ticks": ""
            },
            "colorscale": [
             [
              0,
              "#0d0887"
             ],
             [
              0.1111111111111111,
              "#46039f"
             ],
             [
              0.2222222222222222,
              "#7201a8"
             ],
             [
              0.3333333333333333,
              "#9c179e"
             ],
             [
              0.4444444444444444,
              "#bd3786"
             ],
             [
              0.5555555555555556,
              "#d8576b"
             ],
             [
              0.6666666666666666,
              "#ed7953"
             ],
             [
              0.7777777777777778,
              "#fb9f3a"
             ],
             [
              0.8888888888888888,
              "#fdca26"
             ],
             [
              1,
              "#f0f921"
             ]
            ],
            "type": "histogram2dcontour"
           }
          ],
          "mesh3d": [
           {
            "colorbar": {
             "outlinewidth": 0,
             "ticks": ""
            },
            "type": "mesh3d"
           }
          ],
          "parcoords": [
           {
            "line": {
             "colorbar": {
              "outlinewidth": 0,
              "ticks": ""
             }
            },
            "type": "parcoords"
           }
          ],
          "pie": [
           {
            "automargin": true,
            "type": "pie"
           }
          ],
          "scatter": [
           {
            "marker": {
             "colorbar": {
              "outlinewidth": 0,
              "ticks": ""
             }
            },
            "type": "scatter"
           }
          ],
          "scatter3d": [
           {
            "line": {
             "colorbar": {
              "outlinewidth": 0,
              "ticks": ""
             }
            },
            "marker": {
             "colorbar": {
              "outlinewidth": 0,
              "ticks": ""
             }
            },
            "type": "scatter3d"
           }
          ],
          "scattercarpet": [
           {
            "marker": {
             "colorbar": {
              "outlinewidth": 0,
              "ticks": ""
             }
            },
            "type": "scattercarpet"
           }
          ],
          "scattergeo": [
           {
            "marker": {
             "colorbar": {
              "outlinewidth": 0,
              "ticks": ""
             }
            },
            "type": "scattergeo"
           }
          ],
          "scattergl": [
           {
            "marker": {
             "colorbar": {
              "outlinewidth": 0,
              "ticks": ""
             }
            },
            "type": "scattergl"
           }
          ],
          "scattermapbox": [
           {
            "marker": {
             "colorbar": {
              "outlinewidth": 0,
              "ticks": ""
             }
            },
            "type": "scattermapbox"
           }
          ],
          "scatterpolar": [
           {
            "marker": {
             "colorbar": {
              "outlinewidth": 0,
              "ticks": ""
             }
            },
            "type": "scatterpolar"
           }
          ],
          "scatterpolargl": [
           {
            "marker": {
             "colorbar": {
              "outlinewidth": 0,
              "ticks": ""
             }
            },
            "type": "scatterpolargl"
           }
          ],
          "scatterternary": [
           {
            "marker": {
             "colorbar": {
              "outlinewidth": 0,
              "ticks": ""
             }
            },
            "type": "scatterternary"
           }
          ],
          "surface": [
           {
            "colorbar": {
             "outlinewidth": 0,
             "ticks": ""
            },
            "colorscale": [
             [
              0,
              "#0d0887"
             ],
             [
              0.1111111111111111,
              "#46039f"
             ],
             [
              0.2222222222222222,
              "#7201a8"
             ],
             [
              0.3333333333333333,
              "#9c179e"
             ],
             [
              0.4444444444444444,
              "#bd3786"
             ],
             [
              0.5555555555555556,
              "#d8576b"
             ],
             [
              0.6666666666666666,
              "#ed7953"
             ],
             [
              0.7777777777777778,
              "#fb9f3a"
             ],
             [
              0.8888888888888888,
              "#fdca26"
             ],
             [
              1,
              "#f0f921"
             ]
            ],
            "type": "surface"
           }
          ],
          "table": [
           {
            "cells": {
             "fill": {
              "color": "#EBF0F8"
             },
             "line": {
              "color": "white"
             }
            },
            "header": {
             "fill": {
              "color": "#C8D4E3"
             },
             "line": {
              "color": "white"
             }
            },
            "type": "table"
           }
          ]
         },
         "layout": {
          "annotationdefaults": {
           "arrowcolor": "#2a3f5f",
           "arrowhead": 0,
           "arrowwidth": 1
          },
          "autotypenumbers": "strict",
          "coloraxis": {
           "colorbar": {
            "outlinewidth": 0,
            "ticks": ""
           }
          },
          "colorscale": {
           "diverging": [
            [
             0,
             "#8e0152"
            ],
            [
             0.1,
             "#c51b7d"
            ],
            [
             0.2,
             "#de77ae"
            ],
            [
             0.3,
             "#f1b6da"
            ],
            [
             0.4,
             "#fde0ef"
            ],
            [
             0.5,
             "#f7f7f7"
            ],
            [
             0.6,
             "#e6f5d0"
            ],
            [
             0.7,
             "#b8e186"
            ],
            [
             0.8,
             "#7fbc41"
            ],
            [
             0.9,
             "#4d9221"
            ],
            [
             1,
             "#276419"
            ]
           ],
           "sequential": [
            [
             0,
             "#0d0887"
            ],
            [
             0.1111111111111111,
             "#46039f"
            ],
            [
             0.2222222222222222,
             "#7201a8"
            ],
            [
             0.3333333333333333,
             "#9c179e"
            ],
            [
             0.4444444444444444,
             "#bd3786"
            ],
            [
             0.5555555555555556,
             "#d8576b"
            ],
            [
             0.6666666666666666,
             "#ed7953"
            ],
            [
             0.7777777777777778,
             "#fb9f3a"
            ],
            [
             0.8888888888888888,
             "#fdca26"
            ],
            [
             1,
             "#f0f921"
            ]
           ],
           "sequentialminus": [
            [
             0,
             "#0d0887"
            ],
            [
             0.1111111111111111,
             "#46039f"
            ],
            [
             0.2222222222222222,
             "#7201a8"
            ],
            [
             0.3333333333333333,
             "#9c179e"
            ],
            [
             0.4444444444444444,
             "#bd3786"
            ],
            [
             0.5555555555555556,
             "#d8576b"
            ],
            [
             0.6666666666666666,
             "#ed7953"
            ],
            [
             0.7777777777777778,
             "#fb9f3a"
            ],
            [
             0.8888888888888888,
             "#fdca26"
            ],
            [
             1,
             "#f0f921"
            ]
           ]
          },
          "colorway": [
           "#636efa",
           "#EF553B",
           "#00cc96",
           "#ab63fa",
           "#FFA15A",
           "#19d3f3",
           "#FF6692",
           "#B6E880",
           "#FF97FF",
           "#FECB52"
          ],
          "font": {
           "color": "#2a3f5f"
          },
          "geo": {
           "bgcolor": "white",
           "lakecolor": "white",
           "landcolor": "#E5ECF6",
           "showlakes": true,
           "showland": true,
           "subunitcolor": "white"
          },
          "hoverlabel": {
           "align": "left"
          },
          "hovermode": "closest",
          "mapbox": {
           "style": "light"
          },
          "paper_bgcolor": "white",
          "plot_bgcolor": "#E5ECF6",
          "polar": {
           "angularaxis": {
            "gridcolor": "white",
            "linecolor": "white",
            "ticks": ""
           },
           "bgcolor": "#E5ECF6",
           "radialaxis": {
            "gridcolor": "white",
            "linecolor": "white",
            "ticks": ""
           }
          },
          "scene": {
           "xaxis": {
            "backgroundcolor": "#E5ECF6",
            "gridcolor": "white",
            "gridwidth": 2,
            "linecolor": "white",
            "showbackground": true,
            "ticks": "",
            "zerolinecolor": "white"
           },
           "yaxis": {
            "backgroundcolor": "#E5ECF6",
            "gridcolor": "white",
            "gridwidth": 2,
            "linecolor": "white",
            "showbackground": true,
            "ticks": "",
            "zerolinecolor": "white"
           },
           "zaxis": {
            "backgroundcolor": "#E5ECF6",
            "gridcolor": "white",
            "gridwidth": 2,
            "linecolor": "white",
            "showbackground": true,
            "ticks": "",
            "zerolinecolor": "white"
           }
          },
          "shapedefaults": {
           "line": {
            "color": "#2a3f5f"
           }
          },
          "ternary": {
           "aaxis": {
            "gridcolor": "white",
            "linecolor": "white",
            "ticks": ""
           },
           "baxis": {
            "gridcolor": "white",
            "linecolor": "white",
            "ticks": ""
           },
           "bgcolor": "#E5ECF6",
           "caxis": {
            "gridcolor": "white",
            "linecolor": "white",
            "ticks": ""
           }
          },
          "title": {
           "x": 0.05
          },
          "xaxis": {
           "automargin": true,
           "gridcolor": "white",
           "linecolor": "white",
           "ticks": "",
           "title": {
            "standoff": 15
           },
           "zerolinecolor": "white",
           "zerolinewidth": 2
          },
          "yaxis": {
           "automargin": true,
           "gridcolor": "white",
           "linecolor": "white",
           "ticks": "",
           "title": {
            "standoff": 15
           },
           "zerolinecolor": "white",
           "zerolinewidth": 2
          }
         }
        }
       }
      }
     },
     "metadata": {}
    }
   ],
   "source": [
    "import plotly.express as px\n",
    "\n",
    "fig = px.scatter_mapbox(df_properties_for_sale_raw, lat=\"latitude\", lon=\"longitude\", size = \"landArea\", hover_name=\"URL\", hover_data=[\"propertyType\", \"bedrooms\", \"bathrooms\", \"landArea\", \"displayableAddress\"],zoom=15, height=600)\n",
    "fig.update_layout(mapbox_style=\"open-street-map\")\n",
    "fig.update_layout(margin={\"r\":0,\"t\":0,\"l\":0,\"b\":0})\n",
    "fig.show()"
   ]
  },
  {
   "source": [
    "# End of Notebook"
   ],
   "cell_type": "markdown",
   "metadata": {}
  }
 ]
}