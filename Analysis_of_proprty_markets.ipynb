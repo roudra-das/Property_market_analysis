{
 "metadata": {
  "language_info": {
   "codemirror_mode": {
    "name": "ipython",
    "version": 3
   },
   "file_extension": ".py",
   "mimetype": "text/x-python",
   "name": "python",
   "nbconvert_exporter": "python",
   "pygments_lexer": "ipython3",
   "version": "3.8.6-final"
  },
  "orig_nbformat": 2,
  "kernelspec": {
   "name": "python3",
   "display_name": "Python 3.8.6 64-bit",
   "metadata": {
    "interpreter": {
     "hash": "916dbcbb3f70747c44a77c7bcd40155683ae19c65e1c03b4aa3499c5328201f1"
    }
   }
  }
 },
 "nbformat": 4,
 "nbformat_minor": 2,
 "cells": [
  {
   "cell_type": "code",
   "execution_count": 2,
   "metadata": {},
   "outputs": [],
   "source": [
    "import pandas as pd\n",
    "import requests\n",
    "import json\n",
    "import re, string, timeit\n",
    "import time\n",
    "import matplotlib.pyplot as plt\n",
    "import seaborn as sns\n",
    "import numpy as np"
   ]
  },
  {
   "cell_type": "code",
   "execution_count": 3,
   "metadata": {},
   "outputs": [],
   "source": [
    "pd.set_option('display.max_colwidth', -1)"
   ]
  },
  {
   "cell_type": "code",
   "execution_count": 4,
   "metadata": {},
   "outputs": [
    {
     "output_type": "execute_result",
     "data": {
      "text/plain": [
       "(183, 19)"
      ]
     },
     "metadata": {},
     "execution_count": 4
    }
   ],
   "source": [
    "df1 = pd.read_csv('Sold_Properties.csv')\n",
    "df1.shape"
   ]
  },
  {
   "cell_type": "code",
   "execution_count": 5,
   "metadata": {},
   "outputs": [
    {
     "output_type": "execute_result",
     "data": {
      "text/plain": [
       "  state  \\\n",
       "0  NSW    \n",
       "1  NSW    \n",
       "2  NSW    \n",
       "3  NSW    \n",
       "4  NSW    \n",
       "\n",
       "                                                                                                                                                            features  \\\n",
       "0  ['AirConditioning', 'BuiltInWardrobes', 'Ensuite', 'Gas', 'SecureParking', 'Intercom', 'BroadbandInternetAccess', 'Heating', 'Dishwasher', 'Shed', 'FullyFenced']   \n",
       "1  ['Ensuite', 'Gas', 'SwimmingPool', 'Heating', 'Shed', 'SolarHotWater']                                                                                              \n",
       "2  ['AirConditioning', 'Gas', 'SecureParking', 'Gym', 'Dishwasher', 'Shed', 'FullyFenced']                                                                             \n",
       "3  ['BuiltInWardrobes', 'Ensuite', 'Floorboards', 'SecureParking', 'Heating', 'SolarPanels']                                                                           \n",
       "4  ['Shed']                                                                                                                                                            \n",
       "\n",
       "  propertyType  bathrooms  bedrooms  carspaces  unitNumber  streetNumber  \\\n",
       "0  House        2          4         2         NaN          3.0            \n",
       "1  House        2          4         4         NaN          148.0          \n",
       "2  House        1          3         5         NaN          7.0            \n",
       "3  House        2          4         2         NaN          33.0           \n",
       "4  House        1          3         2         NaN          2.0            \n",
       "\n",
       "          street                     area        region     suburb  postcode  \\\n",
       "0  Yale Court     Albury - Greater Region  Regional NSW  THURGOONA  2640       \n",
       "1  Corrys Road    Albury - Greater Region  Regional NSW  THURGOONA  2640       \n",
       "2  Erica Court    Albury - Greater Region  Regional NSW  THURGOONA  2640       \n",
       "3  Oxford Drive   Albury - Greater Region  Regional NSW  THURGOONA  2640       \n",
       "4  Tawonga Place  Albury - Greater Region  Regional NSW  THURGOONA  2640       \n",
       "\n",
       "           displayableAddress   latitude   longitude  landArea          id  \\\n",
       "0  3 Yale Court, Thurgoona    -36.017563  147.014511  807       2016757756   \n",
       "1  148 Corrys Road, Thurgoona -36.054005  146.972600  4287      2016748075   \n",
       "2  7 Erica Court, Thurgoona   -36.048378  146.980652  839       2016740271   \n",
       "3  33 Oxford Drive, Thurgoona -36.020596  147.011139  803       2016723736   \n",
       "4  2 Tawonga Place, Thurgoona -36.053757  146.990112  1270      2016663170   \n",
       "\n",
       "   sold_price  \n",
       "0  485000      \n",
       "1  700000      \n",
       "2  400000      \n",
       "3  540000      \n",
       "4  272000      "
      ],
      "text/html": "<div>\n<style scoped>\n    .dataframe tbody tr th:only-of-type {\n        vertical-align: middle;\n    }\n\n    .dataframe tbody tr th {\n        vertical-align: top;\n    }\n\n    .dataframe thead th {\n        text-align: right;\n    }\n</style>\n<table border=\"1\" class=\"dataframe\">\n  <thead>\n    <tr style=\"text-align: right;\">\n      <th></th>\n      <th>state</th>\n      <th>features</th>\n      <th>propertyType</th>\n      <th>bathrooms</th>\n      <th>bedrooms</th>\n      <th>carspaces</th>\n      <th>unitNumber</th>\n      <th>streetNumber</th>\n      <th>street</th>\n      <th>area</th>\n      <th>region</th>\n      <th>suburb</th>\n      <th>postcode</th>\n      <th>displayableAddress</th>\n      <th>latitude</th>\n      <th>longitude</th>\n      <th>landArea</th>\n      <th>id</th>\n      <th>sold_price</th>\n    </tr>\n  </thead>\n  <tbody>\n    <tr>\n      <th>0</th>\n      <td>NSW</td>\n      <td>['AirConditioning', 'BuiltInWardrobes', 'Ensuite', 'Gas', 'SecureParking', 'Intercom', 'BroadbandInternetAccess', 'Heating', 'Dishwasher', 'Shed', 'FullyFenced']</td>\n      <td>House</td>\n      <td>2</td>\n      <td>4</td>\n      <td>2</td>\n      <td>NaN</td>\n      <td>3.0</td>\n      <td>Yale Court</td>\n      <td>Albury - Greater Region</td>\n      <td>Regional NSW</td>\n      <td>THURGOONA</td>\n      <td>2640</td>\n      <td>3 Yale Court, Thurgoona</td>\n      <td>-36.017563</td>\n      <td>147.014511</td>\n      <td>807</td>\n      <td>2016757756</td>\n      <td>485000</td>\n    </tr>\n    <tr>\n      <th>1</th>\n      <td>NSW</td>\n      <td>['Ensuite', 'Gas', 'SwimmingPool', 'Heating', 'Shed', 'SolarHotWater']</td>\n      <td>House</td>\n      <td>2</td>\n      <td>4</td>\n      <td>4</td>\n      <td>NaN</td>\n      <td>148.0</td>\n      <td>Corrys Road</td>\n      <td>Albury - Greater Region</td>\n      <td>Regional NSW</td>\n      <td>THURGOONA</td>\n      <td>2640</td>\n      <td>148 Corrys Road, Thurgoona</td>\n      <td>-36.054005</td>\n      <td>146.972600</td>\n      <td>4287</td>\n      <td>2016748075</td>\n      <td>700000</td>\n    </tr>\n    <tr>\n      <th>2</th>\n      <td>NSW</td>\n      <td>['AirConditioning', 'Gas', 'SecureParking', 'Gym', 'Dishwasher', 'Shed', 'FullyFenced']</td>\n      <td>House</td>\n      <td>1</td>\n      <td>3</td>\n      <td>5</td>\n      <td>NaN</td>\n      <td>7.0</td>\n      <td>Erica Court</td>\n      <td>Albury - Greater Region</td>\n      <td>Regional NSW</td>\n      <td>THURGOONA</td>\n      <td>2640</td>\n      <td>7 Erica Court, Thurgoona</td>\n      <td>-36.048378</td>\n      <td>146.980652</td>\n      <td>839</td>\n      <td>2016740271</td>\n      <td>400000</td>\n    </tr>\n    <tr>\n      <th>3</th>\n      <td>NSW</td>\n      <td>['BuiltInWardrobes', 'Ensuite', 'Floorboards', 'SecureParking', 'Heating', 'SolarPanels']</td>\n      <td>House</td>\n      <td>2</td>\n      <td>4</td>\n      <td>2</td>\n      <td>NaN</td>\n      <td>33.0</td>\n      <td>Oxford Drive</td>\n      <td>Albury - Greater Region</td>\n      <td>Regional NSW</td>\n      <td>THURGOONA</td>\n      <td>2640</td>\n      <td>33 Oxford Drive, Thurgoona</td>\n      <td>-36.020596</td>\n      <td>147.011139</td>\n      <td>803</td>\n      <td>2016723736</td>\n      <td>540000</td>\n    </tr>\n    <tr>\n      <th>4</th>\n      <td>NSW</td>\n      <td>['Shed']</td>\n      <td>House</td>\n      <td>1</td>\n      <td>3</td>\n      <td>2</td>\n      <td>NaN</td>\n      <td>2.0</td>\n      <td>Tawonga Place</td>\n      <td>Albury - Greater Region</td>\n      <td>Regional NSW</td>\n      <td>THURGOONA</td>\n      <td>2640</td>\n      <td>2 Tawonga Place, Thurgoona</td>\n      <td>-36.053757</td>\n      <td>146.990112</td>\n      <td>1270</td>\n      <td>2016663170</td>\n      <td>272000</td>\n    </tr>\n  </tbody>\n</table>\n</div>"
     },
     "metadata": {},
     "execution_count": 5
    }
   ],
   "source": [
    "df1.head()"
   ]
  },
  {
   "cell_type": "code",
   "execution_count": 6,
   "metadata": {},
   "outputs": [
    {
     "output_type": "execute_result",
     "data": {
      "text/plain": [
       "count    1.830000e+02\n",
       "mean     4.779006e+05\n",
       "std      1.631545e+05\n",
       "min      2.300000e+05\n",
       "25%      3.700000e+05\n",
       "50%      4.300000e+05\n",
       "75%      5.537500e+05\n",
       "max      1.200000e+06\n",
       "Name: sold_price, dtype: float64"
      ]
     },
     "metadata": {},
     "execution_count": 6
    }
   ],
   "source": [
    "df1[\"sold_price\"].describe()"
   ]
  },
  {
   "cell_type": "code",
   "execution_count": 7,
   "metadata": {},
   "outputs": [
    {
     "output_type": "display_data",
     "data": {
      "application/vnd.plotly.v1+json": {
       "config": {
        "plotlyServerURL": "https://plot.ly"
       },
       "data": [
        {
         "customdata": [
          [
           "House",
           4,
           2,
           807,
           "3 Yale Court, Thurgoona"
          ],
          [
           "House",
           4,
           2,
           4287,
           "148 Corrys Road, Thurgoona"
          ],
          [
           "House",
           3,
           1,
           839,
           "7 Erica Court, Thurgoona"
          ],
          [
           "House",
           4,
           2,
           803,
           "33 Oxford Drive, Thurgoona"
          ],
          [
           "House",
           3,
           1,
           1270,
           "2 Tawonga Place, Thurgoona"
          ],
          [
           "House",
           4,
           2,
           522,
           "86 Songlark Crescent, Thurgoona"
          ],
          [
           "House",
           4,
           2,
           594,
           "20 Weissel Court, Thurgoona"
          ],
          [
           "House",
           4,
           2,
           800,
           "193 Pickworth, Thurgoona"
          ],
          [
           "House",
           4,
           2,
           594,
           "9 Firetail Street, Thurgoona"
          ],
          [
           "House",
           4,
           2,
           1181,
           "73 Oxford Drive, Thurgoona"
          ],
          [
           "House",
           3,
           1,
           343,
           "5 Crackenback Street, Thurgoona"
          ],
          [
           "House",
           4,
           2,
           615,
           "5 Loch Court, Thurgoona"
          ],
          [
           "House",
           5,
           2,
           868,
           "47 Mclaren Boulevard, Thurgoona"
          ],
          [
           "House",
           4,
           2,
           4171,
           "40 Rosborough Court, Thurgoona"
          ],
          [
           "House",
           4,
           2,
           924,
           "25 Maryville Way, Thurgoona"
          ],
          [
           "House",
           4,
           2,
           1498,
           "55 Litchfield Drive, Thurgoona"
          ],
          [
           "House",
           4,
           2,
           880,
           "35 Kennedia Street, Thurgoona"
          ],
          [
           "House",
           3,
           2,
           744,
           "19 Angus Court, Thurgoona"
          ],
          [
           "House",
           4,
           2,
           1360,
           "6 Sturt Place, Thurgoona"
          ],
          [
           "House",
           4,
           2,
           661,
           "14 Zeil Circuit, Thurgoona"
          ],
          [
           "House",
           4,
           2,
           780,
           "79 Woolshed Drive, Thurgoona"
          ],
          [
           "House",
           3,
           2,
           857,
           "1 Stanford Court, Thurgoona"
          ],
          [
           "House",
           4,
           2,
           848,
           "121 Cambridge  Drive, Thurgoona"
          ],
          [
           "House",
           3,
           1,
           694,
           "11 Manuka Court, Thurgoona"
          ],
          [
           "House",
           5,
           2,
           1194,
           "14 Stockton Court, Thurgoona"
          ],
          [
           "House",
           4,
           2,
           580,
           "106 Ava Avenue, Thurgoona"
          ],
          [
           "House",
           4,
           2,
           1308,
           "1 Stirling Way, Thurgoona"
          ],
          [
           "House",
           4,
           2,
           722,
           "104 Stockman Circuit, Thurgoona"
          ],
          [
           "House",
           4,
           2,
           750,
           "37 Barossa Way, Thurgoona"
          ],
          [
           "House",
           3,
           2,
           626,
           "80 Riverboat Drive, Thurgoona"
          ],
          [
           "House",
           4,
           2,
           997,
           "27 Scott Place, Thurgoona"
          ],
          [
           "House",
           4,
           2,
           600,
           "18 Smiggins  Drive, Thurgoona"
          ],
          [
           "House",
           4,
           2,
           700,
           "15 Harvard Place, Thurgoona"
          ],
          [
           "House",
           4,
           2,
           705,
           "196 Kosciuszko Road, Thurgoona"
          ],
          [
           "House",
           4,
           2,
           607,
           "14 Friarbird Way, Thurgoona"
          ],
          [
           "House",
           4,
           2,
           1290,
           "28 Paperbark Court, Thurgoona"
          ],
          [
           "House",
           4,
           2,
           600,
           "18 Warbler Street, Thurgoona"
          ],
          [
           "House",
           4,
           2,
           680,
           "25 Redbox Drive, Thurgoona"
          ],
          [
           "House",
           4,
           2,
           945,
           "23 Tweed Court, Thurgoona"
          ],
          [
           "House",
           3,
           2,
           1905,
           "89 Maryville  Way, Thurgoona"
          ],
          [
           "House",
           4,
           2,
           751,
           "3 Treecreeper Street, Thurgoona"
          ],
          [
           "House",
           4,
           2,
           874,
           "11 Maryville Way, Thurgoona"
          ],
          [
           "House",
           3,
           1,
           895,
           "2 Gleneagles Crt, Thurgoona"
          ],
          [
           "House",
           4,
           2,
           528,
           "22 Egret Way, Thurgoona"
          ],
          [
           "House",
           4,
           2,
           863,
           "190 Forest Dr, Thurgoona"
          ],
          [
           "House",
           3,
           2,
           494,
           "31 Meyer Place, Thurgoona"
          ],
          [
           "House",
           4,
           2,
           1088,
           "87 Fairway Gardens Road, Thurgoona"
          ],
          [
           "House",
           3,
           2,
           655,
           "44 Felstead Circuit, Thurgoona"
          ],
          [
           "House",
           3,
           1,
           809,
           "16 Candlebark Street, Thurgoona"
          ],
          [
           "House",
           3,
           1,
           743,
           "18 Buller Crescent, Thurgoona"
          ],
          [
           "House",
           4,
           2,
           764,
           "82 Woolshed Drive, Thurgoona"
          ],
          [
           "House",
           4,
           2,
           845,
           "49 Yarrabee Drive, Thurgoona"
          ],
          [
           "House",
           4,
           2,
           841,
           "78 The Avenue, Thurgoona"
          ],
          [
           "House",
           3,
           1,
           752,
           "3 Cedar Court, Thurgoona"
          ],
          [
           "House",
           3,
           1,
           699,
           "127 Hotham Circuit, Thurgoona"
          ],
          [
           "House",
           4,
           2,
           704,
           "183 Kosciuszko Road, Thurgoona"
          ],
          [
           "House",
           4,
           3,
           1263,
           "136 Litchfield Drive, Thurgoona"
          ],
          [
           "House",
           4,
           2,
           664,
           "8 Stockyard Way, Thurgoona"
          ],
          [
           "House",
           3,
           1,
           844,
           "9 Eucalypt Court, Thurgoona"
          ],
          [
           "House",
           4,
           2,
           1100,
           "20 Mahogany Court, Thurgoona"
          ],
          [
           "House",
           3,
           2,
           474,
           "25 Weissel Court, Thurgoona"
          ],
          [
           "House",
           4,
           2,
           904,
           "31 The Grove, Thurgoona"
          ],
          [
           "House",
           4,
           2,
           637,
           "14 Paddlesteamer Court, Thurgoona"
          ],
          [
           "House",
           4,
           2,
           802,
           "Thurgoona"
          ],
          [
           "House",
           4,
           1,
           730,
           "117 Feathertop Circuit, Thurgoona"
          ],
          [
           "House",
           5,
           3,
           4046,
           "91 Bennett Road, Thurgoona"
          ],
          [
           "House",
           4,
           2,
           649,
           "27 Squirrel Glider Drive, Thurgoona"
          ],
          [
           "House",
           4,
           2,
           590,
           "11 Willaroo Street, Thurgoona"
          ],
          [
           "House",
           4,
           2,
           635,
           "41 Cambridge Drive, Thurgoona"
          ],
          [
           "House",
           4,
           2,
           677,
           "26 Egret Way, Thurgoona"
          ],
          [
           "House",
           3,
           2,
           452,
           "7 Cobbler Court, Thurgoona"
          ],
          [
           "House",
           4,
           2,
           754,
           "2 Manuka Court, Thurgoona"
          ],
          [
           "House",
           3,
           1,
           832,
           "8 Mahogany Court, Thurgoona"
          ],
          [
           "House",
           4,
           2,
           1117,
           "108 Litchfield Drive, Thurgoona"
          ],
          [
           "House",
           6,
           2,
           4140,
           "10 Gale  Court, Thurgoona"
          ],
          [
           "House",
           3,
           2,
           573,
           "26 REDBOX DRIVE, Thurgoona"
          ],
          [
           "House",
           3,
           2,
           994,
           "59 Maryville Way, Thurgoona"
          ],
          [
           "House",
           3,
           1,
           802,
           "10 Blackbutt Court, Thurgoona"
          ],
          [
           "House",
           4,
           2,
           803,
           "11 The Avenue, Thurgoona"
          ],
          [
           "House",
           5,
           2,
           1209,
           "3 Bolger Court, Thurgoona"
          ],
          [
           "House",
           3,
           2,
           616,
           "87 Cambridge Drive, Thurgoona"
          ],
          [
           "House",
           4,
           3,
           4123,
           "18 Kimball Court, Thurgoona"
          ],
          [
           "House",
           4,
           2,
           655,
           "74 Bogong Street, Thurgoona"
          ],
          [
           "House",
           4,
           2,
           740,
           "87 Stockman Circuit, Thurgoona"
          ],
          [
           "House",
           4,
           2,
           1096,
           "23 Cassinia Court, Thurgoona"
          ],
          [
           "House",
           3,
           1,
           936,
           "2 Boree Crt, Thurgoona"
          ],
          [
           "House",
           4,
           2,
           1776,
           "40 Hinchinbrook Court, Thurgoona"
          ],
          [
           "House",
           4,
           2,
           594,
           "53 Egret Way, Thurgoona"
          ],
          [
           "House",
           4,
           2,
           756,
           "99 Whitebox Circuit, Thurgoona"
          ],
          [
           "House",
           3,
           2,
           819,
           "28 Winnell Court, Thurgoona"
          ],
          [
           "House",
           4,
           2,
           1544,
           "52 Litchfield Drive, Thurgoona"
          ],
          [
           "House",
           4,
           2,
           642,
           "9 Egret Way, Thurgoona"
          ],
          [
           "House",
           4,
           2,
           704,
           "7 Forest Drive, Thurgoona"
          ],
          [
           "House",
           4,
           2,
           740,
           "76 Wellington Drive, Thurgoona"
          ],
          [
           "House",
           4,
           2,
           1190,
           "29 Egret Way, Thurgoona"
          ],
          [
           "House",
           4,
           2,
           655,
           "2 Tambo Court, Thurgoona"
          ],
          [
           "House",
           4,
           2,
           1451,
           "238 Kerr Road, Thurgoona"
          ],
          [
           "House",
           5,
           2,
           840,
           "61 Newton Circuit, Thurgoona"
          ],
          [
           "House",
           3,
           1,
           620,
           "24 Daysdale Way, Thurgoona"
          ],
          [
           "House",
           3,
           2,
           722,
           "9 Denny Court, Thurgoona"
          ],
          [
           "House",
           4,
           2,
           906,
           "2 Stirling Way, Thurgoona"
          ],
          [
           "House",
           4,
           2,
           648,
           "9 Wellington Drive, Thurgoona"
          ],
          [
           "House",
           4,
           2,
           6008,
           "6 Finlay Road, Thurgoona"
          ],
          [
           "House",
           4,
           2,
           843,
           "97 Forest  Drive, Thurgoona"
          ],
          [
           "House",
           4,
           2,
           4102,
           "8 Lobbe Road, Thurgoona"
          ],
          [
           "House",
           4,
           2,
           804,
           "19 Whitton Drive, Thurgoona"
          ],
          [
           "House",
           5,
           2,
           804,
           "7 Deakin Place, Thurgoona"
          ],
          [
           "House",
           3,
           2,
           365,
           "4 Lankester Court, Thurgoona"
          ],
          [
           "House",
           4,
           2,
           1809,
           "33 Shepherd Court, Thurgoona"
          ],
          [
           "House",
           4,
           2,
           4376,
           "3 Kimball Court, Thurgoona"
          ],
          [
           "House",
           4,
           3,
           1281,
           "3 The Meadow, Thurgoona"
          ],
          [
           "House",
           4,
           2,
           1016,
           "147 Pickworth Street, Thurgoona"
          ],
          [
           "House",
           4,
           2,
           800,
           "60 Felstead Circuit, Thurgoona"
          ],
          [
           "House",
           4,
           2,
           608,
           "54 Newton Circuit, Thurgoona"
          ],
          [
           "House",
           2,
           1,
           249,
           "111 Stanton Drive, Thurgoona"
          ],
          [
           "House",
           4,
           2,
           660,
           "104 Hotham Circuit, Thurgoona"
          ],
          [
           "House",
           3,
           1,
           606,
           "25 Kennedia  Street, Thurgoona"
          ],
          [
           "House",
           4,
           2,
           1259,
           "33 Litchfield Drive, Thurgoona"
          ],
          [
           "House",
           4,
           2,
           840,
           "11 Paton Close, Thurgoona"
          ],
          [
           "House",
           4,
           2,
           1492,
           "43 Litchfield Drive, Thurgoona"
          ],
          [
           "House",
           4,
           2,
           704,
           "58 Newton Circuit, Thurgoona"
          ],
          [
           "House",
           4,
           2,
           735,
           "6 Angus Court, Thurgoona"
          ],
          [
           "House",
           4,
           2,
           868,
           "120 Cambridge Drive, Thurgoona"
          ],
          [
           "House",
           3,
           1,
           777,
           "115 Kosciuszko Road, Thurgoona"
          ],
          [
           "House",
           4,
           2,
           740,
           "6 Harvard Place, Thurgoona"
          ],
          [
           "House",
           4,
           2,
           4107,
           "7 Kimball Court, Thurgoona"
          ],
          [
           "House",
           5,
           2,
           738,
           "19 Hauteville Street, Thurgoona"
          ],
          [
           "House",
           3,
           2,
           713,
           "3 Zellar Court, Thurgoona"
          ],
          [
           "House",
           3,
           2,
           475,
           "38 Meyer Place, Thurgoona"
          ],
          [
           "House",
           3,
           1,
           733,
           "6 Oak Court, Thurgoona"
          ],
          [
           "House",
           4,
           2,
           1351,
           "26 Bottlebrush Street, Thurgoona"
          ],
          [
           "House",
           4,
           2,
           1666,
           "58 Corriedale Court, Thurgoona"
          ],
          [
           "House",
           3,
           2,
           540,
           "30 Potoroo  Avenue, Thurgoona"
          ],
          [
           "House",
           4,
           2,
           945,
           "21 Tweed Court, Thurgoona"
          ],
          [
           "House",
           4,
           1,
           4200,
           "154 Corrys Road, Thurgoona"
          ],
          [
           "House",
           3,
           1,
           727,
           "31 Bogong  Street, Thurgoona"
          ],
          [
           "House",
           4,
           2,
           1418,
           "61 Litchfield Drive, Thurgoona"
          ],
          [
           "House",
           4,
           2,
           753,
           "78 Woolshed Drive, Thurgoona"
          ],
          [
           "House",
           4,
           2,
           696,
           "10 Belah Court, Thurgoona"
          ],
          [
           "House",
           3,
           2,
           603,
           "23 Whitebox Circuit, Thurgoona"
          ],
          [
           "House",
           4,
           2,
           754,
           "16 Cassinia Court, Thurgoona"
          ],
          [
           "House",
           3,
           2,
           1096,
           "23 Cassinia Court, Thurgoona"
          ],
          [
           "House",
           4,
           2,
           1042,
           "6 Bolger Court, Thurgoona"
          ],
          [
           "House",
           4,
           2,
           1260,
           "34 Stirling Way, Thurgoona"
          ],
          [
           "House",
           4,
           2,
           659,
           "55 Wellington  Drive, Thurgoona"
          ],
          [
           "House",
           4,
           2,
           1429,
           "20 Hinchinbrook, Thurgoona"
          ],
          [
           "House",
           3,
           1,
           828,
           "5 Tawonga Place, Thurgoona"
          ],
          [
           "House",
           3,
           1,
           690,
           "3 Budginigi Place, Thurgoona"
          ],
          [
           "House",
           4,
           2,
           674,
           "48 Felstead Circuit, Thurgoona"
          ],
          [
           "House",
           4,
           2,
           936,
           "30 Telopea Street, Thurgoona"
          ],
          [
           "House",
           4,
           2,
           599,
           "15 Barnett Ave, Thurgoona"
          ],
          [
           "House",
           4,
           2,
           539,
           "9 Whitebox Circuit, Thurgoona"
          ],
          [
           "House",
           4,
           2,
           742,
           "5 Yarra Mews, Thurgoona"
          ],
          [
           "House",
           4,
           2,
           415,
           "22 Adams Court, Thurgoona"
          ],
          [
           "House",
           4,
           2,
           502,
           "100 Songlark Crescent, Thurgoona"
          ],
          [
           "House",
           3,
           1,
           709,
           "18 Maryville Way, Thurgoona"
          ],
          [
           "House",
           4,
           2,
           618,
           "28 Blakleys Circuit, Thurgoona"
          ],
          [
           "House",
           4,
           2,
           1068,
           "107 Litchfield Drive, Thurgoona"
          ],
          [
           "House",
           4,
           2,
           588,
           "6 Egret Way, Thurgoona"
          ],
          [
           "House",
           4,
           2,
           930,
           "17 Sundew  Court, Thurgoona"
          ],
          [
           "House",
           4,
           2,
           721,
           "14 Berberick Court, Thurgoona"
          ],
          [
           "House",
           4,
           2,
           1483,
           "34 Kakadu Court, Thurgoona"
          ],
          [
           "House",
           4,
           2,
           1776,
           "40 Hinchinbrook Court, Thurgoona"
          ],
          [
           "House",
           3,
           3,
           1269,
           "21 Sugar Gum Road, Thurgoona"
          ],
          [
           "House",
           3,
           1,
           755,
           "9 Blackbutt Ct, Thurgoona"
          ],
          [
           "House",
           4,
           2,
           611,
           "8 Mimosa Court, Thurgoona"
          ],
          [
           "House",
           6,
           2,
           6607,
           "66 Bennett Road, Thurgoona"
          ],
          [
           "House",
           4,
           2,
           2227,
           "6 Blue Wren  Close, Thurgoona"
          ],
          [
           "House",
           3,
           2,
           703,
           "107 Hotham Circuit, Thurgoona"
          ],
          [
           "House",
           4,
           2,
           1430,
           "103 Litchfield Drive, Thurgoona"
          ],
          [
           "House",
           3,
           1,
           857,
           "17 Crackenback Street, Thurgoona"
          ],
          [
           "House",
           4,
           2,
           644,
           "92 Ava Avenue, Thurgoona"
          ],
          [
           "House",
           4,
           2,
           600,
           "218 Kosciuszko Road, Thurgoona"
          ],
          [
           "House",
           4,
           2,
           519,
           "132 Whitebox Circuit, Thurgoona"
          ],
          [
           "House",
           5,
           3,
           6302,
           "3 Bennett  Road, Thurgoona"
          ],
          [
           "House",
           4,
           2,
           910,
           "56 Oxford Drive, Thurgoona"
          ],
          [
           "House",
           3,
           2,
           757,
           "5 Quandong Road, Thurgoona"
          ],
          [
           "House",
           4,
           2,
           704,
           "110 Hotham Circuit, Thurgoona"
          ],
          [
           "House",
           3,
           2,
           940,
           "18 The Meadow, Thurgoona"
          ],
          [
           "House",
           4,
           2,
           586,
           "45 Riverboat Drive, Thurgoona"
          ],
          [
           "House",
           4,
           2,
           744,
           "180 Kosciuszko Road, Thurgoona"
          ],
          [
           "House",
           4,
           2,
           1170,
           "35 Honeysuckle Street, Thurgoona"
          ],
          [
           "House",
           4,
           2,
           680,
           "21 Felstead Circuit, Thurgoona"
          ]
         ],
         "hovertemplate": "<b>%{hovertext}</b><br><br>sold_price=%{marker.size}<br>latitude=%{lat}<br>longitude=%{lon}<br>propertyType=%{customdata[0]}<br>bedrooms=%{customdata[1]}<br>bathrooms=%{customdata[2]}<br>landArea=%{customdata[3]}<br>displayableAddress=%{customdata[4]}<extra></extra>",
         "hovertext": [
          2016757756,
          2016748075,
          2016740271,
          2016723736,
          2016663170,
          2016700308,
          2016687377,
          2016525260,
          2016669391,
          2015883970,
          2016482991,
          2016667425,
          2016593546,
          2016606216,
          2016609307,
          2016633024,
          2016583815,
          2016595257,
          2016504460,
          2016098032,
          2016588343,
          2016467412,
          2016462926,
          2016521999,
          2016508447,
          2016495274,
          2016225805,
          2016549757,
          2016522230,
          2016489823,
          2016406041,
          2015154363,
          2016424117,
          2015872618,
          2016429150,
          2016379958,
          2016405613,
          2016435110,
          2016308139,
          2015300684,
          2016295242,
          2016125185,
          2016398323,
          2016197480,
          2016281393,
          2016289819,
          2015985553,
          2016248896,
          2016251601,
          2016218105,
          2016247253,
          2016268461,
          2016227166,
          2016164764,
          2016197290,
          2016167691,
          2016131321,
          2015961434,
          2016074014,
          2015805356,
          2016130858,
          2016073700,
          2016025177,
          2016095592,
          2016091579,
          2016064404,
          2015921890,
          2016074785,
          2014702714,
          2016092660,
          2016092656,
          2016092663,
          2015993003,
          2015673590,
          2016026506,
          2016008218,
          2016092657,
          2015628233,
          2015915808,
          2016012920,
          2015003166,
          2016052983,
          2016092666,
          2015820257,
          2015998589,
          2015937202,
          2016018726,
          2016010569,
          2015913859,
          2015985956,
          2015777629,
          2015875946,
          2015918012,
          2015480550,
          2015689732,
          2015614694,
          2014856711,
          2015880707,
          2015707899,
          2015883322,
          2015615730,
          2015617267,
          2015792342,
          2015770427,
          2015144403,
          2015625887,
          2015614334,
          2015615203,
          2015707297,
          2015655112,
          2015621106,
          2015701201,
          2015488970,
          2015498682,
          2015615183,
          2015381218,
          2015536601,
          2014859405,
          2015461312,
          2015376085,
          2015475029,
          2015375534,
          2015480104,
          2015527850,
          2015240647,
          2015480247,
          2014817909,
          2014976129,
          2015480145,
          2015434726,
          2014931467,
          2014769807,
          2015226960,
          2015010566,
          2014828103,
          2015141353,
          2014994991,
          2014991331,
          2014990130,
          2014902439,
          2014989909,
          2015103621,
          2014992958,
          2014799844,
          2014911757,
          2014847769,
          2014607332,
          2014976246,
          2014934724,
          2014976194,
          2013923585,
          2014955904,
          2014946296,
          2014714804,
          2014787054,
          2014976279,
          2014799287,
          2014693970,
          2014976141,
          2014379896,
          2014816237,
          2014154304,
          2014564166,
          2014738520,
          2014592572,
          2014764729,
          2014698779,
          2014788819,
          2014652338,
          2014761134,
          2014782143,
          2014683923,
          2014676007,
          2014637028,
          2014600471,
          2014671038,
          2014582507,
          2014199774,
          2014639641,
          2014617539,
          2014528667,
          2014460602,
          2014318876
         ],
         "lat": [
          -36.017562899999994,
          -36.0540047,
          -36.048378,
          -36.0205956,
          -36.0537567,
          -36.0364456,
          -36.0242,
          -36.04885,
          -36.0370979,
          -36.02025,
          -36.04704,
          -36.054287,
          -36.0416641,
          -36.03245,
          -36.04555,
          -36.04873,
          -36.0506477,
          -36.0647774,
          -36.0182152,
          -36.0627251,
          -36.05401,
          -36.02065,
          -36.01732,
          -36.0521431,
          -36.0539474,
          -36.037254299999994,
          -36.0497971,
          -36.0542336,
          -36.040279999999996,
          -36.05765,
          -36.04813,
          -36.053833000000004,
          -36.0185471,
          -36.05533,
          -36.03633,
          -36.05433,
          -36.0350342,
          -36.033805799999996,
          -36.05095,
          -36.0420532,
          -36.036293,
          -36.045143100000004,
          -36.05292,
          -36.037323,
          -36.0445,
          -36.042629999999996,
          -36.04501,
          -36.0499649,
          -36.0485229,
          -36.0502357,
          -36.05533,
          -36.047466299999996,
          -36.0497627,
          -36.05024,
          -36.0458565,
          -36.0547,
          -36.048416100000004,
          -36.05798,
          -36.047107700000005,
          -36.0504379,
          -36.0242,
          -36.0497437,
          -36.055859999999996,
          -36.05,
          -36.0527534,
          -36.0362473,
          -36.03472,
          -36.03348,
          -36.01965,
          -36.037342100000004,
          -36.0460052,
          -36.0517845,
          -36.0492477,
          -36.048416100000004,
          -36.0402756,
          -36.033570000000005,
          -36.0432854,
          -36.049083700000004,
          -36.048645,
          -36.04847,
          -36.018609999999995,
          -36.03303,
          -36.0467567,
          -36.0542831,
          -36.0543671,
          -36.04605,
          -36.046966600000005,
          -36.03734,
          -36.03394,
          -36.04077,
          -36.048416100000004,
          -36.037056,
          -36.050959999999996,
          -36.05506,
          -36.0370064,
          -36.0460739,
          -36.0485344,
          -36.0459747,
          -36.043293,
          -36.042840000000005,
          -36.0497971,
          -36.0552979,
          -36.040820000000004,
          -36.04691,
          -36.04057,
          -36.0490036,
          -36.0176125,
          -36.026672399999995,
          -36.047554,
          -36.032413500000004,
          -36.04704,
          -36.050926200000006,
          -36.04943,
          -36.04553,
          -36.025646200000004,
          -36.04564,
          -36.0508881,
          -36.048416100000004,
          -36.04257,
          -36.048416100000004,
          -36.045475,
          -36.0647774,
          -36.017520000000005,
          -36.0519524,
          -36.0182037,
          -36.032562299999995,
          -36.04425,
          -36.02564,
          -36.042778000000006,
          -36.052009999999996,
          -36.048576399999995,
          -36.046794899999995,
          -36.063390000000005,
          -36.050540000000005,
          -36.053344700000004,
          -36.04841,
          -36.048416100000004,
          -36.05533,
          -36.051773100000005,
          -36.03443,
          -36.05382,
          -36.0543671,
          -36.047909999999995,
          -36.0497971,
          -36.05506,
          -36.046966600000005,
          -36.05343,
          -36.05362,
          -36.0497932,
          -36.0539131,
          -36.0248528,
          -36.0354729,
          -36.04076,
          -36.041976899999995,
          -36.0378,
          -36.04497,
          -36.0344734,
          -36.048416100000004,
          -36.037563299999995,
          -36.0508842,
          -36.0416756,
          -36.048953999999995,
          -36.046966600000005,
          -36.04985429999999,
          -36.0492249,
          -36.04565,
          -36.037890000000004,
          -36.05,
          -36.0460243,
          -36.048416100000004,
          -36.0471764,
          -36.0377769,
          -36.0561638,
          -36.03476,
          -36.0438881,
          -36.02104,
          -36.0497665,
          -36.045574200000004,
          -36.04663,
          -36.057415,
          -36.0547256,
          -36.0525665,
          -36.05048
         ],
         "legendgroup": "",
         "lon": [
          147.014511,
          146.9726,
          146.980652,
          147.011139,
          146.990112,
          146.977081,
          146.985458,
          147.00550800000002,
          146.984116,
          147.012543,
          146.99143999999998,
          146.98954799999998,
          146.978745,
          147.014725,
          146.98349,
          147.0193,
          146.9795,
          147.0123,
          147.015228,
          146.93141200000002,
          147.00968899999998,
          147.011856,
          147.015076,
          146.978775,
          146.992447,
          146.9788,
          147.016281,
          147.012238,
          146.9781,
          146.979782,
          147.00688200000002,
          146.985931,
          147.0138,
          146.987778,
          146.98023999999998,
          146.982376,
          146.982773,
          146.981979,
          147.01576200000002,
          146.9842,
          146.984039,
          146.982178,
          146.9928,
          146.980423,
          147.009415,
          146.982681,
          147.008545,
          147.007431,
          146.979568,
          146.98963899999998,
          147.008347,
          147.0139,
          146.995239,
          146.978241,
          146.989944,
          146.988144,
          147.019348,
          146.97701999999998,
          146.980682,
          146.982666,
          146.985458,
          146.997879,
          146.977753,
          146.983337,
          146.9881,
          147.0113,
          146.98286399999998,
          146.98400900000001,
          147.01306200000002,
          146.980789,
          146.9881,
          146.9798,
          146.983261,
          147.019348,
          147.00346399999998,
          146.981583,
          146.984924,
          146.9804,
          146.994476,
          147.004959,
          147.014359,
          147.012177,
          146.9877,
          147.011673,
          146.9764,
          146.9804,
          147.018,
          146.982986,
          146.982971,
          146.9822,
          147.019348,
          146.979492,
          147.0079,
          146.989426,
          146.981277,
          146.988419,
          147.015427,
          147.004,
          146.980179,
          146.98361200000002,
          147.016281,
          146.99035600000002,
          147.008926,
          147.00874299999998,
          147.006683,
          147.007431,
          147.01586899999998,
          146.983429,
          147.0169,
          147.014023,
          146.993729,
          147.005,
          147.007,
          147.00456200000002,
          146.98674,
          146.9912,
          146.978348,
          147.019348,
          146.98628200000002,
          147.019348,
          147.004379,
          147.0123,
          147.01561,
          146.98735,
          147.01445,
          147.013916,
          146.983521,
          146.9867,
          146.98317,
          146.980682,
          146.98378,
          147.016251,
          147.009918,
          147.014984,
          146.9731,
          146.988754,
          147.019348,
          147.008347,
          146.977524,
          146.984833,
          146.977112,
          146.9764,
          147.0053,
          147.016266,
          146.989426,
          147.018,
          146.98954799999998,
          146.988922,
          147.007462,
          146.978241,
          146.98893700000002,
          146.984924,
          146.979965,
          146.988174,
          146.97789,
          146.98291,
          146.97976699999998,
          147.019348,
          146.979416,
          146.981079,
          146.98242199999999,
          147.018463,
          147.018,
          146.977768,
          146.980972,
          146.979889,
          147.014847,
          146.983337,
          146.990891,
          147.019348,
          146.99078400000002,
          146.97924799999998,
          146.988785,
          146.981552,
          147.01271100000002,
          147.01191699999998,
          146.97628799999998,
          146.990936,
          146.99478100000002,
          146.978012,
          146.987473,
          146.9773,
          147.0067
         ],
         "marker": {
          "color": "#636efa",
          "size": [
           485000,
           700000,
           400000,
           540000,
           272000,
           440000,
           515000,
           795000,
           430000,
           560000,
           350000,
           430000,
           475000,
           765000,
           450000,
           540500,
           435000,
           395000,
           721000,
           539000,
           492000,
           435000,
           470000,
           353000,
           325000,
           430000,
           765000,
           565000,
           535000,
           408000,
           725000,
           408000,
           450000,
           565000,
           420000,
           525000,
           396000,
           417000,
           535000,
           800000,
           495000,
           320000,
           311200,
           399000,
           575000,
           390000,
           530000,
           373000,
           230000,
           322000,
           710000,
           495000,
           425000,
           236000,
           290000,
           415000,
           820000,
           457500,
           239000,
           351000,
           389000,
           726000,
           410000,
           420000,
           272000,
           1200000,
           385000,
           390000,
           383000,
           425000,
           290000,
           380000,
           335000,
           625000,
           915000,
           355000,
           370000,
           327500,
           340000,
           845000,
           347000,
           785000,
           310000,
           477500,
           500000,
           280000,
           775000,
           392500,
           408000,
           385000,
           667500,
           412000,
           505000,
           480000,
           735000,
           410000,
           550000,
           800000,
           280000,
           357000,
           472500,
           450000,
           705000,
           565000,
           895000,
           469000,
           580000,
           355000,
           760000,
           652000,
           625000,
           725000,
           522000,
           415000,
           286500,
           375000,
           284500,
           580000,
           495000,
           635000,
           422500,
           450000,
           530000,
           278500,
           445000,
           680000,
           386000,
           377000,
           321000,
           289000,
           400000,
           557500,
           403000,
           497000,
           445000,
           295000,
           620000,
           660000,
           408000,
           350000,
           374000,
           480000,
           690000,
           530000,
           390000,
           750000,
           248000,
           250000,
           410000,
           458000,
           370000,
           402000,
           535000,
           465000,
           412500,
           260000,
           419000,
           620000,
           418000,
           322000,
           305000,
           700000,
           751000,
           353000,
           251000,
           337500,
           650000,
           742117,
           295000,
           795000,
           259000,
           429000,
           367500,
           387000,
           655000,
           517000,
           347000,
           340000,
           510000,
           425000,
           470000,
           355000,
           471000
          ],
          "sizemode": "area",
          "sizeref": 3000
         },
         "mode": "markers",
         "name": "",
         "showlegend": false,
         "subplot": "mapbox",
         "type": "scattermapbox"
        }
       ],
       "layout": {
        "height": 600,
        "legend": {
         "itemsizing": "constant",
         "tracegroupgap": 0
        },
        "mapbox": {
         "center": {
          "lat": -36.04430927540984,
          "lon": 146.99446918579235
         },
         "domain": {
          "x": [
           0,
           1
          ],
          "y": [
           0,
           1
          ]
         },
         "style": "open-street-map",
         "zoom": 15
        },
        "margin": {
         "b": 0,
         "l": 0,
         "r": 0,
         "t": 0
        },
        "template": {
         "data": {
          "bar": [
           {
            "error_x": {
             "color": "#2a3f5f"
            },
            "error_y": {
             "color": "#2a3f5f"
            },
            "marker": {
             "line": {
              "color": "#E5ECF6",
              "width": 0.5
             }
            },
            "type": "bar"
           }
          ],
          "barpolar": [
           {
            "marker": {
             "line": {
              "color": "#E5ECF6",
              "width": 0.5
             }
            },
            "type": "barpolar"
           }
          ],
          "carpet": [
           {
            "aaxis": {
             "endlinecolor": "#2a3f5f",
             "gridcolor": "white",
             "linecolor": "white",
             "minorgridcolor": "white",
             "startlinecolor": "#2a3f5f"
            },
            "baxis": {
             "endlinecolor": "#2a3f5f",
             "gridcolor": "white",
             "linecolor": "white",
             "minorgridcolor": "white",
             "startlinecolor": "#2a3f5f"
            },
            "type": "carpet"
           }
          ],
          "choropleth": [
           {
            "colorbar": {
             "outlinewidth": 0,
             "ticks": ""
            },
            "type": "choropleth"
           }
          ],
          "contour": [
           {
            "colorbar": {
             "outlinewidth": 0,
             "ticks": ""
            },
            "colorscale": [
             [
              0,
              "#0d0887"
             ],
             [
              0.1111111111111111,
              "#46039f"
             ],
             [
              0.2222222222222222,
              "#7201a8"
             ],
             [
              0.3333333333333333,
              "#9c179e"
             ],
             [
              0.4444444444444444,
              "#bd3786"
             ],
             [
              0.5555555555555556,
              "#d8576b"
             ],
             [
              0.6666666666666666,
              "#ed7953"
             ],
             [
              0.7777777777777778,
              "#fb9f3a"
             ],
             [
              0.8888888888888888,
              "#fdca26"
             ],
             [
              1,
              "#f0f921"
             ]
            ],
            "type": "contour"
           }
          ],
          "contourcarpet": [
           {
            "colorbar": {
             "outlinewidth": 0,
             "ticks": ""
            },
            "type": "contourcarpet"
           }
          ],
          "heatmap": [
           {
            "colorbar": {
             "outlinewidth": 0,
             "ticks": ""
            },
            "colorscale": [
             [
              0,
              "#0d0887"
             ],
             [
              0.1111111111111111,
              "#46039f"
             ],
             [
              0.2222222222222222,
              "#7201a8"
             ],
             [
              0.3333333333333333,
              "#9c179e"
             ],
             [
              0.4444444444444444,
              "#bd3786"
             ],
             [
              0.5555555555555556,
              "#d8576b"
             ],
             [
              0.6666666666666666,
              "#ed7953"
             ],
             [
              0.7777777777777778,
              "#fb9f3a"
             ],
             [
              0.8888888888888888,
              "#fdca26"
             ],
             [
              1,
              "#f0f921"
             ]
            ],
            "type": "heatmap"
           }
          ],
          "heatmapgl": [
           {
            "colorbar": {
             "outlinewidth": 0,
             "ticks": ""
            },
            "colorscale": [
             [
              0,
              "#0d0887"
             ],
             [
              0.1111111111111111,
              "#46039f"
             ],
             [
              0.2222222222222222,
              "#7201a8"
             ],
             [
              0.3333333333333333,
              "#9c179e"
             ],
             [
              0.4444444444444444,
              "#bd3786"
             ],
             [
              0.5555555555555556,
              "#d8576b"
             ],
             [
              0.6666666666666666,
              "#ed7953"
             ],
             [
              0.7777777777777778,
              "#fb9f3a"
             ],
             [
              0.8888888888888888,
              "#fdca26"
             ],
             [
              1,
              "#f0f921"
             ]
            ],
            "type": "heatmapgl"
           }
          ],
          "histogram": [
           {
            "marker": {
             "colorbar": {
              "outlinewidth": 0,
              "ticks": ""
             }
            },
            "type": "histogram"
           }
          ],
          "histogram2d": [
           {
            "colorbar": {
             "outlinewidth": 0,
             "ticks": ""
            },
            "colorscale": [
             [
              0,
              "#0d0887"
             ],
             [
              0.1111111111111111,
              "#46039f"
             ],
             [
              0.2222222222222222,
              "#7201a8"
             ],
             [
              0.3333333333333333,
              "#9c179e"
             ],
             [
              0.4444444444444444,
              "#bd3786"
             ],
             [
              0.5555555555555556,
              "#d8576b"
             ],
             [
              0.6666666666666666,
              "#ed7953"
             ],
             [
              0.7777777777777778,
              "#fb9f3a"
             ],
             [
              0.8888888888888888,
              "#fdca26"
             ],
             [
              1,
              "#f0f921"
             ]
            ],
            "type": "histogram2d"
           }
          ],
          "histogram2dcontour": [
           {
            "colorbar": {
             "outlinewidth": 0,
             "ticks": ""
            },
            "colorscale": [
             [
              0,
              "#0d0887"
             ],
             [
              0.1111111111111111,
              "#46039f"
             ],
             [
              0.2222222222222222,
              "#7201a8"
             ],
             [
              0.3333333333333333,
              "#9c179e"
             ],
             [
              0.4444444444444444,
              "#bd3786"
             ],
             [
              0.5555555555555556,
              "#d8576b"
             ],
             [
              0.6666666666666666,
              "#ed7953"
             ],
             [
              0.7777777777777778,
              "#fb9f3a"
             ],
             [
              0.8888888888888888,
              "#fdca26"
             ],
             [
              1,
              "#f0f921"
             ]
            ],
            "type": "histogram2dcontour"
           }
          ],
          "mesh3d": [
           {
            "colorbar": {
             "outlinewidth": 0,
             "ticks": ""
            },
            "type": "mesh3d"
           }
          ],
          "parcoords": [
           {
            "line": {
             "colorbar": {
              "outlinewidth": 0,
              "ticks": ""
             }
            },
            "type": "parcoords"
           }
          ],
          "pie": [
           {
            "automargin": true,
            "type": "pie"
           }
          ],
          "scatter": [
           {
            "marker": {
             "colorbar": {
              "outlinewidth": 0,
              "ticks": ""
             }
            },
            "type": "scatter"
           }
          ],
          "scatter3d": [
           {
            "line": {
             "colorbar": {
              "outlinewidth": 0,
              "ticks": ""
             }
            },
            "marker": {
             "colorbar": {
              "outlinewidth": 0,
              "ticks": ""
             }
            },
            "type": "scatter3d"
           }
          ],
          "scattercarpet": [
           {
            "marker": {
             "colorbar": {
              "outlinewidth": 0,
              "ticks": ""
             }
            },
            "type": "scattercarpet"
           }
          ],
          "scattergeo": [
           {
            "marker": {
             "colorbar": {
              "outlinewidth": 0,
              "ticks": ""
             }
            },
            "type": "scattergeo"
           }
          ],
          "scattergl": [
           {
            "marker": {
             "colorbar": {
              "outlinewidth": 0,
              "ticks": ""
             }
            },
            "type": "scattergl"
           }
          ],
          "scattermapbox": [
           {
            "marker": {
             "colorbar": {
              "outlinewidth": 0,
              "ticks": ""
             }
            },
            "type": "scattermapbox"
           }
          ],
          "scatterpolar": [
           {
            "marker": {
             "colorbar": {
              "outlinewidth": 0,
              "ticks": ""
             }
            },
            "type": "scatterpolar"
           }
          ],
          "scatterpolargl": [
           {
            "marker": {
             "colorbar": {
              "outlinewidth": 0,
              "ticks": ""
             }
            },
            "type": "scatterpolargl"
           }
          ],
          "scatterternary": [
           {
            "marker": {
             "colorbar": {
              "outlinewidth": 0,
              "ticks": ""
             }
            },
            "type": "scatterternary"
           }
          ],
          "surface": [
           {
            "colorbar": {
             "outlinewidth": 0,
             "ticks": ""
            },
            "colorscale": [
             [
              0,
              "#0d0887"
             ],
             [
              0.1111111111111111,
              "#46039f"
             ],
             [
              0.2222222222222222,
              "#7201a8"
             ],
             [
              0.3333333333333333,
              "#9c179e"
             ],
             [
              0.4444444444444444,
              "#bd3786"
             ],
             [
              0.5555555555555556,
              "#d8576b"
             ],
             [
              0.6666666666666666,
              "#ed7953"
             ],
             [
              0.7777777777777778,
              "#fb9f3a"
             ],
             [
              0.8888888888888888,
              "#fdca26"
             ],
             [
              1,
              "#f0f921"
             ]
            ],
            "type": "surface"
           }
          ],
          "table": [
           {
            "cells": {
             "fill": {
              "color": "#EBF0F8"
             },
             "line": {
              "color": "white"
             }
            },
            "header": {
             "fill": {
              "color": "#C8D4E3"
             },
             "line": {
              "color": "white"
             }
            },
            "type": "table"
           }
          ]
         },
         "layout": {
          "annotationdefaults": {
           "arrowcolor": "#2a3f5f",
           "arrowhead": 0,
           "arrowwidth": 1
          },
          "autotypenumbers": "strict",
          "coloraxis": {
           "colorbar": {
            "outlinewidth": 0,
            "ticks": ""
           }
          },
          "colorscale": {
           "diverging": [
            [
             0,
             "#8e0152"
            ],
            [
             0.1,
             "#c51b7d"
            ],
            [
             0.2,
             "#de77ae"
            ],
            [
             0.3,
             "#f1b6da"
            ],
            [
             0.4,
             "#fde0ef"
            ],
            [
             0.5,
             "#f7f7f7"
            ],
            [
             0.6,
             "#e6f5d0"
            ],
            [
             0.7,
             "#b8e186"
            ],
            [
             0.8,
             "#7fbc41"
            ],
            [
             0.9,
             "#4d9221"
            ],
            [
             1,
             "#276419"
            ]
           ],
           "sequential": [
            [
             0,
             "#0d0887"
            ],
            [
             0.1111111111111111,
             "#46039f"
            ],
            [
             0.2222222222222222,
             "#7201a8"
            ],
            [
             0.3333333333333333,
             "#9c179e"
            ],
            [
             0.4444444444444444,
             "#bd3786"
            ],
            [
             0.5555555555555556,
             "#d8576b"
            ],
            [
             0.6666666666666666,
             "#ed7953"
            ],
            [
             0.7777777777777778,
             "#fb9f3a"
            ],
            [
             0.8888888888888888,
             "#fdca26"
            ],
            [
             1,
             "#f0f921"
            ]
           ],
           "sequentialminus": [
            [
             0,
             "#0d0887"
            ],
            [
             0.1111111111111111,
             "#46039f"
            ],
            [
             0.2222222222222222,
             "#7201a8"
            ],
            [
             0.3333333333333333,
             "#9c179e"
            ],
            [
             0.4444444444444444,
             "#bd3786"
            ],
            [
             0.5555555555555556,
             "#d8576b"
            ],
            [
             0.6666666666666666,
             "#ed7953"
            ],
            [
             0.7777777777777778,
             "#fb9f3a"
            ],
            [
             0.8888888888888888,
             "#fdca26"
            ],
            [
             1,
             "#f0f921"
            ]
           ]
          },
          "colorway": [
           "#636efa",
           "#EF553B",
           "#00cc96",
           "#ab63fa",
           "#FFA15A",
           "#19d3f3",
           "#FF6692",
           "#B6E880",
           "#FF97FF",
           "#FECB52"
          ],
          "font": {
           "color": "#2a3f5f"
          },
          "geo": {
           "bgcolor": "white",
           "lakecolor": "white",
           "landcolor": "#E5ECF6",
           "showlakes": true,
           "showland": true,
           "subunitcolor": "white"
          },
          "hoverlabel": {
           "align": "left"
          },
          "hovermode": "closest",
          "mapbox": {
           "style": "light"
          },
          "paper_bgcolor": "white",
          "plot_bgcolor": "#E5ECF6",
          "polar": {
           "angularaxis": {
            "gridcolor": "white",
            "linecolor": "white",
            "ticks": ""
           },
           "bgcolor": "#E5ECF6",
           "radialaxis": {
            "gridcolor": "white",
            "linecolor": "white",
            "ticks": ""
           }
          },
          "scene": {
           "xaxis": {
            "backgroundcolor": "#E5ECF6",
            "gridcolor": "white",
            "gridwidth": 2,
            "linecolor": "white",
            "showbackground": true,
            "ticks": "",
            "zerolinecolor": "white"
           },
           "yaxis": {
            "backgroundcolor": "#E5ECF6",
            "gridcolor": "white",
            "gridwidth": 2,
            "linecolor": "white",
            "showbackground": true,
            "ticks": "",
            "zerolinecolor": "white"
           },
           "zaxis": {
            "backgroundcolor": "#E5ECF6",
            "gridcolor": "white",
            "gridwidth": 2,
            "linecolor": "white",
            "showbackground": true,
            "ticks": "",
            "zerolinecolor": "white"
           }
          },
          "shapedefaults": {
           "line": {
            "color": "#2a3f5f"
           }
          },
          "ternary": {
           "aaxis": {
            "gridcolor": "white",
            "linecolor": "white",
            "ticks": ""
           },
           "baxis": {
            "gridcolor": "white",
            "linecolor": "white",
            "ticks": ""
           },
           "bgcolor": "#E5ECF6",
           "caxis": {
            "gridcolor": "white",
            "linecolor": "white",
            "ticks": ""
           }
          },
          "title": {
           "x": 0.05
          },
          "xaxis": {
           "automargin": true,
           "gridcolor": "white",
           "linecolor": "white",
           "ticks": "",
           "title": {
            "standoff": 15
           },
           "zerolinecolor": "white",
           "zerolinewidth": 2
          },
          "yaxis": {
           "automargin": true,
           "gridcolor": "white",
           "linecolor": "white",
           "ticks": "",
           "title": {
            "standoff": 15
           },
           "zerolinecolor": "white",
           "zerolinewidth": 2
          }
         }
        }
       }
      }
     },
     "metadata": {}
    }
   ],
   "source": [
    "import plotly.express as px\n",
    "\n",
    "fig = px.scatter_mapbox(df1, lat=\"latitude\", lon=\"longitude\", hover_name=\"id\",size = \"sold_price\", hover_data=[\"propertyType\", \"bedrooms\", \"bathrooms\", \"landArea\", \"displayableAddress\"],zoom=15, height=600)\n",
    "fig.update_layout(mapbox_style=\"open-street-map\")\n",
    "fig.update_layout(margin={\"r\":0,\"t\":0,\"l\":0,\"b\":0})\n",
    "fig.show()"
   ]
  },
  {
   "cell_type": "code",
   "execution_count": 8,
   "metadata": {},
   "outputs": [
    {
     "output_type": "stream",
     "name": "stdout",
     "text": [
      "Median price: 430000.000000 , Mean price: 477901.000000\nSkewness: 1.084919 , Kurtosis: 1.428688\n"
     ]
    }
   ],
   "source": [
    "print(\"Median price: %f\" % df1[\"sold_price\"].median(),\",\",\"Mean price: %f\" % df1[\"sold_price\"].mean().round())\n",
    "print(\"Skewness: %f\" % df1[\"sold_price\"].skew(),\",\", \"Kurtosis: %f\" % df1[\"sold_price\"].kurt())"
   ]
  },
  {
   "cell_type": "code",
   "execution_count": 9,
   "metadata": {},
   "outputs": [
    {
     "output_type": "execute_result",
     "data": {
      "text/plain": [
       "<AxesSubplot:xlabel='landArea', ylabel='sold_price'>"
      ]
     },
     "metadata": {},
     "execution_count": 9
    },
    {
     "output_type": "display_data",
     "data": {
      "text/plain": "<Figure size 432x288 with 1 Axes>",
      "image/svg+xml": "<?xml version=\"1.0\" encoding=\"utf-8\" standalone=\"no\"?>\n<!DOCTYPE svg PUBLIC \"-//W3C//DTD SVG 1.1//EN\"\n  \"http://www.w3.org/Graphics/SVG/1.1/DTD/svg11.dtd\">\n<!-- Created with matplotlib (https://matplotlib.org/) -->\n<svg height=\"272.794688pt\" version=\"1.1\" viewBox=\"0 0 386.059375 272.794688\" width=\"386.059375pt\" xmlns=\"http://www.w3.org/2000/svg\" xmlns:xlink=\"http://www.w3.org/1999/xlink\">\n <metadata>\n  <rdf:RDF xmlns:cc=\"http://creativecommons.org/ns#\" xmlns:dc=\"http://purl.org/dc/elements/1.1/\" xmlns:rdf=\"http://www.w3.org/1999/02/22-rdf-syntax-ns#\">\n   <cc:Work>\n    <dc:type rdf:resource=\"http://purl.org/dc/dcmitype/StillImage\"/>\n    <dc:date>2021-03-14T19:53:57.364151</dc:date>\n    <dc:format>image/svg+xml</dc:format>\n    <dc:creator>\n     <cc:Agent>\n      <dc:title>Matplotlib v3.3.1, https://matplotlib.org/</dc:title>\n     </cc:Agent>\n    </dc:creator>\n   </cc:Work>\n  </rdf:RDF>\n </metadata>\n <defs>\n  <style type=\"text/css\">*{stroke-linecap:butt;stroke-linejoin:round;}</style>\n </defs>\n <g id=\"figure_1\">\n  <g id=\"patch_1\">\n   <path d=\"M 0 272.794688 \nL 386.059375 272.794688 \nL 386.059375 0 \nL 0 0 \nz\n\"/>\n  </g>\n  <g id=\"axes_1\">\n   <g id=\"patch_2\">\n    <path d=\"M 44.059375 235.238438 \nL 378.859375 235.238438 \nL 378.859375 17.798438 \nL 44.059375 17.798438 \nz\n\"/>\n   </g>\n   <g id=\"PathCollection_1\">\n    <defs>\n     <path d=\"M 0 2.236068 \nC 0.593012 2.236068 1.161816 2.000462 1.581139 1.581139 \nC 2.000462 1.161816 2.236068 0.593012 2.236068 0 \nC 2.236068 -0.593012 2.000462 -1.161816 1.581139 -1.581139 \nC 1.161816 -2.000462 0.593012 -2.236068 0 -2.236068 \nC -0.593012 -2.236068 -1.161816 -2.000462 -1.581139 -1.581139 \nC -2.000462 -1.161816 -2.236068 -0.593012 -2.236068 0 \nC -2.236068 0.593012 -2.000462 1.161816 -1.581139 1.581139 \nC -1.161816 2.000462 -0.593012 2.236068 0 2.236068 \nz\n\" id=\"m8b61a8c4c5\" style=\"stroke:#8dd3c7;\"/>\n    </defs>\n    <g clip-path=\"url(#pea6f18eee7)\">\n     <use style=\"fill:#8dd3c7;stroke:#8dd3c7;\" x=\"85.989559\" xlink:href=\"#m8b61a8c4c5\" y=\"150.770441\"/>\n     <use style=\"fill:#8dd3c7;stroke:#8dd3c7;\" x=\"252.580539\" xlink:href=\"#m8b61a8c4c5\" y=\"113.325803\"/>\n     <use style=\"fill:#8dd3c7;stroke:#8dd3c7;\" x=\"87.52143\" xlink:href=\"#m8b61a8c4c5\" y=\"165.574135\"/>\n     <use style=\"fill:#8dd3c7;stroke:#8dd3c7;\" x=\"85.798075\" xlink:href=\"#m8b61a8c4c5\" y=\"141.19158\"/>\n     <use style=\"fill:#8dd3c7;stroke:#8dd3c7;\" x=\"108.153819\" xlink:href=\"#m8b61a8c4c5\" y=\"187.866756\"/>\n     <use style=\"fill:#8dd3c7;stroke:#8dd3c7;\" x=\"72.346332\" xlink:href=\"#m8b61a8c4c5\" y=\"158.607691\"/>\n     <use style=\"fill:#8dd3c7;stroke:#8dd3c7;\" x=\"75.793042\" xlink:href=\"#m8b61a8c4c5\" y=\"145.545608\"/>\n     <use style=\"fill:#8dd3c7;stroke:#8dd3c7;\" x=\"85.654462\" xlink:href=\"#m8b61a8c4c5\" y=\"96.780499\"/>\n     <use style=\"fill:#8dd3c7;stroke:#8dd3c7;\" x=\"75.793042\" xlink:href=\"#m8b61a8c4c5\" y=\"160.349302\"/>\n     <use style=\"fill:#8dd3c7;stroke:#8dd3c7;\" x=\"103.893302\" xlink:href=\"#m8b61a8c4c5\" y=\"137.708358\"/>\n     <use style=\"fill:#8dd3c7;stroke:#8dd3c7;\" x=\"63.777428\" xlink:href=\"#m8b61a8c4c5\" y=\"174.28219\"/>\n     <use style=\"fill:#8dd3c7;stroke:#8dd3c7;\" x=\"76.798332\" xlink:href=\"#m8b61a8c4c5\" y=\"160.349302\"/>\n     <use style=\"fill:#8dd3c7;stroke:#8dd3c7;\" x=\"88.909688\" xlink:href=\"#m8b61a8c4c5\" y=\"152.512052\"/>\n     <use style=\"fill:#8dd3c7;stroke:#8dd3c7;\" x=\"247.027507\" xlink:href=\"#m8b61a8c4c5\" y=\"102.005332\"/>\n     <use style=\"fill:#8dd3c7;stroke:#8dd3c7;\" x=\"91.590463\" xlink:href=\"#m8b61a8c4c5\" y=\"156.86608\"/>\n     <use style=\"fill:#8dd3c7;stroke:#8dd3c7;\" x=\"119.0684\" xlink:href=\"#m8b61a8c4c5\" y=\"141.1045\"/>\n     <use style=\"fill:#8dd3c7;stroke:#8dd3c7;\" x=\"89.48414\" xlink:href=\"#m8b61a8c4c5\" y=\"159.478496\"/>\n     <use style=\"fill:#8dd3c7;stroke:#8dd3c7;\" x=\"82.973688\" xlink:href=\"#m8b61a8c4c5\" y=\"166.44494\"/>\n     <use style=\"fill:#8dd3c7;stroke:#8dd3c7;\" x=\"112.462206\" xlink:href=\"#m8b61a8c4c5\" y=\"109.66842\"/>\n     <use style=\"fill:#8dd3c7;stroke:#8dd3c7;\" x=\"79.000397\" xlink:href=\"#m8b61a8c4c5\" y=\"141.365741\"/>\n     <use style=\"fill:#8dd3c7;stroke:#8dd3c7;\" x=\"84.697043\" xlink:href=\"#m8b61a8c4c5\" y=\"149.551313\"/>\n     <use style=\"fill:#8dd3c7;stroke:#8dd3c7;\" x=\"88.383107\" xlink:href=\"#m8b61a8c4c5\" y=\"159.478496\"/>\n     <use style=\"fill:#8dd3c7;stroke:#8dd3c7;\" x=\"87.952269\" xlink:href=\"#m8b61a8c4c5\" y=\"153.382858\"/>\n     <use style=\"fill:#8dd3c7;stroke:#8dd3c7;\" x=\"80.580139\" xlink:href=\"#m8b61a8c4c5\" y=\"173.759707\"/>\n     <use style=\"fill:#8dd3c7;stroke:#8dd3c7;\" x=\"104.515625\" xlink:href=\"#m8b61a8c4c5\" y=\"178.636218\"/>\n     <use style=\"fill:#8dd3c7;stroke:#8dd3c7;\" x=\"75.122848\" xlink:href=\"#m8b61a8c4c5\" y=\"160.349302\"/>\n     <use style=\"fill:#8dd3c7;stroke:#8dd3c7;\" x=\"109.972916\" xlink:href=\"#m8b61a8c4c5\" y=\"102.005332\"/>\n     <use style=\"fill:#8dd3c7;stroke:#8dd3c7;\" x=\"81.920526\" xlink:href=\"#m8b61a8c4c5\" y=\"136.837553\"/>\n     <use style=\"fill:#8dd3c7;stroke:#8dd3c7;\" x=\"83.260914\" xlink:href=\"#m8b61a8c4c5\" y=\"142.062386\"/>\n     <use style=\"fill:#8dd3c7;stroke:#8dd3c7;\" x=\"77.324913\" xlink:href=\"#m8b61a8c4c5\" y=\"164.180846\"/>\n     <use style=\"fill:#8dd3c7;stroke:#8dd3c7;\" x=\"95.085043\" xlink:href=\"#m8b61a8c4c5\" y=\"108.971776\"/>\n     <use style=\"fill:#8dd3c7;stroke:#8dd3c7;\" x=\"76.080268\" xlink:href=\"#m8b61a8c4c5\" y=\"164.180846\"/>\n     <use style=\"fill:#8dd3c7;stroke:#8dd3c7;\" x=\"80.867365\" xlink:href=\"#m8b61a8c4c5\" y=\"156.86608\"/>\n     <use style=\"fill:#8dd3c7;stroke:#8dd3c7;\" x=\"81.10672\" xlink:href=\"#m8b61a8c4c5\" y=\"136.837553\"/>\n     <use style=\"fill:#8dd3c7;stroke:#8dd3c7;\" x=\"76.415365\" xlink:href=\"#m8b61a8c4c5\" y=\"162.090913\"/>\n     <use style=\"fill:#8dd3c7;stroke:#8dd3c7;\" x=\"109.111238\" xlink:href=\"#m8b61a8c4c5\" y=\"143.803997\"/>\n     <use style=\"fill:#8dd3c7;stroke:#8dd3c7;\" x=\"76.080268\" xlink:href=\"#m8b61a8c4c5\" y=\"166.270779\"/>\n     <use style=\"fill:#8dd3c7;stroke:#8dd3c7;\" x=\"79.909946\" xlink:href=\"#m8b61a8c4c5\" y=\"162.613396\"/>\n     <use style=\"fill:#8dd3c7;stroke:#8dd3c7;\" x=\"92.595753\" xlink:href=\"#m8b61a8c4c5\" y=\"142.062386\"/>\n     <use style=\"fill:#8dd3c7;stroke:#8dd3c7;\" x=\"138.551886\" xlink:href=\"#m8b61a8c4c5\" y=\"95.909693\"/>\n     <use style=\"fill:#8dd3c7;stroke:#8dd3c7;\" x=\"83.308784\" xlink:href=\"#m8b61a8c4c5\" y=\"149.02883\"/>\n     <use style=\"fill:#8dd3c7;stroke:#8dd3c7;\" x=\"89.196914\" xlink:href=\"#m8b61a8c4c5\" y=\"179.507023\"/>\n     <use style=\"fill:#8dd3c7;stroke:#8dd3c7;\" x=\"90.202204\" xlink:href=\"#m8b61a8c4c5\" y=\"181.039641\"/>\n     <use style=\"fill:#8dd3c7;stroke:#8dd3c7;\" x=\"72.633558\" xlink:href=\"#m8b61a8c4c5\" y=\"165.748296\"/>\n     <use style=\"fill:#8dd3c7;stroke:#8dd3c7;\" x=\"88.670333\" xlink:href=\"#m8b61a8c4c5\" y=\"135.095942\"/>\n     <use style=\"fill:#8dd3c7;stroke:#8dd3c7;\" x=\"71.005945\" xlink:href=\"#m8b61a8c4c5\" y=\"167.315746\"/>\n     <use style=\"fill:#8dd3c7;stroke:#8dd3c7;\" x=\"99.441302\" xlink:href=\"#m8b61a8c4c5\" y=\"142.933191\"/>\n     <use style=\"fill:#8dd3c7;stroke:#8dd3c7;\" x=\"78.713171\" xlink:href=\"#m8b61a8c4c5\" y=\"170.276485\"/>\n     <use style=\"fill:#8dd3c7;stroke:#8dd3c7;\" x=\"86.085301\" xlink:href=\"#m8b61a8c4c5\" y=\"195.181523\"/>\n     <use style=\"fill:#8dd3c7;stroke:#8dd3c7;\" x=\"82.925817\" xlink:href=\"#m8b61a8c4c5\" y=\"179.158701\"/>\n     <use style=\"fill:#8dd3c7;stroke:#8dd3c7;\" x=\"83.931107\" xlink:href=\"#m8b61a8c4c5\" y=\"111.584192\"/>\n     <use style=\"fill:#8dd3c7;stroke:#8dd3c7;\" x=\"87.808656\" xlink:href=\"#m8b61a8c4c5\" y=\"149.02883\"/>\n     <use style=\"fill:#8dd3c7;stroke:#8dd3c7;\" x=\"87.617172\" xlink:href=\"#m8b61a8c4c5\" y=\"161.220107\"/>\n     <use style=\"fill:#8dd3c7;stroke:#8dd3c7;\" x=\"83.356655\" xlink:href=\"#m8b61a8c4c5\" y=\"194.136556\"/>\n     <use style=\"fill:#8dd3c7;stroke:#8dd3c7;\" x=\"80.819494\" xlink:href=\"#m8b61a8c4c5\" y=\"184.731856\"/>\n     <use style=\"fill:#8dd3c7;stroke:#8dd3c7;\" x=\"81.058849\" xlink:href=\"#m8b61a8c4c5\" y=\"162.961718\"/>\n     <use style=\"fill:#8dd3c7;stroke:#8dd3c7;\" x=\"107.818722\" xlink:href=\"#m8b61a8c4c5\" y=\"92.426471\"/>\n     <use style=\"fill:#8dd3c7;stroke:#8dd3c7;\" x=\"79.14401\" xlink:href=\"#m8b61a8c4c5\" y=\"155.559871\"/>\n     <use style=\"fill:#8dd3c7;stroke:#8dd3c7;\" x=\"87.760785\" xlink:href=\"#m8b61a8c4c5\" y=\"193.614073\"/>\n     <use style=\"fill:#8dd3c7;stroke:#8dd3c7;\" x=\"100.015754\" xlink:href=\"#m8b61a8c4c5\" y=\"174.108029\"/>\n     <use style=\"fill:#8dd3c7;stroke:#8dd3c7;\" x=\"70.048525\" xlink:href=\"#m8b61a8c4c5\" y=\"167.489907\"/>\n     <use style=\"fill:#8dd3c7;stroke:#8dd3c7;\" x=\"90.633043\" xlink:href=\"#m8b61a8c4c5\" y=\"108.797615\"/>\n     <use style=\"fill:#8dd3c7;stroke:#8dd3c7;\" x=\"77.851494\" xlink:href=\"#m8b61a8c4c5\" y=\"163.832524\"/>\n     <use style=\"fill:#8dd3c7;stroke:#8dd3c7;\" x=\"85.750204\" xlink:href=\"#m8b61a8c4c5\" y=\"162.090913\"/>\n     <use style=\"fill:#8dd3c7;stroke:#8dd3c7;\" x=\"82.303494\" xlink:href=\"#m8b61a8c4c5\" y=\"187.866756\"/>\n     <use style=\"fill:#8dd3c7;stroke:#8dd3c7;\" x=\"241.043635\" xlink:href=\"#m8b61a8c4c5\" y=\"26.245251\"/>\n     <use style=\"fill:#8dd3c7;stroke:#8dd3c7;\" x=\"78.425945\" xlink:href=\"#m8b61a8c4c5\" y=\"168.186551\"/>\n     <use style=\"fill:#8dd3c7;stroke:#8dd3c7;\" x=\"75.601558\" xlink:href=\"#m8b61a8c4c5\" y=\"167.315746\"/>\n     <use style=\"fill:#8dd3c7;stroke:#8dd3c7;\" x=\"77.755752\" xlink:href=\"#m8b61a8c4c5\" y=\"168.534874\"/>\n     <use style=\"fill:#8dd3c7;stroke:#8dd3c7;\" x=\"79.766333\" xlink:href=\"#m8b61a8c4c5\" y=\"161.220107\"/>\n     <use style=\"fill:#8dd3c7;stroke:#8dd3c7;\" x=\"68.995364\" xlink:href=\"#m8b61a8c4c5\" y=\"184.731856\"/>\n     <use style=\"fill:#8dd3c7;stroke:#8dd3c7;\" x=\"83.452397\" xlink:href=\"#m8b61a8c4c5\" y=\"169.057357\"/>\n     <use style=\"fill:#8dd3c7;stroke:#8dd3c7;\" x=\"87.186333\" xlink:href=\"#m8b61a8c4c5\" y=\"176.894607\"/>\n     <use style=\"fill:#8dd3c7;stroke:#8dd3c7;\" x=\"100.82956\" xlink:href=\"#m8b61a8c4c5\" y=\"126.387886\"/>\n     <use style=\"fill:#8dd3c7;stroke:#8dd3c7;\" x=\"245.543507\" xlink:href=\"#m8b61a8c4c5\" y=\"75.881166\"/>\n     <use style=\"fill:#8dd3c7;stroke:#8dd3c7;\" x=\"74.787752\" xlink:href=\"#m8b61a8c4c5\" y=\"173.411385\"/>\n     <use style=\"fill:#8dd3c7;stroke:#8dd3c7;\" x=\"94.941431\" xlink:href=\"#m8b61a8c4c5\" y=\"170.798968\"/>\n     <use style=\"fill:#8dd3c7;stroke:#8dd3c7;\" x=\"85.750204\" xlink:href=\"#m8b61a8c4c5\" y=\"178.200815\"/>\n     <use style=\"fill:#8dd3c7;stroke:#8dd3c7;\" x=\"85.798075\" xlink:href=\"#m8b61a8c4c5\" y=\"176.023801\"/>\n     <use style=\"fill:#8dd3c7;stroke:#8dd3c7;\" x=\"105.233689\" xlink:href=\"#m8b61a8c4c5\" y=\"88.072443\"/>\n     <use style=\"fill:#8dd3c7;stroke:#8dd3c7;\" x=\"76.846203\" xlink:href=\"#m8b61a8c4c5\" y=\"174.804673\"/>\n     <use style=\"fill:#8dd3c7;stroke:#8dd3c7;\" x=\"244.7297\" xlink:href=\"#m8b61a8c4c5\" y=\"98.52211\"/>\n     <use style=\"fill:#8dd3c7;stroke:#8dd3c7;\" x=\"78.713171\" xlink:href=\"#m8b61a8c4c5\" y=\"181.248634\"/>\n     <use style=\"fill:#8dd3c7;stroke:#8dd3c7;\" x=\"82.782204\" xlink:href=\"#m8b61a8c4c5\" y=\"152.076649\"/>\n     <use style=\"fill:#8dd3c7;stroke:#8dd3c7;\" x=\"99.82427\" xlink:href=\"#m8b61a8c4c5\" y=\"148.158024\"/>\n     <use style=\"fill:#8dd3c7;stroke:#8dd3c7;\" x=\"92.164914\" xlink:href=\"#m8b61a8c4c5\" y=\"186.473467\"/>\n     <use style=\"fill:#8dd3c7;stroke:#8dd3c7;\" x=\"132.37653\" xlink:href=\"#m8b61a8c4c5\" y=\"100.263721\"/>\n     <use style=\"fill:#8dd3c7;stroke:#8dd3c7;\" x=\"75.793042\" xlink:href=\"#m8b61a8c4c5\" y=\"166.880343\"/>\n     <use style=\"fill:#8dd3c7;stroke:#8dd3c7;\" x=\"83.548139\" xlink:href=\"#m8b61a8c4c5\" y=\"164.180846\"/>\n     <use style=\"fill:#8dd3c7;stroke:#8dd3c7;\" x=\"86.564011\" xlink:href=\"#m8b61a8c4c5\" y=\"168.186551\"/>\n     <use style=\"fill:#8dd3c7;stroke:#8dd3c7;\" x=\"121.270465\" xlink:href=\"#m8b61a8c4c5\" y=\"118.986039\"/>\n     <use style=\"fill:#8dd3c7;stroke:#8dd3c7;\" x=\"78.090849\" xlink:href=\"#m8b61a8c4c5\" y=\"163.484202\"/>\n     <use style=\"fill:#8dd3c7;stroke:#8dd3c7;\" x=\"81.058849\" xlink:href=\"#m8b61a8c4c5\" y=\"147.287219\"/>\n     <use style=\"fill:#8dd3c7;stroke:#8dd3c7;\" x=\"82.782204\" xlink:href=\"#m8b61a8c4c5\" y=\"151.641247\"/>\n     <use style=\"fill:#8dd3c7;stroke:#8dd3c7;\" x=\"104.324141\" xlink:href=\"#m8b61a8c4c5\" y=\"107.230165\"/>\n     <use style=\"fill:#8dd3c7;stroke:#8dd3c7;\" x=\"78.713171\" xlink:href=\"#m8b61a8c4c5\" y=\"163.832524\"/>\n     <use style=\"fill:#8dd3c7;stroke:#8dd3c7;\" x=\"116.818464\" xlink:href=\"#m8b61a8c4c5\" y=\"139.449969\"/>\n     <use style=\"fill:#8dd3c7;stroke:#8dd3c7;\" x=\"87.569301\" xlink:href=\"#m8b61a8c4c5\" y=\"95.909693\"/>\n     <use style=\"fill:#8dd3c7;stroke:#8dd3c7;\" x=\"77.037687\" xlink:href=\"#m8b61a8c4c5\" y=\"186.473467\"/>\n     <use style=\"fill:#8dd3c7;stroke:#8dd3c7;\" x=\"81.920526\" xlink:href=\"#m8b61a8c4c5\" y=\"173.063062\"/>\n     <use style=\"fill:#8dd3c7;stroke:#8dd3c7;\" x=\"90.728785\" xlink:href=\"#m8b61a8c4c5\" y=\"152.947455\"/>\n     <use style=\"fill:#8dd3c7;stroke:#8dd3c7;\" x=\"78.378074\" xlink:href=\"#m8b61a8c4c5\" y=\"156.86608\"/>\n     <use style=\"fill:#8dd3c7;stroke:#8dd3c7;\" x=\"334.966481\" xlink:href=\"#m8b61a8c4c5\" y=\"112.454998\"/>\n     <use style=\"fill:#8dd3c7;stroke:#8dd3c7;\" x=\"87.712914\" xlink:href=\"#m8b61a8c4c5\" y=\"136.837553\"/>\n     <use style=\"fill:#8dd3c7;stroke:#8dd3c7;\" x=\"243.72441\" xlink:href=\"#m8b61a8c4c5\" y=\"79.364388\"/>\n     <use style=\"fill:#8dd3c7;stroke:#8dd3c7;\" x=\"85.845946\" xlink:href=\"#m8b61a8c4c5\" y=\"153.557019\"/>\n     <use style=\"fill:#8dd3c7;stroke:#8dd3c7;\" x=\"85.845946\" xlink:href=\"#m8b61a8c4c5\" y=\"134.225136\"/>\n     <use style=\"fill:#8dd3c7;stroke:#8dd3c7;\" x=\"64.83059\" xlink:href=\"#m8b61a8c4c5\" y=\"173.411385\"/>\n     <use style=\"fill:#8dd3c7;stroke:#8dd3c7;\" x=\"133.956272\" xlink:href=\"#m8b61a8c4c5\" y=\"102.876137\"/>\n     <use style=\"fill:#8dd3c7;stroke:#8dd3c7;\" x=\"256.841056\" xlink:href=\"#m8b61a8c4c5\" y=\"121.685537\"/>\n     <use style=\"fill:#8dd3c7;stroke:#8dd3c7;\" x=\"108.680399\" xlink:href=\"#m8b61a8c4c5\" y=\"126.387886\"/>\n     <use style=\"fill:#8dd3c7;stroke:#8dd3c7;\" x=\"95.994592\" xlink:href=\"#m8b61a8c4c5\" y=\"108.971776\"/>\n     <use style=\"fill:#8dd3c7;stroke:#8dd3c7;\" x=\"85.654462\" xlink:href=\"#m8b61a8c4c5\" y=\"144.32648\"/>\n     <use style=\"fill:#8dd3c7;stroke:#8dd3c7;\" x=\"76.463236\" xlink:href=\"#m8b61a8c4c5\" y=\"162.961718\"/>\n     <use style=\"fill:#8dd3c7;stroke:#8dd3c7;\" x=\"59.277557\" xlink:href=\"#m8b61a8c4c5\" y=\"185.34142\"/>\n     <use style=\"fill:#8dd3c7;stroke:#8dd3c7;\" x=\"78.952526\" xlink:href=\"#m8b61a8c4c5\" y=\"169.928163\"/>\n     <use style=\"fill:#8dd3c7;stroke:#8dd3c7;\" x=\"76.367494\" xlink:href=\"#m8b61a8c4c5\" y=\"185.689743\"/>\n     <use style=\"fill:#8dd3c7;stroke:#8dd3c7;\" x=\"107.627238\" xlink:href=\"#m8b61a8c4c5\" y=\"134.225136\"/>\n     <use style=\"fill:#8dd3c7;stroke:#8dd3c7;\" x=\"87.569301\" xlink:href=\"#m8b61a8c4c5\" y=\"149.02883\"/>\n     <use style=\"fill:#8dd3c7;stroke:#8dd3c7;\" x=\"118.781174\" xlink:href=\"#m8b61a8c4c5\" y=\"124.646275\"/>\n     <use style=\"fill:#8dd3c7;stroke:#8dd3c7;\" x=\"81.058849\" xlink:href=\"#m8b61a8c4c5\" y=\"161.65551\"/>\n     <use style=\"fill:#8dd3c7;stroke:#8dd3c7;\" x=\"82.542849\" xlink:href=\"#m8b61a8c4c5\" y=\"156.86608\"/>\n     <use style=\"fill:#8dd3c7;stroke:#8dd3c7;\" x=\"88.909688\" xlink:href=\"#m8b61a8c4c5\" y=\"142.933191\"/>\n     <use style=\"fill:#8dd3c7;stroke:#8dd3c7;\" x=\"84.55343\" xlink:href=\"#m8b61a8c4c5\" y=\"186.734709\"/>\n     <use style=\"fill:#8dd3c7;stroke:#8dd3c7;\" x=\"82.782204\" xlink:href=\"#m8b61a8c4c5\" y=\"157.736885\"/>\n     <use style=\"fill:#8dd3c7;stroke:#8dd3c7;\" x=\"243.963765\" xlink:href=\"#m8b61a8c4c5\" y=\"116.809026\"/>\n     <use style=\"fill:#8dd3c7;stroke:#8dd3c7;\" x=\"82.686462\" xlink:href=\"#m8b61a8c4c5\" y=\"168.01239\"/>\n     <use style=\"fill:#8dd3c7;stroke:#8dd3c7;\" x=\"81.489688\" xlink:href=\"#m8b61a8c4c5\" y=\"169.57984\"/>\n     <use style=\"fill:#8dd3c7;stroke:#8dd3c7;\" x=\"70.096396\" xlink:href=\"#m8b61a8c4c5\" y=\"179.332862\"/>\n     <use style=\"fill:#8dd3c7;stroke:#8dd3c7;\" x=\"82.447107\" xlink:href=\"#m8b61a8c4c5\" y=\"184.906018\"/>\n     <use style=\"fill:#8dd3c7;stroke:#8dd3c7;\" x=\"112.031367\" xlink:href=\"#m8b61a8c4c5\" y=\"165.574135\"/>\n     <use style=\"fill:#8dd3c7;stroke:#8dd3c7;\" x=\"127.110723\" xlink:href=\"#m8b61a8c4c5\" y=\"138.143761\"/>\n     <use style=\"fill:#8dd3c7;stroke:#8dd3c7;\" x=\"73.20801\" xlink:href=\"#m8b61a8c4c5\" y=\"165.051652\"/>\n     <use style=\"fill:#8dd3c7;stroke:#8dd3c7;\" x=\"92.595753\" xlink:href=\"#m8b61a8c4c5\" y=\"148.680508\"/>\n     <use style=\"fill:#8dd3c7;stroke:#8dd3c7;\" x=\"248.415765\" xlink:href=\"#m8b61a8c4c5\" y=\"157.736885\"/>\n     <use style=\"fill:#8dd3c7;stroke:#8dd3c7;\" x=\"82.159881\" xlink:href=\"#m8b61a8c4c5\" y=\"183.861051\"/>\n     <use style=\"fill:#8dd3c7;stroke:#8dd3c7;\" x=\"115.238722\" xlink:href=\"#m8b61a8c4c5\" y=\"127.258692\"/>\n     <use style=\"fill:#8dd3c7;stroke:#8dd3c7;\" x=\"83.404526\" xlink:href=\"#m8b61a8c4c5\" y=\"120.292248\"/>\n     <use style=\"fill:#8dd3c7;stroke:#8dd3c7;\" x=\"80.675881\" xlink:href=\"#m8b61a8c4c5\" y=\"164.180846\"/>\n     <use style=\"fill:#8dd3c7;stroke:#8dd3c7;\" x=\"76.223881\" xlink:href=\"#m8b61a8c4c5\" y=\"174.28219\"/>\n     <use style=\"fill:#8dd3c7;stroke:#8dd3c7;\" x=\"83.452397\" xlink:href=\"#m8b61a8c4c5\" y=\"170.102324\"/>\n     <use style=\"fill:#8dd3c7;stroke:#8dd3c7;\" x=\"99.82427\" xlink:href=\"#m8b61a8c4c5\" y=\"151.641247\"/>\n     <use style=\"fill:#8dd3c7;stroke:#8dd3c7;\" x=\"97.239237\" xlink:href=\"#m8b61a8c4c5\" y=\"115.067415\"/>\n     <use style=\"fill:#8dd3c7;stroke:#8dd3c7;\" x=\"107.675109\" xlink:href=\"#m8b61a8c4c5\" y=\"142.933191\"/>\n     <use style=\"fill:#8dd3c7;stroke:#8dd3c7;\" x=\"78.904655\" xlink:href=\"#m8b61a8c4c5\" y=\"167.315746\"/>\n     <use style=\"fill:#8dd3c7;stroke:#8dd3c7;\" x=\"115.765303\" xlink:href=\"#m8b61a8c4c5\" y=\"104.617748\"/>\n     <use style=\"fill:#8dd3c7;stroke:#8dd3c7;\" x=\"86.994849\" xlink:href=\"#m8b61a8c4c5\" y=\"192.046623\"/>\n     <use style=\"fill:#8dd3c7;stroke:#8dd3c7;\" x=\"80.388655\" xlink:href=\"#m8b61a8c4c5\" y=\"191.698301\"/>\n     <use style=\"fill:#8dd3c7;stroke:#8dd3c7;\" x=\"79.62272\" xlink:href=\"#m8b61a8c4c5\" y=\"163.832524\"/>\n     <use style=\"fill:#8dd3c7;stroke:#8dd3c7;\" x=\"92.164914\" xlink:href=\"#m8b61a8c4c5\" y=\"155.472791\"/>\n     <use style=\"fill:#8dd3c7;stroke:#8dd3c7;\" x=\"76.032397\" xlink:href=\"#m8b61a8c4c5\" y=\"170.798968\"/>\n     <use style=\"fill:#8dd3c7;stroke:#8dd3c7;\" x=\"73.160139\" xlink:href=\"#m8b61a8c4c5\" y=\"165.225813\"/>\n     <use style=\"fill:#8dd3c7;stroke:#8dd3c7;\" x=\"82.877946\" xlink:href=\"#m8b61a8c4c5\" y=\"142.062386\"/>\n     <use style=\"fill:#8dd3c7;stroke:#8dd3c7;\" x=\"67.224138\" xlink:href=\"#m8b61a8c4c5\" y=\"154.253663\"/>\n     <use style=\"fill:#8dd3c7;stroke:#8dd3c7;\" x=\"71.388913\" xlink:href=\"#m8b61a8c4c5\" y=\"163.397121\"/>\n     <use style=\"fill:#8dd3c7;stroke:#8dd3c7;\" x=\"81.298204\" xlink:href=\"#m8b61a8c4c5\" y=\"189.95669\"/>\n     <use style=\"fill:#8dd3c7;stroke:#8dd3c7;\" x=\"76.941945\" xlink:href=\"#m8b61a8c4c5\" y=\"162.265074\"/>\n     <use style=\"fill:#8dd3c7;stroke:#8dd3c7;\" x=\"98.483882\" xlink:href=\"#m8b61a8c4c5\" y=\"127.258692\"/>\n     <use style=\"fill:#8dd3c7;stroke:#8dd3c7;\" x=\"75.505816\" xlink:href=\"#m8b61a8c4c5\" y=\"162.439235\"/>\n     <use style=\"fill:#8dd3c7;stroke:#8dd3c7;\" x=\"91.877688\" xlink:href=\"#m8b61a8c4c5\" y=\"179.158701\"/>\n     <use style=\"fill:#8dd3c7;stroke:#8dd3c7;\" x=\"81.872655\" xlink:href=\"#m8b61a8c4c5\" y=\"182.11944\"/>\n     <use style=\"fill:#8dd3c7;stroke:#8dd3c7;\" x=\"118.350336\" xlink:href=\"#m8b61a8c4c5\" y=\"113.325803\"/>\n     <use style=\"fill:#8dd3c7;stroke:#8dd3c7;\" x=\"132.37653\" xlink:href=\"#m8b61a8c4c5\" y=\"104.443587\"/>\n     <use style=\"fill:#8dd3c7;stroke:#8dd3c7;\" x=\"108.105948\" xlink:href=\"#m8b61a8c4c5\" y=\"173.759707\"/>\n     <use style=\"fill:#8dd3c7;stroke:#8dd3c7;\" x=\"83.500268\" xlink:href=\"#m8b61a8c4c5\" y=\"191.52414\"/>\n     <use style=\"fill:#8dd3c7;stroke:#8dd3c7;\" x=\"76.606848\" xlink:href=\"#m8b61a8c4c5\" y=\"176.459204\"/>\n     <use style=\"fill:#8dd3c7;stroke:#8dd3c7;\" x=\"363.641193\" xlink:href=\"#m8b61a8c4c5\" y=\"122.033859\"/>\n     <use style=\"fill:#8dd3c7;stroke:#8dd3c7;\" x=\"153.966338\" xlink:href=\"#m8b61a8c4c5\" y=\"105.99066\"/>\n     <use style=\"fill:#8dd3c7;stroke:#8dd3c7;\" x=\"81.010978\" xlink:href=\"#m8b61a8c4c5\" y=\"183.861051\"/>\n     <use style=\"fill:#8dd3c7;stroke:#8dd3c7;\" x=\"115.813174\" xlink:href=\"#m8b61a8c4c5\" y=\"96.780499\"/>\n     <use style=\"fill:#8dd3c7;stroke:#8dd3c7;\" x=\"88.383107\" xlink:href=\"#m8b61a8c4c5\" y=\"190.130851\"/>\n     <use style=\"fill:#8dd3c7;stroke:#8dd3c7;\" x=\"78.186591\" xlink:href=\"#m8b61a8c4c5\" y=\"160.523463\"/>\n     <use style=\"fill:#8dd3c7;stroke:#8dd3c7;\" x=\"76.080268\" xlink:href=\"#m8b61a8c4c5\" y=\"171.234371\"/>\n     <use style=\"fill:#8dd3c7;stroke:#8dd3c7;\" x=\"72.202719\" xlink:href=\"#m8b61a8c4c5\" y=\"167.838229\"/>\n     <use style=\"fill:#8dd3c7;stroke:#8dd3c7;\" x=\"349.040547\" xlink:href=\"#m8b61a8c4c5\" y=\"121.163053\"/>\n     <use style=\"fill:#8dd3c7;stroke:#8dd3c7;\" x=\"90.920269\" xlink:href=\"#m8b61a8c4c5\" y=\"145.197286\"/>\n     <use style=\"fill:#8dd3c7;stroke:#8dd3c7;\" x=\"83.59601\" xlink:href=\"#m8b61a8c4c5\" y=\"174.804673\"/>\n     <use style=\"fill:#8dd3c7;stroke:#8dd3c7;\" x=\"81.058849\" xlink:href=\"#m8b61a8c4c5\" y=\"176.023801\"/>\n     <use style=\"fill:#8dd3c7;stroke:#8dd3c7;\" x=\"92.356398\" xlink:href=\"#m8b61a8c4c5\" y=\"146.416413\"/>\n     <use style=\"fill:#8dd3c7;stroke:#8dd3c7;\" x=\"75.410074\" xlink:href=\"#m8b61a8c4c5\" y=\"161.220107\"/>\n     <use style=\"fill:#8dd3c7;stroke:#8dd3c7;\" x=\"82.973688\" xlink:href=\"#m8b61a8c4c5\" y=\"153.382858\"/>\n     <use style=\"fill:#8dd3c7;stroke:#8dd3c7;\" x=\"103.366722\" xlink:href=\"#m8b61a8c4c5\" y=\"173.411385\"/>\n     <use style=\"fill:#8dd3c7;stroke:#8dd3c7;\" x=\"79.909946\" xlink:href=\"#m8b61a8c4c5\" y=\"153.208696\"/>\n    </g>\n   </g>\n   <g id=\"matplotlib.axis_1\">\n    <g id=\"xtick_1\">\n     <g id=\"line2d_1\">\n      <defs>\n       <path d=\"M 0 0 \nL 0 3.5 \n\" id=\"mfc74c63b63\" style=\"stroke:#ffffff;stroke-width:0.8;\"/>\n      </defs>\n      <g>\n       <use style=\"fill:#ffffff;stroke:#ffffff;stroke-width:0.8;\" x=\"47.357685\" xlink:href=\"#mfc74c63b63\" y=\"235.238438\"/>\n      </g>\n     </g>\n     <g id=\"text_1\">\n      <!-- 0 -->\n      <g style=\"fill:#ffffff;\" transform=\"translate(44.176435 249.836875)scale(0.1 -0.1)\">\n       <defs>\n        <path d=\"M 31.78125 66.40625 \nQ 24.171875 66.40625 20.328125 58.90625 \nQ 16.5 51.421875 16.5 36.375 \nQ 16.5 21.390625 20.328125 13.890625 \nQ 24.171875 6.390625 31.78125 6.390625 \nQ 39.453125 6.390625 43.28125 13.890625 \nQ 47.125 21.390625 47.125 36.375 \nQ 47.125 51.421875 43.28125 58.90625 \nQ 39.453125 66.40625 31.78125 66.40625 \nz\nM 31.78125 74.21875 \nQ 44.046875 74.21875 50.515625 64.515625 \nQ 56.984375 54.828125 56.984375 36.375 \nQ 56.984375 17.96875 50.515625 8.265625 \nQ 44.046875 -1.421875 31.78125 -1.421875 \nQ 19.53125 -1.421875 13.0625 8.265625 \nQ 6.59375 17.96875 6.59375 36.375 \nQ 6.59375 54.828125 13.0625 64.515625 \nQ 19.53125 74.21875 31.78125 74.21875 \nz\n\" id=\"DejaVuSans-48\"/>\n       </defs>\n       <use xlink:href=\"#DejaVuSans-48\"/>\n      </g>\n     </g>\n    </g>\n    <g id=\"xtick_2\">\n     <g id=\"line2d_2\">\n      <g>\n       <use style=\"fill:#ffffff;stroke:#ffffff;stroke-width:0.8;\" x=\"95.228656\" xlink:href=\"#mfc74c63b63\" y=\"235.238438\"/>\n      </g>\n     </g>\n     <g id=\"text_2\">\n      <!-- 1000 -->\n      <g style=\"fill:#ffffff;\" transform=\"translate(82.503656 249.836875)scale(0.1 -0.1)\">\n       <defs>\n        <path d=\"M 12.40625 8.296875 \nL 28.515625 8.296875 \nL 28.515625 63.921875 \nL 10.984375 60.40625 \nL 10.984375 69.390625 \nL 28.421875 72.90625 \nL 38.28125 72.90625 \nL 38.28125 8.296875 \nL 54.390625 8.296875 \nL 54.390625 0 \nL 12.40625 0 \nz\n\" id=\"DejaVuSans-49\"/>\n       </defs>\n       <use xlink:href=\"#DejaVuSans-49\"/>\n       <use x=\"63.623047\" xlink:href=\"#DejaVuSans-48\"/>\n       <use x=\"127.246094\" xlink:href=\"#DejaVuSans-48\"/>\n       <use x=\"190.869141\" xlink:href=\"#DejaVuSans-48\"/>\n      </g>\n     </g>\n    </g>\n    <g id=\"xtick_3\">\n     <g id=\"line2d_3\">\n      <g>\n       <use style=\"fill:#ffffff;stroke:#ffffff;stroke-width:0.8;\" x=\"143.099628\" xlink:href=\"#mfc74c63b63\" y=\"235.238438\"/>\n      </g>\n     </g>\n     <g id=\"text_3\">\n      <!-- 2000 -->\n      <g style=\"fill:#ffffff;\" transform=\"translate(130.374628 249.836875)scale(0.1 -0.1)\">\n       <defs>\n        <path d=\"M 19.1875 8.296875 \nL 53.609375 8.296875 \nL 53.609375 0 \nL 7.328125 0 \nL 7.328125 8.296875 \nQ 12.9375 14.109375 22.625 23.890625 \nQ 32.328125 33.6875 34.8125 36.53125 \nQ 39.546875 41.84375 41.421875 45.53125 \nQ 43.3125 49.21875 43.3125 52.78125 \nQ 43.3125 58.59375 39.234375 62.25 \nQ 35.15625 65.921875 28.609375 65.921875 \nQ 23.96875 65.921875 18.8125 64.3125 \nQ 13.671875 62.703125 7.8125 59.421875 \nL 7.8125 69.390625 \nQ 13.765625 71.78125 18.9375 73 \nQ 24.125 74.21875 28.421875 74.21875 \nQ 39.75 74.21875 46.484375 68.546875 \nQ 53.21875 62.890625 53.21875 53.421875 \nQ 53.21875 48.921875 51.53125 44.890625 \nQ 49.859375 40.875 45.40625 35.40625 \nQ 44.1875 33.984375 37.640625 27.21875 \nQ 31.109375 20.453125 19.1875 8.296875 \nz\n\" id=\"DejaVuSans-50\"/>\n       </defs>\n       <use xlink:href=\"#DejaVuSans-50\"/>\n       <use x=\"63.623047\" xlink:href=\"#DejaVuSans-48\"/>\n       <use x=\"127.246094\" xlink:href=\"#DejaVuSans-48\"/>\n       <use x=\"190.869141\" xlink:href=\"#DejaVuSans-48\"/>\n      </g>\n     </g>\n    </g>\n    <g id=\"xtick_4\">\n     <g id=\"line2d_4\">\n      <g>\n       <use style=\"fill:#ffffff;stroke:#ffffff;stroke-width:0.8;\" x=\"190.970599\" xlink:href=\"#mfc74c63b63\" y=\"235.238438\"/>\n      </g>\n     </g>\n     <g id=\"text_4\">\n      <!-- 3000 -->\n      <g style=\"fill:#ffffff;\" transform=\"translate(178.245599 249.836875)scale(0.1 -0.1)\">\n       <defs>\n        <path d=\"M 40.578125 39.3125 \nQ 47.65625 37.796875 51.625 33 \nQ 55.609375 28.21875 55.609375 21.1875 \nQ 55.609375 10.40625 48.1875 4.484375 \nQ 40.765625 -1.421875 27.09375 -1.421875 \nQ 22.515625 -1.421875 17.65625 -0.515625 \nQ 12.796875 0.390625 7.625 2.203125 \nL 7.625 11.71875 \nQ 11.71875 9.328125 16.59375 8.109375 \nQ 21.484375 6.890625 26.8125 6.890625 \nQ 36.078125 6.890625 40.9375 10.546875 \nQ 45.796875 14.203125 45.796875 21.1875 \nQ 45.796875 27.640625 41.28125 31.265625 \nQ 36.765625 34.90625 28.71875 34.90625 \nL 20.21875 34.90625 \nL 20.21875 43.015625 \nL 29.109375 43.015625 \nQ 36.375 43.015625 40.234375 45.921875 \nQ 44.09375 48.828125 44.09375 54.296875 \nQ 44.09375 59.90625 40.109375 62.90625 \nQ 36.140625 65.921875 28.71875 65.921875 \nQ 24.65625 65.921875 20.015625 65.03125 \nQ 15.375 64.15625 9.8125 62.3125 \nL 9.8125 71.09375 \nQ 15.4375 72.65625 20.34375 73.4375 \nQ 25.25 74.21875 29.59375 74.21875 \nQ 40.828125 74.21875 47.359375 69.109375 \nQ 53.90625 64.015625 53.90625 55.328125 \nQ 53.90625 49.265625 50.4375 45.09375 \nQ 46.96875 40.921875 40.578125 39.3125 \nz\n\" id=\"DejaVuSans-51\"/>\n       </defs>\n       <use xlink:href=\"#DejaVuSans-51\"/>\n       <use x=\"63.623047\" xlink:href=\"#DejaVuSans-48\"/>\n       <use x=\"127.246094\" xlink:href=\"#DejaVuSans-48\"/>\n       <use x=\"190.869141\" xlink:href=\"#DejaVuSans-48\"/>\n      </g>\n     </g>\n    </g>\n    <g id=\"xtick_5\">\n     <g id=\"line2d_5\">\n      <g>\n       <use style=\"fill:#ffffff;stroke:#ffffff;stroke-width:0.8;\" x=\"238.841571\" xlink:href=\"#mfc74c63b63\" y=\"235.238438\"/>\n      </g>\n     </g>\n     <g id=\"text_5\">\n      <!-- 4000 -->\n      <g style=\"fill:#ffffff;\" transform=\"translate(226.116571 249.836875)scale(0.1 -0.1)\">\n       <defs>\n        <path d=\"M 37.796875 64.3125 \nL 12.890625 25.390625 \nL 37.796875 25.390625 \nz\nM 35.203125 72.90625 \nL 47.609375 72.90625 \nL 47.609375 25.390625 \nL 58.015625 25.390625 \nL 58.015625 17.1875 \nL 47.609375 17.1875 \nL 47.609375 0 \nL 37.796875 0 \nL 37.796875 17.1875 \nL 4.890625 17.1875 \nL 4.890625 26.703125 \nz\n\" id=\"DejaVuSans-52\"/>\n       </defs>\n       <use xlink:href=\"#DejaVuSans-52\"/>\n       <use x=\"63.623047\" xlink:href=\"#DejaVuSans-48\"/>\n       <use x=\"127.246094\" xlink:href=\"#DejaVuSans-48\"/>\n       <use x=\"190.869141\" xlink:href=\"#DejaVuSans-48\"/>\n      </g>\n     </g>\n    </g>\n    <g id=\"xtick_6\">\n     <g id=\"line2d_6\">\n      <g>\n       <use style=\"fill:#ffffff;stroke:#ffffff;stroke-width:0.8;\" x=\"286.712542\" xlink:href=\"#mfc74c63b63\" y=\"235.238438\"/>\n      </g>\n     </g>\n     <g id=\"text_6\">\n      <!-- 5000 -->\n      <g style=\"fill:#ffffff;\" transform=\"translate(273.987542 249.836875)scale(0.1 -0.1)\">\n       <defs>\n        <path d=\"M 10.796875 72.90625 \nL 49.515625 72.90625 \nL 49.515625 64.59375 \nL 19.828125 64.59375 \nL 19.828125 46.734375 \nQ 21.96875 47.46875 24.109375 47.828125 \nQ 26.265625 48.1875 28.421875 48.1875 \nQ 40.625 48.1875 47.75 41.5 \nQ 54.890625 34.8125 54.890625 23.390625 \nQ 54.890625 11.625 47.5625 5.09375 \nQ 40.234375 -1.421875 26.90625 -1.421875 \nQ 22.3125 -1.421875 17.546875 -0.640625 \nQ 12.796875 0.140625 7.71875 1.703125 \nL 7.71875 11.625 \nQ 12.109375 9.234375 16.796875 8.0625 \nQ 21.484375 6.890625 26.703125 6.890625 \nQ 35.15625 6.890625 40.078125 11.328125 \nQ 45.015625 15.765625 45.015625 23.390625 \nQ 45.015625 31 40.078125 35.4375 \nQ 35.15625 39.890625 26.703125 39.890625 \nQ 22.75 39.890625 18.8125 39.015625 \nQ 14.890625 38.140625 10.796875 36.28125 \nz\n\" id=\"DejaVuSans-53\"/>\n       </defs>\n       <use xlink:href=\"#DejaVuSans-53\"/>\n       <use x=\"63.623047\" xlink:href=\"#DejaVuSans-48\"/>\n       <use x=\"127.246094\" xlink:href=\"#DejaVuSans-48\"/>\n       <use x=\"190.869141\" xlink:href=\"#DejaVuSans-48\"/>\n      </g>\n     </g>\n    </g>\n    <g id=\"xtick_7\">\n     <g id=\"line2d_7\">\n      <g>\n       <use style=\"fill:#ffffff;stroke:#ffffff;stroke-width:0.8;\" x=\"334.583514\" xlink:href=\"#mfc74c63b63\" y=\"235.238438\"/>\n      </g>\n     </g>\n     <g id=\"text_7\">\n      <!-- 6000 -->\n      <g style=\"fill:#ffffff;\" transform=\"translate(321.858514 249.836875)scale(0.1 -0.1)\">\n       <defs>\n        <path d=\"M 33.015625 40.375 \nQ 26.375 40.375 22.484375 35.828125 \nQ 18.609375 31.296875 18.609375 23.390625 \nQ 18.609375 15.53125 22.484375 10.953125 \nQ 26.375 6.390625 33.015625 6.390625 \nQ 39.65625 6.390625 43.53125 10.953125 \nQ 47.40625 15.53125 47.40625 23.390625 \nQ 47.40625 31.296875 43.53125 35.828125 \nQ 39.65625 40.375 33.015625 40.375 \nz\nM 52.59375 71.296875 \nL 52.59375 62.3125 \nQ 48.875 64.0625 45.09375 64.984375 \nQ 41.3125 65.921875 37.59375 65.921875 \nQ 27.828125 65.921875 22.671875 59.328125 \nQ 17.53125 52.734375 16.796875 39.40625 \nQ 19.671875 43.65625 24.015625 45.921875 \nQ 28.375 48.1875 33.59375 48.1875 \nQ 44.578125 48.1875 50.953125 41.515625 \nQ 57.328125 34.859375 57.328125 23.390625 \nQ 57.328125 12.15625 50.6875 5.359375 \nQ 44.046875 -1.421875 33.015625 -1.421875 \nQ 20.359375 -1.421875 13.671875 8.265625 \nQ 6.984375 17.96875 6.984375 36.375 \nQ 6.984375 53.65625 15.1875 63.9375 \nQ 23.390625 74.21875 37.203125 74.21875 \nQ 40.921875 74.21875 44.703125 73.484375 \nQ 48.484375 72.75 52.59375 71.296875 \nz\n\" id=\"DejaVuSans-54\"/>\n       </defs>\n       <use xlink:href=\"#DejaVuSans-54\"/>\n       <use x=\"63.623047\" xlink:href=\"#DejaVuSans-48\"/>\n       <use x=\"127.246094\" xlink:href=\"#DejaVuSans-48\"/>\n       <use x=\"190.869141\" xlink:href=\"#DejaVuSans-48\"/>\n      </g>\n     </g>\n    </g>\n    <g id=\"text_8\">\n     <!-- landArea -->\n     <g style=\"fill:#ffffff;\" transform=\"translate(189.159375 263.515)scale(0.1 -0.1)\">\n      <defs>\n       <path d=\"M 9.421875 75.984375 \nL 18.40625 75.984375 \nL 18.40625 0 \nL 9.421875 0 \nz\n\" id=\"DejaVuSans-108\"/>\n       <path d=\"M 34.28125 27.484375 \nQ 23.390625 27.484375 19.1875 25 \nQ 14.984375 22.515625 14.984375 16.5 \nQ 14.984375 11.71875 18.140625 8.90625 \nQ 21.296875 6.109375 26.703125 6.109375 \nQ 34.1875 6.109375 38.703125 11.40625 \nQ 43.21875 16.703125 43.21875 25.484375 \nL 43.21875 27.484375 \nz\nM 52.203125 31.203125 \nL 52.203125 0 \nL 43.21875 0 \nL 43.21875 8.296875 \nQ 40.140625 3.328125 35.546875 0.953125 \nQ 30.953125 -1.421875 24.3125 -1.421875 \nQ 15.921875 -1.421875 10.953125 3.296875 \nQ 6 8.015625 6 15.921875 \nQ 6 25.140625 12.171875 29.828125 \nQ 18.359375 34.515625 30.609375 34.515625 \nL 43.21875 34.515625 \nL 43.21875 35.40625 \nQ 43.21875 41.609375 39.140625 45 \nQ 35.0625 48.390625 27.6875 48.390625 \nQ 23 48.390625 18.546875 47.265625 \nQ 14.109375 46.140625 10.015625 43.890625 \nL 10.015625 52.203125 \nQ 14.9375 54.109375 19.578125 55.046875 \nQ 24.21875 56 28.609375 56 \nQ 40.484375 56 46.34375 49.84375 \nQ 52.203125 43.703125 52.203125 31.203125 \nz\n\" id=\"DejaVuSans-97\"/>\n       <path d=\"M 54.890625 33.015625 \nL 54.890625 0 \nL 45.90625 0 \nL 45.90625 32.71875 \nQ 45.90625 40.484375 42.875 44.328125 \nQ 39.84375 48.1875 33.796875 48.1875 \nQ 26.515625 48.1875 22.3125 43.546875 \nQ 18.109375 38.921875 18.109375 30.90625 \nL 18.109375 0 \nL 9.078125 0 \nL 9.078125 54.6875 \nL 18.109375 54.6875 \nL 18.109375 46.1875 \nQ 21.34375 51.125 25.703125 53.5625 \nQ 30.078125 56 35.796875 56 \nQ 45.21875 56 50.046875 50.171875 \nQ 54.890625 44.34375 54.890625 33.015625 \nz\n\" id=\"DejaVuSans-110\"/>\n       <path d=\"M 45.40625 46.390625 \nL 45.40625 75.984375 \nL 54.390625 75.984375 \nL 54.390625 0 \nL 45.40625 0 \nL 45.40625 8.203125 \nQ 42.578125 3.328125 38.25 0.953125 \nQ 33.9375 -1.421875 27.875 -1.421875 \nQ 17.96875 -1.421875 11.734375 6.484375 \nQ 5.515625 14.40625 5.515625 27.296875 \nQ 5.515625 40.1875 11.734375 48.09375 \nQ 17.96875 56 27.875 56 \nQ 33.9375 56 38.25 53.625 \nQ 42.578125 51.265625 45.40625 46.390625 \nz\nM 14.796875 27.296875 \nQ 14.796875 17.390625 18.875 11.75 \nQ 22.953125 6.109375 30.078125 6.109375 \nQ 37.203125 6.109375 41.296875 11.75 \nQ 45.40625 17.390625 45.40625 27.296875 \nQ 45.40625 37.203125 41.296875 42.84375 \nQ 37.203125 48.484375 30.078125 48.484375 \nQ 22.953125 48.484375 18.875 42.84375 \nQ 14.796875 37.203125 14.796875 27.296875 \nz\n\" id=\"DejaVuSans-100\"/>\n       <path d=\"M 34.1875 63.1875 \nL 20.796875 26.90625 \nL 47.609375 26.90625 \nz\nM 28.609375 72.90625 \nL 39.796875 72.90625 \nL 67.578125 0 \nL 57.328125 0 \nL 50.6875 18.703125 \nL 17.828125 18.703125 \nL 11.1875 0 \nL 0.78125 0 \nz\n\" id=\"DejaVuSans-65\"/>\n       <path d=\"M 41.109375 46.296875 \nQ 39.59375 47.171875 37.8125 47.578125 \nQ 36.03125 48 33.890625 48 \nQ 26.265625 48 22.1875 43.046875 \nQ 18.109375 38.09375 18.109375 28.8125 \nL 18.109375 0 \nL 9.078125 0 \nL 9.078125 54.6875 \nL 18.109375 54.6875 \nL 18.109375 46.1875 \nQ 20.953125 51.171875 25.484375 53.578125 \nQ 30.03125 56 36.53125 56 \nQ 37.453125 56 38.578125 55.875 \nQ 39.703125 55.765625 41.0625 55.515625 \nz\n\" id=\"DejaVuSans-114\"/>\n       <path d=\"M 56.203125 29.59375 \nL 56.203125 25.203125 \nL 14.890625 25.203125 \nQ 15.484375 15.921875 20.484375 11.0625 \nQ 25.484375 6.203125 34.421875 6.203125 \nQ 39.59375 6.203125 44.453125 7.46875 \nQ 49.3125 8.734375 54.109375 11.28125 \nL 54.109375 2.78125 \nQ 49.265625 0.734375 44.1875 -0.34375 \nQ 39.109375 -1.421875 33.890625 -1.421875 \nQ 20.796875 -1.421875 13.15625 6.1875 \nQ 5.515625 13.8125 5.515625 26.8125 \nQ 5.515625 40.234375 12.765625 48.109375 \nQ 20.015625 56 32.328125 56 \nQ 43.359375 56 49.78125 48.890625 \nQ 56.203125 41.796875 56.203125 29.59375 \nz\nM 47.21875 32.234375 \nQ 47.125 39.59375 43.09375 43.984375 \nQ 39.0625 48.390625 32.421875 48.390625 \nQ 24.90625 48.390625 20.390625 44.140625 \nQ 15.875 39.890625 15.1875 32.171875 \nz\n\" id=\"DejaVuSans-101\"/>\n      </defs>\n      <use xlink:href=\"#DejaVuSans-108\"/>\n      <use x=\"27.783203\" xlink:href=\"#DejaVuSans-97\"/>\n      <use x=\"89.0625\" xlink:href=\"#DejaVuSans-110\"/>\n      <use x=\"152.441406\" xlink:href=\"#DejaVuSans-100\"/>\n      <use x=\"215.917969\" xlink:href=\"#DejaVuSans-65\"/>\n      <use x=\"284.326172\" xlink:href=\"#DejaVuSans-114\"/>\n      <use x=\"323.189453\" xlink:href=\"#DejaVuSans-101\"/>\n      <use x=\"384.712891\" xlink:href=\"#DejaVuSans-97\"/>\n     </g>\n    </g>\n   </g>\n   <g id=\"matplotlib.axis_2\">\n    <g id=\"ytick_1\">\n     <g id=\"line2d_8\">\n      <defs>\n       <path d=\"M 0 0 \nL -3.5 0 \n\" id=\"m0de5606ca3\" style=\"stroke:#ffffff;stroke-width:0.8;\"/>\n      </defs>\n      <g>\n       <use style=\"fill:#ffffff;stroke:#ffffff;stroke-width:0.8;\" x=\"44.059375\" xlink:href=\"#m0de5606ca3\" y=\"200.406356\"/>\n      </g>\n     </g>\n     <g id=\"text_9\">\n      <!-- 0.2 -->\n      <g style=\"fill:#ffffff;\" transform=\"translate(21.15625 204.205575)scale(0.1 -0.1)\">\n       <defs>\n        <path d=\"M 10.6875 12.40625 \nL 21 12.40625 \nL 21 0 \nL 10.6875 0 \nz\n\" id=\"DejaVuSans-46\"/>\n       </defs>\n       <use xlink:href=\"#DejaVuSans-48\"/>\n       <use x=\"63.623047\" xlink:href=\"#DejaVuSans-46\"/>\n       <use x=\"95.410156\" xlink:href=\"#DejaVuSans-50\"/>\n      </g>\n     </g>\n    </g>\n    <g id=\"ytick_2\">\n     <g id=\"line2d_9\">\n      <g>\n       <use style=\"fill:#ffffff;stroke:#ffffff;stroke-width:0.8;\" x=\"44.059375\" xlink:href=\"#m0de5606ca3\" y=\"165.574135\"/>\n      </g>\n     </g>\n     <g id=\"text_10\">\n      <!-- 0.4 -->\n      <g style=\"fill:#ffffff;\" transform=\"translate(21.15625 169.373354)scale(0.1 -0.1)\">\n       <use xlink:href=\"#DejaVuSans-48\"/>\n       <use x=\"63.623047\" xlink:href=\"#DejaVuSans-46\"/>\n       <use x=\"95.410156\" xlink:href=\"#DejaVuSans-52\"/>\n      </g>\n     </g>\n    </g>\n    <g id=\"ytick_3\">\n     <g id=\"line2d_10\">\n      <g>\n       <use style=\"fill:#ffffff;stroke:#ffffff;stroke-width:0.8;\" x=\"44.059375\" xlink:href=\"#m0de5606ca3\" y=\"130.741914\"/>\n      </g>\n     </g>\n     <g id=\"text_11\">\n      <!-- 0.6 -->\n      <g style=\"fill:#ffffff;\" transform=\"translate(21.15625 134.541133)scale(0.1 -0.1)\">\n       <use xlink:href=\"#DejaVuSans-48\"/>\n       <use x=\"63.623047\" xlink:href=\"#DejaVuSans-46\"/>\n       <use x=\"95.410156\" xlink:href=\"#DejaVuSans-54\"/>\n      </g>\n     </g>\n    </g>\n    <g id=\"ytick_4\">\n     <g id=\"line2d_11\">\n      <g>\n       <use style=\"fill:#ffffff;stroke:#ffffff;stroke-width:0.8;\" x=\"44.059375\" xlink:href=\"#m0de5606ca3\" y=\"95.909693\"/>\n      </g>\n     </g>\n     <g id=\"text_12\">\n      <!-- 0.8 -->\n      <g style=\"fill:#ffffff;\" transform=\"translate(21.15625 99.708912)scale(0.1 -0.1)\">\n       <defs>\n        <path d=\"M 31.78125 34.625 \nQ 24.75 34.625 20.71875 30.859375 \nQ 16.703125 27.09375 16.703125 20.515625 \nQ 16.703125 13.921875 20.71875 10.15625 \nQ 24.75 6.390625 31.78125 6.390625 \nQ 38.8125 6.390625 42.859375 10.171875 \nQ 46.921875 13.96875 46.921875 20.515625 \nQ 46.921875 27.09375 42.890625 30.859375 \nQ 38.875 34.625 31.78125 34.625 \nz\nM 21.921875 38.8125 \nQ 15.578125 40.375 12.03125 44.71875 \nQ 8.5 49.078125 8.5 55.328125 \nQ 8.5 64.0625 14.71875 69.140625 \nQ 20.953125 74.21875 31.78125 74.21875 \nQ 42.671875 74.21875 48.875 69.140625 \nQ 55.078125 64.0625 55.078125 55.328125 \nQ 55.078125 49.078125 51.53125 44.71875 \nQ 48 40.375 41.703125 38.8125 \nQ 48.828125 37.15625 52.796875 32.3125 \nQ 56.78125 27.484375 56.78125 20.515625 \nQ 56.78125 9.90625 50.3125 4.234375 \nQ 43.84375 -1.421875 31.78125 -1.421875 \nQ 19.734375 -1.421875 13.25 4.234375 \nQ 6.78125 9.90625 6.78125 20.515625 \nQ 6.78125 27.484375 10.78125 32.3125 \nQ 14.796875 37.15625 21.921875 38.8125 \nz\nM 18.3125 54.390625 \nQ 18.3125 48.734375 21.84375 45.5625 \nQ 25.390625 42.390625 31.78125 42.390625 \nQ 38.140625 42.390625 41.71875 45.5625 \nQ 45.3125 48.734375 45.3125 54.390625 \nQ 45.3125 60.0625 41.71875 63.234375 \nQ 38.140625 66.40625 31.78125 66.40625 \nQ 25.390625 66.40625 21.84375 63.234375 \nQ 18.3125 60.0625 18.3125 54.390625 \nz\n\" id=\"DejaVuSans-56\"/>\n       </defs>\n       <use xlink:href=\"#DejaVuSans-48\"/>\n       <use x=\"63.623047\" xlink:href=\"#DejaVuSans-46\"/>\n       <use x=\"95.410156\" xlink:href=\"#DejaVuSans-56\"/>\n      </g>\n     </g>\n    </g>\n    <g id=\"ytick_5\">\n     <g id=\"line2d_12\">\n      <g>\n       <use style=\"fill:#ffffff;stroke:#ffffff;stroke-width:0.8;\" x=\"44.059375\" xlink:href=\"#m0de5606ca3\" y=\"61.077472\"/>\n      </g>\n     </g>\n     <g id=\"text_13\">\n      <!-- 1.0 -->\n      <g style=\"fill:#ffffff;\" transform=\"translate(21.15625 64.876691)scale(0.1 -0.1)\">\n       <use xlink:href=\"#DejaVuSans-49\"/>\n       <use x=\"63.623047\" xlink:href=\"#DejaVuSans-46\"/>\n       <use x=\"95.410156\" xlink:href=\"#DejaVuSans-48\"/>\n      </g>\n     </g>\n    </g>\n    <g id=\"ytick_6\">\n     <g id=\"line2d_13\">\n      <g>\n       <use style=\"fill:#ffffff;stroke:#ffffff;stroke-width:0.8;\" x=\"44.059375\" xlink:href=\"#m0de5606ca3\" y=\"26.245251\"/>\n      </g>\n     </g>\n     <g id=\"text_14\">\n      <!-- 1.2 -->\n      <g style=\"fill:#ffffff;\" transform=\"translate(21.15625 30.04447)scale(0.1 -0.1)\">\n       <use xlink:href=\"#DejaVuSans-49\"/>\n       <use x=\"63.623047\" xlink:href=\"#DejaVuSans-46\"/>\n       <use x=\"95.410156\" xlink:href=\"#DejaVuSans-50\"/>\n      </g>\n     </g>\n    </g>\n    <g id=\"text_15\">\n     <!-- sold_price -->\n     <g style=\"fill:#ffffff;\" transform=\"translate(14.798438 151.690313)rotate(-90)scale(0.1 -0.1)\">\n      <defs>\n       <path d=\"M 44.28125 53.078125 \nL 44.28125 44.578125 \nQ 40.484375 46.53125 36.375 47.5 \nQ 32.28125 48.484375 27.875 48.484375 \nQ 21.1875 48.484375 17.84375 46.4375 \nQ 14.5 44.390625 14.5 40.28125 \nQ 14.5 37.15625 16.890625 35.375 \nQ 19.28125 33.59375 26.515625 31.984375 \nL 29.59375 31.296875 \nQ 39.15625 29.25 43.1875 25.515625 \nQ 47.21875 21.78125 47.21875 15.09375 \nQ 47.21875 7.46875 41.1875 3.015625 \nQ 35.15625 -1.421875 24.609375 -1.421875 \nQ 20.21875 -1.421875 15.453125 -0.5625 \nQ 10.6875 0.296875 5.421875 2 \nL 5.421875 11.28125 \nQ 10.40625 8.6875 15.234375 7.390625 \nQ 20.0625 6.109375 24.8125 6.109375 \nQ 31.15625 6.109375 34.5625 8.28125 \nQ 37.984375 10.453125 37.984375 14.40625 \nQ 37.984375 18.0625 35.515625 20.015625 \nQ 33.0625 21.96875 24.703125 23.78125 \nL 21.578125 24.515625 \nQ 13.234375 26.265625 9.515625 29.90625 \nQ 5.8125 33.546875 5.8125 39.890625 \nQ 5.8125 47.609375 11.28125 51.796875 \nQ 16.75 56 26.8125 56 \nQ 31.78125 56 36.171875 55.265625 \nQ 40.578125 54.546875 44.28125 53.078125 \nz\n\" id=\"DejaVuSans-115\"/>\n       <path d=\"M 30.609375 48.390625 \nQ 23.390625 48.390625 19.1875 42.75 \nQ 14.984375 37.109375 14.984375 27.296875 \nQ 14.984375 17.484375 19.15625 11.84375 \nQ 23.34375 6.203125 30.609375 6.203125 \nQ 37.796875 6.203125 41.984375 11.859375 \nQ 46.1875 17.53125 46.1875 27.296875 \nQ 46.1875 37.015625 41.984375 42.703125 \nQ 37.796875 48.390625 30.609375 48.390625 \nz\nM 30.609375 56 \nQ 42.328125 56 49.015625 48.375 \nQ 55.71875 40.765625 55.71875 27.296875 \nQ 55.71875 13.875 49.015625 6.21875 \nQ 42.328125 -1.421875 30.609375 -1.421875 \nQ 18.84375 -1.421875 12.171875 6.21875 \nQ 5.515625 13.875 5.515625 27.296875 \nQ 5.515625 40.765625 12.171875 48.375 \nQ 18.84375 56 30.609375 56 \nz\n\" id=\"DejaVuSans-111\"/>\n       <path d=\"M 50.984375 -16.609375 \nL 50.984375 -23.578125 \nL -0.984375 -23.578125 \nL -0.984375 -16.609375 \nz\n\" id=\"DejaVuSans-95\"/>\n       <path d=\"M 18.109375 8.203125 \nL 18.109375 -20.796875 \nL 9.078125 -20.796875 \nL 9.078125 54.6875 \nL 18.109375 54.6875 \nL 18.109375 46.390625 \nQ 20.953125 51.265625 25.265625 53.625 \nQ 29.59375 56 35.59375 56 \nQ 45.5625 56 51.78125 48.09375 \nQ 58.015625 40.1875 58.015625 27.296875 \nQ 58.015625 14.40625 51.78125 6.484375 \nQ 45.5625 -1.421875 35.59375 -1.421875 \nQ 29.59375 -1.421875 25.265625 0.953125 \nQ 20.953125 3.328125 18.109375 8.203125 \nz\nM 48.6875 27.296875 \nQ 48.6875 37.203125 44.609375 42.84375 \nQ 40.53125 48.484375 33.40625 48.484375 \nQ 26.265625 48.484375 22.1875 42.84375 \nQ 18.109375 37.203125 18.109375 27.296875 \nQ 18.109375 17.390625 22.1875 11.75 \nQ 26.265625 6.109375 33.40625 6.109375 \nQ 40.53125 6.109375 44.609375 11.75 \nQ 48.6875 17.390625 48.6875 27.296875 \nz\n\" id=\"DejaVuSans-112\"/>\n       <path d=\"M 9.421875 54.6875 \nL 18.40625 54.6875 \nL 18.40625 0 \nL 9.421875 0 \nz\nM 9.421875 75.984375 \nL 18.40625 75.984375 \nL 18.40625 64.59375 \nL 9.421875 64.59375 \nz\n\" id=\"DejaVuSans-105\"/>\n       <path d=\"M 48.78125 52.59375 \nL 48.78125 44.1875 \nQ 44.96875 46.296875 41.140625 47.34375 \nQ 37.3125 48.390625 33.40625 48.390625 \nQ 24.65625 48.390625 19.8125 42.84375 \nQ 14.984375 37.3125 14.984375 27.296875 \nQ 14.984375 17.28125 19.8125 11.734375 \nQ 24.65625 6.203125 33.40625 6.203125 \nQ 37.3125 6.203125 41.140625 7.25 \nQ 44.96875 8.296875 48.78125 10.40625 \nL 48.78125 2.09375 \nQ 45.015625 0.34375 40.984375 -0.53125 \nQ 36.96875 -1.421875 32.421875 -1.421875 \nQ 20.0625 -1.421875 12.78125 6.34375 \nQ 5.515625 14.109375 5.515625 27.296875 \nQ 5.515625 40.671875 12.859375 48.328125 \nQ 20.21875 56 33.015625 56 \nQ 37.15625 56 41.109375 55.140625 \nQ 45.0625 54.296875 48.78125 52.59375 \nz\n\" id=\"DejaVuSans-99\"/>\n      </defs>\n      <use xlink:href=\"#DejaVuSans-115\"/>\n      <use x=\"52.099609\" xlink:href=\"#DejaVuSans-111\"/>\n      <use x=\"113.28125\" xlink:href=\"#DejaVuSans-108\"/>\n      <use x=\"141.064453\" xlink:href=\"#DejaVuSans-100\"/>\n      <use x=\"204.541016\" xlink:href=\"#DejaVuSans-95\"/>\n      <use x=\"254.541016\" xlink:href=\"#DejaVuSans-112\"/>\n      <use x=\"318.017578\" xlink:href=\"#DejaVuSans-114\"/>\n      <use x=\"359.130859\" xlink:href=\"#DejaVuSans-105\"/>\n      <use x=\"386.914062\" xlink:href=\"#DejaVuSans-99\"/>\n      <use x=\"441.894531\" xlink:href=\"#DejaVuSans-101\"/>\n     </g>\n    </g>\n    <g id=\"text_16\">\n     <!-- 1e6 -->\n     <g style=\"fill:#ffffff;\" transform=\"translate(44.059375 14.798437)scale(0.1 -0.1)\">\n      <use xlink:href=\"#DejaVuSans-49\"/>\n      <use x=\"63.623047\" xlink:href=\"#DejaVuSans-101\"/>\n      <use x=\"125.146484\" xlink:href=\"#DejaVuSans-54\"/>\n     </g>\n    </g>\n   </g>\n   <g id=\"patch_3\">\n    <path d=\"M 44.059375 235.238438 \nL 44.059375 17.798437 \n\" style=\"fill:none;stroke:#ffffff;stroke-linecap:square;stroke-linejoin:miter;stroke-width:0.8;\"/>\n   </g>\n   <g id=\"patch_4\">\n    <path d=\"M 378.859375 235.238438 \nL 378.859375 17.798437 \n\" style=\"fill:none;stroke:#ffffff;stroke-linecap:square;stroke-linejoin:miter;stroke-width:0.8;\"/>\n   </g>\n   <g id=\"patch_5\">\n    <path d=\"M 44.059375 235.238438 \nL 378.859375 235.238438 \n\" style=\"fill:none;stroke:#ffffff;stroke-linecap:square;stroke-linejoin:miter;stroke-width:0.8;\"/>\n   </g>\n   <g id=\"patch_6\">\n    <path d=\"M 44.059375 17.798438 \nL 378.859375 17.798438 \n\" style=\"fill:none;stroke:#ffffff;stroke-linecap:square;stroke-linejoin:miter;stroke-width:0.8;\"/>\n   </g>\n  </g>\n </g>\n <defs>\n  <clipPath id=\"pea6f18eee7\">\n   <rect height=\"217.44\" width=\"334.8\" x=\"44.059375\" y=\"17.798438\"/>\n  </clipPath>\n </defs>\n</svg>\n",
      "image/png": "[encoded data removed]"
     },
     "metadata": {}
    }
   ],
   "source": [
    "var = 'landArea'\n",
    "df1.plot.scatter(x=var, y='sold_price', ylim=(0.800000))"
   ]
  },
  {
   "cell_type": "code",
   "execution_count": 10,
   "metadata": {},
   "outputs": [
    {
     "output_type": "execute_result",
     "data": {
      "text/plain": [
       "<AxesSubplot:xlabel='landArea', ylabel='sold_price'>"
      ]
     },
     "metadata": {},
     "execution_count": 10
    },
    {
     "output_type": "display_data",
     "data": {
      "text/plain": "<Figure size 432x288 with 1 Axes>",
      "image/svg+xml": "<?xml version=\"1.0\" encoding=\"utf-8\" standalone=\"no\"?>\n<!DOCTYPE svg PUBLIC \"-//W3C//DTD SVG 1.1//EN\"\n  \"http://www.w3.org/Graphics/SVG/1.1/DTD/svg11.dtd\">\n<!-- Created with matplotlib (https://matplotlib.org/) -->\n<svg height=\"262.19625pt\" version=\"1.1\" viewBox=\"0 0 408.33125 262.19625\" width=\"408.33125pt\" xmlns=\"http://www.w3.org/2000/svg\" xmlns:xlink=\"http://www.w3.org/1999/xlink\">\n <metadata>\n  <rdf:RDF xmlns:cc=\"http://creativecommons.org/ns#\" xmlns:dc=\"http://purl.org/dc/elements/1.1/\" xmlns:rdf=\"http://www.w3.org/1999/02/22-rdf-syntax-ns#\">\n   <cc:Work>\n    <dc:type rdf:resource=\"http://purl.org/dc/dcmitype/StillImage\"/>\n    <dc:date>2021-03-14T19:53:57.568511</dc:date>\n    <dc:format>image/svg+xml</dc:format>\n    <dc:creator>\n     <cc:Agent>\n      <dc:title>Matplotlib v3.3.1, https://matplotlib.org/</dc:title>\n     </cc:Agent>\n    </dc:creator>\n   </cc:Work>\n  </rdf:RDF>\n </metadata>\n <defs>\n  <style type=\"text/css\">*{stroke-linecap:butt;stroke-linejoin:round;}</style>\n </defs>\n <g id=\"figure_1\">\n  <g id=\"patch_1\">\n   <path d=\"M 0 262.19625 \nL 408.33125 262.19625 \nL 408.33125 0 \nL 0 0 \nz\n\"/>\n  </g>\n  <g id=\"axes_1\">\n   <g id=\"patch_2\">\n    <path d=\"M 66.33125 224.64 \nL 401.13125 224.64 \nL 401.13125 7.2 \nL 66.33125 7.2 \nz\n\"/>\n   </g>\n   <g id=\"PathCollection_1\">\n    <defs>\n     <path d=\"M 0 2.236068 \nC 0.593012 2.236068 1.161816 2.000462 1.581139 1.581139 \nC 2.000462 1.161816 2.236068 0.593012 2.236068 0 \nC 2.236068 -0.593012 2.000462 -1.161816 1.581139 -1.581139 \nC 1.161816 -2.000462 0.593012 -2.236068 0 -2.236068 \nC -0.593012 -2.236068 -1.161816 -2.000462 -1.581139 -1.581139 \nC -2.000462 -1.161816 -2.236068 -0.593012 -2.236068 0 \nC -2.236068 0.593012 -2.000462 1.161816 -1.581139 1.581139 \nC -1.161816 2.000462 -0.593012 2.236068 0 2.236068 \nz\n\" id=\"maddc015b87\" style=\"stroke:#8dd3c7;\"/>\n    </defs>\n    <g clip-path=\"url(#p7fc9632f76)\">\n     <use style=\"fill:#8dd3c7;stroke:#8dd3c7;\" x=\"184.106744\" xlink:href=\"#maddc015b87\" y=\"104.219421\"/>\n     <use style=\"fill:#8dd3c7;stroke:#8dd3c7;\" x=\"189.988167\" xlink:href=\"#maddc015b87\" y=\"125.324093\"/>\n     <use style=\"fill:#8dd3c7;stroke:#8dd3c7;\" x=\"183.371566\" xlink:href=\"#maddc015b87\" y=\"90.563456\"/>\n     <use style=\"fill:#8dd3c7;stroke:#8dd3c7;\" x=\"269.203582\" xlink:href=\"#maddc015b87\" y=\"157.105247\"/>\n     <use style=\"fill:#8dd3c7;stroke:#8dd3c7;\" x=\"131.725321\" xlink:href=\"#maddc015b87\" y=\"115.392483\"/>\n     <use style=\"fill:#8dd3c7;stroke:#8dd3c7;\" x=\"144.958523\" xlink:href=\"#maddc015b87\" y=\"96.770713\"/>\n     <use style=\"fill:#8dd3c7;stroke:#8dd3c7;\" x=\"182.820183\" xlink:href=\"#maddc015b87\" y=\"27.249439\"/>\n     <use style=\"fill:#8dd3c7;stroke:#8dd3c7;\" x=\"144.958523\" xlink:href=\"#maddc015b87\" y=\"117.875385\"/>\n     <use style=\"fill:#8dd3c7;stroke:#8dd3c7;\" x=\"252.845875\" xlink:href=\"#maddc015b87\" y=\"85.597651\"/>\n     <use style=\"fill:#8dd3c7;stroke:#8dd3c7;\" x=\"98.826112\" xlink:href=\"#maddc015b87\" y=\"137.738606\"/>\n     <use style=\"fill:#8dd3c7;stroke:#8dd3c7;\" x=\"148.818207\" xlink:href=\"#maddc015b87\" y=\"117.875385\"/>\n     <use style=\"fill:#8dd3c7;stroke:#8dd3c7;\" x=\"195.318207\" xlink:href=\"#maddc015b87\" y=\"106.702323\"/>\n     <use style=\"fill:#8dd3c7;stroke:#8dd3c7;\" x=\"205.610697\" xlink:href=\"#maddc015b87\" y=\"112.90958\"/>\n     <use style=\"fill:#8dd3c7;stroke:#8dd3c7;\" x=\"311.10872\" xlink:href=\"#maddc015b87\" y=\"90.439311\"/>\n     <use style=\"fill:#8dd3c7;stroke:#8dd3c7;\" x=\"197.52374\" xlink:href=\"#maddc015b87\" y=\"116.633934\"/>\n     <use style=\"fill:#8dd3c7;stroke:#8dd3c7;\" x=\"172.527693\" xlink:href=\"#maddc015b87\" y=\"126.565544\"/>\n     <use style=\"fill:#8dd3c7;stroke:#8dd3c7;\" x=\"285.745084\" xlink:href=\"#maddc015b87\" y=\"45.622918\"/>\n     <use style=\"fill:#8dd3c7;stroke:#8dd3c7;\" x=\"157.272752\" xlink:href=\"#maddc015b87\" y=\"90.811746\"/>\n     <use style=\"fill:#8dd3c7;stroke:#8dd3c7;\" x=\"179.144293\" xlink:href=\"#maddc015b87\" y=\"102.481389\"/>\n     <use style=\"fill:#8dd3c7;stroke:#8dd3c7;\" x=\"193.296467\" xlink:href=\"#maddc015b87\" y=\"116.633934\"/>\n     <use style=\"fill:#8dd3c7;stroke:#8dd3c7;\" x=\"191.642317\" xlink:href=\"#maddc015b87\" y=\"107.943775\"/>\n     <use style=\"fill:#8dd3c7;stroke:#8dd3c7;\" x=\"163.337969\" xlink:href=\"#maddc015b87\" y=\"136.993735\"/>\n     <use style=\"fill:#8dd3c7;stroke:#8dd3c7;\" x=\"255.235203\" xlink:href=\"#maddc015b87\" y=\"143.945863\"/>\n     <use style=\"fill:#8dd3c7;stroke:#8dd3c7;\" x=\"142.3854\" xlink:href=\"#maddc015b87\" y=\"117.875385\"/>\n     <use style=\"fill:#8dd3c7;stroke:#8dd3c7;\" x=\"276.187772\" xlink:href=\"#maddc015b87\" y=\"34.698147\"/>\n     <use style=\"fill:#8dd3c7;stroke:#8dd3c7;\" x=\"168.484214\" xlink:href=\"#maddc015b87\" y=\"84.3562\"/>\n     <use style=\"fill:#8dd3c7;stroke:#8dd3c7;\" x=\"173.630459\" xlink:href=\"#maddc015b87\" y=\"91.804907\"/>\n     <use style=\"fill:#8dd3c7;stroke:#8dd3c7;\" x=\"150.839946\" xlink:href=\"#maddc015b87\" y=\"123.337771\"/>\n     <use style=\"fill:#8dd3c7;stroke:#8dd3c7;\" x=\"219.027693\" xlink:href=\"#maddc015b87\" y=\"44.629757\"/>\n     <use style=\"fill:#8dd3c7;stroke:#8dd3c7;\" x=\"146.06129\" xlink:href=\"#maddc015b87\" y=\"123.337771\"/>\n     <use style=\"fill:#8dd3c7;stroke:#8dd3c7;\" x=\"164.440736\" xlink:href=\"#maddc015b87\" y=\"112.90958\"/>\n     <use style=\"fill:#8dd3c7;stroke:#8dd3c7;\" x=\"165.359708\" xlink:href=\"#maddc015b87\" y=\"84.3562\"/>\n     <use style=\"fill:#8dd3c7;stroke:#8dd3c7;\" x=\"147.347851\" xlink:href=\"#maddc015b87\" y=\"120.358288\"/>\n     <use style=\"fill:#8dd3c7;stroke:#8dd3c7;\" x=\"272.879471\" xlink:href=\"#maddc015b87\" y=\"94.28781\"/>\n     <use style=\"fill:#8dd3c7;stroke:#8dd3c7;\" x=\"146.06129\" xlink:href=\"#maddc015b87\" y=\"126.317254\"/>\n     <use style=\"fill:#8dd3c7;stroke:#8dd3c7;\" x=\"160.764847\" xlink:href=\"#maddc015b87\" y=\"121.103159\"/>\n     <use style=\"fill:#8dd3c7;stroke:#8dd3c7;\" x=\"209.47038\" xlink:href=\"#maddc015b87\" y=\"91.804907\"/>\n     <use style=\"fill:#8dd3c7;stroke:#8dd3c7;\" x=\"385.913068\" xlink:href=\"#maddc015b87\" y=\"26.007987\"/>\n     <use style=\"fill:#8dd3c7;stroke:#8dd3c7;\" x=\"173.814254\" xlink:href=\"#maddc015b87\" y=\"101.736518\"/>\n     <use style=\"fill:#8dd3c7;stroke:#8dd3c7;\" x=\"196.420973\" xlink:href=\"#maddc015b87\" y=\"145.187314\"/>\n     <use style=\"fill:#8dd3c7;stroke:#8dd3c7;\" x=\"200.280657\" xlink:href=\"#maddc015b87\" y=\"147.372268\"/>\n     <use style=\"fill:#8dd3c7;stroke:#8dd3c7;\" x=\"132.828088\" xlink:href=\"#maddc015b87\" y=\"125.572383\"/>\n     <use style=\"fill:#8dd3c7;stroke:#8dd3c7;\" x=\"194.399234\" xlink:href=\"#maddc015b87\" y=\"81.873297\"/>\n     <use style=\"fill:#8dd3c7;stroke:#8dd3c7;\" x=\"126.579076\" xlink:href=\"#maddc015b87\" y=\"127.806996\"/>\n     <use style=\"fill:#8dd3c7;stroke:#8dd3c7;\" x=\"235.752989\" xlink:href=\"#maddc015b87\" y=\"93.046359\"/>\n     <use style=\"fill:#8dd3c7;stroke:#8dd3c7;\" x=\"156.169985\" xlink:href=\"#maddc015b87\" y=\"132.02793\"/>\n     <use style=\"fill:#8dd3c7;stroke:#8dd3c7;\" x=\"184.474333\" xlink:href=\"#maddc015b87\" y=\"167.533438\"/>\n     <use style=\"fill:#8dd3c7;stroke:#8dd3c7;\" x=\"172.343898\" xlink:href=\"#maddc015b87\" y=\"144.690734\"/>\n     <use style=\"fill:#8dd3c7;stroke:#8dd3c7;\" x=\"176.203582\" xlink:href=\"#maddc015b87\" y=\"48.354111\"/>\n     <use style=\"fill:#8dd3c7;stroke:#8dd3c7;\" x=\"191.090934\" xlink:href=\"#maddc015b87\" y=\"101.736518\"/>\n     <use style=\"fill:#8dd3c7;stroke:#8dd3c7;\" x=\"190.355756\" xlink:href=\"#maddc015b87\" y=\"119.116836\"/>\n     <use style=\"fill:#8dd3c7;stroke:#8dd3c7;\" x=\"173.998048\" xlink:href=\"#maddc015b87\" y=\"166.043696\"/>\n     <use style=\"fill:#8dd3c7;stroke:#8dd3c7;\" x=\"164.256942\" xlink:href=\"#maddc015b87\" y=\"152.636022\"/>\n     <use style=\"fill:#8dd3c7;stroke:#8dd3c7;\" x=\"165.175914\" xlink:href=\"#maddc015b87\" y=\"121.599739\"/>\n     <use style=\"fill:#8dd3c7;stroke:#8dd3c7;\" x=\"267.917021\" xlink:href=\"#maddc015b87\" y=\"21.042182\"/>\n     <use style=\"fill:#8dd3c7;stroke:#8dd3c7;\" x=\"157.824135\" xlink:href=\"#maddc015b87\" y=\"111.047403\"/>\n     <use style=\"fill:#8dd3c7;stroke:#8dd3c7;\" x=\"190.907139\" xlink:href=\"#maddc015b87\" y=\"165.298826\"/>\n     <use style=\"fill:#8dd3c7;stroke:#8dd3c7;\" x=\"237.958523\" xlink:href=\"#maddc015b87\" y=\"137.490316\"/>\n     <use style=\"fill:#8dd3c7;stroke:#8dd3c7;\" x=\"122.903187\" xlink:href=\"#maddc015b87\" y=\"128.055286\"/>\n     <use style=\"fill:#8dd3c7;stroke:#8dd3c7;\" x=\"201.934807\" xlink:href=\"#maddc015b87\" y=\"44.381467\"/>\n     <use style=\"fill:#8dd3c7;stroke:#8dd3c7;\" x=\"152.861685\" xlink:href=\"#maddc015b87\" y=\"122.84119\"/>\n     <use style=\"fill:#8dd3c7;stroke:#8dd3c7;\" x=\"183.187772\" xlink:href=\"#maddc015b87\" y=\"120.358288\"/>\n     <use style=\"fill:#8dd3c7;stroke:#8dd3c7;\" x=\"169.95457\" xlink:href=\"#maddc015b87\" y=\"157.105247\"/>\n     <use style=\"fill:#8dd3c7;stroke:#8dd3c7;\" x=\"155.067218\" xlink:href=\"#maddc015b87\" y=\"129.048447\"/>\n     <use style=\"fill:#8dd3c7;stroke:#8dd3c7;\" x=\"144.223345\" xlink:href=\"#maddc015b87\" y=\"127.806996\"/>\n     <use style=\"fill:#8dd3c7;stroke:#8dd3c7;\" x=\"152.494096\" xlink:href=\"#maddc015b87\" y=\"129.545028\"/>\n     <use style=\"fill:#8dd3c7;stroke:#8dd3c7;\" x=\"160.213463\" xlink:href=\"#maddc015b87\" y=\"119.116836\"/>\n     <use style=\"fill:#8dd3c7;stroke:#8dd3c7;\" x=\"118.859708\" xlink:href=\"#maddc015b87\" y=\"152.636022\"/>\n     <use style=\"fill:#8dd3c7;stroke:#8dd3c7;\" x=\"174.365637\" xlink:href=\"#maddc015b87\" y=\"130.289898\"/>\n     <use style=\"fill:#8dd3c7;stroke:#8dd3c7;\" x=\"188.701606\" xlink:href=\"#maddc015b87\" y=\"141.46296\"/>\n     <use style=\"fill:#8dd3c7;stroke:#8dd3c7;\" x=\"241.083029\" xlink:href=\"#maddc015b87\" y=\"69.458784\"/>\n     <use style=\"fill:#8dd3c7;stroke:#8dd3c7;\" x=\"141.098839\" xlink:href=\"#maddc015b87\" y=\"136.497155\"/>\n     <use style=\"fill:#8dd3c7;stroke:#8dd3c7;\" x=\"218.476309\" xlink:href=\"#maddc015b87\" y=\"132.772801\"/>\n     <use style=\"fill:#8dd3c7;stroke:#8dd3c7;\" x=\"183.187772\" xlink:href=\"#maddc015b87\" y=\"143.325137\"/>\n     <use style=\"fill:#8dd3c7;stroke:#8dd3c7;\" x=\"183.371566\" xlink:href=\"#maddc015b87\" y=\"140.221509\"/>\n     <use style=\"fill:#8dd3c7;stroke:#8dd3c7;\" x=\"257.99212\" xlink:href=\"#maddc015b87\" y=\"14.834926\"/>\n     <use style=\"fill:#8dd3c7;stroke:#8dd3c7;\" x=\"149.002001\" xlink:href=\"#maddc015b87\" y=\"138.483477\"/>\n     <use style=\"fill:#8dd3c7;stroke:#8dd3c7;\" x=\"156.169985\" xlink:href=\"#maddc015b87\" y=\"147.670217\"/>\n     <use style=\"fill:#8dd3c7;stroke:#8dd3c7;\" x=\"171.792515\" xlink:href=\"#maddc015b87\" y=\"106.081598\"/>\n     <use style=\"fill:#8dd3c7;stroke:#8dd3c7;\" x=\"237.223345\" xlink:href=\"#maddc015b87\" y=\"100.495067\"/>\n     <use style=\"fill:#8dd3c7;stroke:#8dd3c7;\" x=\"207.81623\" xlink:href=\"#maddc015b87\" y=\"155.118925\"/>\n     <use style=\"fill:#8dd3c7;stroke:#8dd3c7;\" x=\"362.203582\" xlink:href=\"#maddc015b87\" y=\"32.215244\"/>\n     <use style=\"fill:#8dd3c7;stroke:#8dd3c7;\" x=\"144.958523\" xlink:href=\"#maddc015b87\" y=\"127.18627\"/>\n     <use style=\"fill:#8dd3c7;stroke:#8dd3c7;\" x=\"174.733226\" xlink:href=\"#maddc015b87\" y=\"123.337771\"/>\n     <use style=\"fill:#8dd3c7;stroke:#8dd3c7;\" x=\"186.312278\" xlink:href=\"#maddc015b87\" y=\"129.048447\"/>\n     <use style=\"fill:#8dd3c7;stroke:#8dd3c7;\" x=\"319.563266\" xlink:href=\"#maddc015b87\" y=\"58.906447\"/>\n     <use style=\"fill:#8dd3c7;stroke:#8dd3c7;\" x=\"153.780657\" xlink:href=\"#maddc015b87\" y=\"122.34461\"/>\n     <use style=\"fill:#8dd3c7;stroke:#8dd3c7;\" x=\"165.175914\" xlink:href=\"#maddc015b87\" y=\"99.253615\"/>\n     <use style=\"fill:#8dd3c7;stroke:#8dd3c7;\" x=\"171.792515\" xlink:href=\"#maddc015b87\" y=\"105.460872\"/>\n     <use style=\"fill:#8dd3c7;stroke:#8dd3c7;\" x=\"254.500025\" xlink:href=\"#maddc015b87\" y=\"42.146855\"/>\n     <use style=\"fill:#8dd3c7;stroke:#8dd3c7;\" x=\"156.169985\" xlink:href=\"#maddc015b87\" y=\"122.84119\"/>\n     <use style=\"fill:#8dd3c7;stroke:#8dd3c7;\" x=\"302.47038\" xlink:href=\"#maddc015b87\" y=\"88.080553\"/>\n     <use style=\"fill:#8dd3c7;stroke:#8dd3c7;\" x=\"190.171961\" xlink:href=\"#maddc015b87\" y=\"26.007987\"/>\n     <use style=\"fill:#8dd3c7;stroke:#8dd3c7;\" x=\"149.737179\" xlink:href=\"#maddc015b87\" y=\"155.118925\"/>\n     <use style=\"fill:#8dd3c7;stroke:#8dd3c7;\" x=\"168.484214\" xlink:href=\"#maddc015b87\" y=\"136.000574\"/>\n     <use style=\"fill:#8dd3c7;stroke:#8dd3c7;\" x=\"202.302396\" xlink:href=\"#maddc015b87\" y=\"107.323049\"/>\n     <use style=\"fill:#8dd3c7;stroke:#8dd3c7;\" x=\"154.883424\" xlink:href=\"#maddc015b87\" y=\"112.90958\"/>\n     <use style=\"fill:#8dd3c7;stroke:#8dd3c7;\" x=\"190.723345\" xlink:href=\"#maddc015b87\" y=\"84.3562\"/>\n     <use style=\"fill:#8dd3c7;stroke:#8dd3c7;\" x=\"183.555361\" xlink:href=\"#maddc015b87\" y=\"108.192065\"/>\n     <use style=\"fill:#8dd3c7;stroke:#8dd3c7;\" x=\"183.555361\" xlink:href=\"#maddc015b87\" y=\"80.631846\"/>\n     <use style=\"fill:#8dd3c7;stroke:#8dd3c7;\" x=\"102.86959\" xlink:href=\"#maddc015b87\" y=\"136.497155\"/>\n     <use style=\"fill:#8dd3c7;stroke:#8dd3c7;\" x=\"368.268799\" xlink:href=\"#maddc015b87\" y=\"35.939598\"/>\n     <use style=\"fill:#8dd3c7;stroke:#8dd3c7;\" x=\"271.225321\" xlink:href=\"#maddc015b87\" y=\"69.458784\"/>\n     <use style=\"fill:#8dd3c7;stroke:#8dd3c7;\" x=\"222.519788\" xlink:href=\"#maddc015b87\" y=\"44.629757\"/>\n     <use style=\"fill:#8dd3c7;stroke:#8dd3c7;\" x=\"182.820183\" xlink:href=\"#maddc015b87\" y=\"95.032681\"/>\n     <use style=\"fill:#8dd3c7;stroke:#8dd3c7;\" x=\"147.531645\" xlink:href=\"#maddc015b87\" y=\"121.599739\"/>\n     <use style=\"fill:#8dd3c7;stroke:#8dd3c7;\" x=\"81.549432\" xlink:href=\"#maddc015b87\" y=\"153.505038\"/>\n     <use style=\"fill:#8dd3c7;stroke:#8dd3c7;\" x=\"157.088958\" xlink:href=\"#maddc015b87\" y=\"131.53135\"/>\n     <use style=\"fill:#8dd3c7;stroke:#8dd3c7;\" x=\"147.164056\" xlink:href=\"#maddc015b87\" y=\"154.001619\"/>\n     <use style=\"fill:#8dd3c7;stroke:#8dd3c7;\" x=\"267.181843\" xlink:href=\"#maddc015b87\" y=\"80.631846\"/>\n     <use style=\"fill:#8dd3c7;stroke:#8dd3c7;\" x=\"190.171961\" xlink:href=\"#maddc015b87\" y=\"101.736518\"/>\n     <use style=\"fill:#8dd3c7;stroke:#8dd3c7;\" x=\"310.005954\" xlink:href=\"#maddc015b87\" y=\"66.975881\"/>\n     <use style=\"fill:#8dd3c7;stroke:#8dd3c7;\" x=\"165.175914\" xlink:href=\"#maddc015b87\" y=\"119.737562\"/>\n     <use style=\"fill:#8dd3c7;stroke:#8dd3c7;\" x=\"170.873542\" xlink:href=\"#maddc015b87\" y=\"112.90958\"/>\n     <use style=\"fill:#8dd3c7;stroke:#8dd3c7;\" x=\"195.318207\" xlink:href=\"#maddc015b87\" y=\"93.046359\"/>\n     <use style=\"fill:#8dd3c7;stroke:#8dd3c7;\" x=\"178.59291\" xlink:href=\"#maddc015b87\" y=\"155.49136\"/>\n     <use style=\"fill:#8dd3c7;stroke:#8dd3c7;\" x=\"171.792515\" xlink:href=\"#maddc015b87\" y=\"114.151031\"/>\n     <use style=\"fill:#8dd3c7;stroke:#8dd3c7;\" x=\"171.424926\" xlink:href=\"#maddc015b87\" y=\"128.800157\"/>\n     <use style=\"fill:#8dd3c7;stroke:#8dd3c7;\" x=\"166.830064\" xlink:href=\"#maddc015b87\" y=\"131.034769\"/>\n     <use style=\"fill:#8dd3c7;stroke:#8dd3c7;\" x=\"123.086981\" xlink:href=\"#maddc015b87\" y=\"144.939024\"/>\n     <use style=\"fill:#8dd3c7;stroke:#8dd3c7;\" x=\"170.505954\" xlink:href=\"#maddc015b87\" y=\"152.884312\"/>\n     <use style=\"fill:#8dd3c7;stroke:#8dd3c7;\" x=\"284.090934\" xlink:href=\"#maddc015b87\" y=\"125.324093\"/>\n     <use style=\"fill:#8dd3c7;stroke:#8dd3c7;\" x=\"341.986191\" xlink:href=\"#maddc015b87\" y=\"86.218376\"/>\n     <use style=\"fill:#8dd3c7;stroke:#8dd3c7;\" x=\"135.033622\" xlink:href=\"#maddc015b87\" y=\"124.579222\"/>\n     <use style=\"fill:#8dd3c7;stroke:#8dd3c7;\" x=\"209.47038\" xlink:href=\"#maddc015b87\" y=\"101.239937\"/>\n     <use style=\"fill:#8dd3c7;stroke:#8dd3c7;\" x=\"169.403187\" xlink:href=\"#maddc015b87\" y=\"151.394571\"/>\n     <use style=\"fill:#8dd3c7;stroke:#8dd3c7;\" x=\"296.405163\" xlink:href=\"#maddc015b87\" y=\"70.700235\"/>\n     <use style=\"fill:#8dd3c7;stroke:#8dd3c7;\" x=\"174.181843\" xlink:href=\"#maddc015b87\" y=\"60.768624\"/>\n     <use style=\"fill:#8dd3c7;stroke:#8dd3c7;\" x=\"163.705558\" xlink:href=\"#maddc015b87\" y=\"123.337771\"/>\n     <use style=\"fill:#8dd3c7;stroke:#8dd3c7;\" x=\"146.612673\" xlink:href=\"#maddc015b87\" y=\"137.738606\"/>\n     <use style=\"fill:#8dd3c7;stroke:#8dd3c7;\" x=\"174.365637\" xlink:href=\"#maddc015b87\" y=\"131.77964\"/>\n     <use style=\"fill:#8dd3c7;stroke:#8dd3c7;\" x=\"237.223345\" xlink:href=\"#maddc015b87\" y=\"105.460872\"/>\n     <use style=\"fill:#8dd3c7;stroke:#8dd3c7;\" x=\"227.298444\" xlink:href=\"#maddc015b87\" y=\"53.319917\"/>\n     <use style=\"fill:#8dd3c7;stroke:#8dd3c7;\" x=\"267.365637\" xlink:href=\"#maddc015b87\" y=\"93.046359\"/>\n     <use style=\"fill:#8dd3c7;stroke:#8dd3c7;\" x=\"156.905163\" xlink:href=\"#maddc015b87\" y=\"127.806996\"/>\n     <use style=\"fill:#8dd3c7;stroke:#8dd3c7;\" x=\"298.426902\" xlink:href=\"#maddc015b87\" y=\"38.422501\"/>\n     <use style=\"fill:#8dd3c7;stroke:#8dd3c7;\" x=\"187.966428\" xlink:href=\"#maddc015b87\" y=\"163.064213\"/>\n     <use style=\"fill:#8dd3c7;stroke:#8dd3c7;\" x=\"162.602792\" xlink:href=\"#maddc015b87\" y=\"162.567633\"/>\n     <use style=\"fill:#8dd3c7;stroke:#8dd3c7;\" x=\"159.66208\" xlink:href=\"#maddc015b87\" y=\"122.84119\"/>\n     <use style=\"fill:#8dd3c7;stroke:#8dd3c7;\" x=\"207.81623\" xlink:href=\"#maddc015b87\" y=\"110.923258\"/>\n     <use style=\"fill:#8dd3c7;stroke:#8dd3c7;\" x=\"145.877495\" xlink:href=\"#maddc015b87\" y=\"132.772801\"/>\n     <use style=\"fill:#8dd3c7;stroke:#8dd3c7;\" x=\"134.849827\" xlink:href=\"#maddc015b87\" y=\"124.827513\"/>\n     <use style=\"fill:#8dd3c7;stroke:#8dd3c7;\" x=\"172.160104\" xlink:href=\"#maddc015b87\" y=\"91.804907\"/>\n     <use style=\"fill:#8dd3c7;stroke:#8dd3c7;\" x=\"112.059313\" xlink:href=\"#maddc015b87\" y=\"109.185226\"/>\n     <use style=\"fill:#8dd3c7;stroke:#8dd3c7;\" x=\"128.049432\" xlink:href=\"#maddc015b87\" y=\"122.220465\"/>\n     <use style=\"fill:#8dd3c7;stroke:#8dd3c7;\" x=\"166.094886\" xlink:href=\"#maddc015b87\" y=\"160.08473\"/>\n     <use style=\"fill:#8dd3c7;stroke:#8dd3c7;\" x=\"149.36959\" xlink:href=\"#maddc015b87\" y=\"120.606578\"/>\n     <use style=\"fill:#8dd3c7;stroke:#8dd3c7;\" x=\"232.0771\" xlink:href=\"#maddc015b87\" y=\"70.700235\"/>\n     <use style=\"fill:#8dd3c7;stroke:#8dd3c7;\" x=\"143.855756\" xlink:href=\"#maddc015b87\" y=\"120.854868\"/>\n     <use style=\"fill:#8dd3c7;stroke:#8dd3c7;\" x=\"206.713463\" xlink:href=\"#maddc015b87\" y=\"144.690734\"/>\n     <use style=\"fill:#8dd3c7;stroke:#8dd3c7;\" x=\"168.30042\" xlink:href=\"#maddc015b87\" y=\"148.911668\"/>\n     <use style=\"fill:#8dd3c7;stroke:#8dd3c7;\" x=\"308.351803\" xlink:href=\"#maddc015b87\" y=\"50.837014\"/>\n     <use style=\"fill:#8dd3c7;stroke:#8dd3c7;\" x=\"362.203582\" xlink:href=\"#maddc015b87\" y=\"38.17421\"/>\n     <use style=\"fill:#8dd3c7;stroke:#8dd3c7;\" x=\"269.019788\" xlink:href=\"#maddc015b87\" y=\"136.993735\"/>\n     <use style=\"fill:#8dd3c7;stroke:#8dd3c7;\" x=\"174.549432\" xlink:href=\"#maddc015b87\" y=\"162.319342\"/>\n     <use style=\"fill:#8dd3c7;stroke:#8dd3c7;\" x=\"148.083029\" xlink:href=\"#maddc015b87\" y=\"140.842235\"/>\n     <use style=\"fill:#8dd3c7;stroke:#8dd3c7;\" x=\"164.99212\" xlink:href=\"#maddc015b87\" y=\"151.394571\"/>\n     <use style=\"fill:#8dd3c7;stroke:#8dd3c7;\" x=\"298.610697\" xlink:href=\"#maddc015b87\" y=\"27.249439\"/>\n     <use style=\"fill:#8dd3c7;stroke:#8dd3c7;\" x=\"193.296467\" xlink:href=\"#maddc015b87\" y=\"160.33302\"/>\n     <use style=\"fill:#8dd3c7;stroke:#8dd3c7;\" x=\"154.148246\" xlink:href=\"#maddc015b87\" y=\"118.123675\"/>\n     <use style=\"fill:#8dd3c7;stroke:#8dd3c7;\" x=\"146.06129\" xlink:href=\"#maddc015b87\" y=\"133.393527\"/>\n     <use style=\"fill:#8dd3c7;stroke:#8dd3c7;\" x=\"131.173938\" xlink:href=\"#maddc015b87\" y=\"128.551866\"/>\n     <use style=\"fill:#8dd3c7;stroke:#8dd3c7;\" x=\"203.037574\" xlink:href=\"#maddc015b87\" y=\"96.274132\"/>\n     <use style=\"fill:#8dd3c7;stroke:#8dd3c7;\" x=\"174.917021\" xlink:href=\"#maddc015b87\" y=\"138.483477\"/>\n     <use style=\"fill:#8dd3c7;stroke:#8dd3c7;\" x=\"165.175914\" xlink:href=\"#maddc015b87\" y=\"140.221509\"/>\n     <use style=\"fill:#8dd3c7;stroke:#8dd3c7;\" x=\"208.551408\" xlink:href=\"#maddc015b87\" y=\"98.012164\"/>\n     <use style=\"fill:#8dd3c7;stroke:#8dd3c7;\" x=\"143.488167\" xlink:href=\"#maddc015b87\" y=\"119.116836\"/>\n     <use style=\"fill:#8dd3c7;stroke:#8dd3c7;\" x=\"172.527693\" xlink:href=\"#maddc015b87\" y=\"107.943775\"/>\n     <use style=\"fill:#8dd3c7;stroke:#8dd3c7;\" x=\"250.824135\" xlink:href=\"#maddc015b87\" y=\"136.497155\"/>\n     <use style=\"fill:#8dd3c7;stroke:#8dd3c7;\" x=\"160.764847\" xlink:href=\"#maddc015b87\" y=\"107.695484\"/>\n    </g>\n   </g>\n   <g id=\"matplotlib.axis_1\">\n    <g id=\"xtick_1\">\n     <g id=\"line2d_1\">\n      <defs>\n       <path d=\"M 0 0 \nL 0 3.5 \n\" id=\"m43662a8a25\" style=\"stroke:#ffffff;stroke-width:0.8;\"/>\n      </defs>\n      <g>\n       <use style=\"fill:#ffffff;stroke:#ffffff;stroke-width:0.8;\" x=\"81.733226\" xlink:href=\"#m43662a8a25\" y=\"224.64\"/>\n      </g>\n     </g>\n     <g id=\"text_1\">\n      <!-- 250 -->\n      <g style=\"fill:#ffffff;\" transform=\"translate(72.189476 239.238437)scale(0.1 -0.1)\">\n       <defs>\n        <path d=\"M 19.1875 8.296875 \nL 53.609375 8.296875 \nL 53.609375 0 \nL 7.328125 0 \nL 7.328125 8.296875 \nQ 12.9375 14.109375 22.625 23.890625 \nQ 32.328125 33.6875 34.8125 36.53125 \nQ 39.546875 41.84375 41.421875 45.53125 \nQ 43.3125 49.21875 43.3125 52.78125 \nQ 43.3125 58.59375 39.234375 62.25 \nQ 35.15625 65.921875 28.609375 65.921875 \nQ 23.96875 65.921875 18.8125 64.3125 \nQ 13.671875 62.703125 7.8125 59.421875 \nL 7.8125 69.390625 \nQ 13.765625 71.78125 18.9375 73 \nQ 24.125 74.21875 28.421875 74.21875 \nQ 39.75 74.21875 46.484375 68.546875 \nQ 53.21875 62.890625 53.21875 53.421875 \nQ 53.21875 48.921875 51.53125 44.890625 \nQ 49.859375 40.875 45.40625 35.40625 \nQ 44.1875 33.984375 37.640625 27.21875 \nQ 31.109375 20.453125 19.1875 8.296875 \nz\n\" id=\"DejaVuSans-50\"/>\n        <path d=\"M 10.796875 72.90625 \nL 49.515625 72.90625 \nL 49.515625 64.59375 \nL 19.828125 64.59375 \nL 19.828125 46.734375 \nQ 21.96875 47.46875 24.109375 47.828125 \nQ 26.265625 48.1875 28.421875 48.1875 \nQ 40.625 48.1875 47.75 41.5 \nQ 54.890625 34.8125 54.890625 23.390625 \nQ 54.890625 11.625 47.5625 5.09375 \nQ 40.234375 -1.421875 26.90625 -1.421875 \nQ 22.3125 -1.421875 17.546875 -0.640625 \nQ 12.796875 0.140625 7.71875 1.703125 \nL 7.71875 11.625 \nQ 12.109375 9.234375 16.796875 8.0625 \nQ 21.484375 6.890625 26.703125 6.890625 \nQ 35.15625 6.890625 40.078125 11.328125 \nQ 45.015625 15.765625 45.015625 23.390625 \nQ 45.015625 31 40.078125 35.4375 \nQ 35.15625 39.890625 26.703125 39.890625 \nQ 22.75 39.890625 18.8125 39.015625 \nQ 14.890625 38.140625 10.796875 36.28125 \nz\n\" id=\"DejaVuSans-53\"/>\n        <path d=\"M 31.78125 66.40625 \nQ 24.171875 66.40625 20.328125 58.90625 \nQ 16.5 51.421875 16.5 36.375 \nQ 16.5 21.390625 20.328125 13.890625 \nQ 24.171875 6.390625 31.78125 6.390625 \nQ 39.453125 6.390625 43.28125 13.890625 \nQ 47.125 21.390625 47.125 36.375 \nQ 47.125 51.421875 43.28125 58.90625 \nQ 39.453125 66.40625 31.78125 66.40625 \nz\nM 31.78125 74.21875 \nQ 44.046875 74.21875 50.515625 64.515625 \nQ 56.984375 54.828125 56.984375 36.375 \nQ 56.984375 17.96875 50.515625 8.265625 \nQ 44.046875 -1.421875 31.78125 -1.421875 \nQ 19.53125 -1.421875 13.0625 8.265625 \nQ 6.59375 17.96875 6.59375 36.375 \nQ 6.59375 54.828125 13.0625 64.515625 \nQ 19.53125 74.21875 31.78125 74.21875 \nz\n\" id=\"DejaVuSans-48\"/>\n       </defs>\n       <use xlink:href=\"#DejaVuSans-50\"/>\n       <use x=\"63.623047\" xlink:href=\"#DejaVuSans-53\"/>\n       <use x=\"127.246094\" xlink:href=\"#DejaVuSans-48\"/>\n      </g>\n     </g>\n    </g>\n    <g id=\"xtick_2\">\n     <g id=\"line2d_2\">\n      <g>\n       <use style=\"fill:#ffffff;stroke:#ffffff;stroke-width:0.8;\" x=\"127.681843\" xlink:href=\"#m43662a8a25\" y=\"224.64\"/>\n      </g>\n     </g>\n     <g id=\"text_2\">\n      <!-- 500 -->\n      <g style=\"fill:#ffffff;\" transform=\"translate(118.138093 239.238437)scale(0.1 -0.1)\">\n       <use xlink:href=\"#DejaVuSans-53\"/>\n       <use x=\"63.623047\" xlink:href=\"#DejaVuSans-48\"/>\n       <use x=\"127.246094\" xlink:href=\"#DejaVuSans-48\"/>\n      </g>\n     </g>\n    </g>\n    <g id=\"xtick_3\">\n     <g id=\"line2d_3\">\n      <g>\n       <use style=\"fill:#ffffff;stroke:#ffffff;stroke-width:0.8;\" x=\"173.630459\" xlink:href=\"#m43662a8a25\" y=\"224.64\"/>\n      </g>\n     </g>\n     <g id=\"text_3\">\n      <!-- 750 -->\n      <g style=\"fill:#ffffff;\" transform=\"translate(164.086709 239.238437)scale(0.1 -0.1)\">\n       <defs>\n        <path d=\"M 8.203125 72.90625 \nL 55.078125 72.90625 \nL 55.078125 68.703125 \nL 28.609375 0 \nL 18.3125 0 \nL 43.21875 64.59375 \nL 8.203125 64.59375 \nz\n\" id=\"DejaVuSans-55\"/>\n       </defs>\n       <use xlink:href=\"#DejaVuSans-55\"/>\n       <use x=\"63.623047\" xlink:href=\"#DejaVuSans-53\"/>\n       <use x=\"127.246094\" xlink:href=\"#DejaVuSans-48\"/>\n      </g>\n     </g>\n    </g>\n    <g id=\"xtick_4\">\n     <g id=\"line2d_4\">\n      <g>\n       <use style=\"fill:#ffffff;stroke:#ffffff;stroke-width:0.8;\" x=\"219.579076\" xlink:href=\"#m43662a8a25\" y=\"224.64\"/>\n      </g>\n     </g>\n     <g id=\"text_4\">\n      <!-- 1000 -->\n      <g style=\"fill:#ffffff;\" transform=\"translate(206.854076 239.238437)scale(0.1 -0.1)\">\n       <defs>\n        <path d=\"M 12.40625 8.296875 \nL 28.515625 8.296875 \nL 28.515625 63.921875 \nL 10.984375 60.40625 \nL 10.984375 69.390625 \nL 28.421875 72.90625 \nL 38.28125 72.90625 \nL 38.28125 8.296875 \nL 54.390625 8.296875 \nL 54.390625 0 \nL 12.40625 0 \nz\n\" id=\"DejaVuSans-49\"/>\n       </defs>\n       <use xlink:href=\"#DejaVuSans-49\"/>\n       <use x=\"63.623047\" xlink:href=\"#DejaVuSans-48\"/>\n       <use x=\"127.246094\" xlink:href=\"#DejaVuSans-48\"/>\n       <use x=\"190.869141\" xlink:href=\"#DejaVuSans-48\"/>\n      </g>\n     </g>\n    </g>\n    <g id=\"xtick_5\">\n     <g id=\"line2d_5\">\n      <g>\n       <use style=\"fill:#ffffff;stroke:#ffffff;stroke-width:0.8;\" x=\"265.527693\" xlink:href=\"#m43662a8a25\" y=\"224.64\"/>\n      </g>\n     </g>\n     <g id=\"text_5\">\n      <!-- 1250 -->\n      <g style=\"fill:#ffffff;\" transform=\"translate(252.802693 239.238437)scale(0.1 -0.1)\">\n       <use xlink:href=\"#DejaVuSans-49\"/>\n       <use x=\"63.623047\" xlink:href=\"#DejaVuSans-50\"/>\n       <use x=\"127.246094\" xlink:href=\"#DejaVuSans-53\"/>\n       <use x=\"190.869141\" xlink:href=\"#DejaVuSans-48\"/>\n      </g>\n     </g>\n    </g>\n    <g id=\"xtick_6\">\n     <g id=\"line2d_6\">\n      <g>\n       <use style=\"fill:#ffffff;stroke:#ffffff;stroke-width:0.8;\" x=\"311.476309\" xlink:href=\"#m43662a8a25\" y=\"224.64\"/>\n      </g>\n     </g>\n     <g id=\"text_6\">\n      <!-- 1500 -->\n      <g style=\"fill:#ffffff;\" transform=\"translate(298.751309 239.238437)scale(0.1 -0.1)\">\n       <use xlink:href=\"#DejaVuSans-49\"/>\n       <use x=\"63.623047\" xlink:href=\"#DejaVuSans-53\"/>\n       <use x=\"127.246094\" xlink:href=\"#DejaVuSans-48\"/>\n       <use x=\"190.869141\" xlink:href=\"#DejaVuSans-48\"/>\n      </g>\n     </g>\n    </g>\n    <g id=\"xtick_7\">\n     <g id=\"line2d_7\">\n      <g>\n       <use style=\"fill:#ffffff;stroke:#ffffff;stroke-width:0.8;\" x=\"357.424926\" xlink:href=\"#m43662a8a25\" y=\"224.64\"/>\n      </g>\n     </g>\n     <g id=\"text_7\">\n      <!-- 1750 -->\n      <g style=\"fill:#ffffff;\" transform=\"translate(344.699926 239.238437)scale(0.1 -0.1)\">\n       <use xlink:href=\"#DejaVuSans-49\"/>\n       <use x=\"63.623047\" xlink:href=\"#DejaVuSans-55\"/>\n       <use x=\"127.246094\" xlink:href=\"#DejaVuSans-53\"/>\n       <use x=\"190.869141\" xlink:href=\"#DejaVuSans-48\"/>\n      </g>\n     </g>\n    </g>\n    <g id=\"text_8\">\n     <!-- landArea -->\n     <g style=\"fill:#ffffff;\" transform=\"translate(211.43125 252.916562)scale(0.1 -0.1)\">\n      <defs>\n       <path d=\"M 9.421875 75.984375 \nL 18.40625 75.984375 \nL 18.40625 0 \nL 9.421875 0 \nz\n\" id=\"DejaVuSans-108\"/>\n       <path d=\"M 34.28125 27.484375 \nQ 23.390625 27.484375 19.1875 25 \nQ 14.984375 22.515625 14.984375 16.5 \nQ 14.984375 11.71875 18.140625 8.90625 \nQ 21.296875 6.109375 26.703125 6.109375 \nQ 34.1875 6.109375 38.703125 11.40625 \nQ 43.21875 16.703125 43.21875 25.484375 \nL 43.21875 27.484375 \nz\nM 52.203125 31.203125 \nL 52.203125 0 \nL 43.21875 0 \nL 43.21875 8.296875 \nQ 40.140625 3.328125 35.546875 0.953125 \nQ 30.953125 -1.421875 24.3125 -1.421875 \nQ 15.921875 -1.421875 10.953125 3.296875 \nQ 6 8.015625 6 15.921875 \nQ 6 25.140625 12.171875 29.828125 \nQ 18.359375 34.515625 30.609375 34.515625 \nL 43.21875 34.515625 \nL 43.21875 35.40625 \nQ 43.21875 41.609375 39.140625 45 \nQ 35.0625 48.390625 27.6875 48.390625 \nQ 23 48.390625 18.546875 47.265625 \nQ 14.109375 46.140625 10.015625 43.890625 \nL 10.015625 52.203125 \nQ 14.9375 54.109375 19.578125 55.046875 \nQ 24.21875 56 28.609375 56 \nQ 40.484375 56 46.34375 49.84375 \nQ 52.203125 43.703125 52.203125 31.203125 \nz\n\" id=\"DejaVuSans-97\"/>\n       <path d=\"M 54.890625 33.015625 \nL 54.890625 0 \nL 45.90625 0 \nL 45.90625 32.71875 \nQ 45.90625 40.484375 42.875 44.328125 \nQ 39.84375 48.1875 33.796875 48.1875 \nQ 26.515625 48.1875 22.3125 43.546875 \nQ 18.109375 38.921875 18.109375 30.90625 \nL 18.109375 0 \nL 9.078125 0 \nL 9.078125 54.6875 \nL 18.109375 54.6875 \nL 18.109375 46.1875 \nQ 21.34375 51.125 25.703125 53.5625 \nQ 30.078125 56 35.796875 56 \nQ 45.21875 56 50.046875 50.171875 \nQ 54.890625 44.34375 54.890625 33.015625 \nz\n\" id=\"DejaVuSans-110\"/>\n       <path d=\"M 45.40625 46.390625 \nL 45.40625 75.984375 \nL 54.390625 75.984375 \nL 54.390625 0 \nL 45.40625 0 \nL 45.40625 8.203125 \nQ 42.578125 3.328125 38.25 0.953125 \nQ 33.9375 -1.421875 27.875 -1.421875 \nQ 17.96875 -1.421875 11.734375 6.484375 \nQ 5.515625 14.40625 5.515625 27.296875 \nQ 5.515625 40.1875 11.734375 48.09375 \nQ 17.96875 56 27.875 56 \nQ 33.9375 56 38.25 53.625 \nQ 42.578125 51.265625 45.40625 46.390625 \nz\nM 14.796875 27.296875 \nQ 14.796875 17.390625 18.875 11.75 \nQ 22.953125 6.109375 30.078125 6.109375 \nQ 37.203125 6.109375 41.296875 11.75 \nQ 45.40625 17.390625 45.40625 27.296875 \nQ 45.40625 37.203125 41.296875 42.84375 \nQ 37.203125 48.484375 30.078125 48.484375 \nQ 22.953125 48.484375 18.875 42.84375 \nQ 14.796875 37.203125 14.796875 27.296875 \nz\n\" id=\"DejaVuSans-100\"/>\n       <path d=\"M 34.1875 63.1875 \nL 20.796875 26.90625 \nL 47.609375 26.90625 \nz\nM 28.609375 72.90625 \nL 39.796875 72.90625 \nL 67.578125 0 \nL 57.328125 0 \nL 50.6875 18.703125 \nL 17.828125 18.703125 \nL 11.1875 0 \nL 0.78125 0 \nz\n\" id=\"DejaVuSans-65\"/>\n       <path d=\"M 41.109375 46.296875 \nQ 39.59375 47.171875 37.8125 47.578125 \nQ 36.03125 48 33.890625 48 \nQ 26.265625 48 22.1875 43.046875 \nQ 18.109375 38.09375 18.109375 28.8125 \nL 18.109375 0 \nL 9.078125 0 \nL 9.078125 54.6875 \nL 18.109375 54.6875 \nL 18.109375 46.1875 \nQ 20.953125 51.171875 25.484375 53.578125 \nQ 30.03125 56 36.53125 56 \nQ 37.453125 56 38.578125 55.875 \nQ 39.703125 55.765625 41.0625 55.515625 \nz\n\" id=\"DejaVuSans-114\"/>\n       <path d=\"M 56.203125 29.59375 \nL 56.203125 25.203125 \nL 14.890625 25.203125 \nQ 15.484375 15.921875 20.484375 11.0625 \nQ 25.484375 6.203125 34.421875 6.203125 \nQ 39.59375 6.203125 44.453125 7.46875 \nQ 49.3125 8.734375 54.109375 11.28125 \nL 54.109375 2.78125 \nQ 49.265625 0.734375 44.1875 -0.34375 \nQ 39.109375 -1.421875 33.890625 -1.421875 \nQ 20.796875 -1.421875 13.15625 6.1875 \nQ 5.515625 13.8125 5.515625 26.8125 \nQ 5.515625 40.234375 12.765625 48.109375 \nQ 20.015625 56 32.328125 56 \nQ 43.359375 56 49.78125 48.890625 \nQ 56.203125 41.796875 56.203125 29.59375 \nz\nM 47.21875 32.234375 \nQ 47.125 39.59375 43.09375 43.984375 \nQ 39.0625 48.390625 32.421875 48.390625 \nQ 24.90625 48.390625 20.390625 44.140625 \nQ 15.875 39.890625 15.1875 32.171875 \nz\n\" id=\"DejaVuSans-101\"/>\n      </defs>\n      <use xlink:href=\"#DejaVuSans-108\"/>\n      <use x=\"27.783203\" xlink:href=\"#DejaVuSans-97\"/>\n      <use x=\"89.0625\" xlink:href=\"#DejaVuSans-110\"/>\n      <use x=\"152.441406\" xlink:href=\"#DejaVuSans-100\"/>\n      <use x=\"215.917969\" xlink:href=\"#DejaVuSans-65\"/>\n      <use x=\"284.326172\" xlink:href=\"#DejaVuSans-114\"/>\n      <use x=\"323.189453\" xlink:href=\"#DejaVuSans-101\"/>\n      <use x=\"384.712891\" xlink:href=\"#DejaVuSans-97\"/>\n     </g>\n    </g>\n   </g>\n   <g id=\"matplotlib.axis_2\">\n    <g id=\"ytick_1\">\n     <g id=\"line2d_8\">\n      <defs>\n       <path d=\"M 0 0 \nL -3.5 0 \n\" id=\"m9456f10a90\" style=\"stroke:#ffffff;stroke-width:0.8;\"/>\n      </defs>\n      <g>\n       <use style=\"fill:#ffffff;stroke:#ffffff;stroke-width:0.8;\" x=\"66.33125\" xlink:href=\"#m9456f10a90\" y=\"199.811172\"/>\n      </g>\n     </g>\n     <g id=\"text_9\">\n      <!-- 100000 -->\n      <g style=\"fill:#ffffff;\" transform=\"translate(21.15625 203.610391)scale(0.1 -0.1)\">\n       <use xlink:href=\"#DejaVuSans-49\"/>\n       <use x=\"63.623047\" xlink:href=\"#DejaVuSans-48\"/>\n       <use x=\"127.246094\" xlink:href=\"#DejaVuSans-48\"/>\n       <use x=\"190.869141\" xlink:href=\"#DejaVuSans-48\"/>\n       <use x=\"254.492188\" xlink:href=\"#DejaVuSans-48\"/>\n       <use x=\"318.115234\" xlink:href=\"#DejaVuSans-48\"/>\n      </g>\n     </g>\n    </g>\n    <g id=\"ytick_2\">\n     <g id=\"line2d_9\">\n      <g>\n       <use style=\"fill:#ffffff;stroke:#ffffff;stroke-width:0.8;\" x=\"66.33125\" xlink:href=\"#m9456f10a90\" y=\"174.982146\"/>\n      </g>\n     </g>\n     <g id=\"text_10\">\n      <!-- 200000 -->\n      <g style=\"fill:#ffffff;\" transform=\"translate(21.15625 178.781365)scale(0.1 -0.1)\">\n       <use xlink:href=\"#DejaVuSans-50\"/>\n       <use x=\"63.623047\" xlink:href=\"#DejaVuSans-48\"/>\n       <use x=\"127.246094\" xlink:href=\"#DejaVuSans-48\"/>\n       <use x=\"190.869141\" xlink:href=\"#DejaVuSans-48\"/>\n       <use x=\"254.492188\" xlink:href=\"#DejaVuSans-48\"/>\n       <use x=\"318.115234\" xlink:href=\"#DejaVuSans-48\"/>\n      </g>\n     </g>\n    </g>\n    <g id=\"ytick_3\">\n     <g id=\"line2d_10\">\n      <g>\n       <use style=\"fill:#ffffff;stroke:#ffffff;stroke-width:0.8;\" x=\"66.33125\" xlink:href=\"#m9456f10a90\" y=\"150.153119\"/>\n      </g>\n     </g>\n     <g id=\"text_11\">\n      <!-- 300000 -->\n      <g style=\"fill:#ffffff;\" transform=\"translate(21.15625 153.952338)scale(0.1 -0.1)\">\n       <defs>\n        <path d=\"M 40.578125 39.3125 \nQ 47.65625 37.796875 51.625 33 \nQ 55.609375 28.21875 55.609375 21.1875 \nQ 55.609375 10.40625 48.1875 4.484375 \nQ 40.765625 -1.421875 27.09375 -1.421875 \nQ 22.515625 -1.421875 17.65625 -0.515625 \nQ 12.796875 0.390625 7.625 2.203125 \nL 7.625 11.71875 \nQ 11.71875 9.328125 16.59375 8.109375 \nQ 21.484375 6.890625 26.8125 6.890625 \nQ 36.078125 6.890625 40.9375 10.546875 \nQ 45.796875 14.203125 45.796875 21.1875 \nQ 45.796875 27.640625 41.28125 31.265625 \nQ 36.765625 34.90625 28.71875 34.90625 \nL 20.21875 34.90625 \nL 20.21875 43.015625 \nL 29.109375 43.015625 \nQ 36.375 43.015625 40.234375 45.921875 \nQ 44.09375 48.828125 44.09375 54.296875 \nQ 44.09375 59.90625 40.109375 62.90625 \nQ 36.140625 65.921875 28.71875 65.921875 \nQ 24.65625 65.921875 20.015625 65.03125 \nQ 15.375 64.15625 9.8125 62.3125 \nL 9.8125 71.09375 \nQ 15.4375 72.65625 20.34375 73.4375 \nQ 25.25 74.21875 29.59375 74.21875 \nQ 40.828125 74.21875 47.359375 69.109375 \nQ 53.90625 64.015625 53.90625 55.328125 \nQ 53.90625 49.265625 50.4375 45.09375 \nQ 46.96875 40.921875 40.578125 39.3125 \nz\n\" id=\"DejaVuSans-51\"/>\n       </defs>\n       <use xlink:href=\"#DejaVuSans-51\"/>\n       <use x=\"63.623047\" xlink:href=\"#DejaVuSans-48\"/>\n       <use x=\"127.246094\" xlink:href=\"#DejaVuSans-48\"/>\n       <use x=\"190.869141\" xlink:href=\"#DejaVuSans-48\"/>\n       <use x=\"254.492188\" xlink:href=\"#DejaVuSans-48\"/>\n       <use x=\"318.115234\" xlink:href=\"#DejaVuSans-48\"/>\n      </g>\n     </g>\n    </g>\n    <g id=\"ytick_4\">\n     <g id=\"line2d_11\">\n      <g>\n       <use style=\"fill:#ffffff;stroke:#ffffff;stroke-width:0.8;\" x=\"66.33125\" xlink:href=\"#m9456f10a90\" y=\"125.324093\"/>\n      </g>\n     </g>\n     <g id=\"text_12\">\n      <!-- 400000 -->\n      <g style=\"fill:#ffffff;\" transform=\"translate(21.15625 129.123312)scale(0.1 -0.1)\">\n       <defs>\n        <path d=\"M 37.796875 64.3125 \nL 12.890625 25.390625 \nL 37.796875 25.390625 \nz\nM 35.203125 72.90625 \nL 47.609375 72.90625 \nL 47.609375 25.390625 \nL 58.015625 25.390625 \nL 58.015625 17.1875 \nL 47.609375 17.1875 \nL 47.609375 0 \nL 37.796875 0 \nL 37.796875 17.1875 \nL 4.890625 17.1875 \nL 4.890625 26.703125 \nz\n\" id=\"DejaVuSans-52\"/>\n       </defs>\n       <use xlink:href=\"#DejaVuSans-52\"/>\n       <use x=\"63.623047\" xlink:href=\"#DejaVuSans-48\"/>\n       <use x=\"127.246094\" xlink:href=\"#DejaVuSans-48\"/>\n       <use x=\"190.869141\" xlink:href=\"#DejaVuSans-48\"/>\n       <use x=\"254.492188\" xlink:href=\"#DejaVuSans-48\"/>\n       <use x=\"318.115234\" xlink:href=\"#DejaVuSans-48\"/>\n      </g>\n     </g>\n    </g>\n    <g id=\"ytick_5\">\n     <g id=\"line2d_12\">\n      <g>\n       <use style=\"fill:#ffffff;stroke:#ffffff;stroke-width:0.8;\" x=\"66.33125\" xlink:href=\"#m9456f10a90\" y=\"100.495067\"/>\n      </g>\n     </g>\n     <g id=\"text_13\">\n      <!-- 500000 -->\n      <g style=\"fill:#ffffff;\" transform=\"translate(21.15625 104.294285)scale(0.1 -0.1)\">\n       <use xlink:href=\"#DejaVuSans-53\"/>\n       <use x=\"63.623047\" xlink:href=\"#DejaVuSans-48\"/>\n       <use x=\"127.246094\" xlink:href=\"#DejaVuSans-48\"/>\n       <use x=\"190.869141\" xlink:href=\"#DejaVuSans-48\"/>\n       <use x=\"254.492188\" xlink:href=\"#DejaVuSans-48\"/>\n       <use x=\"318.115234\" xlink:href=\"#DejaVuSans-48\"/>\n      </g>\n     </g>\n    </g>\n    <g id=\"ytick_6\">\n     <g id=\"line2d_13\">\n      <g>\n       <use style=\"fill:#ffffff;stroke:#ffffff;stroke-width:0.8;\" x=\"66.33125\" xlink:href=\"#m9456f10a90\" y=\"75.66604\"/>\n      </g>\n     </g>\n     <g id=\"text_14\">\n      <!-- 600000 -->\n      <g style=\"fill:#ffffff;\" transform=\"translate(21.15625 79.465259)scale(0.1 -0.1)\">\n       <defs>\n        <path d=\"M 33.015625 40.375 \nQ 26.375 40.375 22.484375 35.828125 \nQ 18.609375 31.296875 18.609375 23.390625 \nQ 18.609375 15.53125 22.484375 10.953125 \nQ 26.375 6.390625 33.015625 6.390625 \nQ 39.65625 6.390625 43.53125 10.953125 \nQ 47.40625 15.53125 47.40625 23.390625 \nQ 47.40625 31.296875 43.53125 35.828125 \nQ 39.65625 40.375 33.015625 40.375 \nz\nM 52.59375 71.296875 \nL 52.59375 62.3125 \nQ 48.875 64.0625 45.09375 64.984375 \nQ 41.3125 65.921875 37.59375 65.921875 \nQ 27.828125 65.921875 22.671875 59.328125 \nQ 17.53125 52.734375 16.796875 39.40625 \nQ 19.671875 43.65625 24.015625 45.921875 \nQ 28.375 48.1875 33.59375 48.1875 \nQ 44.578125 48.1875 50.953125 41.515625 \nQ 57.328125 34.859375 57.328125 23.390625 \nQ 57.328125 12.15625 50.6875 5.359375 \nQ 44.046875 -1.421875 33.015625 -1.421875 \nQ 20.359375 -1.421875 13.671875 8.265625 \nQ 6.984375 17.96875 6.984375 36.375 \nQ 6.984375 53.65625 15.1875 63.9375 \nQ 23.390625 74.21875 37.203125 74.21875 \nQ 40.921875 74.21875 44.703125 73.484375 \nQ 48.484375 72.75 52.59375 71.296875 \nz\n\" id=\"DejaVuSans-54\"/>\n       </defs>\n       <use xlink:href=\"#DejaVuSans-54\"/>\n       <use x=\"63.623047\" xlink:href=\"#DejaVuSans-48\"/>\n       <use x=\"127.246094\" xlink:href=\"#DejaVuSans-48\"/>\n       <use x=\"190.869141\" xlink:href=\"#DejaVuSans-48\"/>\n       <use x=\"254.492188\" xlink:href=\"#DejaVuSans-48\"/>\n       <use x=\"318.115234\" xlink:href=\"#DejaVuSans-48\"/>\n      </g>\n     </g>\n    </g>\n    <g id=\"ytick_7\">\n     <g id=\"line2d_14\">\n      <g>\n       <use style=\"fill:#ffffff;stroke:#ffffff;stroke-width:0.8;\" x=\"66.33125\" xlink:href=\"#m9456f10a90\" y=\"50.837014\"/>\n      </g>\n     </g>\n     <g id=\"text_15\">\n      <!-- 700000 -->\n      <g style=\"fill:#ffffff;\" transform=\"translate(21.15625 54.636233)scale(0.1 -0.1)\">\n       <use xlink:href=\"#DejaVuSans-55\"/>\n       <use x=\"63.623047\" xlink:href=\"#DejaVuSans-48\"/>\n       <use x=\"127.246094\" xlink:href=\"#DejaVuSans-48\"/>\n       <use x=\"190.869141\" xlink:href=\"#DejaVuSans-48\"/>\n       <use x=\"254.492188\" xlink:href=\"#DejaVuSans-48\"/>\n       <use x=\"318.115234\" xlink:href=\"#DejaVuSans-48\"/>\n      </g>\n     </g>\n    </g>\n    <g id=\"ytick_8\">\n     <g id=\"line2d_15\">\n      <g>\n       <use style=\"fill:#ffffff;stroke:#ffffff;stroke-width:0.8;\" x=\"66.33125\" xlink:href=\"#m9456f10a90\" y=\"26.007987\"/>\n      </g>\n     </g>\n     <g id=\"text_16\">\n      <!-- 800000 -->\n      <g style=\"fill:#ffffff;\" transform=\"translate(21.15625 29.807206)scale(0.1 -0.1)\">\n       <defs>\n        <path d=\"M 31.78125 34.625 \nQ 24.75 34.625 20.71875 30.859375 \nQ 16.703125 27.09375 16.703125 20.515625 \nQ 16.703125 13.921875 20.71875 10.15625 \nQ 24.75 6.390625 31.78125 6.390625 \nQ 38.8125 6.390625 42.859375 10.171875 \nQ 46.921875 13.96875 46.921875 20.515625 \nQ 46.921875 27.09375 42.890625 30.859375 \nQ 38.875 34.625 31.78125 34.625 \nz\nM 21.921875 38.8125 \nQ 15.578125 40.375 12.03125 44.71875 \nQ 8.5 49.078125 8.5 55.328125 \nQ 8.5 64.0625 14.71875 69.140625 \nQ 20.953125 74.21875 31.78125 74.21875 \nQ 42.671875 74.21875 48.875 69.140625 \nQ 55.078125 64.0625 55.078125 55.328125 \nQ 55.078125 49.078125 51.53125 44.71875 \nQ 48 40.375 41.703125 38.8125 \nQ 48.828125 37.15625 52.796875 32.3125 \nQ 56.78125 27.484375 56.78125 20.515625 \nQ 56.78125 9.90625 50.3125 4.234375 \nQ 43.84375 -1.421875 31.78125 -1.421875 \nQ 19.734375 -1.421875 13.25 4.234375 \nQ 6.78125 9.90625 6.78125 20.515625 \nQ 6.78125 27.484375 10.78125 32.3125 \nQ 14.796875 37.15625 21.921875 38.8125 \nz\nM 18.3125 54.390625 \nQ 18.3125 48.734375 21.84375 45.5625 \nQ 25.390625 42.390625 31.78125 42.390625 \nQ 38.140625 42.390625 41.71875 45.5625 \nQ 45.3125 48.734375 45.3125 54.390625 \nQ 45.3125 60.0625 41.71875 63.234375 \nQ 38.140625 66.40625 31.78125 66.40625 \nQ 25.390625 66.40625 21.84375 63.234375 \nQ 18.3125 60.0625 18.3125 54.390625 \nz\n\" id=\"DejaVuSans-56\"/>\n       </defs>\n       <use xlink:href=\"#DejaVuSans-56\"/>\n       <use x=\"63.623047\" xlink:href=\"#DejaVuSans-48\"/>\n       <use x=\"127.246094\" xlink:href=\"#DejaVuSans-48\"/>\n       <use x=\"190.869141\" xlink:href=\"#DejaVuSans-48\"/>\n       <use x=\"254.492188\" xlink:href=\"#DejaVuSans-48\"/>\n       <use x=\"318.115234\" xlink:href=\"#DejaVuSans-48\"/>\n      </g>\n     </g>\n    </g>\n    <g id=\"text_17\">\n     <!-- sold_price -->\n     <g style=\"fill:#ffffff;\" transform=\"translate(14.798438 141.091875)rotate(-90)scale(0.1 -0.1)\">\n      <defs>\n       <path d=\"M 44.28125 53.078125 \nL 44.28125 44.578125 \nQ 40.484375 46.53125 36.375 47.5 \nQ 32.28125 48.484375 27.875 48.484375 \nQ 21.1875 48.484375 17.84375 46.4375 \nQ 14.5 44.390625 14.5 40.28125 \nQ 14.5 37.15625 16.890625 35.375 \nQ 19.28125 33.59375 26.515625 31.984375 \nL 29.59375 31.296875 \nQ 39.15625 29.25 43.1875 25.515625 \nQ 47.21875 21.78125 47.21875 15.09375 \nQ 47.21875 7.46875 41.1875 3.015625 \nQ 35.15625 -1.421875 24.609375 -1.421875 \nQ 20.21875 -1.421875 15.453125 -0.5625 \nQ 10.6875 0.296875 5.421875 2 \nL 5.421875 11.28125 \nQ 10.40625 8.6875 15.234375 7.390625 \nQ 20.0625 6.109375 24.8125 6.109375 \nQ 31.15625 6.109375 34.5625 8.28125 \nQ 37.984375 10.453125 37.984375 14.40625 \nQ 37.984375 18.0625 35.515625 20.015625 \nQ 33.0625 21.96875 24.703125 23.78125 \nL 21.578125 24.515625 \nQ 13.234375 26.265625 9.515625 29.90625 \nQ 5.8125 33.546875 5.8125 39.890625 \nQ 5.8125 47.609375 11.28125 51.796875 \nQ 16.75 56 26.8125 56 \nQ 31.78125 56 36.171875 55.265625 \nQ 40.578125 54.546875 44.28125 53.078125 \nz\n\" id=\"DejaVuSans-115\"/>\n       <path d=\"M 30.609375 48.390625 \nQ 23.390625 48.390625 19.1875 42.75 \nQ 14.984375 37.109375 14.984375 27.296875 \nQ 14.984375 17.484375 19.15625 11.84375 \nQ 23.34375 6.203125 30.609375 6.203125 \nQ 37.796875 6.203125 41.984375 11.859375 \nQ 46.1875 17.53125 46.1875 27.296875 \nQ 46.1875 37.015625 41.984375 42.703125 \nQ 37.796875 48.390625 30.609375 48.390625 \nz\nM 30.609375 56 \nQ 42.328125 56 49.015625 48.375 \nQ 55.71875 40.765625 55.71875 27.296875 \nQ 55.71875 13.875 49.015625 6.21875 \nQ 42.328125 -1.421875 30.609375 -1.421875 \nQ 18.84375 -1.421875 12.171875 6.21875 \nQ 5.515625 13.875 5.515625 27.296875 \nQ 5.515625 40.765625 12.171875 48.375 \nQ 18.84375 56 30.609375 56 \nz\n\" id=\"DejaVuSans-111\"/>\n       <path d=\"M 50.984375 -16.609375 \nL 50.984375 -23.578125 \nL -0.984375 -23.578125 \nL -0.984375 -16.609375 \nz\n\" id=\"DejaVuSans-95\"/>\n       <path d=\"M 18.109375 8.203125 \nL 18.109375 -20.796875 \nL 9.078125 -20.796875 \nL 9.078125 54.6875 \nL 18.109375 54.6875 \nL 18.109375 46.390625 \nQ 20.953125 51.265625 25.265625 53.625 \nQ 29.59375 56 35.59375 56 \nQ 45.5625 56 51.78125 48.09375 \nQ 58.015625 40.1875 58.015625 27.296875 \nQ 58.015625 14.40625 51.78125 6.484375 \nQ 45.5625 -1.421875 35.59375 -1.421875 \nQ 29.59375 -1.421875 25.265625 0.953125 \nQ 20.953125 3.328125 18.109375 8.203125 \nz\nM 48.6875 27.296875 \nQ 48.6875 37.203125 44.609375 42.84375 \nQ 40.53125 48.484375 33.40625 48.484375 \nQ 26.265625 48.484375 22.1875 42.84375 \nQ 18.109375 37.203125 18.109375 27.296875 \nQ 18.109375 17.390625 22.1875 11.75 \nQ 26.265625 6.109375 33.40625 6.109375 \nQ 40.53125 6.109375 44.609375 11.75 \nQ 48.6875 17.390625 48.6875 27.296875 \nz\n\" id=\"DejaVuSans-112\"/>\n       <path d=\"M 9.421875 54.6875 \nL 18.40625 54.6875 \nL 18.40625 0 \nL 9.421875 0 \nz\nM 9.421875 75.984375 \nL 18.40625 75.984375 \nL 18.40625 64.59375 \nL 9.421875 64.59375 \nz\n\" id=\"DejaVuSans-105\"/>\n       <path d=\"M 48.78125 52.59375 \nL 48.78125 44.1875 \nQ 44.96875 46.296875 41.140625 47.34375 \nQ 37.3125 48.390625 33.40625 48.390625 \nQ 24.65625 48.390625 19.8125 42.84375 \nQ 14.984375 37.3125 14.984375 27.296875 \nQ 14.984375 17.28125 19.8125 11.734375 \nQ 24.65625 6.203125 33.40625 6.203125 \nQ 37.3125 6.203125 41.140625 7.25 \nQ 44.96875 8.296875 48.78125 10.40625 \nL 48.78125 2.09375 \nQ 45.015625 0.34375 40.984375 -0.53125 \nQ 36.96875 -1.421875 32.421875 -1.421875 \nQ 20.0625 -1.421875 12.78125 6.34375 \nQ 5.515625 14.109375 5.515625 27.296875 \nQ 5.515625 40.671875 12.859375 48.328125 \nQ 20.21875 56 33.015625 56 \nQ 37.15625 56 41.109375 55.140625 \nQ 45.0625 54.296875 48.78125 52.59375 \nz\n\" id=\"DejaVuSans-99\"/>\n      </defs>\n      <use xlink:href=\"#DejaVuSans-115\"/>\n      <use x=\"52.099609\" xlink:href=\"#DejaVuSans-111\"/>\n      <use x=\"113.28125\" xlink:href=\"#DejaVuSans-108\"/>\n      <use x=\"141.064453\" xlink:href=\"#DejaVuSans-100\"/>\n      <use x=\"204.541016\" xlink:href=\"#DejaVuSans-95\"/>\n      <use x=\"254.541016\" xlink:href=\"#DejaVuSans-112\"/>\n      <use x=\"318.017578\" xlink:href=\"#DejaVuSans-114\"/>\n      <use x=\"359.130859\" xlink:href=\"#DejaVuSans-105\"/>\n      <use x=\"386.914062\" xlink:href=\"#DejaVuSans-99\"/>\n      <use x=\"441.894531\" xlink:href=\"#DejaVuSans-101\"/>\n     </g>\n    </g>\n   </g>\n   <g id=\"patch_3\">\n    <path d=\"M 66.33125 224.64 \nL 66.33125 7.2 \n\" style=\"fill:none;stroke:#ffffff;stroke-linecap:square;stroke-linejoin:miter;stroke-width:0.8;\"/>\n   </g>\n   <g id=\"patch_4\">\n    <path d=\"M 401.13125 224.64 \nL 401.13125 7.2 \n\" style=\"fill:none;stroke:#ffffff;stroke-linecap:square;stroke-linejoin:miter;stroke-width:0.8;\"/>\n   </g>\n   <g id=\"patch_5\">\n    <path d=\"M 66.33125 224.64 \nL 401.13125 224.64 \n\" style=\"fill:none;stroke:#ffffff;stroke-linecap:square;stroke-linejoin:miter;stroke-width:0.8;\"/>\n   </g>\n   <g id=\"patch_6\">\n    <path d=\"M 66.33125 7.2 \nL 401.13125 7.2 \n\" style=\"fill:none;stroke:#ffffff;stroke-linecap:square;stroke-linejoin:miter;stroke-width:0.8;\"/>\n   </g>\n  </g>\n </g>\n <defs>\n  <clipPath id=\"p7fc9632f76\">\n   <rect height=\"217.44\" width=\"334.8\" x=\"66.33125\" y=\"7.2\"/>\n  </clipPath>\n </defs>\n</svg>\n",
      "image/png": "[encoded data removed]"
     },
     "metadata": {}
    }
   ],
   "source": [
    "# Remove outliers\n",
    "df1 = df1.drop(df1[df1['landArea'] >= 2000].index)\n",
    "df1.plot.scatter(x=var, y='sold_price', ylim=(0.800000))"
   ]
  },
  {
   "cell_type": "code",
   "execution_count": 11,
   "metadata": {},
   "outputs": [
    {
     "output_type": "stream",
     "name": "stdout",
     "text": [
      "\n mu = 456862.94 and sigma = 141470.62\n\n"
     ]
    },
    {
     "output_type": "display_data",
     "data": {
      "text/plain": "<Figure size 432x288 with 1 Axes>",
      "image/svg+xml": "<?xml version=\"1.0\" encoding=\"utf-8\" standalone=\"no\"?>\n<!DOCTYPE svg PUBLIC \"-//W3C//DTD SVG 1.1//EN\"\n  \"http://www.w3.org/Graphics/SVG/1.1/DTD/svg11.dtd\">\n<!-- Created with matplotlib (https://matplotlib.org/) -->\n<svg height=\"277.5925pt\" version=\"1.1\" viewBox=\"0 0 385.78125 277.5925\" width=\"385.78125pt\" xmlns=\"http://www.w3.org/2000/svg\" xmlns:xlink=\"http://www.w3.org/1999/xlink\">\n <metadata>\n  <rdf:RDF xmlns:cc=\"http://creativecommons.org/ns#\" xmlns:dc=\"http://purl.org/dc/elements/1.1/\" xmlns:rdf=\"http://www.w3.org/1999/02/22-rdf-syntax-ns#\">\n   <cc:Work>\n    <dc:type rdf:resource=\"http://purl.org/dc/dcmitype/StillImage\"/>\n    <dc:date>2021-03-14T19:53:57.947419</dc:date>\n    <dc:format>image/svg+xml</dc:format>\n    <dc:creator>\n     <cc:Agent>\n      <dc:title>Matplotlib v3.3.1, https://matplotlib.org/</dc:title>\n     </cc:Agent>\n    </dc:creator>\n   </cc:Work>\n  </rdf:RDF>\n </metadata>\n <defs>\n  <style type=\"text/css\">*{stroke-linecap:butt;stroke-linejoin:round;}</style>\n </defs>\n <g id=\"figure_1\">\n  <g id=\"patch_1\">\n   <path d=\"M 0 277.5925 \nL 385.78125 277.5925 \nL 385.78125 0 \nL 0 0 \nz\n\"/>\n  </g>\n  <g id=\"axes_1\">\n   <g id=\"patch_2\">\n    <path d=\"M 43.78125 239.758125 \nL 378.58125 239.758125 \nL 378.58125 22.318125 \nL 43.78125 22.318125 \nz\n\"/>\n   </g>\n   <g id=\"patch_3\">\n    <path clip-path=\"url(#p7f65bc02c7)\" d=\"M 109.428417 239.758125 \nL 129.778983 239.758125 \nL 129.778983 146.569554 \nL 109.428417 146.569554 \nz\n\" style=\"fill:#8dd3c7;opacity:0.4;\"/>\n   </g>\n   <g id=\"patch_4\">\n    <path clip-path=\"url(#p7f65bc02c7)\" d=\"M 129.778983 239.758125 \nL 150.12955 239.758125 \nL 150.12955 136.215268 \nL 129.778983 136.215268 \nz\n\" style=\"fill:#8dd3c7;opacity:0.4;\"/>\n   </g>\n   <g id=\"patch_5\">\n    <path clip-path=\"url(#p7f65bc02c7)\" d=\"M 150.12955 239.758125 \nL 170.480117 239.758125 \nL 170.480117 32.672411 \nL 150.12955 32.672411 \nz\n\" style=\"fill:#8dd3c7;opacity:0.4;\"/>\n   </g>\n   <g id=\"patch_6\">\n    <path clip-path=\"url(#p7f65bc02c7)\" d=\"M 170.480117 239.758125 \nL 190.830683 239.758125 \nL 190.830683 74.089554 \nL 170.480117 74.089554 \nz\n\" style=\"fill:#8dd3c7;opacity:0.4;\"/>\n   </g>\n   <g id=\"patch_7\">\n    <path clip-path=\"url(#p7f65bc02c7)\" d=\"M 190.830683 239.758125 \nL 211.18125 239.758125 \nL 211.18125 125.860982 \nL 190.830683 125.860982 \nz\n\" style=\"fill:#8dd3c7;opacity:0.4;\"/>\n   </g>\n   <g id=\"patch_8\">\n    <path clip-path=\"url(#p7f65bc02c7)\" d=\"M 211.18125 239.758125 \nL 231.531817 239.758125 \nL 231.531817 177.632411 \nL 211.18125 177.632411 \nz\n\" style=\"fill:#8dd3c7;opacity:0.4;\"/>\n   </g>\n   <g id=\"patch_9\">\n    <path clip-path=\"url(#p7f65bc02c7)\" d=\"M 231.531817 239.758125 \nL 251.882383 239.758125 \nL 251.882383 208.695268 \nL 231.531817 208.695268 \nz\n\" style=\"fill:#8dd3c7;opacity:0.4;\"/>\n   </g>\n   <g id=\"patch_10\">\n    <path clip-path=\"url(#p7f65bc02c7)\" d=\"M 251.882383 239.758125 \nL 272.23295 239.758125 \nL 272.23295 213.872411 \nL 251.882383 213.872411 \nz\n\" style=\"fill:#8dd3c7;opacity:0.4;\"/>\n   </g>\n   <g id=\"patch_11\">\n    <path clip-path=\"url(#p7f65bc02c7)\" d=\"M 272.23295 239.758125 \nL 292.583517 239.758125 \nL 292.583517 193.163839 \nL 272.23295 193.163839 \nz\n\" style=\"fill:#8dd3c7;opacity:0.4;\"/>\n   </g>\n   <g id=\"patch_12\">\n    <path clip-path=\"url(#p7f65bc02c7)\" d=\"M 292.583517 239.758125 \nL 312.934083 239.758125 \nL 312.934083 208.695268 \nL 292.583517 208.695268 \nz\n\" style=\"fill:#8dd3c7;opacity:0.4;\"/>\n   </g>\n   <g id=\"matplotlib.axis_1\">\n    <g id=\"xtick_1\">\n     <g id=\"line2d_1\">\n      <defs>\n       <path d=\"M 0 0 \nL 0 3.5 \n\" id=\"m22a2b6d4c2\" style=\"stroke:#ffffff;stroke-width:0.8;\"/>\n      </defs>\n      <g>\n       <use style=\"fill:#ffffff;stroke:#ffffff;stroke-width:0.8;\" x=\"99.501311\" xlink:href=\"#m22a2b6d4c2\" y=\"239.758125\"/>\n      </g>\n     </g>\n     <g id=\"text_1\">\n      <!-- 0.2 -->\n      <g style=\"fill:#ffffff;\" transform=\"translate(91.549749 254.356563)scale(0.1 -0.1)\">\n       <defs>\n        <path d=\"M 31.78125 66.40625 \nQ 24.171875 66.40625 20.328125 58.90625 \nQ 16.5 51.421875 16.5 36.375 \nQ 16.5 21.390625 20.328125 13.890625 \nQ 24.171875 6.390625 31.78125 6.390625 \nQ 39.453125 6.390625 43.28125 13.890625 \nQ 47.125 21.390625 47.125 36.375 \nQ 47.125 51.421875 43.28125 58.90625 \nQ 39.453125 66.40625 31.78125 66.40625 \nz\nM 31.78125 74.21875 \nQ 44.046875 74.21875 50.515625 64.515625 \nQ 56.984375 54.828125 56.984375 36.375 \nQ 56.984375 17.96875 50.515625 8.265625 \nQ 44.046875 -1.421875 31.78125 -1.421875 \nQ 19.53125 -1.421875 13.0625 8.265625 \nQ 6.59375 17.96875 6.59375 36.375 \nQ 6.59375 54.828125 13.0625 64.515625 \nQ 19.53125 74.21875 31.78125 74.21875 \nz\n\" id=\"DejaVuSans-48\"/>\n        <path d=\"M 10.6875 12.40625 \nL 21 12.40625 \nL 21 0 \nL 10.6875 0 \nz\n\" id=\"DejaVuSans-46\"/>\n        <path d=\"M 19.1875 8.296875 \nL 53.609375 8.296875 \nL 53.609375 0 \nL 7.328125 0 \nL 7.328125 8.296875 \nQ 12.9375 14.109375 22.625 23.890625 \nQ 32.328125 33.6875 34.8125 36.53125 \nQ 39.546875 41.84375 41.421875 45.53125 \nQ 43.3125 49.21875 43.3125 52.78125 \nQ 43.3125 58.59375 39.234375 62.25 \nQ 35.15625 65.921875 28.609375 65.921875 \nQ 23.96875 65.921875 18.8125 64.3125 \nQ 13.671875 62.703125 7.8125 59.421875 \nL 7.8125 69.390625 \nQ 13.765625 71.78125 18.9375 73 \nQ 24.125 74.21875 28.421875 74.21875 \nQ 39.75 74.21875 46.484375 68.546875 \nQ 53.21875 62.890625 53.21875 53.421875 \nQ 53.21875 48.921875 51.53125 44.890625 \nQ 49.859375 40.875 45.40625 35.40625 \nQ 44.1875 33.984375 37.640625 27.21875 \nQ 31.109375 20.453125 19.1875 8.296875 \nz\n\" id=\"DejaVuSans-50\"/>\n       </defs>\n       <use xlink:href=\"#DejaVuSans-48\"/>\n       <use x=\"63.623047\" xlink:href=\"#DejaVuSans-46\"/>\n       <use x=\"95.410156\" xlink:href=\"#DejaVuSans-50\"/>\n      </g>\n     </g>\n    </g>\n    <g id=\"xtick_2\">\n     <g id=\"line2d_2\">\n      <g>\n       <use style=\"fill:#ffffff;stroke:#ffffff;stroke-width:0.8;\" x=\"165.682016\" xlink:href=\"#m22a2b6d4c2\" y=\"239.758125\"/>\n      </g>\n     </g>\n     <g id=\"text_2\">\n      <!-- 0.4 -->\n      <g style=\"fill:#ffffff;\" transform=\"translate(157.730453 254.356563)scale(0.1 -0.1)\">\n       <defs>\n        <path d=\"M 37.796875 64.3125 \nL 12.890625 25.390625 \nL 37.796875 25.390625 \nz\nM 35.203125 72.90625 \nL 47.609375 72.90625 \nL 47.609375 25.390625 \nL 58.015625 25.390625 \nL 58.015625 17.1875 \nL 47.609375 17.1875 \nL 47.609375 0 \nL 37.796875 0 \nL 37.796875 17.1875 \nL 4.890625 17.1875 \nL 4.890625 26.703125 \nz\n\" id=\"DejaVuSans-52\"/>\n       </defs>\n       <use xlink:href=\"#DejaVuSans-48\"/>\n       <use x=\"63.623047\" xlink:href=\"#DejaVuSans-46\"/>\n       <use x=\"95.410156\" xlink:href=\"#DejaVuSans-52\"/>\n      </g>\n     </g>\n    </g>\n    <g id=\"xtick_3\">\n     <g id=\"line2d_3\">\n      <g>\n       <use style=\"fill:#ffffff;stroke:#ffffff;stroke-width:0.8;\" x=\"231.86272\" xlink:href=\"#m22a2b6d4c2\" y=\"239.758125\"/>\n      </g>\n     </g>\n     <g id=\"text_3\">\n      <!-- 0.6 -->\n      <g style=\"fill:#ffffff;\" transform=\"translate(223.911158 254.356563)scale(0.1 -0.1)\">\n       <defs>\n        <path d=\"M 33.015625 40.375 \nQ 26.375 40.375 22.484375 35.828125 \nQ 18.609375 31.296875 18.609375 23.390625 \nQ 18.609375 15.53125 22.484375 10.953125 \nQ 26.375 6.390625 33.015625 6.390625 \nQ 39.65625 6.390625 43.53125 10.953125 \nQ 47.40625 15.53125 47.40625 23.390625 \nQ 47.40625 31.296875 43.53125 35.828125 \nQ 39.65625 40.375 33.015625 40.375 \nz\nM 52.59375 71.296875 \nL 52.59375 62.3125 \nQ 48.875 64.0625 45.09375 64.984375 \nQ 41.3125 65.921875 37.59375 65.921875 \nQ 27.828125 65.921875 22.671875 59.328125 \nQ 17.53125 52.734375 16.796875 39.40625 \nQ 19.671875 43.65625 24.015625 45.921875 \nQ 28.375 48.1875 33.59375 48.1875 \nQ 44.578125 48.1875 50.953125 41.515625 \nQ 57.328125 34.859375 57.328125 23.390625 \nQ 57.328125 12.15625 50.6875 5.359375 \nQ 44.046875 -1.421875 33.015625 -1.421875 \nQ 20.359375 -1.421875 13.671875 8.265625 \nQ 6.984375 17.96875 6.984375 36.375 \nQ 6.984375 53.65625 15.1875 63.9375 \nQ 23.390625 74.21875 37.203125 74.21875 \nQ 40.921875 74.21875 44.703125 73.484375 \nQ 48.484375 72.75 52.59375 71.296875 \nz\n\" id=\"DejaVuSans-54\"/>\n       </defs>\n       <use xlink:href=\"#DejaVuSans-48\"/>\n       <use x=\"63.623047\" xlink:href=\"#DejaVuSans-46\"/>\n       <use x=\"95.410156\" xlink:href=\"#DejaVuSans-54\"/>\n      </g>\n     </g>\n    </g>\n    <g id=\"xtick_4\">\n     <g id=\"line2d_4\">\n      <g>\n       <use style=\"fill:#ffffff;stroke:#ffffff;stroke-width:0.8;\" x=\"298.043425\" xlink:href=\"#m22a2b6d4c2\" y=\"239.758125\"/>\n      </g>\n     </g>\n     <g id=\"text_4\">\n      <!-- 0.8 -->\n      <g style=\"fill:#ffffff;\" transform=\"translate(290.091862 254.356563)scale(0.1 -0.1)\">\n       <defs>\n        <path d=\"M 31.78125 34.625 \nQ 24.75 34.625 20.71875 30.859375 \nQ 16.703125 27.09375 16.703125 20.515625 \nQ 16.703125 13.921875 20.71875 10.15625 \nQ 24.75 6.390625 31.78125 6.390625 \nQ 38.8125 6.390625 42.859375 10.171875 \nQ 46.921875 13.96875 46.921875 20.515625 \nQ 46.921875 27.09375 42.890625 30.859375 \nQ 38.875 34.625 31.78125 34.625 \nz\nM 21.921875 38.8125 \nQ 15.578125 40.375 12.03125 44.71875 \nQ 8.5 49.078125 8.5 55.328125 \nQ 8.5 64.0625 14.71875 69.140625 \nQ 20.953125 74.21875 31.78125 74.21875 \nQ 42.671875 74.21875 48.875 69.140625 \nQ 55.078125 64.0625 55.078125 55.328125 \nQ 55.078125 49.078125 51.53125 44.71875 \nQ 48 40.375 41.703125 38.8125 \nQ 48.828125 37.15625 52.796875 32.3125 \nQ 56.78125 27.484375 56.78125 20.515625 \nQ 56.78125 9.90625 50.3125 4.234375 \nQ 43.84375 -1.421875 31.78125 -1.421875 \nQ 19.734375 -1.421875 13.25 4.234375 \nQ 6.78125 9.90625 6.78125 20.515625 \nQ 6.78125 27.484375 10.78125 32.3125 \nQ 14.796875 37.15625 21.921875 38.8125 \nz\nM 18.3125 54.390625 \nQ 18.3125 48.734375 21.84375 45.5625 \nQ 25.390625 42.390625 31.78125 42.390625 \nQ 38.140625 42.390625 41.71875 45.5625 \nQ 45.3125 48.734375 45.3125 54.390625 \nQ 45.3125 60.0625 41.71875 63.234375 \nQ 38.140625 66.40625 31.78125 66.40625 \nQ 25.390625 66.40625 21.84375 63.234375 \nQ 18.3125 60.0625 18.3125 54.390625 \nz\n\" id=\"DejaVuSans-56\"/>\n       </defs>\n       <use xlink:href=\"#DejaVuSans-48\"/>\n       <use x=\"63.623047\" xlink:href=\"#DejaVuSans-46\"/>\n       <use x=\"95.410156\" xlink:href=\"#DejaVuSans-56\"/>\n      </g>\n     </g>\n    </g>\n    <g id=\"xtick_5\">\n     <g id=\"line2d_5\">\n      <g>\n       <use style=\"fill:#ffffff;stroke:#ffffff;stroke-width:0.8;\" x=\"364.224129\" xlink:href=\"#m22a2b6d4c2\" y=\"239.758125\"/>\n      </g>\n     </g>\n     <g id=\"text_5\">\n      <!-- 1.0 -->\n      <g style=\"fill:#ffffff;\" transform=\"translate(356.272567 254.356563)scale(0.1 -0.1)\">\n       <defs>\n        <path d=\"M 12.40625 8.296875 \nL 28.515625 8.296875 \nL 28.515625 63.921875 \nL 10.984375 60.40625 \nL 10.984375 69.390625 \nL 28.421875 72.90625 \nL 38.28125 72.90625 \nL 38.28125 8.296875 \nL 54.390625 8.296875 \nL 54.390625 0 \nL 12.40625 0 \nz\n\" id=\"DejaVuSans-49\"/>\n       </defs>\n       <use xlink:href=\"#DejaVuSans-49\"/>\n       <use x=\"63.623047\" xlink:href=\"#DejaVuSans-46\"/>\n       <use x=\"95.410156\" xlink:href=\"#DejaVuSans-48\"/>\n      </g>\n     </g>\n    </g>\n    <g id=\"text_6\">\n     <!-- sold_price -->\n     <g style=\"fill:#ffffff;\" transform=\"translate(186.009375 268.034688)scale(0.1 -0.1)\">\n      <defs>\n       <path d=\"M 44.28125 53.078125 \nL 44.28125 44.578125 \nQ 40.484375 46.53125 36.375 47.5 \nQ 32.28125 48.484375 27.875 48.484375 \nQ 21.1875 48.484375 17.84375 46.4375 \nQ 14.5 44.390625 14.5 40.28125 \nQ 14.5 37.15625 16.890625 35.375 \nQ 19.28125 33.59375 26.515625 31.984375 \nL 29.59375 31.296875 \nQ 39.15625 29.25 43.1875 25.515625 \nQ 47.21875 21.78125 47.21875 15.09375 \nQ 47.21875 7.46875 41.1875 3.015625 \nQ 35.15625 -1.421875 24.609375 -1.421875 \nQ 20.21875 -1.421875 15.453125 -0.5625 \nQ 10.6875 0.296875 5.421875 2 \nL 5.421875 11.28125 \nQ 10.40625 8.6875 15.234375 7.390625 \nQ 20.0625 6.109375 24.8125 6.109375 \nQ 31.15625 6.109375 34.5625 8.28125 \nQ 37.984375 10.453125 37.984375 14.40625 \nQ 37.984375 18.0625 35.515625 20.015625 \nQ 33.0625 21.96875 24.703125 23.78125 \nL 21.578125 24.515625 \nQ 13.234375 26.265625 9.515625 29.90625 \nQ 5.8125 33.546875 5.8125 39.890625 \nQ 5.8125 47.609375 11.28125 51.796875 \nQ 16.75 56 26.8125 56 \nQ 31.78125 56 36.171875 55.265625 \nQ 40.578125 54.546875 44.28125 53.078125 \nz\n\" id=\"DejaVuSans-115\"/>\n       <path d=\"M 30.609375 48.390625 \nQ 23.390625 48.390625 19.1875 42.75 \nQ 14.984375 37.109375 14.984375 27.296875 \nQ 14.984375 17.484375 19.15625 11.84375 \nQ 23.34375 6.203125 30.609375 6.203125 \nQ 37.796875 6.203125 41.984375 11.859375 \nQ 46.1875 17.53125 46.1875 27.296875 \nQ 46.1875 37.015625 41.984375 42.703125 \nQ 37.796875 48.390625 30.609375 48.390625 \nz\nM 30.609375 56 \nQ 42.328125 56 49.015625 48.375 \nQ 55.71875 40.765625 55.71875 27.296875 \nQ 55.71875 13.875 49.015625 6.21875 \nQ 42.328125 -1.421875 30.609375 -1.421875 \nQ 18.84375 -1.421875 12.171875 6.21875 \nQ 5.515625 13.875 5.515625 27.296875 \nQ 5.515625 40.765625 12.171875 48.375 \nQ 18.84375 56 30.609375 56 \nz\n\" id=\"DejaVuSans-111\"/>\n       <path d=\"M 9.421875 75.984375 \nL 18.40625 75.984375 \nL 18.40625 0 \nL 9.421875 0 \nz\n\" id=\"DejaVuSans-108\"/>\n       <path d=\"M 45.40625 46.390625 \nL 45.40625 75.984375 \nL 54.390625 75.984375 \nL 54.390625 0 \nL 45.40625 0 \nL 45.40625 8.203125 \nQ 42.578125 3.328125 38.25 0.953125 \nQ 33.9375 -1.421875 27.875 -1.421875 \nQ 17.96875 -1.421875 11.734375 6.484375 \nQ 5.515625 14.40625 5.515625 27.296875 \nQ 5.515625 40.1875 11.734375 48.09375 \nQ 17.96875 56 27.875 56 \nQ 33.9375 56 38.25 53.625 \nQ 42.578125 51.265625 45.40625 46.390625 \nz\nM 14.796875 27.296875 \nQ 14.796875 17.390625 18.875 11.75 \nQ 22.953125 6.109375 30.078125 6.109375 \nQ 37.203125 6.109375 41.296875 11.75 \nQ 45.40625 17.390625 45.40625 27.296875 \nQ 45.40625 37.203125 41.296875 42.84375 \nQ 37.203125 48.484375 30.078125 48.484375 \nQ 22.953125 48.484375 18.875 42.84375 \nQ 14.796875 37.203125 14.796875 27.296875 \nz\n\" id=\"DejaVuSans-100\"/>\n       <path d=\"M 50.984375 -16.609375 \nL 50.984375 -23.578125 \nL -0.984375 -23.578125 \nL -0.984375 -16.609375 \nz\n\" id=\"DejaVuSans-95\"/>\n       <path d=\"M 18.109375 8.203125 \nL 18.109375 -20.796875 \nL 9.078125 -20.796875 \nL 9.078125 54.6875 \nL 18.109375 54.6875 \nL 18.109375 46.390625 \nQ 20.953125 51.265625 25.265625 53.625 \nQ 29.59375 56 35.59375 56 \nQ 45.5625 56 51.78125 48.09375 \nQ 58.015625 40.1875 58.015625 27.296875 \nQ 58.015625 14.40625 51.78125 6.484375 \nQ 45.5625 -1.421875 35.59375 -1.421875 \nQ 29.59375 -1.421875 25.265625 0.953125 \nQ 20.953125 3.328125 18.109375 8.203125 \nz\nM 48.6875 27.296875 \nQ 48.6875 37.203125 44.609375 42.84375 \nQ 40.53125 48.484375 33.40625 48.484375 \nQ 26.265625 48.484375 22.1875 42.84375 \nQ 18.109375 37.203125 18.109375 27.296875 \nQ 18.109375 17.390625 22.1875 11.75 \nQ 26.265625 6.109375 33.40625 6.109375 \nQ 40.53125 6.109375 44.609375 11.75 \nQ 48.6875 17.390625 48.6875 27.296875 \nz\n\" id=\"DejaVuSans-112\"/>\n       <path d=\"M 41.109375 46.296875 \nQ 39.59375 47.171875 37.8125 47.578125 \nQ 36.03125 48 33.890625 48 \nQ 26.265625 48 22.1875 43.046875 \nQ 18.109375 38.09375 18.109375 28.8125 \nL 18.109375 0 \nL 9.078125 0 \nL 9.078125 54.6875 \nL 18.109375 54.6875 \nL 18.109375 46.1875 \nQ 20.953125 51.171875 25.484375 53.578125 \nQ 30.03125 56 36.53125 56 \nQ 37.453125 56 38.578125 55.875 \nQ 39.703125 55.765625 41.0625 55.515625 \nz\n\" id=\"DejaVuSans-114\"/>\n       <path d=\"M 9.421875 54.6875 \nL 18.40625 54.6875 \nL 18.40625 0 \nL 9.421875 0 \nz\nM 9.421875 75.984375 \nL 18.40625 75.984375 \nL 18.40625 64.59375 \nL 9.421875 64.59375 \nz\n\" id=\"DejaVuSans-105\"/>\n       <path d=\"M 48.78125 52.59375 \nL 48.78125 44.1875 \nQ 44.96875 46.296875 41.140625 47.34375 \nQ 37.3125 48.390625 33.40625 48.390625 \nQ 24.65625 48.390625 19.8125 42.84375 \nQ 14.984375 37.3125 14.984375 27.296875 \nQ 14.984375 17.28125 19.8125 11.734375 \nQ 24.65625 6.203125 33.40625 6.203125 \nQ 37.3125 6.203125 41.140625 7.25 \nQ 44.96875 8.296875 48.78125 10.40625 \nL 48.78125 2.09375 \nQ 45.015625 0.34375 40.984375 -0.53125 \nQ 36.96875 -1.421875 32.421875 -1.421875 \nQ 20.0625 -1.421875 12.78125 6.34375 \nQ 5.515625 14.109375 5.515625 27.296875 \nQ 5.515625 40.671875 12.859375 48.328125 \nQ 20.21875 56 33.015625 56 \nQ 37.15625 56 41.109375 55.140625 \nQ 45.0625 54.296875 48.78125 52.59375 \nz\n\" id=\"DejaVuSans-99\"/>\n       <path d=\"M 56.203125 29.59375 \nL 56.203125 25.203125 \nL 14.890625 25.203125 \nQ 15.484375 15.921875 20.484375 11.0625 \nQ 25.484375 6.203125 34.421875 6.203125 \nQ 39.59375 6.203125 44.453125 7.46875 \nQ 49.3125 8.734375 54.109375 11.28125 \nL 54.109375 2.78125 \nQ 49.265625 0.734375 44.1875 -0.34375 \nQ 39.109375 -1.421875 33.890625 -1.421875 \nQ 20.796875 -1.421875 13.15625 6.1875 \nQ 5.515625 13.8125 5.515625 26.8125 \nQ 5.515625 40.234375 12.765625 48.109375 \nQ 20.015625 56 32.328125 56 \nQ 43.359375 56 49.78125 48.890625 \nQ 56.203125 41.796875 56.203125 29.59375 \nz\nM 47.21875 32.234375 \nQ 47.125 39.59375 43.09375 43.984375 \nQ 39.0625 48.390625 32.421875 48.390625 \nQ 24.90625 48.390625 20.390625 44.140625 \nQ 15.875 39.890625 15.1875 32.171875 \nz\n\" id=\"DejaVuSans-101\"/>\n      </defs>\n      <use xlink:href=\"#DejaVuSans-115\"/>\n      <use x=\"52.099609\" xlink:href=\"#DejaVuSans-111\"/>\n      <use x=\"113.28125\" xlink:href=\"#DejaVuSans-108\"/>\n      <use x=\"141.064453\" xlink:href=\"#DejaVuSans-100\"/>\n      <use x=\"204.541016\" xlink:href=\"#DejaVuSans-95\"/>\n      <use x=\"254.541016\" xlink:href=\"#DejaVuSans-112\"/>\n      <use x=\"318.017578\" xlink:href=\"#DejaVuSans-114\"/>\n      <use x=\"359.130859\" xlink:href=\"#DejaVuSans-105\"/>\n      <use x=\"386.914062\" xlink:href=\"#DejaVuSans-99\"/>\n      <use x=\"441.894531\" xlink:href=\"#DejaVuSans-101\"/>\n     </g>\n    </g>\n    <g id=\"text_7\">\n     <!-- 1e6 -->\n     <g style=\"fill:#ffffff;\" transform=\"translate(359.703125 267.034688)scale(0.1 -0.1)\">\n      <use xlink:href=\"#DejaVuSans-49\"/>\n      <use x=\"63.623047\" xlink:href=\"#DejaVuSans-101\"/>\n      <use x=\"125.146484\" xlink:href=\"#DejaVuSans-54\"/>\n     </g>\n    </g>\n   </g>\n   <g id=\"matplotlib.axis_2\">\n    <g id=\"ytick_1\">\n     <g id=\"line2d_6\">\n      <defs>\n       <path d=\"M 0 0 \nL -3.5 0 \n\" id=\"m9604d756b3\" style=\"stroke:#ffffff;stroke-width:0.8;\"/>\n      </defs>\n      <g>\n       <use style=\"fill:#ffffff;stroke:#ffffff;stroke-width:0.8;\" x=\"43.78125\" xlink:href=\"#m9604d756b3\" y=\"239.758125\"/>\n      </g>\n     </g>\n     <g id=\"text_8\">\n      <!-- 0.0 -->\n      <g style=\"fill:#ffffff;\" transform=\"translate(20.878125 243.557344)scale(0.1 -0.1)\">\n       <use xlink:href=\"#DejaVuSans-48\"/>\n       <use x=\"63.623047\" xlink:href=\"#DejaVuSans-46\"/>\n       <use x=\"95.410156\" xlink:href=\"#DejaVuSans-48\"/>\n      </g>\n     </g>\n    </g>\n    <g id=\"ytick_2\">\n     <g id=\"line2d_7\">\n      <g>\n       <use style=\"fill:#ffffff;stroke:#ffffff;stroke-width:0.8;\" x=\"43.78125\" xlink:href=\"#m9604d756b3\" y=\"212.694611\"/>\n      </g>\n     </g>\n     <g id=\"text_9\">\n      <!-- 0.5 -->\n      <g style=\"fill:#ffffff;\" transform=\"translate(20.878125 216.493829)scale(0.1 -0.1)\">\n       <defs>\n        <path d=\"M 10.796875 72.90625 \nL 49.515625 72.90625 \nL 49.515625 64.59375 \nL 19.828125 64.59375 \nL 19.828125 46.734375 \nQ 21.96875 47.46875 24.109375 47.828125 \nQ 26.265625 48.1875 28.421875 48.1875 \nQ 40.625 48.1875 47.75 41.5 \nQ 54.890625 34.8125 54.890625 23.390625 \nQ 54.890625 11.625 47.5625 5.09375 \nQ 40.234375 -1.421875 26.90625 -1.421875 \nQ 22.3125 -1.421875 17.546875 -0.640625 \nQ 12.796875 0.140625 7.71875 1.703125 \nL 7.71875 11.625 \nQ 12.109375 9.234375 16.796875 8.0625 \nQ 21.484375 6.890625 26.703125 6.890625 \nQ 35.15625 6.890625 40.078125 11.328125 \nQ 45.015625 15.765625 45.015625 23.390625 \nQ 45.015625 31 40.078125 35.4375 \nQ 35.15625 39.890625 26.703125 39.890625 \nQ 22.75 39.890625 18.8125 39.015625 \nQ 14.890625 38.140625 10.796875 36.28125 \nz\n\" id=\"DejaVuSans-53\"/>\n       </defs>\n       <use xlink:href=\"#DejaVuSans-48\"/>\n       <use x=\"63.623047\" xlink:href=\"#DejaVuSans-46\"/>\n       <use x=\"95.410156\" xlink:href=\"#DejaVuSans-53\"/>\n      </g>\n     </g>\n    </g>\n    <g id=\"ytick_3\">\n     <g id=\"line2d_8\">\n      <g>\n       <use style=\"fill:#ffffff;stroke:#ffffff;stroke-width:0.8;\" x=\"43.78125\" xlink:href=\"#m9604d756b3\" y=\"185.631096\"/>\n      </g>\n     </g>\n     <g id=\"text_10\">\n      <!-- 1.0 -->\n      <g style=\"fill:#ffffff;\" transform=\"translate(20.878125 189.430315)scale(0.1 -0.1)\">\n       <use xlink:href=\"#DejaVuSans-49\"/>\n       <use x=\"63.623047\" xlink:href=\"#DejaVuSans-46\"/>\n       <use x=\"95.410156\" xlink:href=\"#DejaVuSans-48\"/>\n      </g>\n     </g>\n    </g>\n    <g id=\"ytick_4\">\n     <g id=\"line2d_9\">\n      <g>\n       <use style=\"fill:#ffffff;stroke:#ffffff;stroke-width:0.8;\" x=\"43.78125\" xlink:href=\"#m9604d756b3\" y=\"158.567582\"/>\n      </g>\n     </g>\n     <g id=\"text_11\">\n      <!-- 1.5 -->\n      <g style=\"fill:#ffffff;\" transform=\"translate(20.878125 162.366801)scale(0.1 -0.1)\">\n       <use xlink:href=\"#DejaVuSans-49\"/>\n       <use x=\"63.623047\" xlink:href=\"#DejaVuSans-46\"/>\n       <use x=\"95.410156\" xlink:href=\"#DejaVuSans-53\"/>\n      </g>\n     </g>\n    </g>\n    <g id=\"ytick_5\">\n     <g id=\"line2d_10\">\n      <g>\n       <use style=\"fill:#ffffff;stroke:#ffffff;stroke-width:0.8;\" x=\"43.78125\" xlink:href=\"#m9604d756b3\" y=\"131.504068\"/>\n      </g>\n     </g>\n     <g id=\"text_12\">\n      <!-- 2.0 -->\n      <g style=\"fill:#ffffff;\" transform=\"translate(20.878125 135.303287)scale(0.1 -0.1)\">\n       <use xlink:href=\"#DejaVuSans-50\"/>\n       <use x=\"63.623047\" xlink:href=\"#DejaVuSans-46\"/>\n       <use x=\"95.410156\" xlink:href=\"#DejaVuSans-48\"/>\n      </g>\n     </g>\n    </g>\n    <g id=\"ytick_6\">\n     <g id=\"line2d_11\">\n      <g>\n       <use style=\"fill:#ffffff;stroke:#ffffff;stroke-width:0.8;\" x=\"43.78125\" xlink:href=\"#m9604d756b3\" y=\"104.440554\"/>\n      </g>\n     </g>\n     <g id=\"text_13\">\n      <!-- 2.5 -->\n      <g style=\"fill:#ffffff;\" transform=\"translate(20.878125 108.239772)scale(0.1 -0.1)\">\n       <use xlink:href=\"#DejaVuSans-50\"/>\n       <use x=\"63.623047\" xlink:href=\"#DejaVuSans-46\"/>\n       <use x=\"95.410156\" xlink:href=\"#DejaVuSans-53\"/>\n      </g>\n     </g>\n    </g>\n    <g id=\"ytick_7\">\n     <g id=\"line2d_12\">\n      <g>\n       <use style=\"fill:#ffffff;stroke:#ffffff;stroke-width:0.8;\" x=\"43.78125\" xlink:href=\"#m9604d756b3\" y=\"77.377039\"/>\n      </g>\n     </g>\n     <g id=\"text_14\">\n      <!-- 3.0 -->\n      <g style=\"fill:#ffffff;\" transform=\"translate(20.878125 81.176258)scale(0.1 -0.1)\">\n       <defs>\n        <path d=\"M 40.578125 39.3125 \nQ 47.65625 37.796875 51.625 33 \nQ 55.609375 28.21875 55.609375 21.1875 \nQ 55.609375 10.40625 48.1875 4.484375 \nQ 40.765625 -1.421875 27.09375 -1.421875 \nQ 22.515625 -1.421875 17.65625 -0.515625 \nQ 12.796875 0.390625 7.625 2.203125 \nL 7.625 11.71875 \nQ 11.71875 9.328125 16.59375 8.109375 \nQ 21.484375 6.890625 26.8125 6.890625 \nQ 36.078125 6.890625 40.9375 10.546875 \nQ 45.796875 14.203125 45.796875 21.1875 \nQ 45.796875 27.640625 41.28125 31.265625 \nQ 36.765625 34.90625 28.71875 34.90625 \nL 20.21875 34.90625 \nL 20.21875 43.015625 \nL 29.109375 43.015625 \nQ 36.375 43.015625 40.234375 45.921875 \nQ 44.09375 48.828125 44.09375 54.296875 \nQ 44.09375 59.90625 40.109375 62.90625 \nQ 36.140625 65.921875 28.71875 65.921875 \nQ 24.65625 65.921875 20.015625 65.03125 \nQ 15.375 64.15625 9.8125 62.3125 \nL 9.8125 71.09375 \nQ 15.4375 72.65625 20.34375 73.4375 \nQ 25.25 74.21875 29.59375 74.21875 \nQ 40.828125 74.21875 47.359375 69.109375 \nQ 53.90625 64.015625 53.90625 55.328125 \nQ 53.90625 49.265625 50.4375 45.09375 \nQ 46.96875 40.921875 40.578125 39.3125 \nz\n\" id=\"DejaVuSans-51\"/>\n       </defs>\n       <use xlink:href=\"#DejaVuSans-51\"/>\n       <use x=\"63.623047\" xlink:href=\"#DejaVuSans-46\"/>\n       <use x=\"95.410156\" xlink:href=\"#DejaVuSans-48\"/>\n      </g>\n     </g>\n    </g>\n    <g id=\"ytick_8\">\n     <g id=\"line2d_13\">\n      <g>\n       <use style=\"fill:#ffffff;stroke:#ffffff;stroke-width:0.8;\" x=\"43.78125\" xlink:href=\"#m9604d756b3\" y=\"50.313525\"/>\n      </g>\n     </g>\n     <g id=\"text_15\">\n      <!-- 3.5 -->\n      <g style=\"fill:#ffffff;\" transform=\"translate(20.878125 54.112744)scale(0.1 -0.1)\">\n       <use xlink:href=\"#DejaVuSans-51\"/>\n       <use x=\"63.623047\" xlink:href=\"#DejaVuSans-46\"/>\n       <use x=\"95.410156\" xlink:href=\"#DejaVuSans-53\"/>\n      </g>\n     </g>\n    </g>\n    <g id=\"ytick_9\">\n     <g id=\"line2d_14\">\n      <g>\n       <use style=\"fill:#ffffff;stroke:#ffffff;stroke-width:0.8;\" x=\"43.78125\" xlink:href=\"#m9604d756b3\" y=\"23.250011\"/>\n      </g>\n     </g>\n     <g id=\"text_16\">\n      <!-- 4.0 -->\n      <g style=\"fill:#ffffff;\" transform=\"translate(20.878125 27.049229)scale(0.1 -0.1)\">\n       <use xlink:href=\"#DejaVuSans-52\"/>\n       <use x=\"63.623047\" xlink:href=\"#DejaVuSans-46\"/>\n       <use x=\"95.410156\" xlink:href=\"#DejaVuSans-48\"/>\n      </g>\n     </g>\n    </g>\n    <g id=\"text_17\">\n     <!-- Frequency -->\n     <g style=\"fill:#ffffff;\" transform=\"translate(14.798438 156.867813)rotate(-90)scale(0.1 -0.1)\">\n      <defs>\n       <path d=\"M 9.8125 72.90625 \nL 51.703125 72.90625 \nL 51.703125 64.59375 \nL 19.671875 64.59375 \nL 19.671875 43.109375 \nL 48.578125 43.109375 \nL 48.578125 34.8125 \nL 19.671875 34.8125 \nL 19.671875 0 \nL 9.8125 0 \nz\n\" id=\"DejaVuSans-70\"/>\n       <path d=\"M 14.796875 27.296875 \nQ 14.796875 17.390625 18.875 11.75 \nQ 22.953125 6.109375 30.078125 6.109375 \nQ 37.203125 6.109375 41.296875 11.75 \nQ 45.40625 17.390625 45.40625 27.296875 \nQ 45.40625 37.203125 41.296875 42.84375 \nQ 37.203125 48.484375 30.078125 48.484375 \nQ 22.953125 48.484375 18.875 42.84375 \nQ 14.796875 37.203125 14.796875 27.296875 \nz\nM 45.40625 8.203125 \nQ 42.578125 3.328125 38.25 0.953125 \nQ 33.9375 -1.421875 27.875 -1.421875 \nQ 17.96875 -1.421875 11.734375 6.484375 \nQ 5.515625 14.40625 5.515625 27.296875 \nQ 5.515625 40.1875 11.734375 48.09375 \nQ 17.96875 56 27.875 56 \nQ 33.9375 56 38.25 53.625 \nQ 42.578125 51.265625 45.40625 46.390625 \nL 45.40625 54.6875 \nL 54.390625 54.6875 \nL 54.390625 -20.796875 \nL 45.40625 -20.796875 \nz\n\" id=\"DejaVuSans-113\"/>\n       <path d=\"M 8.5 21.578125 \nL 8.5 54.6875 \nL 17.484375 54.6875 \nL 17.484375 21.921875 \nQ 17.484375 14.15625 20.5 10.265625 \nQ 23.53125 6.390625 29.59375 6.390625 \nQ 36.859375 6.390625 41.078125 11.03125 \nQ 45.3125 15.671875 45.3125 23.6875 \nL 45.3125 54.6875 \nL 54.296875 54.6875 \nL 54.296875 0 \nL 45.3125 0 \nL 45.3125 8.40625 \nQ 42.046875 3.421875 37.71875 1 \nQ 33.40625 -1.421875 27.6875 -1.421875 \nQ 18.265625 -1.421875 13.375 4.4375 \nQ 8.5 10.296875 8.5 21.578125 \nz\nM 31.109375 56 \nz\n\" id=\"DejaVuSans-117\"/>\n       <path d=\"M 54.890625 33.015625 \nL 54.890625 0 \nL 45.90625 0 \nL 45.90625 32.71875 \nQ 45.90625 40.484375 42.875 44.328125 \nQ 39.84375 48.1875 33.796875 48.1875 \nQ 26.515625 48.1875 22.3125 43.546875 \nQ 18.109375 38.921875 18.109375 30.90625 \nL 18.109375 0 \nL 9.078125 0 \nL 9.078125 54.6875 \nL 18.109375 54.6875 \nL 18.109375 46.1875 \nQ 21.34375 51.125 25.703125 53.5625 \nQ 30.078125 56 35.796875 56 \nQ 45.21875 56 50.046875 50.171875 \nQ 54.890625 44.34375 54.890625 33.015625 \nz\n\" id=\"DejaVuSans-110\"/>\n       <path d=\"M 32.171875 -5.078125 \nQ 28.375 -14.84375 24.75 -17.8125 \nQ 21.140625 -20.796875 15.09375 -20.796875 \nL 7.90625 -20.796875 \nL 7.90625 -13.28125 \nL 13.1875 -13.28125 \nQ 16.890625 -13.28125 18.9375 -11.515625 \nQ 21 -9.765625 23.484375 -3.21875 \nL 25.09375 0.875 \nL 2.984375 54.6875 \nL 12.5 54.6875 \nL 29.59375 11.921875 \nL 46.6875 54.6875 \nL 56.203125 54.6875 \nz\n\" id=\"DejaVuSans-121\"/>\n      </defs>\n      <use xlink:href=\"#DejaVuSans-70\"/>\n      <use x=\"50.269531\" xlink:href=\"#DejaVuSans-114\"/>\n      <use x=\"89.132812\" xlink:href=\"#DejaVuSans-101\"/>\n      <use x=\"150.65625\" xlink:href=\"#DejaVuSans-113\"/>\n      <use x=\"214.132812\" xlink:href=\"#DejaVuSans-117\"/>\n      <use x=\"277.511719\" xlink:href=\"#DejaVuSans-101\"/>\n      <use x=\"339.035156\" xlink:href=\"#DejaVuSans-110\"/>\n      <use x=\"402.414062\" xlink:href=\"#DejaVuSans-99\"/>\n      <use x=\"457.394531\" xlink:href=\"#DejaVuSans-121\"/>\n     </g>\n    </g>\n    <g id=\"text_18\">\n     <!-- 1e−6 -->\n     <g style=\"fill:#ffffff;\" transform=\"translate(43.78125 19.318125)scale(0.1 -0.1)\">\n      <defs>\n       <path d=\"M 10.59375 35.5 \nL 73.1875 35.5 \nL 73.1875 27.203125 \nL 10.59375 27.203125 \nz\n\" id=\"DejaVuSans-8722\"/>\n      </defs>\n      <use xlink:href=\"#DejaVuSans-49\"/>\n      <use x=\"63.623047\" xlink:href=\"#DejaVuSans-101\"/>\n      <use x=\"125.146484\" xlink:href=\"#DejaVuSans-8722\"/>\n      <use x=\"208.935547\" xlink:href=\"#DejaVuSans-54\"/>\n     </g>\n    </g>\n   </g>\n   <g id=\"line2d_15\">\n    <path clip-path=\"url(#p7f65bc02c7)\" d=\"M 60.741497 239.61807 \nL 65.479757 239.467282 \nL 70.218017 239.111583 \nL 72.587147 238.810017 \nL 74.956277 238.390317 \nL 77.325407 237.818688 \nL 79.694537 237.055986 \nL 82.063666 236.058568 \nL 84.432796 234.77975 \nL 86.801926 233.171913 \nL 89.171056 231.189182 \nL 91.540186 228.790549 \nL 93.909316 225.943171 \nL 96.278446 222.625536 \nL 98.647576 218.830105 \nL 101.016706 214.56507 \nL 103.385836 209.85489 \nL 105.754966 204.739396 \nL 108.124096 199.271394 \nL 112.862356 187.530335 \nL 119.969746 168.854781 \nL 134.184526 130.794569 \nL 141.291916 111.066107 \nL 148.399306 91.269602 \nL 150.768436 85.047957 \nL 153.137566 79.242519 \nL 155.506696 74.013886 \nL 157.875826 69.524272 \nL 160.244956 65.925049 \nL 162.614086 63.344128 \nL 164.983216 61.874565 \nL 167.352346 61.565695 \nL 169.721475 62.417895 \nL 172.090605 64.381714 \nL 174.459735 67.361545 \nL 176.828865 71.223527 \nL 179.197995 75.806766 \nL 181.567125 80.936635 \nL 186.305385 92.151228 \nL 193.412775 109.333312 \nL 198.151035 120.185945 \nL 205.258425 135.58511 \nL 224.211465 175.958235 \nL 226.580595 180.610078 \nL 228.949725 184.98989 \nL 231.318855 189.040826 \nL 233.687985 192.715656 \nL 236.057115 195.978789 \nL 238.426245 198.806979 \nL 240.795375 201.188968 \nL 243.164505 203.124468 \nL 245.533635 204.622899 \nL 247.902765 205.702249 \nL 250.271895 206.388258 \nL 252.641025 206.713987 \nL 255.010154 206.719634 \nL 257.379284 206.452363 \nL 259.748414 205.965883 \nL 264.486674 204.576716 \nL 269.224934 203.062462 \nL 271.594064 202.416941 \nL 273.963194 201.921349 \nL 276.332324 201.62244 \nL 278.701454 201.557004 \nL 281.070584 201.751006 \nL 283.439714 202.21946 \nL 285.808844 202.966903 \nL 288.177974 203.988304 \nL 290.547104 205.270192 \nL 292.916234 206.791843 \nL 295.285364 208.52643 \nL 297.654494 210.442087 \nL 302.392754 214.670041 \nL 311.869274 223.58432 \nL 316.607534 227.653143 \nL 318.976664 229.482556 \nL 321.345794 231.149349 \nL 323.714924 232.642459 \nL 326.084054 233.957453 \nL 328.453184 235.095994 \nL 330.822314 236.06501 \nL 333.191444 236.875644 \nL 335.560574 237.542105 \nL 340.298834 238.5078 \nL 345.037093 239.095494 \nL 349.775353 239.426078 \nL 356.882743 239.632522 \nL 361.621003 239.646016 \nL 361.621003 239.646016 \n\" style=\"fill:none;stroke:#8dd3c7;stroke-linecap:square;stroke-width:1.5;\"/>\n   </g>\n   <g id=\"line2d_16\">\n    <path clip-path=\"url(#p7f65bc02c7)\" d=\"M 58.999432 235.560186 \nL 63.587828 234.324787 \nL 68.176225 232.793062 \nL 71.235156 231.582656 \nL 74.294087 230.202788 \nL 77.353018 228.637608 \nL 80.411949 226.871191 \nL 83.47088 224.887819 \nL 86.529811 222.672304 \nL 89.588742 220.210343 \nL 92.647673 217.488917 \nL 95.706604 214.496707 \nL 98.765535 211.22454 \nL 101.824466 207.665841 \nL 104.883397 203.81709 \nL 107.942328 199.678266 \nL 111.001259 195.253263 \nL 114.06019 190.550274 \nL 118.648587 183.003935 \nL 123.236983 174.926158 \nL 127.82538 166.406757 \nL 133.943242 154.563918 \nL 147.708431 127.673881 \nL 152.296828 119.279069 \nL 155.355759 114.009003 \nL 158.41469 109.067622 \nL 161.473621 104.510775 \nL 164.532552 100.391378 \nL 167.591483 96.758392 \nL 170.650414 93.655859 \nL 173.709345 91.122011 \nL 175.238811 90.078508 \nL 176.768276 89.188489 \nL 178.297742 88.454773 \nL 179.827207 87.879688 \nL 181.356673 87.465069 \nL 182.886138 87.212238 \nL 184.415604 87.122005 \nL 185.945069 87.194658 \nL 187.474535 87.429964 \nL 189.004 87.827172 \nL 190.533466 88.385012 \nL 192.062931 89.101707 \nL 193.592397 89.974978 \nL 195.121862 91.002061 \nL 196.651328 92.179716 \nL 199.710259 94.971528 \nL 202.76919 98.315743 \nL 205.828121 102.171434 \nL 208.887052 106.49225 \nL 211.945983 111.227343 \nL 215.004914 116.322361 \nL 219.59331 124.515029 \nL 224.181707 133.19264 \nL 233.3585 151.225548 \nL 241.005827 166.093329 \nL 245.594224 174.626619 \nL 250.18262 182.722003 \nL 254.771017 190.288729 \nL 259.359414 197.26184 \nL 262.418345 201.55995 \nL 265.477276 205.569634 \nL 268.536207 209.288794 \nL 271.595138 212.719067 \nL 274.654069 215.86539 \nL 277.713 218.735553 \nL 280.771931 221.339743 \nL 283.830862 223.690089 \nL 286.889793 225.800236 \nL 289.948724 227.684925 \nL 293.007655 229.359625 \nL 296.066586 230.840183 \nL 299.125517 232.142523 \nL 303.713913 233.796196 \nL 308.30231 235.13541 \nL 312.890706 236.208069 \nL 317.479103 237.057894 \nL 323.596965 237.911132 \nL 329.714827 238.516152 \nL 337.362155 239.019813 \nL 346.538948 239.376273 \nL 358.774672 239.608797 \nL 363.363068 239.654948 \nL 363.363068 239.654948 \n\" style=\"fill:none;stroke:#282828;stroke-linecap:square;stroke-width:1.5;\"/>\n   </g>\n   <g id=\"patch_13\">\n    <path d=\"M 43.78125 239.758125 \nL 43.78125 22.318125 \n\" style=\"fill:none;stroke:#ffffff;stroke-linecap:square;stroke-linejoin:miter;stroke-width:0.8;\"/>\n   </g>\n   <g id=\"patch_14\">\n    <path d=\"M 378.58125 239.758125 \nL 378.58125 22.318125 \n\" style=\"fill:none;stroke:#ffffff;stroke-linecap:square;stroke-linejoin:miter;stroke-width:0.8;\"/>\n   </g>\n   <g id=\"patch_15\">\n    <path d=\"M 43.78125 239.758125 \nL 378.58125 239.758125 \n\" style=\"fill:none;stroke:#ffffff;stroke-linecap:square;stroke-linejoin:miter;stroke-width:0.8;\"/>\n   </g>\n   <g id=\"patch_16\">\n    <path d=\"M 43.78125 22.318125 \nL 378.58125 22.318125 \n\" style=\"fill:none;stroke:#ffffff;stroke-linecap:square;stroke-linejoin:miter;stroke-width:0.8;\"/>\n   </g>\n   <g id=\"text_19\">\n    <!-- SoldPrice distribution -->\n    <g style=\"fill:#ffffff;\" transform=\"translate(147.489375 16.318125)scale(0.12 -0.12)\">\n     <defs>\n      <path d=\"M 53.515625 70.515625 \nL 53.515625 60.890625 \nQ 47.90625 63.578125 42.921875 64.890625 \nQ 37.9375 66.21875 33.296875 66.21875 \nQ 25.25 66.21875 20.875 63.09375 \nQ 16.5 59.96875 16.5 54.203125 \nQ 16.5 49.359375 19.40625 46.890625 \nQ 22.3125 44.4375 30.421875 42.921875 \nL 36.375 41.703125 \nQ 47.40625 39.59375 52.65625 34.296875 \nQ 57.90625 29 57.90625 20.125 \nQ 57.90625 9.515625 50.796875 4.046875 \nQ 43.703125 -1.421875 29.984375 -1.421875 \nQ 24.8125 -1.421875 18.96875 -0.25 \nQ 13.140625 0.921875 6.890625 3.21875 \nL 6.890625 13.375 \nQ 12.890625 10.015625 18.65625 8.296875 \nQ 24.421875 6.59375 29.984375 6.59375 \nQ 38.421875 6.59375 43.015625 9.90625 \nQ 47.609375 13.234375 47.609375 19.390625 \nQ 47.609375 24.75 44.3125 27.78125 \nQ 41.015625 30.8125 33.5 32.328125 \nL 27.484375 33.5 \nQ 16.453125 35.6875 11.515625 40.375 \nQ 6.59375 45.0625 6.59375 53.421875 \nQ 6.59375 63.09375 13.40625 68.65625 \nQ 20.21875 74.21875 32.171875 74.21875 \nQ 37.3125 74.21875 42.625 73.28125 \nQ 47.953125 72.359375 53.515625 70.515625 \nz\n\" id=\"DejaVuSans-83\"/>\n      <path d=\"M 19.671875 64.796875 \nL 19.671875 37.40625 \nL 32.078125 37.40625 \nQ 38.96875 37.40625 42.71875 40.96875 \nQ 46.484375 44.53125 46.484375 51.125 \nQ 46.484375 57.671875 42.71875 61.234375 \nQ 38.96875 64.796875 32.078125 64.796875 \nz\nM 9.8125 72.90625 \nL 32.078125 72.90625 \nQ 44.34375 72.90625 50.609375 67.359375 \nQ 56.890625 61.8125 56.890625 51.125 \nQ 56.890625 40.328125 50.609375 34.8125 \nQ 44.34375 29.296875 32.078125 29.296875 \nL 19.671875 29.296875 \nL 19.671875 0 \nL 9.8125 0 \nz\n\" id=\"DejaVuSans-80\"/>\n      <path id=\"DejaVuSans-32\"/>\n      <path d=\"M 18.3125 70.21875 \nL 18.3125 54.6875 \nL 36.8125 54.6875 \nL 36.8125 47.703125 \nL 18.3125 47.703125 \nL 18.3125 18.015625 \nQ 18.3125 11.328125 20.140625 9.421875 \nQ 21.96875 7.515625 27.59375 7.515625 \nL 36.8125 7.515625 \nL 36.8125 0 \nL 27.59375 0 \nQ 17.1875 0 13.234375 3.875 \nQ 9.28125 7.765625 9.28125 18.015625 \nL 9.28125 47.703125 \nL 2.6875 47.703125 \nL 2.6875 54.6875 \nL 9.28125 54.6875 \nL 9.28125 70.21875 \nz\n\" id=\"DejaVuSans-116\"/>\n      <path d=\"M 48.6875 27.296875 \nQ 48.6875 37.203125 44.609375 42.84375 \nQ 40.53125 48.484375 33.40625 48.484375 \nQ 26.265625 48.484375 22.1875 42.84375 \nQ 18.109375 37.203125 18.109375 27.296875 \nQ 18.109375 17.390625 22.1875 11.75 \nQ 26.265625 6.109375 33.40625 6.109375 \nQ 40.53125 6.109375 44.609375 11.75 \nQ 48.6875 17.390625 48.6875 27.296875 \nz\nM 18.109375 46.390625 \nQ 20.953125 51.265625 25.265625 53.625 \nQ 29.59375 56 35.59375 56 \nQ 45.5625 56 51.78125 48.09375 \nQ 58.015625 40.1875 58.015625 27.296875 \nQ 58.015625 14.40625 51.78125 6.484375 \nQ 45.5625 -1.421875 35.59375 -1.421875 \nQ 29.59375 -1.421875 25.265625 0.953125 \nQ 20.953125 3.328125 18.109375 8.203125 \nL 18.109375 0 \nL 9.078125 0 \nL 9.078125 75.984375 \nL 18.109375 75.984375 \nz\n\" id=\"DejaVuSans-98\"/>\n     </defs>\n     <use xlink:href=\"#DejaVuSans-83\"/>\n     <use x=\"63.476562\" xlink:href=\"#DejaVuSans-111\"/>\n     <use x=\"124.658203\" xlink:href=\"#DejaVuSans-108\"/>\n     <use x=\"152.441406\" xlink:href=\"#DejaVuSans-100\"/>\n     <use x=\"215.917969\" xlink:href=\"#DejaVuSans-80\"/>\n     <use x=\"274.470703\" xlink:href=\"#DejaVuSans-114\"/>\n     <use x=\"315.583984\" xlink:href=\"#DejaVuSans-105\"/>\n     <use x=\"343.367188\" xlink:href=\"#DejaVuSans-99\"/>\n     <use x=\"398.347656\" xlink:href=\"#DejaVuSans-101\"/>\n     <use x=\"459.871094\" xlink:href=\"#DejaVuSans-32\"/>\n     <use x=\"491.658203\" xlink:href=\"#DejaVuSans-100\"/>\n     <use x=\"555.134766\" xlink:href=\"#DejaVuSans-105\"/>\n     <use x=\"582.917969\" xlink:href=\"#DejaVuSans-115\"/>\n     <use x=\"635.017578\" xlink:href=\"#DejaVuSans-116\"/>\n     <use x=\"674.226562\" xlink:href=\"#DejaVuSans-114\"/>\n     <use x=\"715.339844\" xlink:href=\"#DejaVuSans-105\"/>\n     <use x=\"743.123047\" xlink:href=\"#DejaVuSans-98\"/>\n     <use x=\"806.599609\" xlink:href=\"#DejaVuSans-117\"/>\n     <use x=\"869.978516\" xlink:href=\"#DejaVuSans-116\"/>\n     <use x=\"909.1875\" xlink:href=\"#DejaVuSans-105\"/>\n     <use x=\"936.970703\" xlink:href=\"#DejaVuSans-111\"/>\n     <use x=\"998.152344\" xlink:href=\"#DejaVuSans-110\"/>\n    </g>\n   </g>\n   <g id=\"legend_1\">\n    <g id=\"patch_17\">\n     <path d=\"M 69.13125 45.018125 \nL 353.23125 45.018125 \nQ 355.23125 45.018125 355.23125 43.018125 \nL 355.23125 29.318125 \nQ 355.23125 27.318125 353.23125 27.318125 \nL 69.13125 27.318125 \nQ 67.13125 27.318125 67.13125 29.318125 \nL 67.13125 43.018125 \nQ 67.13125 45.018125 69.13125 45.018125 \nz\n\" style=\"opacity:0.8;stroke:#cccccc;stroke-linejoin:miter;\"/>\n    </g>\n    <g id=\"line2d_17\">\n     <path d=\"M 71.13125 35.418125 \nL 91.13125 35.418125 \n\" style=\"fill:none;stroke:#282828;stroke-linecap:square;stroke-width:1.5;\"/>\n    </g>\n    <g id=\"line2d_18\"/>\n    <g id=\"text_20\">\n     <!-- Normal dist. ($\\mu=$ 456862.94 and $\\sigma=$ 141470.62 ) -->\n     <g style=\"fill:#ffffff;\" transform=\"translate(99.13125 38.918125)scale(0.1 -0.1)\">\n      <defs>\n       <path d=\"M 9.8125 72.90625 \nL 23.09375 72.90625 \nL 55.421875 11.921875 \nL 55.421875 72.90625 \nL 64.984375 72.90625 \nL 64.984375 0 \nL 51.703125 0 \nL 19.390625 60.984375 \nL 19.390625 0 \nL 9.8125 0 \nz\n\" id=\"DejaVuSans-78\"/>\n       <path d=\"M 52 44.1875 \nQ 55.375 50.25 60.0625 53.125 \nQ 64.75 56 71.09375 56 \nQ 79.640625 56 84.28125 50.015625 \nQ 88.921875 44.046875 88.921875 33.015625 \nL 88.921875 0 \nL 79.890625 0 \nL 79.890625 32.71875 \nQ 79.890625 40.578125 77.09375 44.375 \nQ 74.3125 48.1875 68.609375 48.1875 \nQ 61.625 48.1875 57.5625 43.546875 \nQ 53.515625 38.921875 53.515625 30.90625 \nL 53.515625 0 \nL 44.484375 0 \nL 44.484375 32.71875 \nQ 44.484375 40.625 41.703125 44.40625 \nQ 38.921875 48.1875 33.109375 48.1875 \nQ 26.21875 48.1875 22.15625 43.53125 \nQ 18.109375 38.875 18.109375 30.90625 \nL 18.109375 0 \nL 9.078125 0 \nL 9.078125 54.6875 \nL 18.109375 54.6875 \nL 18.109375 46.1875 \nQ 21.1875 51.21875 25.484375 53.609375 \nQ 29.78125 56 35.6875 56 \nQ 41.65625 56 45.828125 52.96875 \nQ 50 49.953125 52 44.1875 \nz\n\" id=\"DejaVuSans-109\"/>\n       <path d=\"M 34.28125 27.484375 \nQ 23.390625 27.484375 19.1875 25 \nQ 14.984375 22.515625 14.984375 16.5 \nQ 14.984375 11.71875 18.140625 8.90625 \nQ 21.296875 6.109375 26.703125 6.109375 \nQ 34.1875 6.109375 38.703125 11.40625 \nQ 43.21875 16.703125 43.21875 25.484375 \nL 43.21875 27.484375 \nz\nM 52.203125 31.203125 \nL 52.203125 0 \nL 43.21875 0 \nL 43.21875 8.296875 \nQ 40.140625 3.328125 35.546875 0.953125 \nQ 30.953125 -1.421875 24.3125 -1.421875 \nQ 15.921875 -1.421875 10.953125 3.296875 \nQ 6 8.015625 6 15.921875 \nQ 6 25.140625 12.171875 29.828125 \nQ 18.359375 34.515625 30.609375 34.515625 \nL 43.21875 34.515625 \nL 43.21875 35.40625 \nQ 43.21875 41.609375 39.140625 45 \nQ 35.0625 48.390625 27.6875 48.390625 \nQ 23 48.390625 18.546875 47.265625 \nQ 14.109375 46.140625 10.015625 43.890625 \nL 10.015625 52.203125 \nQ 14.9375 54.109375 19.578125 55.046875 \nQ 24.21875 56 28.609375 56 \nQ 40.484375 56 46.34375 49.84375 \nQ 52.203125 43.703125 52.203125 31.203125 \nz\n\" id=\"DejaVuSans-97\"/>\n       <path d=\"M 31 75.875 \nQ 24.46875 64.65625 21.28125 53.65625 \nQ 18.109375 42.671875 18.109375 31.390625 \nQ 18.109375 20.125 21.3125 9.0625 \nQ 24.515625 -2 31 -13.1875 \nL 23.1875 -13.1875 \nQ 15.875 -1.703125 12.234375 9.375 \nQ 8.59375 20.453125 8.59375 31.390625 \nQ 8.59375 42.28125 12.203125 53.3125 \nQ 15.828125 64.359375 23.1875 75.875 \nz\n\" id=\"DejaVuSans-40\"/>\n       <path d=\"M -1.3125 -20.796875 \nL 13.375 54.6875 \nL 22.40625 54.6875 \nL 15.765625 20.65625 \nQ 15.578125 19.625 15.421875 18.359375 \nQ 15.28125 17.09375 15.28125 15.828125 \nQ 15.28125 11.28125 18.140625 8.828125 \nQ 21 6.390625 26.3125 6.390625 \nQ 33.546875 6.390625 37.984375 10.484375 \nQ 42.4375 14.59375 44 22.796875 \nL 50.203125 54.6875 \nL 59.1875 54.6875 \nL 51.03125 12.640625 \nQ 50.828125 11.71875 50.75 11.03125 \nQ 50.6875 10.359375 50.6875 9.8125 \nQ 50.6875 8.296875 51.296875 7.59375 \nQ 51.90625 6.890625 53.21875 6.890625 \nQ 53.71875 6.890625 54.5625 7.125 \nQ 55.421875 7.375 56.984375 8.015625 \nL 55.609375 0.78125 \nQ 53.46875 -0.296875 51.515625 -0.859375 \nQ 49.5625 -1.421875 47.703125 -1.421875 \nQ 44.484375 -1.421875 42.65625 0.625 \nQ 40.828125 2.6875 40.828125 6.296875 \nQ 38.09375 2.390625 34.296875 0.484375 \nQ 30.515625 -1.421875 25.390625 -1.421875 \nQ 20.84375 -1.421875 17.453125 0.671875 \nQ 14.0625 2.78125 12.984375 6.203125 \nL 7.71875 -20.796875 \nz\n\" id=\"DejaVuSans-Oblique-956\"/>\n       <path d=\"M 10.59375 45.40625 \nL 73.1875 45.40625 \nL 73.1875 37.203125 \nL 10.59375 37.203125 \nz\nM 10.59375 25.484375 \nL 73.1875 25.484375 \nL 73.1875 17.1875 \nL 10.59375 17.1875 \nz\n\" id=\"DejaVuSans-61\"/>\n       <path d=\"M 10.984375 1.515625 \nL 10.984375 10.5 \nQ 14.703125 8.734375 18.5 7.8125 \nQ 22.3125 6.890625 25.984375 6.890625 \nQ 35.75 6.890625 40.890625 13.453125 \nQ 46.046875 20.015625 46.78125 33.40625 \nQ 43.953125 29.203125 39.59375 26.953125 \nQ 35.25 24.703125 29.984375 24.703125 \nQ 19.046875 24.703125 12.671875 31.3125 \nQ 6.296875 37.9375 6.296875 49.421875 \nQ 6.296875 60.640625 12.9375 67.421875 \nQ 19.578125 74.21875 30.609375 74.21875 \nQ 43.265625 74.21875 49.921875 64.515625 \nQ 56.59375 54.828125 56.59375 36.375 \nQ 56.59375 19.140625 48.40625 8.859375 \nQ 40.234375 -1.421875 26.421875 -1.421875 \nQ 22.703125 -1.421875 18.890625 -0.6875 \nQ 15.09375 0.046875 10.984375 1.515625 \nz\nM 30.609375 32.421875 \nQ 37.25 32.421875 41.125 36.953125 \nQ 45.015625 41.5 45.015625 49.421875 \nQ 45.015625 57.28125 41.125 61.84375 \nQ 37.25 66.40625 30.609375 66.40625 \nQ 23.96875 66.40625 20.09375 61.84375 \nQ 16.21875 57.28125 16.21875 49.421875 \nQ 16.21875 41.5 20.09375 36.953125 \nQ 23.96875 32.421875 30.609375 32.421875 \nz\n\" id=\"DejaVuSans-57\"/>\n       <path d=\"M 34.671875 47.5625 \nQ 27.25 47.5625 22.21875 42.1875 \nQ 16.890625 36.578125 15.140625 27.296875 \nQ 13.1875 17.484375 16.3125 11.8125 \nQ 19.390625 6.203125 26.65625 6.203125 \nQ 33.84375 6.203125 39.109375 11.859375 \nQ 44.4375 17.53125 46.34375 27.296875 \nQ 48.046875 36.234375 45.015625 42.1875 \nQ 42.1875 47.5625 34.671875 47.5625 \nz\nM 36.078125 54.734375 \nL 65.921875 54.6875 \nL 64.15625 45.703125 \nL 54.109375 45.703125 \nQ 57.90625 38.09375 55.859375 27.296875 \nQ 53.21875 13.875 45.0625 6.25 \nQ 36.859375 -1.421875 25.140625 -1.421875 \nQ 13.375 -1.421875 8.203125 6.25 \nQ 3.03125 13.875 5.671875 27.296875 \nQ 8.25 40.765625 16.40625 48.390625 \nQ 23.1875 54.734375 36.078125 54.734375 \nz\n\" id=\"DejaVuSans-Oblique-963\"/>\n       <path d=\"M 8.203125 72.90625 \nL 55.078125 72.90625 \nL 55.078125 68.703125 \nL 28.609375 0 \nL 18.3125 0 \nL 43.21875 64.59375 \nL 8.203125 64.59375 \nz\n\" id=\"DejaVuSans-55\"/>\n       <path d=\"M 8.015625 75.875 \nL 15.828125 75.875 \nQ 23.140625 64.359375 26.78125 53.3125 \nQ 30.421875 42.28125 30.421875 31.390625 \nQ 30.421875 20.453125 26.78125 9.375 \nQ 23.140625 -1.703125 15.828125 -13.1875 \nL 8.015625 -13.1875 \nQ 14.5 -2 17.703125 9.0625 \nQ 20.90625 20.125 20.90625 31.390625 \nQ 20.90625 42.671875 17.703125 53.65625 \nQ 14.5 64.65625 8.015625 75.875 \nz\n\" id=\"DejaVuSans-41\"/>\n      </defs>\n      <use transform=\"translate(0 0.015625)\" xlink:href=\"#DejaVuSans-78\"/>\n      <use transform=\"translate(74.804688 0.015625)\" xlink:href=\"#DejaVuSans-111\"/>\n      <use transform=\"translate(135.986328 0.015625)\" xlink:href=\"#DejaVuSans-114\"/>\n      <use transform=\"translate(177.099609 0.015625)\" xlink:href=\"#DejaVuSans-109\"/>\n      <use transform=\"translate(274.511719 0.015625)\" xlink:href=\"#DejaVuSans-97\"/>\n      <use transform=\"translate(335.791016 0.015625)\" xlink:href=\"#DejaVuSans-108\"/>\n      <use transform=\"translate(363.574219 0.015625)\" xlink:href=\"#DejaVuSans-32\"/>\n      <use transform=\"translate(395.361328 0.015625)\" xlink:href=\"#DejaVuSans-100\"/>\n      <use transform=\"translate(458.837891 0.015625)\" xlink:href=\"#DejaVuSans-105\"/>\n      <use transform=\"translate(486.621094 0.015625)\" xlink:href=\"#DejaVuSans-115\"/>\n      <use transform=\"translate(538.720703 0.015625)\" xlink:href=\"#DejaVuSans-116\"/>\n      <use transform=\"translate(577.929688 0.015625)\" xlink:href=\"#DejaVuSans-46\"/>\n      <use transform=\"translate(609.716797 0.015625)\" xlink:href=\"#DejaVuSans-32\"/>\n      <use transform=\"translate(641.503906 0.015625)\" xlink:href=\"#DejaVuSans-40\"/>\n      <use transform=\"translate(680.517578 0.015625)\" xlink:href=\"#DejaVuSans-Oblique-956\"/>\n      <use transform=\"translate(763.623047 0.015625)\" xlink:href=\"#DejaVuSans-61\"/>\n      <use transform=\"translate(866.894531 0.015625)\" xlink:href=\"#DejaVuSans-32\"/>\n      <use transform=\"translate(898.681641 0.015625)\" xlink:href=\"#DejaVuSans-52\"/>\n      <use transform=\"translate(962.304688 0.015625)\" xlink:href=\"#DejaVuSans-53\"/>\n      <use transform=\"translate(1025.927734 0.015625)\" xlink:href=\"#DejaVuSans-54\"/>\n      <use transform=\"translate(1089.550781 0.015625)\" xlink:href=\"#DejaVuSans-56\"/>\n      <use transform=\"translate(1153.173828 0.015625)\" xlink:href=\"#DejaVuSans-54\"/>\n      <use transform=\"translate(1216.796875 0.015625)\" xlink:href=\"#DejaVuSans-50\"/>\n      <use transform=\"translate(1280.419922 0.015625)\" xlink:href=\"#DejaVuSans-46\"/>\n      <use transform=\"translate(1312.207031 0.015625)\" xlink:href=\"#DejaVuSans-57\"/>\n      <use transform=\"translate(1375.830078 0.015625)\" xlink:href=\"#DejaVuSans-52\"/>\n      <use transform=\"translate(1439.453125 0.015625)\" xlink:href=\"#DejaVuSans-32\"/>\n      <use transform=\"translate(1471.240234 0.015625)\" xlink:href=\"#DejaVuSans-97\"/>\n      <use transform=\"translate(1532.519531 0.015625)\" xlink:href=\"#DejaVuSans-110\"/>\n      <use transform=\"translate(1595.898438 0.015625)\" xlink:href=\"#DejaVuSans-100\"/>\n      <use transform=\"translate(1659.375 0.015625)\" xlink:href=\"#DejaVuSans-32\"/>\n      <use transform=\"translate(1691.162109 0.015625)\" xlink:href=\"#DejaVuSans-Oblique-963\"/>\n      <use transform=\"translate(1774.023438 0.015625)\" xlink:href=\"#DejaVuSans-61\"/>\n      <use transform=\"translate(1877.294922 0.015625)\" xlink:href=\"#DejaVuSans-32\"/>\n      <use transform=\"translate(1909.082031 0.015625)\" xlink:href=\"#DejaVuSans-49\"/>\n      <use transform=\"translate(1972.705078 0.015625)\" xlink:href=\"#DejaVuSans-52\"/>\n      <use transform=\"translate(2036.328125 0.015625)\" xlink:href=\"#DejaVuSans-49\"/>\n      <use transform=\"translate(2099.951172 0.015625)\" xlink:href=\"#DejaVuSans-52\"/>\n      <use transform=\"translate(2163.574219 0.015625)\" xlink:href=\"#DejaVuSans-55\"/>\n      <use transform=\"translate(2227.197266 0.015625)\" xlink:href=\"#DejaVuSans-48\"/>\n      <use transform=\"translate(2290.820312 0.015625)\" xlink:href=\"#DejaVuSans-46\"/>\n      <use transform=\"translate(2322.607422 0.015625)\" xlink:href=\"#DejaVuSans-54\"/>\n      <use transform=\"translate(2386.230469 0.015625)\" xlink:href=\"#DejaVuSans-50\"/>\n      <use transform=\"translate(2449.853516 0.015625)\" xlink:href=\"#DejaVuSans-32\"/>\n      <use transform=\"translate(2481.640625 0.015625)\" xlink:href=\"#DejaVuSans-41\"/>\n     </g>\n    </g>\n   </g>\n  </g>\n </g>\n <defs>\n  <clipPath id=\"p7f65bc02c7\">\n   <rect height=\"217.44\" width=\"334.8\" x=\"43.78125\" y=\"22.318125\"/>\n  </clipPath>\n </defs>\n</svg>\n",
      "image/png": "[encoded data removed]"
     },
     "metadata": {}
    },
    {
     "output_type": "display_data",
     "data": {
      "text/plain": "<Figure size 432x288 with 1 Axes>",
      "image/svg+xml": "<?xml version=\"1.0\" encoding=\"utf-8\" standalone=\"no\"?>\n<!DOCTYPE svg PUBLIC \"-//W3C//DTD SVG 1.1//EN\"\n  \"http://www.w3.org/Graphics/SVG/1.1/DTD/svg11.dtd\">\n<!-- Created with matplotlib (https://matplotlib.org/) -->\n<svg height=\"277.314375pt\" version=\"1.1\" viewBox=\"0 0 408.053125 277.314375\" width=\"408.053125pt\" xmlns=\"http://www.w3.org/2000/svg\" xmlns:xlink=\"http://www.w3.org/1999/xlink\">\n <metadata>\n  <rdf:RDF xmlns:cc=\"http://creativecommons.org/ns#\" xmlns:dc=\"http://purl.org/dc/elements/1.1/\" xmlns:rdf=\"http://www.w3.org/1999/02/22-rdf-syntax-ns#\">\n   <cc:Work>\n    <dc:type rdf:resource=\"http://purl.org/dc/dcmitype/StillImage\"/>\n    <dc:date>2021-03-14T19:53:58.088932</dc:date>\n    <dc:format>image/svg+xml</dc:format>\n    <dc:creator>\n     <cc:Agent>\n      <dc:title>Matplotlib v3.3.1, https://matplotlib.org/</dc:title>\n     </cc:Agent>\n    </dc:creator>\n   </cc:Work>\n  </rdf:RDF>\n </metadata>\n <defs>\n  <style type=\"text/css\">*{stroke-linecap:butt;stroke-linejoin:round;}</style>\n </defs>\n <g id=\"figure_1\">\n  <g id=\"patch_1\">\n   <path d=\"M 0 277.314375 \nL 408.053125 277.314375 \nL 408.053125 0 \nL 0 0 \nz\n\"/>\n  </g>\n  <g id=\"axes_1\">\n   <g id=\"patch_2\">\n    <path d=\"M 66.053125 239.758125 \nL 400.853125 239.758125 \nL 400.853125 22.318125 \nL 66.053125 22.318125 \nz\n\"/>\n   </g>\n   <g id=\"matplotlib.axis_1\">\n    <g id=\"xtick_1\">\n     <g id=\"line2d_1\">\n      <defs>\n       <path d=\"M 0 0 \nL 0 3.5 \n\" id=\"mf2e0eeb778\" style=\"stroke:#ffffff;stroke-width:0.8;\"/>\n      </defs>\n      <g>\n       <use style=\"fill:#ffffff;stroke:#ffffff;stroke-width:0.8;\" x=\"118.437777\" xlink:href=\"#mf2e0eeb778\" y=\"239.758125\"/>\n      </g>\n     </g>\n     <g id=\"text_1\">\n      <!-- −2 -->\n      <g style=\"fill:#ffffff;\" transform=\"translate(111.066683 254.356562)scale(0.1 -0.1)\">\n       <defs>\n        <path d=\"M 10.59375 35.5 \nL 73.1875 35.5 \nL 73.1875 27.203125 \nL 10.59375 27.203125 \nz\n\" id=\"DejaVuSans-8722\"/>\n        <path d=\"M 19.1875 8.296875 \nL 53.609375 8.296875 \nL 53.609375 0 \nL 7.328125 0 \nL 7.328125 8.296875 \nQ 12.9375 14.109375 22.625 23.890625 \nQ 32.328125 33.6875 34.8125 36.53125 \nQ 39.546875 41.84375 41.421875 45.53125 \nQ 43.3125 49.21875 43.3125 52.78125 \nQ 43.3125 58.59375 39.234375 62.25 \nQ 35.15625 65.921875 28.609375 65.921875 \nQ 23.96875 65.921875 18.8125 64.3125 \nQ 13.671875 62.703125 7.8125 59.421875 \nL 7.8125 69.390625 \nQ 13.765625 71.78125 18.9375 73 \nQ 24.125 74.21875 28.421875 74.21875 \nQ 39.75 74.21875 46.484375 68.546875 \nQ 53.21875 62.890625 53.21875 53.421875 \nQ 53.21875 48.921875 51.53125 44.890625 \nQ 49.859375 40.875 45.40625 35.40625 \nQ 44.1875 33.984375 37.640625 27.21875 \nQ 31.109375 20.453125 19.1875 8.296875 \nz\n\" id=\"DejaVuSans-50\"/>\n       </defs>\n       <use xlink:href=\"#DejaVuSans-8722\"/>\n       <use x=\"83.789062\" xlink:href=\"#DejaVuSans-50\"/>\n      </g>\n     </g>\n    </g>\n    <g id=\"xtick_2\">\n     <g id=\"line2d_2\">\n      <g>\n       <use style=\"fill:#ffffff;stroke:#ffffff;stroke-width:0.8;\" x=\"175.945451\" xlink:href=\"#mf2e0eeb778\" y=\"239.758125\"/>\n      </g>\n     </g>\n     <g id=\"text_2\">\n      <!-- −1 -->\n      <g style=\"fill:#ffffff;\" transform=\"translate(168.574357 254.356562)scale(0.1 -0.1)\">\n       <defs>\n        <path d=\"M 12.40625 8.296875 \nL 28.515625 8.296875 \nL 28.515625 63.921875 \nL 10.984375 60.40625 \nL 10.984375 69.390625 \nL 28.421875 72.90625 \nL 38.28125 72.90625 \nL 38.28125 8.296875 \nL 54.390625 8.296875 \nL 54.390625 0 \nL 12.40625 0 \nz\n\" id=\"DejaVuSans-49\"/>\n       </defs>\n       <use xlink:href=\"#DejaVuSans-8722\"/>\n       <use x=\"83.789062\" xlink:href=\"#DejaVuSans-49\"/>\n      </g>\n     </g>\n    </g>\n    <g id=\"xtick_3\">\n     <g id=\"line2d_3\">\n      <g>\n       <use style=\"fill:#ffffff;stroke:#ffffff;stroke-width:0.8;\" x=\"233.453125\" xlink:href=\"#mf2e0eeb778\" y=\"239.758125\"/>\n      </g>\n     </g>\n     <g id=\"text_3\">\n      <!-- 0 -->\n      <g style=\"fill:#ffffff;\" transform=\"translate(230.271875 254.356562)scale(0.1 -0.1)\">\n       <defs>\n        <path d=\"M 31.78125 66.40625 \nQ 24.171875 66.40625 20.328125 58.90625 \nQ 16.5 51.421875 16.5 36.375 \nQ 16.5 21.390625 20.328125 13.890625 \nQ 24.171875 6.390625 31.78125 6.390625 \nQ 39.453125 6.390625 43.28125 13.890625 \nQ 47.125 21.390625 47.125 36.375 \nQ 47.125 51.421875 43.28125 58.90625 \nQ 39.453125 66.40625 31.78125 66.40625 \nz\nM 31.78125 74.21875 \nQ 44.046875 74.21875 50.515625 64.515625 \nQ 56.984375 54.828125 56.984375 36.375 \nQ 56.984375 17.96875 50.515625 8.265625 \nQ 44.046875 -1.421875 31.78125 -1.421875 \nQ 19.53125 -1.421875 13.0625 8.265625 \nQ 6.59375 17.96875 6.59375 36.375 \nQ 6.59375 54.828125 13.0625 64.515625 \nQ 19.53125 74.21875 31.78125 74.21875 \nz\n\" id=\"DejaVuSans-48\"/>\n       </defs>\n       <use xlink:href=\"#DejaVuSans-48\"/>\n      </g>\n     </g>\n    </g>\n    <g id=\"xtick_4\">\n     <g id=\"line2d_4\">\n      <g>\n       <use style=\"fill:#ffffff;stroke:#ffffff;stroke-width:0.8;\" x=\"290.960799\" xlink:href=\"#mf2e0eeb778\" y=\"239.758125\"/>\n      </g>\n     </g>\n     <g id=\"text_4\">\n      <!-- 1 -->\n      <g style=\"fill:#ffffff;\" transform=\"translate(287.779549 254.356562)scale(0.1 -0.1)\">\n       <use xlink:href=\"#DejaVuSans-49\"/>\n      </g>\n     </g>\n    </g>\n    <g id=\"xtick_5\">\n     <g id=\"line2d_5\">\n      <g>\n       <use style=\"fill:#ffffff;stroke:#ffffff;stroke-width:0.8;\" x=\"348.468473\" xlink:href=\"#mf2e0eeb778\" y=\"239.758125\"/>\n      </g>\n     </g>\n     <g id=\"text_5\">\n      <!-- 2 -->\n      <g style=\"fill:#ffffff;\" transform=\"translate(345.287223 254.356562)scale(0.1 -0.1)\">\n       <use xlink:href=\"#DejaVuSans-50\"/>\n      </g>\n     </g>\n    </g>\n    <g id=\"text_6\">\n     <!-- Theoretical quantiles -->\n     <g style=\"fill:#ffffff;\" transform=\"translate(180.939063 268.034687)scale(0.1 -0.1)\">\n      <defs>\n       <path d=\"M -0.296875 72.90625 \nL 61.375 72.90625 \nL 61.375 64.59375 \nL 35.5 64.59375 \nL 35.5 0 \nL 25.59375 0 \nL 25.59375 64.59375 \nL -0.296875 64.59375 \nz\n\" id=\"DejaVuSans-84\"/>\n       <path d=\"M 54.890625 33.015625 \nL 54.890625 0 \nL 45.90625 0 \nL 45.90625 32.71875 \nQ 45.90625 40.484375 42.875 44.328125 \nQ 39.84375 48.1875 33.796875 48.1875 \nQ 26.515625 48.1875 22.3125 43.546875 \nQ 18.109375 38.921875 18.109375 30.90625 \nL 18.109375 0 \nL 9.078125 0 \nL 9.078125 75.984375 \nL 18.109375 75.984375 \nL 18.109375 46.1875 \nQ 21.34375 51.125 25.703125 53.5625 \nQ 30.078125 56 35.796875 56 \nQ 45.21875 56 50.046875 50.171875 \nQ 54.890625 44.34375 54.890625 33.015625 \nz\n\" id=\"DejaVuSans-104\"/>\n       <path d=\"M 56.203125 29.59375 \nL 56.203125 25.203125 \nL 14.890625 25.203125 \nQ 15.484375 15.921875 20.484375 11.0625 \nQ 25.484375 6.203125 34.421875 6.203125 \nQ 39.59375 6.203125 44.453125 7.46875 \nQ 49.3125 8.734375 54.109375 11.28125 \nL 54.109375 2.78125 \nQ 49.265625 0.734375 44.1875 -0.34375 \nQ 39.109375 -1.421875 33.890625 -1.421875 \nQ 20.796875 -1.421875 13.15625 6.1875 \nQ 5.515625 13.8125 5.515625 26.8125 \nQ 5.515625 40.234375 12.765625 48.109375 \nQ 20.015625 56 32.328125 56 \nQ 43.359375 56 49.78125 48.890625 \nQ 56.203125 41.796875 56.203125 29.59375 \nz\nM 47.21875 32.234375 \nQ 47.125 39.59375 43.09375 43.984375 \nQ 39.0625 48.390625 32.421875 48.390625 \nQ 24.90625 48.390625 20.390625 44.140625 \nQ 15.875 39.890625 15.1875 32.171875 \nz\n\" id=\"DejaVuSans-101\"/>\n       <path d=\"M 30.609375 48.390625 \nQ 23.390625 48.390625 19.1875 42.75 \nQ 14.984375 37.109375 14.984375 27.296875 \nQ 14.984375 17.484375 19.15625 11.84375 \nQ 23.34375 6.203125 30.609375 6.203125 \nQ 37.796875 6.203125 41.984375 11.859375 \nQ 46.1875 17.53125 46.1875 27.296875 \nQ 46.1875 37.015625 41.984375 42.703125 \nQ 37.796875 48.390625 30.609375 48.390625 \nz\nM 30.609375 56 \nQ 42.328125 56 49.015625 48.375 \nQ 55.71875 40.765625 55.71875 27.296875 \nQ 55.71875 13.875 49.015625 6.21875 \nQ 42.328125 -1.421875 30.609375 -1.421875 \nQ 18.84375 -1.421875 12.171875 6.21875 \nQ 5.515625 13.875 5.515625 27.296875 \nQ 5.515625 40.765625 12.171875 48.375 \nQ 18.84375 56 30.609375 56 \nz\n\" id=\"DejaVuSans-111\"/>\n       <path d=\"M 41.109375 46.296875 \nQ 39.59375 47.171875 37.8125 47.578125 \nQ 36.03125 48 33.890625 48 \nQ 26.265625 48 22.1875 43.046875 \nQ 18.109375 38.09375 18.109375 28.8125 \nL 18.109375 0 \nL 9.078125 0 \nL 9.078125 54.6875 \nL 18.109375 54.6875 \nL 18.109375 46.1875 \nQ 20.953125 51.171875 25.484375 53.578125 \nQ 30.03125 56 36.53125 56 \nQ 37.453125 56 38.578125 55.875 \nQ 39.703125 55.765625 41.0625 55.515625 \nz\n\" id=\"DejaVuSans-114\"/>\n       <path d=\"M 18.3125 70.21875 \nL 18.3125 54.6875 \nL 36.8125 54.6875 \nL 36.8125 47.703125 \nL 18.3125 47.703125 \nL 18.3125 18.015625 \nQ 18.3125 11.328125 20.140625 9.421875 \nQ 21.96875 7.515625 27.59375 7.515625 \nL 36.8125 7.515625 \nL 36.8125 0 \nL 27.59375 0 \nQ 17.1875 0 13.234375 3.875 \nQ 9.28125 7.765625 9.28125 18.015625 \nL 9.28125 47.703125 \nL 2.6875 47.703125 \nL 2.6875 54.6875 \nL 9.28125 54.6875 \nL 9.28125 70.21875 \nz\n\" id=\"DejaVuSans-116\"/>\n       <path d=\"M 9.421875 54.6875 \nL 18.40625 54.6875 \nL 18.40625 0 \nL 9.421875 0 \nz\nM 9.421875 75.984375 \nL 18.40625 75.984375 \nL 18.40625 64.59375 \nL 9.421875 64.59375 \nz\n\" id=\"DejaVuSans-105\"/>\n       <path d=\"M 48.78125 52.59375 \nL 48.78125 44.1875 \nQ 44.96875 46.296875 41.140625 47.34375 \nQ 37.3125 48.390625 33.40625 48.390625 \nQ 24.65625 48.390625 19.8125 42.84375 \nQ 14.984375 37.3125 14.984375 27.296875 \nQ 14.984375 17.28125 19.8125 11.734375 \nQ 24.65625 6.203125 33.40625 6.203125 \nQ 37.3125 6.203125 41.140625 7.25 \nQ 44.96875 8.296875 48.78125 10.40625 \nL 48.78125 2.09375 \nQ 45.015625 0.34375 40.984375 -0.53125 \nQ 36.96875 -1.421875 32.421875 -1.421875 \nQ 20.0625 -1.421875 12.78125 6.34375 \nQ 5.515625 14.109375 5.515625 27.296875 \nQ 5.515625 40.671875 12.859375 48.328125 \nQ 20.21875 56 33.015625 56 \nQ 37.15625 56 41.109375 55.140625 \nQ 45.0625 54.296875 48.78125 52.59375 \nz\n\" id=\"DejaVuSans-99\"/>\n       <path d=\"M 34.28125 27.484375 \nQ 23.390625 27.484375 19.1875 25 \nQ 14.984375 22.515625 14.984375 16.5 \nQ 14.984375 11.71875 18.140625 8.90625 \nQ 21.296875 6.109375 26.703125 6.109375 \nQ 34.1875 6.109375 38.703125 11.40625 \nQ 43.21875 16.703125 43.21875 25.484375 \nL 43.21875 27.484375 \nz\nM 52.203125 31.203125 \nL 52.203125 0 \nL 43.21875 0 \nL 43.21875 8.296875 \nQ 40.140625 3.328125 35.546875 0.953125 \nQ 30.953125 -1.421875 24.3125 -1.421875 \nQ 15.921875 -1.421875 10.953125 3.296875 \nQ 6 8.015625 6 15.921875 \nQ 6 25.140625 12.171875 29.828125 \nQ 18.359375 34.515625 30.609375 34.515625 \nL 43.21875 34.515625 \nL 43.21875 35.40625 \nQ 43.21875 41.609375 39.140625 45 \nQ 35.0625 48.390625 27.6875 48.390625 \nQ 23 48.390625 18.546875 47.265625 \nQ 14.109375 46.140625 10.015625 43.890625 \nL 10.015625 52.203125 \nQ 14.9375 54.109375 19.578125 55.046875 \nQ 24.21875 56 28.609375 56 \nQ 40.484375 56 46.34375 49.84375 \nQ 52.203125 43.703125 52.203125 31.203125 \nz\n\" id=\"DejaVuSans-97\"/>\n       <path d=\"M 9.421875 75.984375 \nL 18.40625 75.984375 \nL 18.40625 0 \nL 9.421875 0 \nz\n\" id=\"DejaVuSans-108\"/>\n       <path id=\"DejaVuSans-32\"/>\n       <path d=\"M 14.796875 27.296875 \nQ 14.796875 17.390625 18.875 11.75 \nQ 22.953125 6.109375 30.078125 6.109375 \nQ 37.203125 6.109375 41.296875 11.75 \nQ 45.40625 17.390625 45.40625 27.296875 \nQ 45.40625 37.203125 41.296875 42.84375 \nQ 37.203125 48.484375 30.078125 48.484375 \nQ 22.953125 48.484375 18.875 42.84375 \nQ 14.796875 37.203125 14.796875 27.296875 \nz\nM 45.40625 8.203125 \nQ 42.578125 3.328125 38.25 0.953125 \nQ 33.9375 -1.421875 27.875 -1.421875 \nQ 17.96875 -1.421875 11.734375 6.484375 \nQ 5.515625 14.40625 5.515625 27.296875 \nQ 5.515625 40.1875 11.734375 48.09375 \nQ 17.96875 56 27.875 56 \nQ 33.9375 56 38.25 53.625 \nQ 42.578125 51.265625 45.40625 46.390625 \nL 45.40625 54.6875 \nL 54.390625 54.6875 \nL 54.390625 -20.796875 \nL 45.40625 -20.796875 \nz\n\" id=\"DejaVuSans-113\"/>\n       <path d=\"M 8.5 21.578125 \nL 8.5 54.6875 \nL 17.484375 54.6875 \nL 17.484375 21.921875 \nQ 17.484375 14.15625 20.5 10.265625 \nQ 23.53125 6.390625 29.59375 6.390625 \nQ 36.859375 6.390625 41.078125 11.03125 \nQ 45.3125 15.671875 45.3125 23.6875 \nL 45.3125 54.6875 \nL 54.296875 54.6875 \nL 54.296875 0 \nL 45.3125 0 \nL 45.3125 8.40625 \nQ 42.046875 3.421875 37.71875 1 \nQ 33.40625 -1.421875 27.6875 -1.421875 \nQ 18.265625 -1.421875 13.375 4.4375 \nQ 8.5 10.296875 8.5 21.578125 \nz\nM 31.109375 56 \nz\n\" id=\"DejaVuSans-117\"/>\n       <path d=\"M 54.890625 33.015625 \nL 54.890625 0 \nL 45.90625 0 \nL 45.90625 32.71875 \nQ 45.90625 40.484375 42.875 44.328125 \nQ 39.84375 48.1875 33.796875 48.1875 \nQ 26.515625 48.1875 22.3125 43.546875 \nQ 18.109375 38.921875 18.109375 30.90625 \nL 18.109375 0 \nL 9.078125 0 \nL 9.078125 54.6875 \nL 18.109375 54.6875 \nL 18.109375 46.1875 \nQ 21.34375 51.125 25.703125 53.5625 \nQ 30.078125 56 35.796875 56 \nQ 45.21875 56 50.046875 50.171875 \nQ 54.890625 44.34375 54.890625 33.015625 \nz\n\" id=\"DejaVuSans-110\"/>\n       <path d=\"M 44.28125 53.078125 \nL 44.28125 44.578125 \nQ 40.484375 46.53125 36.375 47.5 \nQ 32.28125 48.484375 27.875 48.484375 \nQ 21.1875 48.484375 17.84375 46.4375 \nQ 14.5 44.390625 14.5 40.28125 \nQ 14.5 37.15625 16.890625 35.375 \nQ 19.28125 33.59375 26.515625 31.984375 \nL 29.59375 31.296875 \nQ 39.15625 29.25 43.1875 25.515625 \nQ 47.21875 21.78125 47.21875 15.09375 \nQ 47.21875 7.46875 41.1875 3.015625 \nQ 35.15625 -1.421875 24.609375 -1.421875 \nQ 20.21875 -1.421875 15.453125 -0.5625 \nQ 10.6875 0.296875 5.421875 2 \nL 5.421875 11.28125 \nQ 10.40625 8.6875 15.234375 7.390625 \nQ 20.0625 6.109375 24.8125 6.109375 \nQ 31.15625 6.109375 34.5625 8.28125 \nQ 37.984375 10.453125 37.984375 14.40625 \nQ 37.984375 18.0625 35.515625 20.015625 \nQ 33.0625 21.96875 24.703125 23.78125 \nL 21.578125 24.515625 \nQ 13.234375 26.265625 9.515625 29.90625 \nQ 5.8125 33.546875 5.8125 39.890625 \nQ 5.8125 47.609375 11.28125 51.796875 \nQ 16.75 56 26.8125 56 \nQ 31.78125 56 36.171875 55.265625 \nQ 40.578125 54.546875 44.28125 53.078125 \nz\n\" id=\"DejaVuSans-115\"/>\n      </defs>\n      <use xlink:href=\"#DejaVuSans-84\"/>\n      <use x=\"61.083984\" xlink:href=\"#DejaVuSans-104\"/>\n      <use x=\"124.462891\" xlink:href=\"#DejaVuSans-101\"/>\n      <use x=\"185.986328\" xlink:href=\"#DejaVuSans-111\"/>\n      <use x=\"247.167969\" xlink:href=\"#DejaVuSans-114\"/>\n      <use x=\"286.03125\" xlink:href=\"#DejaVuSans-101\"/>\n      <use x=\"347.554688\" xlink:href=\"#DejaVuSans-116\"/>\n      <use x=\"386.763672\" xlink:href=\"#DejaVuSans-105\"/>\n      <use x=\"414.546875\" xlink:href=\"#DejaVuSans-99\"/>\n      <use x=\"469.527344\" xlink:href=\"#DejaVuSans-97\"/>\n      <use x=\"530.806641\" xlink:href=\"#DejaVuSans-108\"/>\n      <use x=\"558.589844\" xlink:href=\"#DejaVuSans-32\"/>\n      <use x=\"590.376953\" xlink:href=\"#DejaVuSans-113\"/>\n      <use x=\"653.853516\" xlink:href=\"#DejaVuSans-117\"/>\n      <use x=\"717.232422\" xlink:href=\"#DejaVuSans-97\"/>\n      <use x=\"778.511719\" xlink:href=\"#DejaVuSans-110\"/>\n      <use x=\"841.890625\" xlink:href=\"#DejaVuSans-116\"/>\n      <use x=\"881.099609\" xlink:href=\"#DejaVuSans-105\"/>\n      <use x=\"908.882812\" xlink:href=\"#DejaVuSans-108\"/>\n      <use x=\"936.666016\" xlink:href=\"#DejaVuSans-101\"/>\n      <use x=\"998.189453\" xlink:href=\"#DejaVuSans-115\"/>\n     </g>\n    </g>\n   </g>\n   <g id=\"matplotlib.axis_2\">\n    <g id=\"ytick_1\">\n     <g id=\"line2d_6\">\n      <defs>\n       <path d=\"M 0 0 \nL -3.5 0 \n\" id=\"mf508cc371f\" style=\"stroke:#ffffff;stroke-width:0.8;\"/>\n      </defs>\n      <g>\n       <use style=\"fill:#ffffff;stroke:#ffffff;stroke-width:0.8;\" x=\"66.053125\" xlink:href=\"#mf508cc371f\" y=\"227.336509\"/>\n      </g>\n     </g>\n     <g id=\"text_7\">\n      <!-- 100000 -->\n      <g style=\"fill:#ffffff;\" transform=\"translate(20.878125 231.135728)scale(0.1 -0.1)\">\n       <use xlink:href=\"#DejaVuSans-49\"/>\n       <use x=\"63.623047\" xlink:href=\"#DejaVuSans-48\"/>\n       <use x=\"127.246094\" xlink:href=\"#DejaVuSans-48\"/>\n       <use x=\"190.869141\" xlink:href=\"#DejaVuSans-48\"/>\n       <use x=\"254.492188\" xlink:href=\"#DejaVuSans-48\"/>\n       <use x=\"318.115234\" xlink:href=\"#DejaVuSans-48\"/>\n      </g>\n     </g>\n    </g>\n    <g id=\"ytick_2\">\n     <g id=\"line2d_7\">\n      <g>\n       <use style=\"fill:#ffffff;stroke:#ffffff;stroke-width:0.8;\" x=\"66.053125\" xlink:href=\"#mf508cc371f\" y=\"201.143925\"/>\n      </g>\n     </g>\n     <g id=\"text_8\">\n      <!-- 200000 -->\n      <g style=\"fill:#ffffff;\" transform=\"translate(20.878125 204.943144)scale(0.1 -0.1)\">\n       <use xlink:href=\"#DejaVuSans-50\"/>\n       <use x=\"63.623047\" xlink:href=\"#DejaVuSans-48\"/>\n       <use x=\"127.246094\" xlink:href=\"#DejaVuSans-48\"/>\n       <use x=\"190.869141\" xlink:href=\"#DejaVuSans-48\"/>\n       <use x=\"254.492188\" xlink:href=\"#DejaVuSans-48\"/>\n       <use x=\"318.115234\" xlink:href=\"#DejaVuSans-48\"/>\n      </g>\n     </g>\n    </g>\n    <g id=\"ytick_3\">\n     <g id=\"line2d_8\">\n      <g>\n       <use style=\"fill:#ffffff;stroke:#ffffff;stroke-width:0.8;\" x=\"66.053125\" xlink:href=\"#mf508cc371f\" y=\"174.951342\"/>\n      </g>\n     </g>\n     <g id=\"text_9\">\n      <!-- 300000 -->\n      <g style=\"fill:#ffffff;\" transform=\"translate(20.878125 178.75056)scale(0.1 -0.1)\">\n       <defs>\n        <path d=\"M 40.578125 39.3125 \nQ 47.65625 37.796875 51.625 33 \nQ 55.609375 28.21875 55.609375 21.1875 \nQ 55.609375 10.40625 48.1875 4.484375 \nQ 40.765625 -1.421875 27.09375 -1.421875 \nQ 22.515625 -1.421875 17.65625 -0.515625 \nQ 12.796875 0.390625 7.625 2.203125 \nL 7.625 11.71875 \nQ 11.71875 9.328125 16.59375 8.109375 \nQ 21.484375 6.890625 26.8125 6.890625 \nQ 36.078125 6.890625 40.9375 10.546875 \nQ 45.796875 14.203125 45.796875 21.1875 \nQ 45.796875 27.640625 41.28125 31.265625 \nQ 36.765625 34.90625 28.71875 34.90625 \nL 20.21875 34.90625 \nL 20.21875 43.015625 \nL 29.109375 43.015625 \nQ 36.375 43.015625 40.234375 45.921875 \nQ 44.09375 48.828125 44.09375 54.296875 \nQ 44.09375 59.90625 40.109375 62.90625 \nQ 36.140625 65.921875 28.71875 65.921875 \nQ 24.65625 65.921875 20.015625 65.03125 \nQ 15.375 64.15625 9.8125 62.3125 \nL 9.8125 71.09375 \nQ 15.4375 72.65625 20.34375 73.4375 \nQ 25.25 74.21875 29.59375 74.21875 \nQ 40.828125 74.21875 47.359375 69.109375 \nQ 53.90625 64.015625 53.90625 55.328125 \nQ 53.90625 49.265625 50.4375 45.09375 \nQ 46.96875 40.921875 40.578125 39.3125 \nz\n\" id=\"DejaVuSans-51\"/>\n       </defs>\n       <use xlink:href=\"#DejaVuSans-51\"/>\n       <use x=\"63.623047\" xlink:href=\"#DejaVuSans-48\"/>\n       <use x=\"127.246094\" xlink:href=\"#DejaVuSans-48\"/>\n       <use x=\"190.869141\" xlink:href=\"#DejaVuSans-48\"/>\n       <use x=\"254.492188\" xlink:href=\"#DejaVuSans-48\"/>\n       <use x=\"318.115234\" xlink:href=\"#DejaVuSans-48\"/>\n      </g>\n     </g>\n    </g>\n    <g id=\"ytick_4\">\n     <g id=\"line2d_9\">\n      <g>\n       <use style=\"fill:#ffffff;stroke:#ffffff;stroke-width:0.8;\" x=\"66.053125\" xlink:href=\"#mf508cc371f\" y=\"148.758758\"/>\n      </g>\n     </g>\n     <g id=\"text_10\">\n      <!-- 400000 -->\n      <g style=\"fill:#ffffff;\" transform=\"translate(20.878125 152.557977)scale(0.1 -0.1)\">\n       <defs>\n        <path d=\"M 37.796875 64.3125 \nL 12.890625 25.390625 \nL 37.796875 25.390625 \nz\nM 35.203125 72.90625 \nL 47.609375 72.90625 \nL 47.609375 25.390625 \nL 58.015625 25.390625 \nL 58.015625 17.1875 \nL 47.609375 17.1875 \nL 47.609375 0 \nL 37.796875 0 \nL 37.796875 17.1875 \nL 4.890625 17.1875 \nL 4.890625 26.703125 \nz\n\" id=\"DejaVuSans-52\"/>\n       </defs>\n       <use xlink:href=\"#DejaVuSans-52\"/>\n       <use x=\"63.623047\" xlink:href=\"#DejaVuSans-48\"/>\n       <use x=\"127.246094\" xlink:href=\"#DejaVuSans-48\"/>\n       <use x=\"190.869141\" xlink:href=\"#DejaVuSans-48\"/>\n       <use x=\"254.492188\" xlink:href=\"#DejaVuSans-48\"/>\n       <use x=\"318.115234\" xlink:href=\"#DejaVuSans-48\"/>\n      </g>\n     </g>\n    </g>\n    <g id=\"ytick_5\">\n     <g id=\"line2d_10\">\n      <g>\n       <use style=\"fill:#ffffff;stroke:#ffffff;stroke-width:0.8;\" x=\"66.053125\" xlink:href=\"#mf508cc371f\" y=\"122.566175\"/>\n      </g>\n     </g>\n     <g id=\"text_11\">\n      <!-- 500000 -->\n      <g style=\"fill:#ffffff;\" transform=\"translate(20.878125 126.365393)scale(0.1 -0.1)\">\n       <defs>\n        <path d=\"M 10.796875 72.90625 \nL 49.515625 72.90625 \nL 49.515625 64.59375 \nL 19.828125 64.59375 \nL 19.828125 46.734375 \nQ 21.96875 47.46875 24.109375 47.828125 \nQ 26.265625 48.1875 28.421875 48.1875 \nQ 40.625 48.1875 47.75 41.5 \nQ 54.890625 34.8125 54.890625 23.390625 \nQ 54.890625 11.625 47.5625 5.09375 \nQ 40.234375 -1.421875 26.90625 -1.421875 \nQ 22.3125 -1.421875 17.546875 -0.640625 \nQ 12.796875 0.140625 7.71875 1.703125 \nL 7.71875 11.625 \nQ 12.109375 9.234375 16.796875 8.0625 \nQ 21.484375 6.890625 26.703125 6.890625 \nQ 35.15625 6.890625 40.078125 11.328125 \nQ 45.015625 15.765625 45.015625 23.390625 \nQ 45.015625 31 40.078125 35.4375 \nQ 35.15625 39.890625 26.703125 39.890625 \nQ 22.75 39.890625 18.8125 39.015625 \nQ 14.890625 38.140625 10.796875 36.28125 \nz\n\" id=\"DejaVuSans-53\"/>\n       </defs>\n       <use xlink:href=\"#DejaVuSans-53\"/>\n       <use x=\"63.623047\" xlink:href=\"#DejaVuSans-48\"/>\n       <use x=\"127.246094\" xlink:href=\"#DejaVuSans-48\"/>\n       <use x=\"190.869141\" xlink:href=\"#DejaVuSans-48\"/>\n       <use x=\"254.492188\" xlink:href=\"#DejaVuSans-48\"/>\n       <use x=\"318.115234\" xlink:href=\"#DejaVuSans-48\"/>\n      </g>\n     </g>\n    </g>\n    <g id=\"ytick_6\">\n     <g id=\"line2d_11\">\n      <g>\n       <use style=\"fill:#ffffff;stroke:#ffffff;stroke-width:0.8;\" x=\"66.053125\" xlink:href=\"#mf508cc371f\" y=\"96.373591\"/>\n      </g>\n     </g>\n     <g id=\"text_12\">\n      <!-- 600000 -->\n      <g style=\"fill:#ffffff;\" transform=\"translate(20.878125 100.17281)scale(0.1 -0.1)\">\n       <defs>\n        <path d=\"M 33.015625 40.375 \nQ 26.375 40.375 22.484375 35.828125 \nQ 18.609375 31.296875 18.609375 23.390625 \nQ 18.609375 15.53125 22.484375 10.953125 \nQ 26.375 6.390625 33.015625 6.390625 \nQ 39.65625 6.390625 43.53125 10.953125 \nQ 47.40625 15.53125 47.40625 23.390625 \nQ 47.40625 31.296875 43.53125 35.828125 \nQ 39.65625 40.375 33.015625 40.375 \nz\nM 52.59375 71.296875 \nL 52.59375 62.3125 \nQ 48.875 64.0625 45.09375 64.984375 \nQ 41.3125 65.921875 37.59375 65.921875 \nQ 27.828125 65.921875 22.671875 59.328125 \nQ 17.53125 52.734375 16.796875 39.40625 \nQ 19.671875 43.65625 24.015625 45.921875 \nQ 28.375 48.1875 33.59375 48.1875 \nQ 44.578125 48.1875 50.953125 41.515625 \nQ 57.328125 34.859375 57.328125 23.390625 \nQ 57.328125 12.15625 50.6875 5.359375 \nQ 44.046875 -1.421875 33.015625 -1.421875 \nQ 20.359375 -1.421875 13.671875 8.265625 \nQ 6.984375 17.96875 6.984375 36.375 \nQ 6.984375 53.65625 15.1875 63.9375 \nQ 23.390625 74.21875 37.203125 74.21875 \nQ 40.921875 74.21875 44.703125 73.484375 \nQ 48.484375 72.75 52.59375 71.296875 \nz\n\" id=\"DejaVuSans-54\"/>\n       </defs>\n       <use xlink:href=\"#DejaVuSans-54\"/>\n       <use x=\"63.623047\" xlink:href=\"#DejaVuSans-48\"/>\n       <use x=\"127.246094\" xlink:href=\"#DejaVuSans-48\"/>\n       <use x=\"190.869141\" xlink:href=\"#DejaVuSans-48\"/>\n       <use x=\"254.492188\" xlink:href=\"#DejaVuSans-48\"/>\n       <use x=\"318.115234\" xlink:href=\"#DejaVuSans-48\"/>\n      </g>\n     </g>\n    </g>\n    <g id=\"ytick_7\">\n     <g id=\"line2d_12\">\n      <g>\n       <use style=\"fill:#ffffff;stroke:#ffffff;stroke-width:0.8;\" x=\"66.053125\" xlink:href=\"#mf508cc371f\" y=\"70.181008\"/>\n      </g>\n     </g>\n     <g id=\"text_13\">\n      <!-- 700000 -->\n      <g style=\"fill:#ffffff;\" transform=\"translate(20.878125 73.980226)scale(0.1 -0.1)\">\n       <defs>\n        <path d=\"M 8.203125 72.90625 \nL 55.078125 72.90625 \nL 55.078125 68.703125 \nL 28.609375 0 \nL 18.3125 0 \nL 43.21875 64.59375 \nL 8.203125 64.59375 \nz\n\" id=\"DejaVuSans-55\"/>\n       </defs>\n       <use xlink:href=\"#DejaVuSans-55\"/>\n       <use x=\"63.623047\" xlink:href=\"#DejaVuSans-48\"/>\n       <use x=\"127.246094\" xlink:href=\"#DejaVuSans-48\"/>\n       <use x=\"190.869141\" xlink:href=\"#DejaVuSans-48\"/>\n       <use x=\"254.492188\" xlink:href=\"#DejaVuSans-48\"/>\n       <use x=\"318.115234\" xlink:href=\"#DejaVuSans-48\"/>\n      </g>\n     </g>\n    </g>\n    <g id=\"ytick_8\">\n     <g id=\"line2d_13\">\n      <g>\n       <use style=\"fill:#ffffff;stroke:#ffffff;stroke-width:0.8;\" x=\"66.053125\" xlink:href=\"#mf508cc371f\" y=\"43.988424\"/>\n      </g>\n     </g>\n     <g id=\"text_14\">\n      <!-- 800000 -->\n      <g style=\"fill:#ffffff;\" transform=\"translate(20.878125 47.787643)scale(0.1 -0.1)\">\n       <defs>\n        <path d=\"M 31.78125 34.625 \nQ 24.75 34.625 20.71875 30.859375 \nQ 16.703125 27.09375 16.703125 20.515625 \nQ 16.703125 13.921875 20.71875 10.15625 \nQ 24.75 6.390625 31.78125 6.390625 \nQ 38.8125 6.390625 42.859375 10.171875 \nQ 46.921875 13.96875 46.921875 20.515625 \nQ 46.921875 27.09375 42.890625 30.859375 \nQ 38.875 34.625 31.78125 34.625 \nz\nM 21.921875 38.8125 \nQ 15.578125 40.375 12.03125 44.71875 \nQ 8.5 49.078125 8.5 55.328125 \nQ 8.5 64.0625 14.71875 69.140625 \nQ 20.953125 74.21875 31.78125 74.21875 \nQ 42.671875 74.21875 48.875 69.140625 \nQ 55.078125 64.0625 55.078125 55.328125 \nQ 55.078125 49.078125 51.53125 44.71875 \nQ 48 40.375 41.703125 38.8125 \nQ 48.828125 37.15625 52.796875 32.3125 \nQ 56.78125 27.484375 56.78125 20.515625 \nQ 56.78125 9.90625 50.3125 4.234375 \nQ 43.84375 -1.421875 31.78125 -1.421875 \nQ 19.734375 -1.421875 13.25 4.234375 \nQ 6.78125 9.90625 6.78125 20.515625 \nQ 6.78125 27.484375 10.78125 32.3125 \nQ 14.796875 37.15625 21.921875 38.8125 \nz\nM 18.3125 54.390625 \nQ 18.3125 48.734375 21.84375 45.5625 \nQ 25.390625 42.390625 31.78125 42.390625 \nQ 38.140625 42.390625 41.71875 45.5625 \nQ 45.3125 48.734375 45.3125 54.390625 \nQ 45.3125 60.0625 41.71875 63.234375 \nQ 38.140625 66.40625 31.78125 66.40625 \nQ 25.390625 66.40625 21.84375 63.234375 \nQ 18.3125 60.0625 18.3125 54.390625 \nz\n\" id=\"DejaVuSans-56\"/>\n       </defs>\n       <use xlink:href=\"#DejaVuSans-56\"/>\n       <use x=\"63.623047\" xlink:href=\"#DejaVuSans-48\"/>\n       <use x=\"127.246094\" xlink:href=\"#DejaVuSans-48\"/>\n       <use x=\"190.869141\" xlink:href=\"#DejaVuSans-48\"/>\n       <use x=\"254.492188\" xlink:href=\"#DejaVuSans-48\"/>\n       <use x=\"318.115234\" xlink:href=\"#DejaVuSans-48\"/>\n      </g>\n     </g>\n    </g>\n    <g id=\"text_15\">\n     <!-- Ordered Values -->\n     <g style=\"fill:#ffffff;\" transform=\"translate(14.798438 169.311562)rotate(-90)scale(0.1 -0.1)\">\n      <defs>\n       <path d=\"M 39.40625 66.21875 \nQ 28.65625 66.21875 22.328125 58.203125 \nQ 16.015625 50.203125 16.015625 36.375 \nQ 16.015625 22.609375 22.328125 14.59375 \nQ 28.65625 6.59375 39.40625 6.59375 \nQ 50.140625 6.59375 56.421875 14.59375 \nQ 62.703125 22.609375 62.703125 36.375 \nQ 62.703125 50.203125 56.421875 58.203125 \nQ 50.140625 66.21875 39.40625 66.21875 \nz\nM 39.40625 74.21875 \nQ 54.734375 74.21875 63.90625 63.9375 \nQ 73.09375 53.65625 73.09375 36.375 \nQ 73.09375 19.140625 63.90625 8.859375 \nQ 54.734375 -1.421875 39.40625 -1.421875 \nQ 24.03125 -1.421875 14.8125 8.828125 \nQ 5.609375 19.09375 5.609375 36.375 \nQ 5.609375 53.65625 14.8125 63.9375 \nQ 24.03125 74.21875 39.40625 74.21875 \nz\n\" id=\"DejaVuSans-79\"/>\n       <path d=\"M 45.40625 46.390625 \nL 45.40625 75.984375 \nL 54.390625 75.984375 \nL 54.390625 0 \nL 45.40625 0 \nL 45.40625 8.203125 \nQ 42.578125 3.328125 38.25 0.953125 \nQ 33.9375 -1.421875 27.875 -1.421875 \nQ 17.96875 -1.421875 11.734375 6.484375 \nQ 5.515625 14.40625 5.515625 27.296875 \nQ 5.515625 40.1875 11.734375 48.09375 \nQ 17.96875 56 27.875 56 \nQ 33.9375 56 38.25 53.625 \nQ 42.578125 51.265625 45.40625 46.390625 \nz\nM 14.796875 27.296875 \nQ 14.796875 17.390625 18.875 11.75 \nQ 22.953125 6.109375 30.078125 6.109375 \nQ 37.203125 6.109375 41.296875 11.75 \nQ 45.40625 17.390625 45.40625 27.296875 \nQ 45.40625 37.203125 41.296875 42.84375 \nQ 37.203125 48.484375 30.078125 48.484375 \nQ 22.953125 48.484375 18.875 42.84375 \nQ 14.796875 37.203125 14.796875 27.296875 \nz\n\" id=\"DejaVuSans-100\"/>\n       <path d=\"M 28.609375 0 \nL 0.78125 72.90625 \nL 11.078125 72.90625 \nL 34.1875 11.53125 \nL 57.328125 72.90625 \nL 67.578125 72.90625 \nL 39.796875 0 \nz\n\" id=\"DejaVuSans-86\"/>\n      </defs>\n      <use xlink:href=\"#DejaVuSans-79\"/>\n      <use x=\"78.710938\" xlink:href=\"#DejaVuSans-114\"/>\n      <use x=\"118.074219\" xlink:href=\"#DejaVuSans-100\"/>\n      <use x=\"181.550781\" xlink:href=\"#DejaVuSans-101\"/>\n      <use x=\"243.074219\" xlink:href=\"#DejaVuSans-114\"/>\n      <use x=\"281.9375\" xlink:href=\"#DejaVuSans-101\"/>\n      <use x=\"343.460938\" xlink:href=\"#DejaVuSans-100\"/>\n      <use x=\"406.9375\" xlink:href=\"#DejaVuSans-32\"/>\n      <use x=\"438.724609\" xlink:href=\"#DejaVuSans-86\"/>\n      <use x=\"499.382812\" xlink:href=\"#DejaVuSans-97\"/>\n      <use x=\"560.662109\" xlink:href=\"#DejaVuSans-108\"/>\n      <use x=\"588.445312\" xlink:href=\"#DejaVuSans-117\"/>\n      <use x=\"651.824219\" xlink:href=\"#DejaVuSans-101\"/>\n      <use x=\"713.347656\" xlink:href=\"#DejaVuSans-115\"/>\n     </g>\n    </g>\n   </g>\n   <g id=\"line2d_14\">\n    <defs>\n     <path d=\"M 0 3 \nC 0.795609 3 1.55874 2.683901 2.12132 2.12132 \nC 2.683901 1.55874 3 0.795609 3 0 \nC 3 -0.795609 2.683901 -1.55874 2.12132 -2.12132 \nC 1.55874 -2.683901 0.795609 -3 0 -3 \nC -0.795609 -3 -1.55874 -2.683901 -2.12132 -2.12132 \nC -2.683901 -1.55874 -3 -0.795609 -3 0 \nC -3 0.795609 -2.683901 1.55874 -2.12132 2.12132 \nC -1.55874 2.683901 -0.795609 3 0 3 \nz\n\" id=\"m45dd04bcd4\" style=\"stroke:#0000ff;\"/>\n    </defs>\n    <g clip-path=\"url(#pfc6ab1d29b)\">\n     <use style=\"fill:#0000ff;stroke:#0000ff;\" x=\"81.271307\" xlink:href=\"#m45dd04bcd4\" y=\"193.28615\"/>\n     <use style=\"fill:#0000ff;stroke:#0000ff;\" x=\"99.400937\" xlink:href=\"#m45dd04bcd4\" y=\"191.714595\"/>\n     <use style=\"fill:#0000ff;stroke:#0000ff;\" x=\"109.765052\" xlink:href=\"#m45dd04bcd4\" y=\"190.928818\"/>\n     <use style=\"fill:#0000ff;stroke:#0000ff;\" x=\"117.202851\" xlink:href=\"#m45dd04bcd4\" y=\"188.571485\"/>\n     <use style=\"fill:#0000ff;stroke:#0000ff;\" x=\"123.08948\" xlink:href=\"#m45dd04bcd4\" y=\"188.047633\"/>\n     <use style=\"fill:#0000ff;stroke:#0000ff;\" x=\"128.005629\" xlink:href=\"#m45dd04bcd4\" y=\"187.785708\"/>\n     <use style=\"fill:#0000ff;stroke:#0000ff;\" x=\"132.253659\" xlink:href=\"#m45dd04bcd4\" y=\"185.690301\"/>\n     <use style=\"fill:#0000ff;stroke:#0000ff;\" x=\"136.011944\" xlink:href=\"#m45dd04bcd4\" y=\"185.428375\"/>\n     <use style=\"fill:#0000ff;stroke:#0000ff;\" x=\"139.394914\" xlink:href=\"#m45dd04bcd4\" y=\"182.285265\"/>\n     <use style=\"fill:#0000ff;stroke:#0000ff;\" x=\"142.480555\" xlink:href=\"#m45dd04bcd4\" y=\"182.285265\"/>\n     <use style=\"fill:#0000ff;stroke:#0000ff;\" x=\"145.324507\" xlink:href=\"#m45dd04bcd4\" y=\"180.582747\"/>\n     <use style=\"fill:#0000ff;stroke:#0000ff;\" x=\"147.967923\" xlink:href=\"#m45dd04bcd4\" y=\"180.189858\"/>\n     <use style=\"fill:#0000ff;stroke:#0000ff;\" x=\"150.442134\" xlink:href=\"#m45dd04bcd4\" y=\"180.189858\"/>\n     <use style=\"fill:#0000ff;stroke:#0000ff;\" x=\"152.77157\" xlink:href=\"#m45dd04bcd4\" y=\"179.011192\"/>\n     <use style=\"fill:#0000ff;stroke:#0000ff;\" x=\"154.975668\" xlink:href=\"#m45dd04bcd4\" y=\"178.48734\"/>\n     <use style=\"fill:#0000ff;stroke:#0000ff;\" x=\"157.070156\" xlink:href=\"#m45dd04bcd4\" y=\"177.832526\"/>\n     <use style=\"fill:#0000ff;stroke:#0000ff;\" x=\"159.067952\" xlink:href=\"#m45dd04bcd4\" y=\"177.5706\"/>\n     <use style=\"fill:#0000ff;stroke:#0000ff;\" x=\"160.9798\" xlink:href=\"#m45dd04bcd4\" y=\"177.5706\"/>\n     <use style=\"fill:#0000ff;stroke:#0000ff;\" x=\"162.81474\" xlink:href=\"#m45dd04bcd4\" y=\"176.260971\"/>\n     <use style=\"fill:#0000ff;stroke:#0000ff;\" x=\"164.580449\" xlink:href=\"#m45dd04bcd4\" y=\"176.260971\"/>\n     <use style=\"fill:#0000ff;stroke:#0000ff;\" x=\"166.283513\" xlink:href=\"#m45dd04bcd4\" y=\"173.641713\"/>\n     <use style=\"fill:#0000ff;stroke:#0000ff;\" x=\"167.929621\" xlink:href=\"#m45dd04bcd4\" y=\"172.332083\"/>\n     <use style=\"fill:#0000ff;stroke:#0000ff;\" x=\"169.523724\" xlink:href=\"#m45dd04bcd4\" y=\"172.017772\"/>\n     <use style=\"fill:#0000ff;stroke:#0000ff;\" x=\"171.07016\" xlink:href=\"#m45dd04bcd4\" y=\"169.712825\"/>\n     <use style=\"fill:#0000ff;stroke:#0000ff;\" x=\"172.572754\" xlink:href=\"#m45dd04bcd4\" y=\"169.450899\"/>\n     <use style=\"fill:#0000ff;stroke:#0000ff;\" x=\"174.034894\" xlink:href=\"#m45dd04bcd4\" y=\"169.188973\"/>\n     <use style=\"fill:#0000ff;stroke:#0000ff;\" x=\"175.4596\" xlink:href=\"#m45dd04bcd4\" y=\"169.188973\"/>\n     <use style=\"fill:#0000ff;stroke:#0000ff;\" x=\"176.849572\" xlink:href=\"#m45dd04bcd4\" y=\"168.403196\"/>\n     <use style=\"fill:#0000ff;stroke:#0000ff;\" x=\"178.207239\" xlink:href=\"#m45dd04bcd4\" y=\"167.748381\"/>\n     <use style=\"fill:#0000ff;stroke:#0000ff;\" x=\"179.534792\" xlink:href=\"#m45dd04bcd4\" y=\"165.783937\"/>\n     <use style=\"fill:#0000ff;stroke:#0000ff;\" x=\"180.834216\" xlink:href=\"#m45dd04bcd4\" y=\"165.129123\"/>\n     <use style=\"fill:#0000ff;stroke:#0000ff;\" x=\"182.107314\" xlink:href=\"#m45dd04bcd4\" y=\"164.474308\"/>\n     <use style=\"fill:#0000ff;stroke:#0000ff;\" x=\"183.355733\" xlink:href=\"#m45dd04bcd4\" y=\"164.474308\"/>\n     <use style=\"fill:#0000ff;stroke:#0000ff;\" x=\"184.580977\" xlink:href=\"#m45dd04bcd4\" y=\"162.640827\"/>\n     <use style=\"fill:#0000ff;stroke:#0000ff;\" x=\"185.784428\" xlink:href=\"#m45dd04bcd4\" y=\"162.640827\"/>\n     <use style=\"fill:#0000ff;stroke:#0000ff;\" x=\"186.967356\" xlink:href=\"#m45dd04bcd4\" y=\"161.85505\"/>\n     <use style=\"fill:#0000ff;stroke:#0000ff;\" x=\"188.130935\" xlink:href=\"#m45dd04bcd4\" y=\"161.85505\"/>\n     <use style=\"fill:#0000ff;stroke:#0000ff;\" x=\"189.276248\" xlink:href=\"#m45dd04bcd4\" y=\"161.593124\"/>\n     <use style=\"fill:#0000ff;stroke:#0000ff;\" x=\"190.404301\" xlink:href=\"#m45dd04bcd4\" y=\"161.069272\"/>\n     <use style=\"fill:#0000ff;stroke:#0000ff;\" x=\"191.516028\" xlink:href=\"#m45dd04bcd4\" y=\"161.069272\"/>\n     <use style=\"fill:#0000ff;stroke:#0000ff;\" x=\"192.612298\" xlink:href=\"#m45dd04bcd4\" y=\"160.545421\"/>\n     <use style=\"fill:#0000ff;stroke:#0000ff;\" x=\"193.693923\" xlink:href=\"#m45dd04bcd4\" y=\"160.545421\"/>\n     <use style=\"fill:#0000ff;stroke:#0000ff;\" x=\"194.761663\" xlink:href=\"#m45dd04bcd4\" y=\"160.545421\"/>\n     <use style=\"fill:#0000ff;stroke:#0000ff;\" x=\"195.816228\" xlink:href=\"#m45dd04bcd4\" y=\"160.021569\"/>\n     <use style=\"fill:#0000ff;stroke:#0000ff;\" x=\"196.858285\" xlink:href=\"#m45dd04bcd4\" y=\"157.271348\"/>\n     <use style=\"fill:#0000ff;stroke:#0000ff;\" x=\"197.888462\" xlink:href=\"#m45dd04bcd4\" y=\"156.616533\"/>\n     <use style=\"fill:#0000ff;stroke:#0000ff;\" x=\"198.907351\" xlink:href=\"#m45dd04bcd4\" y=\"156.616533\"/>\n     <use style=\"fill:#0000ff;stroke:#0000ff;\" x=\"199.915509\" xlink:href=\"#m45dd04bcd4\" y=\"155.830756\"/>\n     <use style=\"fill:#0000ff;stroke:#0000ff;\" x=\"200.913463\" xlink:href=\"#m45dd04bcd4\" y=\"155.56883\"/>\n     <use style=\"fill:#0000ff;stroke:#0000ff;\" x=\"201.901713\" xlink:href=\"#m45dd04bcd4\" y=\"155.306904\"/>\n     <use style=\"fill:#0000ff;stroke:#0000ff;\" x=\"202.880731\" xlink:href=\"#m45dd04bcd4\" y=\"154.783052\"/>\n     <use style=\"fill:#0000ff;stroke:#0000ff;\" x=\"203.850968\" xlink:href=\"#m45dd04bcd4\" y=\"153.997275\"/>\n     <use style=\"fill:#0000ff;stroke:#0000ff;\" x=\"204.81285\" xlink:href=\"#m45dd04bcd4\" y=\"153.211497\"/>\n     <use style=\"fill:#0000ff;stroke:#0000ff;\" x=\"205.766786\" xlink:href=\"#m45dd04bcd4\" y=\"152.687646\"/>\n     <use style=\"fill:#0000ff;stroke:#0000ff;\" x=\"206.713163\" xlink:href=\"#m45dd04bcd4\" y=\"152.687646\"/>\n     <use style=\"fill:#0000ff;stroke:#0000ff;\" x=\"207.652353\" xlink:href=\"#m45dd04bcd4\" y=\"152.42572\"/>\n     <use style=\"fill:#0000ff;stroke:#0000ff;\" x=\"208.584711\" xlink:href=\"#m45dd04bcd4\" y=\"152.163794\"/>\n     <use style=\"fill:#0000ff;stroke:#0000ff;\" x=\"209.510577\" xlink:href=\"#m45dd04bcd4\" y=\"151.639942\"/>\n     <use style=\"fill:#0000ff;stroke:#0000ff;\" x=\"210.430278\" xlink:href=\"#m45dd04bcd4\" y=\"151.378017\"/>\n     <use style=\"fill:#0000ff;stroke:#0000ff;\" x=\"211.344128\" xlink:href=\"#m45dd04bcd4\" y=\"151.378017\"/>\n     <use style=\"fill:#0000ff;stroke:#0000ff;\" x=\"212.252428\" xlink:href=\"#m45dd04bcd4\" y=\"151.378017\"/>\n     <use style=\"fill:#0000ff;stroke:#0000ff;\" x=\"213.15547\" xlink:href=\"#m45dd04bcd4\" y=\"150.723202\"/>\n     <use style=\"fill:#0000ff;stroke:#0000ff;\" x=\"214.053534\" xlink:href=\"#m45dd04bcd4\" y=\"150.068387\"/>\n     <use style=\"fill:#0000ff;stroke:#0000ff;\" x=\"214.946892\" xlink:href=\"#m45dd04bcd4\" y=\"149.806462\"/>\n     <use style=\"fill:#0000ff;stroke:#0000ff;\" x=\"215.835805\" xlink:href=\"#m45dd04bcd4\" y=\"149.020684\"/>\n     <use style=\"fill:#0000ff;stroke:#0000ff;\" x=\"216.720529\" xlink:href=\"#m45dd04bcd4\" y=\"148.758758\"/>\n     <use style=\"fill:#0000ff;stroke:#0000ff;\" x=\"217.60131\" xlink:href=\"#m45dd04bcd4\" y=\"148.758758\"/>\n     <use style=\"fill:#0000ff;stroke:#0000ff;\" x=\"218.478388\" xlink:href=\"#m45dd04bcd4\" y=\"148.234906\"/>\n     <use style=\"fill:#0000ff;stroke:#0000ff;\" x=\"219.351996\" xlink:href=\"#m45dd04bcd4\" y=\"147.972981\"/>\n     <use style=\"fill:#0000ff;stroke:#0000ff;\" x=\"220.222362\" xlink:href=\"#m45dd04bcd4\" y=\"146.663351\"/>\n     <use style=\"fill:#0000ff;stroke:#0000ff;\" x=\"221.089707\" xlink:href=\"#m45dd04bcd4\" y=\"146.663351\"/>\n     <use style=\"fill:#0000ff;stroke:#0000ff;\" x=\"221.954249\" xlink:href=\"#m45dd04bcd4\" y=\"146.663351\"/>\n     <use style=\"fill:#0000ff;stroke:#0000ff;\" x=\"222.8162\" xlink:href=\"#m45dd04bcd4\" y=\"146.663351\"/>\n     <use style=\"fill:#0000ff;stroke:#0000ff;\" x=\"223.675768\" xlink:href=\"#m45dd04bcd4\" y=\"146.1395\"/>\n     <use style=\"fill:#0000ff;stroke:#0000ff;\" x=\"224.533157\" xlink:href=\"#m45dd04bcd4\" y=\"146.1395\"/>\n     <use style=\"fill:#0000ff;stroke:#0000ff;\" x=\"225.388567\" xlink:href=\"#m45dd04bcd4\" y=\"146.1395\"/>\n     <use style=\"fill:#0000ff;stroke:#0000ff;\" x=\"226.242197\" xlink:href=\"#m45dd04bcd4\" y=\"145.615648\"/>\n     <use style=\"fill:#0000ff;stroke:#0000ff;\" x=\"227.094241\" xlink:href=\"#m45dd04bcd4\" y=\"145.484685\"/>\n     <use style=\"fill:#0000ff;stroke:#0000ff;\" x=\"227.944891\" xlink:href=\"#m45dd04bcd4\" y=\"144.829871\"/>\n     <use style=\"fill:#0000ff;stroke:#0000ff;\" x=\"228.794338\" xlink:href=\"#m45dd04bcd4\" y=\"144.829871\"/>\n     <use style=\"fill:#0000ff;stroke:#0000ff;\" x=\"229.642769\" xlink:href=\"#m45dd04bcd4\" y=\"144.306019\"/>\n     <use style=\"fill:#0000ff;stroke:#0000ff;\" x=\"230.490372\" xlink:href=\"#m45dd04bcd4\" y=\"144.044093\"/>\n     <use style=\"fill:#0000ff;stroke:#0000ff;\" x=\"231.337331\" xlink:href=\"#m45dd04bcd4\" y=\"143.782167\"/>\n     <use style=\"fill:#0000ff;stroke:#0000ff;\" x=\"232.183832\" xlink:href=\"#m45dd04bcd4\" y=\"143.520241\"/>\n     <use style=\"fill:#0000ff;stroke:#0000ff;\" x=\"233.030058\" xlink:href=\"#m45dd04bcd4\" y=\"143.520241\"/>\n     <use style=\"fill:#0000ff;stroke:#0000ff;\" x=\"233.876192\" xlink:href=\"#m45dd04bcd4\" y=\"142.865427\"/>\n     <use style=\"fill:#0000ff;stroke:#0000ff;\" x=\"234.722418\" xlink:href=\"#m45dd04bcd4\" y=\"142.210612\"/>\n     <use style=\"fill:#0000ff;stroke:#0000ff;\" x=\"235.568919\" xlink:href=\"#m45dd04bcd4\" y=\"142.210612\"/>\n     <use style=\"fill:#0000ff;stroke:#0000ff;\" x=\"236.415878\" xlink:href=\"#m45dd04bcd4\" y=\"142.210612\"/>\n     <use style=\"fill:#0000ff;stroke:#0000ff;\" x=\"237.263481\" xlink:href=\"#m45dd04bcd4\" y=\"141.162909\"/>\n     <use style=\"fill:#0000ff;stroke:#0000ff;\" x=\"238.111912\" xlink:href=\"#m45dd04bcd4\" y=\"140.900983\"/>\n     <use style=\"fill:#0000ff;stroke:#0000ff;\" x=\"238.961359\" xlink:href=\"#m45dd04bcd4\" y=\"140.900983\"/>\n     <use style=\"fill:#0000ff;stroke:#0000ff;\" x=\"239.812009\" xlink:href=\"#m45dd04bcd4\" y=\"140.900983\"/>\n     <use style=\"fill:#0000ff;stroke:#0000ff;\" x=\"240.664053\" xlink:href=\"#m45dd04bcd4\" y=\"139.591354\"/>\n     <use style=\"fill:#0000ff;stroke:#0000ff;\" x=\"241.517683\" xlink:href=\"#m45dd04bcd4\" y=\"139.591354\"/>\n     <use style=\"fill:#0000ff;stroke:#0000ff;\" x=\"242.373093\" xlink:href=\"#m45dd04bcd4\" y=\"138.281725\"/>\n     <use style=\"fill:#0000ff;stroke:#0000ff;\" x=\"243.230482\" xlink:href=\"#m45dd04bcd4\" y=\"136.972096\"/>\n     <use style=\"fill:#0000ff;stroke:#0000ff;\" x=\"244.09005\" xlink:href=\"#m45dd04bcd4\" y=\"135.662466\"/>\n     <use style=\"fill:#0000ff;stroke:#0000ff;\" x=\"244.952001\" xlink:href=\"#m45dd04bcd4\" y=\"135.662466\"/>\n     <use style=\"fill:#0000ff;stroke:#0000ff;\" x=\"245.816543\" xlink:href=\"#m45dd04bcd4\" y=\"135.662466\"/>\n     <use style=\"fill:#0000ff;stroke:#0000ff;\" x=\"246.683888\" xlink:href=\"#m45dd04bcd4\" y=\"135.662466\"/>\n     <use style=\"fill:#0000ff;stroke:#0000ff;\" x=\"247.554254\" xlink:href=\"#m45dd04bcd4\" y=\"133.698023\"/>\n     <use style=\"fill:#0000ff;stroke:#0000ff;\" x=\"248.427862\" xlink:href=\"#m45dd04bcd4\" y=\"133.56706\"/>\n     <use style=\"fill:#0000ff;stroke:#0000ff;\" x=\"249.30494\" xlink:href=\"#m45dd04bcd4\" y=\"131.733579\"/>\n     <use style=\"fill:#0000ff;stroke:#0000ff;\" x=\"250.185721\" xlink:href=\"#m45dd04bcd4\" y=\"130.685876\"/>\n     <use style=\"fill:#0000ff;stroke:#0000ff;\" x=\"251.070445\" xlink:href=\"#m45dd04bcd4\" y=\"130.42395\"/>\n     <use style=\"fill:#0000ff;stroke:#0000ff;\" x=\"251.959358\" xlink:href=\"#m45dd04bcd4\" y=\"130.42395\"/>\n     <use style=\"fill:#0000ff;stroke:#0000ff;\" x=\"252.852716\" xlink:href=\"#m45dd04bcd4\" y=\"130.162024\"/>\n     <use style=\"fill:#0000ff;stroke:#0000ff;\" x=\"253.75078\" xlink:href=\"#m45dd04bcd4\" y=\"129.769135\"/>\n     <use style=\"fill:#0000ff;stroke:#0000ff;\" x=\"254.653822\" xlink:href=\"#m45dd04bcd4\" y=\"129.114321\"/>\n     <use style=\"fill:#0000ff;stroke:#0000ff;\" x=\"255.562122\" xlink:href=\"#m45dd04bcd4\" y=\"128.459506\"/>\n     <use style=\"fill:#0000ff;stroke:#0000ff;\" x=\"256.475972\" xlink:href=\"#m45dd04bcd4\" y=\"127.804691\"/>\n     <use style=\"fill:#0000ff;stroke:#0000ff;\" x=\"257.395673\" xlink:href=\"#m45dd04bcd4\" y=\"127.804691\"/>\n     <use style=\"fill:#0000ff;stroke:#0000ff;\" x=\"258.321539\" xlink:href=\"#m45dd04bcd4\" y=\"126.495062\"/>\n     <use style=\"fill:#0000ff;stroke:#0000ff;\" x=\"259.253897\" xlink:href=\"#m45dd04bcd4\" y=\"124.661581\"/>\n     <use style=\"fill:#0000ff;stroke:#0000ff;\" x=\"260.193087\" xlink:href=\"#m45dd04bcd4\" y=\"123.875804\"/>\n     <use style=\"fill:#0000ff;stroke:#0000ff;\" x=\"261.139464\" xlink:href=\"#m45dd04bcd4\" y=\"123.875804\"/>\n     <use style=\"fill:#0000ff;stroke:#0000ff;\" x=\"262.0934\" xlink:href=\"#m45dd04bcd4\" y=\"123.875804\"/>\n     <use style=\"fill:#0000ff;stroke:#0000ff;\" x=\"263.055282\" xlink:href=\"#m45dd04bcd4\" y=\"123.351952\"/>\n     <use style=\"fill:#0000ff;stroke:#0000ff;\" x=\"264.025519\" xlink:href=\"#m45dd04bcd4\" y=\"122.566175\"/>\n     <use style=\"fill:#0000ff;stroke:#0000ff;\" x=\"265.004537\" xlink:href=\"#m45dd04bcd4\" y=\"121.256545\"/>\n     <use style=\"fill:#0000ff;stroke:#0000ff;\" x=\"265.992787\" xlink:href=\"#m45dd04bcd4\" y=\"119.946916\"/>\n     <use style=\"fill:#0000ff;stroke:#0000ff;\" x=\"266.990741\" xlink:href=\"#m45dd04bcd4\" y=\"118.637287\"/>\n     <use style=\"fill:#0000ff;stroke:#0000ff;\" x=\"267.998899\" xlink:href=\"#m45dd04bcd4\" y=\"118.113435\"/>\n     <use style=\"fill:#0000ff;stroke:#0000ff;\" x=\"269.017788\" xlink:href=\"#m45dd04bcd4\" y=\"116.803806\"/>\n     <use style=\"fill:#0000ff;stroke:#0000ff;\" x=\"270.047965\" xlink:href=\"#m45dd04bcd4\" y=\"116.018029\"/>\n     <use style=\"fill:#0000ff;stroke:#0000ff;\" x=\"271.090022\" xlink:href=\"#m45dd04bcd4\" y=\"114.7084\"/>\n     <use style=\"fill:#0000ff;stroke:#0000ff;\" x=\"272.144587\" xlink:href=\"#m45dd04bcd4\" y=\"114.7084\"/>\n     <use style=\"fill:#0000ff;stroke:#0000ff;\" x=\"273.212327\" xlink:href=\"#m45dd04bcd4\" y=\"114.7084\"/>\n     <use style=\"fill:#0000ff;stroke:#0000ff;\" x=\"274.293952\" xlink:href=\"#m45dd04bcd4\" y=\"113.39877\"/>\n     <use style=\"fill:#0000ff;stroke:#0000ff;\" x=\"275.390222\" xlink:href=\"#m45dd04bcd4\" y=\"113.39877\"/>\n     <use style=\"fill:#0000ff;stroke:#0000ff;\" x=\"276.501949\" xlink:href=\"#m45dd04bcd4\" y=\"113.39877\"/>\n     <use style=\"fill:#0000ff;stroke:#0000ff;\" x=\"277.630002\" xlink:href=\"#m45dd04bcd4\" y=\"112.351067\"/>\n     <use style=\"fill:#0000ff;stroke:#0000ff;\" x=\"278.775315\" xlink:href=\"#m45dd04bcd4\" y=\"112.089141\"/>\n     <use style=\"fill:#0000ff;stroke:#0000ff;\" x=\"279.938894\" xlink:href=\"#m45dd04bcd4\" y=\"111.958178\"/>\n     <use style=\"fill:#0000ff;stroke:#0000ff;\" x=\"281.121822\" xlink:href=\"#m45dd04bcd4\" y=\"109.469883\"/>\n     <use style=\"fill:#0000ff;stroke:#0000ff;\" x=\"282.325273\" xlink:href=\"#m45dd04bcd4\" y=\"107.505439\"/>\n     <use style=\"fill:#0000ff;stroke:#0000ff;\" x=\"283.550517\" xlink:href=\"#m45dd04bcd4\" y=\"106.850624\"/>\n     <use style=\"fill:#0000ff;stroke:#0000ff;\" x=\"284.798936\" xlink:href=\"#m45dd04bcd4\" y=\"105.540995\"/>\n     <use style=\"fill:#0000ff;stroke:#0000ff;\" x=\"286.072034\" xlink:href=\"#m45dd04bcd4\" y=\"105.540995\"/>\n     <use style=\"fill:#0000ff;stroke:#0000ff;\" x=\"287.371458\" xlink:href=\"#m45dd04bcd4\" y=\"105.540995\"/>\n     <use style=\"fill:#0000ff;stroke:#0000ff;\" x=\"288.699011\" xlink:href=\"#m45dd04bcd4\" y=\"102.921737\"/>\n     <use style=\"fill:#0000ff;stroke:#0000ff;\" x=\"290.056678\" xlink:href=\"#m45dd04bcd4\" y=\"101.612108\"/>\n     <use style=\"fill:#0000ff;stroke:#0000ff;\" x=\"291.44665\" xlink:href=\"#m45dd04bcd4\" y=\"101.612108\"/>\n     <use style=\"fill:#0000ff;stroke:#0000ff;\" x=\"292.871356\" xlink:href=\"#m45dd04bcd4\" y=\"91.135074\"/>\n     <use style=\"fill:#0000ff;stroke:#0000ff;\" x=\"294.333496\" xlink:href=\"#m45dd04bcd4\" y=\"91.135074\"/>\n     <use style=\"fill:#0000ff;stroke:#0000ff;\" x=\"295.83609\" xlink:href=\"#m45dd04bcd4\" y=\"89.825445\"/>\n     <use style=\"fill:#0000ff;stroke:#0000ff;\" x=\"297.382526\" xlink:href=\"#m45dd04bcd4\" y=\"89.825445\"/>\n     <use style=\"fill:#0000ff;stroke:#0000ff;\" x=\"298.976629\" xlink:href=\"#m45dd04bcd4\" y=\"87.206187\"/>\n     <use style=\"fill:#0000ff;stroke:#0000ff;\" x=\"300.622737\" xlink:href=\"#m45dd04bcd4\" y=\"80.658041\"/>\n     <use style=\"fill:#0000ff;stroke:#0000ff;\" x=\"302.325801\" xlink:href=\"#m45dd04bcd4\" y=\"78.693597\"/>\n     <use style=\"fill:#0000ff;stroke:#0000ff;\" x=\"304.09151\" xlink:href=\"#m45dd04bcd4\" y=\"72.800266\"/>\n     <use style=\"fill:#0000ff;stroke:#0000ff;\" x=\"305.92645\" xlink:href=\"#m45dd04bcd4\" y=\"70.181008\"/>\n     <use style=\"fill:#0000ff;stroke:#0000ff;\" x=\"307.838298\" xlink:href=\"#m45dd04bcd4\" y=\"67.561749\"/>\n     <use style=\"fill:#0000ff;stroke:#0000ff;\" x=\"309.836094\" xlink:href=\"#m45dd04bcd4\" y=\"64.680565\"/>\n     <use style=\"fill:#0000ff;stroke:#0000ff;\" x=\"311.930582\" xlink:href=\"#m45dd04bcd4\" y=\"63.632862\"/>\n     <use style=\"fill:#0000ff;stroke:#0000ff;\" x=\"314.13468\" xlink:href=\"#m45dd04bcd4\" y=\"63.632862\"/>\n     <use style=\"fill:#0000ff;stroke:#0000ff;\" x=\"316.464116\" xlink:href=\"#m45dd04bcd4\" y=\"63.370936\"/>\n     <use style=\"fill:#0000ff;stroke:#0000ff;\" x=\"318.938327\" xlink:href=\"#m45dd04bcd4\" y=\"61.013603\"/>\n     <use style=\"fill:#0000ff;stroke:#0000ff;\" x=\"321.581743\" xlink:href=\"#m45dd04bcd4\" y=\"57.084716\"/>\n     <use style=\"fill:#0000ff;stroke:#0000ff;\" x=\"324.425695\" xlink:href=\"#m45dd04bcd4\" y=\"56.82279\"/>\n     <use style=\"fill:#0000ff;stroke:#0000ff;\" x=\"327.511336\" xlink:href=\"#m45dd04bcd4\" y=\"54.465457\"/>\n     <use style=\"fill:#0000ff;stroke:#0000ff;\" x=\"330.894306\" xlink:href=\"#m45dd04bcd4\" y=\"53.155828\"/>\n     <use style=\"fill:#0000ff;stroke:#0000ff;\" x=\"334.652591\" xlink:href=\"#m45dd04bcd4\" y=\"50.53657\"/>\n     <use style=\"fill:#0000ff;stroke:#0000ff;\" x=\"338.900621\" xlink:href=\"#m45dd04bcd4\" y=\"45.298053\"/>\n     <use style=\"fill:#0000ff;stroke:#0000ff;\" x=\"343.81677\" xlink:href=\"#m45dd04bcd4\" y=\"45.298053\"/>\n     <use style=\"fill:#0000ff;stroke:#0000ff;\" x=\"349.703399\" xlink:href=\"#m45dd04bcd4\" y=\"43.988424\"/>\n     <use style=\"fill:#0000ff;stroke:#0000ff;\" x=\"357.141198\" xlink:href=\"#m45dd04bcd4\" y=\"43.988424\"/>\n     <use style=\"fill:#0000ff;stroke:#0000ff;\" x=\"367.505313\" xlink:href=\"#m45dd04bcd4\" y=\"38.749907\"/>\n     <use style=\"fill:#0000ff;stroke:#0000ff;\" x=\"385.634943\" xlink:href=\"#m45dd04bcd4\" y=\"32.201761\"/>\n    </g>\n   </g>\n   <g id=\"line2d_15\">\n    <path clip-path=\"url(#pfc6ab1d29b)\" d=\"M 81.271307 229.874489 \nL 385.634943 37.855281 \nL 385.634943 37.855281 \n\" style=\"fill:none;stroke:#ff0000;stroke-linecap:square;stroke-width:1.5;\"/>\n   </g>\n   <g id=\"patch_3\">\n    <path d=\"M 66.053125 239.758125 \nL 66.053125 22.318125 \n\" style=\"fill:none;stroke:#ffffff;stroke-linecap:square;stroke-linejoin:miter;stroke-width:0.8;\"/>\n   </g>\n   <g id=\"patch_4\">\n    <path d=\"M 400.853125 239.758125 \nL 400.853125 22.318125 \n\" style=\"fill:none;stroke:#ffffff;stroke-linecap:square;stroke-linejoin:miter;stroke-width:0.8;\"/>\n   </g>\n   <g id=\"patch_5\">\n    <path d=\"M 66.053125 239.758125 \nL 400.853125 239.758125 \n\" style=\"fill:none;stroke:#ffffff;stroke-linecap:square;stroke-linejoin:miter;stroke-width:0.8;\"/>\n   </g>\n   <g id=\"patch_6\">\n    <path d=\"M 66.053125 22.318125 \nL 400.853125 22.318125 \n\" style=\"fill:none;stroke:#ffffff;stroke-linecap:square;stroke-linejoin:miter;stroke-width:0.8;\"/>\n   </g>\n   <g id=\"text_16\">\n    <!-- Probability Plot -->\n    <g style=\"fill:#ffffff;\" transform=\"translate(188.523438 16.318125)scale(0.12 -0.12)\">\n     <defs>\n      <path d=\"M 19.671875 64.796875 \nL 19.671875 37.40625 \nL 32.078125 37.40625 \nQ 38.96875 37.40625 42.71875 40.96875 \nQ 46.484375 44.53125 46.484375 51.125 \nQ 46.484375 57.671875 42.71875 61.234375 \nQ 38.96875 64.796875 32.078125 64.796875 \nz\nM 9.8125 72.90625 \nL 32.078125 72.90625 \nQ 44.34375 72.90625 50.609375 67.359375 \nQ 56.890625 61.8125 56.890625 51.125 \nQ 56.890625 40.328125 50.609375 34.8125 \nQ 44.34375 29.296875 32.078125 29.296875 \nL 19.671875 29.296875 \nL 19.671875 0 \nL 9.8125 0 \nz\n\" id=\"DejaVuSans-80\"/>\n      <path d=\"M 48.6875 27.296875 \nQ 48.6875 37.203125 44.609375 42.84375 \nQ 40.53125 48.484375 33.40625 48.484375 \nQ 26.265625 48.484375 22.1875 42.84375 \nQ 18.109375 37.203125 18.109375 27.296875 \nQ 18.109375 17.390625 22.1875 11.75 \nQ 26.265625 6.109375 33.40625 6.109375 \nQ 40.53125 6.109375 44.609375 11.75 \nQ 48.6875 17.390625 48.6875 27.296875 \nz\nM 18.109375 46.390625 \nQ 20.953125 51.265625 25.265625 53.625 \nQ 29.59375 56 35.59375 56 \nQ 45.5625 56 51.78125 48.09375 \nQ 58.015625 40.1875 58.015625 27.296875 \nQ 58.015625 14.40625 51.78125 6.484375 \nQ 45.5625 -1.421875 35.59375 -1.421875 \nQ 29.59375 -1.421875 25.265625 0.953125 \nQ 20.953125 3.328125 18.109375 8.203125 \nL 18.109375 0 \nL 9.078125 0 \nL 9.078125 75.984375 \nL 18.109375 75.984375 \nz\n\" id=\"DejaVuSans-98\"/>\n      <path d=\"M 32.171875 -5.078125 \nQ 28.375 -14.84375 24.75 -17.8125 \nQ 21.140625 -20.796875 15.09375 -20.796875 \nL 7.90625 -20.796875 \nL 7.90625 -13.28125 \nL 13.1875 -13.28125 \nQ 16.890625 -13.28125 18.9375 -11.515625 \nQ 21 -9.765625 23.484375 -3.21875 \nL 25.09375 0.875 \nL 2.984375 54.6875 \nL 12.5 54.6875 \nL 29.59375 11.921875 \nL 46.6875 54.6875 \nL 56.203125 54.6875 \nz\n\" id=\"DejaVuSans-121\"/>\n     </defs>\n     <use xlink:href=\"#DejaVuSans-80\"/>\n     <use x=\"58.552734\" xlink:href=\"#DejaVuSans-114\"/>\n     <use x=\"97.416016\" xlink:href=\"#DejaVuSans-111\"/>\n     <use x=\"158.597656\" xlink:href=\"#DejaVuSans-98\"/>\n     <use x=\"222.074219\" xlink:href=\"#DejaVuSans-97\"/>\n     <use x=\"283.353516\" xlink:href=\"#DejaVuSans-98\"/>\n     <use x=\"346.830078\" xlink:href=\"#DejaVuSans-105\"/>\n     <use x=\"374.613281\" xlink:href=\"#DejaVuSans-108\"/>\n     <use x=\"402.396484\" xlink:href=\"#DejaVuSans-105\"/>\n     <use x=\"430.179688\" xlink:href=\"#DejaVuSans-116\"/>\n     <use x=\"469.388672\" xlink:href=\"#DejaVuSans-121\"/>\n     <use x=\"528.568359\" xlink:href=\"#DejaVuSans-32\"/>\n     <use x=\"560.355469\" xlink:href=\"#DejaVuSans-80\"/>\n     <use x=\"620.658203\" xlink:href=\"#DejaVuSans-108\"/>\n     <use x=\"648.441406\" xlink:href=\"#DejaVuSans-111\"/>\n     <use x=\"709.623047\" xlink:href=\"#DejaVuSans-116\"/>\n    </g>\n   </g>\n  </g>\n </g>\n <defs>\n  <clipPath id=\"pfc6ab1d29b\">\n   <rect height=\"217.44\" width=\"334.8\" x=\"66.053125\" y=\"22.318125\"/>\n  </clipPath>\n </defs>\n</svg>\n",
      "image/png": "[encoded data removed]"
     },
     "metadata": {}
    }
   ],
   "source": [
    "from scipy import stats\n",
    "from scipy.stats import norm, skew\n",
    "sns.distplot(df1.sold_price, fit=norm)\n",
    "(mu, sigma) = norm.fit(df1['sold_price'])\n",
    "print( '\\n mu = {:.2f} and sigma = {:.2f}\\n'.format(mu, sigma))\n",
    "\n",
    "#Now plot the distribution\n",
    "plt.legend(['Normal dist. ($\\mu=$ {:.2f} and $\\sigma=$ {:.2f} )'.format(mu, sigma)],loc='upper center')\n",
    "plt.ylabel('Frequency')\n",
    "plt.title('SoldPrice distribution')\n",
    "\n",
    "#Get also the QQ-plot\n",
    "fig = plt.figure()\n",
    "res = stats.probplot(df1['sold_price'], plot=plt)\n",
    "plt.show()"
   ]
  },
  {
   "cell_type": "code",
   "execution_count": 12,
   "metadata": {},
   "outputs": [],
   "source": [
    "data = df1.copy()"
   ]
  },
  {
   "cell_type": "code",
   "execution_count": 13,
   "metadata": {},
   "outputs": [
    {
     "output_type": "display_data",
     "data": {
      "text/plain": "<Figure size 432x288 with 1 Axes>",
      "image/svg+xml": "<?xml version=\"1.0\" encoding=\"utf-8\" standalone=\"no\"?>\n<!DOCTYPE svg PUBLIC \"-//W3C//DTD SVG 1.1//EN\"\n  \"http://www.w3.org/Graphics/SVG/1.1/DTD/svg11.dtd\">\n<!-- Created with matplotlib (https://matplotlib.org/) -->\n<svg height=\"262.474375pt\" version=\"1.1\" viewBox=\"0 0 380.055951 262.474375\" width=\"380.055951pt\" xmlns=\"http://www.w3.org/2000/svg\" xmlns:xlink=\"http://www.w3.org/1999/xlink\">\n <metadata>\n  <rdf:RDF xmlns:cc=\"http://creativecommons.org/ns#\" xmlns:dc=\"http://purl.org/dc/elements/1.1/\" xmlns:rdf=\"http://www.w3.org/1999/02/22-rdf-syntax-ns#\">\n   <cc:Work>\n    <dc:type rdf:resource=\"http://purl.org/dc/dcmitype/StillImage\"/>\n    <dc:date>2021-03-14T19:53:58.264993</dc:date>\n    <dc:format>image/svg+xml</dc:format>\n    <dc:creator>\n     <cc:Agent>\n      <dc:title>Matplotlib v3.3.1, https://matplotlib.org/</dc:title>\n     </cc:Agent>\n    </dc:creator>\n   </cc:Work>\n  </rdf:RDF>\n </metadata>\n <defs>\n  <style type=\"text/css\">*{stroke-linecap:butt;stroke-linejoin:round;}</style>\n </defs>\n <g id=\"figure_1\">\n  <g id=\"patch_1\">\n   <path d=\"M 0 262.474375 \nL 380.055951 262.474375 \nL 380.055951 0 \nL 0 0 \nz\n\"/>\n  </g>\n  <g id=\"axes_1\">\n   <g id=\"patch_2\">\n    <path d=\"M 36.465625 224.64 \nL 371.265625 224.64 \nL 371.265625 7.2 \nL 36.465625 7.2 \nz\n\"/>\n   </g>\n   <g id=\"patch_3\">\n    <path clip-path=\"url(#p7bdc86f995)\" d=\"M 103.583488 224.64 \nL 123.639916 224.64 \nL 123.639916 182.160879 \nL 103.583488 182.160879 \nz\n\" style=\"fill:#8dd3c7;opacity:0.4;\"/>\n   </g>\n   <g id=\"patch_4\">\n    <path clip-path=\"url(#p7bdc86f995)\" d=\"M 123.639916 224.64 \nL 143.696343 224.64 \nL 143.696343 160.921319 \nL 123.639916 160.921319 \nz\n\" style=\"fill:#8dd3c7;opacity:0.4;\"/>\n   </g>\n   <g id=\"patch_5\">\n    <path clip-path=\"url(#p7bdc86f995)\" d=\"M 143.696343 224.64 \nL 163.75277 224.64 \nL 163.75277 166.231209 \nL 143.696343 166.231209 \nz\n\" style=\"fill:#8dd3c7;opacity:0.4;\"/>\n   </g>\n   <g id=\"patch_6\">\n    <path clip-path=\"url(#p7bdc86f995)\" d=\"M 163.75277 224.64 \nL 183.809198 224.64 \nL 183.809198 86.582857 \nL 163.75277 86.582857 \nz\n\" style=\"fill:#8dd3c7;opacity:0.4;\"/>\n   </g>\n   <g id=\"patch_7\">\n    <path clip-path=\"url(#p7bdc86f995)\" d=\"M 183.809198 224.64 \nL 203.865625 224.64 \nL 203.865625 17.554286 \nL 183.809198 17.554286 \nz\n\" style=\"fill:#8dd3c7;opacity:0.4;\"/>\n   </g>\n   <g id=\"patch_8\">\n    <path clip-path=\"url(#p7bdc86f995)\" d=\"M 203.865625 224.64 \nL 223.922052 224.64 \nL 223.922052 97.202637 \nL 203.865625 97.202637 \nz\n\" style=\"fill:#8dd3c7;opacity:0.4;\"/>\n   </g>\n   <g id=\"patch_9\">\n    <path clip-path=\"url(#p7bdc86f995)\" d=\"M 223.922052 224.64 \nL 243.97848 224.64 \nL 243.97848 113.132308 \nL 223.922052 113.132308 \nz\n\" style=\"fill:#8dd3c7;opacity:0.4;\"/>\n   </g>\n   <g id=\"patch_10\">\n    <path clip-path=\"url(#p7bdc86f995)\" d=\"M 243.97848 224.64 \nL 264.034907 224.64 \nL 264.034907 182.160879 \nL 243.97848 182.160879 \nz\n\" style=\"fill:#8dd3c7;opacity:0.4;\"/>\n   </g>\n   <g id=\"patch_11\">\n    <path clip-path=\"url(#p7bdc86f995)\" d=\"M 264.034907 224.64 \nL 284.091334 224.64 \nL 284.091334 171.541099 \nL 264.034907 171.541099 \nz\n\" style=\"fill:#8dd3c7;opacity:0.4;\"/>\n   </g>\n   <g id=\"patch_12\">\n    <path clip-path=\"url(#p7bdc86f995)\" d=\"M 284.091334 224.64 \nL 304.147762 224.64 \nL 304.147762 166.231209 \nL 284.091334 166.231209 \nz\n\" style=\"fill:#8dd3c7;opacity:0.4;\"/>\n   </g>\n   <g id=\"matplotlib.axis_1\">\n    <g id=\"xtick_1\">\n     <g id=\"line2d_1\">\n      <defs>\n       <path d=\"M 0 0 \nL 0 3.5 \n\" id=\"mf6bb8871c6\" style=\"stroke:#ffffff;stroke-width:0.8;\"/>\n      </defs>\n      <g>\n       <use style=\"fill:#ffffff;stroke:#ffffff;stroke-width:0.8;\" x=\"50.279609\" xlink:href=\"#mf6bb8871c6\" y=\"224.64\"/>\n      </g>\n     </g>\n     <g id=\"text_1\">\n      <!-- 12.00 -->\n      <g style=\"fill:#ffffff;\" transform=\"translate(35.965546 239.238438)scale(0.1 -0.1)\">\n       <defs>\n        <path d=\"M 12.40625 8.296875 \nL 28.515625 8.296875 \nL 28.515625 63.921875 \nL 10.984375 60.40625 \nL 10.984375 69.390625 \nL 28.421875 72.90625 \nL 38.28125 72.90625 \nL 38.28125 8.296875 \nL 54.390625 8.296875 \nL 54.390625 0 \nL 12.40625 0 \nz\n\" id=\"DejaVuSans-49\"/>\n        <path d=\"M 19.1875 8.296875 \nL 53.609375 8.296875 \nL 53.609375 0 \nL 7.328125 0 \nL 7.328125 8.296875 \nQ 12.9375 14.109375 22.625 23.890625 \nQ 32.328125 33.6875 34.8125 36.53125 \nQ 39.546875 41.84375 41.421875 45.53125 \nQ 43.3125 49.21875 43.3125 52.78125 \nQ 43.3125 58.59375 39.234375 62.25 \nQ 35.15625 65.921875 28.609375 65.921875 \nQ 23.96875 65.921875 18.8125 64.3125 \nQ 13.671875 62.703125 7.8125 59.421875 \nL 7.8125 69.390625 \nQ 13.765625 71.78125 18.9375 73 \nQ 24.125 74.21875 28.421875 74.21875 \nQ 39.75 74.21875 46.484375 68.546875 \nQ 53.21875 62.890625 53.21875 53.421875 \nQ 53.21875 48.921875 51.53125 44.890625 \nQ 49.859375 40.875 45.40625 35.40625 \nQ 44.1875 33.984375 37.640625 27.21875 \nQ 31.109375 20.453125 19.1875 8.296875 \nz\n\" id=\"DejaVuSans-50\"/>\n        <path d=\"M 10.6875 12.40625 \nL 21 12.40625 \nL 21 0 \nL 10.6875 0 \nz\n\" id=\"DejaVuSans-46\"/>\n        <path d=\"M 31.78125 66.40625 \nQ 24.171875 66.40625 20.328125 58.90625 \nQ 16.5 51.421875 16.5 36.375 \nQ 16.5 21.390625 20.328125 13.890625 \nQ 24.171875 6.390625 31.78125 6.390625 \nQ 39.453125 6.390625 43.28125 13.890625 \nQ 47.125 21.390625 47.125 36.375 \nQ 47.125 51.421875 43.28125 58.90625 \nQ 39.453125 66.40625 31.78125 66.40625 \nz\nM 31.78125 74.21875 \nQ 44.046875 74.21875 50.515625 64.515625 \nQ 56.984375 54.828125 56.984375 36.375 \nQ 56.984375 17.96875 50.515625 8.265625 \nQ 44.046875 -1.421875 31.78125 -1.421875 \nQ 19.53125 -1.421875 13.0625 8.265625 \nQ 6.59375 17.96875 6.59375 36.375 \nQ 6.59375 54.828125 13.0625 64.515625 \nQ 19.53125 74.21875 31.78125 74.21875 \nz\n\" id=\"DejaVuSans-48\"/>\n       </defs>\n       <use xlink:href=\"#DejaVuSans-49\"/>\n       <use x=\"63.623047\" xlink:href=\"#DejaVuSans-50\"/>\n       <use x=\"127.246094\" xlink:href=\"#DejaVuSans-46\"/>\n       <use x=\"159.033203\" xlink:href=\"#DejaVuSans-48\"/>\n       <use x=\"222.65625\" xlink:href=\"#DejaVuSans-48\"/>\n      </g>\n     </g>\n    </g>\n    <g id=\"xtick_2\">\n     <g id=\"line2d_2\">\n      <g>\n       <use style=\"fill:#ffffff;stroke:#ffffff;stroke-width:0.8;\" x=\"88.812394\" xlink:href=\"#mf6bb8871c6\" y=\"224.64\"/>\n      </g>\n     </g>\n     <g id=\"text_2\">\n      <!-- 12.25 -->\n      <g style=\"fill:#ffffff;\" transform=\"translate(74.498331 239.238438)scale(0.1 -0.1)\">\n       <defs>\n        <path d=\"M 10.796875 72.90625 \nL 49.515625 72.90625 \nL 49.515625 64.59375 \nL 19.828125 64.59375 \nL 19.828125 46.734375 \nQ 21.96875 47.46875 24.109375 47.828125 \nQ 26.265625 48.1875 28.421875 48.1875 \nQ 40.625 48.1875 47.75 41.5 \nQ 54.890625 34.8125 54.890625 23.390625 \nQ 54.890625 11.625 47.5625 5.09375 \nQ 40.234375 -1.421875 26.90625 -1.421875 \nQ 22.3125 -1.421875 17.546875 -0.640625 \nQ 12.796875 0.140625 7.71875 1.703125 \nL 7.71875 11.625 \nQ 12.109375 9.234375 16.796875 8.0625 \nQ 21.484375 6.890625 26.703125 6.890625 \nQ 35.15625 6.890625 40.078125 11.328125 \nQ 45.015625 15.765625 45.015625 23.390625 \nQ 45.015625 31 40.078125 35.4375 \nQ 35.15625 39.890625 26.703125 39.890625 \nQ 22.75 39.890625 18.8125 39.015625 \nQ 14.890625 38.140625 10.796875 36.28125 \nz\n\" id=\"DejaVuSans-53\"/>\n       </defs>\n       <use xlink:href=\"#DejaVuSans-49\"/>\n       <use x=\"63.623047\" xlink:href=\"#DejaVuSans-50\"/>\n       <use x=\"127.246094\" xlink:href=\"#DejaVuSans-46\"/>\n       <use x=\"159.033203\" xlink:href=\"#DejaVuSans-50\"/>\n       <use x=\"222.65625\" xlink:href=\"#DejaVuSans-53\"/>\n      </g>\n     </g>\n    </g>\n    <g id=\"xtick_3\">\n     <g id=\"line2d_3\">\n      <g>\n       <use style=\"fill:#ffffff;stroke:#ffffff;stroke-width:0.8;\" x=\"127.345179\" xlink:href=\"#mf6bb8871c6\" y=\"224.64\"/>\n      </g>\n     </g>\n     <g id=\"text_3\">\n      <!-- 12.50 -->\n      <g style=\"fill:#ffffff;\" transform=\"translate(113.031116 239.238438)scale(0.1 -0.1)\">\n       <use xlink:href=\"#DejaVuSans-49\"/>\n       <use x=\"63.623047\" xlink:href=\"#DejaVuSans-50\"/>\n       <use x=\"127.246094\" xlink:href=\"#DejaVuSans-46\"/>\n       <use x=\"159.033203\" xlink:href=\"#DejaVuSans-53\"/>\n       <use x=\"222.65625\" xlink:href=\"#DejaVuSans-48\"/>\n      </g>\n     </g>\n    </g>\n    <g id=\"xtick_4\">\n     <g id=\"line2d_4\">\n      <g>\n       <use style=\"fill:#ffffff;stroke:#ffffff;stroke-width:0.8;\" x=\"165.877964\" xlink:href=\"#mf6bb8871c6\" y=\"224.64\"/>\n      </g>\n     </g>\n     <g id=\"text_4\">\n      <!-- 12.75 -->\n      <g style=\"fill:#ffffff;\" transform=\"translate(151.563901 239.238438)scale(0.1 -0.1)\">\n       <defs>\n        <path d=\"M 8.203125 72.90625 \nL 55.078125 72.90625 \nL 55.078125 68.703125 \nL 28.609375 0 \nL 18.3125 0 \nL 43.21875 64.59375 \nL 8.203125 64.59375 \nz\n\" id=\"DejaVuSans-55\"/>\n       </defs>\n       <use xlink:href=\"#DejaVuSans-49\"/>\n       <use x=\"63.623047\" xlink:href=\"#DejaVuSans-50\"/>\n       <use x=\"127.246094\" xlink:href=\"#DejaVuSans-46\"/>\n       <use x=\"159.033203\" xlink:href=\"#DejaVuSans-55\"/>\n       <use x=\"222.65625\" xlink:href=\"#DejaVuSans-53\"/>\n      </g>\n     </g>\n    </g>\n    <g id=\"xtick_5\">\n     <g id=\"line2d_5\">\n      <g>\n       <use style=\"fill:#ffffff;stroke:#ffffff;stroke-width:0.8;\" x=\"204.410749\" xlink:href=\"#mf6bb8871c6\" y=\"224.64\"/>\n      </g>\n     </g>\n     <g id=\"text_5\">\n      <!-- 13.00 -->\n      <g style=\"fill:#ffffff;\" transform=\"translate(190.096686 239.238438)scale(0.1 -0.1)\">\n       <defs>\n        <path d=\"M 40.578125 39.3125 \nQ 47.65625 37.796875 51.625 33 \nQ 55.609375 28.21875 55.609375 21.1875 \nQ 55.609375 10.40625 48.1875 4.484375 \nQ 40.765625 -1.421875 27.09375 -1.421875 \nQ 22.515625 -1.421875 17.65625 -0.515625 \nQ 12.796875 0.390625 7.625 2.203125 \nL 7.625 11.71875 \nQ 11.71875 9.328125 16.59375 8.109375 \nQ 21.484375 6.890625 26.8125 6.890625 \nQ 36.078125 6.890625 40.9375 10.546875 \nQ 45.796875 14.203125 45.796875 21.1875 \nQ 45.796875 27.640625 41.28125 31.265625 \nQ 36.765625 34.90625 28.71875 34.90625 \nL 20.21875 34.90625 \nL 20.21875 43.015625 \nL 29.109375 43.015625 \nQ 36.375 43.015625 40.234375 45.921875 \nQ 44.09375 48.828125 44.09375 54.296875 \nQ 44.09375 59.90625 40.109375 62.90625 \nQ 36.140625 65.921875 28.71875 65.921875 \nQ 24.65625 65.921875 20.015625 65.03125 \nQ 15.375 64.15625 9.8125 62.3125 \nL 9.8125 71.09375 \nQ 15.4375 72.65625 20.34375 73.4375 \nQ 25.25 74.21875 29.59375 74.21875 \nQ 40.828125 74.21875 47.359375 69.109375 \nQ 53.90625 64.015625 53.90625 55.328125 \nQ 53.90625 49.265625 50.4375 45.09375 \nQ 46.96875 40.921875 40.578125 39.3125 \nz\n\" id=\"DejaVuSans-51\"/>\n       </defs>\n       <use xlink:href=\"#DejaVuSans-49\"/>\n       <use x=\"63.623047\" xlink:href=\"#DejaVuSans-51\"/>\n       <use x=\"127.246094\" xlink:href=\"#DejaVuSans-46\"/>\n       <use x=\"159.033203\" xlink:href=\"#DejaVuSans-48\"/>\n       <use x=\"222.65625\" xlink:href=\"#DejaVuSans-48\"/>\n      </g>\n     </g>\n    </g>\n    <g id=\"xtick_6\">\n     <g id=\"line2d_6\">\n      <g>\n       <use style=\"fill:#ffffff;stroke:#ffffff;stroke-width:0.8;\" x=\"242.943534\" xlink:href=\"#mf6bb8871c6\" y=\"224.64\"/>\n      </g>\n     </g>\n     <g id=\"text_6\">\n      <!-- 13.25 -->\n      <g style=\"fill:#ffffff;\" transform=\"translate(228.629471 239.238438)scale(0.1 -0.1)\">\n       <use xlink:href=\"#DejaVuSans-49\"/>\n       <use x=\"63.623047\" xlink:href=\"#DejaVuSans-51\"/>\n       <use x=\"127.246094\" xlink:href=\"#DejaVuSans-46\"/>\n       <use x=\"159.033203\" xlink:href=\"#DejaVuSans-50\"/>\n       <use x=\"222.65625\" xlink:href=\"#DejaVuSans-53\"/>\n      </g>\n     </g>\n    </g>\n    <g id=\"xtick_7\">\n     <g id=\"line2d_7\">\n      <g>\n       <use style=\"fill:#ffffff;stroke:#ffffff;stroke-width:0.8;\" x=\"281.476319\" xlink:href=\"#mf6bb8871c6\" y=\"224.64\"/>\n      </g>\n     </g>\n     <g id=\"text_7\">\n      <!-- 13.50 -->\n      <g style=\"fill:#ffffff;\" transform=\"translate(267.162256 239.238438)scale(0.1 -0.1)\">\n       <use xlink:href=\"#DejaVuSans-49\"/>\n       <use x=\"63.623047\" xlink:href=\"#DejaVuSans-51\"/>\n       <use x=\"127.246094\" xlink:href=\"#DejaVuSans-46\"/>\n       <use x=\"159.033203\" xlink:href=\"#DejaVuSans-53\"/>\n       <use x=\"222.65625\" xlink:href=\"#DejaVuSans-48\"/>\n      </g>\n     </g>\n    </g>\n    <g id=\"xtick_8\">\n     <g id=\"line2d_8\">\n      <g>\n       <use style=\"fill:#ffffff;stroke:#ffffff;stroke-width:0.8;\" x=\"320.009104\" xlink:href=\"#mf6bb8871c6\" y=\"224.64\"/>\n      </g>\n     </g>\n     <g id=\"text_8\">\n      <!-- 13.75 -->\n      <g style=\"fill:#ffffff;\" transform=\"translate(305.695041 239.238438)scale(0.1 -0.1)\">\n       <use xlink:href=\"#DejaVuSans-49\"/>\n       <use x=\"63.623047\" xlink:href=\"#DejaVuSans-51\"/>\n       <use x=\"127.246094\" xlink:href=\"#DejaVuSans-46\"/>\n       <use x=\"159.033203\" xlink:href=\"#DejaVuSans-55\"/>\n       <use x=\"222.65625\" xlink:href=\"#DejaVuSans-53\"/>\n      </g>\n     </g>\n    </g>\n    <g id=\"xtick_9\">\n     <g id=\"line2d_9\">\n      <g>\n       <use style=\"fill:#ffffff;stroke:#ffffff;stroke-width:0.8;\" x=\"358.541889\" xlink:href=\"#mf6bb8871c6\" y=\"224.64\"/>\n      </g>\n     </g>\n     <g id=\"text_9\">\n      <!-- 14.00 -->\n      <g style=\"fill:#ffffff;\" transform=\"translate(344.227826 239.238438)scale(0.1 -0.1)\">\n       <defs>\n        <path d=\"M 37.796875 64.3125 \nL 12.890625 25.390625 \nL 37.796875 25.390625 \nz\nM 35.203125 72.90625 \nL 47.609375 72.90625 \nL 47.609375 25.390625 \nL 58.015625 25.390625 \nL 58.015625 17.1875 \nL 47.609375 17.1875 \nL 47.609375 0 \nL 37.796875 0 \nL 37.796875 17.1875 \nL 4.890625 17.1875 \nL 4.890625 26.703125 \nz\n\" id=\"DejaVuSans-52\"/>\n       </defs>\n       <use xlink:href=\"#DejaVuSans-49\"/>\n       <use x=\"63.623047\" xlink:href=\"#DejaVuSans-52\"/>\n       <use x=\"127.246094\" xlink:href=\"#DejaVuSans-46\"/>\n       <use x=\"159.033203\" xlink:href=\"#DejaVuSans-48\"/>\n       <use x=\"222.65625\" xlink:href=\"#DejaVuSans-48\"/>\n      </g>\n     </g>\n    </g>\n    <g id=\"text_10\">\n     <!-- sold_price -->\n     <g style=\"fill:#ffffff;\" transform=\"translate(178.69375 252.916562)scale(0.1 -0.1)\">\n      <defs>\n       <path d=\"M 44.28125 53.078125 \nL 44.28125 44.578125 \nQ 40.484375 46.53125 36.375 47.5 \nQ 32.28125 48.484375 27.875 48.484375 \nQ 21.1875 48.484375 17.84375 46.4375 \nQ 14.5 44.390625 14.5 40.28125 \nQ 14.5 37.15625 16.890625 35.375 \nQ 19.28125 33.59375 26.515625 31.984375 \nL 29.59375 31.296875 \nQ 39.15625 29.25 43.1875 25.515625 \nQ 47.21875 21.78125 47.21875 15.09375 \nQ 47.21875 7.46875 41.1875 3.015625 \nQ 35.15625 -1.421875 24.609375 -1.421875 \nQ 20.21875 -1.421875 15.453125 -0.5625 \nQ 10.6875 0.296875 5.421875 2 \nL 5.421875 11.28125 \nQ 10.40625 8.6875 15.234375 7.390625 \nQ 20.0625 6.109375 24.8125 6.109375 \nQ 31.15625 6.109375 34.5625 8.28125 \nQ 37.984375 10.453125 37.984375 14.40625 \nQ 37.984375 18.0625 35.515625 20.015625 \nQ 33.0625 21.96875 24.703125 23.78125 \nL 21.578125 24.515625 \nQ 13.234375 26.265625 9.515625 29.90625 \nQ 5.8125 33.546875 5.8125 39.890625 \nQ 5.8125 47.609375 11.28125 51.796875 \nQ 16.75 56 26.8125 56 \nQ 31.78125 56 36.171875 55.265625 \nQ 40.578125 54.546875 44.28125 53.078125 \nz\n\" id=\"DejaVuSans-115\"/>\n       <path d=\"M 30.609375 48.390625 \nQ 23.390625 48.390625 19.1875 42.75 \nQ 14.984375 37.109375 14.984375 27.296875 \nQ 14.984375 17.484375 19.15625 11.84375 \nQ 23.34375 6.203125 30.609375 6.203125 \nQ 37.796875 6.203125 41.984375 11.859375 \nQ 46.1875 17.53125 46.1875 27.296875 \nQ 46.1875 37.015625 41.984375 42.703125 \nQ 37.796875 48.390625 30.609375 48.390625 \nz\nM 30.609375 56 \nQ 42.328125 56 49.015625 48.375 \nQ 55.71875 40.765625 55.71875 27.296875 \nQ 55.71875 13.875 49.015625 6.21875 \nQ 42.328125 -1.421875 30.609375 -1.421875 \nQ 18.84375 -1.421875 12.171875 6.21875 \nQ 5.515625 13.875 5.515625 27.296875 \nQ 5.515625 40.765625 12.171875 48.375 \nQ 18.84375 56 30.609375 56 \nz\n\" id=\"DejaVuSans-111\"/>\n       <path d=\"M 9.421875 75.984375 \nL 18.40625 75.984375 \nL 18.40625 0 \nL 9.421875 0 \nz\n\" id=\"DejaVuSans-108\"/>\n       <path d=\"M 45.40625 46.390625 \nL 45.40625 75.984375 \nL 54.390625 75.984375 \nL 54.390625 0 \nL 45.40625 0 \nL 45.40625 8.203125 \nQ 42.578125 3.328125 38.25 0.953125 \nQ 33.9375 -1.421875 27.875 -1.421875 \nQ 17.96875 -1.421875 11.734375 6.484375 \nQ 5.515625 14.40625 5.515625 27.296875 \nQ 5.515625 40.1875 11.734375 48.09375 \nQ 17.96875 56 27.875 56 \nQ 33.9375 56 38.25 53.625 \nQ 42.578125 51.265625 45.40625 46.390625 \nz\nM 14.796875 27.296875 \nQ 14.796875 17.390625 18.875 11.75 \nQ 22.953125 6.109375 30.078125 6.109375 \nQ 37.203125 6.109375 41.296875 11.75 \nQ 45.40625 17.390625 45.40625 27.296875 \nQ 45.40625 37.203125 41.296875 42.84375 \nQ 37.203125 48.484375 30.078125 48.484375 \nQ 22.953125 48.484375 18.875 42.84375 \nQ 14.796875 37.203125 14.796875 27.296875 \nz\n\" id=\"DejaVuSans-100\"/>\n       <path d=\"M 50.984375 -16.609375 \nL 50.984375 -23.578125 \nL -0.984375 -23.578125 \nL -0.984375 -16.609375 \nz\n\" id=\"DejaVuSans-95\"/>\n       <path d=\"M 18.109375 8.203125 \nL 18.109375 -20.796875 \nL 9.078125 -20.796875 \nL 9.078125 54.6875 \nL 18.109375 54.6875 \nL 18.109375 46.390625 \nQ 20.953125 51.265625 25.265625 53.625 \nQ 29.59375 56 35.59375 56 \nQ 45.5625 56 51.78125 48.09375 \nQ 58.015625 40.1875 58.015625 27.296875 \nQ 58.015625 14.40625 51.78125 6.484375 \nQ 45.5625 -1.421875 35.59375 -1.421875 \nQ 29.59375 -1.421875 25.265625 0.953125 \nQ 20.953125 3.328125 18.109375 8.203125 \nz\nM 48.6875 27.296875 \nQ 48.6875 37.203125 44.609375 42.84375 \nQ 40.53125 48.484375 33.40625 48.484375 \nQ 26.265625 48.484375 22.1875 42.84375 \nQ 18.109375 37.203125 18.109375 27.296875 \nQ 18.109375 17.390625 22.1875 11.75 \nQ 26.265625 6.109375 33.40625 6.109375 \nQ 40.53125 6.109375 44.609375 11.75 \nQ 48.6875 17.390625 48.6875 27.296875 \nz\n\" id=\"DejaVuSans-112\"/>\n       <path d=\"M 41.109375 46.296875 \nQ 39.59375 47.171875 37.8125 47.578125 \nQ 36.03125 48 33.890625 48 \nQ 26.265625 48 22.1875 43.046875 \nQ 18.109375 38.09375 18.109375 28.8125 \nL 18.109375 0 \nL 9.078125 0 \nL 9.078125 54.6875 \nL 18.109375 54.6875 \nL 18.109375 46.1875 \nQ 20.953125 51.171875 25.484375 53.578125 \nQ 30.03125 56 36.53125 56 \nQ 37.453125 56 38.578125 55.875 \nQ 39.703125 55.765625 41.0625 55.515625 \nz\n\" id=\"DejaVuSans-114\"/>\n       <path d=\"M 9.421875 54.6875 \nL 18.40625 54.6875 \nL 18.40625 0 \nL 9.421875 0 \nz\nM 9.421875 75.984375 \nL 18.40625 75.984375 \nL 18.40625 64.59375 \nL 9.421875 64.59375 \nz\n\" id=\"DejaVuSans-105\"/>\n       <path d=\"M 48.78125 52.59375 \nL 48.78125 44.1875 \nQ 44.96875 46.296875 41.140625 47.34375 \nQ 37.3125 48.390625 33.40625 48.390625 \nQ 24.65625 48.390625 19.8125 42.84375 \nQ 14.984375 37.3125 14.984375 27.296875 \nQ 14.984375 17.28125 19.8125 11.734375 \nQ 24.65625 6.203125 33.40625 6.203125 \nQ 37.3125 6.203125 41.140625 7.25 \nQ 44.96875 8.296875 48.78125 10.40625 \nL 48.78125 2.09375 \nQ 45.015625 0.34375 40.984375 -0.53125 \nQ 36.96875 -1.421875 32.421875 -1.421875 \nQ 20.0625 -1.421875 12.78125 6.34375 \nQ 5.515625 14.109375 5.515625 27.296875 \nQ 5.515625 40.671875 12.859375 48.328125 \nQ 20.21875 56 33.015625 56 \nQ 37.15625 56 41.109375 55.140625 \nQ 45.0625 54.296875 48.78125 52.59375 \nz\n\" id=\"DejaVuSans-99\"/>\n       <path d=\"M 56.203125 29.59375 \nL 56.203125 25.203125 \nL 14.890625 25.203125 \nQ 15.484375 15.921875 20.484375 11.0625 \nQ 25.484375 6.203125 34.421875 6.203125 \nQ 39.59375 6.203125 44.453125 7.46875 \nQ 49.3125 8.734375 54.109375 11.28125 \nL 54.109375 2.78125 \nQ 49.265625 0.734375 44.1875 -0.34375 \nQ 39.109375 -1.421875 33.890625 -1.421875 \nQ 20.796875 -1.421875 13.15625 6.1875 \nQ 5.515625 13.8125 5.515625 26.8125 \nQ 5.515625 40.234375 12.765625 48.109375 \nQ 20.015625 56 32.328125 56 \nQ 43.359375 56 49.78125 48.890625 \nQ 56.203125 41.796875 56.203125 29.59375 \nz\nM 47.21875 32.234375 \nQ 47.125 39.59375 43.09375 43.984375 \nQ 39.0625 48.390625 32.421875 48.390625 \nQ 24.90625 48.390625 20.390625 44.140625 \nQ 15.875 39.890625 15.1875 32.171875 \nz\n\" id=\"DejaVuSans-101\"/>\n      </defs>\n      <use xlink:href=\"#DejaVuSans-115\"/>\n      <use x=\"52.099609\" xlink:href=\"#DejaVuSans-111\"/>\n      <use x=\"113.28125\" xlink:href=\"#DejaVuSans-108\"/>\n      <use x=\"141.064453\" xlink:href=\"#DejaVuSans-100\"/>\n      <use x=\"204.541016\" xlink:href=\"#DejaVuSans-95\"/>\n      <use x=\"254.541016\" xlink:href=\"#DejaVuSans-112\"/>\n      <use x=\"318.017578\" xlink:href=\"#DejaVuSans-114\"/>\n      <use x=\"359.130859\" xlink:href=\"#DejaVuSans-105\"/>\n      <use x=\"386.914062\" xlink:href=\"#DejaVuSans-99\"/>\n      <use x=\"441.894531\" xlink:href=\"#DejaVuSans-101\"/>\n     </g>\n    </g>\n   </g>\n   <g id=\"matplotlib.axis_2\">\n    <g id=\"ytick_1\">\n     <g id=\"line2d_10\">\n      <defs>\n       <path d=\"M 0 0 \nL -3.5 0 \n\" id=\"mda0b9bbfe0\" style=\"stroke:#ffffff;stroke-width:0.8;\"/>\n      </defs>\n      <g>\n       <use style=\"fill:#ffffff;stroke:#ffffff;stroke-width:0.8;\" x=\"36.465625\" xlink:href=\"#mda0b9bbfe0\" y=\"224.64\"/>\n      </g>\n     </g>\n     <g id=\"text_11\">\n      <!-- 0.00 -->\n      <g style=\"fill:#ffffff;\" transform=\"translate(7.2 228.439219)scale(0.1 -0.1)\">\n       <use xlink:href=\"#DejaVuSans-48\"/>\n       <use x=\"63.623047\" xlink:href=\"#DejaVuSans-46\"/>\n       <use x=\"95.410156\" xlink:href=\"#DejaVuSans-48\"/>\n       <use x=\"159.033203\" xlink:href=\"#DejaVuSans-48\"/>\n      </g>\n     </g>\n    </g>\n    <g id=\"ytick_2\">\n     <g id=\"line2d_11\">\n      <g>\n       <use style=\"fill:#ffffff;stroke:#ffffff;stroke-width:0.8;\" x=\"36.465625\" xlink:href=\"#mda0b9bbfe0\" y=\"195.274483\"/>\n      </g>\n     </g>\n     <g id=\"text_12\">\n      <!-- 0.25 -->\n      <g style=\"fill:#ffffff;\" transform=\"translate(7.2 199.073702)scale(0.1 -0.1)\">\n       <use xlink:href=\"#DejaVuSans-48\"/>\n       <use x=\"63.623047\" xlink:href=\"#DejaVuSans-46\"/>\n       <use x=\"95.410156\" xlink:href=\"#DejaVuSans-50\"/>\n       <use x=\"159.033203\" xlink:href=\"#DejaVuSans-53\"/>\n      </g>\n     </g>\n    </g>\n    <g id=\"ytick_3\">\n     <g id=\"line2d_12\">\n      <g>\n       <use style=\"fill:#ffffff;stroke:#ffffff;stroke-width:0.8;\" x=\"36.465625\" xlink:href=\"#mda0b9bbfe0\" y=\"165.908966\"/>\n      </g>\n     </g>\n     <g id=\"text_13\">\n      <!-- 0.50 -->\n      <g style=\"fill:#ffffff;\" transform=\"translate(7.2 169.708185)scale(0.1 -0.1)\">\n       <use xlink:href=\"#DejaVuSans-48\"/>\n       <use x=\"63.623047\" xlink:href=\"#DejaVuSans-46\"/>\n       <use x=\"95.410156\" xlink:href=\"#DejaVuSans-53\"/>\n       <use x=\"159.033203\" xlink:href=\"#DejaVuSans-48\"/>\n      </g>\n     </g>\n    </g>\n    <g id=\"ytick_4\">\n     <g id=\"line2d_13\">\n      <g>\n       <use style=\"fill:#ffffff;stroke:#ffffff;stroke-width:0.8;\" x=\"36.465625\" xlink:href=\"#mda0b9bbfe0\" y=\"136.54345\"/>\n      </g>\n     </g>\n     <g id=\"text_14\">\n      <!-- 0.75 -->\n      <g style=\"fill:#ffffff;\" transform=\"translate(7.2 140.342668)scale(0.1 -0.1)\">\n       <use xlink:href=\"#DejaVuSans-48\"/>\n       <use x=\"63.623047\" xlink:href=\"#DejaVuSans-46\"/>\n       <use x=\"95.410156\" xlink:href=\"#DejaVuSans-55\"/>\n       <use x=\"159.033203\" xlink:href=\"#DejaVuSans-53\"/>\n      </g>\n     </g>\n    </g>\n    <g id=\"ytick_5\">\n     <g id=\"line2d_14\">\n      <g>\n       <use style=\"fill:#ffffff;stroke:#ffffff;stroke-width:0.8;\" x=\"36.465625\" xlink:href=\"#mda0b9bbfe0\" y=\"107.177933\"/>\n      </g>\n     </g>\n     <g id=\"text_15\">\n      <!-- 1.00 -->\n      <g style=\"fill:#ffffff;\" transform=\"translate(7.2 110.977152)scale(0.1 -0.1)\">\n       <use xlink:href=\"#DejaVuSans-49\"/>\n       <use x=\"63.623047\" xlink:href=\"#DejaVuSans-46\"/>\n       <use x=\"95.410156\" xlink:href=\"#DejaVuSans-48\"/>\n       <use x=\"159.033203\" xlink:href=\"#DejaVuSans-48\"/>\n      </g>\n     </g>\n    </g>\n    <g id=\"ytick_6\">\n     <g id=\"line2d_15\">\n      <g>\n       <use style=\"fill:#ffffff;stroke:#ffffff;stroke-width:0.8;\" x=\"36.465625\" xlink:href=\"#mda0b9bbfe0\" y=\"77.812416\"/>\n      </g>\n     </g>\n     <g id=\"text_16\">\n      <!-- 1.25 -->\n      <g style=\"fill:#ffffff;\" transform=\"translate(7.2 81.611635)scale(0.1 -0.1)\">\n       <use xlink:href=\"#DejaVuSans-49\"/>\n       <use x=\"63.623047\" xlink:href=\"#DejaVuSans-46\"/>\n       <use x=\"95.410156\" xlink:href=\"#DejaVuSans-50\"/>\n       <use x=\"159.033203\" xlink:href=\"#DejaVuSans-53\"/>\n      </g>\n     </g>\n    </g>\n    <g id=\"ytick_7\">\n     <g id=\"line2d_16\">\n      <g>\n       <use style=\"fill:#ffffff;stroke:#ffffff;stroke-width:0.8;\" x=\"36.465625\" xlink:href=\"#mda0b9bbfe0\" y=\"48.446899\"/>\n      </g>\n     </g>\n     <g id=\"text_17\">\n      <!-- 1.50 -->\n      <g style=\"fill:#ffffff;\" transform=\"translate(7.2 52.246118)scale(0.1 -0.1)\">\n       <use xlink:href=\"#DejaVuSans-49\"/>\n       <use x=\"63.623047\" xlink:href=\"#DejaVuSans-46\"/>\n       <use x=\"95.410156\" xlink:href=\"#DejaVuSans-53\"/>\n       <use x=\"159.033203\" xlink:href=\"#DejaVuSans-48\"/>\n      </g>\n     </g>\n    </g>\n    <g id=\"ytick_8\">\n     <g id=\"line2d_17\">\n      <g>\n       <use style=\"fill:#ffffff;stroke:#ffffff;stroke-width:0.8;\" x=\"36.465625\" xlink:href=\"#mda0b9bbfe0\" y=\"19.081382\"/>\n      </g>\n     </g>\n     <g id=\"text_18\">\n      <!-- 1.75 -->\n      <g style=\"fill:#ffffff;\" transform=\"translate(7.2 22.880601)scale(0.1 -0.1)\">\n       <use xlink:href=\"#DejaVuSans-49\"/>\n       <use x=\"63.623047\" xlink:href=\"#DejaVuSans-46\"/>\n       <use x=\"95.410156\" xlink:href=\"#DejaVuSans-55\"/>\n       <use x=\"159.033203\" xlink:href=\"#DejaVuSans-53\"/>\n      </g>\n     </g>\n    </g>\n   </g>\n   <g id=\"line2d_18\">\n    <path clip-path=\"url(#p7bdc86f995)\" d=\"M 51.683807 224.531393 \nL 58.873499 224.410637 \nL 63.666627 224.175321 \nL 68.459755 223.730222 \nL 73.252883 222.961459 \nL 75.649447 222.412527 \nL 78.046012 221.729159 \nL 80.442576 220.893175 \nL 82.83914 219.887902 \nL 85.235704 218.69924 \nL 87.632268 217.316679 \nL 90.028832 215.734156 \nL 92.425396 213.950663 \nL 94.82196 211.970516 \nL 97.218524 209.803274 \nL 102.011652 204.968939 \nL 106.80478 199.604845 \nL 113.994473 190.976522 \nL 125.977293 176.37916 \nL 137.960113 162.020658 \nL 142.753241 155.803429 \nL 145.149805 152.433505 \nL 147.546369 148.829168 \nL 149.942934 144.949569 \nL 152.339498 140.761454 \nL 154.736062 136.242564 \nL 157.132626 131.384754 \nL 159.52919 126.196639 \nL 164.322318 114.959212 \nL 176.305138 85.417727 \nL 178.701702 80.165313 \nL 181.098266 75.437772 \nL 183.49483 71.357917 \nL 185.891395 68.031052 \nL 188.287959 65.538039 \nL 190.684523 63.92976 \nL 193.081087 63.223675 \nL 195.477651 63.402963 \nL 197.874215 64.418481 \nL 200.270779 66.193453 \nL 202.667343 68.630419 \nL 205.063907 71.619732 \nL 207.460471 75.048671 \nL 209.857035 78.810152 \nL 214.650163 86.972803 \nL 221.839855 99.993143 \nL 229.029548 113.586189 \nL 236.21924 127.822575 \nL 243.408932 142.127729 \nL 245.805496 146.655147 \nL 248.20206 150.94093 \nL 250.598624 154.912417 \nL 252.995188 158.505237 \nL 255.391752 161.668825 \nL 257.788316 164.371008 \nL 260.184881 166.601298 \nL 262.581445 168.372639 \nL 264.978009 169.721492 \nL 267.374573 170.706255 \nL 269.771137 171.404142 \nL 274.564265 172.314443 \nL 279.357393 173.254335 \nL 281.753957 173.975796 \nL 284.150521 174.969359 \nL 286.547085 176.2899 \nL 288.943649 177.969692 \nL 291.340213 180.017055 \nL 293.736777 182.416714 \nL 296.133342 185.131796 \nL 298.529906 188.107248 \nL 303.323034 194.555959 \nL 308.116162 201.14384 \nL 312.90929 207.281045 \nL 315.305854 210.036786 \nL 317.702418 212.533579 \nL 320.098982 214.751354 \nL 322.495546 216.683363 \nL 324.89211 218.334533 \nL 327.288674 219.719278 \nL 329.685238 220.859072 \nL 332.081803 221.779991 \nL 334.478367 222.510445 \nL 336.874931 223.079225 \nL 341.668059 223.839978 \nL 346.461187 224.251881 \nL 353.650879 224.50264 \nL 356.047443 224.527708 \nL 356.047443 224.527708 \n\" style=\"fill:none;stroke:#8dd3c7;stroke-linecap:square;stroke-width:1.5;\"/>\n   </g>\n   <g id=\"line2d_19\">\n    <path clip-path=\"url(#p7bdc86f995)\" d=\"M 54.113015 223.784513 \nL 61.638272 223.207164 \nL 67.658478 222.51682 \nL 72.173632 221.820439 \nL 76.688786 220.931673 \nL 81.20394 219.809675 \nL 85.719094 218.408731 \nL 90.234248 216.678802 \nL 93.244351 215.316463 \nL 96.254453 213.767807 \nL 99.264556 212.016269 \nL 102.274659 210.045392 \nL 105.284761 207.839149 \nL 108.294864 205.382307 \nL 111.304967 202.660826 \nL 114.31507 199.66229 \nL 117.325172 196.376365 \nL 120.335275 192.795273 \nL 123.345378 188.914263 \nL 126.35548 184.73209 \nL 129.365583 180.251454 \nL 132.375686 175.479421 \nL 136.89084 167.802156 \nL 141.405994 159.558133 \nL 145.921148 150.835265 \nL 151.941353 138.662267 \nL 166.991867 107.827911 \nL 171.507021 99.232866 \nL 174.517124 93.85853 \nL 177.527226 88.838576 \nL 180.537329 84.230476 \nL 183.547432 80.088385 \nL 186.557534 76.46209 \nL 189.567637 73.396013 \nL 191.072689 72.085247 \nL 192.57774 70.928308 \nL 194.082791 69.928855 \nL 195.587843 69.090067 \nL 197.092894 68.414619 \nL 198.597945 67.904675 \nL 200.102997 67.561871 \nL 201.608048 67.387309 \nL 203.113099 67.381552 \nL 204.618151 67.544618 \nL 206.123202 67.875982 \nL 207.628253 68.374579 \nL 209.133305 69.038807 \nL 210.638356 69.86654 \nL 212.143407 70.855136 \nL 213.648459 72.00145 \nL 215.15351 73.301856 \nL 218.163613 76.348128 \nL 221.173716 79.956026 \nL 224.183818 84.081328 \nL 227.193921 88.674414 \nL 230.204024 93.681261 \nL 233.214126 99.044491 \nL 237.72928 107.626747 \nL 243.749486 119.753615 \nL 258.799999 150.632341 \nL 263.315153 159.364856 \nL 267.830307 167.620839 \nL 272.345462 175.311761 \nL 275.355564 180.093546 \nL 278.365667 184.584256 \nL 281.37577 188.77667 \nL 284.385872 192.667945 \nL 287.395975 196.259201 \nL 290.406078 199.555074 \nL 293.41618 202.563248 \nL 296.426283 205.293979 \nL 299.436386 207.759618 \nL 302.446489 209.974157 \nL 305.456591 211.952796 \nL 308.466694 213.711541 \nL 311.476797 215.266838 \nL 314.486899 216.635257 \nL 319.002053 218.373272 \nL 323.517207 219.781121 \nL 328.032362 220.908932 \nL 332.547516 221.802525 \nL 337.06267 222.502861 \nL 343.082875 223.197321 \nL 350.608132 223.778321 \nL 353.618235 223.944094 \nL 353.618235 223.944094 \n\" style=\"fill:none;stroke:#282828;stroke-linecap:square;stroke-width:1.5;\"/>\n   </g>\n   <g id=\"patch_13\">\n    <path d=\"M 36.465625 224.64 \nL 36.465625 7.2 \n\" style=\"fill:none;stroke:#ffffff;stroke-linecap:square;stroke-linejoin:miter;stroke-width:0.8;\"/>\n   </g>\n   <g id=\"patch_14\">\n    <path d=\"M 371.265625 224.64 \nL 371.265625 7.2 \n\" style=\"fill:none;stroke:#ffffff;stroke-linecap:square;stroke-linejoin:miter;stroke-width:0.8;\"/>\n   </g>\n   <g id=\"patch_15\">\n    <path d=\"M 36.465625 224.64 \nL 371.265625 224.64 \n\" style=\"fill:none;stroke:#ffffff;stroke-linecap:square;stroke-linejoin:miter;stroke-width:0.8;\"/>\n   </g>\n   <g id=\"patch_16\">\n    <path d=\"M 36.465625 7.2 \nL 371.265625 7.2 \n\" style=\"fill:none;stroke:#ffffff;stroke-linecap:square;stroke-linejoin:miter;stroke-width:0.8;\"/>\n   </g>\n  </g>\n </g>\n <defs>\n  <clipPath id=\"p7bdc86f995\">\n   <rect height=\"217.44\" width=\"334.8\" x=\"36.465625\" y=\"7.2\"/>\n  </clipPath>\n </defs>\n</svg>\n",
      "image/png": "[encoded data removed]"
     },
     "metadata": {}
    },
    {
     "output_type": "display_data",
     "data": {
      "text/plain": "<Figure size 432x288 with 1 Axes>",
      "image/svg+xml": "<?xml version=\"1.0\" encoding=\"utf-8\" standalone=\"no\"?>\n<!DOCTYPE svg PUBLIC \"-//W3C//DTD SVG 1.1//EN\"\n  \"http://www.w3.org/Graphics/SVG/1.1/DTD/svg11.dtd\">\n<!-- Created with matplotlib (https://matplotlib.org/) -->\n<svg height=\"277.314375pt\" version=\"1.1\" viewBox=\"0 0 392.14375 277.314375\" width=\"392.14375pt\" xmlns=\"http://www.w3.org/2000/svg\" xmlns:xlink=\"http://www.w3.org/1999/xlink\">\n <metadata>\n  <rdf:RDF xmlns:cc=\"http://creativecommons.org/ns#\" xmlns:dc=\"http://purl.org/dc/elements/1.1/\" xmlns:rdf=\"http://www.w3.org/1999/02/22-rdf-syntax-ns#\">\n   <cc:Work>\n    <dc:type rdf:resource=\"http://purl.org/dc/dcmitype/StillImage\"/>\n    <dc:date>2021-03-14T19:53:58.382077</dc:date>\n    <dc:format>image/svg+xml</dc:format>\n    <dc:creator>\n     <cc:Agent>\n      <dc:title>Matplotlib v3.3.1, https://matplotlib.org/</dc:title>\n     </cc:Agent>\n    </dc:creator>\n   </cc:Work>\n  </rdf:RDF>\n </metadata>\n <defs>\n  <style type=\"text/css\">*{stroke-linecap:butt;stroke-linejoin:round;}</style>\n </defs>\n <g id=\"figure_1\">\n  <g id=\"patch_1\">\n   <path d=\"M 0 277.314375 \nL 392.14375 277.314375 \nL 392.14375 0 \nL 0 0 \nz\n\"/>\n  </g>\n  <g id=\"axes_1\">\n   <g id=\"patch_2\">\n    <path d=\"M 50.14375 239.758125 \nL 384.94375 239.758125 \nL 384.94375 22.318125 \nL 50.14375 22.318125 \nz\n\"/>\n   </g>\n   <g id=\"matplotlib.axis_1\">\n    <g id=\"xtick_1\">\n     <g id=\"line2d_1\">\n      <defs>\n       <path d=\"M 0 0 \nL 0 3.5 \n\" id=\"med6a376d2a\" style=\"stroke:#ffffff;stroke-width:0.8;\"/>\n      </defs>\n      <g>\n       <use style=\"fill:#ffffff;stroke:#ffffff;stroke-width:0.8;\" x=\"102.528402\" xlink:href=\"#med6a376d2a\" y=\"239.758125\"/>\n      </g>\n     </g>\n     <g id=\"text_1\">\n      <!-- −2 -->\n      <g style=\"fill:#ffffff;\" transform=\"translate(95.157308 254.356562)scale(0.1 -0.1)\">\n       <defs>\n        <path d=\"M 10.59375 35.5 \nL 73.1875 35.5 \nL 73.1875 27.203125 \nL 10.59375 27.203125 \nz\n\" id=\"DejaVuSans-8722\"/>\n        <path d=\"M 19.1875 8.296875 \nL 53.609375 8.296875 \nL 53.609375 0 \nL 7.328125 0 \nL 7.328125 8.296875 \nQ 12.9375 14.109375 22.625 23.890625 \nQ 32.328125 33.6875 34.8125 36.53125 \nQ 39.546875 41.84375 41.421875 45.53125 \nQ 43.3125 49.21875 43.3125 52.78125 \nQ 43.3125 58.59375 39.234375 62.25 \nQ 35.15625 65.921875 28.609375 65.921875 \nQ 23.96875 65.921875 18.8125 64.3125 \nQ 13.671875 62.703125 7.8125 59.421875 \nL 7.8125 69.390625 \nQ 13.765625 71.78125 18.9375 73 \nQ 24.125 74.21875 28.421875 74.21875 \nQ 39.75 74.21875 46.484375 68.546875 \nQ 53.21875 62.890625 53.21875 53.421875 \nQ 53.21875 48.921875 51.53125 44.890625 \nQ 49.859375 40.875 45.40625 35.40625 \nQ 44.1875 33.984375 37.640625 27.21875 \nQ 31.109375 20.453125 19.1875 8.296875 \nz\n\" id=\"DejaVuSans-50\"/>\n       </defs>\n       <use xlink:href=\"#DejaVuSans-8722\"/>\n       <use x=\"83.789062\" xlink:href=\"#DejaVuSans-50\"/>\n      </g>\n     </g>\n    </g>\n    <g id=\"xtick_2\">\n     <g id=\"line2d_2\">\n      <g>\n       <use style=\"fill:#ffffff;stroke:#ffffff;stroke-width:0.8;\" x=\"160.036076\" xlink:href=\"#med6a376d2a\" y=\"239.758125\"/>\n      </g>\n     </g>\n     <g id=\"text_2\">\n      <!-- −1 -->\n      <g style=\"fill:#ffffff;\" transform=\"translate(152.664982 254.356562)scale(0.1 -0.1)\">\n       <defs>\n        <path d=\"M 12.40625 8.296875 \nL 28.515625 8.296875 \nL 28.515625 63.921875 \nL 10.984375 60.40625 \nL 10.984375 69.390625 \nL 28.421875 72.90625 \nL 38.28125 72.90625 \nL 38.28125 8.296875 \nL 54.390625 8.296875 \nL 54.390625 0 \nL 12.40625 0 \nz\n\" id=\"DejaVuSans-49\"/>\n       </defs>\n       <use xlink:href=\"#DejaVuSans-8722\"/>\n       <use x=\"83.789062\" xlink:href=\"#DejaVuSans-49\"/>\n      </g>\n     </g>\n    </g>\n    <g id=\"xtick_3\">\n     <g id=\"line2d_3\">\n      <g>\n       <use style=\"fill:#ffffff;stroke:#ffffff;stroke-width:0.8;\" x=\"217.54375\" xlink:href=\"#med6a376d2a\" y=\"239.758125\"/>\n      </g>\n     </g>\n     <g id=\"text_3\">\n      <!-- 0 -->\n      <g style=\"fill:#ffffff;\" transform=\"translate(214.3625 254.356562)scale(0.1 -0.1)\">\n       <defs>\n        <path d=\"M 31.78125 66.40625 \nQ 24.171875 66.40625 20.328125 58.90625 \nQ 16.5 51.421875 16.5 36.375 \nQ 16.5 21.390625 20.328125 13.890625 \nQ 24.171875 6.390625 31.78125 6.390625 \nQ 39.453125 6.390625 43.28125 13.890625 \nQ 47.125 21.390625 47.125 36.375 \nQ 47.125 51.421875 43.28125 58.90625 \nQ 39.453125 66.40625 31.78125 66.40625 \nz\nM 31.78125 74.21875 \nQ 44.046875 74.21875 50.515625 64.515625 \nQ 56.984375 54.828125 56.984375 36.375 \nQ 56.984375 17.96875 50.515625 8.265625 \nQ 44.046875 -1.421875 31.78125 -1.421875 \nQ 19.53125 -1.421875 13.0625 8.265625 \nQ 6.59375 17.96875 6.59375 36.375 \nQ 6.59375 54.828125 13.0625 64.515625 \nQ 19.53125 74.21875 31.78125 74.21875 \nz\n\" id=\"DejaVuSans-48\"/>\n       </defs>\n       <use xlink:href=\"#DejaVuSans-48\"/>\n      </g>\n     </g>\n    </g>\n    <g id=\"xtick_4\">\n     <g id=\"line2d_4\">\n      <g>\n       <use style=\"fill:#ffffff;stroke:#ffffff;stroke-width:0.8;\" x=\"275.051424\" xlink:href=\"#med6a376d2a\" y=\"239.758125\"/>\n      </g>\n     </g>\n     <g id=\"text_4\">\n      <!-- 1 -->\n      <g style=\"fill:#ffffff;\" transform=\"translate(271.870174 254.356562)scale(0.1 -0.1)\">\n       <use xlink:href=\"#DejaVuSans-49\"/>\n      </g>\n     </g>\n    </g>\n    <g id=\"xtick_5\">\n     <g id=\"line2d_5\">\n      <g>\n       <use style=\"fill:#ffffff;stroke:#ffffff;stroke-width:0.8;\" x=\"332.559098\" xlink:href=\"#med6a376d2a\" y=\"239.758125\"/>\n      </g>\n     </g>\n     <g id=\"text_5\">\n      <!-- 2 -->\n      <g style=\"fill:#ffffff;\" transform=\"translate(329.377848 254.356562)scale(0.1 -0.1)\">\n       <use xlink:href=\"#DejaVuSans-50\"/>\n      </g>\n     </g>\n    </g>\n    <g id=\"text_6\">\n     <!-- Theoretical quantiles -->\n     <g style=\"fill:#ffffff;\" transform=\"translate(165.029688 268.034687)scale(0.1 -0.1)\">\n      <defs>\n       <path d=\"M -0.296875 72.90625 \nL 61.375 72.90625 \nL 61.375 64.59375 \nL 35.5 64.59375 \nL 35.5 0 \nL 25.59375 0 \nL 25.59375 64.59375 \nL -0.296875 64.59375 \nz\n\" id=\"DejaVuSans-84\"/>\n       <path d=\"M 54.890625 33.015625 \nL 54.890625 0 \nL 45.90625 0 \nL 45.90625 32.71875 \nQ 45.90625 40.484375 42.875 44.328125 \nQ 39.84375 48.1875 33.796875 48.1875 \nQ 26.515625 48.1875 22.3125 43.546875 \nQ 18.109375 38.921875 18.109375 30.90625 \nL 18.109375 0 \nL 9.078125 0 \nL 9.078125 75.984375 \nL 18.109375 75.984375 \nL 18.109375 46.1875 \nQ 21.34375 51.125 25.703125 53.5625 \nQ 30.078125 56 35.796875 56 \nQ 45.21875 56 50.046875 50.171875 \nQ 54.890625 44.34375 54.890625 33.015625 \nz\n\" id=\"DejaVuSans-104\"/>\n       <path d=\"M 56.203125 29.59375 \nL 56.203125 25.203125 \nL 14.890625 25.203125 \nQ 15.484375 15.921875 20.484375 11.0625 \nQ 25.484375 6.203125 34.421875 6.203125 \nQ 39.59375 6.203125 44.453125 7.46875 \nQ 49.3125 8.734375 54.109375 11.28125 \nL 54.109375 2.78125 \nQ 49.265625 0.734375 44.1875 -0.34375 \nQ 39.109375 -1.421875 33.890625 -1.421875 \nQ 20.796875 -1.421875 13.15625 6.1875 \nQ 5.515625 13.8125 5.515625 26.8125 \nQ 5.515625 40.234375 12.765625 48.109375 \nQ 20.015625 56 32.328125 56 \nQ 43.359375 56 49.78125 48.890625 \nQ 56.203125 41.796875 56.203125 29.59375 \nz\nM 47.21875 32.234375 \nQ 47.125 39.59375 43.09375 43.984375 \nQ 39.0625 48.390625 32.421875 48.390625 \nQ 24.90625 48.390625 20.390625 44.140625 \nQ 15.875 39.890625 15.1875 32.171875 \nz\n\" id=\"DejaVuSans-101\"/>\n       <path d=\"M 30.609375 48.390625 \nQ 23.390625 48.390625 19.1875 42.75 \nQ 14.984375 37.109375 14.984375 27.296875 \nQ 14.984375 17.484375 19.15625 11.84375 \nQ 23.34375 6.203125 30.609375 6.203125 \nQ 37.796875 6.203125 41.984375 11.859375 \nQ 46.1875 17.53125 46.1875 27.296875 \nQ 46.1875 37.015625 41.984375 42.703125 \nQ 37.796875 48.390625 30.609375 48.390625 \nz\nM 30.609375 56 \nQ 42.328125 56 49.015625 48.375 \nQ 55.71875 40.765625 55.71875 27.296875 \nQ 55.71875 13.875 49.015625 6.21875 \nQ 42.328125 -1.421875 30.609375 -1.421875 \nQ 18.84375 -1.421875 12.171875 6.21875 \nQ 5.515625 13.875 5.515625 27.296875 \nQ 5.515625 40.765625 12.171875 48.375 \nQ 18.84375 56 30.609375 56 \nz\n\" id=\"DejaVuSans-111\"/>\n       <path d=\"M 41.109375 46.296875 \nQ 39.59375 47.171875 37.8125 47.578125 \nQ 36.03125 48 33.890625 48 \nQ 26.265625 48 22.1875 43.046875 \nQ 18.109375 38.09375 18.109375 28.8125 \nL 18.109375 0 \nL 9.078125 0 \nL 9.078125 54.6875 \nL 18.109375 54.6875 \nL 18.109375 46.1875 \nQ 20.953125 51.171875 25.484375 53.578125 \nQ 30.03125 56 36.53125 56 \nQ 37.453125 56 38.578125 55.875 \nQ 39.703125 55.765625 41.0625 55.515625 \nz\n\" id=\"DejaVuSans-114\"/>\n       <path d=\"M 18.3125 70.21875 \nL 18.3125 54.6875 \nL 36.8125 54.6875 \nL 36.8125 47.703125 \nL 18.3125 47.703125 \nL 18.3125 18.015625 \nQ 18.3125 11.328125 20.140625 9.421875 \nQ 21.96875 7.515625 27.59375 7.515625 \nL 36.8125 7.515625 \nL 36.8125 0 \nL 27.59375 0 \nQ 17.1875 0 13.234375 3.875 \nQ 9.28125 7.765625 9.28125 18.015625 \nL 9.28125 47.703125 \nL 2.6875 47.703125 \nL 2.6875 54.6875 \nL 9.28125 54.6875 \nL 9.28125 70.21875 \nz\n\" id=\"DejaVuSans-116\"/>\n       <path d=\"M 9.421875 54.6875 \nL 18.40625 54.6875 \nL 18.40625 0 \nL 9.421875 0 \nz\nM 9.421875 75.984375 \nL 18.40625 75.984375 \nL 18.40625 64.59375 \nL 9.421875 64.59375 \nz\n\" id=\"DejaVuSans-105\"/>\n       <path d=\"M 48.78125 52.59375 \nL 48.78125 44.1875 \nQ 44.96875 46.296875 41.140625 47.34375 \nQ 37.3125 48.390625 33.40625 48.390625 \nQ 24.65625 48.390625 19.8125 42.84375 \nQ 14.984375 37.3125 14.984375 27.296875 \nQ 14.984375 17.28125 19.8125 11.734375 \nQ 24.65625 6.203125 33.40625 6.203125 \nQ 37.3125 6.203125 41.140625 7.25 \nQ 44.96875 8.296875 48.78125 10.40625 \nL 48.78125 2.09375 \nQ 45.015625 0.34375 40.984375 -0.53125 \nQ 36.96875 -1.421875 32.421875 -1.421875 \nQ 20.0625 -1.421875 12.78125 6.34375 \nQ 5.515625 14.109375 5.515625 27.296875 \nQ 5.515625 40.671875 12.859375 48.328125 \nQ 20.21875 56 33.015625 56 \nQ 37.15625 56 41.109375 55.140625 \nQ 45.0625 54.296875 48.78125 52.59375 \nz\n\" id=\"DejaVuSans-99\"/>\n       <path d=\"M 34.28125 27.484375 \nQ 23.390625 27.484375 19.1875 25 \nQ 14.984375 22.515625 14.984375 16.5 \nQ 14.984375 11.71875 18.140625 8.90625 \nQ 21.296875 6.109375 26.703125 6.109375 \nQ 34.1875 6.109375 38.703125 11.40625 \nQ 43.21875 16.703125 43.21875 25.484375 \nL 43.21875 27.484375 \nz\nM 52.203125 31.203125 \nL 52.203125 0 \nL 43.21875 0 \nL 43.21875 8.296875 \nQ 40.140625 3.328125 35.546875 0.953125 \nQ 30.953125 -1.421875 24.3125 -1.421875 \nQ 15.921875 -1.421875 10.953125 3.296875 \nQ 6 8.015625 6 15.921875 \nQ 6 25.140625 12.171875 29.828125 \nQ 18.359375 34.515625 30.609375 34.515625 \nL 43.21875 34.515625 \nL 43.21875 35.40625 \nQ 43.21875 41.609375 39.140625 45 \nQ 35.0625 48.390625 27.6875 48.390625 \nQ 23 48.390625 18.546875 47.265625 \nQ 14.109375 46.140625 10.015625 43.890625 \nL 10.015625 52.203125 \nQ 14.9375 54.109375 19.578125 55.046875 \nQ 24.21875 56 28.609375 56 \nQ 40.484375 56 46.34375 49.84375 \nQ 52.203125 43.703125 52.203125 31.203125 \nz\n\" id=\"DejaVuSans-97\"/>\n       <path d=\"M 9.421875 75.984375 \nL 18.40625 75.984375 \nL 18.40625 0 \nL 9.421875 0 \nz\n\" id=\"DejaVuSans-108\"/>\n       <path id=\"DejaVuSans-32\"/>\n       <path d=\"M 14.796875 27.296875 \nQ 14.796875 17.390625 18.875 11.75 \nQ 22.953125 6.109375 30.078125 6.109375 \nQ 37.203125 6.109375 41.296875 11.75 \nQ 45.40625 17.390625 45.40625 27.296875 \nQ 45.40625 37.203125 41.296875 42.84375 \nQ 37.203125 48.484375 30.078125 48.484375 \nQ 22.953125 48.484375 18.875 42.84375 \nQ 14.796875 37.203125 14.796875 27.296875 \nz\nM 45.40625 8.203125 \nQ 42.578125 3.328125 38.25 0.953125 \nQ 33.9375 -1.421875 27.875 -1.421875 \nQ 17.96875 -1.421875 11.734375 6.484375 \nQ 5.515625 14.40625 5.515625 27.296875 \nQ 5.515625 40.1875 11.734375 48.09375 \nQ 17.96875 56 27.875 56 \nQ 33.9375 56 38.25 53.625 \nQ 42.578125 51.265625 45.40625 46.390625 \nL 45.40625 54.6875 \nL 54.390625 54.6875 \nL 54.390625 -20.796875 \nL 45.40625 -20.796875 \nz\n\" id=\"DejaVuSans-113\"/>\n       <path d=\"M 8.5 21.578125 \nL 8.5 54.6875 \nL 17.484375 54.6875 \nL 17.484375 21.921875 \nQ 17.484375 14.15625 20.5 10.265625 \nQ 23.53125 6.390625 29.59375 6.390625 \nQ 36.859375 6.390625 41.078125 11.03125 \nQ 45.3125 15.671875 45.3125 23.6875 \nL 45.3125 54.6875 \nL 54.296875 54.6875 \nL 54.296875 0 \nL 45.3125 0 \nL 45.3125 8.40625 \nQ 42.046875 3.421875 37.71875 1 \nQ 33.40625 -1.421875 27.6875 -1.421875 \nQ 18.265625 -1.421875 13.375 4.4375 \nQ 8.5 10.296875 8.5 21.578125 \nz\nM 31.109375 56 \nz\n\" id=\"DejaVuSans-117\"/>\n       <path d=\"M 54.890625 33.015625 \nL 54.890625 0 \nL 45.90625 0 \nL 45.90625 32.71875 \nQ 45.90625 40.484375 42.875 44.328125 \nQ 39.84375 48.1875 33.796875 48.1875 \nQ 26.515625 48.1875 22.3125 43.546875 \nQ 18.109375 38.921875 18.109375 30.90625 \nL 18.109375 0 \nL 9.078125 0 \nL 9.078125 54.6875 \nL 18.109375 54.6875 \nL 18.109375 46.1875 \nQ 21.34375 51.125 25.703125 53.5625 \nQ 30.078125 56 35.796875 56 \nQ 45.21875 56 50.046875 50.171875 \nQ 54.890625 44.34375 54.890625 33.015625 \nz\n\" id=\"DejaVuSans-110\"/>\n       <path d=\"M 44.28125 53.078125 \nL 44.28125 44.578125 \nQ 40.484375 46.53125 36.375 47.5 \nQ 32.28125 48.484375 27.875 48.484375 \nQ 21.1875 48.484375 17.84375 46.4375 \nQ 14.5 44.390625 14.5 40.28125 \nQ 14.5 37.15625 16.890625 35.375 \nQ 19.28125 33.59375 26.515625 31.984375 \nL 29.59375 31.296875 \nQ 39.15625 29.25 43.1875 25.515625 \nQ 47.21875 21.78125 47.21875 15.09375 \nQ 47.21875 7.46875 41.1875 3.015625 \nQ 35.15625 -1.421875 24.609375 -1.421875 \nQ 20.21875 -1.421875 15.453125 -0.5625 \nQ 10.6875 0.296875 5.421875 2 \nL 5.421875 11.28125 \nQ 10.40625 8.6875 15.234375 7.390625 \nQ 20.0625 6.109375 24.8125 6.109375 \nQ 31.15625 6.109375 34.5625 8.28125 \nQ 37.984375 10.453125 37.984375 14.40625 \nQ 37.984375 18.0625 35.515625 20.015625 \nQ 33.0625 21.96875 24.703125 23.78125 \nL 21.578125 24.515625 \nQ 13.234375 26.265625 9.515625 29.90625 \nQ 5.8125 33.546875 5.8125 39.890625 \nQ 5.8125 47.609375 11.28125 51.796875 \nQ 16.75 56 26.8125 56 \nQ 31.78125 56 36.171875 55.265625 \nQ 40.578125 54.546875 44.28125 53.078125 \nz\n\" id=\"DejaVuSans-115\"/>\n      </defs>\n      <use xlink:href=\"#DejaVuSans-84\"/>\n      <use x=\"61.083984\" xlink:href=\"#DejaVuSans-104\"/>\n      <use x=\"124.462891\" xlink:href=\"#DejaVuSans-101\"/>\n      <use x=\"185.986328\" xlink:href=\"#DejaVuSans-111\"/>\n      <use x=\"247.167969\" xlink:href=\"#DejaVuSans-114\"/>\n      <use x=\"286.03125\" xlink:href=\"#DejaVuSans-101\"/>\n      <use x=\"347.554688\" xlink:href=\"#DejaVuSans-116\"/>\n      <use x=\"386.763672\" xlink:href=\"#DejaVuSans-105\"/>\n      <use x=\"414.546875\" xlink:href=\"#DejaVuSans-99\"/>\n      <use x=\"469.527344\" xlink:href=\"#DejaVuSans-97\"/>\n      <use x=\"530.806641\" xlink:href=\"#DejaVuSans-108\"/>\n      <use x=\"558.589844\" xlink:href=\"#DejaVuSans-32\"/>\n      <use x=\"590.376953\" xlink:href=\"#DejaVuSans-113\"/>\n      <use x=\"653.853516\" xlink:href=\"#DejaVuSans-117\"/>\n      <use x=\"717.232422\" xlink:href=\"#DejaVuSans-97\"/>\n      <use x=\"778.511719\" xlink:href=\"#DejaVuSans-110\"/>\n      <use x=\"841.890625\" xlink:href=\"#DejaVuSans-116\"/>\n      <use x=\"881.099609\" xlink:href=\"#DejaVuSans-105\"/>\n      <use x=\"908.882812\" xlink:href=\"#DejaVuSans-108\"/>\n      <use x=\"936.666016\" xlink:href=\"#DejaVuSans-101\"/>\n      <use x=\"998.189453\" xlink:href=\"#DejaVuSans-115\"/>\n     </g>\n    </g>\n   </g>\n   <g id=\"matplotlib.axis_2\">\n    <g id=\"ytick_1\">\n     <g id=\"line2d_6\">\n      <defs>\n       <path d=\"M 0 0 \nL -3.5 0 \n\" id=\"mb63c2cc082\" style=\"stroke:#ffffff;stroke-width:0.8;\"/>\n      </defs>\n      <g>\n       <use style=\"fill:#ffffff;stroke:#ffffff;stroke-width:0.8;\" x=\"50.14375\" xlink:href=\"#mb63c2cc082\" y=\"229.147293\"/>\n      </g>\n     </g>\n     <g id=\"text_7\">\n      <!-- 12.2 -->\n      <g style=\"fill:#ffffff;\" transform=\"translate(20.878125 232.946512)scale(0.1 -0.1)\">\n       <defs>\n        <path d=\"M 10.6875 12.40625 \nL 21 12.40625 \nL 21 0 \nL 10.6875 0 \nz\n\" id=\"DejaVuSans-46\"/>\n       </defs>\n       <use xlink:href=\"#DejaVuSans-49\"/>\n       <use x=\"63.623047\" xlink:href=\"#DejaVuSans-50\"/>\n       <use x=\"127.246094\" xlink:href=\"#DejaVuSans-46\"/>\n       <use x=\"159.033203\" xlink:href=\"#DejaVuSans-50\"/>\n      </g>\n     </g>\n    </g>\n    <g id=\"ytick_2\">\n     <g id=\"line2d_7\">\n      <g>\n       <use style=\"fill:#ffffff;stroke:#ffffff;stroke-width:0.8;\" x=\"50.14375\" xlink:href=\"#mb63c2cc082\" y=\"204.215841\"/>\n      </g>\n     </g>\n     <g id=\"text_8\">\n      <!-- 12.4 -->\n      <g style=\"fill:#ffffff;\" transform=\"translate(20.878125 208.01506)scale(0.1 -0.1)\">\n       <defs>\n        <path d=\"M 37.796875 64.3125 \nL 12.890625 25.390625 \nL 37.796875 25.390625 \nz\nM 35.203125 72.90625 \nL 47.609375 72.90625 \nL 47.609375 25.390625 \nL 58.015625 25.390625 \nL 58.015625 17.1875 \nL 47.609375 17.1875 \nL 47.609375 0 \nL 37.796875 0 \nL 37.796875 17.1875 \nL 4.890625 17.1875 \nL 4.890625 26.703125 \nz\n\" id=\"DejaVuSans-52\"/>\n       </defs>\n       <use xlink:href=\"#DejaVuSans-49\"/>\n       <use x=\"63.623047\" xlink:href=\"#DejaVuSans-50\"/>\n       <use x=\"127.246094\" xlink:href=\"#DejaVuSans-46\"/>\n       <use x=\"159.033203\" xlink:href=\"#DejaVuSans-52\"/>\n      </g>\n     </g>\n    </g>\n    <g id=\"ytick_3\">\n     <g id=\"line2d_8\">\n      <g>\n       <use style=\"fill:#ffffff;stroke:#ffffff;stroke-width:0.8;\" x=\"50.14375\" xlink:href=\"#mb63c2cc082\" y=\"179.284389\"/>\n      </g>\n     </g>\n     <g id=\"text_9\">\n      <!-- 12.6 -->\n      <g style=\"fill:#ffffff;\" transform=\"translate(20.878125 183.083608)scale(0.1 -0.1)\">\n       <defs>\n        <path d=\"M 33.015625 40.375 \nQ 26.375 40.375 22.484375 35.828125 \nQ 18.609375 31.296875 18.609375 23.390625 \nQ 18.609375 15.53125 22.484375 10.953125 \nQ 26.375 6.390625 33.015625 6.390625 \nQ 39.65625 6.390625 43.53125 10.953125 \nQ 47.40625 15.53125 47.40625 23.390625 \nQ 47.40625 31.296875 43.53125 35.828125 \nQ 39.65625 40.375 33.015625 40.375 \nz\nM 52.59375 71.296875 \nL 52.59375 62.3125 \nQ 48.875 64.0625 45.09375 64.984375 \nQ 41.3125 65.921875 37.59375 65.921875 \nQ 27.828125 65.921875 22.671875 59.328125 \nQ 17.53125 52.734375 16.796875 39.40625 \nQ 19.671875 43.65625 24.015625 45.921875 \nQ 28.375 48.1875 33.59375 48.1875 \nQ 44.578125 48.1875 50.953125 41.515625 \nQ 57.328125 34.859375 57.328125 23.390625 \nQ 57.328125 12.15625 50.6875 5.359375 \nQ 44.046875 -1.421875 33.015625 -1.421875 \nQ 20.359375 -1.421875 13.671875 8.265625 \nQ 6.984375 17.96875 6.984375 36.375 \nQ 6.984375 53.65625 15.1875 63.9375 \nQ 23.390625 74.21875 37.203125 74.21875 \nQ 40.921875 74.21875 44.703125 73.484375 \nQ 48.484375 72.75 52.59375 71.296875 \nz\n\" id=\"DejaVuSans-54\"/>\n       </defs>\n       <use xlink:href=\"#DejaVuSans-49\"/>\n       <use x=\"63.623047\" xlink:href=\"#DejaVuSans-50\"/>\n       <use x=\"127.246094\" xlink:href=\"#DejaVuSans-46\"/>\n       <use x=\"159.033203\" xlink:href=\"#DejaVuSans-54\"/>\n      </g>\n     </g>\n    </g>\n    <g id=\"ytick_4\">\n     <g id=\"line2d_9\">\n      <g>\n       <use style=\"fill:#ffffff;stroke:#ffffff;stroke-width:0.8;\" x=\"50.14375\" xlink:href=\"#mb63c2cc082\" y=\"154.352938\"/>\n      </g>\n     </g>\n     <g id=\"text_10\">\n      <!-- 12.8 -->\n      <g style=\"fill:#ffffff;\" transform=\"translate(20.878125 158.152156)scale(0.1 -0.1)\">\n       <defs>\n        <path d=\"M 31.78125 34.625 \nQ 24.75 34.625 20.71875 30.859375 \nQ 16.703125 27.09375 16.703125 20.515625 \nQ 16.703125 13.921875 20.71875 10.15625 \nQ 24.75 6.390625 31.78125 6.390625 \nQ 38.8125 6.390625 42.859375 10.171875 \nQ 46.921875 13.96875 46.921875 20.515625 \nQ 46.921875 27.09375 42.890625 30.859375 \nQ 38.875 34.625 31.78125 34.625 \nz\nM 21.921875 38.8125 \nQ 15.578125 40.375 12.03125 44.71875 \nQ 8.5 49.078125 8.5 55.328125 \nQ 8.5 64.0625 14.71875 69.140625 \nQ 20.953125 74.21875 31.78125 74.21875 \nQ 42.671875 74.21875 48.875 69.140625 \nQ 55.078125 64.0625 55.078125 55.328125 \nQ 55.078125 49.078125 51.53125 44.71875 \nQ 48 40.375 41.703125 38.8125 \nQ 48.828125 37.15625 52.796875 32.3125 \nQ 56.78125 27.484375 56.78125 20.515625 \nQ 56.78125 9.90625 50.3125 4.234375 \nQ 43.84375 -1.421875 31.78125 -1.421875 \nQ 19.734375 -1.421875 13.25 4.234375 \nQ 6.78125 9.90625 6.78125 20.515625 \nQ 6.78125 27.484375 10.78125 32.3125 \nQ 14.796875 37.15625 21.921875 38.8125 \nz\nM 18.3125 54.390625 \nQ 18.3125 48.734375 21.84375 45.5625 \nQ 25.390625 42.390625 31.78125 42.390625 \nQ 38.140625 42.390625 41.71875 45.5625 \nQ 45.3125 48.734375 45.3125 54.390625 \nQ 45.3125 60.0625 41.71875 63.234375 \nQ 38.140625 66.40625 31.78125 66.40625 \nQ 25.390625 66.40625 21.84375 63.234375 \nQ 18.3125 60.0625 18.3125 54.390625 \nz\n\" id=\"DejaVuSans-56\"/>\n       </defs>\n       <use xlink:href=\"#DejaVuSans-49\"/>\n       <use x=\"63.623047\" xlink:href=\"#DejaVuSans-50\"/>\n       <use x=\"127.246094\" xlink:href=\"#DejaVuSans-46\"/>\n       <use x=\"159.033203\" xlink:href=\"#DejaVuSans-56\"/>\n      </g>\n     </g>\n    </g>\n    <g id=\"ytick_5\">\n     <g id=\"line2d_10\">\n      <g>\n       <use style=\"fill:#ffffff;stroke:#ffffff;stroke-width:0.8;\" x=\"50.14375\" xlink:href=\"#mb63c2cc082\" y=\"129.421486\"/>\n      </g>\n     </g>\n     <g id=\"text_11\">\n      <!-- 13.0 -->\n      <g style=\"fill:#ffffff;\" transform=\"translate(20.878125 133.220705)scale(0.1 -0.1)\">\n       <defs>\n        <path d=\"M 40.578125 39.3125 \nQ 47.65625 37.796875 51.625 33 \nQ 55.609375 28.21875 55.609375 21.1875 \nQ 55.609375 10.40625 48.1875 4.484375 \nQ 40.765625 -1.421875 27.09375 -1.421875 \nQ 22.515625 -1.421875 17.65625 -0.515625 \nQ 12.796875 0.390625 7.625 2.203125 \nL 7.625 11.71875 \nQ 11.71875 9.328125 16.59375 8.109375 \nQ 21.484375 6.890625 26.8125 6.890625 \nQ 36.078125 6.890625 40.9375 10.546875 \nQ 45.796875 14.203125 45.796875 21.1875 \nQ 45.796875 27.640625 41.28125 31.265625 \nQ 36.765625 34.90625 28.71875 34.90625 \nL 20.21875 34.90625 \nL 20.21875 43.015625 \nL 29.109375 43.015625 \nQ 36.375 43.015625 40.234375 45.921875 \nQ 44.09375 48.828125 44.09375 54.296875 \nQ 44.09375 59.90625 40.109375 62.90625 \nQ 36.140625 65.921875 28.71875 65.921875 \nQ 24.65625 65.921875 20.015625 65.03125 \nQ 15.375 64.15625 9.8125 62.3125 \nL 9.8125 71.09375 \nQ 15.4375 72.65625 20.34375 73.4375 \nQ 25.25 74.21875 29.59375 74.21875 \nQ 40.828125 74.21875 47.359375 69.109375 \nQ 53.90625 64.015625 53.90625 55.328125 \nQ 53.90625 49.265625 50.4375 45.09375 \nQ 46.96875 40.921875 40.578125 39.3125 \nz\n\" id=\"DejaVuSans-51\"/>\n       </defs>\n       <use xlink:href=\"#DejaVuSans-49\"/>\n       <use x=\"63.623047\" xlink:href=\"#DejaVuSans-51\"/>\n       <use x=\"127.246094\" xlink:href=\"#DejaVuSans-46\"/>\n       <use x=\"159.033203\" xlink:href=\"#DejaVuSans-48\"/>\n      </g>\n     </g>\n    </g>\n    <g id=\"ytick_6\">\n     <g id=\"line2d_11\">\n      <g>\n       <use style=\"fill:#ffffff;stroke:#ffffff;stroke-width:0.8;\" x=\"50.14375\" xlink:href=\"#mb63c2cc082\" y=\"104.490034\"/>\n      </g>\n     </g>\n     <g id=\"text_12\">\n      <!-- 13.2 -->\n      <g style=\"fill:#ffffff;\" transform=\"translate(20.878125 108.289253)scale(0.1 -0.1)\">\n       <use xlink:href=\"#DejaVuSans-49\"/>\n       <use x=\"63.623047\" xlink:href=\"#DejaVuSans-51\"/>\n       <use x=\"127.246094\" xlink:href=\"#DejaVuSans-46\"/>\n       <use x=\"159.033203\" xlink:href=\"#DejaVuSans-50\"/>\n      </g>\n     </g>\n    </g>\n    <g id=\"ytick_7\">\n     <g id=\"line2d_12\">\n      <g>\n       <use style=\"fill:#ffffff;stroke:#ffffff;stroke-width:0.8;\" x=\"50.14375\" xlink:href=\"#mb63c2cc082\" y=\"79.558582\"/>\n      </g>\n     </g>\n     <g id=\"text_13\">\n      <!-- 13.4 -->\n      <g style=\"fill:#ffffff;\" transform=\"translate(20.878125 83.357801)scale(0.1 -0.1)\">\n       <use xlink:href=\"#DejaVuSans-49\"/>\n       <use x=\"63.623047\" xlink:href=\"#DejaVuSans-51\"/>\n       <use x=\"127.246094\" xlink:href=\"#DejaVuSans-46\"/>\n       <use x=\"159.033203\" xlink:href=\"#DejaVuSans-52\"/>\n      </g>\n     </g>\n    </g>\n    <g id=\"ytick_8\">\n     <g id=\"line2d_13\">\n      <g>\n       <use style=\"fill:#ffffff;stroke:#ffffff;stroke-width:0.8;\" x=\"50.14375\" xlink:href=\"#mb63c2cc082\" y=\"54.627131\"/>\n      </g>\n     </g>\n     <g id=\"text_14\">\n      <!-- 13.6 -->\n      <g style=\"fill:#ffffff;\" transform=\"translate(20.878125 58.426349)scale(0.1 -0.1)\">\n       <use xlink:href=\"#DejaVuSans-49\"/>\n       <use x=\"63.623047\" xlink:href=\"#DejaVuSans-51\"/>\n       <use x=\"127.246094\" xlink:href=\"#DejaVuSans-46\"/>\n       <use x=\"159.033203\" xlink:href=\"#DejaVuSans-54\"/>\n      </g>\n     </g>\n    </g>\n    <g id=\"ytick_9\">\n     <g id=\"line2d_14\">\n      <g>\n       <use style=\"fill:#ffffff;stroke:#ffffff;stroke-width:0.8;\" x=\"50.14375\" xlink:href=\"#mb63c2cc082\" y=\"29.695679\"/>\n      </g>\n     </g>\n     <g id=\"text_15\">\n      <!-- 13.8 -->\n      <g style=\"fill:#ffffff;\" transform=\"translate(20.878125 33.494898)scale(0.1 -0.1)\">\n       <use xlink:href=\"#DejaVuSans-49\"/>\n       <use x=\"63.623047\" xlink:href=\"#DejaVuSans-51\"/>\n       <use x=\"127.246094\" xlink:href=\"#DejaVuSans-46\"/>\n       <use x=\"159.033203\" xlink:href=\"#DejaVuSans-56\"/>\n      </g>\n     </g>\n    </g>\n    <g id=\"text_16\">\n     <!-- Ordered Values -->\n     <g style=\"fill:#ffffff;\" transform=\"translate(14.798438 169.311562)rotate(-90)scale(0.1 -0.1)\">\n      <defs>\n       <path d=\"M 39.40625 66.21875 \nQ 28.65625 66.21875 22.328125 58.203125 \nQ 16.015625 50.203125 16.015625 36.375 \nQ 16.015625 22.609375 22.328125 14.59375 \nQ 28.65625 6.59375 39.40625 6.59375 \nQ 50.140625 6.59375 56.421875 14.59375 \nQ 62.703125 22.609375 62.703125 36.375 \nQ 62.703125 50.203125 56.421875 58.203125 \nQ 50.140625 66.21875 39.40625 66.21875 \nz\nM 39.40625 74.21875 \nQ 54.734375 74.21875 63.90625 63.9375 \nQ 73.09375 53.65625 73.09375 36.375 \nQ 73.09375 19.140625 63.90625 8.859375 \nQ 54.734375 -1.421875 39.40625 -1.421875 \nQ 24.03125 -1.421875 14.8125 8.828125 \nQ 5.609375 19.09375 5.609375 36.375 \nQ 5.609375 53.65625 14.8125 63.9375 \nQ 24.03125 74.21875 39.40625 74.21875 \nz\n\" id=\"DejaVuSans-79\"/>\n       <path d=\"M 45.40625 46.390625 \nL 45.40625 75.984375 \nL 54.390625 75.984375 \nL 54.390625 0 \nL 45.40625 0 \nL 45.40625 8.203125 \nQ 42.578125 3.328125 38.25 0.953125 \nQ 33.9375 -1.421875 27.875 -1.421875 \nQ 17.96875 -1.421875 11.734375 6.484375 \nQ 5.515625 14.40625 5.515625 27.296875 \nQ 5.515625 40.1875 11.734375 48.09375 \nQ 17.96875 56 27.875 56 \nQ 33.9375 56 38.25 53.625 \nQ 42.578125 51.265625 45.40625 46.390625 \nz\nM 14.796875 27.296875 \nQ 14.796875 17.390625 18.875 11.75 \nQ 22.953125 6.109375 30.078125 6.109375 \nQ 37.203125 6.109375 41.296875 11.75 \nQ 45.40625 17.390625 45.40625 27.296875 \nQ 45.40625 37.203125 41.296875 42.84375 \nQ 37.203125 48.484375 30.078125 48.484375 \nQ 22.953125 48.484375 18.875 42.84375 \nQ 14.796875 37.203125 14.796875 27.296875 \nz\n\" id=\"DejaVuSans-100\"/>\n       <path d=\"M 28.609375 0 \nL 0.78125 72.90625 \nL 11.078125 72.90625 \nL 34.1875 11.53125 \nL 57.328125 72.90625 \nL 67.578125 72.90625 \nL 39.796875 0 \nz\n\" id=\"DejaVuSans-86\"/>\n      </defs>\n      <use xlink:href=\"#DejaVuSans-79\"/>\n      <use x=\"78.710938\" xlink:href=\"#DejaVuSans-114\"/>\n      <use x=\"118.074219\" xlink:href=\"#DejaVuSans-100\"/>\n      <use x=\"181.550781\" xlink:href=\"#DejaVuSans-101\"/>\n      <use x=\"243.074219\" xlink:href=\"#DejaVuSans-114\"/>\n      <use x=\"281.9375\" xlink:href=\"#DejaVuSans-101\"/>\n      <use x=\"343.460938\" xlink:href=\"#DejaVuSans-100\"/>\n      <use x=\"406.9375\" xlink:href=\"#DejaVuSans-32\"/>\n      <use x=\"438.724609\" xlink:href=\"#DejaVuSans-86\"/>\n      <use x=\"499.382812\" xlink:href=\"#DejaVuSans-97\"/>\n      <use x=\"560.662109\" xlink:href=\"#DejaVuSans-108\"/>\n      <use x=\"588.445312\" xlink:href=\"#DejaVuSans-117\"/>\n      <use x=\"651.824219\" xlink:href=\"#DejaVuSans-101\"/>\n      <use x=\"713.347656\" xlink:href=\"#DejaVuSans-115\"/>\n     </g>\n    </g>\n   </g>\n   <g id=\"line2d_15\">\n    <defs>\n     <path d=\"M 0 3 \nC 0.795609 3 1.55874 2.683901 2.12132 2.12132 \nC 2.683901 1.55874 3 0.795609 3 0 \nC 3 -0.795609 2.683901 -1.55874 2.12132 -2.12132 \nC 1.55874 -2.683901 0.795609 -3 0 -3 \nC -0.795609 -3 -1.55874 -2.683901 -2.12132 -2.12132 \nC -2.683901 -1.55874 -3 -0.795609 -3 0 \nC -3 0.795609 -2.683901 1.55874 -2.12132 2.12132 \nC -1.55874 2.683901 -0.795609 3 0 3 \nz\n\" id=\"m1066d093d9\" style=\"stroke:#0000ff;\"/>\n    </defs>\n    <g clip-path=\"url(#peb33ce3da4)\">\n     <use style=\"fill:#0000ff;stroke:#0000ff;\" x=\"65.361932\" xlink:href=\"#m1066d093d9\" y=\"210.967953\"/>\n     <use style=\"fill:#0000ff;stroke:#0000ff;\" x=\"83.491562\" xlink:href=\"#m1066d093d9\" y=\"207.757717\"/>\n     <use style=\"fill:#0000ff;stroke:#0000ff;\" x=\"93.855677\" xlink:href=\"#m1066d093d9\" y=\"206.183078\"/>\n     <use style=\"fill:#0000ff;stroke:#0000ff;\" x=\"101.293476\" xlink:href=\"#m1066d093d9\" y=\"201.575099\"/>\n     <use style=\"fill:#0000ff;stroke:#0000ff;\" x=\"107.180105\" xlink:href=\"#m1066d093d9\" y=\"200.57383\"/>\n     <use style=\"fill:#0000ff;stroke:#0000ff;\" x=\"112.096254\" xlink:href=\"#m1066d093d9\" y=\"200.076196\"/>\n     <use style=\"fill:#0000ff;stroke:#0000ff;\" x=\"116.344284\" xlink:href=\"#m1066d093d9\" y=\"196.165059\"/>\n     <use style=\"fill:#0000ff;stroke:#0000ff;\" x=\"120.102569\" xlink:href=\"#m1066d093d9\" y=\"195.684683\"/>\n     <use style=\"fill:#0000ff;stroke:#0000ff;\" x=\"123.485539\" xlink:href=\"#m1066d093d9\" y=\"190.060094\"/>\n     <use style=\"fill:#0000ff;stroke:#0000ff;\" x=\"126.57118\" xlink:href=\"#m1066d093d9\" y=\"190.060094\"/>\n     <use style=\"fill:#0000ff;stroke:#0000ff;\" x=\"129.415132\" xlink:href=\"#m1066d093d9\" y=\"187.116189\"/>\n     <use style=\"fill:#0000ff;stroke:#0000ff;\" x=\"132.058548\" xlink:href=\"#m1066d093d9\" y=\"186.446587\"/>\n     <use style=\"fill:#0000ff;stroke:#0000ff;\" x=\"134.532759\" xlink:href=\"#m1066d093d9\" y=\"186.446587\"/>\n     <use style=\"fill:#0000ff;stroke:#0000ff;\" x=\"136.862195\" xlink:href=\"#m1066d093d9\" y=\"184.459095\"/>\n     <use style=\"fill:#0000ff;stroke:#0000ff;\" x=\"139.066293\" xlink:href=\"#m1066d093d9\" y=\"183.585836\"/>\n     <use style=\"fill:#0000ff;stroke:#0000ff;\" x=\"141.160781\" xlink:href=\"#m1066d093d9\" y=\"182.502795\"/>\n     <use style=\"fill:#0000ff;stroke:#0000ff;\" x=\"143.158577\" xlink:href=\"#m1066d093d9\" y=\"182.072199\"/>\n     <use style=\"fill:#0000ff;stroke:#0000ff;\" x=\"145.070425\" xlink:href=\"#m1066d093d9\" y=\"182.072199\"/>\n     <use style=\"fill:#0000ff;stroke:#0000ff;\" x=\"146.905365\" xlink:href=\"#m1066d093d9\" y=\"179.941254\"/>\n     <use style=\"fill:#0000ff;stroke:#0000ff;\" x=\"148.671074\" xlink:href=\"#m1066d093d9\" y=\"179.941254\"/>\n     <use style=\"fill:#0000ff;stroke:#0000ff;\" x=\"150.374138\" xlink:href=\"#m1066d093d9\" y=\"175.785627\"/>\n     <use style=\"fill:#0000ff;stroke:#0000ff;\" x=\"152.020246\" xlink:href=\"#m1066d093d9\" y=\"173.758635\"/>\n     <use style=\"fill:#0000ff;stroke:#0000ff;\" x=\"153.614349\" xlink:href=\"#m1066d093d9\" y=\"173.277022\"/>\n     <use style=\"fill:#0000ff;stroke:#0000ff;\" x=\"155.160785\" xlink:href=\"#m1066d093d9\" y=\"169.800929\"/>\n     <use style=\"fill:#0000ff;stroke:#0000ff;\" x=\"156.663379\" xlink:href=\"#m1066d093d9\" y=\"169.411983\"/>\n     <use style=\"fill:#0000ff;stroke:#0000ff;\" x=\"158.125519\" xlink:href=\"#m1066d093d9\" y=\"169.024246\"/>\n     <use style=\"fill:#0000ff;stroke:#0000ff;\" x=\"159.550225\" xlink:href=\"#m1066d093d9\" y=\"169.024246\"/>\n     <use style=\"fill:#0000ff;stroke:#0000ff;\" x=\"160.940197\" xlink:href=\"#m1066d093d9\" y=\"167.86822\"/>\n     <use style=\"fill:#0000ff;stroke:#0000ff;\" x=\"162.297864\" xlink:href=\"#m1066d093d9\" y=\"166.912987\"/>\n     <use style=\"fill:#0000ff;stroke:#0000ff;\" x=\"163.625417\" xlink:href=\"#m1066d093d9\" y=\"164.090438\"/>\n     <use style=\"fill:#0000ff;stroke:#0000ff;\" x=\"164.924841\" xlink:href=\"#m1066d093d9\" y=\"163.163614\"/>\n     <use style=\"fill:#0000ff;stroke:#0000ff;\" x=\"166.197939\" xlink:href=\"#m1066d093d9\" y=\"162.24363\"/>\n     <use style=\"fill:#0000ff;stroke:#0000ff;\" x=\"167.446358\" xlink:href=\"#m1066d093d9\" y=\"162.24363\"/>\n     <use style=\"fill:#0000ff;stroke:#0000ff;\" x=\"168.671602\" xlink:href=\"#m1066d093d9\" y=\"159.70322\"/>\n     <use style=\"fill:#0000ff;stroke:#0000ff;\" x=\"169.875053\" xlink:href=\"#m1066d093d9\" y=\"159.70322\"/>\n     <use style=\"fill:#0000ff;stroke:#0000ff;\" x=\"171.057981\" xlink:href=\"#m1066d093d9\" y=\"158.630123\"/>\n     <use style=\"fill:#0000ff;stroke:#0000ff;\" x=\"172.22156\" xlink:href=\"#m1066d093d9\" y=\"158.630123\"/>\n     <use style=\"fill:#0000ff;stroke:#0000ff;\" x=\"173.366873\" xlink:href=\"#m1066d093d9\" y=\"158.274468\"/>\n     <use style=\"fill:#0000ff;stroke:#0000ff;\" x=\"174.494926\" xlink:href=\"#m1066d093d9\" y=\"157.566186\"/>\n     <use style=\"fill:#0000ff;stroke:#0000ff;\" x=\"175.606653\" xlink:href=\"#m1066d093d9\" y=\"157.566186\"/>\n     <use style=\"fill:#0000ff;stroke:#0000ff;\" x=\"176.702923\" xlink:href=\"#m1066d093d9\" y=\"156.861906\"/>\n     <use style=\"fill:#0000ff;stroke:#0000ff;\" x=\"177.784548\" xlink:href=\"#m1066d093d9\" y=\"156.861906\"/>\n     <use style=\"fill:#0000ff;stroke:#0000ff;\" x=\"178.852288\" xlink:href=\"#m1066d093d9\" y=\"156.861906\"/>\n     <use style=\"fill:#0000ff;stroke:#0000ff;\" x=\"179.906853\" xlink:href=\"#m1066d093d9\" y=\"156.161582\"/>\n     <use style=\"fill:#0000ff;stroke:#0000ff;\" x=\"180.94891\" xlink:href=\"#m1066d093d9\" y=\"152.548075\"/>\n     <use style=\"fill:#0000ff;stroke:#0000ff;\" x=\"181.979087\" xlink:href=\"#m1066d093d9\" y=\"151.702938\"/>\n     <use style=\"fill:#0000ff;stroke:#0000ff;\" x=\"182.997976\" xlink:href=\"#m1066d093d9\" y=\"151.702938\"/>\n     <use style=\"fill:#0000ff;stroke:#0000ff;\" x=\"184.006134\" xlink:href=\"#m1066d093d9\" y=\"150.696279\"/>\n     <use style=\"fill:#0000ff;stroke:#0000ff;\" x=\"185.004088\" xlink:href=\"#m1066d093d9\" y=\"150.362525\"/>\n     <use style=\"fill:#0000ff;stroke:#0000ff;\" x=\"185.992338\" xlink:href=\"#m1066d093d9\" y=\"150.029661\"/>\n     <use style=\"fill:#0000ff;stroke:#0000ff;\" x=\"186.971356\" xlink:href=\"#m1066d093d9\" y=\"149.366589\"/>\n     <use style=\"fill:#0000ff;stroke:#0000ff;\" x=\"187.941593\" xlink:href=\"#m1066d093d9\" y=\"148.378547\"/>\n     <use style=\"fill:#0000ff;stroke:#0000ff;\" x=\"188.903475\" xlink:href=\"#m1066d093d9\" y=\"147.398276\"/>\n     <use style=\"fill:#0000ff;stroke:#0000ff;\" x=\"189.857411\" xlink:href=\"#m1066d093d9\" y=\"146.749018\"/>\n     <use style=\"fill:#0000ff;stroke:#0000ff;\" x=\"190.803788\" xlink:href=\"#m1066d093d9\" y=\"146.749018\"/>\n     <use style=\"fill:#0000ff;stroke:#0000ff;\" x=\"191.742978\" xlink:href=\"#m1066d093d9\" y=\"146.425652\"/>\n     <use style=\"fill:#0000ff;stroke:#0000ff;\" x=\"192.675336\" xlink:href=\"#m1066d093d9\" y=\"146.103124\"/>\n     <use style=\"fill:#0000ff;stroke:#0000ff;\" x=\"193.601202\" xlink:href=\"#m1066d093d9\" y=\"145.460559\"/>\n     <use style=\"fill:#0000ff;stroke:#0000ff;\" x=\"194.520903\" xlink:href=\"#m1066d093d9\" y=\"145.140515\"/>\n     <use style=\"fill:#0000ff;stroke:#0000ff;\" x=\"195.434753\" xlink:href=\"#m1066d093d9\" y=\"145.140515\"/>\n     <use style=\"fill:#0000ff;stroke:#0000ff;\" x=\"196.343053\" xlink:href=\"#m1066d093d9\" y=\"145.140515\"/>\n     <use style=\"fill:#0000ff;stroke:#0000ff;\" x=\"197.246095\" xlink:href=\"#m1066d093d9\" y=\"144.34398\"/>\n     <use style=\"fill:#0000ff;stroke:#0000ff;\" x=\"198.144159\" xlink:href=\"#m1066d093d9\" y=\"143.552503\"/>\n     <use style=\"fill:#0000ff;stroke:#0000ff;\" x=\"199.037517\" xlink:href=\"#m1066d093d9\" y=\"143.237313\"/>\n     <use style=\"fill:#0000ff;stroke:#0000ff;\" x=\"199.92643\" xlink:href=\"#m1066d093d9\" y=\"142.296499\"/>\n     <use style=\"fill:#0000ff;stroke:#0000ff;\" x=\"200.811154\" xlink:href=\"#m1066d093d9\" y=\"141.984466\"/>\n     <use style=\"fill:#0000ff;stroke:#0000ff;\" x=\"201.691935\" xlink:href=\"#m1066d093d9\" y=\"141.984466\"/>\n     <use style=\"fill:#0000ff;stroke:#0000ff;\" x=\"202.569013\" xlink:href=\"#m1066d093d9\" y=\"141.362733\"/>\n     <use style=\"fill:#0000ff;stroke:#0000ff;\" x=\"203.442621\" xlink:href=\"#m1066d093d9\" y=\"141.053025\"/>\n     <use style=\"fill:#0000ff;stroke:#0000ff;\" x=\"204.312987\" xlink:href=\"#m1066d093d9\" y=\"139.515925\"/>\n     <use style=\"fill:#0000ff;stroke:#0000ff;\" x=\"205.180332\" xlink:href=\"#m1066d093d9\" y=\"139.515925\"/>\n     <use style=\"fill:#0000ff;stroke:#0000ff;\" x=\"206.044874\" xlink:href=\"#m1066d093d9\" y=\"139.515925\"/>\n     <use style=\"fill:#0000ff;stroke:#0000ff;\" x=\"206.906825\" xlink:href=\"#m1066d093d9\" y=\"139.515925\"/>\n     <use style=\"fill:#0000ff;stroke:#0000ff;\" x=\"207.766393\" xlink:href=\"#m1066d093d9\" y=\"138.906353\"/>\n     <use style=\"fill:#0000ff;stroke:#0000ff;\" x=\"208.623782\" xlink:href=\"#m1066d093d9\" y=\"138.906353\"/>\n     <use style=\"fill:#0000ff;stroke:#0000ff;\" x=\"209.479192\" xlink:href=\"#m1066d093d9\" y=\"138.906353\"/>\n     <use style=\"fill:#0000ff;stroke:#0000ff;\" x=\"210.332822\" xlink:href=\"#m1066d093d9\" y=\"138.299747\"/>\n     <use style=\"fill:#0000ff;stroke:#0000ff;\" x=\"211.184866\" xlink:href=\"#m1066d093d9\" y=\"138.148555\"/>\n     <use style=\"fill:#0000ff;stroke:#0000ff;\" x=\"212.035516\" xlink:href=\"#m1066d093d9\" y=\"137.395337\"/>\n     <use style=\"fill:#0000ff;stroke:#0000ff;\" x=\"212.884963\" xlink:href=\"#m1066d093d9\" y=\"137.395337\"/>\n     <use style=\"fill:#0000ff;stroke:#0000ff;\" x=\"213.733394\" xlink:href=\"#m1066d093d9\" y=\"136.796022\"/>\n     <use style=\"fill:#0000ff;stroke:#0000ff;\" x=\"214.580997\" xlink:href=\"#m1066d093d9\" y=\"136.497442\"/>\n     <use style=\"fill:#0000ff;stroke:#0000ff;\" x=\"215.427956\" xlink:href=\"#m1066d093d9\" y=\"136.199575\"/>\n     <use style=\"fill:#0000ff;stroke:#0000ff;\" x=\"216.274457\" xlink:href=\"#m1066d093d9\" y=\"135.902418\"/>\n     <use style=\"fill:#0000ff;stroke:#0000ff;\" x=\"217.120683\" xlink:href=\"#m1066d093d9\" y=\"135.902418\"/>\n     <use style=\"fill:#0000ff;stroke:#0000ff;\" x=\"217.966817\" xlink:href=\"#m1066d093d9\" y=\"135.16261\"/>\n     <use style=\"fill:#0000ff;stroke:#0000ff;\" x=\"218.813043\" xlink:href=\"#m1066d093d9\" y=\"134.427167\"/>\n     <use style=\"fill:#0000ff;stroke:#0000ff;\" x=\"219.659544\" xlink:href=\"#m1066d093d9\" y=\"134.427167\"/>\n     <use style=\"fill:#0000ff;stroke:#0000ff;\" x=\"220.506503\" xlink:href=\"#m1066d093d9\" y=\"134.427167\"/>\n     <use style=\"fill:#0000ff;stroke:#0000ff;\" x=\"221.354106\" xlink:href=\"#m1066d093d9\" y=\"133.259409\"/>\n     <use style=\"fill:#0000ff;stroke:#0000ff;\" x=\"222.202537\" xlink:href=\"#m1066d093d9\" y=\"132.969171\"/>\n     <use style=\"fill:#0000ff;stroke:#0000ff;\" x=\"223.051984\" xlink:href=\"#m1066d093d9\" y=\"132.969171\"/>\n     <use style=\"fill:#0000ff;stroke:#0000ff;\" x=\"223.902634\" xlink:href=\"#m1066d093d9\" y=\"132.969171\"/>\n     <use style=\"fill:#0000ff;stroke:#0000ff;\" x=\"224.754678\" xlink:href=\"#m1066d093d9\" y=\"131.52803\"/>\n     <use style=\"fill:#0000ff;stroke:#0000ff;\" x=\"225.608308\" xlink:href=\"#m1066d093d9\" y=\"131.52803\"/>\n     <use style=\"fill:#0000ff;stroke:#0000ff;\" x=\"226.463718\" xlink:href=\"#m1066d093d9\" y=\"130.10336\"/>\n     <use style=\"fill:#0000ff;stroke:#0000ff;\" x=\"227.321107\" xlink:href=\"#m1066d093d9\" y=\"128.694789\"/>\n     <use style=\"fill:#0000ff;stroke:#0000ff;\" x=\"228.180675\" xlink:href=\"#m1066d093d9\" y=\"127.301956\"/>\n     <use style=\"fill:#0000ff;stroke:#0000ff;\" x=\"229.042626\" xlink:href=\"#m1066d093d9\" y=\"127.301956\"/>\n     <use style=\"fill:#0000ff;stroke:#0000ff;\" x=\"229.907168\" xlink:href=\"#m1066d093d9\" y=\"127.301956\"/>\n     <use style=\"fill:#0000ff;stroke:#0000ff;\" x=\"230.774513\" xlink:href=\"#m1066d093d9\" y=\"127.301956\"/>\n     <use style=\"fill:#0000ff;stroke:#0000ff;\" x=\"231.644879\" xlink:href=\"#m1066d093d9\" y=\"125.241458\"/>\n     <use style=\"fill:#0000ff;stroke:#0000ff;\" x=\"232.518487\" xlink:href=\"#m1066d093d9\" y=\"125.105295\"/>\n     <use style=\"fill:#0000ff;stroke:#0000ff;\" x=\"233.395565\" xlink:href=\"#m1066d093d9\" y=\"123.214466\"/>\n     <use style=\"fill:#0000ff;stroke:#0000ff;\" x=\"234.276346\" xlink:href=\"#m1066d093d9\" y=\"122.146732\"/>\n     <use style=\"fill:#0000ff;stroke:#0000ff;\" x=\"235.16107\" xlink:href=\"#m1066d093d9\" y=\"121.881221\"/>\n     <use style=\"fill:#0000ff;stroke:#0000ff;\" x=\"236.049983\" xlink:href=\"#m1066d093d9\" y=\"121.881221\"/>\n     <use style=\"fill:#0000ff;stroke:#0000ff;\" x=\"236.943341\" xlink:href=\"#m1066d093d9\" y=\"121.616274\"/>\n     <use style=\"fill:#0000ff;stroke:#0000ff;\" x=\"237.841405\" xlink:href=\"#m1066d093d9\" y=\"121.219908\"/>\n     <use style=\"fill:#0000ff;stroke:#0000ff;\" x=\"238.744447\" xlink:href=\"#m1066d093d9\" y=\"120.562084\"/>\n     <use style=\"fill:#0000ff;stroke:#0000ff;\" x=\"239.652747\" xlink:href=\"#m1066d093d9\" y=\"119.907714\"/>\n     <use style=\"fill:#0000ff;stroke:#0000ff;\" x=\"240.566597\" xlink:href=\"#m1066d093d9\" y=\"119.256761\"/>\n     <use style=\"fill:#0000ff;stroke:#0000ff;\" x=\"241.486298\" xlink:href=\"#m1066d093d9\" y=\"119.256761\"/>\n     <use style=\"fill:#0000ff;stroke:#0000ff;\" x=\"242.412164\" xlink:href=\"#m1066d093d9\" y=\"117.964964\"/>\n     <use style=\"fill:#0000ff;stroke:#0000ff;\" x=\"243.344522\" xlink:href=\"#m1066d093d9\" y=\"116.178647\"/>\n     <use style=\"fill:#0000ff;stroke:#0000ff;\" x=\"244.283712\" xlink:href=\"#m1066d093d9\" y=\"115.42085\"/>\n     <use style=\"fill:#0000ff;stroke:#0000ff;\" x=\"245.230089\" xlink:href=\"#m1066d093d9\" y=\"115.42085\"/>\n     <use style=\"fill:#0000ff;stroke:#0000ff;\" x=\"246.184025\" xlink:href=\"#m1066d093d9\" y=\"115.42085\"/>\n     <use style=\"fill:#0000ff;stroke:#0000ff;\" x=\"247.145907\" xlink:href=\"#m1066d093d9\" y=\"114.918199\"/>\n     <use style=\"fill:#0000ff;stroke:#0000ff;\" x=\"248.116144\" xlink:href=\"#m1066d093d9\" y=\"114.168003\"/>\n     <use style=\"fill:#0000ff;stroke:#0000ff;\" x=\"249.095162\" xlink:href=\"#m1066d093d9\" y=\"112.927622\"/>\n     <use style=\"fill:#0000ff;stroke:#0000ff;\" x=\"250.083412\" xlink:href=\"#m1066d093d9\" y=\"111.699461\"/>\n     <use style=\"fill:#0000ff;stroke:#0000ff;\" x=\"251.081366\" xlink:href=\"#m1066d093d9\" y=\"110.483283\"/>\n     <use style=\"fill:#0000ff;stroke:#0000ff;\" x=\"252.089524\" xlink:href=\"#m1066d093d9\" y=\"110.000115\"/>\n     <use style=\"fill:#0000ff;stroke:#0000ff;\" x=\"253.108413\" xlink:href=\"#m1066d093d9\" y=\"108.800325\"/>\n     <use style=\"fill:#0000ff;stroke:#0000ff;\" x=\"254.13859\" xlink:href=\"#m1066d093d9\" y=\"108.085954\"/>\n     <use style=\"fill:#0000ff;stroke:#0000ff;\" x=\"255.180647\" xlink:href=\"#m1066d093d9\" y=\"106.90436\"/>\n     <use style=\"fill:#0000ff;stroke:#0000ff;\" x=\"256.235212\" xlink:href=\"#m1066d093d9\" y=\"106.90436\"/>\n     <use style=\"fill:#0000ff;stroke:#0000ff;\" x=\"257.302952\" xlink:href=\"#m1066d093d9\" y=\"106.90436\"/>\n     <use style=\"fill:#0000ff;stroke:#0000ff;\" x=\"258.384577\" xlink:href=\"#m1066d093d9\" y=\"105.733861\"/>\n     <use style=\"fill:#0000ff;stroke:#0000ff;\" x=\"259.480847\" xlink:href=\"#m1066d093d9\" y=\"105.733861\"/>\n     <use style=\"fill:#0000ff;stroke:#0000ff;\" x=\"260.592574\" xlink:href=\"#m1066d093d9\" y=\"105.733861\"/>\n     <use style=\"fill:#0000ff;stroke:#0000ff;\" x=\"261.720627\" xlink:href=\"#m1066d093d9\" y=\"104.805311\"/>\n     <use style=\"fill:#0000ff;stroke:#0000ff;\" x=\"262.86594\" xlink:href=\"#m1066d093d9\" y=\"104.57425\"/>\n     <use style=\"fill:#0000ff;stroke:#0000ff;\" x=\"264.029519\" xlink:href=\"#m1066d093d9\" y=\"104.45888\"/>\n     <use style=\"fill:#0000ff;stroke:#0000ff;\" x=\"265.212447\" xlink:href=\"#m1066d093d9\" y=\"102.286897\"/>\n     <use style=\"fill:#0000ff;stroke:#0000ff;\" x=\"266.415898\" xlink:href=\"#m1066d093d9\" y=\"100.598511\"/>\n     <use style=\"fill:#0000ff;stroke:#0000ff;\" x=\"267.641142\" xlink:href=\"#m1066d093d9\" y=\"100.040759\"/>\n     <use style=\"fill:#0000ff;stroke:#0000ff;\" x=\"268.889561\" xlink:href=\"#m1066d093d9\" y=\"98.932688\"/>\n     <use style=\"fill:#0000ff;stroke:#0000ff;\" x=\"270.162659\" xlink:href=\"#m1066d093d9\" y=\"98.932688\"/>\n     <use style=\"fill:#0000ff;stroke:#0000ff;\" x=\"271.462083\" xlink:href=\"#m1066d093d9\" y=\"98.932688\"/>\n     <use style=\"fill:#0000ff;stroke:#0000ff;\" x=\"272.789636\" xlink:href=\"#m1066d093d9\" y=\"96.745662\"/>\n     <use style=\"fill:#0000ff;stroke:#0000ff;\" x=\"274.147303\" xlink:href=\"#m1066d093d9\" y=\"95.666372\"/>\n     <use style=\"fill:#0000ff;stroke:#0000ff;\" x=\"275.537275\" xlink:href=\"#m1066d093d9\" y=\"95.666372\"/>\n     <use style=\"fill:#0000ff;stroke:#0000ff;\" x=\"276.961981\" xlink:href=\"#m1066d093d9\" y=\"87.352808\"/>\n     <use style=\"fill:#0000ff;stroke:#0000ff;\" x=\"278.424121\" xlink:href=\"#m1066d093d9\" y=\"87.352808\"/>\n     <use style=\"fill:#0000ff;stroke:#0000ff;\" x=\"279.926715\" xlink:href=\"#m1066d093d9\" y=\"86.351539\"/>\n     <use style=\"fill:#0000ff;stroke:#0000ff;\" x=\"281.473151\" xlink:href=\"#m1066d093d9\" y=\"86.351539\"/>\n     <use style=\"fill:#0000ff;stroke:#0000ff;\" x=\"283.067254\" xlink:href=\"#m1066d093d9\" y=\"84.372811\"/>\n     <use style=\"fill:#0000ff;stroke:#0000ff;\" x=\"284.713362\" xlink:href=\"#m1066d093d9\" y=\"79.559191\"/>\n     <use style=\"fill:#0000ff;stroke:#0000ff;\" x=\"286.416426\" xlink:href=\"#m1066d093d9\" y=\"78.15062\"/>\n     <use style=\"fill:#0000ff;stroke:#0000ff;\" x=\"288.182135\" xlink:href=\"#m1066d093d9\" y=\"74.017956\"/>\n     <use style=\"fill:#0000ff;stroke:#0000ff;\" x=\"290.017075\" xlink:href=\"#m1066d093d9\" y=\"72.224296\"/>\n     <use style=\"fill:#0000ff;stroke:#0000ff;\" x=\"291.928923\" xlink:href=\"#m1066d093d9\" y=\"70.456078\"/>\n     <use style=\"fill:#0000ff;stroke:#0000ff;\" x=\"293.926719\" xlink:href=\"#m1066d093d9\" y=\"68.539577\"/>\n     <use style=\"fill:#0000ff;stroke:#0000ff;\" x=\"296.021207\" xlink:href=\"#m1066d093d9\" y=\"67.849908\"/>\n     <use style=\"fill:#0000ff;stroke:#0000ff;\" x=\"298.225305\" xlink:href=\"#m1066d093d9\" y=\"67.849908\"/>\n     <use style=\"fill:#0000ff;stroke:#0000ff;\" x=\"300.554741\" xlink:href=\"#m1066d093d9\" y=\"67.678086\"/>\n     <use style=\"fill:#0000ff;stroke:#0000ff;\" x=\"303.028952\" xlink:href=\"#m1066d093d9\" y=\"66.142248\"/>\n     <use style=\"fill:#0000ff;stroke:#0000ff;\" x=\"305.672368\" xlink:href=\"#m1066d093d9\" y=\"63.623834\"/>\n     <use style=\"fill:#0000ff;stroke:#0000ff;\" x=\"308.51632\" xlink:href=\"#m1066d093d9\" y=\"63.457735\"/>\n     <use style=\"fill:#0000ff;stroke:#0000ff;\" x=\"311.601961\" xlink:href=\"#m1066d093d9\" y=\"61.97272\"/>\n     <use style=\"fill:#0000ff;stroke:#0000ff;\" x=\"314.984931\" xlink:href=\"#m1066d093d9\" y=\"61.155292\"/>\n     <use style=\"fill:#0000ff;stroke:#0000ff;\" x=\"318.743216\" xlink:href=\"#m1066d093d9\" y=\"59.536344\"/>\n     <use style=\"fill:#0000ff;stroke:#0000ff;\" x=\"322.991246\" xlink:href=\"#m1066d093d9\" y=\"56.360191\"/>\n     <use style=\"fill:#0000ff;stroke:#0000ff;\" x=\"327.907395\" xlink:href=\"#m1066d093d9\" y=\"56.360191\"/>\n     <use style=\"fill:#0000ff;stroke:#0000ff;\" x=\"333.794024\" xlink:href=\"#m1066d093d9\" y=\"55.578639\"/>\n     <use style=\"fill:#0000ff;stroke:#0000ff;\" x=\"341.231823\" xlink:href=\"#m1066d093d9\" y=\"55.578639\"/>\n     <use style=\"fill:#0000ff;stroke:#0000ff;\" x=\"351.595938\" xlink:href=\"#m1066d093d9\" y=\"52.500525\"/>\n     <use style=\"fill:#0000ff;stroke:#0000ff;\" x=\"369.725568\" xlink:href=\"#m1066d093d9\" y=\"48.756783\"/>\n    </g>\n   </g>\n   <g id=\"line2d_16\">\n    <path clip-path=\"url(#peb33ce3da4)\" d=\"M 65.361932 229.874489 \nL 369.725568 32.201761 \nL 369.725568 32.201761 \n\" style=\"fill:none;stroke:#ff0000;stroke-linecap:square;stroke-width:1.5;\"/>\n   </g>\n   <g id=\"patch_3\">\n    <path d=\"M 50.14375 239.758125 \nL 50.14375 22.318125 \n\" style=\"fill:none;stroke:#ffffff;stroke-linecap:square;stroke-linejoin:miter;stroke-width:0.8;\"/>\n   </g>\n   <g id=\"patch_4\">\n    <path d=\"M 384.94375 239.758125 \nL 384.94375 22.318125 \n\" style=\"fill:none;stroke:#ffffff;stroke-linecap:square;stroke-linejoin:miter;stroke-width:0.8;\"/>\n   </g>\n   <g id=\"patch_5\">\n    <path d=\"M 50.14375 239.758125 \nL 384.94375 239.758125 \n\" style=\"fill:none;stroke:#ffffff;stroke-linecap:square;stroke-linejoin:miter;stroke-width:0.8;\"/>\n   </g>\n   <g id=\"patch_6\">\n    <path d=\"M 50.14375 22.318125 \nL 384.94375 22.318125 \n\" style=\"fill:none;stroke:#ffffff;stroke-linecap:square;stroke-linejoin:miter;stroke-width:0.8;\"/>\n   </g>\n   <g id=\"text_17\">\n    <!-- Probability Plot -->\n    <g style=\"fill:#ffffff;\" transform=\"translate(172.614063 16.318125)scale(0.12 -0.12)\">\n     <defs>\n      <path d=\"M 19.671875 64.796875 \nL 19.671875 37.40625 \nL 32.078125 37.40625 \nQ 38.96875 37.40625 42.71875 40.96875 \nQ 46.484375 44.53125 46.484375 51.125 \nQ 46.484375 57.671875 42.71875 61.234375 \nQ 38.96875 64.796875 32.078125 64.796875 \nz\nM 9.8125 72.90625 \nL 32.078125 72.90625 \nQ 44.34375 72.90625 50.609375 67.359375 \nQ 56.890625 61.8125 56.890625 51.125 \nQ 56.890625 40.328125 50.609375 34.8125 \nQ 44.34375 29.296875 32.078125 29.296875 \nL 19.671875 29.296875 \nL 19.671875 0 \nL 9.8125 0 \nz\n\" id=\"DejaVuSans-80\"/>\n      <path d=\"M 48.6875 27.296875 \nQ 48.6875 37.203125 44.609375 42.84375 \nQ 40.53125 48.484375 33.40625 48.484375 \nQ 26.265625 48.484375 22.1875 42.84375 \nQ 18.109375 37.203125 18.109375 27.296875 \nQ 18.109375 17.390625 22.1875 11.75 \nQ 26.265625 6.109375 33.40625 6.109375 \nQ 40.53125 6.109375 44.609375 11.75 \nQ 48.6875 17.390625 48.6875 27.296875 \nz\nM 18.109375 46.390625 \nQ 20.953125 51.265625 25.265625 53.625 \nQ 29.59375 56 35.59375 56 \nQ 45.5625 56 51.78125 48.09375 \nQ 58.015625 40.1875 58.015625 27.296875 \nQ 58.015625 14.40625 51.78125 6.484375 \nQ 45.5625 -1.421875 35.59375 -1.421875 \nQ 29.59375 -1.421875 25.265625 0.953125 \nQ 20.953125 3.328125 18.109375 8.203125 \nL 18.109375 0 \nL 9.078125 0 \nL 9.078125 75.984375 \nL 18.109375 75.984375 \nz\n\" id=\"DejaVuSans-98\"/>\n      <path d=\"M 32.171875 -5.078125 \nQ 28.375 -14.84375 24.75 -17.8125 \nQ 21.140625 -20.796875 15.09375 -20.796875 \nL 7.90625 -20.796875 \nL 7.90625 -13.28125 \nL 13.1875 -13.28125 \nQ 16.890625 -13.28125 18.9375 -11.515625 \nQ 21 -9.765625 23.484375 -3.21875 \nL 25.09375 0.875 \nL 2.984375 54.6875 \nL 12.5 54.6875 \nL 29.59375 11.921875 \nL 46.6875 54.6875 \nL 56.203125 54.6875 \nz\n\" id=\"DejaVuSans-121\"/>\n     </defs>\n     <use xlink:href=\"#DejaVuSans-80\"/>\n     <use x=\"58.552734\" xlink:href=\"#DejaVuSans-114\"/>\n     <use x=\"97.416016\" xlink:href=\"#DejaVuSans-111\"/>\n     <use x=\"158.597656\" xlink:href=\"#DejaVuSans-98\"/>\n     <use x=\"222.074219\" xlink:href=\"#DejaVuSans-97\"/>\n     <use x=\"283.353516\" xlink:href=\"#DejaVuSans-98\"/>\n     <use x=\"346.830078\" xlink:href=\"#DejaVuSans-105\"/>\n     <use x=\"374.613281\" xlink:href=\"#DejaVuSans-108\"/>\n     <use x=\"402.396484\" xlink:href=\"#DejaVuSans-105\"/>\n     <use x=\"430.179688\" xlink:href=\"#DejaVuSans-116\"/>\n     <use x=\"469.388672\" xlink:href=\"#DejaVuSans-121\"/>\n     <use x=\"528.568359\" xlink:href=\"#DejaVuSans-32\"/>\n     <use x=\"560.355469\" xlink:href=\"#DejaVuSans-80\"/>\n     <use x=\"620.658203\" xlink:href=\"#DejaVuSans-108\"/>\n     <use x=\"648.441406\" xlink:href=\"#DejaVuSans-111\"/>\n     <use x=\"709.623047\" xlink:href=\"#DejaVuSans-116\"/>\n    </g>\n   </g>\n  </g>\n </g>\n <defs>\n  <clipPath id=\"peb33ce3da4\">\n   <rect height=\"217.44\" width=\"334.8\" x=\"50.14375\" y=\"22.318125\"/>\n  </clipPath>\n </defs>\n</svg>\n",
      "image/png": "[encoded data removed]"
     },
     "metadata": {}
    }
   ],
   "source": [
    "#applying log transformation\n",
    "data['sold_price'] = np.log(data['sold_price'])\n",
    "#transformed histogram and normal probability plot\n",
    "sns.distplot(data['sold_price'], fit=norm);\n",
    "fig = plt.figure()\n",
    "res = stats.probplot(data['sold_price'], plot=plt)"
   ]
  },
  {
   "cell_type": "code",
   "execution_count": 14,
   "metadata": {},
   "outputs": [],
   "source": [
    "from sklearn.linear_model import ElasticNet, Lasso,  BayesianRidge, LassoLarsIC\n",
    "from sklearn.ensemble import RandomForestRegressor,  GradientBoostingRegressor\n",
    "from sklearn.kernel_ridge import KernelRidge\n",
    "from sklearn.pipeline import make_pipeline\n",
    "from sklearn.preprocessing import RobustScaler\n",
    "from sklearn.base import BaseEstimator, TransformerMixin, RegressorMixin, clone\n",
    "from sklearn.model_selection import KFold, cross_val_score, train_test_split\n",
    "from sklearn.metrics import mean_squared_error\n",
    "import xgboost as xgb\n",
    "import lightgbm as lgb"
   ]
  },
  {
   "cell_type": "code",
   "execution_count": 15,
   "metadata": {},
   "outputs": [],
   "source": [
    "#Validation function\n",
    "n_folds = 5\n",
    "\n",
    "def rmsle_cv(model):\n",
    "    kf = KFold(n_folds, shuffle=True, random_state=42).get_n_splits(x_train.values)\n",
    "    rmse= np.sqrt(-cross_val_score(model, x_train.values, y_train, scoring=\"neg_mean_squared_error\", cv = kf))\n",
    "    return(rmse)"
   ]
  },
  {
   "cell_type": "code",
   "execution_count": 16,
   "metadata": {},
   "outputs": [
    {
     "output_type": "stream",
     "name": "stdout",
     "text": [
      "(127, 4) (127,) (43, 4) (43,)\n"
     ]
    }
   ],
   "source": [
    "x_train, x_test, y_train, y_test = train_test_split(data[['bedrooms','bathrooms','carspaces','landArea']], data['sold_price'])\n",
    "print(x_train.shape, y_train.shape, x_test.shape, y_test.shape)"
   ]
  },
  {
   "source": [
    "Base models"
   ],
   "cell_type": "markdown",
   "metadata": {}
  },
  {
   "cell_type": "code",
   "execution_count": 17,
   "metadata": {},
   "outputs": [
    {
     "output_type": "stream",
     "name": "stdout",
     "text": [
      "\nLasso score: 0.2036 (0.0311)\n\n"
     ]
    }
   ],
   "source": [
    "lasso = make_pipeline(RobustScaler(), Lasso(alpha =0.0005, random_state=1))\n",
    "score = rmsle_cv(lasso)\n",
    "print(\"\\nLasso score: {:.4f} ({:.4f})\\n\".format(score.mean(), score.std()))"
   ]
  },
  {
   "cell_type": "code",
   "execution_count": 18,
   "metadata": {},
   "outputs": [
    {
     "output_type": "stream",
     "name": "stdout",
     "text": [
      "<bound method Series.unique of 0     461322.519638\n1     378651.503090\n2     509266.474180\n3     253236.184345\n4     529584.100143\n5     342559.204711\n6     436308.549137\n7     437338.856277\n8     352548.938938\n9     276144.667123\n10    268787.750821\n11    445784.557622\n12    439997.878564\n13    780960.434216\n14    366110.546717\n15    450207.134160\n16    438340.199121\n17    439614.781607\n18    279695.195905\n19    269313.862567\n20    233666.461056\n21    431646.351039\n22    278884.269892\n23    509335.882852\n24    269001.259560\n25    489188.873947\n26    430145.011345\n27    521153.982113\n28    429520.995370\n29    431270.525566\n30    429520.995370\n31    466711.604304\n32    493887.058967\n33    421368.327394\n34    448120.482596\n35    461456.485351\n36    487005.351325\n37    542324.802233\n38    692105.111348\n39    456525.568265\n40    440381.309365\n41    443460.809136\n42    371896.052080\ndtype: float64>\n"
     ]
    }
   ],
   "source": [
    "model_lasso = make_pipeline(RobustScaler(), Lasso(alpha =0.0005, random_state=1)).fit(x_train, y_train)\n",
    "lasso_preds = np.expm1(model_lasso.predict(x_test))\n",
    "z = pd.Series(lasso_preds)\n",
    "print(z.unique)"
   ]
  },
  {
   "cell_type": "code",
   "execution_count": 19,
   "metadata": {},
   "outputs": [
    {
     "output_type": "stream",
     "name": "stdout",
     "text": [
      "\nEnet score: 0.2036 (0.0311)\n\n"
     ]
    }
   ],
   "source": [
    "ENet = make_pipeline(RobustScaler(), ElasticNet(alpha=0.0005, l1_ratio=.9, random_state=3))\n",
    "score = rmsle_cv(ENet)\n",
    "print(\"\\nEnet score: {:.4f} ({:.4f})\\n\".format(score.mean(), score.std()))\n"
   ]
  },
  {
   "cell_type": "code",
   "execution_count": 20,
   "metadata": {},
   "outputs": [
    {
     "output_type": "stream",
     "name": "stdout",
     "text": [
      "\nKRR score: 0.2764 (0.1451)\n\n"
     ]
    }
   ],
   "source": [
    "KRR = KernelRidge(alpha=0.6, kernel='polynomial', degree=2, coef0=2.5)\n",
    "score = rmsle_cv(KRR)\n",
    "print(\"\\nKRR score: {:.4f} ({:.4f})\\n\".format(score.mean(), score.std()))"
   ]
  },
  {
   "cell_type": "code",
   "execution_count": 83,
   "metadata": {},
   "outputs": [
    {
     "output_type": "stream",
     "name": "stdout",
     "text": [
      "\nGBoost score: 0.2442 (0.0283)\n\n"
     ]
    }
   ],
   "source": [
    "GBoost = GradientBoostingRegressor(n_estimators=3000, learning_rate=0.05,\n",
    "                                   max_depth=4, max_features='sqrt',\n",
    "                                   min_samples_leaf=15, min_samples_split=10, \n",
    "                                   loss='huber', random_state =5)\n",
    "score = rmsle_cv(GBoost)\n",
    "print(\"\\nGBoost score: {:.4f} ({:.4f})\\n\".format(score.mean(), score.std()))"
   ]
  },
  {
   "cell_type": "code",
   "execution_count": 84,
   "metadata": {},
   "outputs": [
    {
     "output_type": "stream",
     "name": "stdout",
     "text": [
      "[17:33:04] WARNING: ../src/learner.cc:541: \n",
      "Parameters: { silent } might not be used.\n",
      "\n",
      "  This may not be accurate due to some parameters are only used in language bindings but\n",
      "  passed down to XGBoost core.  Or some parameters are not used but slip through this\n",
      "  verification. Please open an issue if you find above cases.\n",
      "\n",
      "\n",
      "[17:33:05] WARNING: ../src/learner.cc:541: \n",
      "Parameters: { silent } might not be used.\n",
      "\n",
      "  This may not be accurate due to some parameters are only used in language bindings but\n",
      "  passed down to XGBoost core.  Or some parameters are not used but slip through this\n",
      "  verification. Please open an issue if you find above cases.\n",
      "\n",
      "\n",
      "[17:33:05] WARNING: ../src/learner.cc:541: \n",
      "Parameters: { silent } might not be used.\n",
      "\n",
      "  This may not be accurate due to some parameters are only used in language bindings but\n",
      "  passed down to XGBoost core.  Or some parameters are not used but slip through this\n",
      "  verification. Please open an issue if you find above cases.\n",
      "\n",
      "\n",
      "[17:33:06] WARNING: ../src/learner.cc:541: \n",
      "Parameters: { silent } might not be used.\n",
      "\n",
      "  This may not be accurate due to some parameters are only used in language bindings but\n",
      "  passed down to XGBoost core.  Or some parameters are not used but slip through this\n",
      "  verification. Please open an issue if you find above cases.\n",
      "\n",
      "\n",
      "[17:33:06] WARNING: ../src/learner.cc:541: \n",
      "Parameters: { silent } might not be used.\n",
      "\n",
      "  This may not be accurate due to some parameters are only used in language bindings but\n",
      "  passed down to XGBoost core.  Or some parameters are not used but slip through this\n",
      "  verification. Please open an issue if you find above cases.\n",
      "\n",
      "\n",
      "\n",
      "model_xgb score: 0.1927 (0.0210)\n",
      "\n"
     ]
    }
   ],
   "source": [
    "model_xgb = xgb.XGBRegressor(colsample_bytree=0.4603, gamma=0.0468, \n",
    "                             learning_rate=0.05, max_depth=3, \n",
    "                             min_child_weight=1.7817, n_estimators=2200,\n",
    "                             reg_alpha=0.4640, reg_lambda=0.8571,\n",
    "                             subsample=0.5213, silent=1,\n",
    "                             random_state =7, nthread = -1)\n",
    "score = rmsle_cv(model_xgb)\n",
    "print(\"\\nmodel_xgb score: {:.4f} ({:.4f})\\n\".format(score.mean(), score.std()))"
   ]
  },
  {
   "cell_type": "code",
   "execution_count": 85,
   "metadata": {},
   "outputs": [
    {
     "output_type": "stream",
     "name": "stdout",
     "text": [
      "[LightGBM] [Warning] feature_fraction is set=0.2319, colsample_bytree=1.0 will be ignored. Current value: feature_fraction=0.2319\n",
      "[LightGBM] [Warning] min_sum_hessian_in_leaf is set=11, min_child_weight=0.001 will be ignored. Current value: min_sum_hessian_in_leaf=11\n",
      "[LightGBM] [Warning] min_data_in_leaf is set=6, min_child_samples=20 will be ignored. Current value: min_data_in_leaf=6\n",
      "[LightGBM] [Warning] bagging_freq is set=5, subsample_freq=0 will be ignored. Current value: bagging_freq=5\n",
      "[LightGBM] [Warning] bagging_fraction is set=0.8, subsample=1.0 will be ignored. Current value: bagging_fraction=0.8\n",
      "[LightGBM] [Warning] feature_fraction is set=0.2319, colsample_bytree=1.0 will be ignored. Current value: feature_fraction=0.2319\n",
      "[LightGBM] [Warning] min_sum_hessian_in_leaf is set=11, min_child_weight=0.001 will be ignored. Current value: min_sum_hessian_in_leaf=11\n",
      "[LightGBM] [Warning] min_data_in_leaf is set=6, min_child_samples=20 will be ignored. Current value: min_data_in_leaf=6\n",
      "[LightGBM] [Warning] bagging_freq is set=5, subsample_freq=0 will be ignored. Current value: bagging_freq=5\n",
      "[LightGBM] [Warning] bagging_fraction is set=0.8, subsample=1.0 will be ignored. Current value: bagging_fraction=0.8\n",
      "[LightGBM] [Warning] feature_fraction is set=0.2319, colsample_bytree=1.0 will be ignored. Current value: feature_fraction=0.2319\n",
      "[LightGBM] [Warning] min_sum_hessian_in_leaf is set=11, min_child_weight=0.001 will be ignored. Current value: min_sum_hessian_in_leaf=11\n",
      "[LightGBM] [Warning] min_data_in_leaf is set=6, min_child_samples=20 will be ignored. Current value: min_data_in_leaf=6\n",
      "[LightGBM] [Warning] bagging_freq is set=5, subsample_freq=0 will be ignored. Current value: bagging_freq=5\n",
      "[LightGBM] [Warning] bagging_fraction is set=0.8, subsample=1.0 will be ignored. Current value: bagging_fraction=0.8\n",
      "[LightGBM] [Warning] feature_fraction is set=0.2319, colsample_bytree=1.0 will be ignored. Current value: feature_fraction=0.2319\n",
      "[LightGBM] [Warning] min_sum_hessian_in_leaf is set=11, min_child_weight=0.001 will be ignored. Current value: min_sum_hessian_in_leaf=11\n",
      "[LightGBM] [Warning] min_data_in_leaf is set=6, min_child_samples=20 will be ignored. Current value: min_data_in_leaf=6\n",
      "[LightGBM] [Warning] bagging_freq is set=5, subsample_freq=0 will be ignored. Current value: bagging_freq=5\n",
      "[LightGBM] [Warning] bagging_fraction is set=0.8, subsample=1.0 will be ignored. Current value: bagging_fraction=0.8\n",
      "[LightGBM] [Warning] feature_fraction is set=0.2319, colsample_bytree=1.0 will be ignored. Current value: feature_fraction=0.2319\n",
      "[LightGBM] [Warning] min_sum_hessian_in_leaf is set=11, min_child_weight=0.001 will be ignored. Current value: min_sum_hessian_in_leaf=11\n",
      "[LightGBM] [Warning] min_data_in_leaf is set=6, min_child_samples=20 will be ignored. Current value: min_data_in_leaf=6\n",
      "[LightGBM] [Warning] bagging_freq is set=5, subsample_freq=0 will be ignored. Current value: bagging_freq=5\n",
      "[LightGBM] [Warning] bagging_fraction is set=0.8, subsample=1.0 will be ignored. Current value: bagging_fraction=0.8\n",
      "\n",
      "model_lgb score: 0.2101 (0.0234)\n",
      "\n"
     ]
    }
   ],
   "source": [
    "model_lgb = lgb.LGBMRegressor(objective='regression',num_leaves=5,\n",
    "                              learning_rate=0.05, n_estimators=720,\n",
    "                              max_bin = 55, bagging_fraction = 0.8,\n",
    "                              bagging_freq = 5, feature_fraction = 0.2319,\n",
    "                              feature_fraction_seed=9, bagging_seed=9,\n",
    "                              min_data_in_leaf =6, min_sum_hessian_in_leaf = 11)\n",
    "score = rmsle_cv(model_lgb)\n",
    "print(\"\\nmodel_lgb score: {:.4f} ({:.4f})\\n\".format(score.mean(), score.std()))"
   ]
  },
  {
   "cell_type": "code",
   "execution_count": 86,
   "metadata": {},
   "outputs": [
    {
     "output_type": "stream",
     "name": "stdout",
     "text": [
      "[LightGBM] [Warning] feature_fraction is set=0.2319, colsample_bytree=1.0 will be ignored. Current value: feature_fraction=0.2319\n[LightGBM] [Warning] min_sum_hessian_in_leaf is set=11, min_child_weight=0.001 will be ignored. Current value: min_sum_hessian_in_leaf=11\n[LightGBM] [Warning] min_data_in_leaf is set=6, min_child_samples=20 will be ignored. Current value: min_data_in_leaf=6\n[LightGBM] [Warning] bagging_freq is set=5, subsample_freq=0 will be ignored. Current value: bagging_freq=5\n[LightGBM] [Warning] bagging_fraction is set=0.8, subsample=1.0 will be ignored. Current value: bagging_fraction=0.8\n[473247. 611621. 270962. 573938. 376548. 350189.]\n"
     ]
    }
   ],
   "source": [
    "model_lgb = lgb.LGBMRegressor(objective='regression',num_leaves=5,\n",
    "                              learning_rate=0.05, n_estimators=720,\n",
    "                              max_bin = 55, bagging_fraction = 0.8,\n",
    "                              bagging_freq = 5, feature_fraction = 0.2319,\n",
    "                              feature_fraction_seed=9, bagging_seed=9,\n",
    "                              min_data_in_leaf =6, min_sum_hessian_in_leaf = 11).fit(x_train, y_train)\n",
    "lgb_preds = np.expm1(model_lgb.predict(x_test))\n",
    "z = pd.Series(lgb_preds)\n",
    "print(z.round(0).unique())"
   ]
  },
  {
   "cell_type": "code",
   "execution_count": 87,
   "metadata": {},
   "outputs": [],
   "source": [
    "# Define R2\n",
    "def adjustedR2(r2,n,k):\n",
    "    return r2-(k-1)/(n-k)*(1-r2)"
   ]
  },
  {
   "cell_type": "code",
   "execution_count": 88,
   "metadata": {},
   "outputs": [
    {
     "output_type": "execute_result",
     "data": {
      "text/plain": [
       "  state  \\\n",
       "0  NSW    \n",
       "1  NSW    \n",
       "2  NSW    \n",
       "3  NSW    \n",
       "4  NSW    \n",
       "\n",
       "                                                                                                                                                  features  \\\n",
       "0  ['Ensuite', 'Gas', 'SecureParking', 'Heating']                                                                                                            \n",
       "1  ['AirConditioning', 'BuiltInWardrobes', 'Ensuite', 'Gas', 'SecureParking', 'BroadbandInternetAccess', 'Heating', 'Dishwasher', 'Shed']                    \n",
       "2  ['BuiltInWardrobes', 'Ensuite', 'Floorboards', 'Gas', 'SecureParking', 'SwimmingPool', 'Bath', 'Heating', 'Dishwasher', 'Study', 'Shed', 'FullyFenced']   \n",
       "3  ['AirConditioning', 'BuiltInWardrobes', 'Ensuite', 'SecureParking', 'SwimmingPool', 'Heating', 'Study']                                                   \n",
       "4  ['Ensuite', 'Gas', 'SecureParking', 'SwimmingPool', 'Gym', 'Heating', 'Shed', 'DoubleGlazedWindows', 'SolarPanels']                                       \n",
       "\n",
       "  propertyType  bathrooms  bedrooms  carspaces  unitNumber  streetNumber  \\\n",
       "0  House        2          4         2         NaN          2              \n",
       "1  House        2          4         2         NaN          10             \n",
       "2  House        2          4         3         NaN          15             \n",
       "3  House        2          4         2         NaN          20             \n",
       "4  House        2          4         2         NaN          103            \n",
       "\n",
       "              street                     area        region     suburb  \\\n",
       "0  Sturt  Place       Albury - Greater Region  Regional NSW  THURGOONA   \n",
       "1  Lindisfarne Court  Albury - Greater Region  Regional NSW  THURGOONA   \n",
       "2  Gale Court         Albury - Greater Region  Regional NSW  THURGOONA   \n",
       "3  Whittler Road      Albury - Greater Region  Regional NSW  THURGOONA   \n",
       "4  Forest Drive       Albury - Greater Region  Regional NSW  THURGOONA   \n",
       "\n",
       "   postcode               displayableAddress   latitude   longitude  landArea  \\\n",
       "0  2640      2 Sturt  Place, Thurgoona       -36.018143  147.015686  808        \n",
       "1  2640      10 Lindisfarne Court, Thurgoona -36.054200  146.997559  721        \n",
       "2  2640      15 Gale Court, Thurgoona        -36.039530  147.003021  3093       \n",
       "3  2640      20 Whittler Road, Thurgoona     -36.025080  146.985428  665        \n",
       "4  2640      103 Forest Drive, Thurgoona     -36.046596  147.008224  1380       \n",
       "\n",
       "           id  labels  \n",
       "0  2016849141 -1       \n",
       "1  2016841907  0       \n",
       "2  2016819354  1       \n",
       "3  2016823788 -1       \n",
       "4  2016382640  1       "
      ],
      "text/html": "<div>\n<style scoped>\n    .dataframe tbody tr th:only-of-type {\n        vertical-align: middle;\n    }\n\n    .dataframe tbody tr th {\n        vertical-align: top;\n    }\n\n    .dataframe thead th {\n        text-align: right;\n    }\n</style>\n<table border=\"1\" class=\"dataframe\">\n  <thead>\n    <tr style=\"text-align: right;\">\n      <th></th>\n      <th>state</th>\n      <th>features</th>\n      <th>propertyType</th>\n      <th>bathrooms</th>\n      <th>bedrooms</th>\n      <th>carspaces</th>\n      <th>unitNumber</th>\n      <th>streetNumber</th>\n      <th>street</th>\n      <th>area</th>\n      <th>region</th>\n      <th>suburb</th>\n      <th>postcode</th>\n      <th>displayableAddress</th>\n      <th>latitude</th>\n      <th>longitude</th>\n      <th>landArea</th>\n      <th>id</th>\n      <th>labels</th>\n    </tr>\n  </thead>\n  <tbody>\n    <tr>\n      <th>0</th>\n      <td>NSW</td>\n      <td>['Ensuite', 'Gas', 'SecureParking', 'Heating']</td>\n      <td>House</td>\n      <td>2</td>\n      <td>4</td>\n      <td>2</td>\n      <td>NaN</td>\n      <td>2</td>\n      <td>Sturt  Place</td>\n      <td>Albury - Greater Region</td>\n      <td>Regional NSW</td>\n      <td>THURGOONA</td>\n      <td>2640</td>\n      <td>2 Sturt  Place, Thurgoona</td>\n      <td>-36.018143</td>\n      <td>147.015686</td>\n      <td>808</td>\n      <td>2016849141</td>\n      <td>-1</td>\n    </tr>\n    <tr>\n      <th>1</th>\n      <td>NSW</td>\n      <td>['AirConditioning', 'BuiltInWardrobes', 'Ensuite', 'Gas', 'SecureParking', 'BroadbandInternetAccess', 'Heating', 'Dishwasher', 'Shed']</td>\n      <td>House</td>\n      <td>2</td>\n      <td>4</td>\n      <td>2</td>\n      <td>NaN</td>\n      <td>10</td>\n      <td>Lindisfarne Court</td>\n      <td>Albury - Greater Region</td>\n      <td>Regional NSW</td>\n      <td>THURGOONA</td>\n      <td>2640</td>\n      <td>10 Lindisfarne Court, Thurgoona</td>\n      <td>-36.054200</td>\n      <td>146.997559</td>\n      <td>721</td>\n      <td>2016841907</td>\n      <td>0</td>\n    </tr>\n    <tr>\n      <th>2</th>\n      <td>NSW</td>\n      <td>['BuiltInWardrobes', 'Ensuite', 'Floorboards', 'Gas', 'SecureParking', 'SwimmingPool', 'Bath', 'Heating', 'Dishwasher', 'Study', 'Shed', 'FullyFenced']</td>\n      <td>House</td>\n      <td>2</td>\n      <td>4</td>\n      <td>3</td>\n      <td>NaN</td>\n      <td>15</td>\n      <td>Gale Court</td>\n      <td>Albury - Greater Region</td>\n      <td>Regional NSW</td>\n      <td>THURGOONA</td>\n      <td>2640</td>\n      <td>15 Gale Court, Thurgoona</td>\n      <td>-36.039530</td>\n      <td>147.003021</td>\n      <td>3093</td>\n      <td>2016819354</td>\n      <td>1</td>\n    </tr>\n    <tr>\n      <th>3</th>\n      <td>NSW</td>\n      <td>['AirConditioning', 'BuiltInWardrobes', 'Ensuite', 'SecureParking', 'SwimmingPool', 'Heating', 'Study']</td>\n      <td>House</td>\n      <td>2</td>\n      <td>4</td>\n      <td>2</td>\n      <td>NaN</td>\n      <td>20</td>\n      <td>Whittler Road</td>\n      <td>Albury - Greater Region</td>\n      <td>Regional NSW</td>\n      <td>THURGOONA</td>\n      <td>2640</td>\n      <td>20 Whittler Road, Thurgoona</td>\n      <td>-36.025080</td>\n      <td>146.985428</td>\n      <td>665</td>\n      <td>2016823788</td>\n      <td>-1</td>\n    </tr>\n    <tr>\n      <th>4</th>\n      <td>NSW</td>\n      <td>['Ensuite', 'Gas', 'SecureParking', 'SwimmingPool', 'Gym', 'Heating', 'Shed', 'DoubleGlazedWindows', 'SolarPanels']</td>\n      <td>House</td>\n      <td>2</td>\n      <td>4</td>\n      <td>2</td>\n      <td>NaN</td>\n      <td>103</td>\n      <td>Forest Drive</td>\n      <td>Albury - Greater Region</td>\n      <td>Regional NSW</td>\n      <td>THURGOONA</td>\n      <td>2640</td>\n      <td>103 Forest Drive, Thurgoona</td>\n      <td>-36.046596</td>\n      <td>147.008224</td>\n      <td>1380</td>\n      <td>2016382640</td>\n      <td>1</td>\n    </tr>\n  </tbody>\n</table>\n</div>"
     },
     "metadata": {},
     "execution_count": 88
    }
   ],
   "source": [
    "df2 = pd.read_csv(\"ForSale_Properties.csv\")\n",
    "df2.head()"
   ]
  },
  {
   "cell_type": "code",
   "execution_count": 89,
   "metadata": {},
   "outputs": [
    {
     "output_type": "execute_result",
     "data": {
      "text/plain": [
       "(28, 19)"
      ]
     },
     "metadata": {},
     "execution_count": 89
    }
   ],
   "source": [
    "df2.shape"
   ]
  },
  {
   "cell_type": "code",
   "execution_count": 90,
   "metadata": {},
   "outputs": [
    {
     "output_type": "execute_result",
     "data": {
      "text/plain": [
       "(28, 4)"
      ]
     },
     "metadata": {},
     "execution_count": 90
    }
   ],
   "source": [
    "X = df2[['bathrooms','bedrooms','carspaces','landArea']]\n",
    "X.head()"
   ]
  },
  {
   "cell_type": "code",
   "execution_count": 94,
   "metadata": {},
   "outputs": [
    {
     "output_type": "execute_result",
     "data": {
      "text/plain": [
       "27"
      ]
     },
     "metadata": {},
     "execution_count": 94
    }
   ],
   "source": [
    "df2['Price (estimated)'] = np.expm1(model_lasso.predict(X))\n",
    "df2['Price (estimated)'] = df2['Price (estimated)'].astype(int)\n",
    "len(df2['Price (estimated)'].round(0).unique())"
   ]
  },
  {
   "cell_type": "code",
   "execution_count": 93,
   "metadata": {},
   "outputs": [
    {
     "output_type": "execute_result",
     "data": {
      "text/plain": [
       "   state  \\\n",
       "0   NSW    \n",
       "1   NSW    \n",
       "2   NSW    \n",
       "3   NSW    \n",
       "4   NSW    \n",
       "5   NSW    \n",
       "6   NSW    \n",
       "7   NSW    \n",
       "8   NSW    \n",
       "9   NSW    \n",
       "10  NSW    \n",
       "11  NSW    \n",
       "12  NSW    \n",
       "13  NSW    \n",
       "14  NSW    \n",
       "15  NSW    \n",
       "16  NSW    \n",
       "17  NSW    \n",
       "18  NSW    \n",
       "19  NSW    \n",
       "20  NSW    \n",
       "21  NSW    \n",
       "22  NSW    \n",
       "23  NSW    \n",
       "24  NSW    \n",
       "25  NSW    \n",
       "26  NSW    \n",
       "27  NSW    \n",
       "\n",
       "                                                                                                                                                   features  \\\n",
       "0   ['Ensuite', 'Gas', 'SecureParking', 'Heating']                                                                                                            \n",
       "1   ['AirConditioning', 'BuiltInWardrobes', 'Ensuite', 'Gas', 'SecureParking', 'BroadbandInternetAccess', 'Heating', 'Dishwasher', 'Shed']                    \n",
       "2   ['BuiltInWardrobes', 'Ensuite', 'Floorboards', 'Gas', 'SecureParking', 'SwimmingPool', 'Bath', 'Heating', 'Dishwasher', 'Study', 'Shed', 'FullyFenced']   \n",
       "3   ['AirConditioning', 'BuiltInWardrobes', 'Ensuite', 'SecureParking', 'SwimmingPool', 'Heating', 'Study']                                                   \n",
       "4   ['Ensuite', 'Gas', 'SecureParking', 'SwimmingPool', 'Gym', 'Heating', 'Shed', 'DoubleGlazedWindows', 'SolarPanels']                                       \n",
       "5   ['Ensuite', 'Gas', 'SecureParking', 'Heating']                                                                                                            \n",
       "6   ['BuiltInWardrobes', 'Ensuite', 'Gas', 'SecureParking', 'Bath', 'Heating', 'Dishwasher', 'Study', 'Shed', 'FullyFenced', 'SolarPanels']                   \n",
       "7   ['Ensuite', 'Gas', 'SecureParking', 'SwimmingPool', 'Heating']                                                                                            \n",
       "8   ['Ensuite', 'Gas', 'SecureParking', 'Bath', 'Heating', 'Dishwasher']                                                                                      \n",
       "9   ['Ensuite', 'Gas', 'SecureParking', 'Heating', 'SolarPanels']                                                                                             \n",
       "10  ['Ensuite', 'Gas', 'Dishwasher', 'Study']                                                                                                                 \n",
       "11  ['BuiltInWardrobes', 'Ensuite', 'Floorboards', 'Gas', 'SecureParking', 'Bath', 'Heating', 'Dishwasher', 'Study', 'FullyFenced', 'SolarPanels']            \n",
       "12  ['Ensuite', 'Gas', 'SecureParking', 'Heating']                                                                                                            \n",
       "13  ['AirConditioning', 'Ensuite', 'Gas', 'SecureParking', 'Bath', 'Heating', 'Dishwasher', 'Shed']                                                           \n",
       "14  ['BuiltInWardrobes', 'CableOrSatellite', 'Ensuite', 'Gas', 'SecureParking', 'Bath', 'Heating', 'Dishwasher', 'FullyFenced']                               \n",
       "15  ['Ensuite', 'Gas', 'SecureParking', 'NorthFacing', 'Heating']                                                                                             \n",
       "16  ['Ensuite', 'Gas', 'SwimmingPool', 'Heating', 'Dishwasher']                                                                                               \n",
       "17  ['AirConditioning', 'BuiltInWardrobes', 'Gas', 'SecureParking', 'Bath', 'Heating', 'Shed']                                                                \n",
       "18  ['Ensuite', 'Gas', 'SecureParking', 'Heating', 'Shed']                                                                                                    \n",
       "19  ['Ensuite', 'Gas', 'SecureParking', 'Heating', 'Study']                                                                                                   \n",
       "20  ['Ensuite', 'SecureParking', 'SwimmingPool', 'Shed']                                                                                                      \n",
       "21  ['AirConditioning', 'Ensuite', 'Gas', 'Heating', 'Study', 'Shed']                                                                                         \n",
       "22  ['Dishwasher', 'Shed']                                                                                                                                    \n",
       "23  ['AirConditioning', 'BuiltInWardrobes', 'Ensuite', 'SwimmingPool', 'Heating']                                                                             \n",
       "24  ['Ensuite', 'Gas', 'SecureParking', 'Heating']                                                                                                            \n",
       "25  ['Ensuite', 'Floorboards', 'Gas', 'SecureParking', 'Heating', 'Dishwasher', 'Shed']                                                                       \n",
       "26  ['AirConditioning', 'BuiltInWardrobes', 'Ensuite', 'Heating', 'Dishwasher', 'FullyFenced']                                                                \n",
       "27  ['BuiltInWardrobes', 'Floorboards', 'Gas', 'SecureParking', 'Heating', 'Dishwasher', 'Study', 'FullyFenced']                                              \n",
       "\n",
       "   propertyType  bathrooms  bedrooms  carspaces  unitNumber  streetNumber  \\\n",
       "0   House        2          4         2         NaN          2              \n",
       "1   House        2          4         2         NaN          10             \n",
       "2   House        2          4         3         NaN          15             \n",
       "3   House        2          4         2         NaN          20             \n",
       "4   House        2          4         2         NaN          103            \n",
       "5   House        2          4         2         NaN          36             \n",
       "6   House        2          4         3         NaN          101            \n",
       "7   House        2          5         3         NaN          43             \n",
       "8   House        2          4         2         NaN          57             \n",
       "9   House        2          4         2         NaN          90             \n",
       "10  House        2          4         2         NaN          10             \n",
       "11  House        2          3         2         NaN          92             \n",
       "12  House        2          4         2         NaN          18             \n",
       "13  House        2          4         4         NaN          10             \n",
       "14  House        2          4         2         NaN          181            \n",
       "15  House        2          4         2         NaN          11             \n",
       "16  House        1          3         2         NaN          2              \n",
       "17  House        1          3         2         NaN          92             \n",
       "18  House        2          4         2         NaN          48             \n",
       "19  House        2          4         2         NaN          116            \n",
       "20  House        2          3         2         NaN          33             \n",
       "21  House        1          3         2         NaN          13             \n",
       "22  House        1          3         1         NaN          37             \n",
       "23  House        2          5         3         NaN          12             \n",
       "24  House        2          4         2         NaN          9              \n",
       "25  House        2          4         2         NaN          14             \n",
       "26  House        2          4         2         NaN          10             \n",
       "27  House        2          4         2         NaN          18             \n",
       "\n",
       "                  street                     area        region     suburb  \\\n",
       "0   Sturt  Place          Albury - Greater Region  Regional NSW  THURGOONA   \n",
       "1   Lindisfarne Court     Albury - Greater Region  Regional NSW  THURGOONA   \n",
       "2   Gale Court            Albury - Greater Region  Regional NSW  THURGOONA   \n",
       "3   Whittler Road         Albury - Greater Region  Regional NSW  THURGOONA   \n",
       "4   Forest Drive          Albury - Greater Region  Regional NSW  THURGOONA   \n",
       "5   Stockman Circuit      Albury - Greater Region  Regional NSW  THURGOONA   \n",
       "6   Forest Drive          Albury - Greater Region  Regional NSW  THURGOONA   \n",
       "7   Hartigan Street       Albury - Greater Region  Regional NSW  THURGOONA   \n",
       "8   Fairway Gardens Road  Albury - Greater Region  Regional NSW  THURGOONA   \n",
       "9   Honeyeater Circuit    Albury - Greater Region  Regional NSW  THURGOONA   \n",
       "10  Baw Baw Street        Albury - Greater Region  Regional NSW  THURGOONA   \n",
       "11  Pickworth Street      Albury - Greater Region  Regional NSW  THURGOONA   \n",
       "12  Cassinia  Court       Albury - Greater Region  Regional NSW  THURGOONA   \n",
       "13  Bullfrog Court        Albury - Greater Region  Regional NSW  THURGOONA   \n",
       "14  Ava Avenue            Albury - Greater Region  Regional NSW  THURGOONA   \n",
       "15  Belah Court           Albury - Greater Region  Regional NSW  THURGOONA   \n",
       "16  Hotham Circuit        Albury - Greater Region  Regional NSW  THURGOONA   \n",
       "17  Feathertop Circuit    Albury - Greater Region  Regional NSW  THURGOONA   \n",
       "18  Norman Way            Albury - Greater Region  Regional NSW  THURGOONA   \n",
       "19  Dryandra Way          Albury - Greater Region  Regional NSW  THURGOONA   \n",
       "20  Honeysuckle Street    Albury - Greater Region  Regional NSW  THURGOONA   \n",
       "21  Lacebark Court        Albury - Greater Region  Regional NSW  THURGOONA   \n",
       "22  Hotham Cct            Albury - Greater Region  Regional NSW  THURGOONA   \n",
       "23  Winnell  Court        Albury - Greater Region  Regional NSW  THURGOONA   \n",
       "24  Firetail Street       Albury - Greater Region  Regional NSW  THURGOONA   \n",
       "25  Quandong Road         Albury - Greater Region  Regional NSW  THURGOONA   \n",
       "26  Cremin Court          Albury - Greater Region  Regional NSW  THURGOONA   \n",
       "27  Zeil Circuit          Albury - Greater Region  Regional NSW  THURGOONA   \n",
       "\n",
       "    postcode                  displayableAddress   latitude   longitude  \\\n",
       "0   2640      2 Sturt  Place, Thurgoona          -36.018143  147.015686   \n",
       "1   2640      10 Lindisfarne Court, Thurgoona    -36.054200  146.997559   \n",
       "2   2640      15 Gale Court, Thurgoona           -36.039530  147.003021   \n",
       "3   2640      20 Whittler Road, Thurgoona        -36.025080  146.985428   \n",
       "4   2640      103 Forest Drive, Thurgoona        -36.046596  147.008224   \n",
       "5   2640      36 Stockman Circuit, Thurgoona     -36.055607  147.010635   \n",
       "6   2640      101 Forest Drive, Thurgoona        -36.046730  147.008667   \n",
       "7   2640      43 Hartigan Street, Thurgoona      -36.041466  146.986160   \n",
       "8   2640      57 Fairway Gardens Road, Thurgoona -36.044422  147.007141   \n",
       "9   2640      90 Honeyeater Circuit, Thurgoona   -36.037678  146.980591   \n",
       "10  2640      10 Baw Baw Street, Thurgoona       -36.052055  146.985580   \n",
       "11  2640      92 Pickworth Street, Thurgoona     -36.051174  147.007965   \n",
       "12  2640      18 Cassinia  Court, Thurgoona      -36.053780  146.976900   \n",
       "13  2640      10 Bullfrog Court, Thurgoona       -36.038013  146.982590   \n",
       "14  2640      181 Ava Avenue, Thurgoona          -36.034260  146.978134   \n",
       "15  2640      11 Belah Court, Thurgoona          -36.051617  146.977753   \n",
       "16  2640      2 Hotham Circuit, Thurgoona        -36.048830  146.989990   \n",
       "17  2640      92 Feathertop Circuit, Thurgoona   -36.051900  146.989500   \n",
       "18  2640      48 Norman Way, Thurgoona           -36.044740  147.003500   \n",
       "19  2640      116 Dryandra Way, Thurgoona        -36.052900  146.976440   \n",
       "20  2640      33 Honeysuckle Street, Thurgoona   -36.052624  146.977463   \n",
       "21  2640      13 Lacebark Court, Thurgoona       -36.045685  146.978043   \n",
       "22  2640      37 Hotham Cct, Thurgoona           -36.048275  146.991257   \n",
       "23  2640      12 Winnell  Court, Thurgoona       -36.040360  146.982941   \n",
       "24  2640      9 Firetail Street, Thurgoona       -36.037098  146.984116   \n",
       "25  2640      14 Quandong Road, Thurgoona        -36.049366  146.977000   \n",
       "26  2640      10 Cremin Court, Thurgoona         -36.047527  147.008072   \n",
       "27  2640      18 Zeil Circuit, Thurgoona         -36.050000  146.983337   \n",
       "\n",
       "    landArea          id  labels  Price (estimated)  \n",
       "0   808       2016849141 -1       676111             \n",
       "1   721       2016841907  0       652388             \n",
       "2   3093      2016819354  1       1813225            \n",
       "3   665       2016823788 -1       637560             \n",
       "4   1380      2016382640  1       855075             \n",
       "5   925       2016798090  1       709379             \n",
       "6   935       2016816192  1       747628             \n",
       "7   817       2016781446  0       989026             \n",
       "8   758       2016788918  1       662373             \n",
       "9   616       2016829918  0       624863             \n",
       "10  903       2016782387  0       703001             \n",
       "11  508       2016772952  1       430494             \n",
       "12  767       2016794201  0       664825             \n",
       "13  1044      2016823046  0       820624             \n",
       "14  603       2016798322  0       621537             \n",
       "15  651       2016828439  0       633906             \n",
       "16  850       2016806821  0       431448             \n",
       "17  809       2016829309  0       424246             \n",
       "18  819       2016810954  1       679171             \n",
       "19  722       2016722274  0       652656             \n",
       "20  810       2016797009  0       487318             \n",
       "21  715       2016788774  0       408186             \n",
       "22  703       2016760172  0       386985             \n",
       "23  813       2016719511  0       987404             \n",
       "24  594       2016669391  0       619244             \n",
       "25  634       2016645435  0       629497             \n",
       "26  800       2016796775  1       673894             \n",
       "27  594       2016818866  0       619244             "
      ],
      "text/html": "<div>\n<style scoped>\n    .dataframe tbody tr th:only-of-type {\n        vertical-align: middle;\n    }\n\n    .dataframe tbody tr th {\n        vertical-align: top;\n    }\n\n    .dataframe thead th {\n        text-align: right;\n    }\n</style>\n<table border=\"1\" class=\"dataframe\">\n  <thead>\n    <tr style=\"text-align: right;\">\n      <th></th>\n      <th>state</th>\n      <th>features</th>\n      <th>propertyType</th>\n      <th>bathrooms</th>\n      <th>bedrooms</th>\n      <th>carspaces</th>\n      <th>unitNumber</th>\n      <th>streetNumber</th>\n      <th>street</th>\n      <th>area</th>\n      <th>region</th>\n      <th>suburb</th>\n      <th>postcode</th>\n      <th>displayableAddress</th>\n      <th>latitude</th>\n      <th>longitude</th>\n      <th>landArea</th>\n      <th>id</th>\n      <th>labels</th>\n      <th>Price (estimated)</th>\n    </tr>\n  </thead>\n  <tbody>\n    <tr>\n      <th>0</th>\n      <td>NSW</td>\n      <td>['Ensuite', 'Gas', 'SecureParking', 'Heating']</td>\n      <td>House</td>\n      <td>2</td>\n      <td>4</td>\n      <td>2</td>\n      <td>NaN</td>\n      <td>2</td>\n      <td>Sturt  Place</td>\n      <td>Albury - Greater Region</td>\n      <td>Regional NSW</td>\n      <td>THURGOONA</td>\n      <td>2640</td>\n      <td>2 Sturt  Place, Thurgoona</td>\n      <td>-36.018143</td>\n      <td>147.015686</td>\n      <td>808</td>\n      <td>2016849141</td>\n      <td>-1</td>\n      <td>676111</td>\n    </tr>\n    <tr>\n      <th>1</th>\n      <td>NSW</td>\n      <td>['AirConditioning', 'BuiltInWardrobes', 'Ensuite', 'Gas', 'SecureParking', 'BroadbandInternetAccess', 'Heating', 'Dishwasher', 'Shed']</td>\n      <td>House</td>\n      <td>2</td>\n      <td>4</td>\n      <td>2</td>\n      <td>NaN</td>\n      <td>10</td>\n      <td>Lindisfarne Court</td>\n      <td>Albury - Greater Region</td>\n      <td>Regional NSW</td>\n      <td>THURGOONA</td>\n      <td>2640</td>\n      <td>10 Lindisfarne Court, Thurgoona</td>\n      <td>-36.054200</td>\n      <td>146.997559</td>\n      <td>721</td>\n      <td>2016841907</td>\n      <td>0</td>\n      <td>652388</td>\n    </tr>\n    <tr>\n      <th>2</th>\n      <td>NSW</td>\n      <td>['BuiltInWardrobes', 'Ensuite', 'Floorboards', 'Gas', 'SecureParking', 'SwimmingPool', 'Bath', 'Heating', 'Dishwasher', 'Study', 'Shed', 'FullyFenced']</td>\n      <td>House</td>\n      <td>2</td>\n      <td>4</td>\n      <td>3</td>\n      <td>NaN</td>\n      <td>15</td>\n      <td>Gale Court</td>\n      <td>Albury - Greater Region</td>\n      <td>Regional NSW</td>\n      <td>THURGOONA</td>\n      <td>2640</td>\n      <td>15 Gale Court, Thurgoona</td>\n      <td>-36.039530</td>\n      <td>147.003021</td>\n      <td>3093</td>\n      <td>2016819354</td>\n      <td>1</td>\n      <td>1813225</td>\n    </tr>\n    <tr>\n      <th>3</th>\n      <td>NSW</td>\n      <td>['AirConditioning', 'BuiltInWardrobes', 'Ensuite', 'SecureParking', 'SwimmingPool', 'Heating', 'Study']</td>\n      <td>House</td>\n      <td>2</td>\n      <td>4</td>\n      <td>2</td>\n      <td>NaN</td>\n      <td>20</td>\n      <td>Whittler Road</td>\n      <td>Albury - Greater Region</td>\n      <td>Regional NSW</td>\n      <td>THURGOONA</td>\n      <td>2640</td>\n      <td>20 Whittler Road, Thurgoona</td>\n      <td>-36.025080</td>\n      <td>146.985428</td>\n      <td>665</td>\n      <td>2016823788</td>\n      <td>-1</td>\n      <td>637560</td>\n    </tr>\n    <tr>\n      <th>4</th>\n      <td>NSW</td>\n      <td>['Ensuite', 'Gas', 'SecureParking', 'SwimmingPool', 'Gym', 'Heating', 'Shed', 'DoubleGlazedWindows', 'SolarPanels']</td>\n      <td>House</td>\n      <td>2</td>\n      <td>4</td>\n      <td>2</td>\n      <td>NaN</td>\n      <td>103</td>\n      <td>Forest Drive</td>\n      <td>Albury - Greater Region</td>\n      <td>Regional NSW</td>\n      <td>THURGOONA</td>\n      <td>2640</td>\n      <td>103 Forest Drive, Thurgoona</td>\n      <td>-36.046596</td>\n      <td>147.008224</td>\n      <td>1380</td>\n      <td>2016382640</td>\n      <td>1</td>\n      <td>855075</td>\n    </tr>\n    <tr>\n      <th>5</th>\n      <td>NSW</td>\n      <td>['Ensuite', 'Gas', 'SecureParking', 'Heating']</td>\n      <td>House</td>\n      <td>2</td>\n      <td>4</td>\n      <td>2</td>\n      <td>NaN</td>\n      <td>36</td>\n      <td>Stockman Circuit</td>\n      <td>Albury - Greater Region</td>\n      <td>Regional NSW</td>\n      <td>THURGOONA</td>\n      <td>2640</td>\n      <td>36 Stockman Circuit, Thurgoona</td>\n      <td>-36.055607</td>\n      <td>147.010635</td>\n      <td>925</td>\n      <td>2016798090</td>\n      <td>1</td>\n      <td>709379</td>\n    </tr>\n    <tr>\n      <th>6</th>\n      <td>NSW</td>\n      <td>['BuiltInWardrobes', 'Ensuite', 'Gas', 'SecureParking', 'Bath', 'Heating', 'Dishwasher', 'Study', 'Shed', 'FullyFenced', 'SolarPanels']</td>\n      <td>House</td>\n      <td>2</td>\n      <td>4</td>\n      <td>3</td>\n      <td>NaN</td>\n      <td>101</td>\n      <td>Forest Drive</td>\n      <td>Albury - Greater Region</td>\n      <td>Regional NSW</td>\n      <td>THURGOONA</td>\n      <td>2640</td>\n      <td>101 Forest Drive, Thurgoona</td>\n      <td>-36.046730</td>\n      <td>147.008667</td>\n      <td>935</td>\n      <td>2016816192</td>\n      <td>1</td>\n      <td>747628</td>\n    </tr>\n    <tr>\n      <th>7</th>\n      <td>NSW</td>\n      <td>['Ensuite', 'Gas', 'SecureParking', 'SwimmingPool', 'Heating']</td>\n      <td>House</td>\n      <td>2</td>\n      <td>5</td>\n      <td>3</td>\n      <td>NaN</td>\n      <td>43</td>\n      <td>Hartigan Street</td>\n      <td>Albury - Greater Region</td>\n      <td>Regional NSW</td>\n      <td>THURGOONA</td>\n      <td>2640</td>\n      <td>43 Hartigan Street, Thurgoona</td>\n      <td>-36.041466</td>\n      <td>146.986160</td>\n      <td>817</td>\n      <td>2016781446</td>\n      <td>0</td>\n      <td>989026</td>\n    </tr>\n    <tr>\n      <th>8</th>\n      <td>NSW</td>\n      <td>['Ensuite', 'Gas', 'SecureParking', 'Bath', 'Heating', 'Dishwasher']</td>\n      <td>House</td>\n      <td>2</td>\n      <td>4</td>\n      <td>2</td>\n      <td>NaN</td>\n      <td>57</td>\n      <td>Fairway Gardens Road</td>\n      <td>Albury - Greater Region</td>\n      <td>Regional NSW</td>\n      <td>THURGOONA</td>\n      <td>2640</td>\n      <td>57 Fairway Gardens Road, Thurgoona</td>\n      <td>-36.044422</td>\n      <td>147.007141</td>\n      <td>758</td>\n      <td>2016788918</td>\n      <td>1</td>\n      <td>662373</td>\n    </tr>\n    <tr>\n      <th>9</th>\n      <td>NSW</td>\n      <td>['Ensuite', 'Gas', 'SecureParking', 'Heating', 'SolarPanels']</td>\n      <td>House</td>\n      <td>2</td>\n      <td>4</td>\n      <td>2</td>\n      <td>NaN</td>\n      <td>90</td>\n      <td>Honeyeater Circuit</td>\n      <td>Albury - Greater Region</td>\n      <td>Regional NSW</td>\n      <td>THURGOONA</td>\n      <td>2640</td>\n      <td>90 Honeyeater Circuit, Thurgoona</td>\n      <td>-36.037678</td>\n      <td>146.980591</td>\n      <td>616</td>\n      <td>2016829918</td>\n      <td>0</td>\n      <td>624863</td>\n    </tr>\n    <tr>\n      <th>10</th>\n      <td>NSW</td>\n      <td>['Ensuite', 'Gas', 'Dishwasher', 'Study']</td>\n      <td>House</td>\n      <td>2</td>\n      <td>4</td>\n      <td>2</td>\n      <td>NaN</td>\n      <td>10</td>\n      <td>Baw Baw Street</td>\n      <td>Albury - Greater Region</td>\n      <td>Regional NSW</td>\n      <td>THURGOONA</td>\n      <td>2640</td>\n      <td>10 Baw Baw Street, Thurgoona</td>\n      <td>-36.052055</td>\n      <td>146.985580</td>\n      <td>903</td>\n      <td>2016782387</td>\n      <td>0</td>\n      <td>703001</td>\n    </tr>\n    <tr>\n      <th>11</th>\n      <td>NSW</td>\n      <td>['BuiltInWardrobes', 'Ensuite', 'Floorboards', 'Gas', 'SecureParking', 'Bath', 'Heating', 'Dishwasher', 'Study', 'FullyFenced', 'SolarPanels']</td>\n      <td>House</td>\n      <td>2</td>\n      <td>3</td>\n      <td>2</td>\n      <td>NaN</td>\n      <td>92</td>\n      <td>Pickworth Street</td>\n      <td>Albury - Greater Region</td>\n      <td>Regional NSW</td>\n      <td>THURGOONA</td>\n      <td>2640</td>\n      <td>92 Pickworth Street, Thurgoona</td>\n      <td>-36.051174</td>\n      <td>147.007965</td>\n      <td>508</td>\n      <td>2016772952</td>\n      <td>1</td>\n      <td>430494</td>\n    </tr>\n    <tr>\n      <th>12</th>\n      <td>NSW</td>\n      <td>['Ensuite', 'Gas', 'SecureParking', 'Heating']</td>\n      <td>House</td>\n      <td>2</td>\n      <td>4</td>\n      <td>2</td>\n      <td>NaN</td>\n      <td>18</td>\n      <td>Cassinia  Court</td>\n      <td>Albury - Greater Region</td>\n      <td>Regional NSW</td>\n      <td>THURGOONA</td>\n      <td>2640</td>\n      <td>18 Cassinia  Court, Thurgoona</td>\n      <td>-36.053780</td>\n      <td>146.976900</td>\n      <td>767</td>\n      <td>2016794201</td>\n      <td>0</td>\n      <td>664825</td>\n    </tr>\n    <tr>\n      <th>13</th>\n      <td>NSW</td>\n      <td>['AirConditioning', 'Ensuite', 'Gas', 'SecureParking', 'Bath', 'Heating', 'Dishwasher', 'Shed']</td>\n      <td>House</td>\n      <td>2</td>\n      <td>4</td>\n      <td>4</td>\n      <td>NaN</td>\n      <td>10</td>\n      <td>Bullfrog Court</td>\n      <td>Albury - Greater Region</td>\n      <td>Regional NSW</td>\n      <td>THURGOONA</td>\n      <td>2640</td>\n      <td>10 Bullfrog Court, Thurgoona</td>\n      <td>-36.038013</td>\n      <td>146.982590</td>\n      <td>1044</td>\n      <td>2016823046</td>\n      <td>0</td>\n      <td>820624</td>\n    </tr>\n    <tr>\n      <th>14</th>\n      <td>NSW</td>\n      <td>['BuiltInWardrobes', 'CableOrSatellite', 'Ensuite', 'Gas', 'SecureParking', 'Bath', 'Heating', 'Dishwasher', 'FullyFenced']</td>\n      <td>House</td>\n      <td>2</td>\n      <td>4</td>\n      <td>2</td>\n      <td>NaN</td>\n      <td>181</td>\n      <td>Ava Avenue</td>\n      <td>Albury - Greater Region</td>\n      <td>Regional NSW</td>\n      <td>THURGOONA</td>\n      <td>2640</td>\n      <td>181 Ava Avenue, Thurgoona</td>\n      <td>-36.034260</td>\n      <td>146.978134</td>\n      <td>603</td>\n      <td>2016798322</td>\n      <td>0</td>\n      <td>621537</td>\n    </tr>\n    <tr>\n      <th>15</th>\n      <td>NSW</td>\n      <td>['Ensuite', 'Gas', 'SecureParking', 'NorthFacing', 'Heating']</td>\n      <td>House</td>\n      <td>2</td>\n      <td>4</td>\n      <td>2</td>\n      <td>NaN</td>\n      <td>11</td>\n      <td>Belah Court</td>\n      <td>Albury - Greater Region</td>\n      <td>Regional NSW</td>\n      <td>THURGOONA</td>\n      <td>2640</td>\n      <td>11 Belah Court, Thurgoona</td>\n      <td>-36.051617</td>\n      <td>146.977753</td>\n      <td>651</td>\n      <td>2016828439</td>\n      <td>0</td>\n      <td>633906</td>\n    </tr>\n    <tr>\n      <th>16</th>\n      <td>NSW</td>\n      <td>['Ensuite', 'Gas', 'SwimmingPool', 'Heating', 'Dishwasher']</td>\n      <td>House</td>\n      <td>1</td>\n      <td>3</td>\n      <td>2</td>\n      <td>NaN</td>\n      <td>2</td>\n      <td>Hotham Circuit</td>\n      <td>Albury - Greater Region</td>\n      <td>Regional NSW</td>\n      <td>THURGOONA</td>\n      <td>2640</td>\n      <td>2 Hotham Circuit, Thurgoona</td>\n      <td>-36.048830</td>\n      <td>146.989990</td>\n      <td>850</td>\n      <td>2016806821</td>\n      <td>0</td>\n      <td>431448</td>\n    </tr>\n    <tr>\n      <th>17</th>\n      <td>NSW</td>\n      <td>['AirConditioning', 'BuiltInWardrobes', 'Gas', 'SecureParking', 'Bath', 'Heating', 'Shed']</td>\n      <td>House</td>\n      <td>1</td>\n      <td>3</td>\n      <td>2</td>\n      <td>NaN</td>\n      <td>92</td>\n      <td>Feathertop Circuit</td>\n      <td>Albury - Greater Region</td>\n      <td>Regional NSW</td>\n      <td>THURGOONA</td>\n      <td>2640</td>\n      <td>92 Feathertop Circuit, Thurgoona</td>\n      <td>-36.051900</td>\n      <td>146.989500</td>\n      <td>809</td>\n      <td>2016829309</td>\n      <td>0</td>\n      <td>424246</td>\n    </tr>\n    <tr>\n      <th>18</th>\n      <td>NSW</td>\n      <td>['Ensuite', 'Gas', 'SecureParking', 'Heating', 'Shed']</td>\n      <td>House</td>\n      <td>2</td>\n      <td>4</td>\n      <td>2</td>\n      <td>NaN</td>\n      <td>48</td>\n      <td>Norman Way</td>\n      <td>Albury - Greater Region</td>\n      <td>Regional NSW</td>\n      <td>THURGOONA</td>\n      <td>2640</td>\n      <td>48 Norman Way, Thurgoona</td>\n      <td>-36.044740</td>\n      <td>147.003500</td>\n      <td>819</td>\n      <td>2016810954</td>\n      <td>1</td>\n      <td>679171</td>\n    </tr>\n    <tr>\n      <th>19</th>\n      <td>NSW</td>\n      <td>['Ensuite', 'Gas', 'SecureParking', 'Heating', 'Study']</td>\n      <td>House</td>\n      <td>2</td>\n      <td>4</td>\n      <td>2</td>\n      <td>NaN</td>\n      <td>116</td>\n      <td>Dryandra Way</td>\n      <td>Albury - Greater Region</td>\n      <td>Regional NSW</td>\n      <td>THURGOONA</td>\n      <td>2640</td>\n      <td>116 Dryandra Way, Thurgoona</td>\n      <td>-36.052900</td>\n      <td>146.976440</td>\n      <td>722</td>\n      <td>2016722274</td>\n      <td>0</td>\n      <td>652656</td>\n    </tr>\n    <tr>\n      <th>20</th>\n      <td>NSW</td>\n      <td>['Ensuite', 'SecureParking', 'SwimmingPool', 'Shed']</td>\n      <td>House</td>\n      <td>2</td>\n      <td>3</td>\n      <td>2</td>\n      <td>NaN</td>\n      <td>33</td>\n      <td>Honeysuckle Street</td>\n      <td>Albury - Greater Region</td>\n      <td>Regional NSW</td>\n      <td>THURGOONA</td>\n      <td>2640</td>\n      <td>33 Honeysuckle Street, Thurgoona</td>\n      <td>-36.052624</td>\n      <td>146.977463</td>\n      <td>810</td>\n      <td>2016797009</td>\n      <td>0</td>\n      <td>487318</td>\n    </tr>\n    <tr>\n      <th>21</th>\n      <td>NSW</td>\n      <td>['AirConditioning', 'Ensuite', 'Gas', 'Heating', 'Study', 'Shed']</td>\n      <td>House</td>\n      <td>1</td>\n      <td>3</td>\n      <td>2</td>\n      <td>NaN</td>\n      <td>13</td>\n      <td>Lacebark Court</td>\n      <td>Albury - Greater Region</td>\n      <td>Regional NSW</td>\n      <td>THURGOONA</td>\n      <td>2640</td>\n      <td>13 Lacebark Court, Thurgoona</td>\n      <td>-36.045685</td>\n      <td>146.978043</td>\n      <td>715</td>\n      <td>2016788774</td>\n      <td>0</td>\n      <td>408186</td>\n    </tr>\n    <tr>\n      <th>22</th>\n      <td>NSW</td>\n      <td>['Dishwasher', 'Shed']</td>\n      <td>House</td>\n      <td>1</td>\n      <td>3</td>\n      <td>1</td>\n      <td>NaN</td>\n      <td>37</td>\n      <td>Hotham Cct</td>\n      <td>Albury - Greater Region</td>\n      <td>Regional NSW</td>\n      <td>THURGOONA</td>\n      <td>2640</td>\n      <td>37 Hotham Cct, Thurgoona</td>\n      <td>-36.048275</td>\n      <td>146.991257</td>\n      <td>703</td>\n      <td>2016760172</td>\n      <td>0</td>\n      <td>386985</td>\n    </tr>\n    <tr>\n      <th>23</th>\n      <td>NSW</td>\n      <td>['AirConditioning', 'BuiltInWardrobes', 'Ensuite', 'SwimmingPool', 'Heating']</td>\n      <td>House</td>\n      <td>2</td>\n      <td>5</td>\n      <td>3</td>\n      <td>NaN</td>\n      <td>12</td>\n      <td>Winnell  Court</td>\n      <td>Albury - Greater Region</td>\n      <td>Regional NSW</td>\n      <td>THURGOONA</td>\n      <td>2640</td>\n      <td>12 Winnell  Court, Thurgoona</td>\n      <td>-36.040360</td>\n      <td>146.982941</td>\n      <td>813</td>\n      <td>2016719511</td>\n      <td>0</td>\n      <td>987404</td>\n    </tr>\n    <tr>\n      <th>24</th>\n      <td>NSW</td>\n      <td>['Ensuite', 'Gas', 'SecureParking', 'Heating']</td>\n      <td>House</td>\n      <td>2</td>\n      <td>4</td>\n      <td>2</td>\n      <td>NaN</td>\n      <td>9</td>\n      <td>Firetail Street</td>\n      <td>Albury - Greater Region</td>\n      <td>Regional NSW</td>\n      <td>THURGOONA</td>\n      <td>2640</td>\n      <td>9 Firetail Street, Thurgoona</td>\n      <td>-36.037098</td>\n      <td>146.984116</td>\n      <td>594</td>\n      <td>2016669391</td>\n      <td>0</td>\n      <td>619244</td>\n    </tr>\n    <tr>\n      <th>25</th>\n      <td>NSW</td>\n      <td>['Ensuite', 'Floorboards', 'Gas', 'SecureParking', 'Heating', 'Dishwasher', 'Shed']</td>\n      <td>House</td>\n      <td>2</td>\n      <td>4</td>\n      <td>2</td>\n      <td>NaN</td>\n      <td>14</td>\n      <td>Quandong Road</td>\n      <td>Albury - Greater Region</td>\n      <td>Regional NSW</td>\n      <td>THURGOONA</td>\n      <td>2640</td>\n      <td>14 Quandong Road, Thurgoona</td>\n      <td>-36.049366</td>\n      <td>146.977000</td>\n      <td>634</td>\n      <td>2016645435</td>\n      <td>0</td>\n      <td>629497</td>\n    </tr>\n    <tr>\n      <th>26</th>\n      <td>NSW</td>\n      <td>['AirConditioning', 'BuiltInWardrobes', 'Ensuite', 'Heating', 'Dishwasher', 'FullyFenced']</td>\n      <td>House</td>\n      <td>2</td>\n      <td>4</td>\n      <td>2</td>\n      <td>NaN</td>\n      <td>10</td>\n      <td>Cremin Court</td>\n      <td>Albury - Greater Region</td>\n      <td>Regional NSW</td>\n      <td>THURGOONA</td>\n      <td>2640</td>\n      <td>10 Cremin Court, Thurgoona</td>\n      <td>-36.047527</td>\n      <td>147.008072</td>\n      <td>800</td>\n      <td>2016796775</td>\n      <td>1</td>\n      <td>673894</td>\n    </tr>\n    <tr>\n      <th>27</th>\n      <td>NSW</td>\n      <td>['BuiltInWardrobes', 'Floorboards', 'Gas', 'SecureParking', 'Heating', 'Dishwasher', 'Study', 'FullyFenced']</td>\n      <td>House</td>\n      <td>2</td>\n      <td>4</td>\n      <td>2</td>\n      <td>NaN</td>\n      <td>18</td>\n      <td>Zeil Circuit</td>\n      <td>Albury - Greater Region</td>\n      <td>Regional NSW</td>\n      <td>THURGOONA</td>\n      <td>2640</td>\n      <td>18 Zeil Circuit, Thurgoona</td>\n      <td>-36.050000</td>\n      <td>146.983337</td>\n      <td>594</td>\n      <td>2016818866</td>\n      <td>0</td>\n      <td>619244</td>\n    </tr>\n  </tbody>\n</table>\n</div>"
     },
     "metadata": {},
     "execution_count": 93
    }
   ],
   "source": [
    "df2.head()"
   ]
  },
  {
   "cell_type": "code",
   "execution_count": 98,
   "metadata": {},
   "outputs": [
    {
     "output_type": "display_data",
     "data": {
      "application/vnd.plotly.v1+json": {
       "config": {
        "plotlyServerURL": "https://plot.ly"
       },
       "data": [
        {
         "customdata": [
          [
           "House",
           4,
           2,
           "2 Sturt  Place, Thurgoona"
          ],
          [
           "House",
           4,
           2,
           "10 Lindisfarne Court, Thurgoona"
          ],
          [
           "House",
           4,
           2,
           "15 Gale Court, Thurgoona"
          ],
          [
           "House",
           4,
           2,
           "20 Whittler Road, Thurgoona"
          ],
          [
           "House",
           4,
           2,
           "103 Forest Drive, Thurgoona"
          ],
          [
           "House",
           4,
           2,
           "36 Stockman Circuit, Thurgoona"
          ],
          [
           "House",
           4,
           2,
           "101 Forest Drive, Thurgoona"
          ],
          [
           "House",
           5,
           2,
           "43 Hartigan Street, Thurgoona"
          ],
          [
           "House",
           4,
           2,
           "57 Fairway Gardens Road, Thurgoona"
          ],
          [
           "House",
           4,
           2,
           "90 Honeyeater Circuit, Thurgoona"
          ],
          [
           "House",
           4,
           2,
           "10 Baw Baw Street, Thurgoona"
          ],
          [
           "House",
           3,
           2,
           "92 Pickworth Street, Thurgoona"
          ],
          [
           "House",
           4,
           2,
           "18 Cassinia  Court, Thurgoona"
          ],
          [
           "House",
           4,
           2,
           "10 Bullfrog Court, Thurgoona"
          ],
          [
           "House",
           4,
           2,
           "181 Ava Avenue, Thurgoona"
          ],
          [
           "House",
           4,
           2,
           "11 Belah Court, Thurgoona"
          ],
          [
           "House",
           3,
           1,
           "2 Hotham Circuit, Thurgoona"
          ],
          [
           "House",
           3,
           1,
           "92 Feathertop Circuit, Thurgoona"
          ],
          [
           "House",
           4,
           2,
           "48 Norman Way, Thurgoona"
          ],
          [
           "House",
           4,
           2,
           "116 Dryandra Way, Thurgoona"
          ],
          [
           "House",
           3,
           2,
           "33 Honeysuckle Street, Thurgoona"
          ],
          [
           "House",
           3,
           1,
           "13 Lacebark Court, Thurgoona"
          ],
          [
           "House",
           3,
           1,
           "37 Hotham Cct, Thurgoona"
          ],
          [
           "House",
           5,
           2,
           "12 Winnell  Court, Thurgoona"
          ],
          [
           "House",
           4,
           2,
           "9 Firetail Street, Thurgoona"
          ],
          [
           "House",
           4,
           2,
           "14 Quandong Road, Thurgoona"
          ],
          [
           "House",
           4,
           2,
           "10 Cremin Court, Thurgoona"
          ],
          [
           "House",
           4,
           2,
           "18 Zeil Circuit, Thurgoona"
          ]
         ],
         "hovertemplate": "<b>%{hovertext}</b><br><br>landArea=%{marker.size}<br>latitude=%{lat}<br>longitude=%{lon}<br>propertyType=%{customdata[0]}<br>bedrooms=%{customdata[1]}<br>bathrooms=%{customdata[2]}<br>displayableAddress=%{customdata[3]}<br>Price (estimated)=%{marker.color}<extra></extra>",
         "hovertext": [
          2016849141,
          2016841907,
          2016819354,
          2016823788,
          2016382640,
          2016798090,
          2016816192,
          2016781446,
          2016788918,
          2016829918,
          2016782387,
          2016772952,
          2016794201,
          2016823046,
          2016798322,
          2016828439,
          2016806821,
          2016829309,
          2016810954,
          2016722274,
          2016797009,
          2016788774,
          2016760172,
          2016719511,
          2016669391,
          2016645435,
          2016796775,
          2016818866
         ],
         "lat": [
          -36.018142700000006,
          -36.0542,
          -36.03953,
          -36.025079999999996,
          -36.0465965,
          -36.0556068,
          -36.04673,
          -36.0414658,
          -36.0444221,
          -36.0376778,
          -36.0520554,
          -36.051174200000005,
          -36.053779999999996,
          -36.0380135,
          -36.034259999999996,
          -36.051616700000004,
          -36.04883,
          -36.0519,
          -36.044740000000004,
          -36.0529,
          -36.052623700000005,
          -36.0456848,
          -36.048275,
          -36.04036,
          -36.0370979,
          -36.049366,
          -36.0475273,
          -36.05
         ],
         "legendgroup": "",
         "lon": [
          147.01568600000002,
          146.997559,
          147.003021,
          146.985428,
          147.008224,
          147.010635,
          147.008667,
          146.98616,
          147.007141,
          146.980591,
          146.98558,
          147.00796499999998,
          146.9769,
          146.98259,
          146.978134,
          146.977753,
          146.98998999999998,
          146.9895,
          147.0035,
          146.97644,
          146.977463,
          146.97804299999999,
          146.99125700000002,
          146.98294099999998,
          146.984116,
          146.977,
          147.008072,
          146.983337
         ],
         "marker": {
          "color": [
           676111,
           652388,
           1813225,
           637560,
           855075,
           709379,
           747628,
           989026,
           662373,
           624863,
           703001,
           430494,
           664825,
           820624,
           621537,
           633906,
           431448,
           424246,
           679171,
           652656,
           487318,
           408186,
           386985,
           987404,
           619244,
           629497,
           673894,
           619244
          ],
          "coloraxis": "coloraxis",
          "size": [
           808,
           721,
           3093,
           665,
           1380,
           925,
           935,
           817,
           758,
           616,
           903,
           508,
           767,
           1044,
           603,
           651,
           850,
           809,
           819,
           722,
           810,
           715,
           703,
           813,
           594,
           634,
           800,
           594
          ],
          "sizemode": "area",
          "sizeref": 7.7325
         },
         "mode": "markers",
         "name": "",
         "showlegend": false,
         "subplot": "mapbox",
         "type": "scattermapbox"
        }
       ],
       "layout": {
        "coloraxis": {
         "colorbar": {
          "title": {
           "text": "Price (estimated)"
          }
         },
         "colorscale": [
          [
           0,
           "#0d0887"
          ],
          [
           0.1111111111111111,
           "#46039f"
          ],
          [
           0.2222222222222222,
           "#7201a8"
          ],
          [
           0.3333333333333333,
           "#9c179e"
          ],
          [
           0.4444444444444444,
           "#bd3786"
          ],
          [
           0.5555555555555556,
           "#d8576b"
          ],
          [
           0.6666666666666666,
           "#ed7953"
          ],
          [
           0.7777777777777778,
           "#fb9f3a"
          ],
          [
           0.8888888888888888,
           "#fdca26"
          ],
          [
           1,
           "#f0f921"
          ]
         ]
        },
        "height": 600,
        "legend": {
         "itemsizing": "constant",
         "tracegroupgap": 0
        },
        "mapbox": {
         "center": {
          "lat": -36.04498772142857,
          "lon": 146.9912033214286
         },
         "domain": {
          "x": [
           0,
           1
          ],
          "y": [
           0,
           1
          ]
         },
         "style": "open-street-map",
         "zoom": 15
        },
        "margin": {
         "b": 0,
         "l": 0,
         "r": 0,
         "t": 0
        },
        "template": {
         "data": {
          "bar": [
           {
            "error_x": {
             "color": "#2a3f5f"
            },
            "error_y": {
             "color": "#2a3f5f"
            },
            "marker": {
             "line": {
              "color": "#E5ECF6",
              "width": 0.5
             }
            },
            "type": "bar"
           }
          ],
          "barpolar": [
           {
            "marker": {
             "line": {
              "color": "#E5ECF6",
              "width": 0.5
             }
            },
            "type": "barpolar"
           }
          ],
          "carpet": [
           {
            "aaxis": {
             "endlinecolor": "#2a3f5f",
             "gridcolor": "white",
             "linecolor": "white",
             "minorgridcolor": "white",
             "startlinecolor": "#2a3f5f"
            },
            "baxis": {
             "endlinecolor": "#2a3f5f",
             "gridcolor": "white",
             "linecolor": "white",
             "minorgridcolor": "white",
             "startlinecolor": "#2a3f5f"
            },
            "type": "carpet"
           }
          ],
          "choropleth": [
           {
            "colorbar": {
             "outlinewidth": 0,
             "ticks": ""
            },
            "type": "choropleth"
           }
          ],
          "contour": [
           {
            "colorbar": {
             "outlinewidth": 0,
             "ticks": ""
            },
            "colorscale": [
             [
              0,
              "#0d0887"
             ],
             [
              0.1111111111111111,
              "#46039f"
             ],
             [
              0.2222222222222222,
              "#7201a8"
             ],
             [
              0.3333333333333333,
              "#9c179e"
             ],
             [
              0.4444444444444444,
              "#bd3786"
             ],
             [
              0.5555555555555556,
              "#d8576b"
             ],
             [
              0.6666666666666666,
              "#ed7953"
             ],
             [
              0.7777777777777778,
              "#fb9f3a"
             ],
             [
              0.8888888888888888,
              "#fdca26"
             ],
             [
              1,
              "#f0f921"
             ]
            ],
            "type": "contour"
           }
          ],
          "contourcarpet": [
           {
            "colorbar": {
             "outlinewidth": 0,
             "ticks": ""
            },
            "type": "contourcarpet"
           }
          ],
          "heatmap": [
           {
            "colorbar": {
             "outlinewidth": 0,
             "ticks": ""
            },
            "colorscale": [
             [
              0,
              "#0d0887"
             ],
             [
              0.1111111111111111,
              "#46039f"
             ],
             [
              0.2222222222222222,
              "#7201a8"
             ],
             [
              0.3333333333333333,
              "#9c179e"
             ],
             [
              0.4444444444444444,
              "#bd3786"
             ],
             [
              0.5555555555555556,
              "#d8576b"
             ],
             [
              0.6666666666666666,
              "#ed7953"
             ],
             [
              0.7777777777777778,
              "#fb9f3a"
             ],
             [
              0.8888888888888888,
              "#fdca26"
             ],
             [
              1,
              "#f0f921"
             ]
            ],
            "type": "heatmap"
           }
          ],
          "heatmapgl": [
           {
            "colorbar": {
             "outlinewidth": 0,
             "ticks": ""
            },
            "colorscale": [
             [
              0,
              "#0d0887"
             ],
             [
              0.1111111111111111,
              "#46039f"
             ],
             [
              0.2222222222222222,
              "#7201a8"
             ],
             [
              0.3333333333333333,
              "#9c179e"
             ],
             [
              0.4444444444444444,
              "#bd3786"
             ],
             [
              0.5555555555555556,
              "#d8576b"
             ],
             [
              0.6666666666666666,
              "#ed7953"
             ],
             [
              0.7777777777777778,
              "#fb9f3a"
             ],
             [
              0.8888888888888888,
              "#fdca26"
             ],
             [
              1,
              "#f0f921"
             ]
            ],
            "type": "heatmapgl"
           }
          ],
          "histogram": [
           {
            "marker": {
             "colorbar": {
              "outlinewidth": 0,
              "ticks": ""
             }
            },
            "type": "histogram"
           }
          ],
          "histogram2d": [
           {
            "colorbar": {
             "outlinewidth": 0,
             "ticks": ""
            },
            "colorscale": [
             [
              0,
              "#0d0887"
             ],
             [
              0.1111111111111111,
              "#46039f"
             ],
             [
              0.2222222222222222,
              "#7201a8"
             ],
             [
              0.3333333333333333,
              "#9c179e"
             ],
             [
              0.4444444444444444,
              "#bd3786"
             ],
             [
              0.5555555555555556,
              "#d8576b"
             ],
             [
              0.6666666666666666,
              "#ed7953"
             ],
             [
              0.7777777777777778,
              "#fb9f3a"
             ],
             [
              0.8888888888888888,
              "#fdca26"
             ],
             [
              1,
              "#f0f921"
             ]
            ],
            "type": "histogram2d"
           }
          ],
          "histogram2dcontour": [
           {
            "colorbar": {
             "outlinewidth": 0,
             "ticks": ""
            },
            "colorscale": [
             [
              0,
              "#0d0887"
             ],
             [
              0.1111111111111111,
              "#46039f"
             ],
             [
              0.2222222222222222,
              "#7201a8"
             ],
             [
              0.3333333333333333,
              "#9c179e"
             ],
             [
              0.4444444444444444,
              "#bd3786"
             ],
             [
              0.5555555555555556,
              "#d8576b"
             ],
             [
              0.6666666666666666,
              "#ed7953"
             ],
             [
              0.7777777777777778,
              "#fb9f3a"
             ],
             [
              0.8888888888888888,
              "#fdca26"
             ],
             [
              1,
              "#f0f921"
             ]
            ],
            "type": "histogram2dcontour"
           }
          ],
          "mesh3d": [
           {
            "colorbar": {
             "outlinewidth": 0,
             "ticks": ""
            },
            "type": "mesh3d"
           }
          ],
          "parcoords": [
           {
            "line": {
             "colorbar": {
              "outlinewidth": 0,
              "ticks": ""
             }
            },
            "type": "parcoords"
           }
          ],
          "pie": [
           {
            "automargin": true,
            "type": "pie"
           }
          ],
          "scatter": [
           {
            "marker": {
             "colorbar": {
              "outlinewidth": 0,
              "ticks": ""
             }
            },
            "type": "scatter"
           }
          ],
          "scatter3d": [
           {
            "line": {
             "colorbar": {
              "outlinewidth": 0,
              "ticks": ""
             }
            },
            "marker": {
             "colorbar": {
              "outlinewidth": 0,
              "ticks": ""
             }
            },
            "type": "scatter3d"
           }
          ],
          "scattercarpet": [
           {
            "marker": {
             "colorbar": {
              "outlinewidth": 0,
              "ticks": ""
             }
            },
            "type": "scattercarpet"
           }
          ],
          "scattergeo": [
           {
            "marker": {
             "colorbar": {
              "outlinewidth": 0,
              "ticks": ""
             }
            },
            "type": "scattergeo"
           }
          ],
          "scattergl": [
           {
            "marker": {
             "colorbar": {
              "outlinewidth": 0,
              "ticks": ""
             }
            },
            "type": "scattergl"
           }
          ],
          "scattermapbox": [
           {
            "marker": {
             "colorbar": {
              "outlinewidth": 0,
              "ticks": ""
             }
            },
            "type": "scattermapbox"
           }
          ],
          "scatterpolar": [
           {
            "marker": {
             "colorbar": {
              "outlinewidth": 0,
              "ticks": ""
             }
            },
            "type": "scatterpolar"
           }
          ],
          "scatterpolargl": [
           {
            "marker": {
             "colorbar": {
              "outlinewidth": 0,
              "ticks": ""
             }
            },
            "type": "scatterpolargl"
           }
          ],
          "scatterternary": [
           {
            "marker": {
             "colorbar": {
              "outlinewidth": 0,
              "ticks": ""
             }
            },
            "type": "scatterternary"
           }
          ],
          "surface": [
           {
            "colorbar": {
             "outlinewidth": 0,
             "ticks": ""
            },
            "colorscale": [
             [
              0,
              "#0d0887"
             ],
             [
              0.1111111111111111,
              "#46039f"
             ],
             [
              0.2222222222222222,
              "#7201a8"
             ],
             [
              0.3333333333333333,
              "#9c179e"
             ],
             [
              0.4444444444444444,
              "#bd3786"
             ],
             [
              0.5555555555555556,
              "#d8576b"
             ],
             [
              0.6666666666666666,
              "#ed7953"
             ],
             [
              0.7777777777777778,
              "#fb9f3a"
             ],
             [
              0.8888888888888888,
              "#fdca26"
             ],
             [
              1,
              "#f0f921"
             ]
            ],
            "type": "surface"
           }
          ],
          "table": [
           {
            "cells": {
             "fill": {
              "color": "#EBF0F8"
             },
             "line": {
              "color": "white"
             }
            },
            "header": {
             "fill": {
              "color": "#C8D4E3"
             },
             "line": {
              "color": "white"
             }
            },
            "type": "table"
           }
          ]
         },
         "layout": {
          "annotationdefaults": {
           "arrowcolor": "#2a3f5f",
           "arrowhead": 0,
           "arrowwidth": 1
          },
          "autotypenumbers": "strict",
          "coloraxis": {
           "colorbar": {
            "outlinewidth": 0,
            "ticks": ""
           }
          },
          "colorscale": {
           "diverging": [
            [
             0,
             "#8e0152"
            ],
            [
             0.1,
             "#c51b7d"
            ],
            [
             0.2,
             "#de77ae"
            ],
            [
             0.3,
             "#f1b6da"
            ],
            [
             0.4,
             "#fde0ef"
            ],
            [
             0.5,
             "#f7f7f7"
            ],
            [
             0.6,
             "#e6f5d0"
            ],
            [
             0.7,
             "#b8e186"
            ],
            [
             0.8,
             "#7fbc41"
            ],
            [
             0.9,
             "#4d9221"
            ],
            [
             1,
             "#276419"
            ]
           ],
           "sequential": [
            [
             0,
             "#0d0887"
            ],
            [
             0.1111111111111111,
             "#46039f"
            ],
            [
             0.2222222222222222,
             "#7201a8"
            ],
            [
             0.3333333333333333,
             "#9c179e"
            ],
            [
             0.4444444444444444,
             "#bd3786"
            ],
            [
             0.5555555555555556,
             "#d8576b"
            ],
            [
             0.6666666666666666,
             "#ed7953"
            ],
            [
             0.7777777777777778,
             "#fb9f3a"
            ],
            [
             0.8888888888888888,
             "#fdca26"
            ],
            [
             1,
             "#f0f921"
            ]
           ],
           "sequentialminus": [
            [
             0,
             "#0d0887"
            ],
            [
             0.1111111111111111,
             "#46039f"
            ],
            [
             0.2222222222222222,
             "#7201a8"
            ],
            [
             0.3333333333333333,
             "#9c179e"
            ],
            [
             0.4444444444444444,
             "#bd3786"
            ],
            [
             0.5555555555555556,
             "#d8576b"
            ],
            [
             0.6666666666666666,
             "#ed7953"
            ],
            [
             0.7777777777777778,
             "#fb9f3a"
            ],
            [
             0.8888888888888888,
             "#fdca26"
            ],
            [
             1,
             "#f0f921"
            ]
           ]
          },
          "colorway": [
           "#636efa",
           "#EF553B",
           "#00cc96",
           "#ab63fa",
           "#FFA15A",
           "#19d3f3",
           "#FF6692",
           "#B6E880",
           "#FF97FF",
           "#FECB52"
          ],
          "font": {
           "color": "#2a3f5f"
          },
          "geo": {
           "bgcolor": "white",
           "lakecolor": "white",
           "landcolor": "#E5ECF6",
           "showlakes": true,
           "showland": true,
           "subunitcolor": "white"
          },
          "hoverlabel": {
           "align": "left"
          },
          "hovermode": "closest",
          "mapbox": {
           "style": "light"
          },
          "paper_bgcolor": "white",
          "plot_bgcolor": "#E5ECF6",
          "polar": {
           "angularaxis": {
            "gridcolor": "white",
            "linecolor": "white",
            "ticks": ""
           },
           "bgcolor": "#E5ECF6",
           "radialaxis": {
            "gridcolor": "white",
            "linecolor": "white",
            "ticks": ""
           }
          },
          "scene": {
           "xaxis": {
            "backgroundcolor": "#E5ECF6",
            "gridcolor": "white",
            "gridwidth": 2,
            "linecolor": "white",
            "showbackground": true,
            "ticks": "",
            "zerolinecolor": "white"
           },
           "yaxis": {
            "backgroundcolor": "#E5ECF6",
            "gridcolor": "white",
            "gridwidth": 2,
            "linecolor": "white",
            "showbackground": true,
            "ticks": "",
            "zerolinecolor": "white"
           },
           "zaxis": {
            "backgroundcolor": "#E5ECF6",
            "gridcolor": "white",
            "gridwidth": 2,
            "linecolor": "white",
            "showbackground": true,
            "ticks": "",
            "zerolinecolor": "white"
           }
          },
          "shapedefaults": {
           "line": {
            "color": "#2a3f5f"
           }
          },
          "ternary": {
           "aaxis": {
            "gridcolor": "white",
            "linecolor": "white",
            "ticks": ""
           },
           "baxis": {
            "gridcolor": "white",
            "linecolor": "white",
            "ticks": ""
           },
           "bgcolor": "#E5ECF6",
           "caxis": {
            "gridcolor": "white",
            "linecolor": "white",
            "ticks": ""
           }
          },
          "title": {
           "x": 0.05
          },
          "xaxis": {
           "automargin": true,
           "gridcolor": "white",
           "linecolor": "white",
           "ticks": "",
           "title": {
            "standoff": 15
           },
           "zerolinecolor": "white",
           "zerolinewidth": 2
          },
          "yaxis": {
           "automargin": true,
           "gridcolor": "white",
           "linecolor": "white",
           "ticks": "",
           "title": {
            "standoff": 15
           },
           "zerolinecolor": "white",
           "zerolinewidth": 2
          }
         }
        }
       }
      }
     },
     "metadata": {}
    }
   ],
   "source": [
    "import plotly.express as px\n",
    "\n",
    "fig = px.scatter_mapbox(df2, lat=\"latitude\", lon=\"longitude\", hover_name=\"id\", color = \"Price (estimated)\", size = \"landArea\", hover_data=[\"propertyType\", \"bedrooms\", \"bathrooms\", \"displayableAddress\"],zoom=15, height=600)\n",
    "fig.update_layout(mapbox_style=\"open-street-map\")\n",
    "fig.update_layout(margin={\"r\":0,\"t\":0,\"l\":0,\"b\":0})\n",
    "fig.show()"
   ]
  },
  {
   "cell_type": "code",
   "execution_count": null,
   "metadata": {},
   "outputs": [],
   "source": []
  }
 ]
}