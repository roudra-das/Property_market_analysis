{
 "cells": [
  {
   "cell_type": "markdown",
   "metadata": {},
   "source": [
    "# Analysis of Property markets with Domain api\n",
    "\n",
    "## Overview\n",
    "| Detail Tag            | Information                                                                                        |\n",
    "|-----------------------|----------------------------------------------------------------------------------------------------|\n",
    "| Originally Created By | Roudra Das    roudra.das@gmail.com                                            |\n",
    "| External References   | <a href=\"https://api.domain.com.au/\" target=\"_blank\">Domain API</a>|\n",
    "| Input Datasets        | Sold_Properties.csv |\n",
    "| Output Datasets       | .csv |\n",
    "| Input Data Source     | API |\n",
    "| Output Data Source    | Pandas Dataframe |\n",
    "\n",
    "## History\n",
    "| Date         | Developed By  | Reason                                                |\n",
    "|--------------|---------------|-------------------------------------------------------|\n",
    "| 15th May 2021 | Roudra Das | Notebook created to analyse properties that have been sold in Australia|\n",
    "\n",
    "## Other Details\n",
    "This Notebook is a prototype."
   ]
  },
  {
   "cell_type": "code",
   "execution_count": 1,
   "metadata": {},
   "outputs": [],
   "source": [
    "import pandas as pd\n",
    "import requests\n",
    "import json\n",
    "import re, string, timeit\n",
    "import time\n",
    "import matplotlib.pyplot as plt\n",
    "import seaborn as sns\n",
    "import numpy as np"
   ]
  },
  {
   "cell_type": "code",
   "execution_count": 2,
   "metadata": {},
   "outputs": [
    {
     "name": "stderr",
     "output_type": "stream",
     "text": [
      "/tmp/ipykernel_39237/3652881321.py:1: FutureWarning: Passing a negative integer is deprecated in version 1.0 and will not be supported in future version. Instead, use None to not limit the column width.\n",
      "  pd.set_option('display.max_colwidth', -1)\n"
     ]
    }
   ],
   "source": [
    "pd.set_option('display.max_colwidth', -1)"
   ]
  },
  {
   "cell_type": "markdown",
   "metadata": {},
   "source": [
    "# Data Exploration"
   ]
  },
  {
   "cell_type": "code",
   "execution_count": 6,
   "metadata": {},
   "outputs": [
    {
     "data": {
      "text/plain": [
       "(185, 23)"
      ]
     },
     "execution_count": 6,
     "metadata": {},
     "output_type": "execute_result"
    }
   ],
   "source": [
    "df1 = pd.read_csv('output/Sold_Properties.csv')\n",
    "df1.shape"
   ]
  },
  {
   "cell_type": "code",
   "execution_count": 7,
   "metadata": {},
   "outputs": [
    {
     "data": {
      "text/html": [
       "<div>\n",
       "<style scoped>\n",
       "    .dataframe tbody tr th:only-of-type {\n",
       "        vertical-align: middle;\n",
       "    }\n",
       "\n",
       "    .dataframe tbody tr th {\n",
       "        vertical-align: top;\n",
       "    }\n",
       "\n",
       "    .dataframe thead th {\n",
       "        text-align: right;\n",
       "    }\n",
       "</style>\n",
       "<table border=\"1\" class=\"dataframe\">\n",
       "  <thead>\n",
       "    <tr style=\"text-align: right;\">\n",
       "      <th></th>\n",
       "      <th>state</th>\n",
       "      <th>features</th>\n",
       "      <th>propertyType</th>\n",
       "      <th>bathrooms</th>\n",
       "      <th>bedrooms</th>\n",
       "      <th>carspaces</th>\n",
       "      <th>unitNumber</th>\n",
       "      <th>streetNumber</th>\n",
       "      <th>street</th>\n",
       "      <th>area</th>\n",
       "      <th>...</th>\n",
       "      <th>displayableAddress</th>\n",
       "      <th>latitude</th>\n",
       "      <th>longitude</th>\n",
       "      <th>landArea</th>\n",
       "      <th>isRural</th>\n",
       "      <th>isNew</th>\n",
       "      <th>tags</th>\n",
       "      <th>id</th>\n",
       "      <th>sold_price</th>\n",
       "      <th>URL</th>\n",
       "    </tr>\n",
       "  </thead>\n",
       "  <tbody>\n",
       "    <tr>\n",
       "      <th>0</th>\n",
       "      <td>NSW</td>\n",
       "      <td>['Ensuite', 'SwimmingPool', 'Heating', 'RainwaterStorageTank']</td>\n",
       "      <td>House</td>\n",
       "      <td>2</td>\n",
       "      <td>4</td>\n",
       "      <td>8</td>\n",
       "      <td>NaN</td>\n",
       "      <td>4</td>\n",
       "      <td>Quandong Road</td>\n",
       "      <td>Albury - Greater Region</td>\n",
       "      <td>...</td>\n",
       "      <td>4 Quandong Road, Thurgoona</td>\n",
       "      <td>-36.048930</td>\n",
       "      <td>146.976288</td>\n",
       "      <td>3318</td>\n",
       "      <td>False</td>\n",
       "      <td>False</td>\n",
       "      <td>[]</td>\n",
       "      <td>2017635405</td>\n",
       "      <td>1200000</td>\n",
       "      <td>http://www.domain.com.au/2017635405</td>\n",
       "    </tr>\n",
       "    <tr>\n",
       "      <th>1</th>\n",
       "      <td>NSW</td>\n",
       "      <td>['AirConditioning', 'BuiltInWardrobes', 'Ensuite', 'SecureParking', 'NorthFacing', 'Bath', 'Heating', 'Dishwasher']</td>\n",
       "      <td>House</td>\n",
       "      <td>2</td>\n",
       "      <td>4</td>\n",
       "      <td>2</td>\n",
       "      <td>NaN</td>\n",
       "      <td>16</td>\n",
       "      <td>Stockyard Way</td>\n",
       "      <td>Albury - Greater Region</td>\n",
       "      <td>...</td>\n",
       "      <td>16 Stockyard Way, Thurgoona</td>\n",
       "      <td>-36.057922</td>\n",
       "      <td>146.976900</td>\n",
       "      <td>630</td>\n",
       "      <td>False</td>\n",
       "      <td>False</td>\n",
       "      <td>[]</td>\n",
       "      <td>2017661945</td>\n",
       "      <td>629000</td>\n",
       "      <td>http://www.domain.com.au/2017661945</td>\n",
       "    </tr>\n",
       "    <tr>\n",
       "      <th>2</th>\n",
       "      <td>NSW</td>\n",
       "      <td>['BuiltInWardrobes', 'Ensuite', 'Gas', 'Dishwasher', 'Shed']</td>\n",
       "      <td>House</td>\n",
       "      <td>1</td>\n",
       "      <td>3</td>\n",
       "      <td>2</td>\n",
       "      <td>NaN</td>\n",
       "      <td>8</td>\n",
       "      <td>Oak Court</td>\n",
       "      <td>Albury - Greater Region</td>\n",
       "      <td>...</td>\n",
       "      <td>8 Oak Court, Thurgoona</td>\n",
       "      <td>-36.051760</td>\n",
       "      <td>146.980835</td>\n",
       "      <td>852</td>\n",
       "      <td>False</td>\n",
       "      <td>False</td>\n",
       "      <td>[]</td>\n",
       "      <td>2017636403</td>\n",
       "      <td>430000</td>\n",
       "      <td>http://www.domain.com.au/2017636403</td>\n",
       "    </tr>\n",
       "    <tr>\n",
       "      <th>3</th>\n",
       "      <td>NSW</td>\n",
       "      <td>['BuiltInWardrobes', 'Ensuite', 'Gas', 'SecureParking', 'Bath', 'Heating', 'Dishwasher', 'Study', 'FullyFenced']</td>\n",
       "      <td>House</td>\n",
       "      <td>2</td>\n",
       "      <td>4</td>\n",
       "      <td>2</td>\n",
       "      <td>NaN</td>\n",
       "      <td>187</td>\n",
       "      <td>Newport Crescent</td>\n",
       "      <td>Albury - Greater Region</td>\n",
       "      <td>...</td>\n",
       "      <td>187 Newport Crescent, Thurgoona</td>\n",
       "      <td>-36.037937</td>\n",
       "      <td>147.000488</td>\n",
       "      <td>560</td>\n",
       "      <td>False</td>\n",
       "      <td>False</td>\n",
       "      <td>[]</td>\n",
       "      <td>2017642851</td>\n",
       "      <td>700000</td>\n",
       "      <td>http://www.domain.com.au/2017642851</td>\n",
       "    </tr>\n",
       "    <tr>\n",
       "      <th>4</th>\n",
       "      <td>NSW</td>\n",
       "      <td>['Ensuite', 'Gas', 'SecureParking', 'SwimmingPool', 'Heating', 'Shed']</td>\n",
       "      <td>House</td>\n",
       "      <td>2</td>\n",
       "      <td>4</td>\n",
       "      <td>5</td>\n",
       "      <td>NaN</td>\n",
       "      <td>27</td>\n",
       "      <td>Litchfield Drive</td>\n",
       "      <td>Albury - Greater Region</td>\n",
       "      <td>...</td>\n",
       "      <td>27 Litchfield Drive, Thurgoona</td>\n",
       "      <td>-36.046127</td>\n",
       "      <td>147.018951</td>\n",
       "      <td>1260</td>\n",
       "      <td>False</td>\n",
       "      <td>False</td>\n",
       "      <td>[]</td>\n",
       "      <td>2017524509</td>\n",
       "      <td>1100000</td>\n",
       "      <td>http://www.domain.com.au/2017524509</td>\n",
       "    </tr>\n",
       "  </tbody>\n",
       "</table>\n",
       "<p>5 rows × 23 columns</p>\n",
       "</div>"
      ],
      "text/plain": [
       "  state  \\\n",
       "0  NSW    \n",
       "1  NSW    \n",
       "2  NSW    \n",
       "3  NSW    \n",
       "4  NSW    \n",
       "\n",
       "                                                                                                              features  \\\n",
       "0  ['Ensuite', 'SwimmingPool', 'Heating', 'RainwaterStorageTank']                                                        \n",
       "1  ['AirConditioning', 'BuiltInWardrobes', 'Ensuite', 'SecureParking', 'NorthFacing', 'Bath', 'Heating', 'Dishwasher']   \n",
       "2  ['BuiltInWardrobes', 'Ensuite', 'Gas', 'Dishwasher', 'Shed']                                                          \n",
       "3  ['BuiltInWardrobes', 'Ensuite', 'Gas', 'SecureParking', 'Bath', 'Heating', 'Dishwasher', 'Study', 'FullyFenced']      \n",
       "4  ['Ensuite', 'Gas', 'SecureParking', 'SwimmingPool', 'Heating', 'Shed']                                                \n",
       "\n",
       "  propertyType  bathrooms  bedrooms  carspaces  unitNumber streetNumber  \\\n",
       "0  House        2          4         8         NaN          4             \n",
       "1  House        2          4         2         NaN          16            \n",
       "2  House        1          3         2         NaN          8             \n",
       "3  House        2          4         2         NaN          187           \n",
       "4  House        2          4         5         NaN          27            \n",
       "\n",
       "             street                     area  ...  \\\n",
       "0  Quandong Road     Albury - Greater Region  ...   \n",
       "1  Stockyard Way     Albury - Greater Region  ...   \n",
       "2  Oak Court         Albury - Greater Region  ...   \n",
       "3  Newport Crescent  Albury - Greater Region  ...   \n",
       "4  Litchfield Drive  Albury - Greater Region  ...   \n",
       "\n",
       "                displayableAddress   latitude   longitude landArea  isRural  \\\n",
       "0  4 Quandong Road, Thurgoona      -36.048930  146.976288  3318     False     \n",
       "1  16 Stockyard Way, Thurgoona     -36.057922  146.976900  630      False     \n",
       "2  8 Oak Court, Thurgoona          -36.051760  146.980835  852      False     \n",
       "3  187 Newport Crescent, Thurgoona -36.037937  147.000488  560      False     \n",
       "4  27 Litchfield Drive, Thurgoona  -36.046127  147.018951  1260     False     \n",
       "\n",
       "   isNew  tags          id  sold_price                                  URL  \n",
       "0  False  []    2017635405  1200000     http://www.domain.com.au/2017635405  \n",
       "1  False  []    2017661945  629000      http://www.domain.com.au/2017661945  \n",
       "2  False  []    2017636403  430000      http://www.domain.com.au/2017636403  \n",
       "3  False  []    2017642851  700000      http://www.domain.com.au/2017642851  \n",
       "4  False  []    2017524509  1100000     http://www.domain.com.au/2017524509  \n",
       "\n",
       "[5 rows x 23 columns]"
      ]
     },
     "execution_count": 7,
     "metadata": {},
     "output_type": "execute_result"
    }
   ],
   "source": [
    "df1.head()"
   ]
  },
  {
   "cell_type": "code",
   "execution_count": 8,
   "metadata": {},
   "outputs": [
    {
     "data": {
      "text/plain": [
       "count    1.850000e+02\n",
       "mean     5.549034e+05\n",
       "std      1.784498e+05\n",
       "min      2.300000e+05\n",
       "25%      4.300000e+05\n",
       "50%      5.400000e+05\n",
       "75%      6.300000e+05\n",
       "max      1.525000e+06\n",
       "Name: sold_price, dtype: float64"
      ]
     },
     "execution_count": 8,
     "metadata": {},
     "output_type": "execute_result"
    }
   ],
   "source": [
    "df1[\"sold_price\"].describe()"
   ]
  },
  {
   "cell_type": "code",
   "execution_count": 9,
   "metadata": {},
   "outputs": [
    {
     "data": {
      "application/vnd.plotly.v1+json": {
       "config": {
        "plotlyServerURL": "https://plot.ly"
       },
       "data": [
        {
         "customdata": [
          [
           "House",
           4,
           2,
           3318,
           "4 Quandong Road, Thurgoona"
          ],
          [
           "House",
           4,
           2,
           630,
           "16 Stockyard Way, Thurgoona"
          ],
          [
           "House",
           3,
           1,
           852,
           "8 Oak Court, Thurgoona"
          ],
          [
           "House",
           4,
           2,
           560,
           "187 Newport Crescent, Thurgoona"
          ],
          [
           "House",
           4,
           2,
           1260,
           "27 Litchfield Drive, Thurgoona"
          ],
          [
           "House",
           4,
           2,
           818,
           "6 Troon Court, Thurgoona"
          ],
          [
           "House",
           4,
           2,
           619,
           "28 Blakleys Circuit, Thurgoona"
          ],
          [
           "House",
           3,
           1,
           874,
           "57 Maryville Way, Thurgoona"
          ],
          [
           "House",
           5,
           2,
           818,
           "28 Newton Circuit, Thurgoona"
          ],
          [
           "House",
           4,
           2,
           1099,
           "22 Baw Baw Street, Thurgoona"
          ],
          [
           "House",
           4,
           2,
           663,
           "7 Egret Way, Thurgoona"
          ],
          [
           "House",
           3,
           1,
           707,
           "58 Buffalo Crescent, Thurgoona"
          ],
          [
           "House",
           4,
           2,
           671,
           "23 Norman Way, Thurgoona"
          ],
          [
           "House",
           4,
           2,
           774,
           "28 Woolshed Drive, Thurgoona"
          ],
          [
           "House",
           4,
           2,
           516,
           "Lot 57 Eisenhaur Drive, Thurgoona"
          ],
          [
           "House",
           5,
           2,
           1082,
           "2 Blue Wren Close, Thurgoona"
          ],
          [
           "House",
           3,
           3,
           1157,
           "3 The Fell, Thurgoona"
          ],
          [
           "House",
           4,
           2,
           1298,
           "36 The Avenue, Thurgoona"
          ],
          [
           "House",
           4,
           2,
           729,
           "5 Eberle Close, Thurgoona"
          ],
          [
           "House",
           4,
           2,
           537,
           "29 Hibberson Court, Thurgoona"
          ],
          [
           "House",
           5,
           3,
           882,
           "4 Myall Place, Thurgoona"
          ],
          [
           "House",
           4,
           2,
           857,
           "16 Lundy Close, Thurgoona"
          ],
          [
           "House",
           4,
           2,
           722,
           "104 Stockman Circuit, Thurgoona"
          ],
          [
           "House",
           4,
           2,
           762,
           "100 Stockman Circuit, Thurgoona"
          ],
          [
           "House",
           4,
           2,
           703,
           "66 Newton Circuit, Thurgoona"
          ],
          [
           "House",
           4,
           2,
           907,
           "7 Honeysuckle Street, Thurgoona"
          ],
          [
           "House",
           4,
           2,
           1190,
           "29 Egret Way, Thurgoona"
          ],
          [
           "House",
           4,
           2,
           658,
           "50 Felstead Circuit, Thurgoona"
          ],
          [
           "House",
           5,
           3,
           910,
           "52 Norman Way, Thurgoona"
          ],
          [
           "House",
           4,
           3,
           4170,
           "52 Finlay Road, Thurgoona"
          ],
          [
           "House",
           4,
           2,
           678,
           "23 Zeil Circuit, Thurgoona"
          ],
          [
           "House",
           3,
           2,
           681,
           "26 Pioneer Place, Thurgoona"
          ],
          [
           "House",
           4,
           2,
           1125,
           "8 The Copse, Thurgoona"
          ],
          [
           "House",
           4,
           2,
           616,
           "19 Adams Court, Thurgoona"
          ],
          [
           "House",
           3,
           1,
           823,
           "3 Winnell Court, Thurgoona"
          ],
          [
           "House",
           3,
           1,
           706,
           "4 Decora Place, Thurgoona"
          ],
          [
           "House",
           3,
           2,
           1320,
           "35 Cassinia Court, Thurgoona"
          ],
          [
           "House",
           4,
           2,
           899,
           "18 Rosewood Court, Thurgoona"
          ],
          [
           "House",
           4,
           2,
           640,
           "15 Oriole Street, Thurgoona"
          ],
          [
           "House",
           3,
           2,
           395,
           "1/23 Barossa Way, Thurgoona"
          ],
          [
           "House",
           4,
           2,
           713,
           "91 Egret Way, Thurgoona"
          ],
          [
           "House",
           3,
           2,
           395,
           "2/23 Barossa Way, Thurgoona"
          ],
          [
           "House",
           4,
           2,
           1200,
           "39 The Fell, Thurgoona"
          ],
          [
           "House",
           3,
           2,
           755,
           "50 The Avenue, Thurgoona"
          ],
          [
           "House",
           3,
           1,
           798,
           "5 Yate Court, Thurgoona"
          ],
          [
           "House",
           3,
           2,
           557,
           "97 Egret Way, Thurgoona"
          ],
          [
           "House",
           4,
           2,
           896,
           "144 Newton Circuit, Thurgoona"
          ],
          [
           "House",
           4,
           2,
           699,
           "16 Stockman Circuit, Thurgoona"
          ],
          [
           "House",
           4,
           2,
           728,
           "38 Stockman Circuit, Thurgoona"
          ],
          [
           "House",
           3,
           2,
           836,
           "173 Hotham Circuit, Thurgoona"
          ],
          [
           "House",
           4,
           2,
           836,
           "162 Forest Drive, Thurgoona"
          ],
          [
           "House",
           4,
           2,
           649,
           "20 Friarbird Way, Thurgoona"
          ],
          [
           "House",
           4,
           2,
           713,
           "27 Stockyard Way, Thurgoona"
          ],
          [
           "House",
           4,
           2,
           697,
           "1 Jack Court, Thurgoona"
          ],
          [
           "House",
           4,
           2,
           735,
           "26 Princeton Court, Thurgoona"
          ],
          [
           "House",
           4,
           2,
           735,
           "12 Charolais Court, Thurgoona"
          ],
          [
           "House",
           4,
           2,
           958,
           "15 Pinnibar Court, Thurgoona"
          ],
          [
           "House",
           3,
           1,
           711,
           "103 Feathertop Circuit, Thurgoona"
          ],
          [
           "House",
           4,
           2,
           697,
           "17 Friarbird Way, Thurgoona"
          ],
          [
           "House",
           4,
           2,
           626,
           "44 Mclaren Boulevard, Thurgoona"
          ],
          [
           "House",
           3,
           2,
           395,
           "2 Birdie Place, Thurgoona"
          ],
          [
           "House",
           3,
           2,
           708,
           "36 Hickory Street, Thurgoona"
          ],
          [
           "House",
           4,
           2,
           543,
           "18 Adams Court, Thurgoona"
          ],
          [
           "House",
           4,
           2,
           707,
           "36 Felstead Circuit, Thurgoona"
          ],
          [
           "House",
           5,
           2,
           1900,
           "53 Corriedale Court, Thurgoona"
          ],
          [
           "House",
           4,
           2,
           890,
           "218 Forest Drive, Thurgoona"
          ],
          [
           "House",
           4,
           2,
           839,
           "3 Newton Circuit, Thurgoona"
          ],
          [
           "House",
           3,
           2,
           437,
           "11 Squirrel Glider Drive, Thurgoona"
          ],
          [
           "House",
           3,
           1,
           1165,
           "2 The Dale, Thurgoona"
          ],
          [
           "House",
           3,
           2,
           824,
           "98 Cambridge Drive, Thurgoona"
          ],
          [
           "House",
           4,
           2,
           710,
           "194 Kosciuszko Road, Thurgoona"
          ],
          [
           "House",
           3,
           1,
           932,
           "17 Daysdale Way, Thurgoona"
          ],
          [
           "House",
           4,
           2,
           674,
           "Thurgoona"
          ],
          [
           "House",
           4,
           2,
           1047,
           "1 Selwyn Court, Thurgoona"
          ],
          [
           "House",
           4,
           2,
           990,
           "11 The Copse, Thurgoona"
          ],
          [
           "House",
           5,
           2,
           978,
           "15 Heppner Court, Thurgoona"
          ],
          [
           "House",
           4,
           2,
           641,
           "157 Whitebox Circ, Thurgoona"
          ],
          [
           "House",
           4,
           2,
           795,
           "50 Stockman Circuit, Thurgoona"
          ],
          [
           "House",
           4,
           2,
           650,
           "11 Smiggins Drive, Thurgoona"
          ],
          [
           "House",
           4,
           2,
           774,
           "4 Sandpiper Court, Thurgoona"
          ],
          [
           "House",
           4,
           2,
           972,
           "22 THE MEADOW, Thurgoona"
          ],
          [
           "House",
           4,
           2,
           1400,
           "62 Cambridge Drive, Thurgoona"
          ],
          [
           "House",
           4,
           2,
           704,
           "58 Newton Circuit, Thurgoona"
          ],
          [
           "House",
           4,
           2,
           774,
           "10 Woolshed Drive, Thurgoona"
          ],
          [
           "House",
           4,
           2,
           848,
           "11 Henschke Avenue, Thurgoona"
          ],
          [
           "House",
           4,
           2,
           647,
           "12 Friarbird Way, Thurgoona"
          ],
          [
           "House",
           5,
           2,
           817,
           "43 Hartigan Street, Thurgoona"
          ],
          [
           "House",
           4,
           2,
           1521,
           "47 Hereford Court, Thurgoona"
          ],
          [
           "House",
           3,
           1,
           850,
           "2 Hotham Circuit, Thurgoona"
          ],
          [
           "House",
           4,
           2,
           925,
           "36 Stockman Circuit, Thurgoona"
          ],
          [
           "House",
           3,
           1,
           1215,
           "3 Gleneagles Court, Thurgoona"
          ],
          [
           "House",
           4,
           2,
           765,
           "11 Dryandra Way, Thurgoona"
          ],
          [
           "House",
           4,
           2,
           721,
           "10 Lindisfarne Court, Thurgoona"
          ],
          [
           "House",
           4,
           2,
           758,
           "57 Fairway Gardens Road, Thurgoona"
          ],
          [
           "House",
           4,
           2,
           840,
           "65 Newton Circuit, Thurgoona"
          ],
          [
           "House",
           3,
           2,
           532,
           "17 Egret Way, Thurgoona"
          ],
          [
           "House",
           3,
           1,
           703,
           "37 Hotham Cct, Thurgoona"
          ],
          [
           "House",
           4,
           2,
           651,
           "11 Belah Court, Thurgoona"
          ],
          [
           "House",
           4,
           2,
           3093,
           "15 Gale Court, Thurgoona"
          ],
          [
           "House",
           4,
           2,
           1044,
           "10 Bullfrog Court, Thurgoona"
          ],
          [
           "House",
           4,
           2,
           616,
           "90 Honeyeater Circuit, Thurgoona"
          ],
          [
           "House",
           4,
           2,
           903,
           "10 Baw Baw Street, Thurgoona"
          ],
          [
           "House",
           4,
           2,
           665,
           "20 Whittler Road, Thurgoona"
          ],
          [
           "House",
           4,
           2,
           808,
           "2 Sturt Place, Thurgoona"
          ],
          [
           "House",
           4,
           2,
           819,
           "48 Norman Way, Thurgoona"
          ],
          [
           "House",
           3,
           1,
           715,
           "13 Lacebark Court, Thurgoona"
          ],
          [
           "House",
           4,
           2,
           935,
           "101 Forest Drive, Thurgoona"
          ],
          [
           "House",
           4,
           2,
           1380,
           "103 Forest Drive, Thurgoona"
          ],
          [
           "House",
           3,
           2,
           810,
           "33 Honeysuckle Street, Thurgoona"
          ],
          [
           "House",
           5,
           2,
           813,
           "12 Winnell Court, Thurgoona"
          ],
          [
           "House",
           4,
           2,
           634,
           "14 Quandong Road, Thurgoona"
          ],
          [
           "House",
           4,
           2,
           807,
           "3 Yale Court, Thurgoona"
          ],
          [
           "House",
           4,
           2,
           972,
           "7 Dwyer Place, Thurgoona"
          ],
          [
           "House",
           3,
           2,
           508,
           "92 Pickworth Street, Thurgoona"
          ],
          [
           "House",
           4,
           2,
           767,
           "18 Cassinia Court, Thurgoona"
          ],
          [
           "House",
           4,
           2,
           722,
           "116 Dryandra Way, Thurgoona"
          ],
          [
           "House",
           4,
           2,
           803,
           "33 Oxford Drive, Thurgoona"
          ],
          [
           "House",
           3,
           1,
           1270,
           "2 Tawonga Place, Thurgoona"
          ],
          [
           "House",
           4,
           2,
           522,
           "86 Songlark Crescent, Thurgoona"
          ],
          [
           "House",
           4,
           2,
           618,
           "78 Honeyeater Circuit, Thurgoona"
          ],
          [
           "House",
           3,
           1,
           862,
           "1 Denny Court, Thurgoona"
          ],
          [
           "House",
           4,
           2,
           801,
           "5 Mimosa Court, Thurgoona"
          ],
          [
           "House",
           4,
           2,
           4287,
           "148 Corrys Road, Thurgoona"
          ],
          [
           "House",
           3,
           1,
           839,
           "7 Erica Court, Thurgoona"
          ],
          [
           "House",
           3,
           2,
           789,
           "7 Briese Court, Thurgoona"
          ],
          [
           "House",
           4,
           2,
           540,
           "8 MYOTIS STREET, Thurgoona"
          ],
          [
           "House",
           4,
           2,
           1260,
           "34 Stirling Way, Thurgoona"
          ],
          [
           "House",
           3,
           1,
           715,
           "60 Feathertop Circuit, Thurgoona"
          ],
          [
           "House",
           4,
           2,
           800,
           "193 Pickworth, Thurgoona"
          ],
          [
           "House",
           4,
           2,
           594,
           "9 Firetail Street, Thurgoona"
          ],
          [
           "House",
           4,
           2,
           1181,
           "73 Oxford Drive, Thurgoona"
          ],
          [
           "House",
           5,
           2,
           868,
           "47 Mclaren Boulevard, Thurgoona"
          ],
          [
           "House",
           4,
           2,
           615,
           "5 Loch Court, Thurgoona"
          ],
          [
           "House",
           4,
           2,
           924,
           "25 Maryville Way, Thurgoona"
          ],
          [
           "House",
           4,
           2,
           1498,
           "55 Litchfield Drive, Thurgoona"
          ],
          [
           "House",
           3,
           2,
           744,
           "19 Angus Court, Thurgoona"
          ],
          [
           "House",
           4,
           2,
           1159,
           "4 The Pines, Thurgoona"
          ],
          [
           "House",
           4,
           2,
           1360,
           "6 Sturt Place, Thurgoona"
          ],
          [
           "House",
           4,
           2,
           661,
           "14 Zeil Circuit, Thurgoona"
          ],
          [
           "House",
           4,
           2,
           780,
           "79 Woolshed Drive, Thurgoona"
          ],
          [
           "House",
           5,
           2,
           915,
           "19 The Fell, Thurgoona"
          ],
          [
           "House",
           4,
           2,
           505,
           "174 Pickworth Street, Thurgoona"
          ],
          [
           "House",
           3,
           2,
           857,
           "1 Stanford Court, Thurgoona"
          ],
          [
           "House",
           4,
           2,
           848,
           "121 Cambridge Drive, Thurgoona"
          ],
          [
           "House",
           4,
           2,
           800,
           "17 Hereford Court, Thurgoona"
          ],
          [
           "House",
           4,
           2,
           1308,
           "1 Stirling Way, Thurgoona"
          ],
          [
           "House",
           4,
           2,
           722,
           "104 Stockman Circuit, Thurgoona"
          ],
          [
           "House",
           4,
           2,
           604,
           "40 Wellington Drive, Thurgoona"
          ],
          [
           "House",
           4,
           2,
           17100,
           "36 Corrys Road, Thurgoona"
          ],
          [
           "House",
           4,
           2,
           1245,
           "26 Shepherd Ct, Thurgoona"
          ],
          [
           "House",
           4,
           2,
           750,
           "37 Barossa Way, Thurgoona"
          ],
          [
           "House",
           3,
           2,
           626,
           "80 Riverboat Drive, Thurgoona"
          ],
          [
           "House",
           4,
           2,
           997,
           "27 Scott Place, Thurgoona"
          ],
          [
           "House",
           4,
           2,
           630,
           "14 Squirrel Glider Drive, Thurgoona"
          ],
          [
           "House",
           4,
           2,
           600,
           "18 Smiggins Drive, Thurgoona"
          ],
          [
           "House",
           4,
           2,
           705,
           "196 Kosciuszko Road, Thurgoona"
          ],
          [
           "House",
           4,
           2,
           916,
           "2 Daysdale Way, Thurgoona"
          ],
          [
           "House",
           4,
           2,
           607,
           "14 Friarbird Way, Thurgoona"
          ],
          [
           "House",
           4,
           2,
           1290,
           "28 Paperbark Court, Thurgoona"
          ],
          [
           "House",
           4,
           2,
           680,
           "25 Redbox Drive, Thurgoona"
          ],
          [
           "House",
           4,
           2,
           945,
           "23 Tweed Court, Thurgoona"
          ],
          [
           "House",
           3,
           2,
           1905,
           "89 Maryville Way, Thurgoona"
          ],
          [
           "House",
           4,
           2,
           751,
           "3 Treecreeper Street, Thurgoona"
          ],
          [
           "House",
           4,
           2,
           874,
           "11 Maryville Way, Thurgoona"
          ],
          [
           "House",
           3,
           1,
           895,
           "2 Gleneagles Crt, Thurgoona"
          ],
          [
           "House",
           3,
           1,
           880,
           "27 Crackenback Street, Thurgoona"
          ],
          [
           "House",
           4,
           2,
           863,
           "190 Forest Dr, Thurgoona"
          ],
          [
           "House",
           3,
           2,
           494,
           "31 Meyer Place, Thurgoona"
          ],
          [
           "House",
           4,
           2,
           1088,
           "87 Fairway Gardens Road, Thurgoona"
          ],
          [
           "House",
           3,
           1,
           743,
           "18 Buller Crescent, Thurgoona"
          ],
          [
           "House",
           3,
           1,
           809,
           "16 Candlebark Street, Thurgoona"
          ],
          [
           "House",
           4,
           2,
           764,
           "82 Woolshed Drive, Thurgoona"
          ],
          [
           "House",
           4,
           2,
           845,
           "49 Yarrabee Drive, Thurgoona"
          ],
          [
           "House",
           4,
           2,
           841,
           "78 The Avenue, Thurgoona"
          ],
          [
           "House",
           3,
           1,
           752,
           "3 Cedar Court, Thurgoona"
          ],
          [
           "House",
           3,
           1,
           699,
           "127 Hotham Circuit, Thurgoona"
          ],
          [
           "House",
           4,
           2,
           704,
           "183 Kosciuszko Road, Thurgoona"
          ],
          [
           "House",
           4,
           3,
           1263,
           "136 Litchfield Drive, Thurgoona"
          ],
          [
           "House",
           4,
           2,
           664,
           "8 Stockyard Way, Thurgoona"
          ],
          [
           "House",
           3,
           1,
           844,
           "9 Eucalypt Court, Thurgoona"
          ],
          [
           "House",
           4,
           2,
           1100,
           "20 Mahogany Court, Thurgoona"
          ],
          [
           "House",
           3,
           2,
           474,
           "25 Weissel Court, Thurgoona"
          ],
          [
           "House",
           4,
           2,
           904,
           "31 The Grove, Thurgoona"
          ],
          [
           "House",
           4,
           2,
           637,
           "14 Paddlesteamer Court, Thurgoona"
          ],
          [
           "House",
           4,
           2,
           802,
           "Thurgoona"
          ]
         ],
         "hovertemplate": "<b>%{hovertext}</b><br><br>sold_price=%{marker.size}<br>latitude=%{lat}<br>longitude=%{lon}<br>propertyType=%{customdata[0]}<br>bedrooms=%{customdata[1]}<br>bathrooms=%{customdata[2]}<br>landArea=%{customdata[3]}<br>displayableAddress=%{customdata[4]}<extra></extra>",
         "hovertext": [
          2017635405,
          2017661945,
          2017636403,
          2017642851,
          2017524509,
          2017553846,
          2017552626,
          2017564109,
          2017541489,
          2017573385,
          2017525207,
          2017498791,
          2017406094,
          2017477737,
          2017325172,
          2017455447,
          2017427566,
          2017428228,
          2017416932,
          2017325093,
          2017404526,
          2017373595,
          2017300451,
          2017299930,
          2017373049,
          2017364554,
          2017343283,
          2017250314,
          2017372371,
          2017383636,
          2017349290,
          2017318260,
          2017140315,
          2017282572,
          2017331592,
          2017305418,
          2017264573,
          2017333745,
          2017289004,
          2017200564,
          2017266096,
          2017200560,
          2017274181,
          2017238771,
          2017236705,
          2017261987,
          2017122942,
          2017234602,
          2017172162,
          2017184310,
          2017200561,
          2015975713,
          2017200373,
          2017151344,
          2017130603,
          2017054873,
          2017153713,
          2017073389,
          2017195218,
          2017149364,
          2017064835,
          2017106460,
          2017141764,
          2017106481,
          2017090306,
          2016971167,
          2017021893,
          2017102310,
          2017048716,
          2017093782,
          2016461170,
          2017044970,
          2017020371,
          2017054448,
          2017027962,
          2016918684,
          2016965419,
          2017016276,
          2017002356,
          2016996271,
          2016986843,
          2016899477,
          2016964638,
          2016883795,
          2016944801,
          2016976519,
          2016781446,
          2016921749,
          2016806821,
          2016798090,
          2016883542,
          2016894926,
          2016841907,
          2016788918,
          2016883193,
          2016897901,
          2016760172,
          2016828439,
          2016819354,
          2016823046,
          2016829918,
          2016782387,
          2016823788,
          2016849141,
          2016810954,
          2016788774,
          2016816192,
          2016382640,
          2016797009,
          2016719511,
          2016645435,
          2016757756,
          2016669922,
          2016772952,
          2016794201,
          2016722274,
          2016723736,
          2016663170,
          2016700308,
          2016744901,
          2016689609,
          2016698551,
          2016748075,
          2016740271,
          2016643600,
          2016592145,
          2016710635,
          2016679103,
          2016525260,
          2016669391,
          2015883970,
          2016593546,
          2016667425,
          2016609307,
          2016633024,
          2016595257,
          2016549126,
          2016504460,
          2016098032,
          2016588343,
          2016571244,
          2016468570,
          2016467412,
          2016462926,
          2016498408,
          2016225805,
          2016549757,
          2016133408,
          2016182099,
          2016398100,
          2016522230,
          2016489823,
          2016406041,
          2016235329,
          2015154363,
          2015872618,
          2016445376,
          2016429150,
          2016379958,
          2016435110,
          2016308139,
          2015300684,
          2016295242,
          2016125185,
          2016398323,
          2016388387,
          2016281393,
          2016289819,
          2015985553,
          2016218105,
          2016251601,
          2016247253,
          2016268461,
          2016227166,
          2016164764,
          2016197290,
          2016167691,
          2016131321,
          2015961434,
          2016074014,
          2015805356,
          2016130858,
          2016073700,
          2016025177,
          2016095592
         ],
         "lat": [
          -36.04893,
          -36.0579224,
          -36.05176,
          -36.0379372,
          -36.0461273,
          -36.052803,
          -36.0344,
          -36.0434837,
          -36.0454521,
          -36.0531,
          -36.0371475,
          -36.0529823,
          -36.0447655,
          -36.05364,
          -36.0254669,
          -36.0529671,
          -36.0476456,
          -36.0483742,
          -36.0442238,
          -36.05,
          -36.05481,
          -36.04291,
          -36.0542259,
          -36.05438,
          -36.04549,
          -36.0534325,
          -36.0370064,
          -36.0496674,
          -36.04482,
          -36.0363235,
          -36.0561142,
          -36.0568237,
          -36.0459442,
          -36.0423965,
          -36.0404778,
          -36.0522575,
          -36.0544472,
          -36.0542221,
          -36.0347557,
          -36.0410423,
          -36.0363846,
          -36.0410423,
          -36.0492058,
          -36.0490837,
          -36.048996,
          -36.0360336,
          -36.0442772,
          -36.0544662,
          -36.05554,
          -36.04715,
          -36.0445,
          -36.0358,
          -36.0585136,
          -36.0548553,
          -36.01882,
          -36.06438,
          -36.05305,
          -36.05266,
          -36.0359,
          -36.0414047,
          -36.0499,
          -36.0529671,
          -36.042038,
          -36.0503349,
          -36.0467072,
          -36.0445,
          -36.04428,
          -36.034874,
          -36.0484848,
          -36.0183945,
          -36.0551758,
          -36.0438538,
          -36.05,
          -36.05188,
          -36.0455551,
          -36.0446434,
          -36.03505,
          -36.0555458,
          -36.0542564,
          -36.0385437,
          -36.0465355,
          -36.019928,
          -36.045475,
          -36.0539932,
          -36.0407143,
          -36.0365143,
          -36.0414658,
          -36.06388,
          -36.04883,
          -36.0556068,
          -36.0528145,
          -36.0530663,
          -36.0542,
          -36.0444221,
          -36.0459175,
          -36.0369263,
          -36.048275,
          -36.0516167,
          -36.03953,
          -36.0380135,
          -36.0376778,
          -36.0520554,
          -36.02508,
          -36.0181427,
          -36.04474,
          -36.0456848,
          -36.04673,
          -36.0465965,
          -36.0526237,
          -36.04036,
          -36.049366,
          -36.0175629,
          -36.0392342,
          -36.0511742,
          -36.05378,
          -36.0529,
          -36.0205956,
          -36.0537567,
          -36.0364456,
          -36.0378571,
          -36.0433121,
          -36.04541,
          -36.0540047,
          -36.048378,
          -36.0431023,
          -36.0338249,
          -36.0496864,
          -36.052166,
          -36.04885,
          -36.0370979,
          -36.02025,
          -36.0416641,
          -36.054287,
          -36.04555,
          -36.04873,
          -36.0647774,
          -36.0456657,
          -36.0182152,
          -36.0627251,
          -36.05401,
          -36.04822,
          -36.04979,
          -36.02065,
          -36.01732,
          -36.063633,
          -36.0497971,
          -36.0542336,
          -36.055088,
          -36.0527725,
          -36.0479469,
          -36.04028,
          -36.05765,
          -36.04813,
          -36.0344963,
          -36.053833,
          -36.05533,
          -36.0441475,
          -36.03633,
          -36.05433,
          -36.0338058,
          -36.05095,
          -36.0420532,
          -36.036293,
          -36.0451431,
          -36.05292,
          -36.04713,
          -36.0445,
          -36.04263,
          -36.04501,
          -36.0502357,
          -36.0485229,
          -36.05533,
          -36.0474663,
          -36.0497627,
          -36.05024,
          -36.0458565,
          -36.0547,
          -36.0484161,
          -36.05798,
          -36.0471077,
          -36.0504379,
          -36.0242,
          -36.0497437,
          -36.05586,
          -36.05
         ],
         "legendgroup": "",
         "lon": [
          146.976288,
          146.9769,
          146.980835,
          147.000488,
          147.018951,
          146.994049,
          146.980164,
          146.984909,
          147.0056,
          146.984375,
          146.979355,
          146.98822,
          147.0048,
          147.011169,
          146.982025,
          147.014282,
          146.9937,
          146.995834,
          146.986862,
          146.983337,
          146.979782,
          146.986481,
          147.012253,
          147.012131,
          147.003952,
          146.9798,
          146.981277,
          147.0077,
          147.0032,
          147.010071,
          146.989212,
          146.978821,
          146.994583,
          146.988312,
          146.983688,
          146.975479,
          146.976044,
          146.981384,
          146.978683,
          146.977783,
          146.984985,
          146.977783,
          146.993347,
          146.996613,
          146.979446,
          146.985077,
          147.0039,
          147.009659,
          147.00972,
          146.988419,
          147.009415,
          146.98027,
          146.9771,
          146.990448,
          147.012939,
          147.011124,
          146.986725,
          146.988541,
          146.979736,
          146.978409,
          146.993454,
          146.980576,
          146.988068,
          147.007645,
          147.016937,
          147.009415,
          147.005829,
          146.984024,
          146.99646,
          147.015091,
          146.987823,
          146.979782,
          146.983337,
          146.985764,
          146.994049,
          146.9881,
          146.9812,
          147.010239,
          146.986359,
          146.982,
          146.995026,
          147.0142,
          147.004379,
          147.0123,
          146.986481,
          146.9802,
          146.98616,
          147.01181,
          146.98999,
          147.010635,
          146.992584,
          146.981628,
          146.997559,
          147.007141,
          147.003815,
          146.9801,
          146.991257,
          146.977753,
          147.003021,
          146.98259,
          146.980591,
          146.98558,
          146.985428,
          147.015686,
          147.0035,
          146.978043,
          147.008667,
          147.008224,
          146.977463,
          146.982941,
          146.977,
          147.014511,
          146.9852,
          147.007965,
          146.9769,
          146.97644,
          147.011139,
          146.990112,
          146.977081,
          146.981232,
          146.983292,
          146.980179,
          146.9726,
          146.980652,
          146.98703,
          146.984436,
          147.015152,
          146.9906,
          147.005508,
          146.984116,
          147.012543,
          146.978745,
          146.989548,
          146.98349,
          147.0193,
          147.0123,
          146.995636,
          147.015228,
          146.931412,
          147.009689,
          146.993546,
          147.005844,
          147.011856,
          147.015076,
          147.011871,
          147.016281,
          147.012238,
          146.989334,
          146.96315,
          147.015915,
          146.9781,
          146.979782,
          147.006882,
          146.984085,
          146.985931,
          146.987778,
          146.9811,
          146.98024,
          146.982376,
          146.981979,
          147.015762,
          146.9842,
          146.984039,
          146.982178,
          146.9928,
          146.990387,
          147.009415,
          146.982681,
          147.008545,
          146.989639,
          146.979568,
          147.008347,
          147.0139,
          146.995239,
          146.978241,
          146.989944,
          146.988144,
          147.019348,
          146.97702,
          146.980682,
          146.982666,
          146.985458,
          146.997879,
          146.977753,
          146.983337
         ],
         "marker": {
          "color": "#636efa",
          "size": [
           1200000,
           629000,
           430000,
           700000,
           1100000,
           540000,
           666000,
           437000,
           860000,
           630000,
           681000,
           371500,
           520000,
           1155000,
           549000,
           705000,
           640000,
           900000,
           725000,
           549000,
           943000,
           630000,
           698000,
           695000,
           610000,
           535000,
           870000,
           650000,
           780000,
           1525000,
           720000,
           580000,
           615000,
           550000,
           495200,
           358000,
           500000,
           485000,
           630000,
           455000,
           550000,
           435000,
           565000,
           550000,
           395000,
           515000,
           770000,
           710000,
           605000,
           400000,
           815000,
           565000,
           612000,
           585000,
           590000,
           590000,
           532000,
           290000,
           585000,
           555000,
           420000,
           405000,
           495000,
           648000,
           850300,
           735000,
           590000,
           479000,
           755000,
           490000,
           582450,
           400000,
           545000,
           610000,
           585000,
           580000,
           529000,
           600000,
           705100,
           581000,
           555000,
           635000,
           550000,
           625000,
           576500,
           540000,
           580000,
           631000,
           375000,
           585000,
           430000,
           580000,
           418870,
           545000,
           800000,
           441000,
           330000,
           470000,
           922500,
           515000,
           530000,
           500500,
           675000,
           500000,
           620000,
           350000,
           625000,
           636500,
           415000,
           500000,
           419000,
           485000,
           555000,
           462000,
           455000,
           450000,
           540000,
           272000,
           440000,
           442000,
           315000,
           462000,
           700000,
           400000,
           388800,
           405000,
           650000,
           275000,
           795000,
           430000,
           560000,
           475000,
           430000,
           450000,
           540500,
           395000,
           565000,
           721000,
           539000,
           492000,
           574000,
           454000,
           435000,
           470000,
           450000,
           765000,
           565000,
           395000,
           900000,
           635000,
           535000,
           408000,
           725000,
           379000,
           408000,
           565000,
           369700,
           420000,
           525000,
           417000,
           535000,
           800000,
           495000,
           320000,
           311200,
           295000,
           575000,
           390000,
           530000,
           322000,
           230000,
           710000,
           495000,
           425000,
           236000,
           290000,
           415000,
           820000,
           457500,
           239000,
           351000,
           389000,
           726000,
           410000,
           420000
          ],
          "sizemode": "area",
          "sizeref": 3812.5
         },
         "mode": "markers",
         "name": "",
         "showlegend": false,
         "subplot": "mapbox",
         "type": "scattermapbox"
        }
       ],
       "layout": {
        "height": 600,
        "legend": {
         "itemsizing": "constant",
         "tracegroupgap": 0
        },
        "mapbox": {
         "center": {
          "lat": -36.04579346108108,
          "lon": 146.9924697891892
         },
         "domain": {
          "x": [
           0,
           1
          ],
          "y": [
           0,
           1
          ]
         },
         "style": "open-street-map",
         "zoom": 15
        },
        "margin": {
         "b": 0,
         "l": 0,
         "r": 0,
         "t": 0
        },
        "template": {
         "data": {
          "bar": [
           {
            "error_x": {
             "color": "#2a3f5f"
            },
            "error_y": {
             "color": "#2a3f5f"
            },
            "marker": {
             "line": {
              "color": "#E5ECF6",
              "width": 0.5
             },
             "pattern": {
              "fillmode": "overlay",
              "size": 10,
              "solidity": 0.2
             }
            },
            "type": "bar"
           }
          ],
          "barpolar": [
           {
            "marker": {
             "line": {
              "color": "#E5ECF6",
              "width": 0.5
             },
             "pattern": {
              "fillmode": "overlay",
              "size": 10,
              "solidity": 0.2
             }
            },
            "type": "barpolar"
           }
          ],
          "carpet": [
           {
            "aaxis": {
             "endlinecolor": "#2a3f5f",
             "gridcolor": "white",
             "linecolor": "white",
             "minorgridcolor": "white",
             "startlinecolor": "#2a3f5f"
            },
            "baxis": {
             "endlinecolor": "#2a3f5f",
             "gridcolor": "white",
             "linecolor": "white",
             "minorgridcolor": "white",
             "startlinecolor": "#2a3f5f"
            },
            "type": "carpet"
           }
          ],
          "choropleth": [
           {
            "colorbar": {
             "outlinewidth": 0,
             "ticks": ""
            },
            "type": "choropleth"
           }
          ],
          "contour": [
           {
            "colorbar": {
             "outlinewidth": 0,
             "ticks": ""
            },
            "colorscale": [
             [
              0,
              "#0d0887"
             ],
             [
              0.1111111111111111,
              "#46039f"
             ],
             [
              0.2222222222222222,
              "#7201a8"
             ],
             [
              0.3333333333333333,
              "#9c179e"
             ],
             [
              0.4444444444444444,
              "#bd3786"
             ],
             [
              0.5555555555555556,
              "#d8576b"
             ],
             [
              0.6666666666666666,
              "#ed7953"
             ],
             [
              0.7777777777777778,
              "#fb9f3a"
             ],
             [
              0.8888888888888888,
              "#fdca26"
             ],
             [
              1,
              "#f0f921"
             ]
            ],
            "type": "contour"
           }
          ],
          "contourcarpet": [
           {
            "colorbar": {
             "outlinewidth": 0,
             "ticks": ""
            },
            "type": "contourcarpet"
           }
          ],
          "heatmap": [
           {
            "colorbar": {
             "outlinewidth": 0,
             "ticks": ""
            },
            "colorscale": [
             [
              0,
              "#0d0887"
             ],
             [
              0.1111111111111111,
              "#46039f"
             ],
             [
              0.2222222222222222,
              "#7201a8"
             ],
             [
              0.3333333333333333,
              "#9c179e"
             ],
             [
              0.4444444444444444,
              "#bd3786"
             ],
             [
              0.5555555555555556,
              "#d8576b"
             ],
             [
              0.6666666666666666,
              "#ed7953"
             ],
             [
              0.7777777777777778,
              "#fb9f3a"
             ],
             [
              0.8888888888888888,
              "#fdca26"
             ],
             [
              1,
              "#f0f921"
             ]
            ],
            "type": "heatmap"
           }
          ],
          "heatmapgl": [
           {
            "colorbar": {
             "outlinewidth": 0,
             "ticks": ""
            },
            "colorscale": [
             [
              0,
              "#0d0887"
             ],
             [
              0.1111111111111111,
              "#46039f"
             ],
             [
              0.2222222222222222,
              "#7201a8"
             ],
             [
              0.3333333333333333,
              "#9c179e"
             ],
             [
              0.4444444444444444,
              "#bd3786"
             ],
             [
              0.5555555555555556,
              "#d8576b"
             ],
             [
              0.6666666666666666,
              "#ed7953"
             ],
             [
              0.7777777777777778,
              "#fb9f3a"
             ],
             [
              0.8888888888888888,
              "#fdca26"
             ],
             [
              1,
              "#f0f921"
             ]
            ],
            "type": "heatmapgl"
           }
          ],
          "histogram": [
           {
            "marker": {
             "pattern": {
              "fillmode": "overlay",
              "size": 10,
              "solidity": 0.2
             }
            },
            "type": "histogram"
           }
          ],
          "histogram2d": [
           {
            "colorbar": {
             "outlinewidth": 0,
             "ticks": ""
            },
            "colorscale": [
             [
              0,
              "#0d0887"
             ],
             [
              0.1111111111111111,
              "#46039f"
             ],
             [
              0.2222222222222222,
              "#7201a8"
             ],
             [
              0.3333333333333333,
              "#9c179e"
             ],
             [
              0.4444444444444444,
              "#bd3786"
             ],
             [
              0.5555555555555556,
              "#d8576b"
             ],
             [
              0.6666666666666666,
              "#ed7953"
             ],
             [
              0.7777777777777778,
              "#fb9f3a"
             ],
             [
              0.8888888888888888,
              "#fdca26"
             ],
             [
              1,
              "#f0f921"
             ]
            ],
            "type": "histogram2d"
           }
          ],
          "histogram2dcontour": [
           {
            "colorbar": {
             "outlinewidth": 0,
             "ticks": ""
            },
            "colorscale": [
             [
              0,
              "#0d0887"
             ],
             [
              0.1111111111111111,
              "#46039f"
             ],
             [
              0.2222222222222222,
              "#7201a8"
             ],
             [
              0.3333333333333333,
              "#9c179e"
             ],
             [
              0.4444444444444444,
              "#bd3786"
             ],
             [
              0.5555555555555556,
              "#d8576b"
             ],
             [
              0.6666666666666666,
              "#ed7953"
             ],
             [
              0.7777777777777778,
              "#fb9f3a"
             ],
             [
              0.8888888888888888,
              "#fdca26"
             ],
             [
              1,
              "#f0f921"
             ]
            ],
            "type": "histogram2dcontour"
           }
          ],
          "mesh3d": [
           {
            "colorbar": {
             "outlinewidth": 0,
             "ticks": ""
            },
            "type": "mesh3d"
           }
          ],
          "parcoords": [
           {
            "line": {
             "colorbar": {
              "outlinewidth": 0,
              "ticks": ""
             }
            },
            "type": "parcoords"
           }
          ],
          "pie": [
           {
            "automargin": true,
            "type": "pie"
           }
          ],
          "scatter": [
           {
            "fillpattern": {
             "fillmode": "overlay",
             "size": 10,
             "solidity": 0.2
            },
            "type": "scatter"
           }
          ],
          "scatter3d": [
           {
            "line": {
             "colorbar": {
              "outlinewidth": 0,
              "ticks": ""
             }
            },
            "marker": {
             "colorbar": {
              "outlinewidth": 0,
              "ticks": ""
             }
            },
            "type": "scatter3d"
           }
          ],
          "scattercarpet": [
           {
            "marker": {
             "colorbar": {
              "outlinewidth": 0,
              "ticks": ""
             }
            },
            "type": "scattercarpet"
           }
          ],
          "scattergeo": [
           {
            "marker": {
             "colorbar": {
              "outlinewidth": 0,
              "ticks": ""
             }
            },
            "type": "scattergeo"
           }
          ],
          "scattergl": [
           {
            "marker": {
             "colorbar": {
              "outlinewidth": 0,
              "ticks": ""
             }
            },
            "type": "scattergl"
           }
          ],
          "scattermapbox": [
           {
            "marker": {
             "colorbar": {
              "outlinewidth": 0,
              "ticks": ""
             }
            },
            "type": "scattermapbox"
           }
          ],
          "scatterpolar": [
           {
            "marker": {
             "colorbar": {
              "outlinewidth": 0,
              "ticks": ""
             }
            },
            "type": "scatterpolar"
           }
          ],
          "scatterpolargl": [
           {
            "marker": {
             "colorbar": {
              "outlinewidth": 0,
              "ticks": ""
             }
            },
            "type": "scatterpolargl"
           }
          ],
          "scatterternary": [
           {
            "marker": {
             "colorbar": {
              "outlinewidth": 0,
              "ticks": ""
             }
            },
            "type": "scatterternary"
           }
          ],
          "surface": [
           {
            "colorbar": {
             "outlinewidth": 0,
             "ticks": ""
            },
            "colorscale": [
             [
              0,
              "#0d0887"
             ],
             [
              0.1111111111111111,
              "#46039f"
             ],
             [
              0.2222222222222222,
              "#7201a8"
             ],
             [
              0.3333333333333333,
              "#9c179e"
             ],
             [
              0.4444444444444444,
              "#bd3786"
             ],
             [
              0.5555555555555556,
              "#d8576b"
             ],
             [
              0.6666666666666666,
              "#ed7953"
             ],
             [
              0.7777777777777778,
              "#fb9f3a"
             ],
             [
              0.8888888888888888,
              "#fdca26"
             ],
             [
              1,
              "#f0f921"
             ]
            ],
            "type": "surface"
           }
          ],
          "table": [
           {
            "cells": {
             "fill": {
              "color": "#EBF0F8"
             },
             "line": {
              "color": "white"
             }
            },
            "header": {
             "fill": {
              "color": "#C8D4E3"
             },
             "line": {
              "color": "white"
             }
            },
            "type": "table"
           }
          ]
         },
         "layout": {
          "annotationdefaults": {
           "arrowcolor": "#2a3f5f",
           "arrowhead": 0,
           "arrowwidth": 1
          },
          "autotypenumbers": "strict",
          "coloraxis": {
           "colorbar": {
            "outlinewidth": 0,
            "ticks": ""
           }
          },
          "colorscale": {
           "diverging": [
            [
             0,
             "#8e0152"
            ],
            [
             0.1,
             "#c51b7d"
            ],
            [
             0.2,
             "#de77ae"
            ],
            [
             0.3,
             "#f1b6da"
            ],
            [
             0.4,
             "#fde0ef"
            ],
            [
             0.5,
             "#f7f7f7"
            ],
            [
             0.6,
             "#e6f5d0"
            ],
            [
             0.7,
             "#b8e186"
            ],
            [
             0.8,
             "#7fbc41"
            ],
            [
             0.9,
             "#4d9221"
            ],
            [
             1,
             "#276419"
            ]
           ],
           "sequential": [
            [
             0,
             "#0d0887"
            ],
            [
             0.1111111111111111,
             "#46039f"
            ],
            [
             0.2222222222222222,
             "#7201a8"
            ],
            [
             0.3333333333333333,
             "#9c179e"
            ],
            [
             0.4444444444444444,
             "#bd3786"
            ],
            [
             0.5555555555555556,
             "#d8576b"
            ],
            [
             0.6666666666666666,
             "#ed7953"
            ],
            [
             0.7777777777777778,
             "#fb9f3a"
            ],
            [
             0.8888888888888888,
             "#fdca26"
            ],
            [
             1,
             "#f0f921"
            ]
           ],
           "sequentialminus": [
            [
             0,
             "#0d0887"
            ],
            [
             0.1111111111111111,
             "#46039f"
            ],
            [
             0.2222222222222222,
             "#7201a8"
            ],
            [
             0.3333333333333333,
             "#9c179e"
            ],
            [
             0.4444444444444444,
             "#bd3786"
            ],
            [
             0.5555555555555556,
             "#d8576b"
            ],
            [
             0.6666666666666666,
             "#ed7953"
            ],
            [
             0.7777777777777778,
             "#fb9f3a"
            ],
            [
             0.8888888888888888,
             "#fdca26"
            ],
            [
             1,
             "#f0f921"
            ]
           ]
          },
          "colorway": [
           "#636efa",
           "#EF553B",
           "#00cc96",
           "#ab63fa",
           "#FFA15A",
           "#19d3f3",
           "#FF6692",
           "#B6E880",
           "#FF97FF",
           "#FECB52"
          ],
          "font": {
           "color": "#2a3f5f"
          },
          "geo": {
           "bgcolor": "white",
           "lakecolor": "white",
           "landcolor": "#E5ECF6",
           "showlakes": true,
           "showland": true,
           "subunitcolor": "white"
          },
          "hoverlabel": {
           "align": "left"
          },
          "hovermode": "closest",
          "mapbox": {
           "style": "light"
          },
          "paper_bgcolor": "white",
          "plot_bgcolor": "#E5ECF6",
          "polar": {
           "angularaxis": {
            "gridcolor": "white",
            "linecolor": "white",
            "ticks": ""
           },
           "bgcolor": "#E5ECF6",
           "radialaxis": {
            "gridcolor": "white",
            "linecolor": "white",
            "ticks": ""
           }
          },
          "scene": {
           "xaxis": {
            "backgroundcolor": "#E5ECF6",
            "gridcolor": "white",
            "gridwidth": 2,
            "linecolor": "white",
            "showbackground": true,
            "ticks": "",
            "zerolinecolor": "white"
           },
           "yaxis": {
            "backgroundcolor": "#E5ECF6",
            "gridcolor": "white",
            "gridwidth": 2,
            "linecolor": "white",
            "showbackground": true,
            "ticks": "",
            "zerolinecolor": "white"
           },
           "zaxis": {
            "backgroundcolor": "#E5ECF6",
            "gridcolor": "white",
            "gridwidth": 2,
            "linecolor": "white",
            "showbackground": true,
            "ticks": "",
            "zerolinecolor": "white"
           }
          },
          "shapedefaults": {
           "line": {
            "color": "#2a3f5f"
           }
          },
          "ternary": {
           "aaxis": {
            "gridcolor": "white",
            "linecolor": "white",
            "ticks": ""
           },
           "baxis": {
            "gridcolor": "white",
            "linecolor": "white",
            "ticks": ""
           },
           "bgcolor": "#E5ECF6",
           "caxis": {
            "gridcolor": "white",
            "linecolor": "white",
            "ticks": ""
           }
          },
          "title": {
           "x": 0.05
          },
          "xaxis": {
           "automargin": true,
           "gridcolor": "white",
           "linecolor": "white",
           "ticks": "",
           "title": {
            "standoff": 15
           },
           "zerolinecolor": "white",
           "zerolinewidth": 2
          },
          "yaxis": {
           "automargin": true,
           "gridcolor": "white",
           "linecolor": "white",
           "ticks": "",
           "title": {
            "standoff": 15
           },
           "zerolinecolor": "white",
           "zerolinewidth": 2
          }
         }
        }
       }
      }
     },
     "metadata": {},
     "output_type": "display_data"
    }
   ],
   "source": [
    "import plotly.express as px\n",
    "\n",
    "fig = px.scatter_mapbox(df1, lat=\"latitude\", lon=\"longitude\", hover_name=\"id\",size = \"sold_price\", hover_data=[\"propertyType\", \"bedrooms\", \"bathrooms\", \"landArea\", \"displayableAddress\"],zoom=15, height=600)\n",
    "fig.update_layout(mapbox_style=\"open-street-map\")\n",
    "fig.update_layout(margin={\"r\":0,\"t\":0,\"l\":0,\"b\":0})\n",
    "fig.show()"
   ]
  },
  {
   "cell_type": "code",
   "execution_count": 10,
   "metadata": {},
   "outputs": [
    {
     "name": "stdout",
     "output_type": "stream",
     "text": [
      "Median price: 540000.000000 , Mean price: 554903.000000\n",
      "Skewness: 1.551535 , Kurtosis: 5.304177\n"
     ]
    }
   ],
   "source": [
    "print(\"Median price: %f\" % df1[\"sold_price\"].median(),\",\",\"Mean price: %f\" % df1[\"sold_price\"].mean().round())\n",
    "print(\"Skewness: %f\" % df1[\"sold_price\"].skew(),\",\", \"Kurtosis: %f\" % df1[\"sold_price\"].kurt())"
   ]
  },
  {
   "cell_type": "code",
   "execution_count": 11,
   "metadata": {},
   "outputs": [
    {
     "data": {
      "text/plain": [
       "<AxesSubplot:xlabel='landArea', ylabel='sold_price'>"
      ]
     },
     "execution_count": 11,
     "metadata": {},
     "output_type": "execute_result"
    },
    {
     "data": {
      "image/png": "[encoded data removed]",
      "text/plain": [
       "<Figure size 432x288 with 1 Axes>"
      ]
     },
     "metadata": {},
     "output_type": "display_data"
    }
   ],
   "source": [
    "var = 'landArea'\n",
    "df1.plot.scatter(x=var, y='sold_price', ylim=(0.800000))"
   ]
  },
  {
   "cell_type": "code",
   "execution_count": 12,
   "metadata": {},
   "outputs": [
    {
     "data": {
      "text/plain": [
       "<AxesSubplot:xlabel='landArea', ylabel='sold_price'>"
      ]
     },
     "execution_count": 12,
     "metadata": {},
     "output_type": "execute_result"
    },
    {
     "data": {
      "image/png": "[encoded data removed]",
      "text/plain": [
       "<Figure size 432x288 with 1 Axes>"
      ]
     },
     "metadata": {},
     "output_type": "display_data"
    }
   ],
   "source": [
    "# Remove outliers\n",
    "df1 = df1.drop(df1[df1['landArea'] >= 2000].index)\n",
    "df1.plot.scatter(x=var, y='sold_price', ylim=(0.800000))"
   ]
  },
  {
   "cell_type": "code",
   "execution_count": 13,
   "metadata": {},
   "outputs": [
    {
     "name": "stderr",
     "output_type": "stream",
     "text": [
      "/home/dasrk/.local/lib/python3.9/site-packages/seaborn/distributions.py:2619: FutureWarning:\n",
      "\n",
      "`distplot` is a deprecated function and will be removed in a future version. Please adapt your code to use either `displot` (a figure-level function with similar flexibility) or `histplot` (an axes-level function for histograms).\n",
      "\n"
     ]
    },
    {
     "name": "stdout",
     "output_type": "stream",
     "text": [
      "\n",
      " mu = 541164.56 and sigma = 152622.86\n",
      "\n"
     ]
    },
    {
     "data": {
      "image/png": "[encoded data removed]",
      "text/plain": [
       "<Figure size 432x288 with 1 Axes>"
      ]
     },
     "metadata": {},
     "output_type": "display_data"
    },
    {
     "data": {
      "image/png": "[encoded data removed]",
      "text/plain": [
       "<Figure size 432x288 with 1 Axes>"
      ]
     },
     "metadata": {},
     "output_type": "display_data"
    }
   ],
   "source": [
    "from scipy import stats\n",
    "from scipy.stats import norm, skew\n",
    "sns.distplot(df1.sold_price, fit=norm)\n",
    "(mu, sigma) = norm.fit(df1['sold_price'])\n",
    "print( '\\n mu = {:.2f} and sigma = {:.2f}\\n'.format(mu, sigma))\n",
    "\n",
    "#Now plot the distribution\n",
    "plt.legend(['Normal dist. ($\\mu=$ {:.2f} and $\\sigma=$ {:.2f} )'.format(mu, sigma)],loc='upper center')\n",
    "plt.ylabel('Frequency')\n",
    "plt.title('SoldPrice distribution')\n",
    "\n",
    "#Get also the QQ-plot\n",
    "fig = plt.figure()\n",
    "res = stats.probplot(df1['sold_price'], plot=plt)\n",
    "plt.show()"
   ]
  },
  {
   "cell_type": "code",
   "execution_count": 14,
   "metadata": {},
   "outputs": [],
   "source": [
    "data = df1.copy()"
   ]
  },
  {
   "cell_type": "code",
   "execution_count": 15,
   "metadata": {},
   "outputs": [
    {
     "name": "stderr",
     "output_type": "stream",
     "text": [
      "/home/dasrk/.local/lib/python3.9/site-packages/seaborn/distributions.py:2619: FutureWarning:\n",
      "\n",
      "`distplot` is a deprecated function and will be removed in a future version. Please adapt your code to use either `displot` (a figure-level function with similar flexibility) or `histplot` (an axes-level function for histograms).\n",
      "\n"
     ]
    },
    {
     "data": {
      "image/png": "[encoded data removed]",
      "text/plain": [
       "<Figure size 432x288 with 1 Axes>"
      ]
     },
     "metadata": {},
     "output_type": "display_data"
    },
    {
     "data": {
      "image/png": "[encoded data removed]",
      "text/plain": [
       "<Figure size 432x288 with 1 Axes>"
      ]
     },
     "metadata": {},
     "output_type": "display_data"
    }
   ],
   "source": [
    "#applying log transformation\n",
    "data['sold_price'] = np.log(data['sold_price'])\n",
    "#transformed histogram and normal probability plot\n",
    "sns.distplot(data['sold_price'], fit=norm);\n",
    "fig = plt.figure()\n",
    "res = stats.probplot(data['sold_price'], plot=plt)"
   ]
  },
  {
   "cell_type": "markdown",
   "metadata": {},
   "source": [
    "## Selecting an optimal machine learning model"
   ]
  },
  {
   "cell_type": "code",
   "execution_count": 16,
   "metadata": {},
   "outputs": [
    {
     "ename": "ModuleNotFoundError",
     "evalue": "No module named 'xgboost'",
     "output_type": "error",
     "traceback": [
      "\u001b[0;31m---------------------------------------------------------------------------\u001b[0m",
      "\u001b[0;31mModuleNotFoundError\u001b[0m                       Traceback (most recent call last)",
      "\u001b[1;32m/home/dasrk/Nextcloud/Documents/Python/Git_Projects/Property_market_analysis/EDA.ipynb Cell 16'\u001b[0m in \u001b[0;36m<cell line: 9>\u001b[0;34m()\u001b[0m\n\u001b[1;32m      <a href='vscode-notebook-cell:/home/dasrk/Nextcloud/Documents/Python/Git_Projects/Property_market_analysis/EDA.ipynb#ch0000015?line=6'>7</a>\u001b[0m \u001b[39mfrom\u001b[39;00m \u001b[39msklearn\u001b[39;00m\u001b[39m.\u001b[39;00m\u001b[39mmodel_selection\u001b[39;00m \u001b[39mimport\u001b[39;00m KFold, cross_val_score, train_test_split\n\u001b[1;32m      <a href='vscode-notebook-cell:/home/dasrk/Nextcloud/Documents/Python/Git_Projects/Property_market_analysis/EDA.ipynb#ch0000015?line=7'>8</a>\u001b[0m \u001b[39mfrom\u001b[39;00m \u001b[39msklearn\u001b[39;00m\u001b[39m.\u001b[39;00m\u001b[39mmetrics\u001b[39;00m \u001b[39mimport\u001b[39;00m mean_squared_error\n\u001b[0;32m----> <a href='vscode-notebook-cell:/home/dasrk/Nextcloud/Documents/Python/Git_Projects/Property_market_analysis/EDA.ipynb#ch0000015?line=8'>9</a>\u001b[0m \u001b[39mimport\u001b[39;00m \u001b[39mxgboost\u001b[39;00m \u001b[39mas\u001b[39;00m \u001b[39mxgb\u001b[39;00m\n\u001b[1;32m     <a href='vscode-notebook-cell:/home/dasrk/Nextcloud/Documents/Python/Git_Projects/Property_market_analysis/EDA.ipynb#ch0000015?line=9'>10</a>\u001b[0m \u001b[39mimport\u001b[39;00m \u001b[39mlightgbm\u001b[39;00m \u001b[39mas\u001b[39;00m \u001b[39mlgb\u001b[39;00m\n",
      "\u001b[0;31mModuleNotFoundError\u001b[0m: No module named 'xgboost'"
     ]
    }
   ],
   "source": [
    "from sklearn.linear_model import ElasticNet, Lasso,  BayesianRidge, LassoLarsIC\n",
    "from sklearn.ensemble import RandomForestRegressor,  GradientBoostingRegressor\n",
    "from sklearn.kernel_ridge import KernelRidge\n",
    "from sklearn.pipeline import make_pipeline\n",
    "from sklearn.preprocessing import RobustScaler\n",
    "from sklearn.base import BaseEstimator, TransformerMixin, RegressorMixin, clone\n",
    "from sklearn.model_selection import KFold, cross_val_score, train_test_split\n",
    "from sklearn.metrics import mean_squared_error\n",
    "import xgboost as xgb\n",
    "import lightgbm as lgb"
   ]
  },
  {
   "cell_type": "code",
   "execution_count": null,
   "metadata": {},
   "outputs": [],
   "source": [
    "#Validation function\n",
    "n_folds = 5\n",
    "\n",
    "def rmsle_cv(model):\n",
    "    kf = KFold(n_folds, shuffle=True, random_state=42).get_n_splits(x_train.values)\n",
    "    rmse= np.sqrt(-cross_val_score(model, x_train.values, y_train, scoring=\"neg_mean_squared_error\", cv = kf))\n",
    "    return(rmse)"
   ]
  },
  {
   "cell_type": "code",
   "execution_count": null,
   "metadata": {},
   "outputs": [
    {
     "name": "stdout",
     "output_type": "stream",
     "text": [
      "(127, 4) (127,) (43, 4) (43,)\n"
     ]
    }
   ],
   "source": [
    "x_train, x_test, y_train, y_test = train_test_split(data[['bedrooms','bathrooms','carspaces','landArea']], data['sold_price'])\n",
    "print(x_train.shape, y_train.shape, x_test.shape, y_test.shape)"
   ]
  },
  {
   "cell_type": "markdown",
   "metadata": {},
   "source": [
    "Base models"
   ]
  },
  {
   "cell_type": "code",
   "execution_count": null,
   "metadata": {},
   "outputs": [
    {
     "name": "stdout",
     "output_type": "stream",
     "text": [
      "\n",
      "Lasso score: 0.2036 (0.0311)\n",
      "\n"
     ]
    }
   ],
   "source": [
    "lasso = make_pipeline(RobustScaler(), Lasso(alpha =0.0005, random_state=1))\n",
    "score = rmsle_cv(lasso)\n",
    "print(\"\\nLasso score: {:.4f} ({:.4f})\\n\".format(score.mean(), score.std()))"
   ]
  },
  {
   "cell_type": "code",
   "execution_count": null,
   "metadata": {},
   "outputs": [
    {
     "name": "stdout",
     "output_type": "stream",
     "text": [
      "<bound method Series.unique of 0     461322.519638\n",
      "1     378651.503090\n",
      "2     509266.474180\n",
      "3     253236.184345\n",
      "4     529584.100143\n",
      "5     342559.204711\n",
      "6     436308.549137\n",
      "7     437338.856277\n",
      "8     352548.938938\n",
      "9     276144.667123\n",
      "10    268787.750821\n",
      "11    445784.557622\n",
      "12    439997.878564\n",
      "13    780960.434216\n",
      "14    366110.546717\n",
      "15    450207.134160\n",
      "16    438340.199121\n",
      "17    439614.781607\n",
      "18    279695.195905\n",
      "19    269313.862567\n",
      "20    233666.461056\n",
      "21    431646.351039\n",
      "22    278884.269892\n",
      "23    509335.882852\n",
      "24    269001.259560\n",
      "25    489188.873947\n",
      "26    430145.011345\n",
      "27    521153.982113\n",
      "28    429520.995370\n",
      "29    431270.525566\n",
      "30    429520.995370\n",
      "31    466711.604304\n",
      "32    493887.058967\n",
      "33    421368.327394\n",
      "34    448120.482596\n",
      "35    461456.485351\n",
      "36    487005.351325\n",
      "37    542324.802233\n",
      "38    692105.111348\n",
      "39    456525.568265\n",
      "40    440381.309365\n",
      "41    443460.809136\n",
      "42    371896.052080\n",
      "dtype: float64>\n"
     ]
    }
   ],
   "source": [
    "model_lasso = make_pipeline(RobustScaler(), Lasso(alpha =0.0005, random_state=1)).fit(x_train, y_train)\n",
    "lasso_preds = np.expm1(model_lasso.predict(x_test))\n",
    "z = pd.Series(lasso_preds)\n",
    "print(z.unique)"
   ]
  },
  {
   "cell_type": "code",
   "execution_count": null,
   "metadata": {},
   "outputs": [
    {
     "name": "stdout",
     "output_type": "stream",
     "text": [
      "\n",
      "Enet score: 0.2036 (0.0311)\n",
      "\n"
     ]
    }
   ],
   "source": [
    "ENet = make_pipeline(RobustScaler(), ElasticNet(alpha=0.0005, l1_ratio=.9, random_state=3))\n",
    "score = rmsle_cv(ENet)\n",
    "print(\"\\nEnet score: {:.4f} ({:.4f})\\n\".format(score.mean(), score.std()))\n"
   ]
  },
  {
   "cell_type": "code",
   "execution_count": null,
   "metadata": {},
   "outputs": [
    {
     "name": "stdout",
     "output_type": "stream",
     "text": [
      "\n",
      "KRR score: 0.2764 (0.1451)\n",
      "\n"
     ]
    }
   ],
   "source": [
    "KRR = KernelRidge(alpha=0.6, kernel='polynomial', degree=2, coef0=2.5)\n",
    "score = rmsle_cv(KRR)\n",
    "print(\"\\nKRR score: {:.4f} ({:.4f})\\n\".format(score.mean(), score.std()))"
   ]
  },
  {
   "cell_type": "code",
   "execution_count": null,
   "metadata": {},
   "outputs": [
    {
     "name": "stdout",
     "output_type": "stream",
     "text": [
      "\n",
      "GBoost score: 0.2442 (0.0283)\n",
      "\n"
     ]
    }
   ],
   "source": [
    "GBoost = GradientBoostingRegressor(n_estimators=3000, learning_rate=0.05,\n",
    "                                   max_depth=4, max_features='sqrt',\n",
    "                                   min_samples_leaf=15, min_samples_split=10, \n",
    "                                   loss='huber', random_state =5)\n",
    "score = rmsle_cv(GBoost)\n",
    "print(\"\\nGBoost score: {:.4f} ({:.4f})\\n\".format(score.mean(), score.std()))"
   ]
  },
  {
   "cell_type": "code",
   "execution_count": null,
   "metadata": {},
   "outputs": [
    {
     "name": "stdout",
     "output_type": "stream",
     "text": [
      "[17:33:04] WARNING: ../src/learner.cc:541: \n",
      "Parameters: { silent } might not be used.\n",
      "\n",
      "  This may not be accurate due to some parameters are only used in language bindings but\n",
      "  passed down to XGBoost core.  Or some parameters are not used but slip through this\n",
      "  verification. Please open an issue if you find above cases.\n",
      "\n",
      "\n",
      "[17:33:05] WARNING: ../src/learner.cc:541: \n",
      "Parameters: { silent } might not be used.\n",
      "\n",
      "  This may not be accurate due to some parameters are only used in language bindings but\n",
      "  passed down to XGBoost core.  Or some parameters are not used but slip through this\n",
      "  verification. Please open an issue if you find above cases.\n",
      "\n",
      "\n",
      "[17:33:05] WARNING: ../src/learner.cc:541: \n",
      "Parameters: { silent } might not be used.\n",
      "\n",
      "  This may not be accurate due to some parameters are only used in language bindings but\n",
      "  passed down to XGBoost core.  Or some parameters are not used but slip through this\n",
      "  verification. Please open an issue if you find above cases.\n",
      "\n",
      "\n",
      "[17:33:06] WARNING: ../src/learner.cc:541: \n",
      "Parameters: { silent } might not be used.\n",
      "\n",
      "  This may not be accurate due to some parameters are only used in language bindings but\n",
      "  passed down to XGBoost core.  Or some parameters are not used but slip through this\n",
      "  verification. Please open an issue if you find above cases.\n",
      "\n",
      "\n",
      "[17:33:06] WARNING: ../src/learner.cc:541: \n",
      "Parameters: { silent } might not be used.\n",
      "\n",
      "  This may not be accurate due to some parameters are only used in language bindings but\n",
      "  passed down to XGBoost core.  Or some parameters are not used but slip through this\n",
      "  verification. Please open an issue if you find above cases.\n",
      "\n",
      "\n",
      "\n",
      "model_xgb score: 0.1927 (0.0210)\n",
      "\n"
     ]
    }
   ],
   "source": [
    "model_xgb = xgb.XGBRegressor(colsample_bytree=0.4603, gamma=0.0468, \n",
    "                             learning_rate=0.05, max_depth=3, \n",
    "                             min_child_weight=1.7817, n_estimators=2200,\n",
    "                             reg_alpha=0.4640, reg_lambda=0.8571,\n",
    "                             subsample=0.5213, silent=1,\n",
    "                             random_state =7, nthread = -1)\n",
    "score = rmsle_cv(model_xgb)\n",
    "print(\"\\nmodel_xgb score: {:.4f} ({:.4f})\\n\".format(score.mean(), score.std()))"
   ]
  },
  {
   "cell_type": "code",
   "execution_count": null,
   "metadata": {},
   "outputs": [
    {
     "name": "stdout",
     "output_type": "stream",
     "text": [
      "[LightGBM] [Warning] feature_fraction is set=0.2319, colsample_bytree=1.0 will be ignored. Current value: feature_fraction=0.2319\n",
      "[LightGBM] [Warning] min_sum_hessian_in_leaf is set=11, min_child_weight=0.001 will be ignored. Current value: min_sum_hessian_in_leaf=11\n",
      "[LightGBM] [Warning] min_data_in_leaf is set=6, min_child_samples=20 will be ignored. Current value: min_data_in_leaf=6\n",
      "[LightGBM] [Warning] bagging_freq is set=5, subsample_freq=0 will be ignored. Current value: bagging_freq=5\n",
      "[LightGBM] [Warning] bagging_fraction is set=0.8, subsample=1.0 will be ignored. Current value: bagging_fraction=0.8\n",
      "[LightGBM] [Warning] feature_fraction is set=0.2319, colsample_bytree=1.0 will be ignored. Current value: feature_fraction=0.2319\n",
      "[LightGBM] [Warning] min_sum_hessian_in_leaf is set=11, min_child_weight=0.001 will be ignored. Current value: min_sum_hessian_in_leaf=11\n",
      "[LightGBM] [Warning] min_data_in_leaf is set=6, min_child_samples=20 will be ignored. Current value: min_data_in_leaf=6\n",
      "[LightGBM] [Warning] bagging_freq is set=5, subsample_freq=0 will be ignored. Current value: bagging_freq=5\n",
      "[LightGBM] [Warning] bagging_fraction is set=0.8, subsample=1.0 will be ignored. Current value: bagging_fraction=0.8\n",
      "[LightGBM] [Warning] feature_fraction is set=0.2319, colsample_bytree=1.0 will be ignored. Current value: feature_fraction=0.2319\n",
      "[LightGBM] [Warning] min_sum_hessian_in_leaf is set=11, min_child_weight=0.001 will be ignored. Current value: min_sum_hessian_in_leaf=11\n",
      "[LightGBM] [Warning] min_data_in_leaf is set=6, min_child_samples=20 will be ignored. Current value: min_data_in_leaf=6\n",
      "[LightGBM] [Warning] bagging_freq is set=5, subsample_freq=0 will be ignored. Current value: bagging_freq=5\n",
      "[LightGBM] [Warning] bagging_fraction is set=0.8, subsample=1.0 will be ignored. Current value: bagging_fraction=0.8\n",
      "[LightGBM] [Warning] feature_fraction is set=0.2319, colsample_bytree=1.0 will be ignored. Current value: feature_fraction=0.2319\n",
      "[LightGBM] [Warning] min_sum_hessian_in_leaf is set=11, min_child_weight=0.001 will be ignored. Current value: min_sum_hessian_in_leaf=11\n",
      "[LightGBM] [Warning] min_data_in_leaf is set=6, min_child_samples=20 will be ignored. Current value: min_data_in_leaf=6\n",
      "[LightGBM] [Warning] bagging_freq is set=5, subsample_freq=0 will be ignored. Current value: bagging_freq=5\n",
      "[LightGBM] [Warning] bagging_fraction is set=0.8, subsample=1.0 will be ignored. Current value: bagging_fraction=0.8\n",
      "[LightGBM] [Warning] feature_fraction is set=0.2319, colsample_bytree=1.0 will be ignored. Current value: feature_fraction=0.2319\n",
      "[LightGBM] [Warning] min_sum_hessian_in_leaf is set=11, min_child_weight=0.001 will be ignored. Current value: min_sum_hessian_in_leaf=11\n",
      "[LightGBM] [Warning] min_data_in_leaf is set=6, min_child_samples=20 will be ignored. Current value: min_data_in_leaf=6\n",
      "[LightGBM] [Warning] bagging_freq is set=5, subsample_freq=0 will be ignored. Current value: bagging_freq=5\n",
      "[LightGBM] [Warning] bagging_fraction is set=0.8, subsample=1.0 will be ignored. Current value: bagging_fraction=0.8\n",
      "\n",
      "model_lgb score: 0.2101 (0.0234)\n",
      "\n"
     ]
    }
   ],
   "source": [
    "model_lgb = lgb.LGBMRegressor(objective='regression',num_leaves=5,\n",
    "                              learning_rate=0.05, n_estimators=720,\n",
    "                              max_bin = 55, bagging_fraction = 0.8,\n",
    "                              bagging_freq = 5, feature_fraction = 0.2319,\n",
    "                              feature_fraction_seed=9, bagging_seed=9,\n",
    "                              min_data_in_leaf =6, min_sum_hessian_in_leaf = 11)\n",
    "score = rmsle_cv(model_lgb)\n",
    "print(\"\\nmodel_lgb score: {:.4f} ({:.4f})\\n\".format(score.mean(), score.std()))"
   ]
  },
  {
   "cell_type": "code",
   "execution_count": null,
   "metadata": {},
   "outputs": [
    {
     "name": "stdout",
     "output_type": "stream",
     "text": [
      "[LightGBM] [Warning] feature_fraction is set=0.2319, colsample_bytree=1.0 will be ignored. Current value: feature_fraction=0.2319\n",
      "[LightGBM] [Warning] min_sum_hessian_in_leaf is set=11, min_child_weight=0.001 will be ignored. Current value: min_sum_hessian_in_leaf=11\n",
      "[LightGBM] [Warning] min_data_in_leaf is set=6, min_child_samples=20 will be ignored. Current value: min_data_in_leaf=6\n",
      "[LightGBM] [Warning] bagging_freq is set=5, subsample_freq=0 will be ignored. Current value: bagging_freq=5\n",
      "[LightGBM] [Warning] bagging_fraction is set=0.8, subsample=1.0 will be ignored. Current value: bagging_fraction=0.8\n",
      "[473247. 611621. 270962. 573938. 376548. 350189.]\n"
     ]
    }
   ],
   "source": [
    "model_lgb = lgb.LGBMRegressor(objective='regression',num_leaves=5,\n",
    "                              learning_rate=0.05, n_estimators=720,\n",
    "                              max_bin = 55, bagging_fraction = 0.8,\n",
    "                              bagging_freq = 5, feature_fraction = 0.2319,\n",
    "                              feature_fraction_seed=9, bagging_seed=9,\n",
    "                              min_data_in_leaf =6, min_sum_hessian_in_leaf = 11).fit(x_train, y_train)\n",
    "lgb_preds = np.expm1(model_lgb.predict(x_test))\n",
    "z = pd.Series(lgb_preds)\n",
    "print(z.round(0).unique())"
   ]
  },
  {
   "cell_type": "code",
   "execution_count": null,
   "metadata": {},
   "outputs": [],
   "source": [
    "# Define R2\n",
    "def adjustedR2(r2,n,k):\n",
    "    return r2-(k-1)/(n-k)*(1-r2)"
   ]
  },
  {
   "cell_type": "code",
   "execution_count": null,
   "metadata": {},
   "outputs": [
    {
     "data": {
      "text/html": [
       "<div>\n",
       "<style scoped>\n",
       "    .dataframe tbody tr th:only-of-type {\n",
       "        vertical-align: middle;\n",
       "    }\n",
       "\n",
       "    .dataframe tbody tr th {\n",
       "        vertical-align: top;\n",
       "    }\n",
       "\n",
       "    .dataframe thead th {\n",
       "        text-align: right;\n",
       "    }\n",
       "</style>\n",
       "<table border=\"1\" class=\"dataframe\">\n",
       "  <thead>\n",
       "    <tr style=\"text-align: right;\">\n",
       "      <th></th>\n",
       "      <th>state</th>\n",
       "      <th>features</th>\n",
       "      <th>propertyType</th>\n",
       "      <th>bathrooms</th>\n",
       "      <th>bedrooms</th>\n",
       "      <th>carspaces</th>\n",
       "      <th>unitNumber</th>\n",
       "      <th>streetNumber</th>\n",
       "      <th>street</th>\n",
       "      <th>area</th>\n",
       "      <th>region</th>\n",
       "      <th>suburb</th>\n",
       "      <th>postcode</th>\n",
       "      <th>displayableAddress</th>\n",
       "      <th>latitude</th>\n",
       "      <th>longitude</th>\n",
       "      <th>landArea</th>\n",
       "      <th>id</th>\n",
       "      <th>labels</th>\n",
       "    </tr>\n",
       "  </thead>\n",
       "  <tbody>\n",
       "    <tr>\n",
       "      <th>0</th>\n",
       "      <td>NSW</td>\n",
       "      <td>['Ensuite', 'Gas', 'SecureParking', 'Heating']</td>\n",
       "      <td>House</td>\n",
       "      <td>2</td>\n",
       "      <td>4</td>\n",
       "      <td>2</td>\n",
       "      <td>NaN</td>\n",
       "      <td>2</td>\n",
       "      <td>Sturt  Place</td>\n",
       "      <td>Albury - Greater Region</td>\n",
       "      <td>Regional NSW</td>\n",
       "      <td>THURGOONA</td>\n",
       "      <td>2640</td>\n",
       "      <td>2 Sturt  Place, Thurgoona</td>\n",
       "      <td>-36.018143</td>\n",
       "      <td>147.015686</td>\n",
       "      <td>808</td>\n",
       "      <td>2016849141</td>\n",
       "      <td>-1</td>\n",
       "    </tr>\n",
       "    <tr>\n",
       "      <th>1</th>\n",
       "      <td>NSW</td>\n",
       "      <td>['AirConditioning', 'BuiltInWardrobes', 'Ensuite', 'Gas', 'SecureParking', 'BroadbandInternetAccess', 'Heating', 'Dishwasher', 'Shed']</td>\n",
       "      <td>House</td>\n",
       "      <td>2</td>\n",
       "      <td>4</td>\n",
       "      <td>2</td>\n",
       "      <td>NaN</td>\n",
       "      <td>10</td>\n",
       "      <td>Lindisfarne Court</td>\n",
       "      <td>Albury - Greater Region</td>\n",
       "      <td>Regional NSW</td>\n",
       "      <td>THURGOONA</td>\n",
       "      <td>2640</td>\n",
       "      <td>10 Lindisfarne Court, Thurgoona</td>\n",
       "      <td>-36.054200</td>\n",
       "      <td>146.997559</td>\n",
       "      <td>721</td>\n",
       "      <td>2016841907</td>\n",
       "      <td>0</td>\n",
       "    </tr>\n",
       "    <tr>\n",
       "      <th>2</th>\n",
       "      <td>NSW</td>\n",
       "      <td>['BuiltInWardrobes', 'Ensuite', 'Floorboards', 'Gas', 'SecureParking', 'SwimmingPool', 'Bath', 'Heating', 'Dishwasher', 'Study', 'Shed', 'FullyFenced']</td>\n",
       "      <td>House</td>\n",
       "      <td>2</td>\n",
       "      <td>4</td>\n",
       "      <td>3</td>\n",
       "      <td>NaN</td>\n",
       "      <td>15</td>\n",
       "      <td>Gale Court</td>\n",
       "      <td>Albury - Greater Region</td>\n",
       "      <td>Regional NSW</td>\n",
       "      <td>THURGOONA</td>\n",
       "      <td>2640</td>\n",
       "      <td>15 Gale Court, Thurgoona</td>\n",
       "      <td>-36.039530</td>\n",
       "      <td>147.003021</td>\n",
       "      <td>3093</td>\n",
       "      <td>2016819354</td>\n",
       "      <td>1</td>\n",
       "    </tr>\n",
       "    <tr>\n",
       "      <th>3</th>\n",
       "      <td>NSW</td>\n",
       "      <td>['AirConditioning', 'BuiltInWardrobes', 'Ensuite', 'SecureParking', 'SwimmingPool', 'Heating', 'Study']</td>\n",
       "      <td>House</td>\n",
       "      <td>2</td>\n",
       "      <td>4</td>\n",
       "      <td>2</td>\n",
       "      <td>NaN</td>\n",
       "      <td>20</td>\n",
       "      <td>Whittler Road</td>\n",
       "      <td>Albury - Greater Region</td>\n",
       "      <td>Regional NSW</td>\n",
       "      <td>THURGOONA</td>\n",
       "      <td>2640</td>\n",
       "      <td>20 Whittler Road, Thurgoona</td>\n",
       "      <td>-36.025080</td>\n",
       "      <td>146.985428</td>\n",
       "      <td>665</td>\n",
       "      <td>2016823788</td>\n",
       "      <td>-1</td>\n",
       "    </tr>\n",
       "    <tr>\n",
       "      <th>4</th>\n",
       "      <td>NSW</td>\n",
       "      <td>['Ensuite', 'Gas', 'SecureParking', 'SwimmingPool', 'Gym', 'Heating', 'Shed', 'DoubleGlazedWindows', 'SolarPanels']</td>\n",
       "      <td>House</td>\n",
       "      <td>2</td>\n",
       "      <td>4</td>\n",
       "      <td>2</td>\n",
       "      <td>NaN</td>\n",
       "      <td>103</td>\n",
       "      <td>Forest Drive</td>\n",
       "      <td>Albury - Greater Region</td>\n",
       "      <td>Regional NSW</td>\n",
       "      <td>THURGOONA</td>\n",
       "      <td>2640</td>\n",
       "      <td>103 Forest Drive, Thurgoona</td>\n",
       "      <td>-36.046596</td>\n",
       "      <td>147.008224</td>\n",
       "      <td>1380</td>\n",
       "      <td>2016382640</td>\n",
       "      <td>1</td>\n",
       "    </tr>\n",
       "  </tbody>\n",
       "</table>\n",
       "</div>"
      ],
      "text/plain": [
       "  state  \\\n",
       "0  NSW    \n",
       "1  NSW    \n",
       "2  NSW    \n",
       "3  NSW    \n",
       "4  NSW    \n",
       "\n",
       "                                                                                                                                                  features  \\\n",
       "0  ['Ensuite', 'Gas', 'SecureParking', 'Heating']                                                                                                            \n",
       "1  ['AirConditioning', 'BuiltInWardrobes', 'Ensuite', 'Gas', 'SecureParking', 'BroadbandInternetAccess', 'Heating', 'Dishwasher', 'Shed']                    \n",
       "2  ['BuiltInWardrobes', 'Ensuite', 'Floorboards', 'Gas', 'SecureParking', 'SwimmingPool', 'Bath', 'Heating', 'Dishwasher', 'Study', 'Shed', 'FullyFenced']   \n",
       "3  ['AirConditioning', 'BuiltInWardrobes', 'Ensuite', 'SecureParking', 'SwimmingPool', 'Heating', 'Study']                                                   \n",
       "4  ['Ensuite', 'Gas', 'SecureParking', 'SwimmingPool', 'Gym', 'Heating', 'Shed', 'DoubleGlazedWindows', 'SolarPanels']                                       \n",
       "\n",
       "  propertyType  bathrooms  bedrooms  carspaces  unitNumber  streetNumber  \\\n",
       "0  House        2          4         2         NaN          2              \n",
       "1  House        2          4         2         NaN          10             \n",
       "2  House        2          4         3         NaN          15             \n",
       "3  House        2          4         2         NaN          20             \n",
       "4  House        2          4         2         NaN          103            \n",
       "\n",
       "              street                     area        region     suburb  \\\n",
       "0  Sturt  Place       Albury - Greater Region  Regional NSW  THURGOONA   \n",
       "1  Lindisfarne Court  Albury - Greater Region  Regional NSW  THURGOONA   \n",
       "2  Gale Court         Albury - Greater Region  Regional NSW  THURGOONA   \n",
       "3  Whittler Road      Albury - Greater Region  Regional NSW  THURGOONA   \n",
       "4  Forest Drive       Albury - Greater Region  Regional NSW  THURGOONA   \n",
       "\n",
       "   postcode               displayableAddress   latitude   longitude  landArea  \\\n",
       "0  2640      2 Sturt  Place, Thurgoona       -36.018143  147.015686  808        \n",
       "1  2640      10 Lindisfarne Court, Thurgoona -36.054200  146.997559  721        \n",
       "2  2640      15 Gale Court, Thurgoona        -36.039530  147.003021  3093       \n",
       "3  2640      20 Whittler Road, Thurgoona     -36.025080  146.985428  665        \n",
       "4  2640      103 Forest Drive, Thurgoona     -36.046596  147.008224  1380       \n",
       "\n",
       "           id  labels  \n",
       "0  2016849141 -1       \n",
       "1  2016841907  0       \n",
       "2  2016819354  1       \n",
       "3  2016823788 -1       \n",
       "4  2016382640  1       "
      ]
     },
     "execution_count": 88,
     "metadata": {},
     "output_type": "execute_result"
    }
   ],
   "source": [
    "df2 = pd.read_csv(\"ForSale_Properties.csv\")\n",
    "df2.head()"
   ]
  },
  {
   "cell_type": "code",
   "execution_count": null,
   "metadata": {},
   "outputs": [
    {
     "data": {
      "text/plain": [
       "(28, 19)"
      ]
     },
     "execution_count": 89,
     "metadata": {},
     "output_type": "execute_result"
    }
   ],
   "source": [
    "df2.shape"
   ]
  },
  {
   "cell_type": "code",
   "execution_count": null,
   "metadata": {},
   "outputs": [
    {
     "data": {
      "text/plain": [
       "(28, 4)"
      ]
     },
     "execution_count": 90,
     "metadata": {},
     "output_type": "execute_result"
    }
   ],
   "source": [
    "X = df2[['bathrooms','bedrooms','carspaces','landArea']]\n",
    "X.head()"
   ]
  },
  {
   "cell_type": "code",
   "execution_count": null,
   "metadata": {},
   "outputs": [
    {
     "data": {
      "text/plain": [
       "27"
      ]
     },
     "execution_count": 94,
     "metadata": {},
     "output_type": "execute_result"
    }
   ],
   "source": [
    "df2['Price (estimated)'] = np.expm1(model_lasso.predict(X))\n",
    "df2['Price (estimated)'] = df2['Price (estimated)'].astype(int)\n",
    "len(df2['Price (estimated)'].round(0).unique())"
   ]
  },
  {
   "cell_type": "code",
   "execution_count": null,
   "metadata": {},
   "outputs": [
    {
     "data": {
      "text/html": [
       "<div>\n",
       "<style scoped>\n",
       "    .dataframe tbody tr th:only-of-type {\n",
       "        vertical-align: middle;\n",
       "    }\n",
       "\n",
       "    .dataframe tbody tr th {\n",
       "        vertical-align: top;\n",
       "    }\n",
       "\n",
       "    .dataframe thead th {\n",
       "        text-align: right;\n",
       "    }\n",
       "</style>\n",
       "<table border=\"1\" class=\"dataframe\">\n",
       "  <thead>\n",
       "    <tr style=\"text-align: right;\">\n",
       "      <th></th>\n",
       "      <th>state</th>\n",
       "      <th>features</th>\n",
       "      <th>propertyType</th>\n",
       "      <th>bathrooms</th>\n",
       "      <th>bedrooms</th>\n",
       "      <th>carspaces</th>\n",
       "      <th>unitNumber</th>\n",
       "      <th>streetNumber</th>\n",
       "      <th>street</th>\n",
       "      <th>area</th>\n",
       "      <th>region</th>\n",
       "      <th>suburb</th>\n",
       "      <th>postcode</th>\n",
       "      <th>displayableAddress</th>\n",
       "      <th>latitude</th>\n",
       "      <th>longitude</th>\n",
       "      <th>landArea</th>\n",
       "      <th>id</th>\n",
       "      <th>labels</th>\n",
       "      <th>Price (estimated)</th>\n",
       "    </tr>\n",
       "  </thead>\n",
       "  <tbody>\n",
       "    <tr>\n",
       "      <th>0</th>\n",
       "      <td>NSW</td>\n",
       "      <td>['Ensuite', 'Gas', 'SecureParking', 'Heating']</td>\n",
       "      <td>House</td>\n",
       "      <td>2</td>\n",
       "      <td>4</td>\n",
       "      <td>2</td>\n",
       "      <td>NaN</td>\n",
       "      <td>2</td>\n",
       "      <td>Sturt  Place</td>\n",
       "      <td>Albury - Greater Region</td>\n",
       "      <td>Regional NSW</td>\n",
       "      <td>THURGOONA</td>\n",
       "      <td>2640</td>\n",
       "      <td>2 Sturt  Place, Thurgoona</td>\n",
       "      <td>-36.018143</td>\n",
       "      <td>147.015686</td>\n",
       "      <td>808</td>\n",
       "      <td>2016849141</td>\n",
       "      <td>-1</td>\n",
       "      <td>676111</td>\n",
       "    </tr>\n",
       "    <tr>\n",
       "      <th>1</th>\n",
       "      <td>NSW</td>\n",
       "      <td>['AirConditioning', 'BuiltInWardrobes', 'Ensuite', 'Gas', 'SecureParking', 'BroadbandInternetAccess', 'Heating', 'Dishwasher', 'Shed']</td>\n",
       "      <td>House</td>\n",
       "      <td>2</td>\n",
       "      <td>4</td>\n",
       "      <td>2</td>\n",
       "      <td>NaN</td>\n",
       "      <td>10</td>\n",
       "      <td>Lindisfarne Court</td>\n",
       "      <td>Albury - Greater Region</td>\n",
       "      <td>Regional NSW</td>\n",
       "      <td>THURGOONA</td>\n",
       "      <td>2640</td>\n",
       "      <td>10 Lindisfarne Court, Thurgoona</td>\n",
       "      <td>-36.054200</td>\n",
       "      <td>146.997559</td>\n",
       "      <td>721</td>\n",
       "      <td>2016841907</td>\n",
       "      <td>0</td>\n",
       "      <td>652388</td>\n",
       "    </tr>\n",
       "    <tr>\n",
       "      <th>2</th>\n",
       "      <td>NSW</td>\n",
       "      <td>['BuiltInWardrobes', 'Ensuite', 'Floorboards', 'Gas', 'SecureParking', 'SwimmingPool', 'Bath', 'Heating', 'Dishwasher', 'Study', 'Shed', 'FullyFenced']</td>\n",
       "      <td>House</td>\n",
       "      <td>2</td>\n",
       "      <td>4</td>\n",
       "      <td>3</td>\n",
       "      <td>NaN</td>\n",
       "      <td>15</td>\n",
       "      <td>Gale Court</td>\n",
       "      <td>Albury - Greater Region</td>\n",
       "      <td>Regional NSW</td>\n",
       "      <td>THURGOONA</td>\n",
       "      <td>2640</td>\n",
       "      <td>15 Gale Court, Thurgoona</td>\n",
       "      <td>-36.039530</td>\n",
       "      <td>147.003021</td>\n",
       "      <td>3093</td>\n",
       "      <td>2016819354</td>\n",
       "      <td>1</td>\n",
       "      <td>1813225</td>\n",
       "    </tr>\n",
       "    <tr>\n",
       "      <th>3</th>\n",
       "      <td>NSW</td>\n",
       "      <td>['AirConditioning', 'BuiltInWardrobes', 'Ensuite', 'SecureParking', 'SwimmingPool', 'Heating', 'Study']</td>\n",
       "      <td>House</td>\n",
       "      <td>2</td>\n",
       "      <td>4</td>\n",
       "      <td>2</td>\n",
       "      <td>NaN</td>\n",
       "      <td>20</td>\n",
       "      <td>Whittler Road</td>\n",
       "      <td>Albury - Greater Region</td>\n",
       "      <td>Regional NSW</td>\n",
       "      <td>THURGOONA</td>\n",
       "      <td>2640</td>\n",
       "      <td>20 Whittler Road, Thurgoona</td>\n",
       "      <td>-36.025080</td>\n",
       "      <td>146.985428</td>\n",
       "      <td>665</td>\n",
       "      <td>2016823788</td>\n",
       "      <td>-1</td>\n",
       "      <td>637560</td>\n",
       "    </tr>\n",
       "    <tr>\n",
       "      <th>4</th>\n",
       "      <td>NSW</td>\n",
       "      <td>['Ensuite', 'Gas', 'SecureParking', 'SwimmingPool', 'Gym', 'Heating', 'Shed', 'DoubleGlazedWindows', 'SolarPanels']</td>\n",
       "      <td>House</td>\n",
       "      <td>2</td>\n",
       "      <td>4</td>\n",
       "      <td>2</td>\n",
       "      <td>NaN</td>\n",
       "      <td>103</td>\n",
       "      <td>Forest Drive</td>\n",
       "      <td>Albury - Greater Region</td>\n",
       "      <td>Regional NSW</td>\n",
       "      <td>THURGOONA</td>\n",
       "      <td>2640</td>\n",
       "      <td>103 Forest Drive, Thurgoona</td>\n",
       "      <td>-36.046596</td>\n",
       "      <td>147.008224</td>\n",
       "      <td>1380</td>\n",
       "      <td>2016382640</td>\n",
       "      <td>1</td>\n",
       "      <td>855075</td>\n",
       "    </tr>\n",
       "    <tr>\n",
       "      <th>5</th>\n",
       "      <td>NSW</td>\n",
       "      <td>['Ensuite', 'Gas', 'SecureParking', 'Heating']</td>\n",
       "      <td>House</td>\n",
       "      <td>2</td>\n",
       "      <td>4</td>\n",
       "      <td>2</td>\n",
       "      <td>NaN</td>\n",
       "      <td>36</td>\n",
       "      <td>Stockman Circuit</td>\n",
       "      <td>Albury - Greater Region</td>\n",
       "      <td>Regional NSW</td>\n",
       "      <td>THURGOONA</td>\n",
       "      <td>2640</td>\n",
       "      <td>36 Stockman Circuit, Thurgoona</td>\n",
       "      <td>-36.055607</td>\n",
       "      <td>147.010635</td>\n",
       "      <td>925</td>\n",
       "      <td>2016798090</td>\n",
       "      <td>1</td>\n",
       "      <td>709379</td>\n",
       "    </tr>\n",
       "    <tr>\n",
       "      <th>6</th>\n",
       "      <td>NSW</td>\n",
       "      <td>['BuiltInWardrobes', 'Ensuite', 'Gas', 'SecureParking', 'Bath', 'Heating', 'Dishwasher', 'Study', 'Shed', 'FullyFenced', 'SolarPanels']</td>\n",
       "      <td>House</td>\n",
       "      <td>2</td>\n",
       "      <td>4</td>\n",
       "      <td>3</td>\n",
       "      <td>NaN</td>\n",
       "      <td>101</td>\n",
       "      <td>Forest Drive</td>\n",
       "      <td>Albury - Greater Region</td>\n",
       "      <td>Regional NSW</td>\n",
       "      <td>THURGOONA</td>\n",
       "      <td>2640</td>\n",
       "      <td>101 Forest Drive, Thurgoona</td>\n",
       "      <td>-36.046730</td>\n",
       "      <td>147.008667</td>\n",
       "      <td>935</td>\n",
       "      <td>2016816192</td>\n",
       "      <td>1</td>\n",
       "      <td>747628</td>\n",
       "    </tr>\n",
       "    <tr>\n",
       "      <th>7</th>\n",
       "      <td>NSW</td>\n",
       "      <td>['Ensuite', 'Gas', 'SecureParking', 'SwimmingPool', 'Heating']</td>\n",
       "      <td>House</td>\n",
       "      <td>2</td>\n",
       "      <td>5</td>\n",
       "      <td>3</td>\n",
       "      <td>NaN</td>\n",
       "      <td>43</td>\n",
       "      <td>Hartigan Street</td>\n",
       "      <td>Albury - Greater Region</td>\n",
       "      <td>Regional NSW</td>\n",
       "      <td>THURGOONA</td>\n",
       "      <td>2640</td>\n",
       "      <td>43 Hartigan Street, Thurgoona</td>\n",
       "      <td>-36.041466</td>\n",
       "      <td>146.986160</td>\n",
       "      <td>817</td>\n",
       "      <td>2016781446</td>\n",
       "      <td>0</td>\n",
       "      <td>989026</td>\n",
       "    </tr>\n",
       "    <tr>\n",
       "      <th>8</th>\n",
       "      <td>NSW</td>\n",
       "      <td>['Ensuite', 'Gas', 'SecureParking', 'Bath', 'Heating', 'Dishwasher']</td>\n",
       "      <td>House</td>\n",
       "      <td>2</td>\n",
       "      <td>4</td>\n",
       "      <td>2</td>\n",
       "      <td>NaN</td>\n",
       "      <td>57</td>\n",
       "      <td>Fairway Gardens Road</td>\n",
       "      <td>Albury - Greater Region</td>\n",
       "      <td>Regional NSW</td>\n",
       "      <td>THURGOONA</td>\n",
       "      <td>2640</td>\n",
       "      <td>57 Fairway Gardens Road, Thurgoona</td>\n",
       "      <td>-36.044422</td>\n",
       "      <td>147.007141</td>\n",
       "      <td>758</td>\n",
       "      <td>2016788918</td>\n",
       "      <td>1</td>\n",
       "      <td>662373</td>\n",
       "    </tr>\n",
       "    <tr>\n",
       "      <th>9</th>\n",
       "      <td>NSW</td>\n",
       "      <td>['Ensuite', 'Gas', 'SecureParking', 'Heating', 'SolarPanels']</td>\n",
       "      <td>House</td>\n",
       "      <td>2</td>\n",
       "      <td>4</td>\n",
       "      <td>2</td>\n",
       "      <td>NaN</td>\n",
       "      <td>90</td>\n",
       "      <td>Honeyeater Circuit</td>\n",
       "      <td>Albury - Greater Region</td>\n",
       "      <td>Regional NSW</td>\n",
       "      <td>THURGOONA</td>\n",
       "      <td>2640</td>\n",
       "      <td>90 Honeyeater Circuit, Thurgoona</td>\n",
       "      <td>-36.037678</td>\n",
       "      <td>146.980591</td>\n",
       "      <td>616</td>\n",
       "      <td>2016829918</td>\n",
       "      <td>0</td>\n",
       "      <td>624863</td>\n",
       "    </tr>\n",
       "    <tr>\n",
       "      <th>10</th>\n",
       "      <td>NSW</td>\n",
       "      <td>['Ensuite', 'Gas', 'Dishwasher', 'Study']</td>\n",
       "      <td>House</td>\n",
       "      <td>2</td>\n",
       "      <td>4</td>\n",
       "      <td>2</td>\n",
       "      <td>NaN</td>\n",
       "      <td>10</td>\n",
       "      <td>Baw Baw Street</td>\n",
       "      <td>Albury - Greater Region</td>\n",
       "      <td>Regional NSW</td>\n",
       "      <td>THURGOONA</td>\n",
       "      <td>2640</td>\n",
       "      <td>10 Baw Baw Street, Thurgoona</td>\n",
       "      <td>-36.052055</td>\n",
       "      <td>146.985580</td>\n",
       "      <td>903</td>\n",
       "      <td>2016782387</td>\n",
       "      <td>0</td>\n",
       "      <td>703001</td>\n",
       "    </tr>\n",
       "    <tr>\n",
       "      <th>11</th>\n",
       "      <td>NSW</td>\n",
       "      <td>['BuiltInWardrobes', 'Ensuite', 'Floorboards', 'Gas', 'SecureParking', 'Bath', 'Heating', 'Dishwasher', 'Study', 'FullyFenced', 'SolarPanels']</td>\n",
       "      <td>House</td>\n",
       "      <td>2</td>\n",
       "      <td>3</td>\n",
       "      <td>2</td>\n",
       "      <td>NaN</td>\n",
       "      <td>92</td>\n",
       "      <td>Pickworth Street</td>\n",
       "      <td>Albury - Greater Region</td>\n",
       "      <td>Regional NSW</td>\n",
       "      <td>THURGOONA</td>\n",
       "      <td>2640</td>\n",
       "      <td>92 Pickworth Street, Thurgoona</td>\n",
       "      <td>-36.051174</td>\n",
       "      <td>147.007965</td>\n",
       "      <td>508</td>\n",
       "      <td>2016772952</td>\n",
       "      <td>1</td>\n",
       "      <td>430494</td>\n",
       "    </tr>\n",
       "    <tr>\n",
       "      <th>12</th>\n",
       "      <td>NSW</td>\n",
       "      <td>['Ensuite', 'Gas', 'SecureParking', 'Heating']</td>\n",
       "      <td>House</td>\n",
       "      <td>2</td>\n",
       "      <td>4</td>\n",
       "      <td>2</td>\n",
       "      <td>NaN</td>\n",
       "      <td>18</td>\n",
       "      <td>Cassinia  Court</td>\n",
       "      <td>Albury - Greater Region</td>\n",
       "      <td>Regional NSW</td>\n",
       "      <td>THURGOONA</td>\n",
       "      <td>2640</td>\n",
       "      <td>18 Cassinia  Court, Thurgoona</td>\n",
       "      <td>-36.053780</td>\n",
       "      <td>146.976900</td>\n",
       "      <td>767</td>\n",
       "      <td>2016794201</td>\n",
       "      <td>0</td>\n",
       "      <td>664825</td>\n",
       "    </tr>\n",
       "    <tr>\n",
       "      <th>13</th>\n",
       "      <td>NSW</td>\n",
       "      <td>['AirConditioning', 'Ensuite', 'Gas', 'SecureParking', 'Bath', 'Heating', 'Dishwasher', 'Shed']</td>\n",
       "      <td>House</td>\n",
       "      <td>2</td>\n",
       "      <td>4</td>\n",
       "      <td>4</td>\n",
       "      <td>NaN</td>\n",
       "      <td>10</td>\n",
       "      <td>Bullfrog Court</td>\n",
       "      <td>Albury - Greater Region</td>\n",
       "      <td>Regional NSW</td>\n",
       "      <td>THURGOONA</td>\n",
       "      <td>2640</td>\n",
       "      <td>10 Bullfrog Court, Thurgoona</td>\n",
       "      <td>-36.038013</td>\n",
       "      <td>146.982590</td>\n",
       "      <td>1044</td>\n",
       "      <td>2016823046</td>\n",
       "      <td>0</td>\n",
       "      <td>820624</td>\n",
       "    </tr>\n",
       "    <tr>\n",
       "      <th>14</th>\n",
       "      <td>NSW</td>\n",
       "      <td>['BuiltInWardrobes', 'CableOrSatellite', 'Ensuite', 'Gas', 'SecureParking', 'Bath', 'Heating', 'Dishwasher', 'FullyFenced']</td>\n",
       "      <td>House</td>\n",
       "      <td>2</td>\n",
       "      <td>4</td>\n",
       "      <td>2</td>\n",
       "      <td>NaN</td>\n",
       "      <td>181</td>\n",
       "      <td>Ava Avenue</td>\n",
       "      <td>Albury - Greater Region</td>\n",
       "      <td>Regional NSW</td>\n",
       "      <td>THURGOONA</td>\n",
       "      <td>2640</td>\n",
       "      <td>181 Ava Avenue, Thurgoona</td>\n",
       "      <td>-36.034260</td>\n",
       "      <td>146.978134</td>\n",
       "      <td>603</td>\n",
       "      <td>2016798322</td>\n",
       "      <td>0</td>\n",
       "      <td>621537</td>\n",
       "    </tr>\n",
       "    <tr>\n",
       "      <th>15</th>\n",
       "      <td>NSW</td>\n",
       "      <td>['Ensuite', 'Gas', 'SecureParking', 'NorthFacing', 'Heating']</td>\n",
       "      <td>House</td>\n",
       "      <td>2</td>\n",
       "      <td>4</td>\n",
       "      <td>2</td>\n",
       "      <td>NaN</td>\n",
       "      <td>11</td>\n",
       "      <td>Belah Court</td>\n",
       "      <td>Albury - Greater Region</td>\n",
       "      <td>Regional NSW</td>\n",
       "      <td>THURGOONA</td>\n",
       "      <td>2640</td>\n",
       "      <td>11 Belah Court, Thurgoona</td>\n",
       "      <td>-36.051617</td>\n",
       "      <td>146.977753</td>\n",
       "      <td>651</td>\n",
       "      <td>2016828439</td>\n",
       "      <td>0</td>\n",
       "      <td>633906</td>\n",
       "    </tr>\n",
       "    <tr>\n",
       "      <th>16</th>\n",
       "      <td>NSW</td>\n",
       "      <td>['Ensuite', 'Gas', 'SwimmingPool', 'Heating', 'Dishwasher']</td>\n",
       "      <td>House</td>\n",
       "      <td>1</td>\n",
       "      <td>3</td>\n",
       "      <td>2</td>\n",
       "      <td>NaN</td>\n",
       "      <td>2</td>\n",
       "      <td>Hotham Circuit</td>\n",
       "      <td>Albury - Greater Region</td>\n",
       "      <td>Regional NSW</td>\n",
       "      <td>THURGOONA</td>\n",
       "      <td>2640</td>\n",
       "      <td>2 Hotham Circuit, Thurgoona</td>\n",
       "      <td>-36.048830</td>\n",
       "      <td>146.989990</td>\n",
       "      <td>850</td>\n",
       "      <td>2016806821</td>\n",
       "      <td>0</td>\n",
       "      <td>431448</td>\n",
       "    </tr>\n",
       "    <tr>\n",
       "      <th>17</th>\n",
       "      <td>NSW</td>\n",
       "      <td>['AirConditioning', 'BuiltInWardrobes', 'Gas', 'SecureParking', 'Bath', 'Heating', 'Shed']</td>\n",
       "      <td>House</td>\n",
       "      <td>1</td>\n",
       "      <td>3</td>\n",
       "      <td>2</td>\n",
       "      <td>NaN</td>\n",
       "      <td>92</td>\n",
       "      <td>Feathertop Circuit</td>\n",
       "      <td>Albury - Greater Region</td>\n",
       "      <td>Regional NSW</td>\n",
       "      <td>THURGOONA</td>\n",
       "      <td>2640</td>\n",
       "      <td>92 Feathertop Circuit, Thurgoona</td>\n",
       "      <td>-36.051900</td>\n",
       "      <td>146.989500</td>\n",
       "      <td>809</td>\n",
       "      <td>2016829309</td>\n",
       "      <td>0</td>\n",
       "      <td>424246</td>\n",
       "    </tr>\n",
       "    <tr>\n",
       "      <th>18</th>\n",
       "      <td>NSW</td>\n",
       "      <td>['Ensuite', 'Gas', 'SecureParking', 'Heating', 'Shed']</td>\n",
       "      <td>House</td>\n",
       "      <td>2</td>\n",
       "      <td>4</td>\n",
       "      <td>2</td>\n",
       "      <td>NaN</td>\n",
       "      <td>48</td>\n",
       "      <td>Norman Way</td>\n",
       "      <td>Albury - Greater Region</td>\n",
       "      <td>Regional NSW</td>\n",
       "      <td>THURGOONA</td>\n",
       "      <td>2640</td>\n",
       "      <td>48 Norman Way, Thurgoona</td>\n",
       "      <td>-36.044740</td>\n",
       "      <td>147.003500</td>\n",
       "      <td>819</td>\n",
       "      <td>2016810954</td>\n",
       "      <td>1</td>\n",
       "      <td>679171</td>\n",
       "    </tr>\n",
       "    <tr>\n",
       "      <th>19</th>\n",
       "      <td>NSW</td>\n",
       "      <td>['Ensuite', 'Gas', 'SecureParking', 'Heating', 'Study']</td>\n",
       "      <td>House</td>\n",
       "      <td>2</td>\n",
       "      <td>4</td>\n",
       "      <td>2</td>\n",
       "      <td>NaN</td>\n",
       "      <td>116</td>\n",
       "      <td>Dryandra Way</td>\n",
       "      <td>Albury - Greater Region</td>\n",
       "      <td>Regional NSW</td>\n",
       "      <td>THURGOONA</td>\n",
       "      <td>2640</td>\n",
       "      <td>116 Dryandra Way, Thurgoona</td>\n",
       "      <td>-36.052900</td>\n",
       "      <td>146.976440</td>\n",
       "      <td>722</td>\n",
       "      <td>2016722274</td>\n",
       "      <td>0</td>\n",
       "      <td>652656</td>\n",
       "    </tr>\n",
       "    <tr>\n",
       "      <th>20</th>\n",
       "      <td>NSW</td>\n",
       "      <td>['Ensuite', 'SecureParking', 'SwimmingPool', 'Shed']</td>\n",
       "      <td>House</td>\n",
       "      <td>2</td>\n",
       "      <td>3</td>\n",
       "      <td>2</td>\n",
       "      <td>NaN</td>\n",
       "      <td>33</td>\n",
       "      <td>Honeysuckle Street</td>\n",
       "      <td>Albury - Greater Region</td>\n",
       "      <td>Regional NSW</td>\n",
       "      <td>THURGOONA</td>\n",
       "      <td>2640</td>\n",
       "      <td>33 Honeysuckle Street, Thurgoona</td>\n",
       "      <td>-36.052624</td>\n",
       "      <td>146.977463</td>\n",
       "      <td>810</td>\n",
       "      <td>2016797009</td>\n",
       "      <td>0</td>\n",
       "      <td>487318</td>\n",
       "    </tr>\n",
       "    <tr>\n",
       "      <th>21</th>\n",
       "      <td>NSW</td>\n",
       "      <td>['AirConditioning', 'Ensuite', 'Gas', 'Heating', 'Study', 'Shed']</td>\n",
       "      <td>House</td>\n",
       "      <td>1</td>\n",
       "      <td>3</td>\n",
       "      <td>2</td>\n",
       "      <td>NaN</td>\n",
       "      <td>13</td>\n",
       "      <td>Lacebark Court</td>\n",
       "      <td>Albury - Greater Region</td>\n",
       "      <td>Regional NSW</td>\n",
       "      <td>THURGOONA</td>\n",
       "      <td>2640</td>\n",
       "      <td>13 Lacebark Court, Thurgoona</td>\n",
       "      <td>-36.045685</td>\n",
       "      <td>146.978043</td>\n",
       "      <td>715</td>\n",
       "      <td>2016788774</td>\n",
       "      <td>0</td>\n",
       "      <td>408186</td>\n",
       "    </tr>\n",
       "    <tr>\n",
       "      <th>22</th>\n",
       "      <td>NSW</td>\n",
       "      <td>['Dishwasher', 'Shed']</td>\n",
       "      <td>House</td>\n",
       "      <td>1</td>\n",
       "      <td>3</td>\n",
       "      <td>1</td>\n",
       "      <td>NaN</td>\n",
       "      <td>37</td>\n",
       "      <td>Hotham Cct</td>\n",
       "      <td>Albury - Greater Region</td>\n",
       "      <td>Regional NSW</td>\n",
       "      <td>THURGOONA</td>\n",
       "      <td>2640</td>\n",
       "      <td>37 Hotham Cct, Thurgoona</td>\n",
       "      <td>-36.048275</td>\n",
       "      <td>146.991257</td>\n",
       "      <td>703</td>\n",
       "      <td>2016760172</td>\n",
       "      <td>0</td>\n",
       "      <td>386985</td>\n",
       "    </tr>\n",
       "    <tr>\n",
       "      <th>23</th>\n",
       "      <td>NSW</td>\n",
       "      <td>['AirConditioning', 'BuiltInWardrobes', 'Ensuite', 'SwimmingPool', 'Heating']</td>\n",
       "      <td>House</td>\n",
       "      <td>2</td>\n",
       "      <td>5</td>\n",
       "      <td>3</td>\n",
       "      <td>NaN</td>\n",
       "      <td>12</td>\n",
       "      <td>Winnell  Court</td>\n",
       "      <td>Albury - Greater Region</td>\n",
       "      <td>Regional NSW</td>\n",
       "      <td>THURGOONA</td>\n",
       "      <td>2640</td>\n",
       "      <td>12 Winnell  Court, Thurgoona</td>\n",
       "      <td>-36.040360</td>\n",
       "      <td>146.982941</td>\n",
       "      <td>813</td>\n",
       "      <td>2016719511</td>\n",
       "      <td>0</td>\n",
       "      <td>987404</td>\n",
       "    </tr>\n",
       "    <tr>\n",
       "      <th>24</th>\n",
       "      <td>NSW</td>\n",
       "      <td>['Ensuite', 'Gas', 'SecureParking', 'Heating']</td>\n",
       "      <td>House</td>\n",
       "      <td>2</td>\n",
       "      <td>4</td>\n",
       "      <td>2</td>\n",
       "      <td>NaN</td>\n",
       "      <td>9</td>\n",
       "      <td>Firetail Street</td>\n",
       "      <td>Albury - Greater Region</td>\n",
       "      <td>Regional NSW</td>\n",
       "      <td>THURGOONA</td>\n",
       "      <td>2640</td>\n",
       "      <td>9 Firetail Street, Thurgoona</td>\n",
       "      <td>-36.037098</td>\n",
       "      <td>146.984116</td>\n",
       "      <td>594</td>\n",
       "      <td>2016669391</td>\n",
       "      <td>0</td>\n",
       "      <td>619244</td>\n",
       "    </tr>\n",
       "    <tr>\n",
       "      <th>25</th>\n",
       "      <td>NSW</td>\n",
       "      <td>['Ensuite', 'Floorboards', 'Gas', 'SecureParking', 'Heating', 'Dishwasher', 'Shed']</td>\n",
       "      <td>House</td>\n",
       "      <td>2</td>\n",
       "      <td>4</td>\n",
       "      <td>2</td>\n",
       "      <td>NaN</td>\n",
       "      <td>14</td>\n",
       "      <td>Quandong Road</td>\n",
       "      <td>Albury - Greater Region</td>\n",
       "      <td>Regional NSW</td>\n",
       "      <td>THURGOONA</td>\n",
       "      <td>2640</td>\n",
       "      <td>14 Quandong Road, Thurgoona</td>\n",
       "      <td>-36.049366</td>\n",
       "      <td>146.977000</td>\n",
       "      <td>634</td>\n",
       "      <td>2016645435</td>\n",
       "      <td>0</td>\n",
       "      <td>629497</td>\n",
       "    </tr>\n",
       "    <tr>\n",
       "      <th>26</th>\n",
       "      <td>NSW</td>\n",
       "      <td>['AirConditioning', 'BuiltInWardrobes', 'Ensuite', 'Heating', 'Dishwasher', 'FullyFenced']</td>\n",
       "      <td>House</td>\n",
       "      <td>2</td>\n",
       "      <td>4</td>\n",
       "      <td>2</td>\n",
       "      <td>NaN</td>\n",
       "      <td>10</td>\n",
       "      <td>Cremin Court</td>\n",
       "      <td>Albury - Greater Region</td>\n",
       "      <td>Regional NSW</td>\n",
       "      <td>THURGOONA</td>\n",
       "      <td>2640</td>\n",
       "      <td>10 Cremin Court, Thurgoona</td>\n",
       "      <td>-36.047527</td>\n",
       "      <td>147.008072</td>\n",
       "      <td>800</td>\n",
       "      <td>2016796775</td>\n",
       "      <td>1</td>\n",
       "      <td>673894</td>\n",
       "    </tr>\n",
       "    <tr>\n",
       "      <th>27</th>\n",
       "      <td>NSW</td>\n",
       "      <td>['BuiltInWardrobes', 'Floorboards', 'Gas', 'SecureParking', 'Heating', 'Dishwasher', 'Study', 'FullyFenced']</td>\n",
       "      <td>House</td>\n",
       "      <td>2</td>\n",
       "      <td>4</td>\n",
       "      <td>2</td>\n",
       "      <td>NaN</td>\n",
       "      <td>18</td>\n",
       "      <td>Zeil Circuit</td>\n",
       "      <td>Albury - Greater Region</td>\n",
       "      <td>Regional NSW</td>\n",
       "      <td>THURGOONA</td>\n",
       "      <td>2640</td>\n",
       "      <td>18 Zeil Circuit, Thurgoona</td>\n",
       "      <td>-36.050000</td>\n",
       "      <td>146.983337</td>\n",
       "      <td>594</td>\n",
       "      <td>2016818866</td>\n",
       "      <td>0</td>\n",
       "      <td>619244</td>\n",
       "    </tr>\n",
       "  </tbody>\n",
       "</table>\n",
       "</div>"
      ],
      "text/plain": [
       "   state  \\\n",
       "0   NSW    \n",
       "1   NSW    \n",
       "2   NSW    \n",
       "3   NSW    \n",
       "4   NSW    \n",
       "5   NSW    \n",
       "6   NSW    \n",
       "7   NSW    \n",
       "8   NSW    \n",
       "9   NSW    \n",
       "10  NSW    \n",
       "11  NSW    \n",
       "12  NSW    \n",
       "13  NSW    \n",
       "14  NSW    \n",
       "15  NSW    \n",
       "16  NSW    \n",
       "17  NSW    \n",
       "18  NSW    \n",
       "19  NSW    \n",
       "20  NSW    \n",
       "21  NSW    \n",
       "22  NSW    \n",
       "23  NSW    \n",
       "24  NSW    \n",
       "25  NSW    \n",
       "26  NSW    \n",
       "27  NSW    \n",
       "\n",
       "                                                                                                                                                   features  \\\n",
       "0   ['Ensuite', 'Gas', 'SecureParking', 'Heating']                                                                                                            \n",
       "1   ['AirConditioning', 'BuiltInWardrobes', 'Ensuite', 'Gas', 'SecureParking', 'BroadbandInternetAccess', 'Heating', 'Dishwasher', 'Shed']                    \n",
       "2   ['BuiltInWardrobes', 'Ensuite', 'Floorboards', 'Gas', 'SecureParking', 'SwimmingPool', 'Bath', 'Heating', 'Dishwasher', 'Study', 'Shed', 'FullyFenced']   \n",
       "3   ['AirConditioning', 'BuiltInWardrobes', 'Ensuite', 'SecureParking', 'SwimmingPool', 'Heating', 'Study']                                                   \n",
       "4   ['Ensuite', 'Gas', 'SecureParking', 'SwimmingPool', 'Gym', 'Heating', 'Shed', 'DoubleGlazedWindows', 'SolarPanels']                                       \n",
       "5   ['Ensuite', 'Gas', 'SecureParking', 'Heating']                                                                                                            \n",
       "6   ['BuiltInWardrobes', 'Ensuite', 'Gas', 'SecureParking', 'Bath', 'Heating', 'Dishwasher', 'Study', 'Shed', 'FullyFenced', 'SolarPanels']                   \n",
       "7   ['Ensuite', 'Gas', 'SecureParking', 'SwimmingPool', 'Heating']                                                                                            \n",
       "8   ['Ensuite', 'Gas', 'SecureParking', 'Bath', 'Heating', 'Dishwasher']                                                                                      \n",
       "9   ['Ensuite', 'Gas', 'SecureParking', 'Heating', 'SolarPanels']                                                                                             \n",
       "10  ['Ensuite', 'Gas', 'Dishwasher', 'Study']                                                                                                                 \n",
       "11  ['BuiltInWardrobes', 'Ensuite', 'Floorboards', 'Gas', 'SecureParking', 'Bath', 'Heating', 'Dishwasher', 'Study', 'FullyFenced', 'SolarPanels']            \n",
       "12  ['Ensuite', 'Gas', 'SecureParking', 'Heating']                                                                                                            \n",
       "13  ['AirConditioning', 'Ensuite', 'Gas', 'SecureParking', 'Bath', 'Heating', 'Dishwasher', 'Shed']                                                           \n",
       "14  ['BuiltInWardrobes', 'CableOrSatellite', 'Ensuite', 'Gas', 'SecureParking', 'Bath', 'Heating', 'Dishwasher', 'FullyFenced']                               \n",
       "15  ['Ensuite', 'Gas', 'SecureParking', 'NorthFacing', 'Heating']                                                                                             \n",
       "16  ['Ensuite', 'Gas', 'SwimmingPool', 'Heating', 'Dishwasher']                                                                                               \n",
       "17  ['AirConditioning', 'BuiltInWardrobes', 'Gas', 'SecureParking', 'Bath', 'Heating', 'Shed']                                                                \n",
       "18  ['Ensuite', 'Gas', 'SecureParking', 'Heating', 'Shed']                                                                                                    \n",
       "19  ['Ensuite', 'Gas', 'SecureParking', 'Heating', 'Study']                                                                                                   \n",
       "20  ['Ensuite', 'SecureParking', 'SwimmingPool', 'Shed']                                                                                                      \n",
       "21  ['AirConditioning', 'Ensuite', 'Gas', 'Heating', 'Study', 'Shed']                                                                                         \n",
       "22  ['Dishwasher', 'Shed']                                                                                                                                    \n",
       "23  ['AirConditioning', 'BuiltInWardrobes', 'Ensuite', 'SwimmingPool', 'Heating']                                                                             \n",
       "24  ['Ensuite', 'Gas', 'SecureParking', 'Heating']                                                                                                            \n",
       "25  ['Ensuite', 'Floorboards', 'Gas', 'SecureParking', 'Heating', 'Dishwasher', 'Shed']                                                                       \n",
       "26  ['AirConditioning', 'BuiltInWardrobes', 'Ensuite', 'Heating', 'Dishwasher', 'FullyFenced']                                                                \n",
       "27  ['BuiltInWardrobes', 'Floorboards', 'Gas', 'SecureParking', 'Heating', 'Dishwasher', 'Study', 'FullyFenced']                                              \n",
       "\n",
       "   propertyType  bathrooms  bedrooms  carspaces  unitNumber  streetNumber  \\\n",
       "0   House        2          4         2         NaN          2              \n",
       "1   House        2          4         2         NaN          10             \n",
       "2   House        2          4         3         NaN          15             \n",
       "3   House        2          4         2         NaN          20             \n",
       "4   House        2          4         2         NaN          103            \n",
       "5   House        2          4         2         NaN          36             \n",
       "6   House        2          4         3         NaN          101            \n",
       "7   House        2          5         3         NaN          43             \n",
       "8   House        2          4         2         NaN          57             \n",
       "9   House        2          4         2         NaN          90             \n",
       "10  House        2          4         2         NaN          10             \n",
       "11  House        2          3         2         NaN          92             \n",
       "12  House        2          4         2         NaN          18             \n",
       "13  House        2          4         4         NaN          10             \n",
       "14  House        2          4         2         NaN          181            \n",
       "15  House        2          4         2         NaN          11             \n",
       "16  House        1          3         2         NaN          2              \n",
       "17  House        1          3         2         NaN          92             \n",
       "18  House        2          4         2         NaN          48             \n",
       "19  House        2          4         2         NaN          116            \n",
       "20  House        2          3         2         NaN          33             \n",
       "21  House        1          3         2         NaN          13             \n",
       "22  House        1          3         1         NaN          37             \n",
       "23  House        2          5         3         NaN          12             \n",
       "24  House        2          4         2         NaN          9              \n",
       "25  House        2          4         2         NaN          14             \n",
       "26  House        2          4         2         NaN          10             \n",
       "27  House        2          4         2         NaN          18             \n",
       "\n",
       "                  street                     area        region     suburb  \\\n",
       "0   Sturt  Place          Albury - Greater Region  Regional NSW  THURGOONA   \n",
       "1   Lindisfarne Court     Albury - Greater Region  Regional NSW  THURGOONA   \n",
       "2   Gale Court            Albury - Greater Region  Regional NSW  THURGOONA   \n",
       "3   Whittler Road         Albury - Greater Region  Regional NSW  THURGOONA   \n",
       "4   Forest Drive          Albury - Greater Region  Regional NSW  THURGOONA   \n",
       "5   Stockman Circuit      Albury - Greater Region  Regional NSW  THURGOONA   \n",
       "6   Forest Drive          Albury - Greater Region  Regional NSW  THURGOONA   \n",
       "7   Hartigan Street       Albury - Greater Region  Regional NSW  THURGOONA   \n",
       "8   Fairway Gardens Road  Albury - Greater Region  Regional NSW  THURGOONA   \n",
       "9   Honeyeater Circuit    Albury - Greater Region  Regional NSW  THURGOONA   \n",
       "10  Baw Baw Street        Albury - Greater Region  Regional NSW  THURGOONA   \n",
       "11  Pickworth Street      Albury - Greater Region  Regional NSW  THURGOONA   \n",
       "12  Cassinia  Court       Albury - Greater Region  Regional NSW  THURGOONA   \n",
       "13  Bullfrog Court        Albury - Greater Region  Regional NSW  THURGOONA   \n",
       "14  Ava Avenue            Albury - Greater Region  Regional NSW  THURGOONA   \n",
       "15  Belah Court           Albury - Greater Region  Regional NSW  THURGOONA   \n",
       "16  Hotham Circuit        Albury - Greater Region  Regional NSW  THURGOONA   \n",
       "17  Feathertop Circuit    Albury - Greater Region  Regional NSW  THURGOONA   \n",
       "18  Norman Way            Albury - Greater Region  Regional NSW  THURGOONA   \n",
       "19  Dryandra Way          Albury - Greater Region  Regional NSW  THURGOONA   \n",
       "20  Honeysuckle Street    Albury - Greater Region  Regional NSW  THURGOONA   \n",
       "21  Lacebark Court        Albury - Greater Region  Regional NSW  THURGOONA   \n",
       "22  Hotham Cct            Albury - Greater Region  Regional NSW  THURGOONA   \n",
       "23  Winnell  Court        Albury - Greater Region  Regional NSW  THURGOONA   \n",
       "24  Firetail Street       Albury - Greater Region  Regional NSW  THURGOONA   \n",
       "25  Quandong Road         Albury - Greater Region  Regional NSW  THURGOONA   \n",
       "26  Cremin Court          Albury - Greater Region  Regional NSW  THURGOONA   \n",
       "27  Zeil Circuit          Albury - Greater Region  Regional NSW  THURGOONA   \n",
       "\n",
       "    postcode                  displayableAddress   latitude   longitude  \\\n",
       "0   2640      2 Sturt  Place, Thurgoona          -36.018143  147.015686   \n",
       "1   2640      10 Lindisfarne Court, Thurgoona    -36.054200  146.997559   \n",
       "2   2640      15 Gale Court, Thurgoona           -36.039530  147.003021   \n",
       "3   2640      20 Whittler Road, Thurgoona        -36.025080  146.985428   \n",
       "4   2640      103 Forest Drive, Thurgoona        -36.046596  147.008224   \n",
       "5   2640      36 Stockman Circuit, Thurgoona     -36.055607  147.010635   \n",
       "6   2640      101 Forest Drive, Thurgoona        -36.046730  147.008667   \n",
       "7   2640      43 Hartigan Street, Thurgoona      -36.041466  146.986160   \n",
       "8   2640      57 Fairway Gardens Road, Thurgoona -36.044422  147.007141   \n",
       "9   2640      90 Honeyeater Circuit, Thurgoona   -36.037678  146.980591   \n",
       "10  2640      10 Baw Baw Street, Thurgoona       -36.052055  146.985580   \n",
       "11  2640      92 Pickworth Street, Thurgoona     -36.051174  147.007965   \n",
       "12  2640      18 Cassinia  Court, Thurgoona      -36.053780  146.976900   \n",
       "13  2640      10 Bullfrog Court, Thurgoona       -36.038013  146.982590   \n",
       "14  2640      181 Ava Avenue, Thurgoona          -36.034260  146.978134   \n",
       "15  2640      11 Belah Court, Thurgoona          -36.051617  146.977753   \n",
       "16  2640      2 Hotham Circuit, Thurgoona        -36.048830  146.989990   \n",
       "17  2640      92 Feathertop Circuit, Thurgoona   -36.051900  146.989500   \n",
       "18  2640      48 Norman Way, Thurgoona           -36.044740  147.003500   \n",
       "19  2640      116 Dryandra Way, Thurgoona        -36.052900  146.976440   \n",
       "20  2640      33 Honeysuckle Street, Thurgoona   -36.052624  146.977463   \n",
       "21  2640      13 Lacebark Court, Thurgoona       -36.045685  146.978043   \n",
       "22  2640      37 Hotham Cct, Thurgoona           -36.048275  146.991257   \n",
       "23  2640      12 Winnell  Court, Thurgoona       -36.040360  146.982941   \n",
       "24  2640      9 Firetail Street, Thurgoona       -36.037098  146.984116   \n",
       "25  2640      14 Quandong Road, Thurgoona        -36.049366  146.977000   \n",
       "26  2640      10 Cremin Court, Thurgoona         -36.047527  147.008072   \n",
       "27  2640      18 Zeil Circuit, Thurgoona         -36.050000  146.983337   \n",
       "\n",
       "    landArea          id  labels  Price (estimated)  \n",
       "0   808       2016849141 -1       676111             \n",
       "1   721       2016841907  0       652388             \n",
       "2   3093      2016819354  1       1813225            \n",
       "3   665       2016823788 -1       637560             \n",
       "4   1380      2016382640  1       855075             \n",
       "5   925       2016798090  1       709379             \n",
       "6   935       2016816192  1       747628             \n",
       "7   817       2016781446  0       989026             \n",
       "8   758       2016788918  1       662373             \n",
       "9   616       2016829918  0       624863             \n",
       "10  903       2016782387  0       703001             \n",
       "11  508       2016772952  1       430494             \n",
       "12  767       2016794201  0       664825             \n",
       "13  1044      2016823046  0       820624             \n",
       "14  603       2016798322  0       621537             \n",
       "15  651       2016828439  0       633906             \n",
       "16  850       2016806821  0       431448             \n",
       "17  809       2016829309  0       424246             \n",
       "18  819       2016810954  1       679171             \n",
       "19  722       2016722274  0       652656             \n",
       "20  810       2016797009  0       487318             \n",
       "21  715       2016788774  0       408186             \n",
       "22  703       2016760172  0       386985             \n",
       "23  813       2016719511  0       987404             \n",
       "24  594       2016669391  0       619244             \n",
       "25  634       2016645435  0       629497             \n",
       "26  800       2016796775  1       673894             \n",
       "27  594       2016818866  0       619244             "
      ]
     },
     "execution_count": 93,
     "metadata": {},
     "output_type": "execute_result"
    }
   ],
   "source": [
    "df2.head()"
   ]
  },
  {
   "cell_type": "code",
   "execution_count": null,
   "metadata": {},
   "outputs": [
    {
     "data": {
      "application/vnd.plotly.v1+json": {
       "config": {
        "plotlyServerURL": "https://plot.ly"
       },
       "data": [
        {
         "customdata": [
          [
           "House",
           4,
           2,
           "2 Sturt  Place, Thurgoona"
          ],
          [
           "House",
           4,
           2,
           "10 Lindisfarne Court, Thurgoona"
          ],
          [
           "House",
           4,
           2,
           "15 Gale Court, Thurgoona"
          ],
          [
           "House",
           4,
           2,
           "20 Whittler Road, Thurgoona"
          ],
          [
           "House",
           4,
           2,
           "103 Forest Drive, Thurgoona"
          ],
          [
           "House",
           4,
           2,
           "36 Stockman Circuit, Thurgoona"
          ],
          [
           "House",
           4,
           2,
           "101 Forest Drive, Thurgoona"
          ],
          [
           "House",
           5,
           2,
           "43 Hartigan Street, Thurgoona"
          ],
          [
           "House",
           4,
           2,
           "57 Fairway Gardens Road, Thurgoona"
          ],
          [
           "House",
           4,
           2,
           "90 Honeyeater Circuit, Thurgoona"
          ],
          [
           "House",
           4,
           2,
           "10 Baw Baw Street, Thurgoona"
          ],
          [
           "House",
           3,
           2,
           "92 Pickworth Street, Thurgoona"
          ],
          [
           "House",
           4,
           2,
           "18 Cassinia  Court, Thurgoona"
          ],
          [
           "House",
           4,
           2,
           "10 Bullfrog Court, Thurgoona"
          ],
          [
           "House",
           4,
           2,
           "181 Ava Avenue, Thurgoona"
          ],
          [
           "House",
           4,
           2,
           "11 Belah Court, Thurgoona"
          ],
          [
           "House",
           3,
           1,
           "2 Hotham Circuit, Thurgoona"
          ],
          [
           "House",
           3,
           1,
           "92 Feathertop Circuit, Thurgoona"
          ],
          [
           "House",
           4,
           2,
           "48 Norman Way, Thurgoona"
          ],
          [
           "House",
           4,
           2,
           "116 Dryandra Way, Thurgoona"
          ],
          [
           "House",
           3,
           2,
           "33 Honeysuckle Street, Thurgoona"
          ],
          [
           "House",
           3,
           1,
           "13 Lacebark Court, Thurgoona"
          ],
          [
           "House",
           3,
           1,
           "37 Hotham Cct, Thurgoona"
          ],
          [
           "House",
           5,
           2,
           "12 Winnell  Court, Thurgoona"
          ],
          [
           "House",
           4,
           2,
           "9 Firetail Street, Thurgoona"
          ],
          [
           "House",
           4,
           2,
           "14 Quandong Road, Thurgoona"
          ],
          [
           "House",
           4,
           2,
           "10 Cremin Court, Thurgoona"
          ],
          [
           "House",
           4,
           2,
           "18 Zeil Circuit, Thurgoona"
          ]
         ],
         "hovertemplate": "<b>%{hovertext}</b><br><br>landArea=%{marker.size}<br>latitude=%{lat}<br>longitude=%{lon}<br>propertyType=%{customdata[0]}<br>bedrooms=%{customdata[1]}<br>bathrooms=%{customdata[2]}<br>displayableAddress=%{customdata[3]}<br>Price (estimated)=%{marker.color}<extra></extra>",
         "hovertext": [
          2016849141,
          2016841907,
          2016819354,
          2016823788,
          2016382640,
          2016798090,
          2016816192,
          2016781446,
          2016788918,
          2016829918,
          2016782387,
          2016772952,
          2016794201,
          2016823046,
          2016798322,
          2016828439,
          2016806821,
          2016829309,
          2016810954,
          2016722274,
          2016797009,
          2016788774,
          2016760172,
          2016719511,
          2016669391,
          2016645435,
          2016796775,
          2016818866
         ],
         "lat": [
          -36.018142700000006,
          -36.0542,
          -36.03953,
          -36.025079999999996,
          -36.0465965,
          -36.0556068,
          -36.04673,
          -36.0414658,
          -36.0444221,
          -36.0376778,
          -36.0520554,
          -36.051174200000005,
          -36.053779999999996,
          -36.0380135,
          -36.034259999999996,
          -36.051616700000004,
          -36.04883,
          -36.0519,
          -36.044740000000004,
          -36.0529,
          -36.052623700000005,
          -36.0456848,
          -36.048275,
          -36.04036,
          -36.0370979,
          -36.049366,
          -36.0475273,
          -36.05
         ],
         "legendgroup": "",
         "lon": [
          147.01568600000002,
          146.997559,
          147.003021,
          146.985428,
          147.008224,
          147.010635,
          147.008667,
          146.98616,
          147.007141,
          146.980591,
          146.98558,
          147.00796499999998,
          146.9769,
          146.98259,
          146.978134,
          146.977753,
          146.98998999999998,
          146.9895,
          147.0035,
          146.97644,
          146.977463,
          146.97804299999999,
          146.99125700000002,
          146.98294099999998,
          146.984116,
          146.977,
          147.008072,
          146.983337
         ],
         "marker": {
          "color": [
           676111,
           652388,
           1813225,
           637560,
           855075,
           709379,
           747628,
           989026,
           662373,
           624863,
           703001,
           430494,
           664825,
           820624,
           621537,
           633906,
           431448,
           424246,
           679171,
           652656,
           487318,
           408186,
           386985,
           987404,
           619244,
           629497,
           673894,
           619244
          ],
          "coloraxis": "coloraxis",
          "size": [
           808,
           721,
           3093,
           665,
           1380,
           925,
           935,
           817,
           758,
           616,
           903,
           508,
           767,
           1044,
           603,
           651,
           850,
           809,
           819,
           722,
           810,
           715,
           703,
           813,
           594,
           634,
           800,
           594
          ],
          "sizemode": "area",
          "sizeref": 7.7325
         },
         "mode": "markers",
         "name": "",
         "showlegend": false,
         "subplot": "mapbox",
         "type": "scattermapbox"
        }
       ],
       "layout": {
        "coloraxis": {
         "colorbar": {
          "title": {
           "text": "Price (estimated)"
          }
         },
         "colorscale": [
          [
           0,
           "#0d0887"
          ],
          [
           0.1111111111111111,
           "#46039f"
          ],
          [
           0.2222222222222222,
           "#7201a8"
          ],
          [
           0.3333333333333333,
           "#9c179e"
          ],
          [
           0.4444444444444444,
           "#bd3786"
          ],
          [
           0.5555555555555556,
           "#d8576b"
          ],
          [
           0.6666666666666666,
           "#ed7953"
          ],
          [
           0.7777777777777778,
           "#fb9f3a"
          ],
          [
           0.8888888888888888,
           "#fdca26"
          ],
          [
           1,
           "#f0f921"
          ]
         ]
        },
        "height": 600,
        "legend": {
         "itemsizing": "constant",
         "tracegroupgap": 0
        },
        "mapbox": {
         "center": {
          "lat": -36.04498772142857,
          "lon": 146.9912033214286
         },
         "domain": {
          "x": [
           0,
           1
          ],
          "y": [
           0,
           1
          ]
         },
         "style": "open-street-map",
         "zoom": 15
        },
        "margin": {
         "b": 0,
         "l": 0,
         "r": 0,
         "t": 0
        },
        "template": {
         "data": {
          "bar": [
           {
            "error_x": {
             "color": "#2a3f5f"
            },
            "error_y": {
             "color": "#2a3f5f"
            },
            "marker": {
             "line": {
              "color": "#E5ECF6",
              "width": 0.5
             }
            },
            "type": "bar"
           }
          ],
          "barpolar": [
           {
            "marker": {
             "line": {
              "color": "#E5ECF6",
              "width": 0.5
             }
            },
            "type": "barpolar"
           }
          ],
          "carpet": [
           {
            "aaxis": {
             "endlinecolor": "#2a3f5f",
             "gridcolor": "white",
             "linecolor": "white",
             "minorgridcolor": "white",
             "startlinecolor": "#2a3f5f"
            },
            "baxis": {
             "endlinecolor": "#2a3f5f",
             "gridcolor": "white",
             "linecolor": "white",
             "minorgridcolor": "white",
             "startlinecolor": "#2a3f5f"
            },
            "type": "carpet"
           }
          ],
          "choropleth": [
           {
            "colorbar": {
             "outlinewidth": 0,
             "ticks": ""
            },
            "type": "choropleth"
           }
          ],
          "contour": [
           {
            "colorbar": {
             "outlinewidth": 0,
             "ticks": ""
            },
            "colorscale": [
             [
              0,
              "#0d0887"
             ],
             [
              0.1111111111111111,
              "#46039f"
             ],
             [
              0.2222222222222222,
              "#7201a8"
             ],
             [
              0.3333333333333333,
              "#9c179e"
             ],
             [
              0.4444444444444444,
              "#bd3786"
             ],
             [
              0.5555555555555556,
              "#d8576b"
             ],
             [
              0.6666666666666666,
              "#ed7953"
             ],
             [
              0.7777777777777778,
              "#fb9f3a"
             ],
             [
              0.8888888888888888,
              "#fdca26"
             ],
             [
              1,
              "#f0f921"
             ]
            ],
            "type": "contour"
           }
          ],
          "contourcarpet": [
           {
            "colorbar": {
             "outlinewidth": 0,
             "ticks": ""
            },
            "type": "contourcarpet"
           }
          ],
          "heatmap": [
           {
            "colorbar": {
             "outlinewidth": 0,
             "ticks": ""
            },
            "colorscale": [
             [
              0,
              "#0d0887"
             ],
             [
              0.1111111111111111,
              "#46039f"
             ],
             [
              0.2222222222222222,
              "#7201a8"
             ],
             [
              0.3333333333333333,
              "#9c179e"
             ],
             [
              0.4444444444444444,
              "#bd3786"
             ],
             [
              0.5555555555555556,
              "#d8576b"
             ],
             [
              0.6666666666666666,
              "#ed7953"
             ],
             [
              0.7777777777777778,
              "#fb9f3a"
             ],
             [
              0.8888888888888888,
              "#fdca26"
             ],
             [
              1,
              "#f0f921"
             ]
            ],
            "type": "heatmap"
           }
          ],
          "heatmapgl": [
           {
            "colorbar": {
             "outlinewidth": 0,
             "ticks": ""
            },
            "colorscale": [
             [
              0,
              "#0d0887"
             ],
             [
              0.1111111111111111,
              "#46039f"
             ],
             [
              0.2222222222222222,
              "#7201a8"
             ],
             [
              0.3333333333333333,
              "#9c179e"
             ],
             [
              0.4444444444444444,
              "#bd3786"
             ],
             [
              0.5555555555555556,
              "#d8576b"
             ],
             [
              0.6666666666666666,
              "#ed7953"
             ],
             [
              0.7777777777777778,
              "#fb9f3a"
             ],
             [
              0.8888888888888888,
              "#fdca26"
             ],
             [
              1,
              "#f0f921"
             ]
            ],
            "type": "heatmapgl"
           }
          ],
          "histogram": [
           {
            "marker": {
             "colorbar": {
              "outlinewidth": 0,
              "ticks": ""
             }
            },
            "type": "histogram"
           }
          ],
          "histogram2d": [
           {
            "colorbar": {
             "outlinewidth": 0,
             "ticks": ""
            },
            "colorscale": [
             [
              0,
              "#0d0887"
             ],
             [
              0.1111111111111111,
              "#46039f"
             ],
             [
              0.2222222222222222,
              "#7201a8"
             ],
             [
              0.3333333333333333,
              "#9c179e"
             ],
             [
              0.4444444444444444,
              "#bd3786"
             ],
             [
              0.5555555555555556,
              "#d8576b"
             ],
             [
              0.6666666666666666,
              "#ed7953"
             ],
             [
              0.7777777777777778,
              "#fb9f3a"
             ],
             [
              0.8888888888888888,
              "#fdca26"
             ],
             [
              1,
              "#f0f921"
             ]
            ],
            "type": "histogram2d"
           }
          ],
          "histogram2dcontour": [
           {
            "colorbar": {
             "outlinewidth": 0,
             "ticks": ""
            },
            "colorscale": [
             [
              0,
              "#0d0887"
             ],
             [
              0.1111111111111111,
              "#46039f"
             ],
             [
              0.2222222222222222,
              "#7201a8"
             ],
             [
              0.3333333333333333,
              "#9c179e"
             ],
             [
              0.4444444444444444,
              "#bd3786"
             ],
             [
              0.5555555555555556,
              "#d8576b"
             ],
             [
              0.6666666666666666,
              "#ed7953"
             ],
             [
              0.7777777777777778,
              "#fb9f3a"
             ],
             [
              0.8888888888888888,
              "#fdca26"
             ],
             [
              1,
              "#f0f921"
             ]
            ],
            "type": "histogram2dcontour"
           }
          ],
          "mesh3d": [
           {
            "colorbar": {
             "outlinewidth": 0,
             "ticks": ""
            },
            "type": "mesh3d"
           }
          ],
          "parcoords": [
           {
            "line": {
             "colorbar": {
              "outlinewidth": 0,
              "ticks": ""
             }
            },
            "type": "parcoords"
           }
          ],
          "pie": [
           {
            "automargin": true,
            "type": "pie"
           }
          ],
          "scatter": [
           {
            "marker": {
             "colorbar": {
              "outlinewidth": 0,
              "ticks": ""
             }
            },
            "type": "scatter"
           }
          ],
          "scatter3d": [
           {
            "line": {
             "colorbar": {
              "outlinewidth": 0,
              "ticks": ""
             }
            },
            "marker": {
             "colorbar": {
              "outlinewidth": 0,
              "ticks": ""
             }
            },
            "type": "scatter3d"
           }
          ],
          "scattercarpet": [
           {
            "marker": {
             "colorbar": {
              "outlinewidth": 0,
              "ticks": ""
             }
            },
            "type": "scattercarpet"
           }
          ],
          "scattergeo": [
           {
            "marker": {
             "colorbar": {
              "outlinewidth": 0,
              "ticks": ""
             }
            },
            "type": "scattergeo"
           }
          ],
          "scattergl": [
           {
            "marker": {
             "colorbar": {
              "outlinewidth": 0,
              "ticks": ""
             }
            },
            "type": "scattergl"
           }
          ],
          "scattermapbox": [
           {
            "marker": {
             "colorbar": {
              "outlinewidth": 0,
              "ticks": ""
             }
            },
            "type": "scattermapbox"
           }
          ],
          "scatterpolar": [
           {
            "marker": {
             "colorbar": {
              "outlinewidth": 0,
              "ticks": ""
             }
            },
            "type": "scatterpolar"
           }
          ],
          "scatterpolargl": [
           {
            "marker": {
             "colorbar": {
              "outlinewidth": 0,
              "ticks": ""
             }
            },
            "type": "scatterpolargl"
           }
          ],
          "scatterternary": [
           {
            "marker": {
             "colorbar": {
              "outlinewidth": 0,
              "ticks": ""
             }
            },
            "type": "scatterternary"
           }
          ],
          "surface": [
           {
            "colorbar": {
             "outlinewidth": 0,
             "ticks": ""
            },
            "colorscale": [
             [
              0,
              "#0d0887"
             ],
             [
              0.1111111111111111,
              "#46039f"
             ],
             [
              0.2222222222222222,
              "#7201a8"
             ],
             [
              0.3333333333333333,
              "#9c179e"
             ],
             [
              0.4444444444444444,
              "#bd3786"
             ],
             [
              0.5555555555555556,
              "#d8576b"
             ],
             [
              0.6666666666666666,
              "#ed7953"
             ],
             [
              0.7777777777777778,
              "#fb9f3a"
             ],
             [
              0.8888888888888888,
              "#fdca26"
             ],
             [
              1,
              "#f0f921"
             ]
            ],
            "type": "surface"
           }
          ],
          "table": [
           {
            "cells": {
             "fill": {
              "color": "#EBF0F8"
             },
             "line": {
              "color": "white"
             }
            },
            "header": {
             "fill": {
              "color": "#C8D4E3"
             },
             "line": {
              "color": "white"
             }
            },
            "type": "table"
           }
          ]
         },
         "layout": {
          "annotationdefaults": {
           "arrowcolor": "#2a3f5f",
           "arrowhead": 0,
           "arrowwidth": 1
          },
          "autotypenumbers": "strict",
          "coloraxis": {
           "colorbar": {
            "outlinewidth": 0,
            "ticks": ""
           }
          },
          "colorscale": {
           "diverging": [
            [
             0,
             "#8e0152"
            ],
            [
             0.1,
             "#c51b7d"
            ],
            [
             0.2,
             "#de77ae"
            ],
            [
             0.3,
             "#f1b6da"
            ],
            [
             0.4,
             "#fde0ef"
            ],
            [
             0.5,
             "#f7f7f7"
            ],
            [
             0.6,
             "#e6f5d0"
            ],
            [
             0.7,
             "#b8e186"
            ],
            [
             0.8,
             "#7fbc41"
            ],
            [
             0.9,
             "#4d9221"
            ],
            [
             1,
             "#276419"
            ]
           ],
           "sequential": [
            [
             0,
             "#0d0887"
            ],
            [
             0.1111111111111111,
             "#46039f"
            ],
            [
             0.2222222222222222,
             "#7201a8"
            ],
            [
             0.3333333333333333,
             "#9c179e"
            ],
            [
             0.4444444444444444,
             "#bd3786"
            ],
            [
             0.5555555555555556,
             "#d8576b"
            ],
            [
             0.6666666666666666,
             "#ed7953"
            ],
            [
             0.7777777777777778,
             "#fb9f3a"
            ],
            [
             0.8888888888888888,
             "#fdca26"
            ],
            [
             1,
             "#f0f921"
            ]
           ],
           "sequentialminus": [
            [
             0,
             "#0d0887"
            ],
            [
             0.1111111111111111,
             "#46039f"
            ],
            [
             0.2222222222222222,
             "#7201a8"
            ],
            [
             0.3333333333333333,
             "#9c179e"
            ],
            [
             0.4444444444444444,
             "#bd3786"
            ],
            [
             0.5555555555555556,
             "#d8576b"
            ],
            [
             0.6666666666666666,
             "#ed7953"
            ],
            [
             0.7777777777777778,
             "#fb9f3a"
            ],
            [
             0.8888888888888888,
             "#fdca26"
            ],
            [
             1,
             "#f0f921"
            ]
           ]
          },
          "colorway": [
           "#636efa",
           "#EF553B",
           "#00cc96",
           "#ab63fa",
           "#FFA15A",
           "#19d3f3",
           "#FF6692",
           "#B6E880",
           "#FF97FF",
           "#FECB52"
          ],
          "font": {
           "color": "#2a3f5f"
          },
          "geo": {
           "bgcolor": "white",
           "lakecolor": "white",
           "landcolor": "#E5ECF6",
           "showlakes": true,
           "showland": true,
           "subunitcolor": "white"
          },
          "hoverlabel": {
           "align": "left"
          },
          "hovermode": "closest",
          "mapbox": {
           "style": "light"
          },
          "paper_bgcolor": "white",
          "plot_bgcolor": "#E5ECF6",
          "polar": {
           "angularaxis": {
            "gridcolor": "white",
            "linecolor": "white",
            "ticks": ""
           },
           "bgcolor": "#E5ECF6",
           "radialaxis": {
            "gridcolor": "white",
            "linecolor": "white",
            "ticks": ""
           }
          },
          "scene": {
           "xaxis": {
            "backgroundcolor": "#E5ECF6",
            "gridcolor": "white",
            "gridwidth": 2,
            "linecolor": "white",
            "showbackground": true,
            "ticks": "",
            "zerolinecolor": "white"
           },
           "yaxis": {
            "backgroundcolor": "#E5ECF6",
            "gridcolor": "white",
            "gridwidth": 2,
            "linecolor": "white",
            "showbackground": true,
            "ticks": "",
            "zerolinecolor": "white"
           },
           "zaxis": {
            "backgroundcolor": "#E5ECF6",
            "gridcolor": "white",
            "gridwidth": 2,
            "linecolor": "white",
            "showbackground": true,
            "ticks": "",
            "zerolinecolor": "white"
           }
          },
          "shapedefaults": {
           "line": {
            "color": "#2a3f5f"
           }
          },
          "ternary": {
           "aaxis": {
            "gridcolor": "white",
            "linecolor": "white",
            "ticks": ""
           },
           "baxis": {
            "gridcolor": "white",
            "linecolor": "white",
            "ticks": ""
           },
           "bgcolor": "#E5ECF6",
           "caxis": {
            "gridcolor": "white",
            "linecolor": "white",
            "ticks": ""
           }
          },
          "title": {
           "x": 0.05
          },
          "xaxis": {
           "automargin": true,
           "gridcolor": "white",
           "linecolor": "white",
           "ticks": "",
           "title": {
            "standoff": 15
           },
           "zerolinecolor": "white",
           "zerolinewidth": 2
          },
          "yaxis": {
           "automargin": true,
           "gridcolor": "white",
           "linecolor": "white",
           "ticks": "",
           "title": {
            "standoff": 15
           },
           "zerolinecolor": "white",
           "zerolinewidth": 2
          }
         }
        }
       }
      }
     },
     "metadata": {},
     "output_type": "display_data"
    }
   ],
   "source": [
    "import plotly.express as px\n",
    "\n",
    "fig = px.scatter_mapbox(df2, lat=\"latitude\", lon=\"longitude\", hover_name=\"id\", color = \"Price (estimated)\", size = \"landArea\", hover_data=[\"propertyType\", \"bedrooms\", \"bathrooms\", \"displayableAddress\"],zoom=15, height=600)\n",
    "fig.update_layout(mapbox_style=\"open-street-map\")\n",
    "fig.update_layout(margin={\"r\":0,\"t\":0,\"l\":0,\"b\":0})\n",
    "fig.show()"
   ]
  },
  {
   "cell_type": "markdown",
   "metadata": {},
   "source": [
    "# End of Notebook"
   ]
  }
 ],
 "metadata": {
  "kernelspec": {
   "display_name": "Python 3.8.6 64-bit",
   "metadata": {
    "interpreter": {
     "hash": "916dbcbb3f70747c44a77c7bcd40155683ae19c65e1c03b4aa3499c5328201f1"
    }
   },
   "name": "python3"
  },
  "language_info": {
   "codemirror_mode": {
    "name": "ipython",
    "version": 3
   },
   "file_extension": ".py",
   "mimetype": "text/x-python",
   "name": "python",
   "nbconvert_exporter": "python",
   "pygments_lexer": "ipython3",
   "version": "3.9.7"
  },
  "orig_nbformat": 2
 },
 "nbformat": 4,
 "nbformat_minor": 2
}
